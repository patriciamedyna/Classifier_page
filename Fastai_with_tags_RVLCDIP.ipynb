{
  "cells": [
    {
      "cell_type": "markdown",
      "metadata": {
        "id": "view-in-github",
        "colab_type": "text"
      },
      "source": [
        "<a href=\"https://colab.research.google.com/github/patriciamedyna/Classifier_page/blob/main/Fastai_with_tags_RVLCDIP.ipynb\" target=\"_parent\"><img src=\"https://colab.research.google.com/assets/colab-badge.svg\" alt=\"Open In Colab\"/></a>"
      ]
    },
    {
      "cell_type": "code",
      "execution_count": 1,
      "metadata": {
        "id": "UJr_N-oGWpgm"
      },
      "outputs": [],
      "source": [
        "! [ -e /content ] && pip install -Uqq fastai"
      ]
    },
    {
      "cell_type": "code",
      "execution_count": 2,
      "metadata": {
        "id": "yaH3SUzZjuA-"
      },
      "outputs": [],
      "source": [
        "#hide\n",
        "!pip install -Uqq fastbook\n",
        "import fastbook"
      ]
    },
    {
      "cell_type": "code",
      "execution_count": 3,
      "metadata": {
        "id": "ZZ_arKKyj3Co"
      },
      "outputs": [],
      "source": [
        "#hide\n",
        "from fastbook import *\n",
        "from IPython.display import display,HTML"
      ]
    },
    {
      "cell_type": "code",
      "execution_count": 4,
      "metadata": {
        "id": "-gu3NxcBirzx"
      },
      "outputs": [],
      "source": [
        "from fastai.basics import *\n",
        "from fastai.text.core import *\n",
        "from fastai.text.data import *\n",
        "from fastai.text.models.core import *\n",
        "from fastai.text.models.awdlstm import *\n",
        "from fastai.callback.rnn import *\n",
        "from fastai.callback.progress import *"
      ]
    },
    {
      "cell_type": "code",
      "execution_count": 5,
      "metadata": {
        "colab": {
          "base_uri": "https://localhost:8080/"
        },
        "id": "51jgSOs8zZrX",
        "outputId": "bc4c660e-59b7-49fd-9648-1e2e92e3c6c1"
      },
      "outputs": [
        {
          "output_type": "stream",
          "name": "stdout",
          "text": [
            "Drive already mounted at /content/drive; to attempt to forcibly remount, call drive.mount(\"/content/drive\", force_remount=True).\n"
          ]
        }
      ],
      "source": [
        "from google.colab import drive\n",
        "drive.mount('/content/drive')"
      ]
    },
    {
      "cell_type": "code",
      "execution_count": 6,
      "metadata": {
        "id": "F3fCSD3QmMF_"
      },
      "outputs": [],
      "source": [
        "path = '/content/drive/MyDrive/Colab Notebooks/Datasets/RVL_CDIP/labels/'\n",
        "df_train = pd.read_csv(path + 'train_tags.csv', delimiter=',', error_bad_lines=False)"
      ]
    },
    {
      "cell_type": "code",
      "execution_count": 7,
      "metadata": {
        "colab": {
          "base_uri": "https://localhost:8080/",
          "height": 615
        },
        "id": "mQDKLPV-GsOh",
        "outputId": "00a91d16-2da5-4011-dc14-06757a08f975"
      },
      "outputs": [
        {
          "output_type": "execute_result",
          "data": {
            "text/html": [
              "\n",
              "  <div id=\"df-6bf508b8-1bbd-4ec9-9937-1c4b3f582e67\">\n",
              "    <div class=\"colab-df-container\">\n",
              "      <div>\n",
              "<style scoped>\n",
              "    .dataframe tbody tr th:only-of-type {\n",
              "        vertical-align: middle;\n",
              "    }\n",
              "\n",
              "    .dataframe tbody tr th {\n",
              "        vertical-align: top;\n",
              "    }\n",
              "\n",
              "    .dataframe thead th {\n",
              "        text-align: right;\n",
              "    }\n",
              "</style>\n",
              "<table border=\"1\" class=\"dataframe\">\n",
              "  <thead>\n",
              "    <tr style=\"text-align: right;\">\n",
              "      <th></th>\n",
              "      <th>path</th>\n",
              "      <th>label</th>\n",
              "      <th>texttags</th>\n",
              "    </tr>\n",
              "  </thead>\n",
              "  <tbody>\n",
              "    <tr>\n",
              "      <th>0</th>\n",
              "      <td>imagese/e/w/c/ewc23d00/513280028.tif</td>\n",
              "      <td>1</td>\n",
              "      <td>\\nxxQ00_01 xxbob 7002 00 OF\\nxxeob xxQ00_01\\n\\nxxQ00_00xxbob P (2 DOCUMENT CLEARANCE SHEET\\nxxbcet (For Original Contracts Only) xxecet\\n2004-00-00\\nCONTRACT #\\nCONTRACT SUBJECT: \\TCHBL 1\\nxxbcet COMPANY: |. BEI INS BRAND(s): _CAMEL xxecet\\nTOTAL COST: _$528,000 CURRENT YEAR EFO: _($528,000:\\nxxeob xxQ00_01\\n\\nxxQ00_00xxbob xxbcet BRIEF DESCRIPTION: _D. D. BEAN WILL PRODUCE AND DISTRIBUTE UP TO 264,000 CASES _ xxecet\\nOF PRINTED CAMEL ADVERTISING ON MATCHBOOKS,\\nPROGRAM]\\nG/L CODE: 04-73-4600-8215-855 LINE ITEM: 200737-072402\\n*IMPLEMENTOR: _S. B. DRISKE! **BRAND MANAGEMENT: __E. C. LEARY....</td>\n",
              "    </tr>\n",
              "    <tr>\n",
              "      <th>1</th>\n",
              "      <td>imagesw/w/b/t/wbt26e00/2053453161.tif</td>\n",
              "      <td>7</td>\n",
              "      <td>\\nxxQ00_00 xxbob ‘CABARRUS COUNTY\\nxxeob xxQ00_00\\n\\nxxQ00_01xxbob EFFECTIVE DATE: 03/08/93,\\nxxeob xxQ00_01\\n\\nxxQ01_00xxbob  \\nxxeob xxQ01_01\\n\\nxxQ01_00xxbob    \\nxxeob xxQ02_00\\n\\nxxQ02_00xxbob  \\nxxeob xxQ02_00\\n\\nxxQ00_00xxbob MARLBORO 100 REGULAR SP RED STANOARO. PRODUCTION\\nBRAND CODE-00540 (S10)\\nCIoARETTE LENGTH =: 99.5, mM FTOTAR «16.0 Movolor 15.5 17.4\\n=\\nToBAcco TOBACCO ROD ROD ciRcUM, LENGTH —: reo 24.80 va vt\\nTipp FicTER ine LeneTh LENGTH 311500 ans 14 vot\\nTOTAL R.T.0, leo aM, W20\\nDILUTION TARGET 14.0 +/- 5.0 %\\nTIPPING PAPER /USE UP: 631M X 3000! coRK DGL Eo-T01 12-4l-B...</td>\n",
              "    </tr>\n",
              "    <tr>\n",
              "      <th>2</th>\n",
              "      <td>imagesm/m/k/m/mkm05e00/2040792992_2040792994.tif</td>\n",
              "      <td>10</td>\n",
              "      <td>\\nxxQ00_00 xxbob 4 LEO BURNETT U.S.A.\\nxxeob xxQ00_00\\n\\nxxQ00_00xxbob  \\nxxeob xxQ00_00\\n\\nxxQ00_00xxbob ADVERTISING NEWSPAPER\\n:\\n. ESTIMATE RECKP PNOt\\n~\\nPERIOD DATE 03/08/81\\n01/01/80 70 12/31/80 PAGE 1\\nCLIENT: P.M. INC. OFFICE: 10 DESC: 703A MARLBORO RED ROP\\nxxeob xxQ00_01\\n\\nxxQ00_00xxbob EST NO: 0008 REVISES EST DTD 02/08/91\\nxxeob xxQ00_00\\n\\nxxQ00_00xxbob PRopucT PeRTOD cross. AMOUNT CHANGE Ross. Gross\\nLESS C/D\\ntO-MARLBORO Fee YAN 1990 8,624.00 8,624.00\\nmar 68,982.00 25,872.00 28,872.00\\n8,992.00 .00\\nQUARTER + 103,488.00 103488\\nmay AeR 98,403.06 88,403.06\\n71,868.00 71,868...</td>\n",
              "    </tr>\n",
              "    <tr>\n",
              "      <th>3</th>\n",
              "      <td>imageso/o/e/x/oex80d00/522787731+-7732.tif</td>\n",
              "      <td>3</td>\n",
              "      <td>\\nxxQ00_01 xxbob 1\\n2\\nOFF\\nApc aia\\no\\nxxbcet BMS xxecet\\nreli cermowe eee\\nery\\n78H\\n.\\nxxeob xxQ02_01\\n\\nxxQ00_00xxbob  \\nxxeob xxQ02_00\\n</td>\n",
              "    </tr>\n",
              "    <tr>\n",
              "      <th>4</th>\n",
              "      <td>imagesq/q/v/t/qvt06d00/50525666-5667.tif</td>\n",
              "      <td>14</td>\n",
              "      <td>\\nxxQ00_00 xxbob CURRICULUM VITAE:\\nxxeob xxQ00_00\\n\\nxxQ00_01xxbob  \\nxxeob xxQ00_01\\n\\nxxQ00_01xxbob  \\nxxeob xxQ00_01\\n\\nxxQ00_00xxbob Name: tzhack Polacheck, Ph.D. Position Title: Assoc. Prof,\\nEDUCATION:\\nInstitution and Location Degree Year Field of Study\\nHebrew University Jerusalem, Israel BSe 1969 Bichemisiry &amp; Microbiology\\nHebrew University Jerusalem, Israel MSc. 1971 Microbiology\\nHebrew University Jerusalem, Israel PhD. 1977 Microbiology\\nNIAMD, NIH, MD, USA. Post. Doc. 1978 Microbivlony\\nNIAID, NIH, MD, USA Post Dec. 1981 Medical Mycology\\nProfessional Experience: Jerusalem, ...</td>\n",
              "    </tr>\n",
              "  </tbody>\n",
              "</table>\n",
              "</div>\n",
              "      <button class=\"colab-df-convert\" onclick=\"convertToInteractive('df-6bf508b8-1bbd-4ec9-9937-1c4b3f582e67')\"\n",
              "              title=\"Convert this dataframe to an interactive table.\"\n",
              "              style=\"display:none;\">\n",
              "        \n",
              "  <svg xmlns=\"http://www.w3.org/2000/svg\" height=\"24px\"viewBox=\"0 0 24 24\"\n",
              "       width=\"24px\">\n",
              "    <path d=\"M0 0h24v24H0V0z\" fill=\"none\"/>\n",
              "    <path d=\"M18.56 5.44l.94 2.06.94-2.06 2.06-.94-2.06-.94-.94-2.06-.94 2.06-2.06.94zm-11 1L8.5 8.5l.94-2.06 2.06-.94-2.06-.94L8.5 2.5l-.94 2.06-2.06.94zm10 10l.94 2.06.94-2.06 2.06-.94-2.06-.94-.94-2.06-.94 2.06-2.06.94z\"/><path d=\"M17.41 7.96l-1.37-1.37c-.4-.4-.92-.59-1.43-.59-.52 0-1.04.2-1.43.59L10.3 9.45l-7.72 7.72c-.78.78-.78 2.05 0 2.83L4 21.41c.39.39.9.59 1.41.59.51 0 1.02-.2 1.41-.59l7.78-7.78 2.81-2.81c.8-.78.8-2.07 0-2.86zM5.41 20L4 18.59l7.72-7.72 1.47 1.35L5.41 20z\"/>\n",
              "  </svg>\n",
              "      </button>\n",
              "      \n",
              "  <style>\n",
              "    .colab-df-container {\n",
              "      display:flex;\n",
              "      flex-wrap:wrap;\n",
              "      gap: 12px;\n",
              "    }\n",
              "\n",
              "    .colab-df-convert {\n",
              "      background-color: #E8F0FE;\n",
              "      border: none;\n",
              "      border-radius: 50%;\n",
              "      cursor: pointer;\n",
              "      display: none;\n",
              "      fill: #1967D2;\n",
              "      height: 32px;\n",
              "      padding: 0 0 0 0;\n",
              "      width: 32px;\n",
              "    }\n",
              "\n",
              "    .colab-df-convert:hover {\n",
              "      background-color: #E2EBFA;\n",
              "      box-shadow: 0px 1px 2px rgba(60, 64, 67, 0.3), 0px 1px 3px 1px rgba(60, 64, 67, 0.15);\n",
              "      fill: #174EA6;\n",
              "    }\n",
              "\n",
              "    [theme=dark] .colab-df-convert {\n",
              "      background-color: #3B4455;\n",
              "      fill: #D2E3FC;\n",
              "    }\n",
              "\n",
              "    [theme=dark] .colab-df-convert:hover {\n",
              "      background-color: #434B5C;\n",
              "      box-shadow: 0px 1px 3px 1px rgba(0, 0, 0, 0.15);\n",
              "      filter: drop-shadow(0px 1px 2px rgba(0, 0, 0, 0.3));\n",
              "      fill: #FFFFFF;\n",
              "    }\n",
              "  </style>\n",
              "\n",
              "      <script>\n",
              "        const buttonEl =\n",
              "          document.querySelector('#df-6bf508b8-1bbd-4ec9-9937-1c4b3f582e67 button.colab-df-convert');\n",
              "        buttonEl.style.display =\n",
              "          google.colab.kernel.accessAllowed ? 'block' : 'none';\n",
              "\n",
              "        async function convertToInteractive(key) {\n",
              "          const element = document.querySelector('#df-6bf508b8-1bbd-4ec9-9937-1c4b3f582e67');\n",
              "          const dataTable =\n",
              "            await google.colab.kernel.invokeFunction('convertToInteractive',\n",
              "                                                     [key], {});\n",
              "          if (!dataTable) return;\n",
              "\n",
              "          const docLinkHtml = 'Like what you see? Visit the ' +\n",
              "            '<a target=\"_blank\" href=https://colab.research.google.com/notebooks/data_table.ipynb>data table notebook</a>'\n",
              "            + ' to learn more about interactive tables.';\n",
              "          element.innerHTML = '';\n",
              "          dataTable['output_type'] = 'display_data';\n",
              "          await google.colab.output.renderOutput(dataTable, element);\n",
              "          const docLink = document.createElement('div');\n",
              "          docLink.innerHTML = docLinkHtml;\n",
              "          element.appendChild(docLink);\n",
              "        }\n",
              "      </script>\n",
              "    </div>\n",
              "  </div>\n",
              "  "
            ],
            "text/plain": [
              "                                               path  label  \\\n",
              "0              imagese/e/w/c/ewc23d00/513280028.tif      1   \n",
              "1             imagesw/w/b/t/wbt26e00/2053453161.tif      7   \n",
              "2  imagesm/m/k/m/mkm05e00/2040792992_2040792994.tif     10   \n",
              "3        imageso/o/e/x/oex80d00/522787731+-7732.tif      3   \n",
              "4          imagesq/q/v/t/qvt06d00/50525666-5667.tif     14   \n",
              "\n",
              "                                                                                                                                                                                                                                                                                                                                                                                                                                                                                                                                                                                                                  texttags  \n",
              "0  \\nxxQ00_01 xxbob 7002 00 OF\\nxxeob xxQ00_01\\n\\nxxQ00_00xxbob P (2 DOCUMENT CLEARANCE SHEET\\nxxbcet (For Original Contracts Only) xxecet\\n2004-00-00\\nCONTRACT #\\nCONTRACT SUBJECT: \\TCHBL 1\\nxxbcet COMPANY: |. BEI INS BRAND(s): _CAMEL xxecet\\nTOTAL COST: _$528,000 CURRENT YEAR EFO: _($528,000:\\nxxeob xxQ00_01\\n\\nxxQ00_00xxbob xxbcet BRIEF DESCRIPTION: _D. D. BEAN WILL PRODUCE AND DISTRIBUTE UP TO 264,000 CASES _ xxecet\\nOF PRINTED CAMEL ADVERTISING ON MATCHBOOKS,\\nPROGRAM]\\nG/L CODE: 04-73-4600-8215-855 LINE ITEM: 200737-072402\\n*IMPLEMENTOR: _S. B. DRISKE! **BRAND MANAGEMENT: __E. C. LEARY....  \n",
              "1  \\nxxQ00_00 xxbob ‘CABARRUS COUNTY\\nxxeob xxQ00_00\\n\\nxxQ00_01xxbob EFFECTIVE DATE: 03/08/93,\\nxxeob xxQ00_01\\n\\nxxQ01_00xxbob  \\nxxeob xxQ01_01\\n\\nxxQ01_00xxbob    \\nxxeob xxQ02_00\\n\\nxxQ02_00xxbob  \\nxxeob xxQ02_00\\n\\nxxQ00_00xxbob MARLBORO 100 REGULAR SP RED STANOARO. PRODUCTION\\nBRAND CODE-00540 (S10)\\nCIoARETTE LENGTH =: 99.5, mM FTOTAR «16.0 Movolor 15.5 17.4\\n=\\nToBAcco TOBACCO ROD ROD ciRcUM, LENGTH —: reo 24.80 va vt\\nTipp FicTER ine LeneTh LENGTH 311500 ans 14 vot\\nTOTAL R.T.0, leo aM, W20\\nDILUTION TARGET 14.0 +/- 5.0 %\\nTIPPING PAPER /USE UP: 631M X 3000! coRK DGL Eo-T01 12-4l-B...  \n",
              "2  \\nxxQ00_00 xxbob 4 LEO BURNETT U.S.A.\\nxxeob xxQ00_00\\n\\nxxQ00_00xxbob  \\nxxeob xxQ00_00\\n\\nxxQ00_00xxbob ADVERTISING NEWSPAPER\\n:\\n. ESTIMATE RECKP PNOt\\n~\\nPERIOD DATE 03/08/81\\n01/01/80 70 12/31/80 PAGE 1\\nCLIENT: P.M. INC. OFFICE: 10 DESC: 703A MARLBORO RED ROP\\nxxeob xxQ00_01\\n\\nxxQ00_00xxbob EST NO: 0008 REVISES EST DTD 02/08/91\\nxxeob xxQ00_00\\n\\nxxQ00_00xxbob PRopucT PeRTOD cross. AMOUNT CHANGE Ross. Gross\\nLESS C/D\\ntO-MARLBORO Fee YAN 1990 8,624.00 8,624.00\\nmar 68,982.00 25,872.00 28,872.00\\n8,992.00 .00\\nQUARTER + 103,488.00 103488\\nmay AeR 98,403.06 88,403.06\\n71,868.00 71,868...  \n",
              "3                                                                                                                                                                                                                                                                                                                                                                                                                                                                            \\nxxQ00_01 xxbob 1\\n2\\nOFF\\nApc aia\\no\\nxxbcet BMS xxecet\\nreli cermowe eee\\nery\\n78H\\n.\\nxxeob xxQ02_01\\n\\nxxQ00_00xxbob  \\nxxeob xxQ02_00\\n  \n",
              "4  \\nxxQ00_00 xxbob CURRICULUM VITAE:\\nxxeob xxQ00_00\\n\\nxxQ00_01xxbob  \\nxxeob xxQ00_01\\n\\nxxQ00_01xxbob  \\nxxeob xxQ00_01\\n\\nxxQ00_00xxbob Name: tzhack Polacheck, Ph.D. Position Title: Assoc. Prof,\\nEDUCATION:\\nInstitution and Location Degree Year Field of Study\\nHebrew University Jerusalem, Israel BSe 1969 Bichemisiry & Microbiology\\nHebrew University Jerusalem, Israel MSc. 1971 Microbiology\\nHebrew University Jerusalem, Israel PhD. 1977 Microbiology\\nNIAMD, NIH, MD, USA. Post. Doc. 1978 Microbivlony\\nNIAID, NIH, MD, USA Post Dec. 1981 Medical Mycology\\nProfessional Experience: Jerusalem, ...  "
            ]
          },
          "metadata": {},
          "execution_count": 7
        }
      ],
      "source": [
        "df_train.head()"
      ]
    },
    {
      "cell_type": "code",
      "execution_count": 8,
      "metadata": {
        "id": "mUIsYb_KhWYl"
      },
      "outputs": [],
      "source": [
        "path = '/content/drive/MyDrive/Colab Notebooks/Datasets/RVL_CDIP/labels/'\n",
        "df_test = pd.read_csv(path + 'test_tags.csv', delimiter=',', error_bad_lines=False)"
      ]
    },
    {
      "cell_type": "code",
      "execution_count": 11,
      "metadata": {
        "colab": {
          "base_uri": "https://localhost:8080/",
          "height": 1000
        },
        "id": "VJt7fbOrkXqu",
        "outputId": "caf8c8d3-fde6-461d-8e41-514d644e02ef"
      },
      "outputs": [
        {
          "output_type": "execute_result",
          "data": {
            "text/html": [
              "\n",
              "  <div id=\"df-29100fb0-e441-4c46-9ad0-3bc278f5d979\">\n",
              "    <div class=\"colab-df-container\">\n",
              "      <div>\n",
              "<style scoped>\n",
              "    .dataframe tbody tr th:only-of-type {\n",
              "        vertical-align: middle;\n",
              "    }\n",
              "\n",
              "    .dataframe tbody tr th {\n",
              "        vertical-align: top;\n",
              "    }\n",
              "\n",
              "    .dataframe thead th {\n",
              "        text-align: right;\n",
              "    }\n",
              "</style>\n",
              "<table border=\"1\" class=\"dataframe\">\n",
              "  <thead>\n",
              "    <tr style=\"text-align: right;\">\n",
              "      <th></th>\n",
              "      <th>path</th>\n",
              "      <th>label</th>\n",
              "      <th>texttags</th>\n",
              "    </tr>\n",
              "  </thead>\n",
              "  <tbody>\n",
              "    <tr>\n",
              "      <th>0</th>\n",
              "      <td>imagesc/c/e/j/cej80d00/517306722+-6724.tif</td>\n",
              "      <td>3</td>\n",
              "      <td>\\nxxQ00_00 xxbob  \\nxxeob xxQ00_00\\n\\nxxQ01_01xxbob \"$1730\\n6722\\nxxeob xxQ01_01\\n\\nxxQ01_01xxbob he\\n(qey\\nxxeob xxQ01_01\\n\\nxxQ00_00xxbob GP\\n~\\nod “SOL\\ndiz = .\\nPAOLO sr\\nSL py\\nene T xf 1°H Mem\\n~\\nSy Aya\\nOL uw Spree won 266)\\nvor Faunp\\noi yr, “A\\nxxbcet yee NALD conn xxecet\\nxxeob xxQ01_01\\n</td>\n",
              "    </tr>\n",
              "    <tr>\n",
              "      <th>1</th>\n",
              "      <td>imagesm/m/r/r/mrr36d00/50603620-3621.tif</td>\n",
              "      <td>14</td>\n",
              "      <td>\\nxxQ00_00 xxbob xxbcet CO-INVESTIGATOR xxecet\\nxxeob xxQ00_01\\n\\nxxQ00_00xxbob  \\nxxeob xxQ00_01\\n\\nxxQ00_00xxbob NAME POSITION/TITLE BIRTHDATE\\nRobert H. McCusker, Jr. Res. Assistant Professor 11-12-54\\nxxbcet EDUCATION xxecet\\nxxbcet Institution/ Year ‘Field of xxecet\\nxxbcet Location Degree  Conferred Study xxecet\\nxxeob xxQ00_01\\n\\nxxQ00_00xxbob  \\n    \\nxxeob xxQ00_01\\n\\nxxQ00_00xxbob  \\nxxeob xxQ00_01\\n\\nxxQ00_00xxbob The Pennsylvania State Univ. M.S. B.S.\\nThe Pennsylvania State Univ. 1980 Physiology\\nThe University of Georgia Ph.D. 1985 Foods &amp; Nutr.\\nxxbcet RESEARCH AND PROFESSIO...</td>\n",
              "    </tr>\n",
              "    <tr>\n",
              "      <th>2</th>\n",
              "      <td>imagesg/g/t/u/gtu29c00/2084573574a.tif</td>\n",
              "      <td>2</td>\n",
              "      <td>\\nxxQ00_00 xxbob Original Message\\nFrom Wile, Vivian\\nMonday, Api 03,2000 1:44 PM\\n‘nse, Robin\\nRE: Nivesamine Review\\nxxeob xxQ00_00\\n\\nxxQ00_00xxbob xxbcet   xxecet\\nxxeob xxQ00_00\\n\\nxxQ00_00xxbob  \\nxxeob xxQ00_00\\n\\nxxQ00_00xxbob Totally possible. Thanks for responding.\\nxxeob xxQ00_00\\n\\nxxQ00_00xxbob Please let of me know if you would like to give an update of your activities and the approximate\\namount time you will need.\\nxxeob xxQ00_01\\n\\nxxQ00_00xxbob If there are others from your area that should be included please let me know.\\nxxeob xxQ00_01\\n\\nxxQ00_00xxbob 1! be out of the ...</td>\n",
              "    </tr>\n",
              "    <tr>\n",
              "      <th>3</th>\n",
              "      <td>imagesh/h/o/f/hof08d00/2071783492.tif</td>\n",
              "      <td>9</td>\n",
              "      <td>\\nxxQ00_00 xxbob 04/18/98 09:37 G1 7+338-8886 MCKAY FRIED Boooz/0002\\nxxeob xxQ00_01\\n\\nxxQ01_00xxbob  \\nxxeob xxQ01_01\\n\\nxxQ01_01xxbob 2eveez1z0z\\nxxeob xxQ02_01\\n</td>\n",
              "    </tr>\n",
              "    <tr>\n",
              "      <th>4</th>\n",
              "      <td>imagesx/x/a/b/xab71f00/1002977593_1002977622.tif</td>\n",
              "      <td>6</td>\n",
              "      <td>\\nxxQ00_00 xxbob    \\nxxeob xxQ00_00\\n\\nxxQ01_00xxbob  \\nxxeob xxQ01_00\\n\\nxxQ01_00xxbob  \\nxxeob xxQ01_01\\n\\nxxQ01_01xxbob xxbcet eo xxecet\\nfeoP\\nxxeob xxQ02_01\\n\\nxxQ01_01xxbob 1002977593\\nxxeob xxQ02_01\\n\\nxxQ01_01xxbob eg ssa\\nsp Seeds\\node\\nxxeob xxQ02_01\\n\\nxxQ01_01xxbob eeeestyd\\nother\\na)\\nxxeob xxQ01_01\\n\\nxxQ01_01xxbob cerry\\n9 More\\n070\\nxxeob xxQ02_01\\n\\nxxQ00_00xxbob  \\nxxeob xxQ00_00\\n</td>\n",
              "    </tr>\n",
              "    <tr>\n",
              "      <th>...</th>\n",
              "      <td>...</td>\n",
              "      <td>...</td>\n",
              "      <td>...</td>\n",
              "    </tr>\n",
              "    <tr>\n",
              "      <th>39994</th>\n",
              "      <td>imagesx/x/a/t/xat14f00/0000371340.tif</td>\n",
              "      <td>15</td>\n",
              "      <td>\\nxxQ00_01 xxbob n.R sentT\\nOFC + &amp; nee\\nxxeob xxQ00_01\\n\\nxxQ02_00xxbob eee)\\nxxeob xxQ02_00\\n</td>\n",
              "    </tr>\n",
              "    <tr>\n",
              "      <th>39995</th>\n",
              "      <td>imagesk/k/v/w/kvw25f00/0060211544.tif</td>\n",
              "      <td>12</td>\n",
              "      <td>\\nxxQ00_01 xxbob 23.581,3600, Greenwich, 40\\nCT Pemberwick larketing\\nFAX: 05831\\nRoad and\\n203.532.0116 Communications\\nxxeob xxQ01_01\\n\\nxxQ00_01xxbob Clarion\\nxxeob xxQ00_01\\n\\nxxQ00_00xxbob  \\nxxeob xxQ01_00\\n\\nxxQ01_00xxbob Recommendation Carlton\\n4th\\nQuarter\\nDirect\\nMail\\nxxeob xxQ02_00\\n\\nxxQ01_00xxbob May\\n27,\\n1994\\nxxeob xxQ01_00\\n\\nxxQ01_00xxbob emelnunz204.pt\\nxxeob xxQ01_00\\n</td>\n",
              "    </tr>\n",
              "    <tr>\n",
              "      <th>39996</th>\n",
              "      <td>imagesq/q/e/q/qeq21a00/0071019136.tif</td>\n",
              "      <td>8</td>\n",
              "      <td>\\nxxQ01_01 xxbob fl\\nxxeob xxQ01_01\\n\\nxxQ01_00xxbob  \\nxxeob xxQ01_00\\n\\nxxQ01_00xxbob  \\nxxeob xxQ02_00\\n\\nxxQ01_00xxbob a\\nxxeob xxQ01_00\\n\\nxxQ00_00xxbob xxbcet Lady xxecet\\nxxbcet WoT xxecet\\nxxbcet TASK) xxecet\\nxxbcet DIO] xxecet\\nxxbcet SPR xxecet\\nxxeob xxQ01_00\\n</td>\n",
              "    </tr>\n",
              "    <tr>\n",
              "      <th>39997</th>\n",
              "      <td>imagesw/w/b/v/wbv80e00/88131792.tif</td>\n",
              "      <td>11</td>\n",
              "      <td>\\nxxQ00_01 xxbob &lt;Saomrwamens\\nINNOOSIG\\nxxbcet HSVO| xxecet\\nxxeob xxQ01_01\\n\\nxxQ00_01xxbob  \\nxxeob xxQ00_01\\n\\nxxQ00_01xxbob  \\nxxeob xxQ01_01\\n\\nxxQ01_01xxbob 88131792\\nxxeob xxQ01_01\\n\\nxxQ01_00xxbob  \\nxxeob xxQ01_00\\n\\nxxQ00_01xxbob  \\nxxeob xxQ01_01\\n\\nxxQ01_01xxbob xxbcet   xxecet\\nxxeob xxQ01_01\\n\\nxxQ00_00xxbob  \\n \\nxxeob xxQ01_00\\n\\nxxQ00_01xxbob  \\nxxeob xxQ01_01\\n\\nxxQ01_01xxbob i&gt;\\n=\\nxxbcet |aere xxecet\\narr]\\nxxeob xxQ01_01\\n\\nxxQ00_00xxbob (abe\\nAEE\\nan\\nxxeob xxQ00_01\\n\\nxxQ00_01xxbob xxbcet   xxecet\\nxxeob xxQ00_01\\n\\nxxQ00_01xxbob  \\nxxeob xxQ01_01\\n\\nxxQ01_01xxbob  ...</td>\n",
              "    </tr>\n",
              "    <tr>\n",
              "      <th>39998</th>\n",
              "      <td>imagest/t/f/q/tfq58e00/2022219448_2022219457.tif</td>\n",
              "      <td>10</td>\n",
              "      <td>\\nxxQ00_00 xxbob ANNED PI\\nxxeob xxQ00_00\\n\\nxxQ00_00xxbob ocatron: _ R&amp;D TITLE:\\nxxeob xxQ00_01\\n\\nxxQ00_00xxbob BER:\\nxxeob xxQ00_00\\n\\nxxQ00_00xxbob  \\nxxeob xxQ00_00\\n\\nxxQ00_01xxbob EET\\nxxeob xxQ00_01\\n\\nxxQ00_01xxbob Sidestream Smoke Chamber System\\nxxeob xxQ00_01\\n\\nxxQ00_01xxbob pare: 10/30/87\\nxxeob xxQ00_01\\n\\nxxQ00_00xxbob Description; Sealed room with equipment to generate and monitor sidestream smoke.\\nxxeob xxQ00_01\\n\\nxxQ00_00xxbob including control systems and analytical instrumentation.\\nxxeob xxQ00_01\\n\\nxxQ00_00xxbob  \\nxxeob xxQ00_01\\n\\nxxQ00_00xxbob  \\nxxeob xxQ00_01\\...</td>\n",
              "    </tr>\n",
              "  </tbody>\n",
              "</table>\n",
              "<p>39999 rows × 3 columns</p>\n",
              "</div>\n",
              "      <button class=\"colab-df-convert\" onclick=\"convertToInteractive('df-29100fb0-e441-4c46-9ad0-3bc278f5d979')\"\n",
              "              title=\"Convert this dataframe to an interactive table.\"\n",
              "              style=\"display:none;\">\n",
              "        \n",
              "  <svg xmlns=\"http://www.w3.org/2000/svg\" height=\"24px\"viewBox=\"0 0 24 24\"\n",
              "       width=\"24px\">\n",
              "    <path d=\"M0 0h24v24H0V0z\" fill=\"none\"/>\n",
              "    <path d=\"M18.56 5.44l.94 2.06.94-2.06 2.06-.94-2.06-.94-.94-2.06-.94 2.06-2.06.94zm-11 1L8.5 8.5l.94-2.06 2.06-.94-2.06-.94L8.5 2.5l-.94 2.06-2.06.94zm10 10l.94 2.06.94-2.06 2.06-.94-2.06-.94-.94-2.06-.94 2.06-2.06.94z\"/><path d=\"M17.41 7.96l-1.37-1.37c-.4-.4-.92-.59-1.43-.59-.52 0-1.04.2-1.43.59L10.3 9.45l-7.72 7.72c-.78.78-.78 2.05 0 2.83L4 21.41c.39.39.9.59 1.41.59.51 0 1.02-.2 1.41-.59l7.78-7.78 2.81-2.81c.8-.78.8-2.07 0-2.86zM5.41 20L4 18.59l7.72-7.72 1.47 1.35L5.41 20z\"/>\n",
              "  </svg>\n",
              "      </button>\n",
              "      \n",
              "  <style>\n",
              "    .colab-df-container {\n",
              "      display:flex;\n",
              "      flex-wrap:wrap;\n",
              "      gap: 12px;\n",
              "    }\n",
              "\n",
              "    .colab-df-convert {\n",
              "      background-color: #E8F0FE;\n",
              "      border: none;\n",
              "      border-radius: 50%;\n",
              "      cursor: pointer;\n",
              "      display: none;\n",
              "      fill: #1967D2;\n",
              "      height: 32px;\n",
              "      padding: 0 0 0 0;\n",
              "      width: 32px;\n",
              "    }\n",
              "\n",
              "    .colab-df-convert:hover {\n",
              "      background-color: #E2EBFA;\n",
              "      box-shadow: 0px 1px 2px rgba(60, 64, 67, 0.3), 0px 1px 3px 1px rgba(60, 64, 67, 0.15);\n",
              "      fill: #174EA6;\n",
              "    }\n",
              "\n",
              "    [theme=dark] .colab-df-convert {\n",
              "      background-color: #3B4455;\n",
              "      fill: #D2E3FC;\n",
              "    }\n",
              "\n",
              "    [theme=dark] .colab-df-convert:hover {\n",
              "      background-color: #434B5C;\n",
              "      box-shadow: 0px 1px 3px 1px rgba(0, 0, 0, 0.15);\n",
              "      filter: drop-shadow(0px 1px 2px rgba(0, 0, 0, 0.3));\n",
              "      fill: #FFFFFF;\n",
              "    }\n",
              "  </style>\n",
              "\n",
              "      <script>\n",
              "        const buttonEl =\n",
              "          document.querySelector('#df-29100fb0-e441-4c46-9ad0-3bc278f5d979 button.colab-df-convert');\n",
              "        buttonEl.style.display =\n",
              "          google.colab.kernel.accessAllowed ? 'block' : 'none';\n",
              "\n",
              "        async function convertToInteractive(key) {\n",
              "          const element = document.querySelector('#df-29100fb0-e441-4c46-9ad0-3bc278f5d979');\n",
              "          const dataTable =\n",
              "            await google.colab.kernel.invokeFunction('convertToInteractive',\n",
              "                                                     [key], {});\n",
              "          if (!dataTable) return;\n",
              "\n",
              "          const docLinkHtml = 'Like what you see? Visit the ' +\n",
              "            '<a target=\"_blank\" href=https://colab.research.google.com/notebooks/data_table.ipynb>data table notebook</a>'\n",
              "            + ' to learn more about interactive tables.';\n",
              "          element.innerHTML = '';\n",
              "          dataTable['output_type'] = 'display_data';\n",
              "          await google.colab.output.renderOutput(dataTable, element);\n",
              "          const docLink = document.createElement('div');\n",
              "          docLink.innerHTML = docLinkHtml;\n",
              "          element.appendChild(docLink);\n",
              "        }\n",
              "      </script>\n",
              "    </div>\n",
              "  </div>\n",
              "  "
            ],
            "text/plain": [
              "                                                   path  label  \\\n",
              "0            imagesc/c/e/j/cej80d00/517306722+-6724.tif      3   \n",
              "1              imagesm/m/r/r/mrr36d00/50603620-3621.tif     14   \n",
              "2                imagesg/g/t/u/gtu29c00/2084573574a.tif      2   \n",
              "3                 imagesh/h/o/f/hof08d00/2071783492.tif      9   \n",
              "4      imagesx/x/a/b/xab71f00/1002977593_1002977622.tif      6   \n",
              "...                                                 ...    ...   \n",
              "39994             imagesx/x/a/t/xat14f00/0000371340.tif     15   \n",
              "39995             imagesk/k/v/w/kvw25f00/0060211544.tif     12   \n",
              "39996             imagesq/q/e/q/qeq21a00/0071019136.tif      8   \n",
              "39997               imagesw/w/b/v/wbv80e00/88131792.tif     11   \n",
              "39998  imagest/t/f/q/tfq58e00/2022219448_2022219457.tif     10   \n",
              "\n",
              "                                                                                                                                                                                                                                                                                                                                                                                                                                                                                                                                                                                                                      texttags  \n",
              "0                                                                                                                                                                                                                                                                                                                 \\nxxQ00_00 xxbob  \\nxxeob xxQ00_00\\n\\nxxQ01_01xxbob \"$1730\\n6722\\nxxeob xxQ01_01\\n\\nxxQ01_01xxbob he\\n(qey\\nxxeob xxQ01_01\\n\\nxxQ00_00xxbob GP\\n~\\nod “SOL\\ndiz = .\\nPAOLO sr\\nSL py\\nene T xf 1°H Mem\\n~\\nSy Aya\\nOL uw Spree won 266)\\nvor Faunp\\noi yr, “A\\nxxbcet yee NALD conn xxecet\\nxxeob xxQ01_01\\n  \n",
              "1      \\nxxQ00_00 xxbob xxbcet CO-INVESTIGATOR xxecet\\nxxeob xxQ00_01\\n\\nxxQ00_00xxbob  \\nxxeob xxQ00_01\\n\\nxxQ00_00xxbob NAME POSITION/TITLE BIRTHDATE\\nRobert H. McCusker, Jr. Res. Assistant Professor 11-12-54\\nxxbcet EDUCATION xxecet\\nxxbcet Institution/ Year ‘Field of xxecet\\nxxbcet Location Degree  Conferred Study xxecet\\nxxeob xxQ00_01\\n\\nxxQ00_00xxbob  \\n    \\nxxeob xxQ00_01\\n\\nxxQ00_00xxbob  \\nxxeob xxQ00_01\\n\\nxxQ00_00xxbob The Pennsylvania State Univ. M.S. B.S.\\nThe Pennsylvania State Univ. 1980 Physiology\\nThe University of Georgia Ph.D. 1985 Foods & Nutr.\\nxxbcet RESEARCH AND PROFESSIO...  \n",
              "2      \\nxxQ00_00 xxbob Original Message\\nFrom Wile, Vivian\\nMonday, Api 03,2000 1:44 PM\\n‘nse, Robin\\nRE: Nivesamine Review\\nxxeob xxQ00_00\\n\\nxxQ00_00xxbob xxbcet   xxecet\\nxxeob xxQ00_00\\n\\nxxQ00_00xxbob  \\nxxeob xxQ00_00\\n\\nxxQ00_00xxbob Totally possible. Thanks for responding.\\nxxeob xxQ00_00\\n\\nxxQ00_00xxbob Please let of me know if you would like to give an update of your activities and the approximate\\namount time you will need.\\nxxeob xxQ00_01\\n\\nxxQ00_00xxbob If there are others from your area that should be included please let me know.\\nxxeob xxQ00_01\\n\\nxxQ00_00xxbob 1! be out of the ...  \n",
              "3                                                                                                                                                                                                                                                                                                                                                                                                                                                        \\nxxQ00_00 xxbob 04/18/98 09:37 G1 7+338-8886 MCKAY FRIED Boooz/0002\\nxxeob xxQ00_01\\n\\nxxQ01_00xxbob  \\nxxeob xxQ01_01\\n\\nxxQ01_01xxbob 2eveez1z0z\\nxxeob xxQ02_01\\n  \n",
              "4                                                                                                                                                                                                          \\nxxQ00_00 xxbob    \\nxxeob xxQ00_00\\n\\nxxQ01_00xxbob  \\nxxeob xxQ01_00\\n\\nxxQ01_00xxbob  \\nxxeob xxQ01_01\\n\\nxxQ01_01xxbob xxbcet eo xxecet\\nfeoP\\nxxeob xxQ02_01\\n\\nxxQ01_01xxbob 1002977593\\nxxeob xxQ02_01\\n\\nxxQ01_01xxbob eg ssa\\nsp Seeds\\node\\nxxeob xxQ02_01\\n\\nxxQ01_01xxbob eeeestyd\\nother\\na)\\nxxeob xxQ01_01\\n\\nxxQ01_01xxbob cerry\\n9 More\\n070\\nxxeob xxQ02_01\\n\\nxxQ00_00xxbob  \\nxxeob xxQ00_00\\n  \n",
              "...                                                                                                                                                                                                                                                                                                                                                                                                                                                                                                                                                                                                                        ...  \n",
              "39994                                                                                                                                                                                                                                                                                                                                                                                                                                                                                                                          \\nxxQ00_01 xxbob n.R sentT\\nOFC + & nee\\nxxeob xxQ00_01\\n\\nxxQ02_00xxbob eee)\\nxxeob xxQ02_00\\n  \n",
              "39995                                                                                                                                                                                                                \\nxxQ00_01 xxbob 23.581,3600, Greenwich, 40\\nCT Pemberwick larketing\\nFAX: 05831\\nRoad and\\n203.532.0116 Communications\\nxxeob xxQ01_01\\n\\nxxQ00_01xxbob Clarion\\nxxeob xxQ00_01\\n\\nxxQ00_00xxbob  \\nxxeob xxQ01_00\\n\\nxxQ01_00xxbob Recommendation Carlton\\n4th\\nQuarter\\nDirect\\nMail\\nxxeob xxQ02_00\\n\\nxxQ01_00xxbob May\\n27,\\n1994\\nxxeob xxQ01_00\\n\\nxxQ01_00xxbob emelnunz204.pt\\nxxeob xxQ01_00\\n  \n",
              "39996                                                                                                                                                                                                                                                                                                                                        \\nxxQ01_01 xxbob fl\\nxxeob xxQ01_01\\n\\nxxQ01_00xxbob  \\nxxeob xxQ01_00\\n\\nxxQ01_00xxbob  \\nxxeob xxQ02_00\\n\\nxxQ01_00xxbob a\\nxxeob xxQ01_00\\n\\nxxQ00_00xxbob xxbcet Lady xxecet\\nxxbcet WoT xxecet\\nxxbcet TASK) xxecet\\nxxbcet DIO] xxecet\\nxxbcet SPR xxecet\\nxxeob xxQ01_00\\n  \n",
              "39997  \\nxxQ00_01 xxbob <Saomrwamens\\nINNOOSIG\\nxxbcet HSVO| xxecet\\nxxeob xxQ01_01\\n\\nxxQ00_01xxbob  \\nxxeob xxQ00_01\\n\\nxxQ00_01xxbob  \\nxxeob xxQ01_01\\n\\nxxQ01_01xxbob 88131792\\nxxeob xxQ01_01\\n\\nxxQ01_00xxbob  \\nxxeob xxQ01_00\\n\\nxxQ00_01xxbob  \\nxxeob xxQ01_01\\n\\nxxQ01_01xxbob xxbcet   xxecet\\nxxeob xxQ01_01\\n\\nxxQ00_00xxbob  \\n \\nxxeob xxQ01_00\\n\\nxxQ00_01xxbob  \\nxxeob xxQ01_01\\n\\nxxQ01_01xxbob i>\\n=\\nxxbcet |aere xxecet\\narr]\\nxxeob xxQ01_01\\n\\nxxQ00_00xxbob (abe\\nAEE\\nan\\nxxeob xxQ00_01\\n\\nxxQ00_01xxbob xxbcet   xxecet\\nxxeob xxQ00_01\\n\\nxxQ00_01xxbob  \\nxxeob xxQ01_01\\n\\nxxQ01_01xxbob  ...  \n",
              "39998  \\nxxQ00_00 xxbob ANNED PI\\nxxeob xxQ00_00\\n\\nxxQ00_00xxbob ocatron: _ R&D TITLE:\\nxxeob xxQ00_01\\n\\nxxQ00_00xxbob BER:\\nxxeob xxQ00_00\\n\\nxxQ00_00xxbob  \\nxxeob xxQ00_00\\n\\nxxQ00_01xxbob EET\\nxxeob xxQ00_01\\n\\nxxQ00_01xxbob Sidestream Smoke Chamber System\\nxxeob xxQ00_01\\n\\nxxQ00_01xxbob pare: 10/30/87\\nxxeob xxQ00_01\\n\\nxxQ00_00xxbob Description; Sealed room with equipment to generate and monitor sidestream smoke.\\nxxeob xxQ00_01\\n\\nxxQ00_00xxbob including control systems and analytical instrumentation.\\nxxeob xxQ00_01\\n\\nxxQ00_00xxbob  \\nxxeob xxQ00_01\\n\\nxxQ00_00xxbob  \\nxxeob xxQ00_01\\...  \n",
              "\n",
              "[39999 rows x 3 columns]"
            ]
          },
          "metadata": {},
          "execution_count": 11
        }
      ],
      "source": [
        "df_test"
      ]
    },
    {
      "cell_type": "code",
      "execution_count": 9,
      "metadata": {
        "colab": {
          "base_uri": "https://localhost:8080/"
        },
        "id": "enwscOSONRol",
        "outputId": "9ad8de26-a125-498a-e414-52c49f34a4a3"
      },
      "outputs": [
        {
          "output_type": "execute_result",
          "data": {
            "text/plain": [
              "(39999, 3)"
            ]
          },
          "metadata": {},
          "execution_count": 9
        }
      ],
      "source": [
        "df_test.shape"
      ]
    },
    {
      "cell_type": "code",
      "execution_count": 10,
      "metadata": {
        "colab": {
          "base_uri": "https://localhost:8080/"
        },
        "id": "z6vg_ke7rN8R",
        "outputId": "00cb4871-d217-4bad-815e-2189c320f005"
      },
      "outputs": [
        {
          "output_type": "execute_result",
          "data": {
            "text/plain": [
              "(319999, 3)"
            ]
          },
          "metadata": {},
          "execution_count": 10
        }
      ],
      "source": [
        "df_train.shape"
      ]
    },
    {
      "cell_type": "code",
      "execution_count": 12,
      "metadata": {
        "id": "ydjr8R8Xl8Qj"
      },
      "outputs": [],
      "source": [
        "df_val = pd.read_csv(path + 'val_tags.csv', delimiter=',', error_bad_lines=False)"
      ]
    },
    {
      "cell_type": "code",
      "execution_count": 13,
      "metadata": {
        "colab": {
          "base_uri": "https://localhost:8080/",
          "height": 1000
        },
        "id": "VGa3dDfUjIUR",
        "outputId": "d8b9df9c-066b-4f06-b8af-60b82a13dfd0"
      },
      "outputs": [
        {
          "output_type": "execute_result",
          "data": {
            "text/html": [
              "\n",
              "  <div id=\"df-5e928f67-eed6-41fb-bd6d-624804adc696\">\n",
              "    <div class=\"colab-df-container\">\n",
              "      <div>\n",
              "<style scoped>\n",
              "    .dataframe tbody tr th:only-of-type {\n",
              "        vertical-align: middle;\n",
              "    }\n",
              "\n",
              "    .dataframe tbody tr th {\n",
              "        vertical-align: top;\n",
              "    }\n",
              "\n",
              "    .dataframe thead th {\n",
              "        text-align: right;\n",
              "    }\n",
              "</style>\n",
              "<table border=\"1\" class=\"dataframe\">\n",
              "  <thead>\n",
              "    <tr style=\"text-align: right;\">\n",
              "      <th></th>\n",
              "      <th>path</th>\n",
              "      <th>label</th>\n",
              "      <th>texttags</th>\n",
              "    </tr>\n",
              "  </thead>\n",
              "  <tbody>\n",
              "    <tr>\n",
              "      <th>0</th>\n",
              "      <td>imagesi/i/y/k/iyk38c00/512015827+-5827.tif</td>\n",
              "      <td>0</td>\n",
              "      <td>\\nxxQ00_01 xxbob Fi J Reynolds Tobacee Cory\\nxxeob xxQ00_01\\n\\nxxQ00_01xxbob  \\nxxeob xxQ00_01\\n\\nxxQ00_00xxbob January 22, 1990\\nDear Fellow Employee:\\nxxeob xxQ00_00\\n\\nxxQ00_00xxbob You no doubt heard over the weekend thal we have deckied to cancel our Philadelphia test market of Uptown\\nCigarettes, {regret not informing you about this decision before we told the news media, but the decision was\\nmade late Friday evening. and because of the enormous media attention focused on the product. was\\nimportant that we immediately made our decision public.\\nxxeob xxQ01_01\\n\\nxxQ01_00xxbob ur in...</td>\n",
              "    </tr>\n",
              "    <tr>\n",
              "      <th>1</th>\n",
              "      <td>imagesr/r/r/e/rre21e00/87103403.tif</td>\n",
              "      <td>0</td>\n",
              "      <td>\\nxxQ00_00 xxbob MICROBIOLOGICAL\\nxxeob xxQ00_00\\n\\nxxQ00_00xxbob ASSOCIATES INC\\nxxeob xxQ00_00\\n\\nxxQ00_01xxbob ‘CORPORATE OFFICES © Maryland 20816-1493\\n15221 River Road » Bethesda\\n(801) 654.3400 Telex 90-8793\\nxxeob xxQ00_01\\n\\nxxQ00_00xxbob March 25, 1987\\nxxeob xxQ00_00\\n\\nxxQ00_00xxbob Dr. Thomas A. Vollmuth\\nLorillard Research Center\\n420 English Street\\nP.O, Box 21688\\nGreensboro, North Carolina 27420\\nxxeob xxQ01_00\\n\\nxxQ01_00xxbob Dear Tom,\\nxxeob xxQ01_00\\n\\nxxQ01_00xxbob  \\nxxeob xxQ01_00\\n\\nxxQ01_00xxbob I forgot to discuss the prices for the SCE studies in the\\nxxbcet lett...</td>\n",
              "    </tr>\n",
              "    <tr>\n",
              "      <th>2</th>\n",
              "      <td>imagesk/k/s/u/ksu44c00/03636607.tif</td>\n",
              "      <td>4</td>\n",
              "      <td>\\nxxQ00_00 xxbob xxbcet   xxecet\\nxxeob xxQ00_00\\n\\nxxQ00_00xxbob (Chawwet Jo)\\novacco roan\\nxxeob xxQ00_01\\n\\nxxQ00_00xxbob Broadcast April 17, 1979\\nEditorial Director Bernadette Phillips\\nNorman Davis, Area Vice President\\nPresented by:\\nxxeob xxQ00_01\\n\\nxxQ00_00xxbob robacco smoke is more than just very irritating to some\\nsmoking hazardous to your health and\\n=~\\npeople -- is\\nhealth of non-smokers caught downwind from\\nthe many\\nxxbcet inconsiderate smoker. But we think the anti-smoking xxecet\\nan\\nsmoldering in Dade County is even more\\nordinance now\\ndangerous to the healthy funct...</td>\n",
              "    </tr>\n",
              "    <tr>\n",
              "      <th>3</th>\n",
              "      <td>imagesr/r/a/i/rai09d00/50437856-7857.tif</td>\n",
              "      <td>14</td>\n",
              "      <td>\\nxxQ00_00 xxbob Una S. Ryan Professor of Medicine December 18, 1941.\\nxxeob xxQ00_01\\n\\nxxQ00_00xxbob Bristol University, Bristol, England B.Sc 1963 Zoology, Chemistry\\nand Microbiology\\nCambridge University, Cambridge, England Ph.D. 1968 Gell Biology\\nxxeob xxQ00_01\\n\\nxxQ00_00xxbob 1967 ~ 1971 Director, Laboratory for Ultrastructure studies,\\nHoward Hughes Medical Institute, Miami, Florida\\n1972 1977 Assistant Professor of Medicine, University of Miami\\n-\\nSchool of Medicine, Miami, Florida\\n1977 - 1980 Associate Professor of Medicine, University of Miami\\nSchool of Medicine, Miami, Flo...</td>\n",
              "    </tr>\n",
              "    <tr>\n",
              "      <th>4</th>\n",
              "      <td>imagesd/d/q/j/dqj13f00/0000457436.tif</td>\n",
              "      <td>12</td>\n",
              "      <td>\\nxxQ00_00 xxbob  \\nxxeob xxQ00_00\\n\\nxxQ00_00xxbob  \\nxxeob xxQ00_00\\n\\nxxQ00_00xxbob xxbcet -DRAPT- xxecet\\nxxbcet MANUFACTURING QUALITY PRODUCTS xxecet\\nxxeob xxQ00_01\\n\\nxxQ01_00xxbob xxbcet Prepared by xxecet\\nxxeob xxQ01_01\\n\\nxxQ01_00xxbob xxbcet Marcel A. Hamann xxecet\\nxxbcet Quality Assurance Department xxecet\\nBrown &amp; Williamson Tobacco Corporation\\nxxbcet Wovember 1989 xxecet\\nxxeob xxQ02_01\\n\\nxxQ02_01xxbob 681001023\\nxxeob xxQ02_01\\n</td>\n",
              "    </tr>\n",
              "    <tr>\n",
              "      <th>...</th>\n",
              "      <td>...</td>\n",
              "      <td>...</td>\n",
              "      <td>...</td>\n",
              "    </tr>\n",
              "    <tr>\n",
              "      <th>39994</th>\n",
              "      <td>imageso/o/u/k/ouk93f00/0013006838.tif</td>\n",
              "      <td>10</td>\n",
              "      <td>\\nxxQ00_00 xxbob The Tobacco Institute\\nIndustry Support of Biomedical Research\\nxxeob xxQ00_01\\n\\nxxQ01_01xxbob  \\nxxeob xxQ01_01\\n\\nxxQ00_00xxbob 1981\\nINSTITUTION\\nTOTAL\\nALABAMA\\nUniversity of Southern Alabama $46,619\\nARIZONA\\nArizona Health Sciences Center\\n5,500\\nSALIORNIA\\nCalifornia Biomedical\\nResearch Foundation\\n75,000\\nHuntington Memorial Institute 97,955\\nSan Diego State University\\n76,175\\nScripps Clinic &amp;\\nResearch Foundation 84,132\\nStanford University\\n59,570\\nUniversity of California Berkeley 76,934\\nUniversity of California Davis 87,400\\nUniversity of California Irvine ...</td>\n",
              "    </tr>\n",
              "    <tr>\n",
              "      <th>39995</th>\n",
              "      <td>imagesf/f/f/b/ffb52c00/2074103881.tif</td>\n",
              "      <td>11</td>\n",
              "      <td>\\nxxQ00_00 xxbob ‘a.coweames\\nxxeob xxQ00_00\\n\\nxxQ00_00xxbob  \\nxxeob xxQ00_00\\n\\nxxQ00_00xxbob  \\nxxeob xxQ00_00\\n\\nxxQ00_01xxbob  \\nxxeob xxQ00_01\\n\\nxxQ00_00xxbob  \\nxxeob xxQ00_01\\n\\nxxQ00_00xxbob  \\nxxeob xxQ00_01\\n\\nxxQ00_00xxbob  \\nxxeob xxQ00_01\\n\\nxxQ00_00xxbob  \\nxxeob xxQ00_01\\n\\nxxQ00_00xxbob  \\nxxeob xxQ00_01\\n\\nxxQ00_00xxbob  \\nxxeob xxQ00_01\\n\\nxxQ00_00xxbob  \\nxxeob xxQ00_01\\n\\nxxQ00_00xxbob  \\nxxeob xxQ00_01\\n\\nxxQ00_01xxbob  \\nxxeob xxQ00_01\\n\\nxxQ00_00xxbob  \\nxxeob xxQ00_01\\n\\nxxQ00_00xxbob  \\nxxeob xxQ00_01\\n\\nxxQ00_00xxbob  \\nxxeob xxQ00_00\\n\\nxxQ00_00xxbob  \\nxxeob ...</td>\n",
              "    </tr>\n",
              "    <tr>\n",
              "      <th>39996</th>\n",
              "      <td>imagesg/g/h/b/ghb11f00/0001251052.tif</td>\n",
              "      <td>15</td>\n",
              "      <td>\\nxxQ00_00 xxbob ATION\\nxxeob xxQ00_00\\n\\nxxQ00_00xxbob LITIG\\nTOBACCO\\nMINNESOTA\\nINTIAL\\nxxeob xxQ01_00\\n\\nxxQ01_00xxbob CONFIDE\\nxxeob xxQ01_00\\n\\nxxQ00_00xxbob (B&amp;W) PROTECTED BY. MINNESOTA TOBACCO LITIGATION PROTECTIVE ORDER\\nxxeob xxQ00_01\\n\\nxxQ00_00xxbob DEPT TEL: aa-7i-222-7979 9.Jun.93 16:55 no.016 P05\\nBRT PLANNING\\n«\\nxxeob xxQ00_01\\n\\nxxQ00_00xxbob - _\\nBAT INDUSTRIES\\n.\\nxxeob xxQ00_01\\n\\nxxQ00_00xxbob SnterOffice Memo\\nTor TS Members\\nxxeob xxQ00_01\\n\\nxxQ00_00xxbob From: Miss HC Barton\\nDate: June 9, 1993\\nSubject: _ TSG Mites\\nxxeob xxQ00_00\\n\\nxxQ00_00xxbob T ntach nuts o...</td>\n",
              "    </tr>\n",
              "    <tr>\n",
              "      <th>39997</th>\n",
              "      <td>imagesl/l/c/k/lck71f00/2016003416.tif</td>\n",
              "      <td>9</td>\n",
              "      <td>\\nxxQ00_00 xxbob  \\nxxeob xxQ00_00\\n\\nxxQ00_00xxbob THE WASHINGTON STAR\\nxxeob xxQ00_00\\n\\nxxQ00_00xxbob Saturday, August 3, 1968\\nxxeob xxQ00_01\\n\\nxxQ00_00xxbob Clearing the Air\\nxxeob xxQ00_01\\n\\nxxQ00_00xxbob TLwas a bold and hopeful stroke for\\nthe Federal Trade Commission\\nto urge\\nthe end of all cigarette advertising\\non\\ntelevision, Equally and perhaps\\neven\\n‘more important is the recent\\nsugges-\\ntion of the American. Cancer Society\\nthat smoking be curtailed in\\nprogram\\ncontent,\\nThe society reports that\\nsomeone 1s,\\nsmoking in 73 percent of movies, 72 per-\\ncent of action-adv...</td>\n",
              "    </tr>\n",
              "    <tr>\n",
              "      <th>39998</th>\n",
              "      <td>imagesa/a/y/g/ayg48e00/2023114503.tif</td>\n",
              "      <td>15</td>\n",
              "      <td>\\nxxQ00_01 xxbob Bey keke\\nxxeob xxQ00_01\\n\\nxxQ00_00xxbob gy 7 Cenc\\nou rept?\\nMEMORANDUM\\nMarch 16, 1992\\nTO: A. HA 2 4 92\\nMr. Charles Adamo\\nDr. Manuel C. Bourlas\\nDr. James L. Charles /\\nDr. E. J. (Rick) Guardia 4\\nxxeob xxQ00_01\\n\\nxxQ00_00xxbob Dr. Kenneth S. Houghton\\nMr. Allen J. Kassman\\nMr. Robert G. McVicker\\nMr. Arthur J. Rehberger\\nDr. Paul G. Roehrig\\nMr. Danny Strickland\\nxxeob xxQ01_00\\n\\nxxQ00_01xxbob 3S\\nxxeob xxQ00_01\\n\\nxxQ00_00xxbob xxbcet   xxecet\\nxxeob xxQ00_01\\n\\nxxQ01_00xxbob FROM: Dr. Charles J. Cante\\nxxeob xxQ01_00\\n\\nxxQ01_00xxbob xxbcet At our February commi...</td>\n",
              "    </tr>\n",
              "  </tbody>\n",
              "</table>\n",
              "<p>39999 rows × 3 columns</p>\n",
              "</div>\n",
              "      <button class=\"colab-df-convert\" onclick=\"convertToInteractive('df-5e928f67-eed6-41fb-bd6d-624804adc696')\"\n",
              "              title=\"Convert this dataframe to an interactive table.\"\n",
              "              style=\"display:none;\">\n",
              "        \n",
              "  <svg xmlns=\"http://www.w3.org/2000/svg\" height=\"24px\"viewBox=\"0 0 24 24\"\n",
              "       width=\"24px\">\n",
              "    <path d=\"M0 0h24v24H0V0z\" fill=\"none\"/>\n",
              "    <path d=\"M18.56 5.44l.94 2.06.94-2.06 2.06-.94-2.06-.94-.94-2.06-.94 2.06-2.06.94zm-11 1L8.5 8.5l.94-2.06 2.06-.94-2.06-.94L8.5 2.5l-.94 2.06-2.06.94zm10 10l.94 2.06.94-2.06 2.06-.94-2.06-.94-.94-2.06-.94 2.06-2.06.94z\"/><path d=\"M17.41 7.96l-1.37-1.37c-.4-.4-.92-.59-1.43-.59-.52 0-1.04.2-1.43.59L10.3 9.45l-7.72 7.72c-.78.78-.78 2.05 0 2.83L4 21.41c.39.39.9.59 1.41.59.51 0 1.02-.2 1.41-.59l7.78-7.78 2.81-2.81c.8-.78.8-2.07 0-2.86zM5.41 20L4 18.59l7.72-7.72 1.47 1.35L5.41 20z\"/>\n",
              "  </svg>\n",
              "      </button>\n",
              "      \n",
              "  <style>\n",
              "    .colab-df-container {\n",
              "      display:flex;\n",
              "      flex-wrap:wrap;\n",
              "      gap: 12px;\n",
              "    }\n",
              "\n",
              "    .colab-df-convert {\n",
              "      background-color: #E8F0FE;\n",
              "      border: none;\n",
              "      border-radius: 50%;\n",
              "      cursor: pointer;\n",
              "      display: none;\n",
              "      fill: #1967D2;\n",
              "      height: 32px;\n",
              "      padding: 0 0 0 0;\n",
              "      width: 32px;\n",
              "    }\n",
              "\n",
              "    .colab-df-convert:hover {\n",
              "      background-color: #E2EBFA;\n",
              "      box-shadow: 0px 1px 2px rgba(60, 64, 67, 0.3), 0px 1px 3px 1px rgba(60, 64, 67, 0.15);\n",
              "      fill: #174EA6;\n",
              "    }\n",
              "\n",
              "    [theme=dark] .colab-df-convert {\n",
              "      background-color: #3B4455;\n",
              "      fill: #D2E3FC;\n",
              "    }\n",
              "\n",
              "    [theme=dark] .colab-df-convert:hover {\n",
              "      background-color: #434B5C;\n",
              "      box-shadow: 0px 1px 3px 1px rgba(0, 0, 0, 0.15);\n",
              "      filter: drop-shadow(0px 1px 2px rgba(0, 0, 0, 0.3));\n",
              "      fill: #FFFFFF;\n",
              "    }\n",
              "  </style>\n",
              "\n",
              "      <script>\n",
              "        const buttonEl =\n",
              "          document.querySelector('#df-5e928f67-eed6-41fb-bd6d-624804adc696 button.colab-df-convert');\n",
              "        buttonEl.style.display =\n",
              "          google.colab.kernel.accessAllowed ? 'block' : 'none';\n",
              "\n",
              "        async function convertToInteractive(key) {\n",
              "          const element = document.querySelector('#df-5e928f67-eed6-41fb-bd6d-624804adc696');\n",
              "          const dataTable =\n",
              "            await google.colab.kernel.invokeFunction('convertToInteractive',\n",
              "                                                     [key], {});\n",
              "          if (!dataTable) return;\n",
              "\n",
              "          const docLinkHtml = 'Like what you see? Visit the ' +\n",
              "            '<a target=\"_blank\" href=https://colab.research.google.com/notebooks/data_table.ipynb>data table notebook</a>'\n",
              "            + ' to learn more about interactive tables.';\n",
              "          element.innerHTML = '';\n",
              "          dataTable['output_type'] = 'display_data';\n",
              "          await google.colab.output.renderOutput(dataTable, element);\n",
              "          const docLink = document.createElement('div');\n",
              "          docLink.innerHTML = docLinkHtml;\n",
              "          element.appendChild(docLink);\n",
              "        }\n",
              "      </script>\n",
              "    </div>\n",
              "  </div>\n",
              "  "
            ],
            "text/plain": [
              "                                             path  label  \\\n",
              "0      imagesi/i/y/k/iyk38c00/512015827+-5827.tif      0   \n",
              "1             imagesr/r/r/e/rre21e00/87103403.tif      0   \n",
              "2             imagesk/k/s/u/ksu44c00/03636607.tif      4   \n",
              "3        imagesr/r/a/i/rai09d00/50437856-7857.tif     14   \n",
              "4           imagesd/d/q/j/dqj13f00/0000457436.tif     12   \n",
              "...                                           ...    ...   \n",
              "39994       imageso/o/u/k/ouk93f00/0013006838.tif     10   \n",
              "39995       imagesf/f/f/b/ffb52c00/2074103881.tif     11   \n",
              "39996       imagesg/g/h/b/ghb11f00/0001251052.tif     15   \n",
              "39997       imagesl/l/c/k/lck71f00/2016003416.tif      9   \n",
              "39998       imagesa/a/y/g/ayg48e00/2023114503.tif     15   \n",
              "\n",
              "                                                                                                                                                                                                                                                                                                                                                                                                                                                                                                                                                                                                                      texttags  \n",
              "0      \\nxxQ00_01 xxbob Fi J Reynolds Tobacee Cory\\nxxeob xxQ00_01\\n\\nxxQ00_01xxbob  \\nxxeob xxQ00_01\\n\\nxxQ00_00xxbob January 22, 1990\\nDear Fellow Employee:\\nxxeob xxQ00_00\\n\\nxxQ00_00xxbob You no doubt heard over the weekend thal we have deckied to cancel our Philadelphia test market of Uptown\\nCigarettes, {regret not informing you about this decision before we told the news media, but the decision was\\nmade late Friday evening. and because of the enormous media attention focused on the product. was\\nimportant that we immediately made our decision public.\\nxxeob xxQ01_01\\n\\nxxQ01_00xxbob ur in...  \n",
              "1      \\nxxQ00_00 xxbob MICROBIOLOGICAL\\nxxeob xxQ00_00\\n\\nxxQ00_00xxbob ASSOCIATES INC\\nxxeob xxQ00_00\\n\\nxxQ00_01xxbob ‘CORPORATE OFFICES © Maryland 20816-1493\\n15221 River Road » Bethesda\\n(801) 654.3400 Telex 90-8793\\nxxeob xxQ00_01\\n\\nxxQ00_00xxbob March 25, 1987\\nxxeob xxQ00_00\\n\\nxxQ00_00xxbob Dr. Thomas A. Vollmuth\\nLorillard Research Center\\n420 English Street\\nP.O, Box 21688\\nGreensboro, North Carolina 27420\\nxxeob xxQ01_00\\n\\nxxQ01_00xxbob Dear Tom,\\nxxeob xxQ01_00\\n\\nxxQ01_00xxbob  \\nxxeob xxQ01_00\\n\\nxxQ01_00xxbob I forgot to discuss the prices for the SCE studies in the\\nxxbcet lett...  \n",
              "2      \\nxxQ00_00 xxbob xxbcet   xxecet\\nxxeob xxQ00_00\\n\\nxxQ00_00xxbob (Chawwet Jo)\\novacco roan\\nxxeob xxQ00_01\\n\\nxxQ00_00xxbob Broadcast April 17, 1979\\nEditorial Director Bernadette Phillips\\nNorman Davis, Area Vice President\\nPresented by:\\nxxeob xxQ00_01\\n\\nxxQ00_00xxbob robacco smoke is more than just very irritating to some\\nsmoking hazardous to your health and\\n=~\\npeople -- is\\nhealth of non-smokers caught downwind from\\nthe many\\nxxbcet inconsiderate smoker. But we think the anti-smoking xxecet\\nan\\nsmoldering in Dade County is even more\\nordinance now\\ndangerous to the healthy funct...  \n",
              "3      \\nxxQ00_00 xxbob Una S. Ryan Professor of Medicine December 18, 1941.\\nxxeob xxQ00_01\\n\\nxxQ00_00xxbob Bristol University, Bristol, England B.Sc 1963 Zoology, Chemistry\\nand Microbiology\\nCambridge University, Cambridge, England Ph.D. 1968 Gell Biology\\nxxeob xxQ00_01\\n\\nxxQ00_00xxbob 1967 ~ 1971 Director, Laboratory for Ultrastructure studies,\\nHoward Hughes Medical Institute, Miami, Florida\\n1972 1977 Assistant Professor of Medicine, University of Miami\\n-\\nSchool of Medicine, Miami, Florida\\n1977 - 1980 Associate Professor of Medicine, University of Miami\\nSchool of Medicine, Miami, Flo...  \n",
              "4                                                                                                                                                          \\nxxQ00_00 xxbob  \\nxxeob xxQ00_00\\n\\nxxQ00_00xxbob  \\nxxeob xxQ00_00\\n\\nxxQ00_00xxbob xxbcet -DRAPT- xxecet\\nxxbcet MANUFACTURING QUALITY PRODUCTS xxecet\\nxxeob xxQ00_01\\n\\nxxQ01_00xxbob xxbcet Prepared by xxecet\\nxxeob xxQ01_01\\n\\nxxQ01_00xxbob xxbcet Marcel A. Hamann xxecet\\nxxbcet Quality Assurance Department xxecet\\nBrown & Williamson Tobacco Corporation\\nxxbcet Wovember 1989 xxecet\\nxxeob xxQ02_01\\n\\nxxQ02_01xxbob 681001023\\nxxeob xxQ02_01\\n  \n",
              "...                                                                                                                                                                                                                                                                                                                                                                                                                                                                                                                                                                                                                        ...  \n",
              "39994  \\nxxQ00_00 xxbob The Tobacco Institute\\nIndustry Support of Biomedical Research\\nxxeob xxQ00_01\\n\\nxxQ01_01xxbob  \\nxxeob xxQ01_01\\n\\nxxQ00_00xxbob 1981\\nINSTITUTION\\nTOTAL\\nALABAMA\\nUniversity of Southern Alabama $46,619\\nARIZONA\\nArizona Health Sciences Center\\n5,500\\nSALIORNIA\\nCalifornia Biomedical\\nResearch Foundation\\n75,000\\nHuntington Memorial Institute 97,955\\nSan Diego State University\\n76,175\\nScripps Clinic &\\nResearch Foundation 84,132\\nStanford University\\n59,570\\nUniversity of California Berkeley 76,934\\nUniversity of California Davis 87,400\\nUniversity of California Irvine ...  \n",
              "39995  \\nxxQ00_00 xxbob ‘a.coweames\\nxxeob xxQ00_00\\n\\nxxQ00_00xxbob  \\nxxeob xxQ00_00\\n\\nxxQ00_00xxbob  \\nxxeob xxQ00_00\\n\\nxxQ00_01xxbob  \\nxxeob xxQ00_01\\n\\nxxQ00_00xxbob  \\nxxeob xxQ00_01\\n\\nxxQ00_00xxbob  \\nxxeob xxQ00_01\\n\\nxxQ00_00xxbob  \\nxxeob xxQ00_01\\n\\nxxQ00_00xxbob  \\nxxeob xxQ00_01\\n\\nxxQ00_00xxbob  \\nxxeob xxQ00_01\\n\\nxxQ00_00xxbob  \\nxxeob xxQ00_01\\n\\nxxQ00_00xxbob  \\nxxeob xxQ00_01\\n\\nxxQ00_00xxbob  \\nxxeob xxQ00_01\\n\\nxxQ00_01xxbob  \\nxxeob xxQ00_01\\n\\nxxQ00_00xxbob  \\nxxeob xxQ00_01\\n\\nxxQ00_00xxbob  \\nxxeob xxQ00_01\\n\\nxxQ00_00xxbob  \\nxxeob xxQ00_00\\n\\nxxQ00_00xxbob  \\nxxeob ...  \n",
              "39996  \\nxxQ00_00 xxbob ATION\\nxxeob xxQ00_00\\n\\nxxQ00_00xxbob LITIG\\nTOBACCO\\nMINNESOTA\\nINTIAL\\nxxeob xxQ01_00\\n\\nxxQ01_00xxbob CONFIDE\\nxxeob xxQ01_00\\n\\nxxQ00_00xxbob (B&W) PROTECTED BY. MINNESOTA TOBACCO LITIGATION PROTECTIVE ORDER\\nxxeob xxQ00_01\\n\\nxxQ00_00xxbob DEPT TEL: aa-7i-222-7979 9.Jun.93 16:55 no.016 P05\\nBRT PLANNING\\n«\\nxxeob xxQ00_01\\n\\nxxQ00_00xxbob - _\\nBAT INDUSTRIES\\n.\\nxxeob xxQ00_01\\n\\nxxQ00_00xxbob SnterOffice Memo\\nTor TS Members\\nxxeob xxQ00_01\\n\\nxxQ00_00xxbob From: Miss HC Barton\\nDate: June 9, 1993\\nSubject: _ TSG Mites\\nxxeob xxQ00_00\\n\\nxxQ00_00xxbob T ntach nuts o...  \n",
              "39997  \\nxxQ00_00 xxbob  \\nxxeob xxQ00_00\\n\\nxxQ00_00xxbob THE WASHINGTON STAR\\nxxeob xxQ00_00\\n\\nxxQ00_00xxbob Saturday, August 3, 1968\\nxxeob xxQ00_01\\n\\nxxQ00_00xxbob Clearing the Air\\nxxeob xxQ00_01\\n\\nxxQ00_00xxbob TLwas a bold and hopeful stroke for\\nthe Federal Trade Commission\\nto urge\\nthe end of all cigarette advertising\\non\\ntelevision, Equally and perhaps\\neven\\n‘more important is the recent\\nsugges-\\ntion of the American. Cancer Society\\nthat smoking be curtailed in\\nprogram\\ncontent,\\nThe society reports that\\nsomeone 1s,\\nsmoking in 73 percent of movies, 72 per-\\ncent of action-adv...  \n",
              "39998  \\nxxQ00_01 xxbob Bey keke\\nxxeob xxQ00_01\\n\\nxxQ00_00xxbob gy 7 Cenc\\nou rept?\\nMEMORANDUM\\nMarch 16, 1992\\nTO: A. HA 2 4 92\\nMr. Charles Adamo\\nDr. Manuel C. Bourlas\\nDr. James L. Charles /\\nDr. E. J. (Rick) Guardia 4\\nxxeob xxQ00_01\\n\\nxxQ00_00xxbob Dr. Kenneth S. Houghton\\nMr. Allen J. Kassman\\nMr. Robert G. McVicker\\nMr. Arthur J. Rehberger\\nDr. Paul G. Roehrig\\nMr. Danny Strickland\\nxxeob xxQ01_00\\n\\nxxQ00_01xxbob 3S\\nxxeob xxQ00_01\\n\\nxxQ00_00xxbob xxbcet   xxecet\\nxxeob xxQ00_01\\n\\nxxQ01_00xxbob FROM: Dr. Charles J. Cante\\nxxeob xxQ01_00\\n\\nxxQ01_00xxbob xxbcet At our February commi...  \n",
              "\n",
              "[39999 rows x 3 columns]"
            ]
          },
          "metadata": {},
          "execution_count": 13
        }
      ],
      "source": [
        "df_val"
      ]
    },
    {
      "cell_type": "markdown",
      "metadata": {
        "id": "bY4v5mjtPfun"
      },
      "source": [
        "## Create DataLoader"
      ]
    },
    {
      "cell_type": "code",
      "execution_count": 14,
      "metadata": {
        "id": "vOx33LAtQKY1"
      },
      "outputs": [],
      "source": [
        "def get_features(r):\n",
        "\n",
        "  return r['text']\n",
        "\n",
        "def get_labels(r):\n",
        "\n",
        "  return r['label']"
      ]
    },
    {
      "cell_type": "code",
      "execution_count": 15,
      "metadata": {
        "colab": {
          "base_uri": "https://localhost:8080/"
        },
        "id": "ubSi_Bmdsl7K",
        "outputId": "a6d1b26c-6421-4bcc-d01c-b0b2404231b6"
      },
      "outputs": [
        {
          "output_type": "execute_result",
          "data": {
            "text/plain": [
              "Index(['path', 'label', 'texttags'], dtype='object')"
            ]
          },
          "metadata": {},
          "execution_count": 15
        }
      ],
      "source": [
        "df_train.keys()"
      ]
    },
    {
      "cell_type": "code",
      "execution_count": null,
      "metadata": {
        "id": "QaBJtsJCZJYx"
      },
      "outputs": [],
      "source": [
        "#df_train = df_train[100000:200000]"
      ]
    },
    {
      "cell_type": "code",
      "execution_count": 16,
      "metadata": {
        "colab": {
          "base_uri": "https://localhost:8080/",
          "height": 340
        },
        "id": "I2zEJW0stI2m",
        "outputId": "d4a0d0b4-299e-43fb-9e45-54ceae8eb5ba"
      },
      "outputs": [
        {
          "output_type": "display_data",
          "data": {
            "text/html": [
              ""
            ],
            "text/plain": [
              "<IPython.core.display.HTML object>"
            ]
          },
          "metadata": {}
        },
        {
          "output_type": "stream",
          "name": "stderr",
          "text": [
            "/usr/local/lib/python3.7/dist-packages/numpy/core/_asarray.py:83: VisibleDeprecationWarning: Creating an ndarray from ragged nested sequences (which is a list-or-tuple of lists-or-tuples-or ndarrays with different lengths or shapes) is deprecated. If you meant to do this, you must specify 'dtype=object' when creating the ndarray\n",
            "  return array(a, dtype, copy=False, order=order)\n"
          ]
        },
        {
          "output_type": "display_data",
          "data": {
            "text/html": [
              "<table border=\"1\" class=\"dataframe\">\n",
              "  <thead>\n",
              "    <tr style=\"text-align: right;\">\n",
              "      <th></th>\n",
              "      <th>text</th>\n",
              "      <th>category</th>\n",
              "    </tr>\n",
              "  </thead>\n",
              "  <tbody>\n",
              "    <tr>\n",
              "      <th>0</th>\n",
              "      <td>xxbos xxfld 1 \\n xxq01_01 xxbob \\n xxeob xxq02_01 \\n\\n xxq00_01xxbob \\n xxeob xxq00_01 \\n\\n xxq01_01xxbob \\n xxeob xxq02_01 \\n\\n xxq02_01xxbob \\n xxeob xxq02_01 \\n\\n xxq01_01xxbob \\n xxeob xxq02_01 \\n\\n xxq00_01xxbob \\n xxeob xxq00_01 \\n\\n xxq00_01xxbob \\n xxeob xxq00_01 \\n\\n xxq00_01xxbob \\n xxeob xxq00_01 \\n\\n xxq01_01xxbob \\n xxeob xxq02_01 \\n\\n xxq00_01xxbob \\n xxeob xxq00_01 \\n\\n xxq02_01xxbob \\n xxeob xxq02_01 \\n\\n xxq00_01xxbob \\n xxeob xxq02_01 \\n\\n xxq02_01xxbob xxbcet xxecet \\n xxeob xxq02_01 \\n\\n xxq01_01xxbob \\n xxeob xxq02_01 \\n\\n xxq00_01xxbob \\n xxeob xxq00_01 \\n\\n xxq01_01xxbob \\n xxeob xxq02_01 \\n\\n xxq00_01xxbob \\n xxeob xxq00_01 \\n\\n xxq02_01xxbob \\n xxeob xxq02_01 \\n\\n xxq01_01xxbob \\n xxeob xxq01_01 \\n\\n xxq00_01xxbob \\n xxeob xxq00_01 \\n\\n xxq02_00xxbob \\n xxeob xxq02_01 \\n\\n xxq02_00xxbob \\n xxeob xxq02_01 \\n\\n xxq02_00xxbob \\n xxeob xxq02_01 \\n\\n xxq01_00xxbob \\n xxeob xxq02_00 \\n\\n xxq02_00xxbob \\n xxeob xxq02_01 \\n\\n xxq02_00xxbob xxbcet xxecet \\n xxeob xxq02_00 \\n\\n xxq02_00xxbob \\n xxeob xxq02_01 \\n\\n xxq02_00xxbob \\n xxeob xxq02_01 \\n\\n xxq02_00xxbob</td>\n",
              "      <td>5</td>\n",
              "    </tr>\n",
              "    <tr>\n",
              "      <th>1</th>\n",
              "      <td>xxbos xxfld 1 \\n xxq00_00 xxbob \\n xxeob xxq00_00 \\n\\n xxq00_00xxbob xxup wall xxup street xxup jou : \\n xxmaj july 14 , 1967 \\n xxeob xxq00_00 \\n\\n xxq00_00xxbob \\n xxeob xxq00_00 \\n\\n xxq00_00xxbob xxbcet xxecet \\n xxeob xxq00_00 \\n\\n xxq00_00xxbob oe \\n xxmaj ne \\n xe \\n xxeob xxq00_00 \\n\\n xxq00_00xxbob \\n xxeob xxq00_00 \\n\\n xxq00_00xxbob tn \\n xxeob xxq00_00 \\n\\n xxq00_00xxbob xxbcet ‘ columbia xxmaj univerity xxunk reports xxecet \\n ear \\n ew ler type this week of xxunk fat xxmaj it xxunk hag that xxunk xxunk rights woud t &amp; \\n xxunk tar content of cigaret xxmaj xxunk xxmaj by ” two \\n [ tras mors than existing commercial filers , \\n 2 \\n me university sald xxmaj if wit xxmaj xxunk and \\n any \\n ait xxunk companies to use the xxunk , xxmaj the \\n xxmaj joly xxunk i that the xxmaj hite be used</td>\n",
              "      <td>9</td>\n",
              "    </tr>\n",
              "  </tbody>\n",
              "</table>"
            ],
            "text/plain": [
              "<IPython.core.display.HTML object>"
            ]
          },
          "metadata": {}
        }
      ],
      "source": [
        "dblock_train = DataBlock(\n",
        "    blocks=(TextBlock.from_df(text_cols=['texttags', 'label'], seq_len=72), CategoryBlock),\n",
        "            get_x=get_features, \n",
        "            get_y=get_labels)\n",
        "\n",
        "dls = dblock_train.dataloaders(df_train, bs=64)\n",
        "#dls.show_batch(max_n=2)"
      ]
    },
    {
      "cell_type": "markdown",
      "metadata": {
        "id": "MClnyCFIRQsS"
      },
      "source": [
        "## Classification Model"
      ]
    },
    {
      "cell_type": "code",
      "execution_count": 17,
      "metadata": {
        "id": "RLDNSEnSXZLf"
      },
      "outputs": [],
      "source": [
        "from fastai.text.all import *"
      ]
    },
    {
      "cell_type": "code",
      "execution_count": 18,
      "metadata": {
        "id": "yFi9cVezirz9"
      },
      "outputs": [],
      "source": [
        "learn = text_classifier_learner(dls, AWD_LSTM, drop_mult=0.5,metrics=[error_rate, accuracy]).to_fp16()"
      ]
    },
    {
      "cell_type": "code",
      "execution_count": 19,
      "metadata": {
        "colab": {
          "base_uri": "https://localhost:8080/",
          "height": 144
        },
        "id": "Zo2DlMlnirz-",
        "outputId": "4e1a0a04-2488-4bbc-bad8-a7a6bfc4ee2b"
      },
      "outputs": [
        {
          "output_type": "display_data",
          "data": {
            "text/html": [
              "<table border=\"1\" class=\"dataframe\">\n",
              "  <thead>\n",
              "    <tr style=\"text-align: left;\">\n",
              "      <th>epoch</th>\n",
              "      <th>train_loss</th>\n",
              "      <th>valid_loss</th>\n",
              "      <th>error_rate</th>\n",
              "      <th>accuracy</th>\n",
              "      <th>time</th>\n",
              "    </tr>\n",
              "  </thead>\n",
              "  <tbody>\n",
              "    <tr>\n",
              "      <td>0</td>\n",
              "      <td>1.340962</td>\n",
              "      <td>0.654210</td>\n",
              "      <td>0.183925</td>\n",
              "      <td>0.816075</td>\n",
              "      <td>17:23</td>\n",
              "    </tr>\n",
              "  </tbody>\n",
              "</table>"
            ],
            "text/plain": [
              "<IPython.core.display.HTML object>"
            ]
          },
          "metadata": {}
        },
        {
          "output_type": "display_data",
          "data": {
            "text/html": [
              "<table border=\"1\" class=\"dataframe\">\n",
              "  <thead>\n",
              "    <tr style=\"text-align: left;\">\n",
              "      <th>epoch</th>\n",
              "      <th>train_loss</th>\n",
              "      <th>valid_loss</th>\n",
              "      <th>error_rate</th>\n",
              "      <th>accuracy</th>\n",
              "      <th>time</th>\n",
              "    </tr>\n",
              "  </thead>\n",
              "  <tbody>\n",
              "    <tr>\n",
              "      <td>0</td>\n",
              "      <td>0.025257</td>\n",
              "      <td>0.000155</td>\n",
              "      <td>0.000031</td>\n",
              "      <td>0.999969</td>\n",
              "      <td>44:19</td>\n",
              "    </tr>\n",
              "  </tbody>\n",
              "</table>"
            ],
            "text/plain": [
              "<IPython.core.display.HTML object>"
            ]
          },
          "metadata": {}
        }
      ],
      "source": [
        "learn.fine_tune(1, 2e-2)"
      ]
    },
    {
      "cell_type": "code",
      "execution_count": 20,
      "metadata": {
        "colab": {
          "base_uri": "https://localhost:8080/",
          "height": 1000
        },
        "id": "OuPTd5rbirz_",
        "outputId": "d26eddd1-3efc-497c-c0bf-b6dcf2bb8d56"
      },
      "outputs": [
        {
          "output_type": "display_data",
          "data": {
            "text/html": [
              ""
            ],
            "text/plain": [
              "<IPython.core.display.HTML object>"
            ]
          },
          "metadata": {}
        },
        {
          "output_type": "display_data",
          "data": {
            "text/html": [
              "<table border=\"1\" class=\"dataframe\">\n",
              "  <thead>\n",
              "    <tr style=\"text-align: right;\">\n",
              "      <th></th>\n",
              "      <th>text</th>\n",
              "      <th>category</th>\n",
              "      <th>category_</th>\n",
              "    </tr>\n",
              "  </thead>\n",
              "  <tbody>\n",
              "    <tr>\n",
              "      <th>0</th>\n",
              "      <td>xxbos xxfld 1 \\n xxq00_00 xxbob \\n xxeob xxq02_00 \\n\\n xxq00_00xxbob \\n xxeob xxq00_00 \\n\\n xxq00_00xxbob xxmaj general xxmaj xxunk \\n xxbcet ng eu wit former i | xxecet \\n ied ute xxmaj justice xxmaj his departure xxmaj department leaves xxunk the \\n xxbcet second xxmaj while xxunk xxmaj xxunk resignation decision fo xxmaj ia | xxecet \\n med fromthe xxunk , dispute \\n xxmaj law xxmaj firm , his announcement \\n jor the xxmaj xxunk conto : \\n fic xxmaj page az ) \\n ‘ it has come under fe for his \\n tation ofthe xxup reg oer xxmaj ut took \\n { son i m xxmaj xxunk represented xxunk the xxup atc and in he \\n st xxmaj madison 's altar \\n @ vas xxunk transferred xxmaj kore , xxmaj xxunk xxunk xxunk xxup ds \\n reports , posing another stun \\n &amp; lor renewal of xxmaj chin</td>\n",
              "      <td>9</td>\n",
              "      <td>9</td>\n",
              "    </tr>\n",
              "    <tr>\n",
              "      <th>1</th>\n",
              "      <td>xxbos xxfld 1 \\n xxq00_00 xxbob ° xxup the xxup new xxup york xxup times \\n xxmaj new xxmaj york , xxmaj new xxmaj york \\n xxup s. \\n “ april 15 , 1966 \\n xxeob xxq00_00 \\n\\n xxq00_00xxbob 2 xxup xxunk \\n xxunk \\n © xxup by xxup tax xxup officials \\n xxeob xxq00_00 \\n\\n xxq00_00xxbob xxunk xxunk \\n xxmaj smuggling xxmaj from xxmaj south \\n to xxmaj evade xxmaj local xxmaj xxunk \\n xxeob xxq00_00 \\n\\n xxq00_00xxbob \\n▁\\n xxeob xxq00_00 \\n\\n xxq00_00xxbob 82 ° \" \\n xxmaj by xxup martin xxup arnold \\n xxup baltimore , xxmaj april 4 — xxmaj or- \\n | \\n xxunk crime ‘ xxunk . are \\n ‘ apparently taking over the \\n xxunk cigarette business , tax \\n sy \\n xxunk sald here today . \\n ss \\n xxmaj indications of the organized \\n xxunk of the smuggling , mostly \\n ‘</td>\n",
              "      <td>9</td>\n",
              "      <td>9</td>\n",
              "    </tr>\n",
              "    <tr>\n",
              "      <th>2</th>\n",
              "      <td>xxbos xxfld 1 \\n xxq02_00 xxbob xxmaj ns \\n xxeob xxq02_00 \\n\\n xxq00_00xxbob xxmaj classified \\n xxeob xxq00_00 \\n\\n xxq00_00xxbob xxunk xxrep 4 e ae oe \\n xxmaj xxunk xxup xxunk the xxunk year , xxup advertisements per of tha word xxunk . xxmaj rate : times ww 1 fa xxunk xxmaj size cone \\n xxmaj gea yet , per word 448 % $ 0 . 15 times 6 in contact \\n xxup bot xxmaj xxunk xxup sbs ora xxmaj pb xxmaj pose $ 4 . xxunk xxmaj fe , or xxunk and 20 . tee mumber for i words . couse xxunk xxunk for yen , a \\n 2 \\n xxunk , xxmaj full xxunk must accompany , your \\n xxmaj xxunk xxmaj adder : xxmaj xxunk ” xxmaj department , xxmaj wea \\n xxbcet xxmaj xxunk 488 xxmaj xxunk xxmaj ave , xxmaj net , xxmaj nat .</td>\n",
              "      <td>4</td>\n",
              "      <td>4</td>\n",
              "    </tr>\n",
              "    <tr>\n",
              "      <th>3</th>\n",
              "      <td>xxbos xxfld 1 \\n xxq00_00 xxbob xxmaj diversification in the tobacco industry \\n xxeob xxq00_01 \\n\\n xxq00_00xxbob xxmaj the following able representa xxunk tothe xxunk \\n xxbcet profiles of the six xxmaj american cigarette manufacturers published xxecet \\n xxbcet xxmaj medicine xxmaj inthe xxmaj december ( 63 : 1328 - 1332 ) 1983 xxrep 3 s ue and of xxunk the xxmaj new xxmaj york xxmaj the xxmaj state xxmaj cigarete xxmaj journal xxmaj under . of xxecet \\n xxbcet world the subsidiaries , xxmaj secaucus , xxmaj ni , xxup us xxmaj lyle xxunk xxmaj stuart , brands , 1985 ) , xxunk xxmaj the caries themes . tables at . ad xxecet \\n xxbcet ‘ xxunk agencies , and sponsorships and promotions . xxmaj als noted xxecet \\n vere figures on overall advertising expenditures , \\n ‘ cigaretes ate by far the mos advertised prot \\n in soir</td>\n",
              "      <td>9</td>\n",
              "      <td>9</td>\n",
              "    </tr>\n",
              "    <tr>\n",
              "      <th>4</th>\n",
              "      <td>xxbos xxfld 1 \\n xxq00_00 xxbob \\n xxeob xxq00_01 \\n\\n xxq00_00xxbob vat \\n xxeob xxq00_00 \\n\\n xxq00_00xxbob xxmaj simian xxmaj sarcoma xxmaj virus onc xxmaj gene , v - sis , xxmaj is xxmaj derived from the \\n xxeob xxq00_01 \\n\\n xxq00_00xxbob xxmaj gene ( or xxmaj genes ) xxmaj encoding a platelet - derived xxmaj growth xxmaj factor \\n xxeob xxq00_01 \\n\\n xxq00_00xxbob xxup ry \\n xxeob xxq00_00 \\n\\n xxq00_00xxbob i \" xxmaj abstract . xxmaj the transforming protein of a primate sarcoma virus and a platelet- \\n xxeob xxq00_01 \\n\\n xxq00_00xxbob \\n xxeob xxq00_00 \\n\\n xxq00_00xxbob derived grow \\n ‘ 0 xxmaj this xxunk \\n xxeob xxq00_00 \\n\\n xxq00_00xxbob \\n▁\\n xxeob xxq00_00 \\n\\n xxq00_00xxbob sis , and @ human platelet - derived grow ? \\n xxeob xxq00_00 \\n\\n xxq00_00xxbob transforms cells could involve the constitutive expression of a protein with xxunk \\n xxeob xxq00_01 \\n\\n xxq00_00xxbob between the</td>\n",
              "      <td>6</td>\n",
              "      <td>6</td>\n",
              "    </tr>\n",
              "    <tr>\n",
              "      <th>5</th>\n",
              "      <td>xxbos xxfld 1 \\n xxq00_00 xxbob 1 em iss te sae xxunk . eran 0 - 60 \\n xxeob xxq00_00 \\n\\n xxq00_00xxbob xxbcet xxmaj biochemical xxmaj analysis of a xxmaj mutant xxmaj tetrahymena xxmaj lacking xxecet \\n xxbcet xxmaj outer xxmaj dynein xxmaj arms xxecet \\n xxeob xxq00_01 \\n\\n xxq00_00xxbob xxup susan xxup a. xxup xxunk ! \\n xxeob xxq00_00 \\n\\n xxq00_00xxbob \\n xxeob xxq00_00 \\n\\n xxq00_00xxbob xxup anita xxup xxunk , * xxup xxunk xxup kong , \\n xxeob xxq00_01 \\n\\n xxq00_00xxbob xxbcet ‘ connie xxup s. xxup xxunk ‘ * and xxup david xxup g. xxup xxunk * * xxecet \\n xxbcet xxmaj departments of xxmaj zoology * and xxmaj xxunk . * * xxmaj miami xxmaj university , xxmaj oxford , xxmaj ohio xxunk xxecet \\n xxeob xxq00_01 \\n\\n xxq00_00xxbob xxup abstract . xxmaj xxunk thermophila mutants xxunk for the oad mutation xxunk xxunk when grown at</td>\n",
              "      <td>6</td>\n",
              "      <td>6</td>\n",
              "    </tr>\n",
              "    <tr>\n",
              "      <th>6</th>\n",
              "      <td>xxbos xxfld 1 \\n xxq00_00 xxbob xxunk ” xxmaj february 27 , 1965 \\n xxeob xxq00_00 \\n\\n xxq00_00xxbob { xxunk in xxunk xxunk . “ thus it xxunk th xt tho \\n xxunk . of dextran xxunk by : xxunk is not \\n xxunk on tho xxunk hormone ! xxunk . \\n xxeob xxq00_00 \\n\\n xxq00_00xxbob ‘ xxunk xxup i : xxmaj xxunk , \\n xxeob xxq00_00 \\n\\n xxq00_00xxbob xxup b.s , xxmaj xxunk \\n : xxmaj xxunk xxmaj xxunk . \\n xxeob xxq00_00 \\n\\n xxq00_00xxbob xxmaj department of xxmaj xxunk , \\n xxup g.r . xxmaj medical xxmaj colles , \\n xxmaj xxunk ( mp . xxmaj tass \\n xxeob xxq00_00 \\n\\n xxq00_00xxbob “ aza xxmaj xxunk xxmaj land xxmaj xxunk , \\n xxeob xxq00_00 \\n\\n xxq00_00xxbob \\n xxeob xxq00_00 \\n\\n xxq00_00xxbob 18 aea xxmaj ea , xxmaj poet 1 , \\n xxeob xxq00_00 \\n\\n xxq00_00xxbob \\n xxeob xxq00_00</td>\n",
              "      <td>9</td>\n",
              "      <td>9</td>\n",
              "    </tr>\n",
              "    <tr>\n",
              "      <th>7</th>\n",
              "      <td>xxbos xxfld 1 \\n xxq00_00 xxbob ( reprinted xxmaj vol 276 . xxmaj no . $ 687 , pp . 510 - 511 xxmaj november 1978 ) \\n xxbcet © xxmaj xxunk xxmaj journals xxmaj lid , 1978 xxecet \\n xxeob xxq00_01 \\n\\n xxq00_00xxbob xxmaj transformed cell lines susceptible \\n or resistant to in vivo \\n surveillance against tumorigenesis \\n xxeob xxq00_00 \\n\\n xxq00_00xxbob xxup the transformation of a normal cell 10 one which grows as a \\n cancer requires several steps , one of which may involve the \\n escape from tumour surveillance ’ , xxmaj we describe here an \\n experiment designed to define these steps more clearly . xxmaj the \\n principle isto transform normal continuous ce xxrep 3 l ines in viro and \\n then select for transformants by their growth in agarose ” \\n xxmaj these procedures avoid any host selection . xxmaj by testing</td>\n",
              "      <td>6</td>\n",
              "      <td>6</td>\n",
              "    </tr>\n",
              "    <tr>\n",
              "      <th>8</th>\n",
              "      <td>xxbos xxfld 1 \\n xxq00_00 xxbob \\n xxeob xxq00_00 \\n\\n xxq00_00xxbob xxmaj aim . xxmaj rev xxmaj resp xxmaj dis \\n xxeob xxq00_00 \\n\\n xxq00_00xxbob \\n xxeob xxq00_00 \\n\\n xxq00_00xxbob 1903 / 4 ! 447 - 49 xxmaj cpr 1991 \\n , \\n xxeob xxq00_01 \\n\\n xxq00_01xxbob \\n xxeob xxq00_01 \\n\\n xxq00_01xxbob 1921 \\n xxeob xxq00_01 \\n\\n xxq00_00xxbob xxmaj secretion of xxmaj alpha , xxmaj proteinase \\n xxmaj inhibitor by xxmaj cultured xxmaj ra ! \\n xxmaj alveolar xxmaj macrophages \" ? \\n xxeob xxq00_01 \\n\\n xxq00_00xxbob xxup richard xxup white , \\n xxeob xxq00_00 \\n\\n xxq00_00xxbob xxmaj introduction \\n xxmaj puimonary emphysema . \\n is character- \\n ized by extensive remodeling of \\n lun \\n xxbcet elastic connective xxecet \\n tissues , resulting i m \\n fn increase in the of the alveolar \\n size \\n ait spaces ( 1 ) . xxmaj the model for \\n current \\n</td>\n",
              "      <td>6</td>\n",
              "      <td>6</td>\n",
              "    </tr>\n",
              "  </tbody>\n",
              "</table>"
            ],
            "text/plain": [
              "<IPython.core.display.HTML object>"
            ]
          },
          "metadata": {}
        }
      ],
      "source": [
        "learn.show_results()"
      ]
    },
    {
      "cell_type": "code",
      "execution_count": 21,
      "metadata": {
        "colab": {
          "base_uri": "https://localhost:8080/"
        },
        "id": "Rw8c5QKzir0E",
        "outputId": "885b6442-ebaf-4046-df1d-b1e4ff4f8a79"
      },
      "outputs": [
        {
          "output_type": "execute_result",
          "data": {
            "text/plain": [
              "Path('models/text_classification_ctags.pth')"
            ]
          },
          "metadata": {},
          "execution_count": 21
        }
      ],
      "source": [
        "learn.save('text_classification_ctags')"
      ]
    },
    {
      "cell_type": "code",
      "execution_count": 22,
      "metadata": {
        "id": "ITlc1bIjir0E"
      },
      "outputs": [],
      "source": [
        "# load model\n",
        "learn = learn.load('text_classification_ctags')"
      ]
    },
    {
      "cell_type": "code",
      "execution_count": 23,
      "metadata": {
        "colab": {
          "base_uri": "https://localhost:8080/",
          "height": 112
        },
        "id": "jtMn6zPzDua6",
        "outputId": "ff0f1e91-81f6-470c-85e2-8a28d890e298"
      },
      "outputs": [
        {
          "output_type": "display_data",
          "data": {
            "text/html": [
              "<table border=\"1\" class=\"dataframe\">\n",
              "  <thead>\n",
              "    <tr style=\"text-align: left;\">\n",
              "      <th>epoch</th>\n",
              "      <th>train_loss</th>\n",
              "      <th>valid_loss</th>\n",
              "      <th>error_rate</th>\n",
              "      <th>accuracy</th>\n",
              "      <th>time</th>\n",
              "    </tr>\n",
              "  </thead>\n",
              "  <tbody>\n",
              "    <tr>\n",
              "      <td>0</td>\n",
              "      <td>0.037646</td>\n",
              "      <td>0.000424</td>\n",
              "      <td>0.000172</td>\n",
              "      <td>0.999828</td>\n",
              "      <td>44:27</td>\n",
              "    </tr>\n",
              "    <tr>\n",
              "      <td>1</td>\n",
              "      <td>0.028535</td>\n",
              "      <td>0.000059</td>\n",
              "      <td>0.000000</td>\n",
              "      <td>1.000000</td>\n",
              "      <td>44:21</td>\n",
              "    </tr>\n",
              "  </tbody>\n",
              "</table>"
            ],
            "text/plain": [
              "<IPython.core.display.HTML object>"
            ]
          },
          "metadata": {}
        }
      ],
      "source": [
        "learn.unfreeze()\n",
        "learn.fit_one_cycle(2, 2e-3)"
      ]
    },
    {
      "cell_type": "code",
      "execution_count": 24,
      "metadata": {
        "colab": {
          "base_uri": "https://localhost:8080/",
          "height": 306
        },
        "id": "uke_9kj5Ef-j",
        "outputId": "2c67b824-7e43-45ea-c3f0-da6533d6e730"
      },
      "outputs": [
        {
          "output_type": "display_data",
          "data": {
            "text/html": [
              ""
            ],
            "text/plain": [
              "<IPython.core.display.HTML object>"
            ]
          },
          "metadata": {}
        },
        {
          "output_type": "execute_result",
          "data": {
            "text/plain": [
              "SuggestedLRs(valley=6.309573450380412e-07)"
            ]
          },
          "metadata": {},
          "execution_count": 24
        },
        {
          "output_type": "display_data",
          "data": {
            "image/png": "[encoded data removed]",
            "text/plain": [
              "<Figure size 432x288 with 1 Axes>"
            ]
          },
          "metadata": {
            "needs_background": "light"
          }
        }
      ],
      "source": [
        "learn.unfreeze()\n",
        "learn.lr_find()"
      ]
    },
    {
      "cell_type": "code",
      "execution_count": 25,
      "metadata": {
        "id": "BKcBxTsjOCVH"
      },
      "outputs": [],
      "source": [
        "learn_lm = text_classifier_learner(dls, AWD_LSTM, drop_mult=0.5,metrics=[error_rate, accuracy]).to_fp16()"
      ]
    },
    {
      "cell_type": "code",
      "execution_count": 26,
      "metadata": {
        "colab": {
          "base_uri": "https://localhost:8080/",
          "height": 176
        },
        "id": "bXw6ULBgOTB_",
        "outputId": "3c7b586d-2765-4e2c-b0be-d4d3598aa1d0"
      },
      "outputs": [
        {
          "output_type": "display_data",
          "data": {
            "text/html": [
              "<table border=\"1\" class=\"dataframe\">\n",
              "  <thead>\n",
              "    <tr style=\"text-align: left;\">\n",
              "      <th>epoch</th>\n",
              "      <th>train_loss</th>\n",
              "      <th>valid_loss</th>\n",
              "      <th>error_rate</th>\n",
              "      <th>accuracy</th>\n",
              "      <th>time</th>\n",
              "    </tr>\n",
              "  </thead>\n",
              "  <tbody>\n",
              "    <tr>\n",
              "      <td>0</td>\n",
              "      <td>1.265077</td>\n",
              "      <td>0.677272</td>\n",
              "      <td>0.185081</td>\n",
              "      <td>0.814919</td>\n",
              "      <td>17:24</td>\n",
              "    </tr>\n",
              "  </tbody>\n",
              "</table>"
            ],
            "text/plain": [
              "<IPython.core.display.HTML object>"
            ]
          },
          "metadata": {}
        },
        {
          "output_type": "display_data",
          "data": {
            "text/html": [
              "<table border=\"1\" class=\"dataframe\">\n",
              "  <thead>\n",
              "    <tr style=\"text-align: left;\">\n",
              "      <th>epoch</th>\n",
              "      <th>train_loss</th>\n",
              "      <th>valid_loss</th>\n",
              "      <th>error_rate</th>\n",
              "      <th>accuracy</th>\n",
              "      <th>time</th>\n",
              "    </tr>\n",
              "  </thead>\n",
              "  <tbody>\n",
              "    <tr>\n",
              "      <td>0</td>\n",
              "      <td>0.034830</td>\n",
              "      <td>0.000053</td>\n",
              "      <td>0.000000</td>\n",
              "      <td>1.000000</td>\n",
              "      <td>44:26</td>\n",
              "    </tr>\n",
              "    <tr>\n",
              "      <td>1</td>\n",
              "      <td>0.026529</td>\n",
              "      <td>0.000030</td>\n",
              "      <td>0.000000</td>\n",
              "      <td>1.000000</td>\n",
              "      <td>44:20</td>\n",
              "    </tr>\n",
              "  </tbody>\n",
              "</table>"
            ],
            "text/plain": [
              "<IPython.core.display.HTML object>"
            ]
          },
          "metadata": {}
        }
      ],
      "source": [
        "learn_lm.fine_tune(2, 1e-2)"
      ]
    },
    {
      "cell_type": "markdown",
      "metadata": {
        "id": "02q2cfAEv-2L"
      },
      "source": [
        "##Validation"
      ]
    },
    {
      "cell_type": "code",
      "execution_count": null,
      "metadata": {
        "id": "dI-21566m66z"
      },
      "outputs": [],
      "source": [
        "#df_test = df_test[0:3000]"
      ]
    },
    {
      "cell_type": "code",
      "execution_count": 27,
      "metadata": {
        "colab": {
          "base_uri": "https://localhost:8080/",
          "height": 72
        },
        "id": "PDKUp3_xOeF9",
        "outputId": "2a9e94e8-2cae-4154-ecd0-022164458c72"
      },
      "outputs": [
        {
          "output_type": "display_data",
          "data": {
            "text/html": [
              ""
            ],
            "text/plain": [
              "<IPython.core.display.HTML object>"
            ]
          },
          "metadata": {}
        },
        {
          "output_type": "stream",
          "name": "stderr",
          "text": [
            "/usr/local/lib/python3.7/dist-packages/numpy/core/_asarray.py:83: VisibleDeprecationWarning: Creating an ndarray from ragged nested sequences (which is a list-or-tuple of lists-or-tuples-or ndarrays with different lengths or shapes) is deprecated. If you meant to do this, you must specify 'dtype=object' when creating the ndarray\n",
            "  return array(a, dtype, copy=False, order=order)\n"
          ]
        }
      ],
      "source": [
        "# create dataloader of test\n",
        "dblock_test = DataBlock(\n",
        "    blocks=(TextBlock.from_df(text_cols=['texttags', 'label'], seq_len=72), CategoryBlock),\n",
        "            get_x=get_features, \n",
        "            get_y=get_labels)\n",
        "\n",
        "dloader_test = dblock_test.dataloaders(df_test, bs=64)\n",
        "#dloader_test.show_batch(max_n=2)"
      ]
    },
    {
      "cell_type": "code",
      "execution_count": 28,
      "metadata": {
        "colab": {
          "base_uri": "https://localhost:8080/",
          "height": 17
        },
        "id": "OHx_4h_GO0_6",
        "outputId": "d9135904-8c59-46fd-b609-686661183bad"
      },
      "outputs": [
        {
          "output_type": "display_data",
          "data": {
            "text/html": [
              ""
            ],
            "text/plain": [
              "<IPython.core.display.HTML object>"
            ]
          },
          "metadata": {}
        }
      ],
      "source": [
        "test_dl = dloader_test.test_dl(df_test['texttags'])\n",
        "preds = learn_lm.get_preds(dl=test_dl, with_decoded=True)"
      ]
    },
    {
      "cell_type": "code",
      "execution_count": 29,
      "metadata": {
        "colab": {
          "base_uri": "https://localhost:8080/"
        },
        "id": "IRn1BE2Xlw98",
        "outputId": "402960dd-d942-42db-db29-bb80389d0561"
      },
      "outputs": [
        {
          "output_type": "execute_result",
          "data": {
            "text/plain": [
              "3"
            ]
          },
          "metadata": {},
          "execution_count": 29
        }
      ],
      "source": [
        "len(preds)"
      ]
    },
    {
      "cell_type": "code",
      "execution_count": 30,
      "metadata": {
        "colab": {
          "base_uri": "https://localhost:8080/",
          "height": 34
        },
        "id": "ZdEp4Buulx1k",
        "outputId": "60a6cf2e-d613-4703-fb75-fdcad674cb43"
      },
      "outputs": [
        {
          "output_type": "display_data",
          "data": {
            "text/html": [
              ""
            ],
            "text/plain": [
              "<IPython.core.display.HTML object>"
            ]
          },
          "metadata": {}
        },
        {
          "output_type": "execute_result",
          "data": {
            "text/plain": [
              "(#3) [3.0285740649560466e-05,0.0,1.0]"
            ]
          },
          "metadata": {},
          "execution_count": 30
        }
      ],
      "source": [
        "learn_lm.validate()"
      ]
    },
    {
      "cell_type": "code",
      "execution_count": 31,
      "metadata": {
        "colab": {
          "base_uri": "https://localhost:8080/",
          "height": 310
        },
        "id": "10eEHOedl1cY",
        "outputId": "91a72968-844f-4cee-c2c3-e526d8fe7df3"
      },
      "outputs": [
        {
          "output_type": "display_data",
          "data": {
            "text/html": [
              ""
            ],
            "text/plain": [
              "<IPython.core.display.HTML object>"
            ]
          },
          "metadata": {}
        },
        {
          "output_type": "display_data",
          "data": {
            "image/png": "[encoded data removed]",
            "text/plain": [
              "<Figure size 432x288 with 1 Axes>"
            ]
          },
          "metadata": {
            "needs_background": "light"
          }
        }
      ],
      "source": [
        "interp = ClassificationInterpretation.from_learner(learn_lm)\n",
        "interp.plot_confusion_matrix()"
      ]
    }
  ],
  "metadata": {
    "accelerator": "GPU",
    "colab": {
      "collapsed_sections": [
        "bY4v5mjtPfun",
        "MClnyCFIRQsS"
      ],
      "machine_shape": "hm",
      "name": "Sample_Fastai_with_tags_RVLCDIP.ipynb",
      "provenance": [],
      "include_colab_link": true
    },
    "jupytext": {
      "split_at_heading": true
    },
    "kernelspec": {
      "display_name": "Python 3",
      "language": "python",
      "name": "python3"
    }
  },
  "nbformat": 4,
  "nbformat_minor": 0
}