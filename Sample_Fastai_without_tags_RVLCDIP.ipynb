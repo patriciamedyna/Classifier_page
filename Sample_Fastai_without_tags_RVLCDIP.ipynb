{
  "nbformat": 4,
  "nbformat_minor": 0,
  "metadata": {
    "accelerator": "GPU",
    "colab": {
      "name": "Sample_Fastai_without_tags_RVLCDIP.ipynb",
      "provenance": [],
      "machine_shape": "hm",
      "collapsed_sections": [],
      "include_colab_link": true
    },
    "jupytext": {
      "split_at_heading": true
    },
    "kernelspec": {
      "display_name": "Python 3",
      "language": "python",
      "name": "python3"
    }
  },
  "cells": [
    {
      "cell_type": "markdown",
      "metadata": {
        "id": "view-in-github",
        "colab_type": "text"
      },
      "source": [
        "<a href=\"https://colab.research.google.com/github/patriciamedyna/Classifier_page/blob/main/Sample_Fastai_without_tags_RVLCDIP.ipynb\" target=\"_parent\"><img src=\"https://colab.research.google.com/assets/colab-badge.svg\" alt=\"Open In Colab\"/></a>"
      ]
    },
    {
      "cell_type": "code",
      "metadata": {
        "id": "UJr_N-oGWpgm",
        "colab": {
          "base_uri": "https://localhost:8080/"
        },
        "outputId": "30f6291f-94a6-4329-b7bf-e7d069d02a47"
      },
      "source": [
        "! [ -e /content ] && pip install -Uqq fastai"
      ],
      "execution_count": 1,
      "outputs": [
        {
          "output_type": "stream",
          "name": "stdout",
          "text": [
            "\u001b[K     |████████████████████████████████| 189 kB 9.5 MB/s \n",
            "\u001b[K     |████████████████████████████████| 56 kB 5.4 MB/s \n",
            "\u001b[?25h"
          ]
        }
      ]
    },
    {
      "cell_type": "code",
      "metadata": {
        "id": "yaH3SUzZjuA-",
        "colab": {
          "base_uri": "https://localhost:8080/"
        },
        "outputId": "fe07f9d2-e455-442f-cd36-453baa5da3fc"
      },
      "source": [
        "#hide\n",
        "!pip install -Uqq fastbook\n",
        "import fastbook"
      ],
      "execution_count": 2,
      "outputs": [
        {
          "output_type": "stream",
          "name": "stdout",
          "text": [
            "\u001b[?25l\r\u001b[K     |▌                               | 10 kB 28.6 MB/s eta 0:00:01\r\u001b[K     |█                               | 20 kB 32.6 MB/s eta 0:00:01\r\u001b[K     |█▍                              | 30 kB 20.0 MB/s eta 0:00:01\r\u001b[K     |█▉                              | 40 kB 16.7 MB/s eta 0:00:01\r\u001b[K     |██▎                             | 51 kB 8.1 MB/s eta 0:00:01\r\u001b[K     |██▊                             | 61 kB 9.4 MB/s eta 0:00:01\r\u001b[K     |███▏                            | 71 kB 8.4 MB/s eta 0:00:01\r\u001b[K     |███▋                            | 81 kB 9.2 MB/s eta 0:00:01\r\u001b[K     |████                            | 92 kB 10.2 MB/s eta 0:00:01\r\u001b[K     |████▌                           | 102 kB 7.9 MB/s eta 0:00:01\r\u001b[K     |█████                           | 112 kB 7.9 MB/s eta 0:00:01\r\u001b[K     |█████▌                          | 122 kB 7.9 MB/s eta 0:00:01\r\u001b[K     |██████                          | 133 kB 7.9 MB/s eta 0:00:01\r\u001b[K     |██████▍                         | 143 kB 7.9 MB/s eta 0:00:01\r\u001b[K     |██████▉                         | 153 kB 7.9 MB/s eta 0:00:01\r\u001b[K     |███████▎                        | 163 kB 7.9 MB/s eta 0:00:01\r\u001b[K     |███████▊                        | 174 kB 7.9 MB/s eta 0:00:01\r\u001b[K     |████████▏                       | 184 kB 7.9 MB/s eta 0:00:01\r\u001b[K     |████████▋                       | 194 kB 7.9 MB/s eta 0:00:01\r\u001b[K     |█████████                       | 204 kB 7.9 MB/s eta 0:00:01\r\u001b[K     |█████████▋                      | 215 kB 7.9 MB/s eta 0:00:01\r\u001b[K     |██████████                      | 225 kB 7.9 MB/s eta 0:00:01\r\u001b[K     |██████████▌                     | 235 kB 7.9 MB/s eta 0:00:01\r\u001b[K     |███████████                     | 245 kB 7.9 MB/s eta 0:00:01\r\u001b[K     |███████████▍                    | 256 kB 7.9 MB/s eta 0:00:01\r\u001b[K     |███████████▉                    | 266 kB 7.9 MB/s eta 0:00:01\r\u001b[K     |████████████▎                   | 276 kB 7.9 MB/s eta 0:00:01\r\u001b[K     |████████████▊                   | 286 kB 7.9 MB/s eta 0:00:01\r\u001b[K     |█████████████▏                  | 296 kB 7.9 MB/s eta 0:00:01\r\u001b[K     |█████████████▋                  | 307 kB 7.9 MB/s eta 0:00:01\r\u001b[K     |██████████████                  | 317 kB 7.9 MB/s eta 0:00:01\r\u001b[K     |██████████████▋                 | 327 kB 7.9 MB/s eta 0:00:01\r\u001b[K     |███████████████                 | 337 kB 7.9 MB/s eta 0:00:01\r\u001b[K     |███████████████▌                | 348 kB 7.9 MB/s eta 0:00:01\r\u001b[K     |████████████████                | 358 kB 7.9 MB/s eta 0:00:01\r\u001b[K     |████████████████▍               | 368 kB 7.9 MB/s eta 0:00:01\r\u001b[K     |████████████████▉               | 378 kB 7.9 MB/s eta 0:00:01\r\u001b[K     |█████████████████▎              | 389 kB 7.9 MB/s eta 0:00:01\r\u001b[K     |█████████████████▊              | 399 kB 7.9 MB/s eta 0:00:01\r\u001b[K     |██████████████████▏             | 409 kB 7.9 MB/s eta 0:00:01\r\u001b[K     |██████████████████▋             | 419 kB 7.9 MB/s eta 0:00:01\r\u001b[K     |███████████████████▏            | 430 kB 7.9 MB/s eta 0:00:01\r\u001b[K     |███████████████████▋            | 440 kB 7.9 MB/s eta 0:00:01\r\u001b[K     |████████████████████            | 450 kB 7.9 MB/s eta 0:00:01\r\u001b[K     |████████████████████▌           | 460 kB 7.9 MB/s eta 0:00:01\r\u001b[K     |█████████████████████           | 471 kB 7.9 MB/s eta 0:00:01\r\u001b[K     |█████████████████████▍          | 481 kB 7.9 MB/s eta 0:00:01\r\u001b[K     |█████████████████████▉          | 491 kB 7.9 MB/s eta 0:00:01\r\u001b[K     |██████████████████████▎         | 501 kB 7.9 MB/s eta 0:00:01\r\u001b[K     |██████████████████████▊         | 512 kB 7.9 MB/s eta 0:00:01\r\u001b[K     |███████████████████████▏        | 522 kB 7.9 MB/s eta 0:00:01\r\u001b[K     |███████████████████████▋        | 532 kB 7.9 MB/s eta 0:00:01\r\u001b[K     |████████████████████████▏       | 542 kB 7.9 MB/s eta 0:00:01\r\u001b[K     |████████████████████████▋       | 552 kB 7.9 MB/s eta 0:00:01\r\u001b[K     |█████████████████████████       | 563 kB 7.9 MB/s eta 0:00:01\r\u001b[K     |█████████████████████████▌      | 573 kB 7.9 MB/s eta 0:00:01\r\u001b[K     |██████████████████████████      | 583 kB 7.9 MB/s eta 0:00:01\r\u001b[K     |██████████████████████████▍     | 593 kB 7.9 MB/s eta 0:00:01\r\u001b[K     |██████████████████████████▉     | 604 kB 7.9 MB/s eta 0:00:01\r\u001b[K     |███████████████████████████▎    | 614 kB 7.9 MB/s eta 0:00:01\r\u001b[K     |███████████████████████████▊    | 624 kB 7.9 MB/s eta 0:00:01\r\u001b[K     |████████████████████████████▏   | 634 kB 7.9 MB/s eta 0:00:01\r\u001b[K     |████████████████████████████▊   | 645 kB 7.9 MB/s eta 0:00:01\r\u001b[K     |█████████████████████████████▏  | 655 kB 7.9 MB/s eta 0:00:01\r\u001b[K     |█████████████████████████████▋  | 665 kB 7.9 MB/s eta 0:00:01\r\u001b[K     |██████████████████████████████  | 675 kB 7.9 MB/s eta 0:00:01\r\u001b[K     |██████████████████████████████▌ | 686 kB 7.9 MB/s eta 0:00:01\r\u001b[K     |███████████████████████████████ | 696 kB 7.9 MB/s eta 0:00:01\r\u001b[K     |███████████████████████████████▍| 706 kB 7.9 MB/s eta 0:00:01\r\u001b[K     |███████████████████████████████▉| 716 kB 7.9 MB/s eta 0:00:01\r\u001b[K     |████████████████████████████████| 720 kB 7.9 MB/s \n",
            "\u001b[K     |████████████████████████████████| 46 kB 5.5 MB/s \n",
            "\u001b[K     |████████████████████████████████| 1.2 MB 76.2 MB/s \n",
            "\u001b[K     |████████████████████████████████| 51 kB 445 kB/s \n",
            "\u001b[?25h"
          ]
        }
      ]
    },
    {
      "cell_type": "code",
      "metadata": {
        "id": "ZZ_arKKyj3Co"
      },
      "source": [
        "#hide\n",
        "from fastbook import *\n",
        "from IPython.display import display, HTML"
      ],
      "execution_count": 3,
      "outputs": []
    },
    {
      "cell_type": "code",
      "metadata": {
        "id": "-gu3NxcBirzx"
      },
      "source": [
        "from fastai.basics import *\n",
        "from fastai.text.core import *\n",
        "from fastai.text.data import *\n",
        "from fastai.text.models.core import *\n",
        "from fastai.text.models.awdlstm import *\n",
        "from fastai.callback.rnn import *\n",
        "from fastai.callback.progress import *"
      ],
      "execution_count": 4,
      "outputs": []
    },
    {
      "cell_type": "code",
      "metadata": {
        "colab": {
          "base_uri": "https://localhost:8080/"
        },
        "id": "51jgSOs8zZrX",
        "outputId": "984052cc-48c6-44bf-e6f7-58a1f2daab03"
      },
      "source": [
        "from google.colab import drive\n",
        "drive.mount('/content/drive')"
      ],
      "execution_count": 5,
      "outputs": [
        {
          "output_type": "stream",
          "name": "stdout",
          "text": [
            "Mounted at /content/drive\n"
          ]
        }
      ]
    },
    {
      "cell_type": "code",
      "metadata": {
        "id": "F3fCSD3QmMF_"
      },
      "source": [
        "#path = '/content/drive/.shortcut-targets-by-id/1-qv-5jmPjOBKOLQl9B6mzvygl_RQ_Y7l/RVL_CDIP/labels/'\n",
        "path = '/content/drive/MyDrive/Colab Notebooks/Datasets/RVL_CDIP/labels/'\n",
        "df_train = pd.read_csv(path + 'train.csv', delimiter=',', error_bad_lines=False)"
      ],
      "execution_count": 6,
      "outputs": []
    },
    {
      "cell_type": "code",
      "metadata": {
        "id": "mQDKLPV-GsOh",
        "colab": {
          "base_uri": "https://localhost:8080/",
          "height": 615
        },
        "outputId": "60280b81-1704-4be7-8c00-05460e53e954"
      },
      "source": [
        "df_train.head()"
      ],
      "execution_count": 7,
      "outputs": [
        {
          "output_type": "execute_result",
          "data": {
            "text/html": [
              "\n",
              "  <div id=\"df-90a25ab7-8d62-48d8-acbd-9342cfa44ce6\">\n",
              "    <div class=\"colab-df-container\">\n",
              "      <div>\n",
              "<style scoped>\n",
              "    .dataframe tbody tr th:only-of-type {\n",
              "        vertical-align: middle;\n",
              "    }\n",
              "\n",
              "    .dataframe tbody tr th {\n",
              "        vertical-align: top;\n",
              "    }\n",
              "\n",
              "    .dataframe thead th {\n",
              "        text-align: right;\n",
              "    }\n",
              "</style>\n",
              "<table border=\"1\" class=\"dataframe\">\n",
              "  <thead>\n",
              "    <tr style=\"text-align: right;\">\n",
              "      <th></th>\n",
              "      <th>path</th>\n",
              "      <th>label</th>\n",
              "      <th>text</th>\n",
              "    </tr>\n",
              "  </thead>\n",
              "  <tbody>\n",
              "    <tr>\n",
              "      <th>0</th>\n",
              "      <td>imagese/e/w/c/ewc23d00/513280028.tif</td>\n",
              "      <td>1</td>\n",
              "      <td>7002 00 OF (2 DOCUMENT CLEARANCE SHEET P (For Original Contracts Only) 2004-00-00 CONTRACT # CONTRACT SUBJECT: \\TCHBL 1 COMPANY: |. BEI INS BRAND(s): _CAMEL TOTAL COST: _$528,000 CURRENT YEAR EFO: _($528,000: BRIEF DESCRIPTION: _D. D. BEAN WILL PRODUCE AND DISTRIBUTE UP TO 264,000 CASES _ OF PRINTED CAMEL ADVERTISING ON MATCHBOOKS, PROGRAM] G/L CODE: 04-73-4600-8215-855 LINE ITEM: 200737-072402 *IMPLEMENTOR: _S. B. DRISKE! **BRAND MANAGEMENT: __E. C. LEARY. TRVOICE APPROVAL AUTHORITY INVOICE APPROVAL AUTHORITY REVIEW ROUTING: DEPARTMENT = ____NAME ___swqwarure __DATE 7G 7-242 ave wouteD FI...</td>\n",
              "    </tr>\n",
              "    <tr>\n",
              "      <th>1</th>\n",
              "      <td>imagesw/w/b/t/wbt26e00/2053453161.tif</td>\n",
              "      <td>7</td>\n",
              "      <td>‘CABARRUS COUNTY EFFECTIVE DATE: 03/08/93, MARLBORO 100 REGULAR SP RED STANOARO. PRODUCTION BRAND CODE-00540 (S10) CIoARETTE LENGTH =: 99.5, mM FTOTAR «16.0 Movolor 15.5 = 17.4 ToBAcco ROD ciRcUM, —: 24.80 va TOBACCO ROD LENGTH reo vt FicTER LeneTh ans 14 Tipp ine LENGTH 311500 vot TOTAL R.T.0, leo aM, W20 DILUTION TARGET 14.0 +/- 5.0 % TIPPING PAPER /USE UP: 631M X 3000! coRK DGL Eo-T01 12-4l-B LASER PERF. REPLACE WITH 631M X 3000M CORK DGL_ «KE GSRH75712-500-A LASER PERF. GLUE ROLLER/ | REFER TO ENGINEERINGS LUE ROLLER VARIABLE PARTS CATALOG = TIPPING INFORMATION + BY TYPE=TIPPER AND CIG...</td>\n",
              "    </tr>\n",
              "    <tr>\n",
              "      <th>2</th>\n",
              "      <td>imagesm/m/k/m/mkm05e00/2040792992_2040792994.tif</td>\n",
              "      <td>10</td>\n",
              "      <td>4 LEO BURNETT U.S.A. : ADVERTISING . NEWSPAPER ESTIMATE RECKP ~ PNOt PERIOD DATE 03/08/81 01/01/80 70 12/31/80 PAGE 1 CLIENT: P.M. INC. OFFICE: 10 DESC: 703A MARLBORO RED ROP EST NO: 0008 REVISES EST DTD 02/08/91 cross. Ross. Gross PRopucT PeRTOD AMOUNT CHANGE LESS C/D tO-MARLBORO YAN 1990 8,624.00 8,624.00 Fee 25,872.00 28,872.00 mar 68,982.00 8,992.00 QUARTER + 103,488.00 103488 .00 AeR 98,403.06 88,403.06 may 71,868.00 71,868.00 UN 43, 120.00 431 120.00 QUARTER 2 203,301.06 203/391.06 ul 32,472.00 32,472.00 aug 57,024.00 57,024.00 SEP 57,042.82 57,042.82 QuaRTER 3 146,506.82 146,808.82 ...</td>\n",
              "    </tr>\n",
              "    <tr>\n",
              "      <th>3</th>\n",
              "      <td>imageso/o/e/x/oex80d00/522787731+-7732.tif</td>\n",
              "      <td>3</td>\n",
              "      <td>1 2. OFF, This mest oe 4 (okel 2.000 FF ne my ram EB 4 pack or'1 BMS reli “E ee Th sein</td>\n",
              "    </tr>\n",
              "    <tr>\n",
              "      <th>4</th>\n",
              "      <td>imagesq/q/v/t/qvt06d00/50525666-5667.tif</td>\n",
              "      <td>14</td>\n",
              "      <td>CURRICULUM VITAE: Name: tzhack Polacheck, Ph.D. Position Title: Assoc. Prof, EDUCATION: Institution and Location Degree Year Field of Study Hebrew University Jerusalem, Israel BSe 1969 Bichemisiry &amp; Microbiology Hebrew University Jerusalem, Israel MSc. 1971 Microbiology Hebrew University Jerusalem, Israel PhD. 1977 Microbiology NIAMD, NIH, MD, USA. Post. Doc. 1978 Microbivlony NIAID, NIH, MD, USA Post Dec. 1981 Medical Mycology Professional Experience: 1972-1976: Hebrew University Jerusalem, Israel ,Assistant. 1973: Universite de Liege, Liege, Belgium EMBO Short-term Fellowship, Research f...</td>\n",
              "    </tr>\n",
              "  </tbody>\n",
              "</table>\n",
              "</div>\n",
              "      <button class=\"colab-df-convert\" onclick=\"convertToInteractive('df-90a25ab7-8d62-48d8-acbd-9342cfa44ce6')\"\n",
              "              title=\"Convert this dataframe to an interactive table.\"\n",
              "              style=\"display:none;\">\n",
              "        \n",
              "  <svg xmlns=\"http://www.w3.org/2000/svg\" height=\"24px\"viewBox=\"0 0 24 24\"\n",
              "       width=\"24px\">\n",
              "    <path d=\"M0 0h24v24H0V0z\" fill=\"none\"/>\n",
              "    <path d=\"M18.56 5.44l.94 2.06.94-2.06 2.06-.94-2.06-.94-.94-2.06-.94 2.06-2.06.94zm-11 1L8.5 8.5l.94-2.06 2.06-.94-2.06-.94L8.5 2.5l-.94 2.06-2.06.94zm10 10l.94 2.06.94-2.06 2.06-.94-2.06-.94-.94-2.06-.94 2.06-2.06.94z\"/><path d=\"M17.41 7.96l-1.37-1.37c-.4-.4-.92-.59-1.43-.59-.52 0-1.04.2-1.43.59L10.3 9.45l-7.72 7.72c-.78.78-.78 2.05 0 2.83L4 21.41c.39.39.9.59 1.41.59.51 0 1.02-.2 1.41-.59l7.78-7.78 2.81-2.81c.8-.78.8-2.07 0-2.86zM5.41 20L4 18.59l7.72-7.72 1.47 1.35L5.41 20z\"/>\n",
              "  </svg>\n",
              "      </button>\n",
              "      \n",
              "  <style>\n",
              "    .colab-df-container {\n",
              "      display:flex;\n",
              "      flex-wrap:wrap;\n",
              "      gap: 12px;\n",
              "    }\n",
              "\n",
              "    .colab-df-convert {\n",
              "      background-color: #E8F0FE;\n",
              "      border: none;\n",
              "      border-radius: 50%;\n",
              "      cursor: pointer;\n",
              "      display: none;\n",
              "      fill: #1967D2;\n",
              "      height: 32px;\n",
              "      padding: 0 0 0 0;\n",
              "      width: 32px;\n",
              "    }\n",
              "\n",
              "    .colab-df-convert:hover {\n",
              "      background-color: #E2EBFA;\n",
              "      box-shadow: 0px 1px 2px rgba(60, 64, 67, 0.3), 0px 1px 3px 1px rgba(60, 64, 67, 0.15);\n",
              "      fill: #174EA6;\n",
              "    }\n",
              "\n",
              "    [theme=dark] .colab-df-convert {\n",
              "      background-color: #3B4455;\n",
              "      fill: #D2E3FC;\n",
              "    }\n",
              "\n",
              "    [theme=dark] .colab-df-convert:hover {\n",
              "      background-color: #434B5C;\n",
              "      box-shadow: 0px 1px 3px 1px rgba(0, 0, 0, 0.15);\n",
              "      filter: drop-shadow(0px 1px 2px rgba(0, 0, 0, 0.3));\n",
              "      fill: #FFFFFF;\n",
              "    }\n",
              "  </style>\n",
              "\n",
              "      <script>\n",
              "        const buttonEl =\n",
              "          document.querySelector('#df-90a25ab7-8d62-48d8-acbd-9342cfa44ce6 button.colab-df-convert');\n",
              "        buttonEl.style.display =\n",
              "          google.colab.kernel.accessAllowed ? 'block' : 'none';\n",
              "\n",
              "        async function convertToInteractive(key) {\n",
              "          const element = document.querySelector('#df-90a25ab7-8d62-48d8-acbd-9342cfa44ce6');\n",
              "          const dataTable =\n",
              "            await google.colab.kernel.invokeFunction('convertToInteractive',\n",
              "                                                     [key], {});\n",
              "          if (!dataTable) return;\n",
              "\n",
              "          const docLinkHtml = 'Like what you see? Visit the ' +\n",
              "            '<a target=\"_blank\" href=https://colab.research.google.com/notebooks/data_table.ipynb>data table notebook</a>'\n",
              "            + ' to learn more about interactive tables.';\n",
              "          element.innerHTML = '';\n",
              "          dataTable['output_type'] = 'display_data';\n",
              "          await google.colab.output.renderOutput(dataTable, element);\n",
              "          const docLink = document.createElement('div');\n",
              "          docLink.innerHTML = docLinkHtml;\n",
              "          element.appendChild(docLink);\n",
              "        }\n",
              "      </script>\n",
              "    </div>\n",
              "  </div>\n",
              "  "
            ],
            "text/plain": [
              "                                               path  label  \\\n",
              "0              imagese/e/w/c/ewc23d00/513280028.tif      1   \n",
              "1             imagesw/w/b/t/wbt26e00/2053453161.tif      7   \n",
              "2  imagesm/m/k/m/mkm05e00/2040792992_2040792994.tif     10   \n",
              "3        imageso/o/e/x/oex80d00/522787731+-7732.tif      3   \n",
              "4          imagesq/q/v/t/qvt06d00/50525666-5667.tif     14   \n",
              "\n",
              "                                                                                                                                                                                                                                                                                                                                                                                                                                                                                                                                                                                                                      text  \n",
              "0  7002 00 OF (2 DOCUMENT CLEARANCE SHEET P (For Original Contracts Only) 2004-00-00 CONTRACT # CONTRACT SUBJECT: \\TCHBL 1 COMPANY: |. BEI INS BRAND(s): _CAMEL TOTAL COST: _$528,000 CURRENT YEAR EFO: _($528,000: BRIEF DESCRIPTION: _D. D. BEAN WILL PRODUCE AND DISTRIBUTE UP TO 264,000 CASES _ OF PRINTED CAMEL ADVERTISING ON MATCHBOOKS, PROGRAM] G/L CODE: 04-73-4600-8215-855 LINE ITEM: 200737-072402 *IMPLEMENTOR: _S. B. DRISKE! **BRAND MANAGEMENT: __E. C. LEARY. TRVOICE APPROVAL AUTHORITY INVOICE APPROVAL AUTHORITY REVIEW ROUTING: DEPARTMENT = ____NAME ___swqwarure __DATE 7G 7-242 ave wouteD FI...  \n",
              "1  ‘CABARRUS COUNTY EFFECTIVE DATE: 03/08/93, MARLBORO 100 REGULAR SP RED STANOARO. PRODUCTION BRAND CODE-00540 (S10) CIoARETTE LENGTH =: 99.5, mM FTOTAR «16.0 Movolor 15.5 = 17.4 ToBAcco ROD ciRcUM, —: 24.80 va TOBACCO ROD LENGTH reo vt FicTER LeneTh ans 14 Tipp ine LENGTH 311500 vot TOTAL R.T.0, leo aM, W20 DILUTION TARGET 14.0 +/- 5.0 % TIPPING PAPER /USE UP: 631M X 3000! coRK DGL Eo-T01 12-4l-B LASER PERF. REPLACE WITH 631M X 3000M CORK DGL_ «KE GSRH75712-500-A LASER PERF. GLUE ROLLER/ | REFER TO ENGINEERINGS LUE ROLLER VARIABLE PARTS CATALOG = TIPPING INFORMATION + BY TYPE=TIPPER AND CIG...  \n",
              "2  4 LEO BURNETT U.S.A. : ADVERTISING . NEWSPAPER ESTIMATE RECKP ~ PNOt PERIOD DATE 03/08/81 01/01/80 70 12/31/80 PAGE 1 CLIENT: P.M. INC. OFFICE: 10 DESC: 703A MARLBORO RED ROP EST NO: 0008 REVISES EST DTD 02/08/91 cross. Ross. Gross PRopucT PeRTOD AMOUNT CHANGE LESS C/D tO-MARLBORO YAN 1990 8,624.00 8,624.00 Fee 25,872.00 28,872.00 mar 68,982.00 8,992.00 QUARTER + 103,488.00 103488 .00 AeR 98,403.06 88,403.06 may 71,868.00 71,868.00 UN 43, 120.00 431 120.00 QUARTER 2 203,301.06 203/391.06 ul 32,472.00 32,472.00 aug 57,024.00 57,024.00 SEP 57,042.82 57,042.82 QuaRTER 3 146,506.82 146,808.82 ...  \n",
              "3                                                                                                                                                                                                                                                                                                                                                                                                                                                                                                                                  1 2. OFF, This mest oe 4 (okel 2.000 FF ne my ram EB 4 pack or'1 BMS reli “E ee Th sein  \n",
              "4  CURRICULUM VITAE: Name: tzhack Polacheck, Ph.D. Position Title: Assoc. Prof, EDUCATION: Institution and Location Degree Year Field of Study Hebrew University Jerusalem, Israel BSe 1969 Bichemisiry & Microbiology Hebrew University Jerusalem, Israel MSc. 1971 Microbiology Hebrew University Jerusalem, Israel PhD. 1977 Microbiology NIAMD, NIH, MD, USA. Post. Doc. 1978 Microbivlony NIAID, NIH, MD, USA Post Dec. 1981 Medical Mycology Professional Experience: 1972-1976: Hebrew University Jerusalem, Israel ,Assistant. 1973: Universite de Liege, Liege, Belgium EMBO Short-term Fellowship, Research f...  "
            ]
          },
          "metadata": {},
          "execution_count": 7
        }
      ]
    },
    {
      "cell_type": "code",
      "metadata": {
        "id": "mUIsYb_KhWYl"
      },
      "source": [
        "#path = '/content/drive/MyDrive/Colab Notebooks/Datasets/RVL_CDIP/labels/'\n",
        "df_test = pd.read_csv(path + 'test.csv', delimiter=',', error_bad_lines=False)"
      ],
      "execution_count": 8,
      "outputs": []
    },
    {
      "cell_type": "code",
      "metadata": {
        "id": "enwscOSONRol",
        "colab": {
          "base_uri": "https://localhost:8080/"
        },
        "outputId": "e79f1510-09d9-4f9b-bbda-2986d475c6ea"
      },
      "source": [
        "df_test.shape, df_train.shape"
      ],
      "execution_count": 9,
      "outputs": [
        {
          "output_type": "execute_result",
          "data": {
            "text/plain": [
              "((39998, 3), (319999, 3))"
            ]
          },
          "metadata": {},
          "execution_count": 9
        }
      ]
    },
    {
      "cell_type": "code",
      "metadata": {
        "id": "ydjr8R8Xl8Qj"
      },
      "source": [
        "df_val = pd.read_csv(path + 'val.csv', delimiter=',', error_bad_lines=False)"
      ],
      "execution_count": 10,
      "outputs": []
    },
    {
      "cell_type": "code",
      "metadata": {
        "id": "VGa3dDfUjIUR",
        "colab": {
          "base_uri": "https://localhost:8080/",
          "height": 545
        },
        "outputId": "ad5dc235-c3e7-4642-a2a1-554b30456d54"
      },
      "source": [
        "df_val.head()"
      ],
      "execution_count": 11,
      "outputs": [
        {
          "output_type": "execute_result",
          "data": {
            "text/html": [
              "\n",
              "  <div id=\"df-8c597481-2f78-4558-8873-dd826f52163c\">\n",
              "    <div class=\"colab-df-container\">\n",
              "      <div>\n",
              "<style scoped>\n",
              "    .dataframe tbody tr th:only-of-type {\n",
              "        vertical-align: middle;\n",
              "    }\n",
              "\n",
              "    .dataframe tbody tr th {\n",
              "        vertical-align: top;\n",
              "    }\n",
              "\n",
              "    .dataframe thead th {\n",
              "        text-align: right;\n",
              "    }\n",
              "</style>\n",
              "<table border=\"1\" class=\"dataframe\">\n",
              "  <thead>\n",
              "    <tr style=\"text-align: right;\">\n",
              "      <th></th>\n",
              "      <th>path</th>\n",
              "      <th>label</th>\n",
              "      <th>text</th>\n",
              "    </tr>\n",
              "  </thead>\n",
              "  <tbody>\n",
              "    <tr>\n",
              "      <th>0</th>\n",
              "      <td>imagesi/i/y/k/iyk38c00/512015827+-5827.tif</td>\n",
              "      <td>0</td>\n",
              "      <td>Fi J Reynolds Tobacee Cory January 22, 1990 Dear Fellow Employee: You no doubt heard over the weekend thal we have deckied to cancel our Philadelphia test market of Uptown Cigarettes, {regret not informing you about this decision before we told the news media, but the decision was made late Friday evening. and because of the enormous media attention focused on the product. was important that we immediately made our decision public. ur intentions in bringing Uptown to market in Philadelphia have been flagrantly misrepresented by our ‘opponents. Our sole purpose was simply to test market a c...</td>\n",
              "    </tr>\n",
              "    <tr>\n",
              "      <th>1</th>\n",
              "      <td>imagesr/r/r/e/rre21e00/87103403.tif</td>\n",
              "      <td>0</td>\n",
              "      <td>MICROBIOLOGICAL ASSOCIATES INC ‘CORPORATE OFFICES 15221 River Road » Bethesda © Maryland 20816-1493 (801) 654.3400 Telex 90-8793 March 25, 1987 Dr. Thomas A. Vollmuth Lorillard Research Center 420 English Street P.O, Box 21688 Greensboro, North Carolina 27420 Dear Tom, I forgot to discuss the prices for the SCE studies in the letters that were attached with the protocols. The retest of cigarettes D33, D34 and D36 (Study I-5045.013.001) will cost $21,000. This study will use common control groups (both Reference, sham and cyclophosphamide) from the parallel study (1-7010.013). The numbers o...</td>\n",
              "    </tr>\n",
              "    <tr>\n",
              "      <th>2</th>\n",
              "      <td>imagesk/k/s/u/ksu44c00/03636607.tif</td>\n",
              "      <td>4</td>\n",
              "      <td>ovacco roan (Chawwet Jo) Broadcast April 17, 1979 Editorial Director Bernadette Phillips Presented by: Norman Davis, Area Vice President robacco smoke is more than just very irritating to some people -- smoking is hazardous to your health =~ and the health of many non-smokers caught downwind from an inconsiderate smoker. But we think the anti-smoking ordinance now smoldering in Dade County is even more dangerous to the healthy functioning of democracy. Because of this we urge a,vote against the ordinance on May 8. the “clean indoor air” ordinance that will be put to Dade voters in less tha...</td>\n",
              "    </tr>\n",
              "    <tr>\n",
              "      <th>3</th>\n",
              "      <td>imagesr/r/a/i/rai09d00/50437856-7857.tif</td>\n",
              "      <td>14</td>\n",
              "      <td>Una S. Ryan Professor of Medicine December 18, 1941. Bristol University, Bristol, England B.Sc 1963 Zoology, Chemistry and Microbiology Cambridge University, Cambridge, England Ph.D. 1968 Gell Biology 1967 ~ 1971 Director, Laboratory for Ultrastructure studies, Howard Hughes Medical Institute, Miami, Florida 1972 - 1977 Assistant Professor of Medicine, University of Miami School of Medicine, Miami, Florida 1977 - 1980 Associate Professor of Medicine, University of Miami School of Medicine, Miami, Florida 1980 - 1986 Research Professor of Medicine, University of Miami School of Medicine, Mi...</td>\n",
              "    </tr>\n",
              "    <tr>\n",
              "      <th>4</th>\n",
              "      <td>imagesd/d/q/j/dqj13f00/0000457436.tif</td>\n",
              "      <td>12</td>\n",
              "      <td>-DRAPT- MANUFACTURING QUALITY PRODUCTS Prepared by Marcel A. Hamann Quality Assurance Department Brown &amp; Williamson Tobacco Corporation Wovember 1989 681001023</td>\n",
              "    </tr>\n",
              "  </tbody>\n",
              "</table>\n",
              "</div>\n",
              "      <button class=\"colab-df-convert\" onclick=\"convertToInteractive('df-8c597481-2f78-4558-8873-dd826f52163c')\"\n",
              "              title=\"Convert this dataframe to an interactive table.\"\n",
              "              style=\"display:none;\">\n",
              "        \n",
              "  <svg xmlns=\"http://www.w3.org/2000/svg\" height=\"24px\"viewBox=\"0 0 24 24\"\n",
              "       width=\"24px\">\n",
              "    <path d=\"M0 0h24v24H0V0z\" fill=\"none\"/>\n",
              "    <path d=\"M18.56 5.44l.94 2.06.94-2.06 2.06-.94-2.06-.94-.94-2.06-.94 2.06-2.06.94zm-11 1L8.5 8.5l.94-2.06 2.06-.94-2.06-.94L8.5 2.5l-.94 2.06-2.06.94zm10 10l.94 2.06.94-2.06 2.06-.94-2.06-.94-.94-2.06-.94 2.06-2.06.94z\"/><path d=\"M17.41 7.96l-1.37-1.37c-.4-.4-.92-.59-1.43-.59-.52 0-1.04.2-1.43.59L10.3 9.45l-7.72 7.72c-.78.78-.78 2.05 0 2.83L4 21.41c.39.39.9.59 1.41.59.51 0 1.02-.2 1.41-.59l7.78-7.78 2.81-2.81c.8-.78.8-2.07 0-2.86zM5.41 20L4 18.59l7.72-7.72 1.47 1.35L5.41 20z\"/>\n",
              "  </svg>\n",
              "      </button>\n",
              "      \n",
              "  <style>\n",
              "    .colab-df-container {\n",
              "      display:flex;\n",
              "      flex-wrap:wrap;\n",
              "      gap: 12px;\n",
              "    }\n",
              "\n",
              "    .colab-df-convert {\n",
              "      background-color: #E8F0FE;\n",
              "      border: none;\n",
              "      border-radius: 50%;\n",
              "      cursor: pointer;\n",
              "      display: none;\n",
              "      fill: #1967D2;\n",
              "      height: 32px;\n",
              "      padding: 0 0 0 0;\n",
              "      width: 32px;\n",
              "    }\n",
              "\n",
              "    .colab-df-convert:hover {\n",
              "      background-color: #E2EBFA;\n",
              "      box-shadow: 0px 1px 2px rgba(60, 64, 67, 0.3), 0px 1px 3px 1px rgba(60, 64, 67, 0.15);\n",
              "      fill: #174EA6;\n",
              "    }\n",
              "\n",
              "    [theme=dark] .colab-df-convert {\n",
              "      background-color: #3B4455;\n",
              "      fill: #D2E3FC;\n",
              "    }\n",
              "\n",
              "    [theme=dark] .colab-df-convert:hover {\n",
              "      background-color: #434B5C;\n",
              "      box-shadow: 0px 1px 3px 1px rgba(0, 0, 0, 0.15);\n",
              "      filter: drop-shadow(0px 1px 2px rgba(0, 0, 0, 0.3));\n",
              "      fill: #FFFFFF;\n",
              "    }\n",
              "  </style>\n",
              "\n",
              "      <script>\n",
              "        const buttonEl =\n",
              "          document.querySelector('#df-8c597481-2f78-4558-8873-dd826f52163c button.colab-df-convert');\n",
              "        buttonEl.style.display =\n",
              "          google.colab.kernel.accessAllowed ? 'block' : 'none';\n",
              "\n",
              "        async function convertToInteractive(key) {\n",
              "          const element = document.querySelector('#df-8c597481-2f78-4558-8873-dd826f52163c');\n",
              "          const dataTable =\n",
              "            await google.colab.kernel.invokeFunction('convertToInteractive',\n",
              "                                                     [key], {});\n",
              "          if (!dataTable) return;\n",
              "\n",
              "          const docLinkHtml = 'Like what you see? Visit the ' +\n",
              "            '<a target=\"_blank\" href=https://colab.research.google.com/notebooks/data_table.ipynb>data table notebook</a>'\n",
              "            + ' to learn more about interactive tables.';\n",
              "          element.innerHTML = '';\n",
              "          dataTable['output_type'] = 'display_data';\n",
              "          await google.colab.output.renderOutput(dataTable, element);\n",
              "          const docLink = document.createElement('div');\n",
              "          docLink.innerHTML = docLinkHtml;\n",
              "          element.appendChild(docLink);\n",
              "        }\n",
              "      </script>\n",
              "    </div>\n",
              "  </div>\n",
              "  "
            ],
            "text/plain": [
              "                                         path  label  \\\n",
              "0  imagesi/i/y/k/iyk38c00/512015827+-5827.tif      0   \n",
              "1         imagesr/r/r/e/rre21e00/87103403.tif      0   \n",
              "2         imagesk/k/s/u/ksu44c00/03636607.tif      4   \n",
              "3    imagesr/r/a/i/rai09d00/50437856-7857.tif     14   \n",
              "4       imagesd/d/q/j/dqj13f00/0000457436.tif     12   \n",
              "\n",
              "                                                                                                                                                                                                                                                                                                                                                                                                                                                                                                                                                                                                                      text  \n",
              "0  Fi J Reynolds Tobacee Cory January 22, 1990 Dear Fellow Employee: You no doubt heard over the weekend thal we have deckied to cancel our Philadelphia test market of Uptown Cigarettes, {regret not informing you about this decision before we told the news media, but the decision was made late Friday evening. and because of the enormous media attention focused on the product. was important that we immediately made our decision public. ur intentions in bringing Uptown to market in Philadelphia have been flagrantly misrepresented by our ‘opponents. Our sole purpose was simply to test market a c...  \n",
              "1  MICROBIOLOGICAL ASSOCIATES INC ‘CORPORATE OFFICES 15221 River Road » Bethesda © Maryland 20816-1493 (801) 654.3400 Telex 90-8793 March 25, 1987 Dr. Thomas A. Vollmuth Lorillard Research Center 420 English Street P.O, Box 21688 Greensboro, North Carolina 27420 Dear Tom, I forgot to discuss the prices for the SCE studies in the letters that were attached with the protocols. The retest of cigarettes D33, D34 and D36 (Study I-5045.013.001) will cost $21,000. This study will use common control groups (both Reference, sham and cyclophosphamide) from the parallel study (1-7010.013). The numbers o...  \n",
              "2  ovacco roan (Chawwet Jo) Broadcast April 17, 1979 Editorial Director Bernadette Phillips Presented by: Norman Davis, Area Vice President robacco smoke is more than just very irritating to some people -- smoking is hazardous to your health =~ and the health of many non-smokers caught downwind from an inconsiderate smoker. But we think the anti-smoking ordinance now smoldering in Dade County is even more dangerous to the healthy functioning of democracy. Because of this we urge a,vote against the ordinance on May 8. the “clean indoor air” ordinance that will be put to Dade voters in less tha...  \n",
              "3  Una S. Ryan Professor of Medicine December 18, 1941. Bristol University, Bristol, England B.Sc 1963 Zoology, Chemistry and Microbiology Cambridge University, Cambridge, England Ph.D. 1968 Gell Biology 1967 ~ 1971 Director, Laboratory for Ultrastructure studies, Howard Hughes Medical Institute, Miami, Florida 1972 - 1977 Assistant Professor of Medicine, University of Miami School of Medicine, Miami, Florida 1977 - 1980 Associate Professor of Medicine, University of Miami School of Medicine, Miami, Florida 1980 - 1986 Research Professor of Medicine, University of Miami School of Medicine, Mi...  \n",
              "4                                                                                                                                                                                                                                                                                                                                                                                                                                                          -DRAPT- MANUFACTURING QUALITY PRODUCTS Prepared by Marcel A. Hamann Quality Assurance Department Brown & Williamson Tobacco Corporation Wovember 1989 681001023  "
            ]
          },
          "metadata": {},
          "execution_count": 11
        }
      ]
    },
    {
      "cell_type": "markdown",
      "metadata": {
        "id": "bY4v5mjtPfun"
      },
      "source": [
        "## Create DataLoader"
      ]
    },
    {
      "cell_type": "code",
      "metadata": {
        "id": "vOx33LAtQKY1"
      },
      "source": [
        "def get_features(r):\n",
        "\n",
        "  return r['text']\n",
        "\n",
        "def get_labels(r):\n",
        "\n",
        "  return r['label']"
      ],
      "execution_count": 12,
      "outputs": []
    },
    {
      "cell_type": "code",
      "source": [
        "df_train.keys()"
      ],
      "metadata": {
        "id": "ubSi_Bmdsl7K",
        "colab": {
          "base_uri": "https://localhost:8080/"
        },
        "outputId": "8bdbaf3a-116e-4a09-d147-4bb0cce38cf0"
      },
      "execution_count": 13,
      "outputs": [
        {
          "output_type": "execute_result",
          "data": {
            "text/plain": [
              "Index(['path', 'label', 'text'], dtype='object')"
            ]
          },
          "metadata": {},
          "execution_count": 13
        }
      ]
    },
    {
      "cell_type": "code",
      "source": [
        "df_train = df_train[0:10000] "
      ],
      "metadata": {
        "id": "QaBJtsJCZJYx"
      },
      "execution_count": 14,
      "outputs": []
    },
    {
      "cell_type": "code",
      "source": [
        "dblock_train = DataBlock(\n",
        "    blocks=(TextBlock.from_df(text_cols=['text', 'label'], seq_len=72), CategoryBlock),\n",
        "            get_x=get_features, \n",
        "            get_y=get_labels)\n",
        "\n",
        "dls = dblock_train.dataloaders(df_train, bs=64)\n",
        "dls.show_batch(max_n=2)"
      ],
      "metadata": {
        "id": "I2zEJW0stI2m",
        "colab": {
          "base_uri": "https://localhost:8080/",
          "height": 306
        },
        "outputId": "f0be3a80-80f4-4df3-f9ef-11b56921d469"
      },
      "execution_count": 15,
      "outputs": [
        {
          "output_type": "display_data",
          "data": {
            "text/html": [
              ""
            ],
            "text/plain": [
              "<IPython.core.display.HTML object>"
            ]
          },
          "metadata": {}
        },
        {
          "output_type": "stream",
          "name": "stderr",
          "text": [
            "/usr/local/lib/python3.7/dist-packages/numpy/core/_asarray.py:83: VisibleDeprecationWarning: Creating an ndarray from ragged nested sequences (which is a list-or-tuple of lists-or-tuples-or ndarrays with different lengths or shapes) is deprecated. If you meant to do this, you must specify 'dtype=object' when creating the ndarray\n",
            "  return array(a, dtype, copy=False, order=order)\n"
          ]
        },
        {
          "output_type": "display_data",
          "data": {
            "text/html": [
              "<table border=\"1\" class=\"dataframe\">\n",
              "  <thead>\n",
              "    <tr style=\"text-align: right;\">\n",
              "      <th></th>\n",
              "      <th>text</th>\n",
              "      <th>category</th>\n",
              "    </tr>\n",
              "  </thead>\n",
              "  <tbody>\n",
              "    <tr>\n",
              "      <th>0</th>\n",
              "      <td>xxbos xxfld 1 xxup acs xxmaj researchers xxunk xxmaj on xxmaj claims for xxmaj beagle xxmaj study xxmaj now xxmaj say xxmaj only xxmaj two xxmaj dogs xxmaj got xxmaj cancer area a vie presto of the xxmaj ameian cancer xxmaj xxunk who tone the te ‘ eure whe candid fe xxunk xxmaj bia xxmaj xxunk doe \" ay hae greatly toned down , exer chins of the ius dings ecing 100 fom xxup tp the sumer of beagle ops ot of total of 85 xxunk oie foe which the xxup acs hal xxmaj sid ce ‘ oped ane ance “ the xxunk and xxup acs ofl re . xxmaj xxunk xxmaj hammond , mae he fore moet cain at apres com ference xxunk for hia by the xxmaj concer xxmaj stee during the xxmaj xxunk hice at month where xxmaj de . xxmaj ham tog what he sid were</td>\n",
              "      <td>6</td>\n",
              "    </tr>\n",
              "    <tr>\n",
              "      <th>1</th>\n",
              "      <td>xxbos xxfld 1 xxmaj interferon gamma xxmaj increases xxmaj in xxmaj vitro and xxmaj in xxmaj vivo xxmaj expression of xxup c1 xxmaj inhibitor xxmaj by xxmaj xxunk xxup d. xxmaj xxunk , xxmaj xxunk xxmaj xxunk , xxmaj louis xxmaj weiner , and xxmaj alvin xxup h. xxmaj schmaier ( c1 inhibitor ( c1 xxup inh ) is tho major protease inhibitor of the first components of the classic xxunk system and of the xxunk of the xxmaj xxunk factor pathways . xxmaj since xxup c1 xxup inh may modulate inflammatory reactions associated with xxunk and contact xxunk activation , wo sought to determine ifthe cytokine gamma interferon ( ifn - y ) could fof xxup c1 xxup inh in human erythroleukemia ( hel ) colle . xxup hel colle constitutively expressed the 2.1 kb mrna for xxmaj ct xxup inh ifny ( 50 to 1 . xxrep 3</td>\n",
              "      <td>6</td>\n",
              "    </tr>\n",
              "  </tbody>\n",
              "</table>"
            ],
            "text/plain": [
              "<IPython.core.display.HTML object>"
            ]
          },
          "metadata": {}
        }
      ]
    },
    {
      "cell_type": "markdown",
      "metadata": {
        "id": "MClnyCFIRQsS"
      },
      "source": [
        "## Classification Model"
      ]
    },
    {
      "cell_type": "code",
      "metadata": {
        "id": "RLDNSEnSXZLf"
      },
      "source": [
        "from fastai.text.all import *"
      ],
      "execution_count": 16,
      "outputs": []
    },
    {
      "cell_type": "code",
      "metadata": {
        "id": "yFi9cVezirz9",
        "colab": {
          "base_uri": "https://localhost:8080/",
          "height": 37
        },
        "outputId": "cd73584f-4b8c-41fa-d0d9-70f92ed59b7b"
      },
      "source": [
        "learn = text_classifier_learner(dls, AWD_LSTM, drop_mult=0.5,metrics=[error_rate, accuracy, Perplexity()]).to_fp16()"
      ],
      "execution_count": 17,
      "outputs": [
        {
          "output_type": "display_data",
          "data": {
            "text/html": [
              "\n",
              "    <div>\n",
              "        <style>\n",
              "            /* Turns off some styling */\n",
              "            progress {\n",
              "                /* gets rid of default border in Firefox and Opera. */\n",
              "                border: none;\n",
              "                /* Needs to be in here for Safari polyfill so background images work as expected. */\n",
              "                background-size: auto;\n",
              "            }\n",
              "            .progress-bar-interrupted, .progress-bar-interrupted::-webkit-progress-bar {\n",
              "                background: #F44336;\n",
              "            }\n",
              "        </style>\n",
              "      <progress value='105070592' class='' max='105067061' style='width:300px; height:20px; vertical-align: middle;'></progress>\n",
              "      100.00% [105070592/105067061 00:02<00:00]\n",
              "    </div>\n",
              "    "
            ],
            "text/plain": [
              "<IPython.core.display.HTML object>"
            ]
          },
          "metadata": {}
        }
      ]
    },
    {
      "cell_type": "code",
      "metadata": {
        "id": "Zo2DlMlnirz-",
        "colab": {
          "base_uri": "https://localhost:8080/",
          "height": 176
        },
        "outputId": "2eea37de-8d7f-41d7-f14c-684fb114748e"
      },
      "source": [
        "learn.fine_tune(2, 1e-2)"
      ],
      "execution_count": 18,
      "outputs": [
        {
          "output_type": "display_data",
          "data": {
            "text/html": [
              "<table border=\"1\" class=\"dataframe\">\n",
              "  <thead>\n",
              "    <tr style=\"text-align: left;\">\n",
              "      <th>epoch</th>\n",
              "      <th>train_loss</th>\n",
              "      <th>valid_loss</th>\n",
              "      <th>error_rate</th>\n",
              "      <th>accuracy</th>\n",
              "      <th>perplexity</th>\n",
              "      <th>time</th>\n",
              "    </tr>\n",
              "  </thead>\n",
              "  <tbody>\n",
              "    <tr>\n",
              "      <td>0</td>\n",
              "      <td>1.638287</td>\n",
              "      <td>1.034934</td>\n",
              "      <td>0.337000</td>\n",
              "      <td>0.663000</td>\n",
              "      <td>2.814921</td>\n",
              "      <td>00:24</td>\n",
              "    </tr>\n",
              "  </tbody>\n",
              "</table>"
            ],
            "text/plain": [
              "<IPython.core.display.HTML object>"
            ]
          },
          "metadata": {}
        },
        {
          "output_type": "display_data",
          "data": {
            "text/html": [
              "<table border=\"1\" class=\"dataframe\">\n",
              "  <thead>\n",
              "    <tr style=\"text-align: left;\">\n",
              "      <th>epoch</th>\n",
              "      <th>train_loss</th>\n",
              "      <th>valid_loss</th>\n",
              "      <th>error_rate</th>\n",
              "      <th>accuracy</th>\n",
              "      <th>perplexity</th>\n",
              "      <th>time</th>\n",
              "    </tr>\n",
              "  </thead>\n",
              "  <tbody>\n",
              "    <tr>\n",
              "      <td>0</td>\n",
              "      <td>0.425494</td>\n",
              "      <td>0.045318</td>\n",
              "      <td>0.011500</td>\n",
              "      <td>0.988500</td>\n",
              "      <td>1.046361</td>\n",
              "      <td>00:59</td>\n",
              "    </tr>\n",
              "    <tr>\n",
              "      <td>1</td>\n",
              "      <td>0.150183</td>\n",
              "      <td>0.016636</td>\n",
              "      <td>0.005000</td>\n",
              "      <td>0.995000</td>\n",
              "      <td>1.016775</td>\n",
              "      <td>01:00</td>\n",
              "    </tr>\n",
              "  </tbody>\n",
              "</table>"
            ],
            "text/plain": [
              "<IPython.core.display.HTML object>"
            ]
          },
          "metadata": {}
        }
      ]
    },
    {
      "cell_type": "code",
      "metadata": {
        "id": "OuPTd5rbirz_",
        "colab": {
          "base_uri": "https://localhost:8080/",
          "height": 957
        },
        "outputId": "10b56237-4fb2-4fa7-8272-43bc3e043f16"
      },
      "source": [
        "learn.show_results()"
      ],
      "execution_count": 19,
      "outputs": [
        {
          "output_type": "display_data",
          "data": {
            "text/html": [
              ""
            ],
            "text/plain": [
              "<IPython.core.display.HTML object>"
            ]
          },
          "metadata": {}
        },
        {
          "output_type": "display_data",
          "data": {
            "text/html": [
              "<table border=\"1\" class=\"dataframe\">\n",
              "  <thead>\n",
              "    <tr style=\"text-align: right;\">\n",
              "      <th></th>\n",
              "      <th>text</th>\n",
              "      <th>category</th>\n",
              "      <th>category_</th>\n",
              "    </tr>\n",
              "  </thead>\n",
              "  <tbody>\n",
              "    <tr>\n",
              "      <th>0</th>\n",
              "      <td>xxbos xxfld 1 xxmaj me xxmaj xxunk ot al / xxup febs xxmaj lier 38 ( 198 ) 201 - 205 xxunk ( 9 ) . and possibly from the carcinogenic effects ofthe xxunk activated by xxup xxunk , ‘ as xxup cyp2a6 is responsible for xxmaj c : oxidation which is the major metabolic pathway of nicotine ( xxunk ) , xxmaj xxunk and co - workers [ 41 ] xxunk that lack of xxup xxunk would affect smoking behaviour . xxmaj it was shown , that fower subjects carrying defective xxup xxunk alleles were found among smokers as compared to non - smokers and they also provided evidence that smokers xxunk a defective xxup xxunk allele smoked in general sx eer cigarettes per day . xxmaj because this study used the old genotyping method , it can not ‘ oe excluded that some individuals were xxunk and that</td>\n",
              "      <td>6</td>\n",
              "      <td>5</td>\n",
              "    </tr>\n",
              "    <tr>\n",
              "      <th>1</th>\n",
              "      <td>xxbos xxfld 1 xxmaj page 4 xxmaj jack xxmaj leach xxmaj is xxmaj honored xxmaj during xxmaj safety xxmaj congress xxmaj for xxmaj his xxmaj contributions ack xxmaj leach was honored by his colleagues during the xxmaj national xxmaj safely ” xxmaj congress held in xxmaj chicago ast month . xxmaj mr . xxmaj leach is chief of the xxmaj safety and xxmaj fire xxmaj protection xxmaj section , ‘ pro- tection and ’ xxmaj safety xxunk xxmaj branch ‘ he was given a plaque in recog- xxunk of hig contributions tho xxmaj research and xxmaj davelopment xxmaj section of the xxmaj national xxmaj xxunk xxmaj council , par ticularly his work as chairman xxmaj gur { ng the past year . ‘ the xxmaj research and xxmaj development xxmaj section is comprised of ‘ organiza ‘ ona representing all phases of re seer xxmaj be rogram lad ge ‘</td>\n",
              "      <td>6</td>\n",
              "      <td>6</td>\n",
              "    </tr>\n",
              "    <tr>\n",
              "      <th>2</th>\n",
              "      <td>xxbos xxfld 1 @ xxunk ‘ the xxmaj xxunk of ( some ) xxmaj republicans xxup ep xxmaj xxunk xxmaj republicans in the xxmaj house of xxunk xxunk mining on public lands , ‘ ena ae having second xxmaj xxunk aout the “ xxmaj xxunk that retention xxunk the xxunk xxunk apa xxunk tie last budget xxunk xxup bls approved by xxmaj co tion 's laws governing clean alr , clean wi ‘ gress lust week and xxunk xxunk back for xxunk xxunk of the pubic land , xxmaj they a ng ” aton , the xxmaj republicans and thle xxmaj xxunk xxunk for ter flores xxmaj bus they xxunk wil alg xxunk more xxunk ( &gt; xxunk several ale for thelr xxunk ot heart and encouragement ” xxunk xxunk tacked gray those xxmaj or thé legislative struggles xxunk . xxunk ~ xxmaj dil xxmaj the worst of xxunk would</td>\n",
              "      <td>9</td>\n",
              "      <td>9</td>\n",
              "    </tr>\n",
              "    <tr>\n",
              "      <th>3</th>\n",
              "      <td>xxbos xxfld 1 xxmaj ny , xxmaj my , xxmaj mg ! xxmaj series at he xxup la xxmaj tas had ‘ moat the worst wae oer that those ‘ lina newspaper pages xxunk wit xxunk aout he xxmaj staples { etree aly ed to xxunk . xxmaj that peace would xxunk agin athe xxunk ‘ mel xxmaj tins xxmaj xxunk xxup ceo xxmaj mar xxunk abe setup that would xxunk mite xxunk be ack ie ( gl xxunk a xxmaj sages ecu aa ube oer tate xxmaj xxunk arly far xxmaj xxunk pape weir , ic al arta bch pic op { ior to ep hm do is eb aking ia xxmaj xxunk for seh ot hi eon . sl brethren aga ) aed media wer xxmaj bald ‘ shaw ind bette ut a pone bok dese { en xxunk he under anne xxmaj the ease of tral relat</td>\n",
              "      <td>4</td>\n",
              "      <td>4</td>\n",
              "    </tr>\n",
              "    <tr>\n",
              "      <th>4</th>\n",
              "      <td>xxbos xxfld 1 3 xxup louisville xxup times xxmaj xxunk , xxmaj ky . : xxmaj june 30 , 1966 . xxup uk xxmaj gets xxmaj fun : xxmaj for xxmaj study “ of xxmaj smoking l xxmaj by xxunk xxup ayer xxup washington , xxup d. xxup c. — xxmaj the xxup us . xxmaj department of xxmaj agriculture yesterday ear ‘ xxunk another $ xxrep 6 0 ta help abolish 5 , the heath xxunk in egarette smoking . ‘ west of the - new work will bo done at ‘ ie the xxmaj national xxmaj tobacco xxmaj xxunk xxmaj xxunk — xxunk a the xxmaj univers of ently . xxmaj xxunk “ will use experimental xxunk and \" mechanical “ xxunk \" to help xxunk and remove xxunk bara { il xxunk i xxunk ona . na related move , the department authorized $ 127 . xxrep</td>\n",
              "      <td>9</td>\n",
              "      <td>9</td>\n",
              "    </tr>\n",
              "    <tr>\n",
              "      <th>5</th>\n",
              "      <td>xxbos xxfld 1 iz sation ’ xxmaj cited ii xxup xxunk xxunk of xxunk and heart diese , ‘ the 7 * xxmaj statistic tion ’ xxmaj cited fe or continued research xxunk members then xxunk ‘ statistical xxmaj association ’ c xxmaj bae xxmaj spt rete citi ener ae xf i. . , ease and tobacco use . xxmaj we wi xxrep 3 l undertake a campaign to dis- je xxunk xxmaj cigarette xxmaj smokers svt ii 6 melas sane tae ee me . xxup eri eter , xxmaj research results in| xxunk to het . xxmaj xxunk se xxmaj it xxmaj group the sa ter secs hae shoes xxunk hea naan _ xxunk by xxmaj heart xxmaj group © xxunk xxunk / xxmaj philip xxup s. xxmaj cook xxmaj xxunk men were found to be from tobacco 's effect on the xxunk search into the issue . slay</td>\n",
              "      <td>9</td>\n",
              "      <td>9</td>\n",
              "    </tr>\n",
              "    <tr>\n",
              "      <th>6</th>\n",
              "      <td>xxbos xxfld 1 ® ~ aro xxup st . xxup paul , xxup minn . xxup pioneer ’ xxup press xxup d. xxunk ) $ xxunk xxup minneapolis xxup metropolitan xxup aba xxup for xxup an xxup an | xxup hour xxmaj want to xxmaj quit xxmaj smoking ? xxmaj think xxmaj by xxup lewis xxup patterson xxmaj xxunk xxmaj writer xxmaj have you decided xxunk ly that you really want to and magazine articles . why is it that only about 5 xxunk ion adults a year out of 43 million smokers make i some kind of a try to qui quit smoking ? xxmaj honest - to- rettes ? xxmaj and why do xxmaj god really want to quit ? at milion succeed ? ‘ then the chances are that ste answer may be yo no . not willy but may . xxmaj if — if xxunk ery</td>\n",
              "      <td>9</td>\n",
              "      <td>9</td>\n",
              "    </tr>\n",
              "    <tr>\n",
              "      <th>7</th>\n",
              "      <td>xxbos xxfld 1 y 4 ae ett xxunk nom xxmaj amber xxmaj xxunk xxunk it ‘ eat xxmaj hec and xxmaj ene xxmaj xxunk spon xxmaj basement parking and high - rise xxup co xxmaj field surveys of carbon xxunk ( co ) levels in commercial xxmaj cama xxunk xxunk up one xxunk se xxunk high indoor xxup co readings — xxunk to or rater than xxmaj spars pet milion xxmaj in alr were recorded on out tet ! 0 xxmaj coors oa xxmaj xxunk new xxmaj plo xxmaj xxunk building on fur of he seven dates xxmaj kas xxunk xxmaj the buldngs architecture allowed exhaust gases trom he basement xxunk xxunk fo xxunk oices above ti ne xxunk these igh xxup co levels persisted or slong as hours fon the four dates such levels were recorded , then its very probable ta the hour [ national xxmaj ambient xxmaj</td>\n",
              "      <td>9</td>\n",
              "      <td>9</td>\n",
              "    </tr>\n",
              "    <tr>\n",
              "      <th>8</th>\n",
              "      <td>xxbos xxfld 1 usa xxmaj october 1993 xxmaj xxunk xxmaj protein phosphorylation inhibits production of xxmaj alzheimer amyloid b / xxup a4 peptide xxmaj jose xxup d. xxmaj xxunk , xxunk xxup h. xxmaj xxunk , ano xxmaj paut . xxmaj gi * xxunk of xxmaj molecular end xxmaj celular xxmaj xxunk , xxmaj tbe xxmaj rockefeller xxmaj univers , xxmaj new xxmaj york xxup ny 1001 ; and ! deparment of xxmaj pathology , xxmaj brigham and xxmaj xxunk 's xxmaj hospital and xxmaj harvard xxmaj medical xxmaj school , xxmaj xxunk , xxup ma xxup xxunk xxmaj contributed by xxmaj poul xxmaj greengard , xxmaj june 30 , 1993 xxup abstract xxmaj the major component of amyloid plague xxunk cerebrovascular amyloid deposits found in xxmaj alzheimer disease is the b / xxup a4 peptide , which is derived from the xxmaj xxunk xxunk amyloid protein precursor ( app</td>\n",
              "      <td>6</td>\n",
              "      <td>6</td>\n",
              "    </tr>\n",
              "  </tbody>\n",
              "</table>"
            ],
            "text/plain": [
              "<IPython.core.display.HTML object>"
            ]
          },
          "metadata": {}
        }
      ]
    },
    {
      "cell_type": "code",
      "metadata": {
        "id": "Rw8c5QKzir0E",
        "colab": {
          "base_uri": "https://localhost:8080/"
        },
        "outputId": "7736eb4b-b91b-44f5-c2a0-f1d23cfdf5f3"
      },
      "source": [
        "learn.save('text_classification_1')"
      ],
      "execution_count": 20,
      "outputs": [
        {
          "output_type": "execute_result",
          "data": {
            "text/plain": [
              "Path('models/text_classification_1.pth')"
            ]
          },
          "metadata": {},
          "execution_count": 20
        }
      ]
    },
    {
      "cell_type": "code",
      "metadata": {
        "id": "ITlc1bIjir0E"
      },
      "source": [
        "# load model\n",
        "learn = learn.load('text_classification_1')"
      ],
      "execution_count": 21,
      "outputs": []
    },
    {
      "cell_type": "code",
      "metadata": {
        "id": "jtMn6zPzDua6",
        "colab": {
          "base_uri": "https://localhost:8080/",
          "height": 238
        },
        "outputId": "5ec92423-30df-4acb-e70d-78d80ccce3fb"
      },
      "source": [
        "learn.unfreeze()\n",
        "learn.fit_one_cycle(6, 2e-3)"
      ],
      "execution_count": 22,
      "outputs": [
        {
          "output_type": "display_data",
          "data": {
            "text/html": [
              "<table border=\"1\" class=\"dataframe\">\n",
              "  <thead>\n",
              "    <tr style=\"text-align: left;\">\n",
              "      <th>epoch</th>\n",
              "      <th>train_loss</th>\n",
              "      <th>valid_loss</th>\n",
              "      <th>error_rate</th>\n",
              "      <th>accuracy</th>\n",
              "      <th>perplexity</th>\n",
              "      <th>time</th>\n",
              "    </tr>\n",
              "  </thead>\n",
              "  <tbody>\n",
              "    <tr>\n",
              "      <td>0</td>\n",
              "      <td>0.130956</td>\n",
              "      <td>0.031580</td>\n",
              "      <td>0.010000</td>\n",
              "      <td>0.990000</td>\n",
              "      <td>1.032084</td>\n",
              "      <td>01:00</td>\n",
              "    </tr>\n",
              "    <tr>\n",
              "      <td>1</td>\n",
              "      <td>0.112596</td>\n",
              "      <td>0.043510</td>\n",
              "      <td>0.010500</td>\n",
              "      <td>0.989500</td>\n",
              "      <td>1.044470</td>\n",
              "      <td>01:00</td>\n",
              "    </tr>\n",
              "    <tr>\n",
              "      <td>2</td>\n",
              "      <td>0.073698</td>\n",
              "      <td>0.016954</td>\n",
              "      <td>0.004000</td>\n",
              "      <td>0.996000</td>\n",
              "      <td>1.017099</td>\n",
              "      <td>01:01</td>\n",
              "    </tr>\n",
              "    <tr>\n",
              "      <td>3</td>\n",
              "      <td>0.060150</td>\n",
              "      <td>0.015302</td>\n",
              "      <td>0.003500</td>\n",
              "      <td>0.996500</td>\n",
              "      <td>1.015420</td>\n",
              "      <td>01:00</td>\n",
              "    </tr>\n",
              "    <tr>\n",
              "      <td>4</td>\n",
              "      <td>0.049189</td>\n",
              "      <td>0.008466</td>\n",
              "      <td>0.002000</td>\n",
              "      <td>0.998000</td>\n",
              "      <td>1.008502</td>\n",
              "      <td>01:00</td>\n",
              "    </tr>\n",
              "    <tr>\n",
              "      <td>5</td>\n",
              "      <td>0.047036</td>\n",
              "      <td>0.008284</td>\n",
              "      <td>0.002000</td>\n",
              "      <td>0.998000</td>\n",
              "      <td>1.008318</td>\n",
              "      <td>01:00</td>\n",
              "    </tr>\n",
              "  </tbody>\n",
              "</table>"
            ],
            "text/plain": [
              "<IPython.core.display.HTML object>"
            ]
          },
          "metadata": {}
        }
      ]
    },
    {
      "cell_type": "code",
      "metadata": {
        "id": "uke_9kj5Ef-j",
        "colab": {
          "base_uri": "https://localhost:8080/",
          "height": 306
        },
        "outputId": "080495e9-19f9-4090-bd6d-7d2f1f230541"
      },
      "source": [
        "learn.unfreeze()\n",
        "learn.lr_find()"
      ],
      "execution_count": 23,
      "outputs": [
        {
          "output_type": "display_data",
          "data": {
            "text/html": [
              ""
            ],
            "text/plain": [
              "<IPython.core.display.HTML object>"
            ]
          },
          "metadata": {}
        },
        {
          "output_type": "execute_result",
          "data": {
            "text/plain": [
              "SuggestedLRs(valley=1.2022644114040304e-05)"
            ]
          },
          "metadata": {},
          "execution_count": 23
        },
        {
          "output_type": "display_data",
          "data": {
            "image/png": "[encoded data removed]",
            "text/plain": [
              "<Figure size 432x288 with 1 Axes>"
            ]
          },
          "metadata": {
            "needs_background": "light"
          }
        }
      ]
    },
    {
      "cell_type": "code",
      "metadata": {
        "id": "BKcBxTsjOCVH"
      },
      "source": [
        "learn_lm = text_classifier_learner(dls, AWD_LSTM, drop_mult=0.5,metrics=[error_rate, accuracy, Perplexity()]).to_fp16()"
      ],
      "execution_count": 24,
      "outputs": []
    },
    {
      "cell_type": "code",
      "metadata": {
        "id": "bXw6ULBgOTB_",
        "colab": {
          "base_uri": "https://localhost:8080/",
          "height": 301
        },
        "outputId": "efa6d06e-c4db-4233-ece3-d485fbf05f14"
      },
      "source": [
        "learn_lm.fine_tune(6, 1e-2)"
      ],
      "execution_count": 25,
      "outputs": [
        {
          "output_type": "display_data",
          "data": {
            "text/html": [
              "<table border=\"1\" class=\"dataframe\">\n",
              "  <thead>\n",
              "    <tr style=\"text-align: left;\">\n",
              "      <th>epoch</th>\n",
              "      <th>train_loss</th>\n",
              "      <th>valid_loss</th>\n",
              "      <th>error_rate</th>\n",
              "      <th>accuracy</th>\n",
              "      <th>perplexity</th>\n",
              "      <th>time</th>\n",
              "    </tr>\n",
              "  </thead>\n",
              "  <tbody>\n",
              "    <tr>\n",
              "      <td>0</td>\n",
              "      <td>1.677453</td>\n",
              "      <td>0.967277</td>\n",
              "      <td>0.309500</td>\n",
              "      <td>0.690500</td>\n",
              "      <td>2.630772</td>\n",
              "      <td>00:24</td>\n",
              "    </tr>\n",
              "  </tbody>\n",
              "</table>"
            ],
            "text/plain": [
              "<IPython.core.display.HTML object>"
            ]
          },
          "metadata": {}
        },
        {
          "output_type": "display_data",
          "data": {
            "text/html": [
              "<table border=\"1\" class=\"dataframe\">\n",
              "  <thead>\n",
              "    <tr style=\"text-align: left;\">\n",
              "      <th>epoch</th>\n",
              "      <th>train_loss</th>\n",
              "      <th>valid_loss</th>\n",
              "      <th>error_rate</th>\n",
              "      <th>accuracy</th>\n",
              "      <th>perplexity</th>\n",
              "      <th>time</th>\n",
              "    </tr>\n",
              "  </thead>\n",
              "  <tbody>\n",
              "    <tr>\n",
              "      <td>0</td>\n",
              "      <td>0.671321</td>\n",
              "      <td>0.100558</td>\n",
              "      <td>0.024000</td>\n",
              "      <td>0.976000</td>\n",
              "      <td>1.105788</td>\n",
              "      <td>01:00</td>\n",
              "    </tr>\n",
              "    <tr>\n",
              "      <td>1</td>\n",
              "      <td>0.231479</td>\n",
              "      <td>0.026920</td>\n",
              "      <td>0.007500</td>\n",
              "      <td>0.992500</td>\n",
              "      <td>1.027285</td>\n",
              "      <td>01:00</td>\n",
              "    </tr>\n",
              "    <tr>\n",
              "      <td>2</td>\n",
              "      <td>0.106520</td>\n",
              "      <td>0.028773</td>\n",
              "      <td>0.007000</td>\n",
              "      <td>0.993000</td>\n",
              "      <td>1.029191</td>\n",
              "      <td>01:00</td>\n",
              "    </tr>\n",
              "    <tr>\n",
              "      <td>3</td>\n",
              "      <td>0.069384</td>\n",
              "      <td>0.012127</td>\n",
              "      <td>0.002500</td>\n",
              "      <td>0.997500</td>\n",
              "      <td>1.012201</td>\n",
              "      <td>01:01</td>\n",
              "    </tr>\n",
              "    <tr>\n",
              "      <td>4</td>\n",
              "      <td>0.055136</td>\n",
              "      <td>0.008859</td>\n",
              "      <td>0.003000</td>\n",
              "      <td>0.997000</td>\n",
              "      <td>1.008898</td>\n",
              "      <td>01:00</td>\n",
              "    </tr>\n",
              "    <tr>\n",
              "      <td>5</td>\n",
              "      <td>0.064599</td>\n",
              "      <td>0.008376</td>\n",
              "      <td>0.002500</td>\n",
              "      <td>0.997500</td>\n",
              "      <td>1.008411</td>\n",
              "      <td>01:00</td>\n",
              "    </tr>\n",
              "  </tbody>\n",
              "</table>"
            ],
            "text/plain": [
              "<IPython.core.display.HTML object>"
            ]
          },
          "metadata": {}
        }
      ]
    },
    {
      "cell_type": "markdown",
      "source": [
        "##Validation"
      ],
      "metadata": {
        "id": "02q2cfAEv-2L"
      }
    },
    {
      "cell_type": "code",
      "source": [
        "df_test = df_test[0:3000]"
      ],
      "metadata": {
        "id": "dI-21566m66z"
      },
      "execution_count": 26,
      "outputs": []
    },
    {
      "cell_type": "code",
      "source": [
        "def get_index_nan(dataframe) -> list:\n",
        "  '''\n",
        "  Encontrar os indices correspondentes as instancias nulas\n",
        "  '''\n",
        "  idx = dataframe.loc[pd.isnull(dataframe).any(1), :].index.values\n",
        "  \n",
        "  return idx"
      ],
      "metadata": {
        "id": "WYfsTFd46wB5"
      },
      "execution_count": 27,
      "outputs": []
    },
    {
      "cell_type": "code",
      "source": [
        "# pre processing \n",
        "\n",
        "#remove nan instances\n",
        "df_test_clear = df_test[['text', 'label']].dropna()\n",
        "\n",
        "#remove or convert float numbers - \n",
        "df_test_clear = df_test_clear.astype('str')"
      ],
      "metadata": {
        "id": "D0bH2JS1WMmJ"
      },
      "execution_count": 28,
      "outputs": []
    },
    {
      "cell_type": "code",
      "metadata": {
        "id": "PDKUp3_xOeF9",
        "colab": {
          "base_uri": "https://localhost:8080/",
          "height": 72
        },
        "outputId": "efccc73c-8044-4827-a839-1ce8c0bacc41"
      },
      "source": [
        "# create dataloader of test\n",
        "dblock_test = DataBlock(\n",
        "    blocks=(TextBlock.from_df('text', seq_len=72), CategoryBlock),\n",
        "            get_x=get_features, \n",
        "            get_y=get_labels)\n",
        "\n",
        "dloader_test = dblock_test.dataloaders(df_test_clear, bs=64)"
      ],
      "execution_count": 29,
      "outputs": [
        {
          "output_type": "display_data",
          "data": {
            "text/html": [
              ""
            ],
            "text/plain": [
              "<IPython.core.display.HTML object>"
            ]
          },
          "metadata": {}
        },
        {
          "output_type": "stream",
          "name": "stderr",
          "text": [
            "/usr/local/lib/python3.7/dist-packages/numpy/core/_asarray.py:83: VisibleDeprecationWarning: Creating an ndarray from ragged nested sequences (which is a list-or-tuple of lists-or-tuples-or ndarrays with different lengths or shapes) is deprecated. If you meant to do this, you must specify 'dtype=object' when creating the ndarray\n",
            "  return array(a, dtype, copy=False, order=order)\n"
          ]
        }
      ]
    },
    {
      "cell_type": "code",
      "source": [
        "df_test_clear.shape"
      ],
      "metadata": {
        "colab": {
          "base_uri": "https://localhost:8080/"
        },
        "id": "2-JznWsKjRCi",
        "outputId": "1fde5ebd-bcc9-4993-e7ae-147729cfcb5f"
      },
      "execution_count": 30,
      "outputs": [
        {
          "output_type": "execute_result",
          "data": {
            "text/plain": [
              "(2892, 2)"
            ]
          },
          "metadata": {},
          "execution_count": 30
        }
      ]
    },
    {
      "cell_type": "code",
      "metadata": {
        "id": "OHx_4h_GO0_6"
      },
      "source": [
        "test_dl = dloader_test.test_dl(df_test_clear['text'])"
      ],
      "execution_count": 31,
      "outputs": []
    },
    {
      "cell_type": "code",
      "source": [
        "preds = learn_lm.get_preds(dl=test_dl, with_decoded=True)"
      ],
      "metadata": {
        "colab": {
          "base_uri": "https://localhost:8080/",
          "height": 17
        },
        "id": "_XCUILOFIi-e",
        "outputId": "1bb17d85-9bac-4987-ca97-54d5336ea5ab"
      },
      "execution_count": 32,
      "outputs": [
        {
          "output_type": "display_data",
          "data": {
            "text/html": [
              ""
            ],
            "text/plain": [
              "<IPython.core.display.HTML object>"
            ]
          },
          "metadata": {}
        }
      ]
    },
    {
      "cell_type": "code",
      "source": [
        "len(preds)"
      ],
      "metadata": {
        "id": "IRn1BE2Xlw98",
        "colab": {
          "base_uri": "https://localhost:8080/"
        },
        "outputId": "5b4ae30c-f08a-40bd-ef0a-35e8b0317ced"
      },
      "execution_count": 33,
      "outputs": [
        {
          "output_type": "execute_result",
          "data": {
            "text/plain": [
              "3"
            ]
          },
          "metadata": {},
          "execution_count": 33
        }
      ]
    },
    {
      "cell_type": "code",
      "source": [
        "learn_lm.validate()"
      ],
      "metadata": {
        "id": "ZdEp4Buulx1k",
        "colab": {
          "base_uri": "https://localhost:8080/",
          "height": 34
        },
        "outputId": "049510cb-26af-4a5a-e43e-5af808c99b59"
      },
      "execution_count": 34,
      "outputs": [
        {
          "output_type": "display_data",
          "data": {
            "text/html": [
              ""
            ],
            "text/plain": [
              "<IPython.core.display.HTML object>"
            ]
          },
          "metadata": {}
        },
        {
          "output_type": "execute_result",
          "data": {
            "text/plain": [
              "(#4) [0.008375944569706917,0.0024999999441206455,0.9975000023841858,1.008411169052124]"
            ]
          },
          "metadata": {},
          "execution_count": 34
        }
      ]
    },
    {
      "cell_type": "code",
      "source": [
        "interp = ClassificationInterpretation.from_learner(learn_lm)\n",
        "interp.plot_confusion_matrix()"
      ],
      "metadata": {
        "id": "10eEHOedl1cY",
        "colab": {
          "base_uri": "https://localhost:8080/",
          "height": 310
        },
        "outputId": "5f290f7d-02d9-404f-be64-0b0094d0fe64"
      },
      "execution_count": 35,
      "outputs": [
        {
          "output_type": "display_data",
          "data": {
            "text/html": [
              ""
            ],
            "text/plain": [
              "<IPython.core.display.HTML object>"
            ]
          },
          "metadata": {}
        },
        {
          "output_type": "display_data",
          "data": {
            "image/png": "[encoded data removed]",
            "text/plain": [
              "<Figure size 432x288 with 1 Axes>"
            ]
          },
          "metadata": {
            "needs_background": "light"
          }
        }
      ]
    },
    {
      "cell_type": "code",
      "source": [
        ""
      ],
      "metadata": {
        "id": "lpcp8aSoeos9"
      },
      "execution_count": null,
      "outputs": []
    },
    {
      "cell_type": "code",
      "source": [
        ""
      ],
      "metadata": {
        "id": "Di9IjWLhepAS"
      },
      "execution_count": null,
      "outputs": []
    }
  ]
}