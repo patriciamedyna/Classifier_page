{
  "nbformat": 4,
  "nbformat_minor": 0,
  "metadata": {
    "colab": {
      "name": "Fastai_with_tags.ipynb",
      "provenance": [],
      "collapsed_sections": [],
      "machine_shape": "hm",
      "include_colab_link": true
    },
    "jupytext": {
      "split_at_heading": true
    },
    "kernelspec": {
      "display_name": "Python 3",
      "language": "python",
      "name": "python3"
    },
    "accelerator": "GPU"
  },
  "cells": [
    {
      "cell_type": "markdown",
      "metadata": {
        "id": "view-in-github",
        "colab_type": "text"
      },
      "source": [
        "<a href=\"https://colab.research.google.com/github/patriciamedyna/Classifier_page/blob/main/Fastai_Tobacco_with_tags.ipynb\" target=\"_parent\"><img src=\"https://colab.research.google.com/assets/colab-badge.svg\" alt=\"Open In Colab\"/></a>"
      ]
    },
    {
      "cell_type": "code",
      "metadata": {
        "id": "UJr_N-oGWpgm"
      },
      "source": [
        "! [ -e /content ] && pip install -Uqq fastai"
      ],
      "execution_count": 1,
      "outputs": []
    },
    {
      "cell_type": "code",
      "metadata": {
        "id": "yaH3SUzZjuA-"
      },
      "source": [
        "#hide\n",
        "!pip install -Uqq fastbook\n",
        "import fastbook"
      ],
      "execution_count": 2,
      "outputs": []
    },
    {
      "cell_type": "code",
      "metadata": {
        "id": "ZZ_arKKyj3Co"
      },
      "source": [
        "#hide\n",
        "from fastbook import *\n",
        "from IPython.display import display,HTML"
      ],
      "execution_count": 3,
      "outputs": []
    },
    {
      "cell_type": "code",
      "metadata": {
        "id": "-gu3NxcBirzx"
      },
      "source": [
        "from fastai.basics import *\n",
        "from fastai.text.core import *\n",
        "from fastai.text.data import *\n",
        "from fastai.text.models.core import *\n",
        "from fastai.text.models.awdlstm import *\n",
        "from fastai.callback.rnn import *\n",
        "from fastai.callback.progress import *\n",
        "from fastai.vision import *\n",
        "from fastai.text.all import *\n",
        "from fastai.text import *\n",
        "from datetime import datetime"
      ],
      "execution_count": 4,
      "outputs": []
    },
    {
      "cell_type": "code",
      "source": [
        "seed = 42\n",
        "\n",
        "# python RNG\n",
        "import random\n",
        "random.seed(seed)\n",
        "\n",
        "# pytorch RNGs\n",
        "import torch\n",
        "torch.manual_seed(seed)\n",
        "torch.backends.cudnn.deterministic = True\n",
        "if torch.cuda.is_available(): torch.cuda.manual_seed_all(seed)\n",
        "\n",
        "# numpy RNG\n",
        "import numpy as np\n",
        "np.random.seed(seed)"
      ],
      "metadata": {
        "id": "GLqZqDsiLHU9"
      },
      "execution_count": 5,
      "outputs": []
    },
    {
      "cell_type": "code",
      "metadata": {
        "colab": {
          "base_uri": "https://localhost:8080/"
        },
        "id": "51jgSOs8zZrX",
        "outputId": "219958ed-d886-428c-cbec-d79d44a30b88"
      },
      "source": [
        "from google.colab import drive\n",
        "drive.mount('/content/drive')"
      ],
      "execution_count": 6,
      "outputs": [
        {
          "output_type": "stream",
          "name": "stdout",
          "text": [
            "Drive already mounted at /content/drive; to attempt to forcibly remount, call drive.mount(\"/content/drive\", force_remount=True).\n"
          ]
        }
      ]
    },
    {
      "cell_type": "code",
      "source": [
        "path = '/content/drive/MyDrive/Colab Notebooks/Datasets/Tobacco_LSTM/layout/'\n",
        "#path = '/content/drive/.shortcut-targets-by-id/1R_vnrbg04zsdpye6d-dv190eSUWCL07i/Tobacco_LSTM/layout/'"
      ],
      "metadata": {
        "id": "e5UWGaVMQ5in"
      },
      "execution_count": 7,
      "outputs": []
    },
    {
      "cell_type": "code",
      "metadata": {
        "id": "F3fCSD3QmMF_",
        "colab": {
          "base_uri": "https://localhost:8080/",
          "height": 367
        },
        "outputId": "beb45caf-a069-4973-a476-3e240a0ce0c4"
      },
      "source": [
        "df_train = pd.read_csv(path + 'train_tags.csv', delimiter=',',  error_bad_lines=False, index_col=False)\n",
        "df_train = df_train.drop(['text'], axis=1)\n",
        "df_train.head(2)"
      ],
      "execution_count": 8,
      "outputs": [
        {
          "output_type": "stream",
          "name": "stderr",
          "text": [
            "/usr/local/lib/python3.7/dist-packages/IPython/core/interactiveshell.py:2882: FutureWarning: The error_bad_lines argument has been deprecated and will be removed in a future version.\n",
            "\n",
            "\n",
            "  exec(code_obj, self.user_global_ns, self.user_ns)\n"
          ]
        },
        {
          "output_type": "execute_result",
          "data": {
            "text/plain": [
              "       binder              docid      class  \\\n",
              "0  Tobacco800  aah97e00-page02_1  FirstPage   \n",
              "1  Tobacco800  aah97e00-page02_2   NextPage   \n",
              "\n",
              "                                                                                                                                                                                                                                                                                                                                                                                                                                                                                                                                                                                                                 text_tags  \n",
              "0  ['\\n', 'xxQ00_01 xxbob  \\n', 'xxeob xxQ00_02\\n', '\\n', 'xxQ00_01 xxbob PHILIP MORRIS\\n', 'xxeob xxQ00_02\\n', '\\n', 'xxQ00_01 xxbob EUROPE MIDDLE EAST AFRICA\\n', 'xxeob xxQ00_02\\n', '\\n', 'xxQ00_01 xxbob RESEARCH AND DEVELOPMENT\\n', 'xxeob xxQ01_02\\n', '\\n', 'xxQ01_02 xxbob Neuchatel, duly 14, 1977\\n', 'xxeob xxQ01_03\\n', '\\n', 'xxQ01_01 xxbob Dr. M.A. Manzelli,\\n', 'PHILIP MORRIS INC.,\\n', 'Research Center,\\n', 'P.O. Box 3 D\\n', 'Richmond, Va. 23206\\n', 'U.S.A. .\\n', 'xxeob xxQ02_01\\n', '\\n', 'xxQ02_01 xxbob Dear Art,\\n', 'xxeob xxQ02_01\\n', '\\n', 'xxQ03_01 xxbob xxbcet Please proposed pro...  \n",
              "1  ['\\n', 'xxQ00_00 xxbob Please let krow if you have any changes for the proposed\\n', 'me\\n', 'program.\\n', 'xxeob xxQ01_03\\n', '\\n', 'xxQ01_00 xxbob Looking forward to seeing you again,\\n', 'xxeob xxQ01_02\\n', '\\n', 'xxQ01_02 xxbob Yours very truly,\\n', '_.\\n', 'xxeob xxQ01_03\\n', '\\n', 'xxQ01_02 xxbob xxbcet    \\n', 'xxecet\\n', 'xxeob xxQ02_03\\n', '\\n', 'xxQ02_02 xxbob .B. Boder\\n', 'xxeob xxQ02_03\\n', '\\n', 'xxQ02_00 xxbob cc: Messrs. B. Kuhn\\n', 'xxbcet E. Stoop\\n', 'xxecet\\n', 'xxeob xxQ02_01\\n', '\\n', 'xxQ02_00 xxbob Encl.: mentioned\\n', 'xxeob xxQ03_01\\n', '\\n', 'xxQ04_01 xxbob we\\n',...  "
            ],
            "text/html": [
              "\n",
              "  <div id=\"df-0ab00a87-50be-42c1-96d9-73c7d7b05bc6\">\n",
              "    <div class=\"colab-df-container\">\n",
              "      <div>\n",
              "<style scoped>\n",
              "    .dataframe tbody tr th:only-of-type {\n",
              "        vertical-align: middle;\n",
              "    }\n",
              "\n",
              "    .dataframe tbody tr th {\n",
              "        vertical-align: top;\n",
              "    }\n",
              "\n",
              "    .dataframe thead th {\n",
              "        text-align: right;\n",
              "    }\n",
              "</style>\n",
              "<table border=\"1\" class=\"dataframe\">\n",
              "  <thead>\n",
              "    <tr style=\"text-align: right;\">\n",
              "      <th></th>\n",
              "      <th>binder</th>\n",
              "      <th>docid</th>\n",
              "      <th>class</th>\n",
              "      <th>text_tags</th>\n",
              "    </tr>\n",
              "  </thead>\n",
              "  <tbody>\n",
              "    <tr>\n",
              "      <th>0</th>\n",
              "      <td>Tobacco800</td>\n",
              "      <td>aah97e00-page02_1</td>\n",
              "      <td>FirstPage</td>\n",
              "      <td>['\\n', 'xxQ00_01 xxbob  \\n', 'xxeob xxQ00_02\\n', '\\n', 'xxQ00_01 xxbob PHILIP MORRIS\\n', 'xxeob xxQ00_02\\n', '\\n', 'xxQ00_01 xxbob EUROPE MIDDLE EAST AFRICA\\n', 'xxeob xxQ00_02\\n', '\\n', 'xxQ00_01 xxbob RESEARCH AND DEVELOPMENT\\n', 'xxeob xxQ01_02\\n', '\\n', 'xxQ01_02 xxbob Neuchatel, duly 14, 1977\\n', 'xxeob xxQ01_03\\n', '\\n', 'xxQ01_01 xxbob Dr. M.A. Manzelli,\\n', 'PHILIP MORRIS INC.,\\n', 'Research Center,\\n', 'P.O. Box 3 D\\n', 'Richmond, Va. 23206\\n', 'U.S.A. .\\n', 'xxeob xxQ02_01\\n', '\\n', 'xxQ02_01 xxbob Dear Art,\\n', 'xxeob xxQ02_01\\n', '\\n', 'xxQ03_01 xxbob xxbcet Please proposed pro...</td>\n",
              "    </tr>\n",
              "    <tr>\n",
              "      <th>1</th>\n",
              "      <td>Tobacco800</td>\n",
              "      <td>aah97e00-page02_2</td>\n",
              "      <td>NextPage</td>\n",
              "      <td>['\\n', 'xxQ00_00 xxbob Please let krow if you have any changes for the proposed\\n', 'me\\n', 'program.\\n', 'xxeob xxQ01_03\\n', '\\n', 'xxQ01_00 xxbob Looking forward to seeing you again,\\n', 'xxeob xxQ01_02\\n', '\\n', 'xxQ01_02 xxbob Yours very truly,\\n', '_.\\n', 'xxeob xxQ01_03\\n', '\\n', 'xxQ01_02 xxbob xxbcet    \\n', 'xxecet\\n', 'xxeob xxQ02_03\\n', '\\n', 'xxQ02_02 xxbob .B. Boder\\n', 'xxeob xxQ02_03\\n', '\\n', 'xxQ02_00 xxbob cc: Messrs. B. Kuhn\\n', 'xxbcet E. Stoop\\n', 'xxecet\\n', 'xxeob xxQ02_01\\n', '\\n', 'xxQ02_00 xxbob Encl.: mentioned\\n', 'xxeob xxQ03_01\\n', '\\n', 'xxQ04_01 xxbob we\\n',...</td>\n",
              "    </tr>\n",
              "  </tbody>\n",
              "</table>\n",
              "</div>\n",
              "      <button class=\"colab-df-convert\" onclick=\"convertToInteractive('df-0ab00a87-50be-42c1-96d9-73c7d7b05bc6')\"\n",
              "              title=\"Convert this dataframe to an interactive table.\"\n",
              "              style=\"display:none;\">\n",
              "        \n",
              "  <svg xmlns=\"http://www.w3.org/2000/svg\" height=\"24px\"viewBox=\"0 0 24 24\"\n",
              "       width=\"24px\">\n",
              "    <path d=\"M0 0h24v24H0V0z\" fill=\"none\"/>\n",
              "    <path d=\"M18.56 5.44l.94 2.06.94-2.06 2.06-.94-2.06-.94-.94-2.06-.94 2.06-2.06.94zm-11 1L8.5 8.5l.94-2.06 2.06-.94-2.06-.94L8.5 2.5l-.94 2.06-2.06.94zm10 10l.94 2.06.94-2.06 2.06-.94-2.06-.94-.94-2.06-.94 2.06-2.06.94z\"/><path d=\"M17.41 7.96l-1.37-1.37c-.4-.4-.92-.59-1.43-.59-.52 0-1.04.2-1.43.59L10.3 9.45l-7.72 7.72c-.78.78-.78 2.05 0 2.83L4 21.41c.39.39.9.59 1.41.59.51 0 1.02-.2 1.41-.59l7.78-7.78 2.81-2.81c.8-.78.8-2.07 0-2.86zM5.41 20L4 18.59l7.72-7.72 1.47 1.35L5.41 20z\"/>\n",
              "  </svg>\n",
              "      </button>\n",
              "      \n",
              "  <style>\n",
              "    .colab-df-container {\n",
              "      display:flex;\n",
              "      flex-wrap:wrap;\n",
              "      gap: 12px;\n",
              "    }\n",
              "\n",
              "    .colab-df-convert {\n",
              "      background-color: #E8F0FE;\n",
              "      border: none;\n",
              "      border-radius: 50%;\n",
              "      cursor: pointer;\n",
              "      display: none;\n",
              "      fill: #1967D2;\n",
              "      height: 32px;\n",
              "      padding: 0 0 0 0;\n",
              "      width: 32px;\n",
              "    }\n",
              "\n",
              "    .colab-df-convert:hover {\n",
              "      background-color: #E2EBFA;\n",
              "      box-shadow: 0px 1px 2px rgba(60, 64, 67, 0.3), 0px 1px 3px 1px rgba(60, 64, 67, 0.15);\n",
              "      fill: #174EA6;\n",
              "    }\n",
              "\n",
              "    [theme=dark] .colab-df-convert {\n",
              "      background-color: #3B4455;\n",
              "      fill: #D2E3FC;\n",
              "    }\n",
              "\n",
              "    [theme=dark] .colab-df-convert:hover {\n",
              "      background-color: #434B5C;\n",
              "      box-shadow: 0px 1px 3px 1px rgba(0, 0, 0, 0.15);\n",
              "      filter: drop-shadow(0px 1px 2px rgba(0, 0, 0, 0.3));\n",
              "      fill: #FFFFFF;\n",
              "    }\n",
              "  </style>\n",
              "\n",
              "      <script>\n",
              "        const buttonEl =\n",
              "          document.querySelector('#df-0ab00a87-50be-42c1-96d9-73c7d7b05bc6 button.colab-df-convert');\n",
              "        buttonEl.style.display =\n",
              "          google.colab.kernel.accessAllowed ? 'block' : 'none';\n",
              "\n",
              "        async function convertToInteractive(key) {\n",
              "          const element = document.querySelector('#df-0ab00a87-50be-42c1-96d9-73c7d7b05bc6');\n",
              "          const dataTable =\n",
              "            await google.colab.kernel.invokeFunction('convertToInteractive',\n",
              "                                                     [key], {});\n",
              "          if (!dataTable) return;\n",
              "\n",
              "          const docLinkHtml = 'Like what you see? Visit the ' +\n",
              "            '<a target=\"_blank\" href=https://colab.research.google.com/notebooks/data_table.ipynb>data table notebook</a>'\n",
              "            + ' to learn more about interactive tables.';\n",
              "          element.innerHTML = '';\n",
              "          dataTable['output_type'] = 'display_data';\n",
              "          await google.colab.output.renderOutput(dataTable, element);\n",
              "          const docLink = document.createElement('div');\n",
              "          docLink.innerHTML = docLinkHtml;\n",
              "          element.appendChild(docLink);\n",
              "        }\n",
              "      </script>\n",
              "    </div>\n",
              "  </div>\n",
              "  "
            ]
          },
          "metadata": {},
          "execution_count": 8
        }
      ]
    },
    {
      "cell_type": "code",
      "source": [
        "df_train = df_train.drop(columns=['docid','binder'])\n",
        "df_train.head(2)"
      ],
      "metadata": {
        "colab": {
          "base_uri": "https://localhost:8080/",
          "height": 260
        },
        "id": "XxSZk5VuRwZP",
        "outputId": "0bc360de-9780-4b31-953a-745a622ae0ac"
      },
      "execution_count": 9,
      "outputs": [
        {
          "output_type": "execute_result",
          "data": {
            "text/plain": [
              "       class  \\\n",
              "0  FirstPage   \n",
              "1   NextPage   \n",
              "\n",
              "                                                                                                                                                                                                                                                                                                                                                                                                                                                                                                                                                                                                                 text_tags  \n",
              "0  ['\\n', 'xxQ00_01 xxbob  \\n', 'xxeob xxQ00_02\\n', '\\n', 'xxQ00_01 xxbob PHILIP MORRIS\\n', 'xxeob xxQ00_02\\n', '\\n', 'xxQ00_01 xxbob EUROPE MIDDLE EAST AFRICA\\n', 'xxeob xxQ00_02\\n', '\\n', 'xxQ00_01 xxbob RESEARCH AND DEVELOPMENT\\n', 'xxeob xxQ01_02\\n', '\\n', 'xxQ01_02 xxbob Neuchatel, duly 14, 1977\\n', 'xxeob xxQ01_03\\n', '\\n', 'xxQ01_01 xxbob Dr. M.A. Manzelli,\\n', 'PHILIP MORRIS INC.,\\n', 'Research Center,\\n', 'P.O. Box 3 D\\n', 'Richmond, Va. 23206\\n', 'U.S.A. .\\n', 'xxeob xxQ02_01\\n', '\\n', 'xxQ02_01 xxbob Dear Art,\\n', 'xxeob xxQ02_01\\n', '\\n', 'xxQ03_01 xxbob xxbcet Please proposed pro...  \n",
              "1  ['\\n', 'xxQ00_00 xxbob Please let krow if you have any changes for the proposed\\n', 'me\\n', 'program.\\n', 'xxeob xxQ01_03\\n', '\\n', 'xxQ01_00 xxbob Looking forward to seeing you again,\\n', 'xxeob xxQ01_02\\n', '\\n', 'xxQ01_02 xxbob Yours very truly,\\n', '_.\\n', 'xxeob xxQ01_03\\n', '\\n', 'xxQ01_02 xxbob xxbcet    \\n', 'xxecet\\n', 'xxeob xxQ02_03\\n', '\\n', 'xxQ02_02 xxbob .B. Boder\\n', 'xxeob xxQ02_03\\n', '\\n', 'xxQ02_00 xxbob cc: Messrs. B. Kuhn\\n', 'xxbcet E. Stoop\\n', 'xxecet\\n', 'xxeob xxQ02_01\\n', '\\n', 'xxQ02_00 xxbob Encl.: mentioned\\n', 'xxeob xxQ03_01\\n', '\\n', 'xxQ04_01 xxbob we\\n',...  "
            ],
            "text/html": [
              "\n",
              "  <div id=\"df-af2fb07c-f8ef-4ab4-ada2-122f14a6e184\">\n",
              "    <div class=\"colab-df-container\">\n",
              "      <div>\n",
              "<style scoped>\n",
              "    .dataframe tbody tr th:only-of-type {\n",
              "        vertical-align: middle;\n",
              "    }\n",
              "\n",
              "    .dataframe tbody tr th {\n",
              "        vertical-align: top;\n",
              "    }\n",
              "\n",
              "    .dataframe thead th {\n",
              "        text-align: right;\n",
              "    }\n",
              "</style>\n",
              "<table border=\"1\" class=\"dataframe\">\n",
              "  <thead>\n",
              "    <tr style=\"text-align: right;\">\n",
              "      <th></th>\n",
              "      <th>class</th>\n",
              "      <th>text_tags</th>\n",
              "    </tr>\n",
              "  </thead>\n",
              "  <tbody>\n",
              "    <tr>\n",
              "      <th>0</th>\n",
              "      <td>FirstPage</td>\n",
              "      <td>['\\n', 'xxQ00_01 xxbob  \\n', 'xxeob xxQ00_02\\n', '\\n', 'xxQ00_01 xxbob PHILIP MORRIS\\n', 'xxeob xxQ00_02\\n', '\\n', 'xxQ00_01 xxbob EUROPE MIDDLE EAST AFRICA\\n', 'xxeob xxQ00_02\\n', '\\n', 'xxQ00_01 xxbob RESEARCH AND DEVELOPMENT\\n', 'xxeob xxQ01_02\\n', '\\n', 'xxQ01_02 xxbob Neuchatel, duly 14, 1977\\n', 'xxeob xxQ01_03\\n', '\\n', 'xxQ01_01 xxbob Dr. M.A. Manzelli,\\n', 'PHILIP MORRIS INC.,\\n', 'Research Center,\\n', 'P.O. Box 3 D\\n', 'Richmond, Va. 23206\\n', 'U.S.A. .\\n', 'xxeob xxQ02_01\\n', '\\n', 'xxQ02_01 xxbob Dear Art,\\n', 'xxeob xxQ02_01\\n', '\\n', 'xxQ03_01 xxbob xxbcet Please proposed pro...</td>\n",
              "    </tr>\n",
              "    <tr>\n",
              "      <th>1</th>\n",
              "      <td>NextPage</td>\n",
              "      <td>['\\n', 'xxQ00_00 xxbob Please let krow if you have any changes for the proposed\\n', 'me\\n', 'program.\\n', 'xxeob xxQ01_03\\n', '\\n', 'xxQ01_00 xxbob Looking forward to seeing you again,\\n', 'xxeob xxQ01_02\\n', '\\n', 'xxQ01_02 xxbob Yours very truly,\\n', '_.\\n', 'xxeob xxQ01_03\\n', '\\n', 'xxQ01_02 xxbob xxbcet    \\n', 'xxecet\\n', 'xxeob xxQ02_03\\n', '\\n', 'xxQ02_02 xxbob .B. Boder\\n', 'xxeob xxQ02_03\\n', '\\n', 'xxQ02_00 xxbob cc: Messrs. B. Kuhn\\n', 'xxbcet E. Stoop\\n', 'xxecet\\n', 'xxeob xxQ02_01\\n', '\\n', 'xxQ02_00 xxbob Encl.: mentioned\\n', 'xxeob xxQ03_01\\n', '\\n', 'xxQ04_01 xxbob we\\n',...</td>\n",
              "    </tr>\n",
              "  </tbody>\n",
              "</table>\n",
              "</div>\n",
              "      <button class=\"colab-df-convert\" onclick=\"convertToInteractive('df-af2fb07c-f8ef-4ab4-ada2-122f14a6e184')\"\n",
              "              title=\"Convert this dataframe to an interactive table.\"\n",
              "              style=\"display:none;\">\n",
              "        \n",
              "  <svg xmlns=\"http://www.w3.org/2000/svg\" height=\"24px\"viewBox=\"0 0 24 24\"\n",
              "       width=\"24px\">\n",
              "    <path d=\"M0 0h24v24H0V0z\" fill=\"none\"/>\n",
              "    <path d=\"M18.56 5.44l.94 2.06.94-2.06 2.06-.94-2.06-.94-.94-2.06-.94 2.06-2.06.94zm-11 1L8.5 8.5l.94-2.06 2.06-.94-2.06-.94L8.5 2.5l-.94 2.06-2.06.94zm10 10l.94 2.06.94-2.06 2.06-.94-2.06-.94-.94-2.06-.94 2.06-2.06.94z\"/><path d=\"M17.41 7.96l-1.37-1.37c-.4-.4-.92-.59-1.43-.59-.52 0-1.04.2-1.43.59L10.3 9.45l-7.72 7.72c-.78.78-.78 2.05 0 2.83L4 21.41c.39.39.9.59 1.41.59.51 0 1.02-.2 1.41-.59l7.78-7.78 2.81-2.81c.8-.78.8-2.07 0-2.86zM5.41 20L4 18.59l7.72-7.72 1.47 1.35L5.41 20z\"/>\n",
              "  </svg>\n",
              "      </button>\n",
              "      \n",
              "  <style>\n",
              "    .colab-df-container {\n",
              "      display:flex;\n",
              "      flex-wrap:wrap;\n",
              "      gap: 12px;\n",
              "    }\n",
              "\n",
              "    .colab-df-convert {\n",
              "      background-color: #E8F0FE;\n",
              "      border: none;\n",
              "      border-radius: 50%;\n",
              "      cursor: pointer;\n",
              "      display: none;\n",
              "      fill: #1967D2;\n",
              "      height: 32px;\n",
              "      padding: 0 0 0 0;\n",
              "      width: 32px;\n",
              "    }\n",
              "\n",
              "    .colab-df-convert:hover {\n",
              "      background-color: #E2EBFA;\n",
              "      box-shadow: 0px 1px 2px rgba(60, 64, 67, 0.3), 0px 1px 3px 1px rgba(60, 64, 67, 0.15);\n",
              "      fill: #174EA6;\n",
              "    }\n",
              "\n",
              "    [theme=dark] .colab-df-convert {\n",
              "      background-color: #3B4455;\n",
              "      fill: #D2E3FC;\n",
              "    }\n",
              "\n",
              "    [theme=dark] .colab-df-convert:hover {\n",
              "      background-color: #434B5C;\n",
              "      box-shadow: 0px 1px 3px 1px rgba(0, 0, 0, 0.15);\n",
              "      filter: drop-shadow(0px 1px 2px rgba(0, 0, 0, 0.3));\n",
              "      fill: #FFFFFF;\n",
              "    }\n",
              "  </style>\n",
              "\n",
              "      <script>\n",
              "        const buttonEl =\n",
              "          document.querySelector('#df-af2fb07c-f8ef-4ab4-ada2-122f14a6e184 button.colab-df-convert');\n",
              "        buttonEl.style.display =\n",
              "          google.colab.kernel.accessAllowed ? 'block' : 'none';\n",
              "\n",
              "        async function convertToInteractive(key) {\n",
              "          const element = document.querySelector('#df-af2fb07c-f8ef-4ab4-ada2-122f14a6e184');\n",
              "          const dataTable =\n",
              "            await google.colab.kernel.invokeFunction('convertToInteractive',\n",
              "                                                     [key], {});\n",
              "          if (!dataTable) return;\n",
              "\n",
              "          const docLinkHtml = 'Like what you see? Visit the ' +\n",
              "            '<a target=\"_blank\" href=https://colab.research.google.com/notebooks/data_table.ipynb>data table notebook</a>'\n",
              "            + ' to learn more about interactive tables.';\n",
              "          element.innerHTML = '';\n",
              "          dataTable['output_type'] = 'display_data';\n",
              "          await google.colab.output.renderOutput(dataTable, element);\n",
              "          const docLink = document.createElement('div');\n",
              "          docLink.innerHTML = docLinkHtml;\n",
              "          element.appendChild(docLink);\n",
              "        }\n",
              "      </script>\n",
              "    </div>\n",
              "  </div>\n",
              "  "
            ]
          },
          "metadata": {},
          "execution_count": 9
        }
      ]
    },
    {
      "cell_type": "code",
      "metadata": {
        "id": "mUIsYb_KhWYl",
        "colab": {
          "base_uri": "https://localhost:8080/",
          "height": 266
        },
        "outputId": "94d2ddae-4f85-4daa-e888-9b01f5783e56"
      },
      "source": [
        "df_test = pd.read_csv(path + 'test_tags.csv', delimiter=',', error_bad_lines=False)\n",
        "df_test = df_test.drop(['text'], axis=1)\n",
        "df_test.head(1)"
      ],
      "execution_count": 10,
      "outputs": [
        {
          "output_type": "stream",
          "name": "stderr",
          "text": [
            "/usr/local/lib/python3.7/dist-packages/IPython/core/interactiveshell.py:2882: FutureWarning: The error_bad_lines argument has been deprecated and will be removed in a future version.\n",
            "\n",
            "\n",
            "  exec(code_obj, self.user_global_ns, self.user_ns)\n"
          ]
        },
        {
          "output_type": "execute_result",
          "data": {
            "text/plain": [
              "       binder       docid      class  \\\n",
              "0  Tobacco800  tkj51f00_1  FirstPage   \n",
              "\n",
              "                                                                                                                                                                                                                                                                                                                                                                                                                                                                                                                                                                                                                 text_tags  \n",
              "0  ['\\n', 'xxQ00_01 xxbob      \\n', 'xxeob xxQ00_02\\n', '\\n', 'xxQ00_01 xxbob h Department\\n', 'xxeob xxQ00_02\\n', '\\n', 'xxQ00_00 xxbob MARCH 26, 1986\\n', 'FILE NOTL\\n', 'xxeob xxQ00_03\\n', '\\n', 'xxQ00_02 xxbob    \\n', 'xxeob xxQ00_03\\n', '\\n', 'xxQ00_02 xxbob Pare}\\n', 'xxeob xxQ00_02\\n', '\\n', 'xxQ00_00 xxbob COMPONERTS/415_& St\\n', 'MATLLARD REACTION “Al! FLAVOR\\n', 'xxeob xxQ00_02\\n', '\\n', 'xxQ00_02 xxbob Fisgert, af Grove AG GALLON Toe lo. 1\\n', 'xxeob xxQ00_03\\n', '\\n', 'xxQ00_00 xxbob the layer of the Mailiare\\n', 'Jdentification of flavor components in aqueous\\n', 'this communicati...  "
            ],
            "text/html": [
              "\n",
              "  <div id=\"df-871d4589-44ca-486c-81ed-0367ea876cf9\">\n",
              "    <div class=\"colab-df-container\">\n",
              "      <div>\n",
              "<style scoped>\n",
              "    .dataframe tbody tr th:only-of-type {\n",
              "        vertical-align: middle;\n",
              "    }\n",
              "\n",
              "    .dataframe tbody tr th {\n",
              "        vertical-align: top;\n",
              "    }\n",
              "\n",
              "    .dataframe thead th {\n",
              "        text-align: right;\n",
              "    }\n",
              "</style>\n",
              "<table border=\"1\" class=\"dataframe\">\n",
              "  <thead>\n",
              "    <tr style=\"text-align: right;\">\n",
              "      <th></th>\n",
              "      <th>binder</th>\n",
              "      <th>docid</th>\n",
              "      <th>class</th>\n",
              "      <th>text_tags</th>\n",
              "    </tr>\n",
              "  </thead>\n",
              "  <tbody>\n",
              "    <tr>\n",
              "      <th>0</th>\n",
              "      <td>Tobacco800</td>\n",
              "      <td>tkj51f00_1</td>\n",
              "      <td>FirstPage</td>\n",
              "      <td>['\\n', 'xxQ00_01 xxbob      \\n', 'xxeob xxQ00_02\\n', '\\n', 'xxQ00_01 xxbob h Department\\n', 'xxeob xxQ00_02\\n', '\\n', 'xxQ00_00 xxbob MARCH 26, 1986\\n', 'FILE NOTL\\n', 'xxeob xxQ00_03\\n', '\\n', 'xxQ00_02 xxbob    \\n', 'xxeob xxQ00_03\\n', '\\n', 'xxQ00_02 xxbob Pare}\\n', 'xxeob xxQ00_02\\n', '\\n', 'xxQ00_00 xxbob COMPONERTS/415_&amp; St\\n', 'MATLLARD REACTION “Al! FLAVOR\\n', 'xxeob xxQ00_02\\n', '\\n', 'xxQ00_02 xxbob Fisgert, af Grove AG GALLON Toe lo. 1\\n', 'xxeob xxQ00_03\\n', '\\n', 'xxQ00_00 xxbob the layer of the Mailiare\\n', 'Jdentification of flavor components in aqueous\\n', 'this communicati...</td>\n",
              "    </tr>\n",
              "  </tbody>\n",
              "</table>\n",
              "</div>\n",
              "      <button class=\"colab-df-convert\" onclick=\"convertToInteractive('df-871d4589-44ca-486c-81ed-0367ea876cf9')\"\n",
              "              title=\"Convert this dataframe to an interactive table.\"\n",
              "              style=\"display:none;\">\n",
              "        \n",
              "  <svg xmlns=\"http://www.w3.org/2000/svg\" height=\"24px\"viewBox=\"0 0 24 24\"\n",
              "       width=\"24px\">\n",
              "    <path d=\"M0 0h24v24H0V0z\" fill=\"none\"/>\n",
              "    <path d=\"M18.56 5.44l.94 2.06.94-2.06 2.06-.94-2.06-.94-.94-2.06-.94 2.06-2.06.94zm-11 1L8.5 8.5l.94-2.06 2.06-.94-2.06-.94L8.5 2.5l-.94 2.06-2.06.94zm10 10l.94 2.06.94-2.06 2.06-.94-2.06-.94-.94-2.06-.94 2.06-2.06.94z\"/><path d=\"M17.41 7.96l-1.37-1.37c-.4-.4-.92-.59-1.43-.59-.52 0-1.04.2-1.43.59L10.3 9.45l-7.72 7.72c-.78.78-.78 2.05 0 2.83L4 21.41c.39.39.9.59 1.41.59.51 0 1.02-.2 1.41-.59l7.78-7.78 2.81-2.81c.8-.78.8-2.07 0-2.86zM5.41 20L4 18.59l7.72-7.72 1.47 1.35L5.41 20z\"/>\n",
              "  </svg>\n",
              "      </button>\n",
              "      \n",
              "  <style>\n",
              "    .colab-df-container {\n",
              "      display:flex;\n",
              "      flex-wrap:wrap;\n",
              "      gap: 12px;\n",
              "    }\n",
              "\n",
              "    .colab-df-convert {\n",
              "      background-color: #E8F0FE;\n",
              "      border: none;\n",
              "      border-radius: 50%;\n",
              "      cursor: pointer;\n",
              "      display: none;\n",
              "      fill: #1967D2;\n",
              "      height: 32px;\n",
              "      padding: 0 0 0 0;\n",
              "      width: 32px;\n",
              "    }\n",
              "\n",
              "    .colab-df-convert:hover {\n",
              "      background-color: #E2EBFA;\n",
              "      box-shadow: 0px 1px 2px rgba(60, 64, 67, 0.3), 0px 1px 3px 1px rgba(60, 64, 67, 0.15);\n",
              "      fill: #174EA6;\n",
              "    }\n",
              "\n",
              "    [theme=dark] .colab-df-convert {\n",
              "      background-color: #3B4455;\n",
              "      fill: #D2E3FC;\n",
              "    }\n",
              "\n",
              "    [theme=dark] .colab-df-convert:hover {\n",
              "      background-color: #434B5C;\n",
              "      box-shadow: 0px 1px 3px 1px rgba(0, 0, 0, 0.15);\n",
              "      filter: drop-shadow(0px 1px 2px rgba(0, 0, 0, 0.3));\n",
              "      fill: #FFFFFF;\n",
              "    }\n",
              "  </style>\n",
              "\n",
              "      <script>\n",
              "        const buttonEl =\n",
              "          document.querySelector('#df-871d4589-44ca-486c-81ed-0367ea876cf9 button.colab-df-convert');\n",
              "        buttonEl.style.display =\n",
              "          google.colab.kernel.accessAllowed ? 'block' : 'none';\n",
              "\n",
              "        async function convertToInteractive(key) {\n",
              "          const element = document.querySelector('#df-871d4589-44ca-486c-81ed-0367ea876cf9');\n",
              "          const dataTable =\n",
              "            await google.colab.kernel.invokeFunction('convertToInteractive',\n",
              "                                                     [key], {});\n",
              "          if (!dataTable) return;\n",
              "\n",
              "          const docLinkHtml = 'Like what you see? Visit the ' +\n",
              "            '<a target=\"_blank\" href=https://colab.research.google.com/notebooks/data_table.ipynb>data table notebook</a>'\n",
              "            + ' to learn more about interactive tables.';\n",
              "          element.innerHTML = '';\n",
              "          dataTable['output_type'] = 'display_data';\n",
              "          await google.colab.output.renderOutput(dataTable, element);\n",
              "          const docLink = document.createElement('div');\n",
              "          docLink.innerHTML = docLinkHtml;\n",
              "          element.appendChild(docLink);\n",
              "        }\n",
              "      </script>\n",
              "    </div>\n",
              "  </div>\n",
              "  "
            ]
          },
          "metadata": {},
          "execution_count": 10
        }
      ]
    },
    {
      "cell_type": "code",
      "metadata": {
        "id": "dahU9BCbcJBi",
        "colab": {
          "base_uri": "https://localhost:8080/",
          "height": 177
        },
        "outputId": "2b29b544-1944-4e2d-f4a7-f1b2098cdfc8"
      },
      "source": [
        "df_test = df_test.drop(columns=['docid','binder'])\n",
        "#df_test = data.drop(columns= 'binder')\n",
        "#unsup = df_test.drop(columns='class')\n",
        "#unsup.head(2)\n",
        "df_test.head(1)"
      ],
      "execution_count": 11,
      "outputs": [
        {
          "output_type": "execute_result",
          "data": {
            "text/plain": [
              "       class  \\\n",
              "0  FirstPage   \n",
              "\n",
              "                                                                                                                                                                                                                                                                                                                                                                                                                                                                                                                                                                                                                 text_tags  \n",
              "0  ['\\n', 'xxQ00_01 xxbob      \\n', 'xxeob xxQ00_02\\n', '\\n', 'xxQ00_01 xxbob h Department\\n', 'xxeob xxQ00_02\\n', '\\n', 'xxQ00_00 xxbob MARCH 26, 1986\\n', 'FILE NOTL\\n', 'xxeob xxQ00_03\\n', '\\n', 'xxQ00_02 xxbob    \\n', 'xxeob xxQ00_03\\n', '\\n', 'xxQ00_02 xxbob Pare}\\n', 'xxeob xxQ00_02\\n', '\\n', 'xxQ00_00 xxbob COMPONERTS/415_& St\\n', 'MATLLARD REACTION “Al! FLAVOR\\n', 'xxeob xxQ00_02\\n', '\\n', 'xxQ00_02 xxbob Fisgert, af Grove AG GALLON Toe lo. 1\\n', 'xxeob xxQ00_03\\n', '\\n', 'xxQ00_00 xxbob the layer of the Mailiare\\n', 'Jdentification of flavor components in aqueous\\n', 'this communicati...  "
            ],
            "text/html": [
              "\n",
              "  <div id=\"df-da934d44-e702-4999-bdcf-ec06b742ae4d\">\n",
              "    <div class=\"colab-df-container\">\n",
              "      <div>\n",
              "<style scoped>\n",
              "    .dataframe tbody tr th:only-of-type {\n",
              "        vertical-align: middle;\n",
              "    }\n",
              "\n",
              "    .dataframe tbody tr th {\n",
              "        vertical-align: top;\n",
              "    }\n",
              "\n",
              "    .dataframe thead th {\n",
              "        text-align: right;\n",
              "    }\n",
              "</style>\n",
              "<table border=\"1\" class=\"dataframe\">\n",
              "  <thead>\n",
              "    <tr style=\"text-align: right;\">\n",
              "      <th></th>\n",
              "      <th>class</th>\n",
              "      <th>text_tags</th>\n",
              "    </tr>\n",
              "  </thead>\n",
              "  <tbody>\n",
              "    <tr>\n",
              "      <th>0</th>\n",
              "      <td>FirstPage</td>\n",
              "      <td>['\\n', 'xxQ00_01 xxbob      \\n', 'xxeob xxQ00_02\\n', '\\n', 'xxQ00_01 xxbob h Department\\n', 'xxeob xxQ00_02\\n', '\\n', 'xxQ00_00 xxbob MARCH 26, 1986\\n', 'FILE NOTL\\n', 'xxeob xxQ00_03\\n', '\\n', 'xxQ00_02 xxbob    \\n', 'xxeob xxQ00_03\\n', '\\n', 'xxQ00_02 xxbob Pare}\\n', 'xxeob xxQ00_02\\n', '\\n', 'xxQ00_00 xxbob COMPONERTS/415_&amp; St\\n', 'MATLLARD REACTION “Al! FLAVOR\\n', 'xxeob xxQ00_02\\n', '\\n', 'xxQ00_02 xxbob Fisgert, af Grove AG GALLON Toe lo. 1\\n', 'xxeob xxQ00_03\\n', '\\n', 'xxQ00_00 xxbob the layer of the Mailiare\\n', 'Jdentification of flavor components in aqueous\\n', 'this communicati...</td>\n",
              "    </tr>\n",
              "  </tbody>\n",
              "</table>\n",
              "</div>\n",
              "      <button class=\"colab-df-convert\" onclick=\"convertToInteractive('df-da934d44-e702-4999-bdcf-ec06b742ae4d')\"\n",
              "              title=\"Convert this dataframe to an interactive table.\"\n",
              "              style=\"display:none;\">\n",
              "        \n",
              "  <svg xmlns=\"http://www.w3.org/2000/svg\" height=\"24px\"viewBox=\"0 0 24 24\"\n",
              "       width=\"24px\">\n",
              "    <path d=\"M0 0h24v24H0V0z\" fill=\"none\"/>\n",
              "    <path d=\"M18.56 5.44l.94 2.06.94-2.06 2.06-.94-2.06-.94-.94-2.06-.94 2.06-2.06.94zm-11 1L8.5 8.5l.94-2.06 2.06-.94-2.06-.94L8.5 2.5l-.94 2.06-2.06.94zm10 10l.94 2.06.94-2.06 2.06-.94-2.06-.94-.94-2.06-.94 2.06-2.06.94z\"/><path d=\"M17.41 7.96l-1.37-1.37c-.4-.4-.92-.59-1.43-.59-.52 0-1.04.2-1.43.59L10.3 9.45l-7.72 7.72c-.78.78-.78 2.05 0 2.83L4 21.41c.39.39.9.59 1.41.59.51 0 1.02-.2 1.41-.59l7.78-7.78 2.81-2.81c.8-.78.8-2.07 0-2.86zM5.41 20L4 18.59l7.72-7.72 1.47 1.35L5.41 20z\"/>\n",
              "  </svg>\n",
              "      </button>\n",
              "      \n",
              "  <style>\n",
              "    .colab-df-container {\n",
              "      display:flex;\n",
              "      flex-wrap:wrap;\n",
              "      gap: 12px;\n",
              "    }\n",
              "\n",
              "    .colab-df-convert {\n",
              "      background-color: #E8F0FE;\n",
              "      border: none;\n",
              "      border-radius: 50%;\n",
              "      cursor: pointer;\n",
              "      display: none;\n",
              "      fill: #1967D2;\n",
              "      height: 32px;\n",
              "      padding: 0 0 0 0;\n",
              "      width: 32px;\n",
              "    }\n",
              "\n",
              "    .colab-df-convert:hover {\n",
              "      background-color: #E2EBFA;\n",
              "      box-shadow: 0px 1px 2px rgba(60, 64, 67, 0.3), 0px 1px 3px 1px rgba(60, 64, 67, 0.15);\n",
              "      fill: #174EA6;\n",
              "    }\n",
              "\n",
              "    [theme=dark] .colab-df-convert {\n",
              "      background-color: #3B4455;\n",
              "      fill: #D2E3FC;\n",
              "    }\n",
              "\n",
              "    [theme=dark] .colab-df-convert:hover {\n",
              "      background-color: #434B5C;\n",
              "      box-shadow: 0px 1px 3px 1px rgba(0, 0, 0, 0.15);\n",
              "      filter: drop-shadow(0px 1px 2px rgba(0, 0, 0, 0.3));\n",
              "      fill: #FFFFFF;\n",
              "    }\n",
              "  </style>\n",
              "\n",
              "      <script>\n",
              "        const buttonEl =\n",
              "          document.querySelector('#df-da934d44-e702-4999-bdcf-ec06b742ae4d button.colab-df-convert');\n",
              "        buttonEl.style.display =\n",
              "          google.colab.kernel.accessAllowed ? 'block' : 'none';\n",
              "\n",
              "        async function convertToInteractive(key) {\n",
              "          const element = document.querySelector('#df-da934d44-e702-4999-bdcf-ec06b742ae4d');\n",
              "          const dataTable =\n",
              "            await google.colab.kernel.invokeFunction('convertToInteractive',\n",
              "                                                     [key], {});\n",
              "          if (!dataTable) return;\n",
              "\n",
              "          const docLinkHtml = 'Like what you see? Visit the ' +\n",
              "            '<a target=\"_blank\" href=https://colab.research.google.com/notebooks/data_table.ipynb>data table notebook</a>'\n",
              "            + ' to learn more about interactive tables.';\n",
              "          element.innerHTML = '';\n",
              "          dataTable['output_type'] = 'display_data';\n",
              "          await google.colab.output.renderOutput(dataTable, element);\n",
              "          const docLink = document.createElement('div');\n",
              "          docLink.innerHTML = docLinkHtml;\n",
              "          element.appendChild(docLink);\n",
              "        }\n",
              "      </script>\n",
              "    </div>\n",
              "  </div>\n",
              "  "
            ]
          },
          "metadata": {},
          "execution_count": 11
        }
      ]
    },
    {
      "cell_type": "markdown",
      "metadata": {
        "id": "bY4v5mjtPfun"
      },
      "source": [
        "## Create DataLoader"
      ]
    },
    {
      "cell_type": "code",
      "metadata": {
        "id": "vOx33LAtQKY1"
      },
      "source": [
        "def get_features(r):\n",
        "\n",
        "  return r['text']\n",
        "\n",
        "def get_labels(r):\n",
        "\n",
        "  return r['class']"
      ],
      "execution_count": 12,
      "outputs": []
    },
    {
      "cell_type": "code",
      "metadata": {
        "colab": {
          "base_uri": "https://localhost:8080/"
        },
        "id": "stgXmmS-vkK6",
        "outputId": "ac0ad7ca-391c-4903-eff7-a3aff26f5d40"
      },
      "source": [
        "df_train.keys()"
      ],
      "execution_count": 13,
      "outputs": [
        {
          "output_type": "execute_result",
          "data": {
            "text/plain": [
              "Index(['class', 'text_tags'], dtype='object')"
            ]
          },
          "metadata": {},
          "execution_count": 13
        }
      ]
    },
    {
      "cell_type": "code",
      "metadata": {
        "colab": {
          "base_uri": "https://localhost:8080/",
          "height": 182
        },
        "id": "v9uaiqMalx0x",
        "outputId": "cc579b17-989a-46ad-d4f0-18b7e186cbe3"
      },
      "source": [
        "dblock_train = DataBlock(\n",
        "    blocks=(TextBlock.from_df(text_cols=['text_tags', 'class'], seq_len=72), CategoryBlock),\n",
        "            get_x=get_features, \n",
        "            get_y=get_labels)\n",
        "\n",
        "dloader_train = dblock_train.dataloaders(df_train, bs=128)\n",
        "dloader_train.show_batch(max_n=2)"
      ],
      "execution_count": 14,
      "outputs": [
        {
          "output_type": "display_data",
          "data": {
            "text/plain": [
              "<IPython.core.display.HTML object>"
            ],
            "text/html": [
              "\n",
              "<style>\n",
              "    /* Turns off some styling */\n",
              "    progress {\n",
              "        /* gets rid of default border in Firefox and Opera. */\n",
              "        border: none;\n",
              "        /* Needs to be in here for Safari polyfill so background images work as expected. */\n",
              "        background-size: auto;\n",
              "    }\n",
              "    .progress-bar-interrupted, .progress-bar-interrupted::-webkit-progress-bar {\n",
              "        background: #F44336;\n",
              "    }\n",
              "</style>\n"
            ]
          },
          "metadata": {}
        },
        {
          "output_type": "display_data",
          "data": {
            "text/plain": [
              "<IPython.core.display.HTML object>"
            ],
            "text/html": [
              ""
            ]
          },
          "metadata": {}
        },
        {
          "output_type": "display_data",
          "data": {
            "text/plain": [
              "<IPython.core.display.HTML object>"
            ],
            "text/html": [
              "<table border=\"1\" class=\"dataframe\">\n",
              "  <thead>\n",
              "    <tr style=\"text-align: right;\">\n",
              "      <th></th>\n",
              "      <th>text</th>\n",
              "      <th>category</th>\n",
              "    </tr>\n",
              "  </thead>\n",
              "  <tbody>\n",
              "    <tr>\n",
              "      <th>0</th>\n",
              "      <td>xxbos xxfld 1 [ ' \\n ' , ' xxq00_00 xxbob \\n ' , ' xxeob xxq00_00 \\n ' , ' \\n ' , ' xxq00_00 xxbob xxbcet - \\n ' , ' xxecet \\n ' , ' xxunk \\n ' , ' xxeob xxq00_00 \\n ' , ' \\n ' , ' xxq00_00 xxbob \\n ' , ' xxeob xxq00_00 \\n ' , ' \\n ' , ' xxq00_00 xxbob \\n ' , ' xxeob xxq00_01 \\n ' , ' \\n ' , ' xxq00_00 xxbob xxbcet xxmaj the | end xxmaj xxunk t xxmaj content xxmaj of xxmaj one xxmaj hundred \\n ' , ' xxecet \\n ' , ' xxeob xxq00_01 \\n ' , ' \\n ' , ' xxq00_00 xxbob \\n ' , ' xxeob xxq00_01 \\n ' , ' \\n ' , ' xxq00_00 xxbob xxbcet \\n ' , ' xxecet \\n ' , '</td>\n",
              "      <td>NextPage</td>\n",
              "    </tr>\n",
              "    <tr>\n",
              "      <th>1</th>\n",
              "      <td>xxbos xxfld 1 [ ' \\n ' , ' xxq00_00 xxbob xxup lo xxmaj absorbance xxmaj unit xxmaj full xxmaj seale \\n ' , ' at 550 xxmaj dm \\n ' , ' \" po xxup la xxmaj xxunk xxunk xxunk xxmaj abi xxup xxunk \\ ' xxup ant xxrep 3 a xxmaj dy \\n ' , ' xxeob xxq00_01 \\n ' , ' \\n ' , ' xxq00_00 xxbob [ ge \\n ' , ' xxbcet om xxmaj xxunk ia xxunk xxmaj xxunk ni \\n ' , ' xxecet \\n ' , ' pre xxunk xxmaj tet xxup tm ce xxup ct xxup tt xxup tt nat \\n ' , ' he s xxmaj fee et xxrep 3 t xxrep 3 t xxrep 3 t xxup tt at en \\n ' , ' ei i \\n ' , ' foes xxunk xxup ce at xxunk xxup tt xxup tt</td>\n",
              "      <td>NextPage</td>\n",
              "    </tr>\n",
              "  </tbody>\n",
              "</table>"
            ]
          },
          "metadata": {}
        }
      ]
    },
    {
      "cell_type": "markdown",
      "metadata": {
        "id": "MClnyCFIRQsS"
      },
      "source": [
        "## Classification Model"
      ]
    },
    {
      "cell_type": "code",
      "metadata": {
        "id": "RLDNSEnSXZLf"
      },
      "source": [
        "# checkpoint \n",
        "cbs=[SaveModelCallback()]"
      ],
      "execution_count": 15,
      "outputs": []
    },
    {
      "cell_type": "code",
      "source": [
        "now = datetime.today().strftime('%Y-%m-%d-%H:%M:%S')"
      ],
      "metadata": {
        "id": "T1f0E74-ErkW"
      },
      "execution_count": 16,
      "outputs": []
    },
    {
      "cell_type": "code",
      "metadata": {
        "id": "yFi9cVezirz9"
      },
      "source": [
        "learn = text_classifier_learner(dloader_train, \n",
        "                                AWD_LSTM, \n",
        "                                drop_mult=0.5, path='/content/drive/MyDrive/Colab Notebooks/Datasets/Tobacco_LSTM/layout/checkpoints', \n",
        "                                metrics=[error_rate, accuracy, Perplexity()]).to_fp16()"
      ],
      "execution_count": 17,
      "outputs": []
    },
    {
      "cell_type": "code",
      "metadata": {
        "colab": {
          "base_uri": "https://localhost:8080/",
          "height": 774
        },
        "id": "Zo2DlMlnirz-",
        "outputId": "b53ad591-0904-4171-f117-545d18440736"
      },
      "source": [
        "learn.fine_tune(15, 1e-2, cbs=cbs)"
      ],
      "execution_count": 18,
      "outputs": [
        {
          "output_type": "display_data",
          "data": {
            "text/plain": [
              "<IPython.core.display.HTML object>"
            ],
            "text/html": [
              "\n",
              "<style>\n",
              "    /* Turns off some styling */\n",
              "    progress {\n",
              "        /* gets rid of default border in Firefox and Opera. */\n",
              "        border: none;\n",
              "        /* Needs to be in here for Safari polyfill so background images work as expected. */\n",
              "        background-size: auto;\n",
              "    }\n",
              "    .progress-bar-interrupted, .progress-bar-interrupted::-webkit-progress-bar {\n",
              "        background: #F44336;\n",
              "    }\n",
              "</style>\n"
            ]
          },
          "metadata": {}
        },
        {
          "output_type": "display_data",
          "data": {
            "text/plain": [
              "<IPython.core.display.HTML object>"
            ],
            "text/html": [
              "<table border=\"1\" class=\"dataframe\">\n",
              "  <thead>\n",
              "    <tr style=\"text-align: left;\">\n",
              "      <th>epoch</th>\n",
              "      <th>train_loss</th>\n",
              "      <th>valid_loss</th>\n",
              "      <th>error_rate</th>\n",
              "      <th>accuracy</th>\n",
              "      <th>perplexity</th>\n",
              "      <th>time</th>\n",
              "    </tr>\n",
              "  </thead>\n",
              "  <tbody>\n",
              "    <tr>\n",
              "      <td>0</td>\n",
              "      <td>0.737139</td>\n",
              "      <td>0.646398</td>\n",
              "      <td>0.422330</td>\n",
              "      <td>0.577670</td>\n",
              "      <td>1.908653</td>\n",
              "      <td>00:05</td>\n",
              "    </tr>\n",
              "  </tbody>\n",
              "</table>"
            ]
          },
          "metadata": {}
        },
        {
          "output_type": "stream",
          "name": "stdout",
          "text": [
            "Better model found at epoch 0 with valid_loss value: 0.6463977098464966.\n"
          ]
        },
        {
          "output_type": "display_data",
          "data": {
            "text/plain": [
              "<IPython.core.display.HTML object>"
            ],
            "text/html": [
              "\n",
              "<style>\n",
              "    /* Turns off some styling */\n",
              "    progress {\n",
              "        /* gets rid of default border in Firefox and Opera. */\n",
              "        border: none;\n",
              "        /* Needs to be in here for Safari polyfill so background images work as expected. */\n",
              "        background-size: auto;\n",
              "    }\n",
              "    .progress-bar-interrupted, .progress-bar-interrupted::-webkit-progress-bar {\n",
              "        background: #F44336;\n",
              "    }\n",
              "</style>\n"
            ]
          },
          "metadata": {}
        },
        {
          "output_type": "display_data",
          "data": {
            "text/plain": [
              "<IPython.core.display.HTML object>"
            ],
            "text/html": [
              "<table border=\"1\" class=\"dataframe\">\n",
              "  <thead>\n",
              "    <tr style=\"text-align: left;\">\n",
              "      <th>epoch</th>\n",
              "      <th>train_loss</th>\n",
              "      <th>valid_loss</th>\n",
              "      <th>error_rate</th>\n",
              "      <th>accuracy</th>\n",
              "      <th>perplexity</th>\n",
              "      <th>time</th>\n",
              "    </tr>\n",
              "  </thead>\n",
              "  <tbody>\n",
              "    <tr>\n",
              "      <td>0</td>\n",
              "      <td>0.582679</td>\n",
              "      <td>0.607265</td>\n",
              "      <td>0.349515</td>\n",
              "      <td>0.650485</td>\n",
              "      <td>1.835405</td>\n",
              "      <td>00:07</td>\n",
              "    </tr>\n",
              "    <tr>\n",
              "      <td>1</td>\n",
              "      <td>0.540978</td>\n",
              "      <td>0.588748</td>\n",
              "      <td>0.320388</td>\n",
              "      <td>0.679612</td>\n",
              "      <td>1.801731</td>\n",
              "      <td>00:07</td>\n",
              "    </tr>\n",
              "    <tr>\n",
              "      <td>2</td>\n",
              "      <td>0.528869</td>\n",
              "      <td>0.471085</td>\n",
              "      <td>0.237864</td>\n",
              "      <td>0.762136</td>\n",
              "      <td>1.601732</td>\n",
              "      <td>00:07</td>\n",
              "    </tr>\n",
              "    <tr>\n",
              "      <td>3</td>\n",
              "      <td>0.505739</td>\n",
              "      <td>0.654840</td>\n",
              "      <td>0.315534</td>\n",
              "      <td>0.684466</td>\n",
              "      <td>1.924834</td>\n",
              "      <td>00:07</td>\n",
              "    </tr>\n",
              "    <tr>\n",
              "      <td>4</td>\n",
              "      <td>0.481409</td>\n",
              "      <td>0.398017</td>\n",
              "      <td>0.208738</td>\n",
              "      <td>0.791262</td>\n",
              "      <td>1.488870</td>\n",
              "      <td>00:07</td>\n",
              "    </tr>\n",
              "    <tr>\n",
              "      <td>5</td>\n",
              "      <td>0.459095</td>\n",
              "      <td>0.274139</td>\n",
              "      <td>0.092233</td>\n",
              "      <td>0.907767</td>\n",
              "      <td>1.315398</td>\n",
              "      <td>00:07</td>\n",
              "    </tr>\n",
              "    <tr>\n",
              "      <td>6</td>\n",
              "      <td>0.431535</td>\n",
              "      <td>0.289764</td>\n",
              "      <td>0.135922</td>\n",
              "      <td>0.864078</td>\n",
              "      <td>1.336111</td>\n",
              "      <td>00:07</td>\n",
              "    </tr>\n",
              "    <tr>\n",
              "      <td>7</td>\n",
              "      <td>0.410815</td>\n",
              "      <td>0.513932</td>\n",
              "      <td>0.208738</td>\n",
              "      <td>0.791262</td>\n",
              "      <td>1.671853</td>\n",
              "      <td>00:07</td>\n",
              "    </tr>\n",
              "    <tr>\n",
              "      <td>8</td>\n",
              "      <td>0.390085</td>\n",
              "      <td>0.248873</td>\n",
              "      <td>0.097087</td>\n",
              "      <td>0.902913</td>\n",
              "      <td>1.282579</td>\n",
              "      <td>00:07</td>\n",
              "    </tr>\n",
              "    <tr>\n",
              "      <td>9</td>\n",
              "      <td>0.369247</td>\n",
              "      <td>0.288523</td>\n",
              "      <td>0.106796</td>\n",
              "      <td>0.893204</td>\n",
              "      <td>1.334455</td>\n",
              "      <td>00:07</td>\n",
              "    </tr>\n",
              "    <tr>\n",
              "      <td>10</td>\n",
              "      <td>0.349593</td>\n",
              "      <td>0.246412</td>\n",
              "      <td>0.077670</td>\n",
              "      <td>0.922330</td>\n",
              "      <td>1.279427</td>\n",
              "      <td>00:08</td>\n",
              "    </tr>\n",
              "    <tr>\n",
              "      <td>11</td>\n",
              "      <td>0.328341</td>\n",
              "      <td>0.238792</td>\n",
              "      <td>0.087379</td>\n",
              "      <td>0.912621</td>\n",
              "      <td>1.269715</td>\n",
              "      <td>00:08</td>\n",
              "    </tr>\n",
              "    <tr>\n",
              "      <td>12</td>\n",
              "      <td>0.308293</td>\n",
              "      <td>0.237257</td>\n",
              "      <td>0.082524</td>\n",
              "      <td>0.917476</td>\n",
              "      <td>1.267767</td>\n",
              "      <td>00:08</td>\n",
              "    </tr>\n",
              "    <tr>\n",
              "      <td>13</td>\n",
              "      <td>0.289644</td>\n",
              "      <td>0.237151</td>\n",
              "      <td>0.087379</td>\n",
              "      <td>0.912621</td>\n",
              "      <td>1.267632</td>\n",
              "      <td>00:08</td>\n",
              "    </tr>\n",
              "    <tr>\n",
              "      <td>14</td>\n",
              "      <td>0.277425</td>\n",
              "      <td>0.242712</td>\n",
              "      <td>0.087379</td>\n",
              "      <td>0.912621</td>\n",
              "      <td>1.274701</td>\n",
              "      <td>00:08</td>\n",
              "    </tr>\n",
              "  </tbody>\n",
              "</table>"
            ]
          },
          "metadata": {}
        },
        {
          "output_type": "stream",
          "name": "stdout",
          "text": [
            "Better model found at epoch 0 with valid_loss value: 0.607265293598175.\n",
            "Better model found at epoch 1 with valid_loss value: 0.5887478590011597.\n",
            "Better model found at epoch 2 with valid_loss value: 0.4710853397846222.\n",
            "Better model found at epoch 4 with valid_loss value: 0.3980172574520111.\n",
            "Better model found at epoch 5 with valid_loss value: 0.27413904666900635.\n",
            "Better model found at epoch 8 with valid_loss value: 0.24887283146381378.\n",
            "Better model found at epoch 10 with valid_loss value: 0.24641203880310059.\n",
            "Better model found at epoch 11 with valid_loss value: 0.23879216611385345.\n",
            "Better model found at epoch 12 with valid_loss value: 0.23725706338882446.\n",
            "Better model found at epoch 13 with valid_loss value: 0.23715057969093323.\n"
          ]
        }
      ]
    },
    {
      "cell_type": "code",
      "source": [
        "#learn.fine_tune(10, 1e-2, cbs=cbs)"
      ],
      "metadata": {
        "id": "itohN-CRZwxo"
      },
      "execution_count": 19,
      "outputs": []
    },
    {
      "cell_type": "code",
      "metadata": {
        "colab": {
          "base_uri": "https://localhost:8080/",
          "height": 731
        },
        "id": "aMYLf9Th5KrZ",
        "outputId": "9473c71f-a64b-4968-9e64-68b0df15181e"
      },
      "source": [
        "learn.show_results()"
      ],
      "execution_count": 20,
      "outputs": [
        {
          "output_type": "display_data",
          "data": {
            "text/plain": [
              "<IPython.core.display.HTML object>"
            ],
            "text/html": [
              "\n",
              "<style>\n",
              "    /* Turns off some styling */\n",
              "    progress {\n",
              "        /* gets rid of default border in Firefox and Opera. */\n",
              "        border: none;\n",
              "        /* Needs to be in here for Safari polyfill so background images work as expected. */\n",
              "        background-size: auto;\n",
              "    }\n",
              "    .progress-bar-interrupted, .progress-bar-interrupted::-webkit-progress-bar {\n",
              "        background: #F44336;\n",
              "    }\n",
              "</style>\n"
            ]
          },
          "metadata": {}
        },
        {
          "output_type": "display_data",
          "data": {
            "text/plain": [
              "<IPython.core.display.HTML object>"
            ],
            "text/html": [
              ""
            ]
          },
          "metadata": {}
        },
        {
          "output_type": "display_data",
          "data": {
            "text/plain": [
              "<IPython.core.display.HTML object>"
            ],
            "text/html": [
              "<table border=\"1\" class=\"dataframe\">\n",
              "  <thead>\n",
              "    <tr style=\"text-align: right;\">\n",
              "      <th></th>\n",
              "      <th>text</th>\n",
              "      <th>category</th>\n",
              "      <th>category_</th>\n",
              "    </tr>\n",
              "  </thead>\n",
              "  <tbody>\n",
              "    <tr>\n",
              "      <th>0</th>\n",
              "      <td>xxbos xxfld 1 [ ' \\n ' , ' xxq00_00 xxbob xxbcet 2202 \\n ' , ' xxecet \\n ' , ' xxeob xxq00_00 \\n ' , ' \\n ' , ' xxq00_00 xxbob \\n ' , ' xxeob xxq00_01 \\n ' , ' \\n ' , ' xxq00_00 xxbob ¢ \\n ' , ' xxeob xxq00_00 \\n ' , ' \\n ' , ' xxq00_00 xxbob { b ) xxmaj whether each applicant has \\n ' , ' xxunk leaders of that group . \\n ' , ' 2 xxmaj to determine with respect to the \\n ' , ' » efforts of xxup po to ascertain the needs of \\n ' , ' its proposed service area : \\n ' , ' ( a ) xxmaj whether the xxunk ! xxunk \\n ' , ' leaders of agriculture and ! xxunk in \\n ' , ' xxunk ,</td>\n",
              "      <td>NextPage</td>\n",
              "      <td>FirstPage</td>\n",
              "    </tr>\n",
              "    <tr>\n",
              "      <th>1</th>\n",
              "      <td>xxbos xxfld 1 [ ' \\n ' , ' xxq00_00 xxbob “ wlrk rightfax xxmaj server 5 / 28 / 99 \\n ' , ' xxeob xxq00_01 \\n ' , ' \\n ' , ' xxq00_01 xxbob 5:12 : xxup page xxunk / 6 \\n ' , ' xxeob xxq00_02 \\n ' , ' \\n ' , ' xxq00_00 xxbob -1 : xxunk xxmaj wilson company : lorillard xxmaj tobacco xxmaj company \\n ' , ' xxeob xxq00_02 \\n ' , ' \\n ' , ' xxq00_00 xxbob xxup martin xxup xxunk \\n ' , ' xxunk 4 . xxup xxunk \\n ' , ' theodore xxup gewertz \\n ' , ' xxunk xxup w. xxup nussbaum \\n ' , ' xxunk xxup d. xxup katcher \\n ' , ' douglas 5 . xxup xxunk \\n ' , ' steven xxup m , xxup barna \\n ' , ' chaim</td>\n",
              "      <td>FirstPage</td>\n",
              "      <td>FirstPage</td>\n",
              "    </tr>\n",
              "    <tr>\n",
              "      <th>2</th>\n",
              "      <td>xxbos xxfld 1 [ ' \\n ' , ' xxq00_00 xxbob xxbcet xxup g2 - xxunk \\n ' , ' xxecet \\n ' , ' xxeob xxq00_00 \\n ' , ' \\n ' , ' xxq00_00 xxbob \\n ' , ' xxeob xxq00_00 \\n ' , ' \\n ' , ' xxq00_00 xxbob . \\n ' , ' xxeob xxq00_00 \\n ' , ' \\n ' , ' xxq01_00 xxbob xxup martin xxup xxunk \\n ' , ' xxunk xxup m. xxup wachtell \\n ' , ' xxunk xxup xxunk \\n ' , ' xxbcet xxup xxunk xxmaj ww . xxup xxunk \\n ' , ' xxecet \\n ' , ' richard xxup d , xxup xxunk \\n ' , ' xxunk 6 xxup xxunk \\n ' , ' xxunk xxup xxunk , xxup barna \\n ' , ' xxunk xxup j , xxup xxunk \\n ' , ' peter</td>\n",
              "      <td>FirstPage</td>\n",
              "      <td>FirstPage</td>\n",
              "    </tr>\n",
              "    <tr>\n",
              "      <th>3</th>\n",
              "      <td>xxbos xxfld 1 [ ' \\n ' , ' xxq00_00 xxbob ee . \\n ' , ' xxeob xxq00_00 \\n ' , ' \\n ' , ' xxq00_00 xxbob xxmaj xxunk \\n ' , ' xxbcet xxup xxunk \\n ' , ' xxecet \\n ' , ' xxbcet xxup herbert xxup m. xxup wachtell \\n ' , ' xxecet \\n ' , ' xxbcet xxup theodore xxup gewertz \\n ' , ' xxecet \\n ' , ' xxbcet xxup bernard xxup w. xxup nussbaum \\n ' , ' xxecet \\n ' , ' xxbcet xxup richard © . xxup katcher \\n ' , ' xxecet \\n ' , ' douglas 5 . xxup liebhafsky \\n ' , ' steven xxup m. xxup barna \\n ' , ' xxbcet xxup chaim xxup j. xxup fortgang \\n ' , ' xxecet \\n ' , ' xxbcet xxup peter xxup c. xxup canellos</td>\n",
              "      <td>FirstPage</td>\n",
              "      <td>FirstPage</td>\n",
              "    </tr>\n",
              "    <tr>\n",
              "      <th>4</th>\n",
              "      <td>xxbos xxfld 1 [ ' \\n ' , ' xxq00_00 xxbob xxup xxunk \\n ' , ' xxeob xxq00_00 \\n ' , ' \\n ' , ' xxq00_00 xxbob xxup wlrk rightfax xxmaj server xxunk / 00 xxunk : xxup page xxunk / 68 xxunk \\n ' , ' e @ \\n ' , ' company : \\n ' , ' _ \\n ' , ' xxeob xxq00_02 \\n ' , ' \\n ' , ' xxq00_01 xxbob xxup wachtell , xxup lipton , xxup rosen &amp; xxup katz \\n ' , ' xxeob xxq00_02 \\n ' , ' \\n ' , ' xxq00_00 xxbob xxup martin xxup lipton xxup barbara xxup xxunk xxup xxunk xxup ehrenkranz \\n ' , ' herbert xxup m , xxup wachtell xxup steven a xxup xxunk xxup xxunk xxup s2nd xxup street xxup highael xxup w , xxup xxunk \\n ' , ' xxunk</td>\n",
              "      <td>FirstPage</td>\n",
              "      <td>FirstPage</td>\n",
              "    </tr>\n",
              "    <tr>\n",
              "      <th>5</th>\n",
              "      <td>xxbos xxfld 1 [ ' \\n ' , ' xxq03_00 xxbob \\n ' , ' xxeob xxq03_00 \\n ' , ' \\n ' , ' xxq03_00 xxbob \\n ' , ' xxeob xxq04_00 \\n ' , ' \\n ' , ' xxq04_00 xxbob \\n ' , ' xxeob xxq04_00 \\n ' , ' \\n ' , ' xxq03_00 xxbob \\n ' , ' xxeob xxq03_01 \\n ' , ' \\n ' , ' xxq05_00 xxbob \\n ' , ' xxeob xxq05_01 \\n ' , ' \\n ' , ' xxq00_00 xxbob \\n ' , ' xxeob xxq01_03 \\n ' , ' \\n ' , ' xxq01_01 xxbob \\n ' , ' \\n ' , ' xxeob xxq01_03 \\n ' , ' \\n ' , ' xxq01_01 xxbob xxmaj the \\n ' , ' public | \\n ' , ' sector \\n ' , ' 22 xxup battery xxup st -</td>\n",
              "      <td>FirstPage</td>\n",
              "      <td>FirstPage</td>\n",
              "    </tr>\n",
              "    <tr>\n",
              "      <th>6</th>\n",
              "      <td>xxbos xxfld 1 [ ' \\n ' , ' xxq00_03 xxbob xxunk \\n ' , ' xxunk \\n ' , ' xxeob xxq00_03 \\n ' , ' \\n ' , ' xxq02_00 xxbob \\n ' , ' xxeob xxq03_00 \\n ' , ' \\n ' , ' xxq02_00 xxbob \\n ' , ' xxeob xxq02_00 \\n ' , ' \\n ' , ' xxq01_02 xxbob xxup xxunk xxup xxunk xxmaj xxunk xxmaj xxunk \\n ' , ' “ wd “ te “ td “ 12 , \\n ' , ' xxeob xxq02_02 \\n ' , ' \\n ' , ' xxq01_02 xxbob xxup xxunk \\n ' , ' “ x \\n ' , ' xxeob xxq02_02 \\n ' , ' \\n ' , ' xxq03_00 xxbob \\n ' , ' xxeob xxq03_00 \\n ' , ' \\n ' , ' xxq01_02 xxbob xxunk xxunk \\n ' , ' ‘ at</td>\n",
              "      <td>NextPage</td>\n",
              "      <td>NextPage</td>\n",
              "    </tr>\n",
              "    <tr>\n",
              "      <th>7</th>\n",
              "      <td>xxbos xxfld 1 [ ' \\n ' , ' xxq05_03 xxbob \\n ' , ' xxeob xxq05_03 \\n ' , ' \\n ' , ' xxq05_02 xxbob \\n ' , ' xxeob xxq05_02 \\n ' , ' \\n ' , ' xxq05_02 xxbob \\n ' , ' xxeob xxq05_02 \\n ' , ' \\n ' , ' xxq05_02 xxbob \\n ' , ' xxeob xxq05_02 \\n ' , ' \\n ' , ' xxq00_01 xxbob ti xxunk pit bit xxunk it bt xxmaj be \\n ' , ' a be po : \\n ' , ' . \\n ' , ' pee xxunk xxmaj ho he , xxunk xxup xxunk xxmaj uae \\n ' , ' : \\n ' , ' a iat et xxup ete xxup pee 4 2 = xxmaj se 8 , \\n ' , ' xxbcet ! | \\n ' , ' xxecet \\n ' ,</td>\n",
              "      <td>NextPage</td>\n",
              "      <td>NextPage</td>\n",
              "    </tr>\n",
              "    <tr>\n",
              "      <th>8</th>\n",
              "      <td>xxbos xxfld 1 [ ' \\n ' , ' xxq02_02 xxbob xxup closed xxup the \\n ' , ' year - to- xxup as xxup of xxup capital xxup american \\n ' , ' september xxup projects xxup tobacco \\n ' , ' date \\n ' , ' 30 , xxup company \\n ' , ' xxbcet xxunk xxup report \\n ' , ' xxecet \\n ' , ' xxeob xxq03_02 \\n ' , ' \\n ' , ' xxq03_00 xxbob \\n ' , ' xxeob xxq03_00 \\n ' , ' \\n ' , ' xxq02_02 xxbob xxup capital \\n ' , ' : \\n ' , ' vy \\n ' , ' expenses \\n ' , ' xxunk \\n ' , ' 0 \\n ' , ' ou \\n ' , ' : \\n ' , ' xxeob xxq04_02 \\n ' , ' \\n ' , ' xxq03_00 xxbob</td>\n",
              "      <td>NextPage</td>\n",
              "      <td>NextPage</td>\n",
              "    </tr>\n",
              "  </tbody>\n",
              "</table>"
            ]
          },
          "metadata": {}
        }
      ]
    },
    {
      "cell_type": "code",
      "metadata": {
        "colab": {
          "base_uri": "https://localhost:8080/"
        },
        "id": "lETegor95Qh7",
        "outputId": "80f986f4-3bf0-4aac-b711-18733321e26d"
      },
      "source": [
        "learn.save('model_'+ now)"
      ],
      "execution_count": 21,
      "outputs": [
        {
          "output_type": "execute_result",
          "data": {
            "text/plain": [
              "Path('/content/drive/MyDrive/Colab Notebooks/Datasets/Tobacco_LSTM/layout/checkpoints/models/model_2022-03-30-16:26:07.pth')"
            ]
          },
          "metadata": {},
          "execution_count": 21
        }
      ]
    },
    {
      "cell_type": "code",
      "metadata": {
        "id": "_wLLPwel5XeP"
      },
      "source": [
        "# load model\n",
        "learn = learn.load('model_'+ now)"
      ],
      "execution_count": 22,
      "outputs": []
    },
    {
      "cell_type": "code",
      "metadata": {
        "colab": {
          "base_uri": "https://localhost:8080/",
          "height": 241
        },
        "id": "jSHpFTl95hV9",
        "outputId": "b105746a-c0c9-4c84-bcd9-cb2361ccc0a7"
      },
      "source": [
        "learn.unfreeze()\n",
        "learn.fit_one_cycle(5, 1e-2, cbs=cbs)"
      ],
      "execution_count": 23,
      "outputs": [
        {
          "output_type": "display_data",
          "data": {
            "text/plain": [
              "<IPython.core.display.HTML object>"
            ],
            "text/html": [
              "\n",
              "<style>\n",
              "    /* Turns off some styling */\n",
              "    progress {\n",
              "        /* gets rid of default border in Firefox and Opera. */\n",
              "        border: none;\n",
              "        /* Needs to be in here for Safari polyfill so background images work as expected. */\n",
              "        background-size: auto;\n",
              "    }\n",
              "    .progress-bar-interrupted, .progress-bar-interrupted::-webkit-progress-bar {\n",
              "        background: #F44336;\n",
              "    }\n",
              "</style>\n"
            ]
          },
          "metadata": {}
        },
        {
          "output_type": "display_data",
          "data": {
            "text/plain": [
              "<IPython.core.display.HTML object>"
            ],
            "text/html": [
              "<table border=\"1\" class=\"dataframe\">\n",
              "  <thead>\n",
              "    <tr style=\"text-align: left;\">\n",
              "      <th>epoch</th>\n",
              "      <th>train_loss</th>\n",
              "      <th>valid_loss</th>\n",
              "      <th>error_rate</th>\n",
              "      <th>accuracy</th>\n",
              "      <th>perplexity</th>\n",
              "      <th>time</th>\n",
              "    </tr>\n",
              "  </thead>\n",
              "  <tbody>\n",
              "    <tr>\n",
              "      <td>0</td>\n",
              "      <td>0.239535</td>\n",
              "      <td>2.273775</td>\n",
              "      <td>0.567961</td>\n",
              "      <td>0.432039</td>\n",
              "      <td>9.716006</td>\n",
              "      <td>00:08</td>\n",
              "    </tr>\n",
              "    <tr>\n",
              "      <td>1</td>\n",
              "      <td>0.244722</td>\n",
              "      <td>0.009827</td>\n",
              "      <td>0.004854</td>\n",
              "      <td>0.995146</td>\n",
              "      <td>1.009875</td>\n",
              "      <td>00:08</td>\n",
              "    </tr>\n",
              "    <tr>\n",
              "      <td>2</td>\n",
              "      <td>0.197675</td>\n",
              "      <td>0.023180</td>\n",
              "      <td>0.009709</td>\n",
              "      <td>0.990291</td>\n",
              "      <td>1.023451</td>\n",
              "      <td>00:07</td>\n",
              "    </tr>\n",
              "    <tr>\n",
              "      <td>3</td>\n",
              "      <td>0.173705</td>\n",
              "      <td>0.011108</td>\n",
              "      <td>0.000000</td>\n",
              "      <td>1.000000</td>\n",
              "      <td>1.011170</td>\n",
              "      <td>00:07</td>\n",
              "    </tr>\n",
              "    <tr>\n",
              "      <td>4</td>\n",
              "      <td>0.148465</td>\n",
              "      <td>0.013698</td>\n",
              "      <td>0.000000</td>\n",
              "      <td>1.000000</td>\n",
              "      <td>1.013792</td>\n",
              "      <td>00:07</td>\n",
              "    </tr>\n",
              "  </tbody>\n",
              "</table>"
            ]
          },
          "metadata": {}
        },
        {
          "output_type": "stream",
          "name": "stdout",
          "text": [
            "Better model found at epoch 0 with valid_loss value: 2.2737746238708496.\n",
            "Better model found at epoch 1 with valid_loss value: 0.00982666201889515.\n"
          ]
        }
      ]
    },
    {
      "cell_type": "code",
      "metadata": {
        "colab": {
          "base_uri": "https://localhost:8080/",
          "height": 306
        },
        "id": "vZXPgheW5noB",
        "outputId": "46d4a5cb-f87f-4a55-b45b-6577a58a8f36"
      },
      "source": [
        "learn.unfreeze()\n",
        "learn.lr_find()"
      ],
      "execution_count": 24,
      "outputs": [
        {
          "output_type": "display_data",
          "data": {
            "text/plain": [
              "<IPython.core.display.HTML object>"
            ],
            "text/html": [
              "\n",
              "<style>\n",
              "    /* Turns off some styling */\n",
              "    progress {\n",
              "        /* gets rid of default border in Firefox and Opera. */\n",
              "        border: none;\n",
              "        /* Needs to be in here for Safari polyfill so background images work as expected. */\n",
              "        background-size: auto;\n",
              "    }\n",
              "    .progress-bar-interrupted, .progress-bar-interrupted::-webkit-progress-bar {\n",
              "        background: #F44336;\n",
              "    }\n",
              "</style>\n"
            ]
          },
          "metadata": {}
        },
        {
          "output_type": "display_data",
          "data": {
            "text/plain": [
              "<IPython.core.display.HTML object>"
            ],
            "text/html": [
              ""
            ]
          },
          "metadata": {}
        },
        {
          "output_type": "execute_result",
          "data": {
            "text/plain": [
              "SuggestedLRs(valley=0.0008317637839354575)"
            ]
          },
          "metadata": {},
          "execution_count": 24
        },
        {
          "output_type": "display_data",
          "data": {
            "text/plain": [
              "<Figure size 432x288 with 1 Axes>"
            ],
            "image/png": "[encoded data removed]"
          },
          "metadata": {
            "needs_background": "light"
          }
        }
      ]
    },
    {
      "cell_type": "code",
      "metadata": {
        "id": "U2C_Jnpa51Av"
      },
      "source": [
        "learn_lm = text_classifier_learner(dloader_train, AWD_LSTM, drop_mult=0.5,path='/content/drive/MyDrive/Colab Notebooks/Datasets/Tobacco_LSTM/layout/checkpoints', \n",
        "                                metrics=[error_rate, accuracy, Perplexity()]).to_fp16()"
      ],
      "execution_count": 25,
      "outputs": []
    },
    {
      "cell_type": "code",
      "metadata": {
        "colab": {
          "base_uri": "https://localhost:8080/",
          "height": 722
        },
        "id": "l6sV3HY859r-",
        "outputId": "15a7a906-5e30-4f3c-9ecb-28aad6236671"
      },
      "source": [
        "learn_lm.fine_tune(15, 1e-2, cbs=cbs)"
      ],
      "execution_count": 26,
      "outputs": [
        {
          "output_type": "display_data",
          "data": {
            "text/plain": [
              "<IPython.core.display.HTML object>"
            ],
            "text/html": [
              "\n",
              "<style>\n",
              "    /* Turns off some styling */\n",
              "    progress {\n",
              "        /* gets rid of default border in Firefox and Opera. */\n",
              "        border: none;\n",
              "        /* Needs to be in here for Safari polyfill so background images work as expected. */\n",
              "        background-size: auto;\n",
              "    }\n",
              "    .progress-bar-interrupted, .progress-bar-interrupted::-webkit-progress-bar {\n",
              "        background: #F44336;\n",
              "    }\n",
              "</style>\n"
            ]
          },
          "metadata": {}
        },
        {
          "output_type": "display_data",
          "data": {
            "text/plain": [
              "<IPython.core.display.HTML object>"
            ],
            "text/html": [
              "<table border=\"1\" class=\"dataframe\">\n",
              "  <thead>\n",
              "    <tr style=\"text-align: left;\">\n",
              "      <th>epoch</th>\n",
              "      <th>train_loss</th>\n",
              "      <th>valid_loss</th>\n",
              "      <th>error_rate</th>\n",
              "      <th>accuracy</th>\n",
              "      <th>perplexity</th>\n",
              "      <th>time</th>\n",
              "    </tr>\n",
              "  </thead>\n",
              "  <tbody>\n",
              "    <tr>\n",
              "      <td>0</td>\n",
              "      <td>0.695231</td>\n",
              "      <td>0.689367</td>\n",
              "      <td>0.422330</td>\n",
              "      <td>0.577670</td>\n",
              "      <td>1.992455</td>\n",
              "      <td>00:04</td>\n",
              "    </tr>\n",
              "  </tbody>\n",
              "</table>"
            ]
          },
          "metadata": {}
        },
        {
          "output_type": "stream",
          "name": "stdout",
          "text": [
            "Better model found at epoch 0 with valid_loss value: 0.689367413520813.\n"
          ]
        },
        {
          "output_type": "display_data",
          "data": {
            "text/plain": [
              "<IPython.core.display.HTML object>"
            ],
            "text/html": [
              "\n",
              "<style>\n",
              "    /* Turns off some styling */\n",
              "    progress {\n",
              "        /* gets rid of default border in Firefox and Opera. */\n",
              "        border: none;\n",
              "        /* Needs to be in here for Safari polyfill so background images work as expected. */\n",
              "        background-size: auto;\n",
              "    }\n",
              "    .progress-bar-interrupted, .progress-bar-interrupted::-webkit-progress-bar {\n",
              "        background: #F44336;\n",
              "    }\n",
              "</style>\n"
            ]
          },
          "metadata": {}
        },
        {
          "output_type": "display_data",
          "data": {
            "text/plain": [
              "<IPython.core.display.HTML object>"
            ],
            "text/html": [
              "<table border=\"1\" class=\"dataframe\">\n",
              "  <thead>\n",
              "    <tr style=\"text-align: left;\">\n",
              "      <th>epoch</th>\n",
              "      <th>train_loss</th>\n",
              "      <th>valid_loss</th>\n",
              "      <th>error_rate</th>\n",
              "      <th>accuracy</th>\n",
              "      <th>perplexity</th>\n",
              "      <th>time</th>\n",
              "    </tr>\n",
              "  </thead>\n",
              "  <tbody>\n",
              "    <tr>\n",
              "      <td>0</td>\n",
              "      <td>0.559389</td>\n",
              "      <td>0.654076</td>\n",
              "      <td>0.407767</td>\n",
              "      <td>0.592233</td>\n",
              "      <td>1.923365</td>\n",
              "      <td>00:08</td>\n",
              "    </tr>\n",
              "    <tr>\n",
              "      <td>1</td>\n",
              "      <td>0.533941</td>\n",
              "      <td>0.587418</td>\n",
              "      <td>0.354369</td>\n",
              "      <td>0.645631</td>\n",
              "      <td>1.799337</td>\n",
              "      <td>00:08</td>\n",
              "    </tr>\n",
              "    <tr>\n",
              "      <td>2</td>\n",
              "      <td>0.509006</td>\n",
              "      <td>0.557209</td>\n",
              "      <td>0.310680</td>\n",
              "      <td>0.689320</td>\n",
              "      <td>1.745793</td>\n",
              "      <td>00:08</td>\n",
              "    </tr>\n",
              "    <tr>\n",
              "      <td>3</td>\n",
              "      <td>0.488658</td>\n",
              "      <td>0.445999</td>\n",
              "      <td>0.252427</td>\n",
              "      <td>0.747573</td>\n",
              "      <td>1.562050</td>\n",
              "      <td>00:08</td>\n",
              "    </tr>\n",
              "    <tr>\n",
              "      <td>4</td>\n",
              "      <td>0.467355</td>\n",
              "      <td>0.481962</td>\n",
              "      <td>0.252427</td>\n",
              "      <td>0.747573</td>\n",
              "      <td>1.619249</td>\n",
              "      <td>00:08</td>\n",
              "    </tr>\n",
              "    <tr>\n",
              "      <td>5</td>\n",
              "      <td>0.447716</td>\n",
              "      <td>0.294696</td>\n",
              "      <td>0.135922</td>\n",
              "      <td>0.864078</td>\n",
              "      <td>1.342718</td>\n",
              "      <td>00:08</td>\n",
              "    </tr>\n",
              "    <tr>\n",
              "      <td>6</td>\n",
              "      <td>0.422562</td>\n",
              "      <td>0.285504</td>\n",
              "      <td>0.135922</td>\n",
              "      <td>0.864078</td>\n",
              "      <td>1.330432</td>\n",
              "      <td>00:08</td>\n",
              "    </tr>\n",
              "    <tr>\n",
              "      <td>7</td>\n",
              "      <td>0.397322</td>\n",
              "      <td>0.226038</td>\n",
              "      <td>0.072816</td>\n",
              "      <td>0.927184</td>\n",
              "      <td>1.253623</td>\n",
              "      <td>00:08</td>\n",
              "    </tr>\n",
              "    <tr>\n",
              "      <td>8</td>\n",
              "      <td>0.375047</td>\n",
              "      <td>0.241012</td>\n",
              "      <td>0.101942</td>\n",
              "      <td>0.898058</td>\n",
              "      <td>1.272536</td>\n",
              "      <td>00:08</td>\n",
              "    </tr>\n",
              "    <tr>\n",
              "      <td>9</td>\n",
              "      <td>0.352882</td>\n",
              "      <td>0.340927</td>\n",
              "      <td>0.150485</td>\n",
              "      <td>0.849515</td>\n",
              "      <td>1.406250</td>\n",
              "      <td>00:08</td>\n",
              "    </tr>\n",
              "    <tr>\n",
              "      <td>10</td>\n",
              "      <td>0.332913</td>\n",
              "      <td>0.278737</td>\n",
              "      <td>0.121359</td>\n",
              "      <td>0.878641</td>\n",
              "      <td>1.321460</td>\n",
              "      <td>00:08</td>\n",
              "    </tr>\n",
              "    <tr>\n",
              "      <td>11</td>\n",
              "      <td>0.310720</td>\n",
              "      <td>0.259420</td>\n",
              "      <td>0.111650</td>\n",
              "      <td>0.888350</td>\n",
              "      <td>1.296178</td>\n",
              "      <td>00:08</td>\n",
              "    </tr>\n",
              "    <tr>\n",
              "      <td>12</td>\n",
              "      <td>0.291216</td>\n",
              "      <td>0.272814</td>\n",
              "      <td>0.111650</td>\n",
              "      <td>0.888350</td>\n",
              "      <td>1.313655</td>\n",
              "      <td>00:08</td>\n",
              "    </tr>\n",
              "    <tr>\n",
              "      <td>13</td>\n",
              "      <td>0.273578</td>\n",
              "      <td>0.266366</td>\n",
              "      <td>0.111650</td>\n",
              "      <td>0.888350</td>\n",
              "      <td>1.305213</td>\n",
              "      <td>00:08</td>\n",
              "    </tr>\n",
              "    <tr>\n",
              "      <td>14</td>\n",
              "      <td>0.257872</td>\n",
              "      <td>0.257947</td>\n",
              "      <td>0.097087</td>\n",
              "      <td>0.902913</td>\n",
              "      <td>1.294270</td>\n",
              "      <td>00:08</td>\n",
              "    </tr>\n",
              "  </tbody>\n",
              "</table>"
            ]
          },
          "metadata": {}
        },
        {
          "output_type": "stream",
          "name": "stdout",
          "text": [
            "Better model found at epoch 0 with valid_loss value: 0.6540761590003967.\n",
            "Better model found at epoch 1 with valid_loss value: 0.5874180793762207.\n",
            "Better model found at epoch 2 with valid_loss value: 0.5572085976600647.\n",
            "Better model found at epoch 3 with valid_loss value: 0.44599878787994385.\n",
            "Better model found at epoch 5 with valid_loss value: 0.29469558596611023.\n",
            "Better model found at epoch 6 with valid_loss value: 0.2855040431022644.\n",
            "Better model found at epoch 7 with valid_loss value: 0.22603774070739746.\n"
          ]
        }
      ]
    },
    {
      "cell_type": "markdown",
      "metadata": {
        "id": "tBfu7Kcg-tsS"
      },
      "source": [
        "## Validation"
      ]
    },
    {
      "cell_type": "code",
      "metadata": {
        "id": "waKIAp-xE3c7",
        "colab": {
          "base_uri": "https://localhost:8080/",
          "height": 17
        },
        "outputId": "01a0591b-53d8-4eeb-fef0-13b9b197ff3f"
      },
      "source": [
        "# create dataloader of test\n",
        "dblock_test_tags = DataBlock(\n",
        "    blocks=(TextBlock.from_df('text_tags', seq_len=72), CategoryBlock),\n",
        "            get_x=get_features, \n",
        "            get_y=get_labels)\n",
        "\n",
        "dloader_test = dblock_test_tags.dataloaders(df_test, bs=64)"
      ],
      "execution_count": 27,
      "outputs": [
        {
          "output_type": "display_data",
          "data": {
            "text/plain": [
              "<IPython.core.display.HTML object>"
            ],
            "text/html": [
              "\n",
              "<style>\n",
              "    /* Turns off some styling */\n",
              "    progress {\n",
              "        /* gets rid of default border in Firefox and Opera. */\n",
              "        border: none;\n",
              "        /* Needs to be in here for Safari polyfill so background images work as expected. */\n",
              "        background-size: auto;\n",
              "    }\n",
              "    .progress-bar-interrupted, .progress-bar-interrupted::-webkit-progress-bar {\n",
              "        background: #F44336;\n",
              "    }\n",
              "</style>\n"
            ]
          },
          "metadata": {}
        },
        {
          "output_type": "display_data",
          "data": {
            "text/plain": [
              "<IPython.core.display.HTML object>"
            ],
            "text/html": [
              ""
            ]
          },
          "metadata": {}
        }
      ]
    },
    {
      "cell_type": "code",
      "metadata": {
        "colab": {
          "base_uri": "https://localhost:8080/",
          "height": 17
        },
        "id": "zTsct_7BJcEZ",
        "outputId": "7fb79eec-255a-44ee-c201-1944fa7ea962"
      },
      "source": [
        "test_dl = dloader_test.test_dl(df_test['text_tags'])\n",
        "preds = learn_lm.get_preds(dl=test_dl, with_decoded=True)"
      ],
      "execution_count": 28,
      "outputs": [
        {
          "output_type": "display_data",
          "data": {
            "text/plain": [
              "<IPython.core.display.HTML object>"
            ],
            "text/html": [
              "\n",
              "<style>\n",
              "    /* Turns off some styling */\n",
              "    progress {\n",
              "        /* gets rid of default border in Firefox and Opera. */\n",
              "        border: none;\n",
              "        /* Needs to be in here for Safari polyfill so background images work as expected. */\n",
              "        background-size: auto;\n",
              "    }\n",
              "    .progress-bar-interrupted, .progress-bar-interrupted::-webkit-progress-bar {\n",
              "        background: #F44336;\n",
              "    }\n",
              "</style>\n"
            ]
          },
          "metadata": {}
        },
        {
          "output_type": "display_data",
          "data": {
            "text/plain": [
              "<IPython.core.display.HTML object>"
            ],
            "text/html": [
              ""
            ]
          },
          "metadata": {}
        }
      ]
    },
    {
      "cell_type": "code",
      "metadata": {
        "colab": {
          "base_uri": "https://localhost:8080/"
        },
        "id": "x54712SoMZBJ",
        "outputId": "ad0c89d1-59af-49a8-9397-72939fed23b1"
      },
      "source": [
        "len(preds)"
      ],
      "execution_count": 29,
      "outputs": [
        {
          "output_type": "execute_result",
          "data": {
            "text/plain": [
              "3"
            ]
          },
          "metadata": {},
          "execution_count": 29
        }
      ]
    },
    {
      "cell_type": "code",
      "metadata": {
        "colab": {
          "base_uri": "https://localhost:8080/",
          "height": 441
        },
        "id": "LVRnxpiq_au8",
        "outputId": "f67da99a-8994-4679-97c4-083dae8215e9"
      },
      "source": [
        "interp = ClassificationInterpretation.from_learner(learn_lm)\n",
        "interp.plot_confusion_matrix(figsize=(4,4), dpi=100)\n",
        "learn_lm.validate()"
      ],
      "execution_count": 34,
      "outputs": [
        {
          "output_type": "display_data",
          "data": {
            "text/plain": [
              "<IPython.core.display.HTML object>"
            ],
            "text/html": [
              "\n",
              "<style>\n",
              "    /* Turns off some styling */\n",
              "    progress {\n",
              "        /* gets rid of default border in Firefox and Opera. */\n",
              "        border: none;\n",
              "        /* Needs to be in here for Safari polyfill so background images work as expected. */\n",
              "        background-size: auto;\n",
              "    }\n",
              "    .progress-bar-interrupted, .progress-bar-interrupted::-webkit-progress-bar {\n",
              "        background: #F44336;\n",
              "    }\n",
              "</style>\n"
            ]
          },
          "metadata": {}
        },
        {
          "output_type": "display_data",
          "data": {
            "text/plain": [
              "<IPython.core.display.HTML object>"
            ],
            "text/html": [
              ""
            ]
          },
          "metadata": {}
        },
        {
          "output_type": "display_data",
          "data": {
            "text/plain": [
              "<IPython.core.display.HTML object>"
            ],
            "text/html": [
              "\n",
              "<style>\n",
              "    /* Turns off some styling */\n",
              "    progress {\n",
              "        /* gets rid of default border in Firefox and Opera. */\n",
              "        border: none;\n",
              "        /* Needs to be in here for Safari polyfill so background images work as expected. */\n",
              "        background-size: auto;\n",
              "    }\n",
              "    .progress-bar-interrupted, .progress-bar-interrupted::-webkit-progress-bar {\n",
              "        background: #F44336;\n",
              "    }\n",
              "</style>\n"
            ]
          },
          "metadata": {}
        },
        {
          "output_type": "display_data",
          "data": {
            "text/plain": [
              "<IPython.core.display.HTML object>"
            ],
            "text/html": [
              ""
            ]
          },
          "metadata": {}
        },
        {
          "output_type": "display_data",
          "data": {
            "text/plain": [
              "<IPython.core.display.HTML object>"
            ],
            "text/html": [
              "\n",
              "<style>\n",
              "    /* Turns off some styling */\n",
              "    progress {\n",
              "        /* gets rid of default border in Firefox and Opera. */\n",
              "        border: none;\n",
              "        /* Needs to be in here for Safari polyfill so background images work as expected. */\n",
              "        background-size: auto;\n",
              "    }\n",
              "    .progress-bar-interrupted, .progress-bar-interrupted::-webkit-progress-bar {\n",
              "        background: #F44336;\n",
              "    }\n",
              "</style>\n"
            ]
          },
          "metadata": {}
        },
        {
          "output_type": "display_data",
          "data": {
            "text/plain": [
              "<IPython.core.display.HTML object>"
            ],
            "text/html": [
              ""
            ]
          },
          "metadata": {}
        },
        {
          "output_type": "execute_result",
          "data": {
            "text/plain": [
              "(#4) [0.22603774070739746,0.07281553745269775,0.9271844625473022,1.2536230087280273]"
            ]
          },
          "metadata": {},
          "execution_count": 34
        },
        {
          "output_type": "display_data",
          "data": {
            "text/plain": [
              "<Figure size 400x400 with 1 Axes>"
            ],
            "image/png": "[encoded data removed]"
          },
          "metadata": {
            "needs_background": "light"
          }
        }
      ]
    },
    {
      "cell_type": "code",
      "metadata": {
        "id": "BKcBxTsjOCVH",
        "colab": {
          "base_uri": "https://localhost:8080/",
          "height": 17
        },
        "outputId": "9f13a908-43a3-4c1c-e223-ce58cbada20b"
      },
      "source": [
        "test_dl = dloader_test.test_dl(df_test['text_tags'])\n",
        "preds = learn.get_preds(dl=test_dl, with_decoded=True)"
      ],
      "execution_count": 32,
      "outputs": [
        {
          "output_type": "display_data",
          "data": {
            "text/plain": [
              "<IPython.core.display.HTML object>"
            ],
            "text/html": [
              "\n",
              "<style>\n",
              "    /* Turns off some styling */\n",
              "    progress {\n",
              "        /* gets rid of default border in Firefox and Opera. */\n",
              "        border: none;\n",
              "        /* Needs to be in here for Safari polyfill so background images work as expected. */\n",
              "        background-size: auto;\n",
              "    }\n",
              "    .progress-bar-interrupted, .progress-bar-interrupted::-webkit-progress-bar {\n",
              "        background: #F44336;\n",
              "    }\n",
              "</style>\n"
            ]
          },
          "metadata": {}
        },
        {
          "output_type": "display_data",
          "data": {
            "text/plain": [
              "<IPython.core.display.HTML object>"
            ],
            "text/html": [
              ""
            ]
          },
          "metadata": {}
        }
      ]
    },
    {
      "cell_type": "code",
      "source": [
        "interp = ClassificationInterpretation.from_learner(learn)\n",
        "interp.plot_confusion_matrix(figsize=(4,4), dpi=100)\n",
        "learn.validate()"
      ],
      "metadata": {
        "colab": {
          "base_uri": "https://localhost:8080/",
          "height": 441
        },
        "id": "-iW_rxKpM7wK",
        "outputId": "33ff0b88-cb5f-49b0-9579-366188cb2200"
      },
      "execution_count": 33,
      "outputs": [
        {
          "output_type": "display_data",
          "data": {
            "text/plain": [
              "<IPython.core.display.HTML object>"
            ],
            "text/html": [
              "\n",
              "<style>\n",
              "    /* Turns off some styling */\n",
              "    progress {\n",
              "        /* gets rid of default border in Firefox and Opera. */\n",
              "        border: none;\n",
              "        /* Needs to be in here for Safari polyfill so background images work as expected. */\n",
              "        background-size: auto;\n",
              "    }\n",
              "    .progress-bar-interrupted, .progress-bar-interrupted::-webkit-progress-bar {\n",
              "        background: #F44336;\n",
              "    }\n",
              "</style>\n"
            ]
          },
          "metadata": {}
        },
        {
          "output_type": "display_data",
          "data": {
            "text/plain": [
              "<IPython.core.display.HTML object>"
            ],
            "text/html": [
              ""
            ]
          },
          "metadata": {}
        },
        {
          "output_type": "display_data",
          "data": {
            "text/plain": [
              "<IPython.core.display.HTML object>"
            ],
            "text/html": [
              "\n",
              "<style>\n",
              "    /* Turns off some styling */\n",
              "    progress {\n",
              "        /* gets rid of default border in Firefox and Opera. */\n",
              "        border: none;\n",
              "        /* Needs to be in here for Safari polyfill so background images work as expected. */\n",
              "        background-size: auto;\n",
              "    }\n",
              "    .progress-bar-interrupted, .progress-bar-interrupted::-webkit-progress-bar {\n",
              "        background: #F44336;\n",
              "    }\n",
              "</style>\n"
            ]
          },
          "metadata": {}
        },
        {
          "output_type": "display_data",
          "data": {
            "text/plain": [
              "<IPython.core.display.HTML object>"
            ],
            "text/html": [
              ""
            ]
          },
          "metadata": {}
        },
        {
          "output_type": "display_data",
          "data": {
            "text/plain": [
              "<IPython.core.display.HTML object>"
            ],
            "text/html": [
              "\n",
              "<style>\n",
              "    /* Turns off some styling */\n",
              "    progress {\n",
              "        /* gets rid of default border in Firefox and Opera. */\n",
              "        border: none;\n",
              "        /* Needs to be in here for Safari polyfill so background images work as expected. */\n",
              "        background-size: auto;\n",
              "    }\n",
              "    .progress-bar-interrupted, .progress-bar-interrupted::-webkit-progress-bar {\n",
              "        background: #F44336;\n",
              "    }\n",
              "</style>\n"
            ]
          },
          "metadata": {}
        },
        {
          "output_type": "display_data",
          "data": {
            "text/plain": [
              "<IPython.core.display.HTML object>"
            ],
            "text/html": [
              ""
            ]
          },
          "metadata": {}
        },
        {
          "output_type": "execute_result",
          "data": {
            "text/plain": [
              "(#4) [0.00982666201889515,0.004854357335716486,0.9951456189155579,1.0098750591278076]"
            ]
          },
          "metadata": {},
          "execution_count": 33
        },
        {
          "output_type": "display_data",
          "data": {
            "text/plain": [
              "<Figure size 400x400 with 1 Axes>"
            ],
            "image/png": "[encoded data removed]"
          },
          "metadata": {
            "needs_background": "light"
          }
        }
      ]
    }
  ]
}