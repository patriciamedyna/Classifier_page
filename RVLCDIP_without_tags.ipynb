{
  "cells": [
    {
      "cell_type": "markdown",
      "metadata": {
        "id": "view-in-github",
        "colab_type": "text"
      },
      "source": [
        "<a href=\"https://colab.research.google.com/github/patriciamedyna/Classifier_page/blob/main/RVLCDIP_without_tags.ipynb\" target=\"_parent\"><img src=\"https://colab.research.google.com/assets/colab-badge.svg\" alt=\"Open In Colab\"/></a>"
      ]
    },
    {
      "cell_type": "code",
      "execution_count": null,
      "metadata": {
        "id": "UJr_N-oGWpgm",
        "colab": {
          "base_uri": "https://localhost:8080/"
        },
        "outputId": "6c27a0b7-18bf-4a8a-d12d-0b4f9a7b8d1a"
      },
      "outputs": [
        {
          "output_type": "stream",
          "name": "stdout",
          "text": [
            "\u001b[K     |████████████████████████████████| 189 kB 4.3 MB/s \n",
            "\u001b[K     |████████████████████████████████| 56 kB 4.9 MB/s \n",
            "\u001b[?25h"
          ]
        }
      ],
      "source": [
        "! [ -e /content ] && pip install -Uqq fastai"
      ]
    },
    {
      "cell_type": "code",
      "execution_count": null,
      "metadata": {
        "id": "yaH3SUzZjuA-",
        "colab": {
          "base_uri": "https://localhost:8080/"
        },
        "outputId": "2fc0977f-d803-40a0-eb54-2aac682609f0"
      },
      "outputs": [
        {
          "output_type": "stream",
          "name": "stdout",
          "text": [
            "\u001b[K     |████████████████████████████████| 720 kB 3.9 MB/s \n",
            "\u001b[K     |████████████████████████████████| 48 kB 7.0 MB/s \n",
            "\u001b[K     |████████████████████████████████| 1.2 MB 66.7 MB/s \n",
            "\u001b[K     |████████████████████████████████| 558 kB 71.9 MB/s \n",
            "\u001b[K     |████████████████████████████████| 51 kB 318 kB/s \n",
            "\u001b[K     |████████████████████████████████| 130 kB 68.8 MB/s \n",
            "\u001b[?25h"
          ]
        }
      ],
      "source": [
        "#hide\n",
        "!pip install -Uqq fastbook\n",
        "import fastbook"
      ]
    },
    {
      "cell_type": "code",
      "execution_count": null,
      "metadata": {
        "id": "ZZ_arKKyj3Co"
      },
      "outputs": [],
      "source": [
        "#hide\n",
        "from fastbook import *\n",
        "from IPython.display import display,HTML"
      ]
    },
    {
      "cell_type": "code",
      "execution_count": null,
      "metadata": {
        "id": "-gu3NxcBirzx"
      },
      "outputs": [],
      "source": [
        "from fastai.basics import *\n",
        "from fastai.text.core import *\n",
        "from fastai.text.data import *\n",
        "from fastai.text.models.core import *\n",
        "from fastai.text.models.awdlstm import *\n",
        "from fastai.callback.rnn import *\n",
        "from fastai.callback.progress import *\n",
        "from fastai.text.all import *\n",
        "from fastai.text import *\n",
        "from datetime import datetime"
      ]
    },
    {
      "cell_type": "code",
      "execution_count": null,
      "metadata": {
        "id": "tDDduM12_-YV"
      },
      "outputs": [],
      "source": [
        "seed = 42\n",
        "\n",
        "# python RNG\n",
        "import random\n",
        "random.seed(seed)\n",
        "\n",
        "# pytorch RNGs\n",
        "import torch\n",
        "torch.manual_seed(seed)\n",
        "torch.backends.cudnn.deterministic = True\n",
        "if torch.cuda.is_available(): torch.cuda.manual_seed_all(seed)\n",
        "\n",
        "# numpy RNG\n",
        "import numpy as np\n",
        "np.random.seed(seed)"
      ]
    },
    {
      "cell_type": "code",
      "execution_count": null,
      "metadata": {
        "id": "51jgSOs8zZrX",
        "colab": {
          "base_uri": "https://localhost:8080/"
        },
        "outputId": "60ac6e9a-e0e1-4c9f-e3dd-c51cec4be811"
      },
      "outputs": [
        {
          "output_type": "stream",
          "name": "stdout",
          "text": [
            "Mounted at /content/drive\n"
          ]
        }
      ],
      "source": [
        "from google.colab import drive\n",
        "drive.mount('/content/drive')"
      ]
    },
    {
      "cell_type": "code",
      "execution_count": null,
      "metadata": {
        "id": "F3fCSD3QmMF_",
        "colab": {
          "base_uri": "https://localhost:8080/"
        },
        "outputId": "a7833b5c-e28b-4803-f34c-07af6c54e458"
      },
      "outputs": [
        {
          "output_type": "stream",
          "name": "stderr",
          "text": [
            "/usr/local/lib/python3.7/dist-packages/IPython/core/interactiveshell.py:2882: FutureWarning: The error_bad_lines argument has been deprecated and will be removed in a future version.\n",
            "\n",
            "\n",
            "  exec(code_obj, self.user_global_ns, self.user_ns)\n"
          ]
        }
      ],
      "source": [
        "path = '/content/drive/MyDrive/Colab Notebooks/Datasets/RVL_CDIP/labels/'\n",
        "df_train = pd.read_csv(path + 'train.csv', delimiter=',', error_bad_lines=False, index_col=False)"
      ]
    },
    {
      "cell_type": "code",
      "source": [
        "df_train['is_valid'] = False"
      ],
      "metadata": {
        "id": "tOqt_rD4gWcr"
      },
      "execution_count": null,
      "outputs": []
    },
    {
      "cell_type": "code",
      "execution_count": null,
      "metadata": {
        "colab": {
          "base_uri": "https://localhost:8080/",
          "height": 295
        },
        "id": "mQDKLPV-GsOh",
        "outputId": "d2c33e28-4af4-4453-d658-b2a5f1fcc601"
      },
      "outputs": [
        {
          "output_type": "execute_result",
          "data": {
            "text/html": [
              "\n",
              "  <div id=\"df-a873c7c1-e869-400a-8d5e-34445ea5b300\">\n",
              "    <div class=\"colab-df-container\">\n",
              "      <div>\n",
              "<style scoped>\n",
              "    .dataframe tbody tr th:only-of-type {\n",
              "        vertical-align: middle;\n",
              "    }\n",
              "\n",
              "    .dataframe tbody tr th {\n",
              "        vertical-align: top;\n",
              "    }\n",
              "\n",
              "    .dataframe thead th {\n",
              "        text-align: right;\n",
              "    }\n",
              "</style>\n",
              "<table border=\"1\" class=\"dataframe\">\n",
              "  <thead>\n",
              "    <tr style=\"text-align: right;\">\n",
              "      <th></th>\n",
              "      <th>label</th>\n",
              "      <th>text</th>\n",
              "      <th>is_valid</th>\n",
              "    </tr>\n",
              "  </thead>\n",
              "  <tbody>\n",
              "    <tr>\n",
              "      <th>0</th>\n",
              "      <td>1</td>\n",
              "      <td>7002 00 OF (2 DOCUMENT CLEARANCE SHEET P (For Original Contracts Only) 2004-00-00 CONTRACT # CONTRACT SUBJECT: \\TCHBL 1 COMPANY: |. BEI INS BRAND(s): _CAMEL TOTAL COST: _$528,000 CURRENT YEAR EFO: _($528,000: BRIEF DESCRIPTION: _D. D. BEAN WILL PRODUCE AND DISTRIBUTE UP TO 264,000 CASES _ OF PRINTED CAMEL ADVERTISING ON MATCHBOOKS, PROGRAM] G/L CODE: 04-73-4600-8215-855 LINE ITEM: 200737-072402 *IMPLEMENTOR: _S. B. DRISKE! **BRAND MANAGEMENT: __E. C. LEARY. TRVOICE APPROVAL AUTHORITY INVOICE APPROVAL AUTHORITY REVIEW ROUTING: DEPARTMENT = ____NAME ___swqwarure __DATE 7G 7-242 ave wouteD FI...</td>\n",
              "      <td>False</td>\n",
              "    </tr>\n",
              "    <tr>\n",
              "      <th>1</th>\n",
              "      <td>7</td>\n",
              "      <td>‘CABARRUS COUNTY EFFECTIVE DATE: 03/08/93, MARLBORO 100 REGULAR SP RED STANOARO. PRODUCTION BRAND CODE-00540 (S10) CIoARETTE LENGTH =: 99.5, mM FTOTAR «16.0 Movolor 15.5 = 17.4 ToBAcco ROD ciRcUM, —: 24.80 va TOBACCO ROD LENGTH reo vt FicTER LeneTh ans 14 Tipp ine LENGTH 311500 vot TOTAL R.T.0, leo aM, W20 DILUTION TARGET 14.0 +/- 5.0 % TIPPING PAPER /USE UP: 631M X 3000! coRK DGL Eo-T01 12-4l-B LASER PERF. REPLACE WITH 631M X 3000M CORK DGL_ «KE GSRH75712-500-A LASER PERF. GLUE ROLLER/ | REFER TO ENGINEERINGS LUE ROLLER VARIABLE PARTS CATALOG = TIPPING INFORMATION + BY TYPE=TIPPER AND CIG...</td>\n",
              "      <td>False</td>\n",
              "    </tr>\n",
              "  </tbody>\n",
              "</table>\n",
              "</div>\n",
              "      <button class=\"colab-df-convert\" onclick=\"convertToInteractive('df-a873c7c1-e869-400a-8d5e-34445ea5b300')\"\n",
              "              title=\"Convert this dataframe to an interactive table.\"\n",
              "              style=\"display:none;\">\n",
              "        \n",
              "  <svg xmlns=\"http://www.w3.org/2000/svg\" height=\"24px\"viewBox=\"0 0 24 24\"\n",
              "       width=\"24px\">\n",
              "    <path d=\"M0 0h24v24H0V0z\" fill=\"none\"/>\n",
              "    <path d=\"M18.56 5.44l.94 2.06.94-2.06 2.06-.94-2.06-.94-.94-2.06-.94 2.06-2.06.94zm-11 1L8.5 8.5l.94-2.06 2.06-.94-2.06-.94L8.5 2.5l-.94 2.06-2.06.94zm10 10l.94 2.06.94-2.06 2.06-.94-2.06-.94-.94-2.06-.94 2.06-2.06.94z\"/><path d=\"M17.41 7.96l-1.37-1.37c-.4-.4-.92-.59-1.43-.59-.52 0-1.04.2-1.43.59L10.3 9.45l-7.72 7.72c-.78.78-.78 2.05 0 2.83L4 21.41c.39.39.9.59 1.41.59.51 0 1.02-.2 1.41-.59l7.78-7.78 2.81-2.81c.8-.78.8-2.07 0-2.86zM5.41 20L4 18.59l7.72-7.72 1.47 1.35L5.41 20z\"/>\n",
              "  </svg>\n",
              "      </button>\n",
              "      \n",
              "  <style>\n",
              "    .colab-df-container {\n",
              "      display:flex;\n",
              "      flex-wrap:wrap;\n",
              "      gap: 12px;\n",
              "    }\n",
              "\n",
              "    .colab-df-convert {\n",
              "      background-color: #E8F0FE;\n",
              "      border: none;\n",
              "      border-radius: 50%;\n",
              "      cursor: pointer;\n",
              "      display: none;\n",
              "      fill: #1967D2;\n",
              "      height: 32px;\n",
              "      padding: 0 0 0 0;\n",
              "      width: 32px;\n",
              "    }\n",
              "\n",
              "    .colab-df-convert:hover {\n",
              "      background-color: #E2EBFA;\n",
              "      box-shadow: 0px 1px 2px rgba(60, 64, 67, 0.3), 0px 1px 3px 1px rgba(60, 64, 67, 0.15);\n",
              "      fill: #174EA6;\n",
              "    }\n",
              "\n",
              "    [theme=dark] .colab-df-convert {\n",
              "      background-color: #3B4455;\n",
              "      fill: #D2E3FC;\n",
              "    }\n",
              "\n",
              "    [theme=dark] .colab-df-convert:hover {\n",
              "      background-color: #434B5C;\n",
              "      box-shadow: 0px 1px 3px 1px rgba(0, 0, 0, 0.15);\n",
              "      filter: drop-shadow(0px 1px 2px rgba(0, 0, 0, 0.3));\n",
              "      fill: #FFFFFF;\n",
              "    }\n",
              "  </style>\n",
              "\n",
              "      <script>\n",
              "        const buttonEl =\n",
              "          document.querySelector('#df-a873c7c1-e869-400a-8d5e-34445ea5b300 button.colab-df-convert');\n",
              "        buttonEl.style.display =\n",
              "          google.colab.kernel.accessAllowed ? 'block' : 'none';\n",
              "\n",
              "        async function convertToInteractive(key) {\n",
              "          const element = document.querySelector('#df-a873c7c1-e869-400a-8d5e-34445ea5b300');\n",
              "          const dataTable =\n",
              "            await google.colab.kernel.invokeFunction('convertToInteractive',\n",
              "                                                     [key], {});\n",
              "          if (!dataTable) return;\n",
              "\n",
              "          const docLinkHtml = 'Like what you see? Visit the ' +\n",
              "            '<a target=\"_blank\" href=https://colab.research.google.com/notebooks/data_table.ipynb>data table notebook</a>'\n",
              "            + ' to learn more about interactive tables.';\n",
              "          element.innerHTML = '';\n",
              "          dataTable['output_type'] = 'display_data';\n",
              "          await google.colab.output.renderOutput(dataTable, element);\n",
              "          const docLink = document.createElement('div');\n",
              "          docLink.innerHTML = docLinkHtml;\n",
              "          element.appendChild(docLink);\n",
              "        }\n",
              "      </script>\n",
              "    </div>\n",
              "  </div>\n",
              "  "
            ],
            "text/plain": [
              "   label  \\\n",
              "0      1   \n",
              "1      7   \n",
              "\n",
              "                                                                                                                                                                                                                                                                                                                                                                                                                                                                                                                                                                                                                      text  \\\n",
              "0  7002 00 OF (2 DOCUMENT CLEARANCE SHEET P (For Original Contracts Only) 2004-00-00 CONTRACT # CONTRACT SUBJECT: \\TCHBL 1 COMPANY: |. BEI INS BRAND(s): _CAMEL TOTAL COST: _$528,000 CURRENT YEAR EFO: _($528,000: BRIEF DESCRIPTION: _D. D. BEAN WILL PRODUCE AND DISTRIBUTE UP TO 264,000 CASES _ OF PRINTED CAMEL ADVERTISING ON MATCHBOOKS, PROGRAM] G/L CODE: 04-73-4600-8215-855 LINE ITEM: 200737-072402 *IMPLEMENTOR: _S. B. DRISKE! **BRAND MANAGEMENT: __E. C. LEARY. TRVOICE APPROVAL AUTHORITY INVOICE APPROVAL AUTHORITY REVIEW ROUTING: DEPARTMENT = ____NAME ___swqwarure __DATE 7G 7-242 ave wouteD FI...   \n",
              "1  ‘CABARRUS COUNTY EFFECTIVE DATE: 03/08/93, MARLBORO 100 REGULAR SP RED STANOARO. PRODUCTION BRAND CODE-00540 (S10) CIoARETTE LENGTH =: 99.5, mM FTOTAR «16.0 Movolor 15.5 = 17.4 ToBAcco ROD ciRcUM, —: 24.80 va TOBACCO ROD LENGTH reo vt FicTER LeneTh ans 14 Tipp ine LENGTH 311500 vot TOTAL R.T.0, leo aM, W20 DILUTION TARGET 14.0 +/- 5.0 % TIPPING PAPER /USE UP: 631M X 3000! coRK DGL Eo-T01 12-4l-B LASER PERF. REPLACE WITH 631M X 3000M CORK DGL_ «KE GSRH75712-500-A LASER PERF. GLUE ROLLER/ | REFER TO ENGINEERINGS LUE ROLLER VARIABLE PARTS CATALOG = TIPPING INFORMATION + BY TYPE=TIPPER AND CIG...   \n",
              "\n",
              "   is_valid  \n",
              "0     False  \n",
              "1     False  "
            ]
          },
          "metadata": {},
          "execution_count": 9
        }
      ],
      "source": [
        "df_train.head(2)"
      ]
    },
    {
      "cell_type": "code",
      "execution_count": null,
      "metadata": {
        "id": "mUIsYb_KhWYl",
        "colab": {
          "base_uri": "https://localhost:8080/"
        },
        "outputId": "d14f67f5-7e4b-4af5-a58b-d2f5ceef2e2f"
      },
      "outputs": [
        {
          "output_type": "stream",
          "name": "stderr",
          "text": [
            "/usr/local/lib/python3.7/dist-packages/IPython/core/interactiveshell.py:2882: FutureWarning: The error_bad_lines argument has been deprecated and will be removed in a future version.\n",
            "\n",
            "\n",
            "  exec(code_obj, self.user_global_ns, self.user_ns)\n"
          ]
        }
      ],
      "source": [
        "path = '/content/drive/MyDrive/Colab Notebooks/Datasets/RVL_CDIP/labels/'\n",
        "df_test = pd.read_csv(path + 'test.csv', delimiter=',', error_bad_lines=False, index_col=False)"
      ]
    },
    {
      "cell_type": "code",
      "execution_count": null,
      "metadata": {
        "colab": {
          "base_uri": "https://localhost:8080/",
          "height": 208
        },
        "id": "VJt7fbOrkXqu",
        "outputId": "5069394d-db48-46d6-adf9-e4a83710b06c"
      },
      "outputs": [
        {
          "output_type": "execute_result",
          "data": {
            "text/html": [
              "\n",
              "  <div id=\"df-ffcfde27-d4a1-4cfe-9879-15439f8e1527\">\n",
              "    <div class=\"colab-df-container\">\n",
              "      <div>\n",
              "<style scoped>\n",
              "    .dataframe tbody tr th:only-of-type {\n",
              "        vertical-align: middle;\n",
              "    }\n",
              "\n",
              "    .dataframe tbody tr th {\n",
              "        vertical-align: top;\n",
              "    }\n",
              "\n",
              "    .dataframe thead th {\n",
              "        text-align: right;\n",
              "    }\n",
              "</style>\n",
              "<table border=\"1\" class=\"dataframe\">\n",
              "  <thead>\n",
              "    <tr style=\"text-align: right;\">\n",
              "      <th></th>\n",
              "      <th>label</th>\n",
              "      <th>text</th>\n",
              "    </tr>\n",
              "  </thead>\n",
              "  <tbody>\n",
              "    <tr>\n",
              "      <th>0</th>\n",
              "      <td>3</td>\n",
              "      <td>\"$1730 6722 he (qey . ~ 266) “SOL sr Mem won Faunp = py 1°H Spree conn xf Aya “A NALD vor yee ~ PAOLO T Sy uw yr, GP od diz SL ene OL oi</td>\n",
              "    </tr>\n",
              "    <tr>\n",
              "      <th>1</th>\n",
              "      <td>14</td>\n",
              "      <td>CO-INVESTIGATOR NAME POSITION/TITLE BIRTHDATE Robert H. McCusker, Jr. Res. Assistant Professor 11-12-54 EDUCATION Institution/ Year ‘Field of Location Degree  Conferred Study The Pennsylvania State Univ. B.S. The Pennsylvania State Univ. M.S. 1980 Physiology The University of Georgia Ph.D. 1985 Foods &amp; Nutr. RESEARCH AND PROFESSIONAL EXPERIENCE 1980-1982 Senior Research Aide, The Pennsylvania state University 1985-1986 Research Fellowship, The University of North Carolina at Chapel Hill, NRSA, NIH Training Grant, Lineberger Comprehensive Cancer Research Center 1986-1988 Research Fellowship...</td>\n",
              "    </tr>\n",
              "  </tbody>\n",
              "</table>\n",
              "</div>\n",
              "      <button class=\"colab-df-convert\" onclick=\"convertToInteractive('df-ffcfde27-d4a1-4cfe-9879-15439f8e1527')\"\n",
              "              title=\"Convert this dataframe to an interactive table.\"\n",
              "              style=\"display:none;\">\n",
              "        \n",
              "  <svg xmlns=\"http://www.w3.org/2000/svg\" height=\"24px\"viewBox=\"0 0 24 24\"\n",
              "       width=\"24px\">\n",
              "    <path d=\"M0 0h24v24H0V0z\" fill=\"none\"/>\n",
              "    <path d=\"M18.56 5.44l.94 2.06.94-2.06 2.06-.94-2.06-.94-.94-2.06-.94 2.06-2.06.94zm-11 1L8.5 8.5l.94-2.06 2.06-.94-2.06-.94L8.5 2.5l-.94 2.06-2.06.94zm10 10l.94 2.06.94-2.06 2.06-.94-2.06-.94-.94-2.06-.94 2.06-2.06.94z\"/><path d=\"M17.41 7.96l-1.37-1.37c-.4-.4-.92-.59-1.43-.59-.52 0-1.04.2-1.43.59L10.3 9.45l-7.72 7.72c-.78.78-.78 2.05 0 2.83L4 21.41c.39.39.9.59 1.41.59.51 0 1.02-.2 1.41-.59l7.78-7.78 2.81-2.81c.8-.78.8-2.07 0-2.86zM5.41 20L4 18.59l7.72-7.72 1.47 1.35L5.41 20z\"/>\n",
              "  </svg>\n",
              "      </button>\n",
              "      \n",
              "  <style>\n",
              "    .colab-df-container {\n",
              "      display:flex;\n",
              "      flex-wrap:wrap;\n",
              "      gap: 12px;\n",
              "    }\n",
              "\n",
              "    .colab-df-convert {\n",
              "      background-color: #E8F0FE;\n",
              "      border: none;\n",
              "      border-radius: 50%;\n",
              "      cursor: pointer;\n",
              "      display: none;\n",
              "      fill: #1967D2;\n",
              "      height: 32px;\n",
              "      padding: 0 0 0 0;\n",
              "      width: 32px;\n",
              "    }\n",
              "\n",
              "    .colab-df-convert:hover {\n",
              "      background-color: #E2EBFA;\n",
              "      box-shadow: 0px 1px 2px rgba(60, 64, 67, 0.3), 0px 1px 3px 1px rgba(60, 64, 67, 0.15);\n",
              "      fill: #174EA6;\n",
              "    }\n",
              "\n",
              "    [theme=dark] .colab-df-convert {\n",
              "      background-color: #3B4455;\n",
              "      fill: #D2E3FC;\n",
              "    }\n",
              "\n",
              "    [theme=dark] .colab-df-convert:hover {\n",
              "      background-color: #434B5C;\n",
              "      box-shadow: 0px 1px 3px 1px rgba(0, 0, 0, 0.15);\n",
              "      filter: drop-shadow(0px 1px 2px rgba(0, 0, 0, 0.3));\n",
              "      fill: #FFFFFF;\n",
              "    }\n",
              "  </style>\n",
              "\n",
              "      <script>\n",
              "        const buttonEl =\n",
              "          document.querySelector('#df-ffcfde27-d4a1-4cfe-9879-15439f8e1527 button.colab-df-convert');\n",
              "        buttonEl.style.display =\n",
              "          google.colab.kernel.accessAllowed ? 'block' : 'none';\n",
              "\n",
              "        async function convertToInteractive(key) {\n",
              "          const element = document.querySelector('#df-ffcfde27-d4a1-4cfe-9879-15439f8e1527');\n",
              "          const dataTable =\n",
              "            await google.colab.kernel.invokeFunction('convertToInteractive',\n",
              "                                                     [key], {});\n",
              "          if (!dataTable) return;\n",
              "\n",
              "          const docLinkHtml = 'Like what you see? Visit the ' +\n",
              "            '<a target=\"_blank\" href=https://colab.research.google.com/notebooks/data_table.ipynb>data table notebook</a>'\n",
              "            + ' to learn more about interactive tables.';\n",
              "          element.innerHTML = '';\n",
              "          dataTable['output_type'] = 'display_data';\n",
              "          await google.colab.output.renderOutput(dataTable, element);\n",
              "          const docLink = document.createElement('div');\n",
              "          docLink.innerHTML = docLinkHtml;\n",
              "          element.appendChild(docLink);\n",
              "        }\n",
              "      </script>\n",
              "    </div>\n",
              "  </div>\n",
              "  "
            ],
            "text/plain": [
              "   label  \\\n",
              "0      3   \n",
              "1     14   \n",
              "\n",
              "                                                                                                                                                                                                                                                                                                                                                                                                                                                                                                                                                                                                                      text  \n",
              "0                                                                                                                                                                                                                                                                                                                                                                                                                                                                                 \"$1730 6722 he (qey . ~ 266) “SOL sr Mem won Faunp = py 1°H Spree conn xf Aya “A NALD vor yee ~ PAOLO T Sy uw yr, GP od diz SL ene OL oi  \n",
              "1  CO-INVESTIGATOR NAME POSITION/TITLE BIRTHDATE Robert H. McCusker, Jr. Res. Assistant Professor 11-12-54 EDUCATION Institution/ Year ‘Field of Location Degree  Conferred Study The Pennsylvania State Univ. B.S. The Pennsylvania State Univ. M.S. 1980 Physiology The University of Georgia Ph.D. 1985 Foods & Nutr. RESEARCH AND PROFESSIONAL EXPERIENCE 1980-1982 Senior Research Aide, The Pennsylvania state University 1985-1986 Research Fellowship, The University of North Carolina at Chapel Hill, NRSA, NIH Training Grant, Lineberger Comprehensive Cancer Research Center 1986-1988 Research Fellowship...  "
            ]
          },
          "metadata": {},
          "execution_count": 11
        }
      ],
      "source": [
        "df_test.head(2)"
      ]
    },
    {
      "cell_type": "code",
      "source": [
        "df_unsup = df_test.drop(columns=['label'])"
      ],
      "metadata": {
        "id": "vQw_Emb_5ZxG"
      },
      "execution_count": null,
      "outputs": []
    },
    {
      "cell_type": "code",
      "execution_count": null,
      "metadata": {
        "colab": {
          "base_uri": "https://localhost:8080/",
          "height": 208
        },
        "id": "enwscOSONRol",
        "outputId": "5de36bd2-63bc-4bfe-f3dd-b5967d9c72a9"
      },
      "outputs": [
        {
          "output_type": "execute_result",
          "data": {
            "text/html": [
              "\n",
              "  <div id=\"df-b5f3c49d-a4a8-4908-88e9-64e3a0882663\">\n",
              "    <div class=\"colab-df-container\">\n",
              "      <div>\n",
              "<style scoped>\n",
              "    .dataframe tbody tr th:only-of-type {\n",
              "        vertical-align: middle;\n",
              "    }\n",
              "\n",
              "    .dataframe tbody tr th {\n",
              "        vertical-align: top;\n",
              "    }\n",
              "\n",
              "    .dataframe thead th {\n",
              "        text-align: right;\n",
              "    }\n",
              "</style>\n",
              "<table border=\"1\" class=\"dataframe\">\n",
              "  <thead>\n",
              "    <tr style=\"text-align: right;\">\n",
              "      <th></th>\n",
              "      <th>text</th>\n",
              "    </tr>\n",
              "  </thead>\n",
              "  <tbody>\n",
              "    <tr>\n",
              "      <th>0</th>\n",
              "      <td>\"$1730 6722 he (qey . ~ 266) “SOL sr Mem won Faunp = py 1°H Spree conn xf Aya “A NALD vor yee ~ PAOLO T Sy uw yr, GP od diz SL ene OL oi</td>\n",
              "    </tr>\n",
              "    <tr>\n",
              "      <th>1</th>\n",
              "      <td>CO-INVESTIGATOR NAME POSITION/TITLE BIRTHDATE Robert H. McCusker, Jr. Res. Assistant Professor 11-12-54 EDUCATION Institution/ Year ‘Field of Location Degree  Conferred Study The Pennsylvania State Univ. B.S. The Pennsylvania State Univ. M.S. 1980 Physiology The University of Georgia Ph.D. 1985 Foods &amp; Nutr. RESEARCH AND PROFESSIONAL EXPERIENCE 1980-1982 Senior Research Aide, The Pennsylvania state University 1985-1986 Research Fellowship, The University of North Carolina at Chapel Hill, NRSA, NIH Training Grant, Lineberger Comprehensive Cancer Research Center 1986-1988 Research Fellowship...</td>\n",
              "    </tr>\n",
              "  </tbody>\n",
              "</table>\n",
              "</div>\n",
              "      <button class=\"colab-df-convert\" onclick=\"convertToInteractive('df-b5f3c49d-a4a8-4908-88e9-64e3a0882663')\"\n",
              "              title=\"Convert this dataframe to an interactive table.\"\n",
              "              style=\"display:none;\">\n",
              "        \n",
              "  <svg xmlns=\"http://www.w3.org/2000/svg\" height=\"24px\"viewBox=\"0 0 24 24\"\n",
              "       width=\"24px\">\n",
              "    <path d=\"M0 0h24v24H0V0z\" fill=\"none\"/>\n",
              "    <path d=\"M18.56 5.44l.94 2.06.94-2.06 2.06-.94-2.06-.94-.94-2.06-.94 2.06-2.06.94zm-11 1L8.5 8.5l.94-2.06 2.06-.94-2.06-.94L8.5 2.5l-.94 2.06-2.06.94zm10 10l.94 2.06.94-2.06 2.06-.94-2.06-.94-.94-2.06-.94 2.06-2.06.94z\"/><path d=\"M17.41 7.96l-1.37-1.37c-.4-.4-.92-.59-1.43-.59-.52 0-1.04.2-1.43.59L10.3 9.45l-7.72 7.72c-.78.78-.78 2.05 0 2.83L4 21.41c.39.39.9.59 1.41.59.51 0 1.02-.2 1.41-.59l7.78-7.78 2.81-2.81c.8-.78.8-2.07 0-2.86zM5.41 20L4 18.59l7.72-7.72 1.47 1.35L5.41 20z\"/>\n",
              "  </svg>\n",
              "      </button>\n",
              "      \n",
              "  <style>\n",
              "    .colab-df-container {\n",
              "      display:flex;\n",
              "      flex-wrap:wrap;\n",
              "      gap: 12px;\n",
              "    }\n",
              "\n",
              "    .colab-df-convert {\n",
              "      background-color: #E8F0FE;\n",
              "      border: none;\n",
              "      border-radius: 50%;\n",
              "      cursor: pointer;\n",
              "      display: none;\n",
              "      fill: #1967D2;\n",
              "      height: 32px;\n",
              "      padding: 0 0 0 0;\n",
              "      width: 32px;\n",
              "    }\n",
              "\n",
              "    .colab-df-convert:hover {\n",
              "      background-color: #E2EBFA;\n",
              "      box-shadow: 0px 1px 2px rgba(60, 64, 67, 0.3), 0px 1px 3px 1px rgba(60, 64, 67, 0.15);\n",
              "      fill: #174EA6;\n",
              "    }\n",
              "\n",
              "    [theme=dark] .colab-df-convert {\n",
              "      background-color: #3B4455;\n",
              "      fill: #D2E3FC;\n",
              "    }\n",
              "\n",
              "    [theme=dark] .colab-df-convert:hover {\n",
              "      background-color: #434B5C;\n",
              "      box-shadow: 0px 1px 3px 1px rgba(0, 0, 0, 0.15);\n",
              "      filter: drop-shadow(0px 1px 2px rgba(0, 0, 0, 0.3));\n",
              "      fill: #FFFFFF;\n",
              "    }\n",
              "  </style>\n",
              "\n",
              "      <script>\n",
              "        const buttonEl =\n",
              "          document.querySelector('#df-b5f3c49d-a4a8-4908-88e9-64e3a0882663 button.colab-df-convert');\n",
              "        buttonEl.style.display =\n",
              "          google.colab.kernel.accessAllowed ? 'block' : 'none';\n",
              "\n",
              "        async function convertToInteractive(key) {\n",
              "          const element = document.querySelector('#df-b5f3c49d-a4a8-4908-88e9-64e3a0882663');\n",
              "          const dataTable =\n",
              "            await google.colab.kernel.invokeFunction('convertToInteractive',\n",
              "                                                     [key], {});\n",
              "          if (!dataTable) return;\n",
              "\n",
              "          const docLinkHtml = 'Like what you see? Visit the ' +\n",
              "            '<a target=\"_blank\" href=https://colab.research.google.com/notebooks/data_table.ipynb>data table notebook</a>'\n",
              "            + ' to learn more about interactive tables.';\n",
              "          element.innerHTML = '';\n",
              "          dataTable['output_type'] = 'display_data';\n",
              "          await google.colab.output.renderOutput(dataTable, element);\n",
              "          const docLink = document.createElement('div');\n",
              "          docLink.innerHTML = docLinkHtml;\n",
              "          element.appendChild(docLink);\n",
              "        }\n",
              "      </script>\n",
              "    </div>\n",
              "  </div>\n",
              "  "
            ],
            "text/plain": [
              "                                                                                                                                                                                                                                                                                                                                                                                                                                                                                                                                                                                                                      text\n",
              "0                                                                                                                                                                                                                                                                                                                                                                                                                                                                                 \"$1730 6722 he (qey . ~ 266) “SOL sr Mem won Faunp = py 1°H Spree conn xf Aya “A NALD vor yee ~ PAOLO T Sy uw yr, GP od diz SL ene OL oi\n",
              "1  CO-INVESTIGATOR NAME POSITION/TITLE BIRTHDATE Robert H. McCusker, Jr. Res. Assistant Professor 11-12-54 EDUCATION Institution/ Year ‘Field of Location Degree  Conferred Study The Pennsylvania State Univ. B.S. The Pennsylvania State Univ. M.S. 1980 Physiology The University of Georgia Ph.D. 1985 Foods & Nutr. RESEARCH AND PROFESSIONAL EXPERIENCE 1980-1982 Senior Research Aide, The Pennsylvania state University 1985-1986 Research Fellowship, The University of North Carolina at Chapel Hill, NRSA, NIH Training Grant, Lineberger Comprehensive Cancer Research Center 1986-1988 Research Fellowship..."
            ]
          },
          "metadata": {},
          "execution_count": 13
        }
      ],
      "source": [
        "df_unsup.head(2)"
      ]
    },
    {
      "cell_type": "code",
      "execution_count": null,
      "metadata": {
        "id": "ydjr8R8Xl8Qj",
        "colab": {
          "base_uri": "https://localhost:8080/"
        },
        "outputId": "ab20c2cf-44d2-483b-9d34-33f9afb69f37"
      },
      "outputs": [
        {
          "output_type": "stream",
          "name": "stderr",
          "text": [
            "/usr/local/lib/python3.7/dist-packages/IPython/core/interactiveshell.py:2882: FutureWarning: The error_bad_lines argument has been deprecated and will be removed in a future version.\n",
            "\n",
            "\n",
            "  exec(code_obj, self.user_global_ns, self.user_ns)\n"
          ]
        }
      ],
      "source": [
        "df_val = pd.read_csv(path + 'val.csv', delimiter=',', error_bad_lines=False, index_col=False)"
      ]
    },
    {
      "cell_type": "code",
      "source": [
        "df_val['is_valid'] = True"
      ],
      "metadata": {
        "id": "n-MQrAzygsKQ"
      },
      "execution_count": null,
      "outputs": []
    },
    {
      "cell_type": "code",
      "execution_count": null,
      "metadata": {
        "colab": {
          "base_uri": "https://localhost:8080/",
          "height": 444
        },
        "id": "VGa3dDfUjIUR",
        "outputId": "bd52d35a-1b91-45d6-e1ff-ad7ff7310b7e"
      },
      "outputs": [
        {
          "output_type": "execute_result",
          "data": {
            "text/html": [
              "\n",
              "  <div id=\"df-7dc3b535-7935-4c17-8057-af2f7abfeb52\">\n",
              "    <div class=\"colab-df-container\">\n",
              "      <div>\n",
              "<style scoped>\n",
              "    .dataframe tbody tr th:only-of-type {\n",
              "        vertical-align: middle;\n",
              "    }\n",
              "\n",
              "    .dataframe tbody tr th {\n",
              "        vertical-align: top;\n",
              "    }\n",
              "\n",
              "    .dataframe thead th {\n",
              "        text-align: right;\n",
              "    }\n",
              "</style>\n",
              "<table border=\"1\" class=\"dataframe\">\n",
              "  <thead>\n",
              "    <tr style=\"text-align: right;\">\n",
              "      <th></th>\n",
              "      <th>label</th>\n",
              "      <th>text</th>\n",
              "      <th>is_valid</th>\n",
              "    </tr>\n",
              "  </thead>\n",
              "  <tbody>\n",
              "    <tr>\n",
              "      <th>39995</th>\n",
              "      <td>11</td>\n",
              "      <td>‘a.coweames ‘esocon, PHILIP MORRIS + uannceuen conoraTon VOUCHER “ameonvonaTs TE VOUSREN PREPARED ane ane TESOORTIG EOE F atl Rapesonabe concen sco noe soon ‘aNein ‘Whit KS 67219 F al sooo ROTATE RTO JecSeunmnin 3/92 [roneu conus RETURN TO: WAM oeranruenr BuLBNarLoOR [PHONED \\Tomave ssaucamin ) lon soe e570 EASON FOR REQUEST: ACCOUNTING USE ONLY vewoons________couar___9 cowrntesosaanncenenr ar0xNconPonnteD) VOUCHER TYPE__((-Reg; 2-P9.20M; 4.M; 5C.P; 69.0; 7A) VOUCHERINVOICE DATE ‘BANK—&gt;____ DUE DATES. SEP CHK» _FReouency ALTPAYEE--&gt; 01000 + AMTPCT ‘AuwreRCD—&gt; DESC» UNE002 CORP/ACCT OF Lese...</td>\n",
              "      <td>True</td>\n",
              "    </tr>\n",
              "    <tr>\n",
              "      <th>39996</th>\n",
              "      <td>15</td>\n",
              "      <td>ATION INTIAL MINNESOTA TOBACCO LITIG CONFIDE (B&amp;W) PROTECTED BY. MINNESOTA TOBACCO LITIGATION PROTECTIVE ORDER BRT PLANNING DEPT TEL: aa-7i-222-7979 9.Jun.93 16:55 no.016 P05 « - _ . BAT INDUSTRIES SnterOffice Memo Tor TS Members From: Miss HC Barton Date: June 9, 1993 Subject: _ TSG Mites T ntach nuts ofthe TSG iectiog on Sth May lease note thatthe Septetber meeting wll be fortwo days, Wesneséay 8th and Thuraiay ‘th September, Ut may be bed ontside Wiedsor House, at a location in or near London, 10 be advised as 1000 as posible, and wil inchde dinner on Wesnesday th September. {In sition ...</td>\n",
              "      <td>True</td>\n",
              "    </tr>\n",
              "    <tr>\n",
              "      <th>39997</th>\n",
              "      <td>9</td>\n",
              "      <td>THE WASHINGTON STAR Saturday, August 3, 1968 Clearing the Air TLwas a bold and hopeful stroke for the Federal Trade Commission to urge the end of all cigarette advertising on television, Equally and perhaps even ‘more important is the recent sugges- tion of the American. Cancer Society that smoking be curtailed in program content, The society reports that someone 1s, smoking in 73 percent of movies, 72 per- cent of action-adventure shows, 60 per- cent of dramas and 49 percent of variety programs, with scattered returns among Other types. Oddly, there is no isting for interminable discussio...</td>\n",
              "      <td>True</td>\n",
              "    </tr>\n",
              "    <tr>\n",
              "      <th>39998</th>\n",
              "      <td>15</td>\n",
              "      <td>Bey keke gy 7 Cenc ou rept? MEMORANDUM March 16, 1992 TO: Mr. Charles A. Adamo HA 2 4 92 Dr. Manuel C. Bourlas Dr. James L. Charles / Dr. E. J. (Rick) Guardia 4 Dr. Kenneth S. Houghton Mr. Allen J. Kassman Mr. Robert G. McVicker Mr. Arthur J. Rehberger Dr. Paul G. Roehrig Mr. Danny Strickland 3S FROM: Dr. Charles J. Cante At our February committee meeting, Ken Houghton asked if | could investigate into Corporate and Private programs sponsoring Science and Engineering stimuli in grade schools, secondary schools, colleges and universities. The reason for this request was. so that’ the Commit...</td>\n",
              "      <td>True</td>\n",
              "    </tr>\n",
              "  </tbody>\n",
              "</table>\n",
              "</div>\n",
              "      <button class=\"colab-df-convert\" onclick=\"convertToInteractive('df-7dc3b535-7935-4c17-8057-af2f7abfeb52')\"\n",
              "              title=\"Convert this dataframe to an interactive table.\"\n",
              "              style=\"display:none;\">\n",
              "        \n",
              "  <svg xmlns=\"http://www.w3.org/2000/svg\" height=\"24px\"viewBox=\"0 0 24 24\"\n",
              "       width=\"24px\">\n",
              "    <path d=\"M0 0h24v24H0V0z\" fill=\"none\"/>\n",
              "    <path d=\"M18.56 5.44l.94 2.06.94-2.06 2.06-.94-2.06-.94-.94-2.06-.94 2.06-2.06.94zm-11 1L8.5 8.5l.94-2.06 2.06-.94-2.06-.94L8.5 2.5l-.94 2.06-2.06.94zm10 10l.94 2.06.94-2.06 2.06-.94-2.06-.94-.94-2.06-.94 2.06-2.06.94z\"/><path d=\"M17.41 7.96l-1.37-1.37c-.4-.4-.92-.59-1.43-.59-.52 0-1.04.2-1.43.59L10.3 9.45l-7.72 7.72c-.78.78-.78 2.05 0 2.83L4 21.41c.39.39.9.59 1.41.59.51 0 1.02-.2 1.41-.59l7.78-7.78 2.81-2.81c.8-.78.8-2.07 0-2.86zM5.41 20L4 18.59l7.72-7.72 1.47 1.35L5.41 20z\"/>\n",
              "  </svg>\n",
              "      </button>\n",
              "      \n",
              "  <style>\n",
              "    .colab-df-container {\n",
              "      display:flex;\n",
              "      flex-wrap:wrap;\n",
              "      gap: 12px;\n",
              "    }\n",
              "\n",
              "    .colab-df-convert {\n",
              "      background-color: #E8F0FE;\n",
              "      border: none;\n",
              "      border-radius: 50%;\n",
              "      cursor: pointer;\n",
              "      display: none;\n",
              "      fill: #1967D2;\n",
              "      height: 32px;\n",
              "      padding: 0 0 0 0;\n",
              "      width: 32px;\n",
              "    }\n",
              "\n",
              "    .colab-df-convert:hover {\n",
              "      background-color: #E2EBFA;\n",
              "      box-shadow: 0px 1px 2px rgba(60, 64, 67, 0.3), 0px 1px 3px 1px rgba(60, 64, 67, 0.15);\n",
              "      fill: #174EA6;\n",
              "    }\n",
              "\n",
              "    [theme=dark] .colab-df-convert {\n",
              "      background-color: #3B4455;\n",
              "      fill: #D2E3FC;\n",
              "    }\n",
              "\n",
              "    [theme=dark] .colab-df-convert:hover {\n",
              "      background-color: #434B5C;\n",
              "      box-shadow: 0px 1px 3px 1px rgba(0, 0, 0, 0.15);\n",
              "      filter: drop-shadow(0px 1px 2px rgba(0, 0, 0, 0.3));\n",
              "      fill: #FFFFFF;\n",
              "    }\n",
              "  </style>\n",
              "\n",
              "      <script>\n",
              "        const buttonEl =\n",
              "          document.querySelector('#df-7dc3b535-7935-4c17-8057-af2f7abfeb52 button.colab-df-convert');\n",
              "        buttonEl.style.display =\n",
              "          google.colab.kernel.accessAllowed ? 'block' : 'none';\n",
              "\n",
              "        async function convertToInteractive(key) {\n",
              "          const element = document.querySelector('#df-7dc3b535-7935-4c17-8057-af2f7abfeb52');\n",
              "          const dataTable =\n",
              "            await google.colab.kernel.invokeFunction('convertToInteractive',\n",
              "                                                     [key], {});\n",
              "          if (!dataTable) return;\n",
              "\n",
              "          const docLinkHtml = 'Like what you see? Visit the ' +\n",
              "            '<a target=\"_blank\" href=https://colab.research.google.com/notebooks/data_table.ipynb>data table notebook</a>'\n",
              "            + ' to learn more about interactive tables.';\n",
              "          element.innerHTML = '';\n",
              "          dataTable['output_type'] = 'display_data';\n",
              "          await google.colab.output.renderOutput(dataTable, element);\n",
              "          const docLink = document.createElement('div');\n",
              "          docLink.innerHTML = docLinkHtml;\n",
              "          element.appendChild(docLink);\n",
              "        }\n",
              "      </script>\n",
              "    </div>\n",
              "  </div>\n",
              "  "
            ],
            "text/plain": [
              "       label  \\\n",
              "39995     11   \n",
              "39996     15   \n",
              "39997      9   \n",
              "39998     15   \n",
              "\n",
              "                                                                                                                                                                                                                                                                                                                                                                                                                                                                                                                                                                                                                          text  \\\n",
              "39995  ‘a.coweames ‘esocon, PHILIP MORRIS + uannceuen conoraTon VOUCHER “ameonvonaTs TE VOUSREN PREPARED ane ane TESOORTIG EOE F atl Rapesonabe concen sco noe soon ‘aNein ‘Whit KS 67219 F al sooo ROTATE RTO JecSeunmnin 3/92 [roneu conus RETURN TO: WAM oeranruenr BuLBNarLoOR [PHONED \\Tomave ssaucamin ) lon soe e570 EASON FOR REQUEST: ACCOUNTING USE ONLY vewoons________couar___9 cowrntesosaanncenenr ar0xNconPonnteD) VOUCHER TYPE__((-Reg; 2-P9.20M; 4.M; 5C.P; 69.0; 7A) VOUCHERINVOICE DATE ‘BANK—>____ DUE DATES. SEP CHK» _FReouency ALTPAYEE--> 01000 + AMTPCT ‘AuwreRCD—> DESC» UNE002 CORP/ACCT OF Lese...   \n",
              "39996  ATION INTIAL MINNESOTA TOBACCO LITIG CONFIDE (B&W) PROTECTED BY. MINNESOTA TOBACCO LITIGATION PROTECTIVE ORDER BRT PLANNING DEPT TEL: aa-7i-222-7979 9.Jun.93 16:55 no.016 P05 « - _ . BAT INDUSTRIES SnterOffice Memo Tor TS Members From: Miss HC Barton Date: June 9, 1993 Subject: _ TSG Mites T ntach nuts ofthe TSG iectiog on Sth May lease note thatthe Septetber meeting wll be fortwo days, Wesneséay 8th and Thuraiay ‘th September, Ut may be bed ontside Wiedsor House, at a location in or near London, 10 be advised as 1000 as posible, and wil inchde dinner on Wesnesday th September. {In sition ...   \n",
              "39997  THE WASHINGTON STAR Saturday, August 3, 1968 Clearing the Air TLwas a bold and hopeful stroke for the Federal Trade Commission to urge the end of all cigarette advertising on television, Equally and perhaps even ‘more important is the recent sugges- tion of the American. Cancer Society that smoking be curtailed in program content, The society reports that someone 1s, smoking in 73 percent of movies, 72 per- cent of action-adventure shows, 60 per- cent of dramas and 49 percent of variety programs, with scattered returns among Other types. Oddly, there is no isting for interminable discussio...   \n",
              "39998  Bey keke gy 7 Cenc ou rept? MEMORANDUM March 16, 1992 TO: Mr. Charles A. Adamo HA 2 4 92 Dr. Manuel C. Bourlas Dr. James L. Charles / Dr. E. J. (Rick) Guardia 4 Dr. Kenneth S. Houghton Mr. Allen J. Kassman Mr. Robert G. McVicker Mr. Arthur J. Rehberger Dr. Paul G. Roehrig Mr. Danny Strickland 3S FROM: Dr. Charles J. Cante At our February committee meeting, Ken Houghton asked if | could investigate into Corporate and Private programs sponsoring Science and Engineering stimuli in grade schools, secondary schools, colleges and universities. The reason for this request was. so that’ the Commit...   \n",
              "\n",
              "       is_valid  \n",
              "39995      True  \n",
              "39996      True  \n",
              "39997      True  \n",
              "39998      True  "
            ]
          },
          "metadata": {},
          "execution_count": 16
        }
      ],
      "source": [
        "df_val.tail(4)"
      ]
    },
    {
      "cell_type": "code",
      "execution_count": null,
      "metadata": {
        "id": "kQXZ2hrlJH6l"
      },
      "outputs": [],
      "source": [
        "df = pd.concat([df_train, df_val],ignore_index=True)"
      ]
    },
    {
      "cell_type": "code",
      "execution_count": null,
      "metadata": {
        "colab": {
          "base_uri": "https://localhost:8080/"
        },
        "id": "oVKzPcHEJNVJ",
        "outputId": "b15235b8-5167-4967-8999-06d3a1d1bf5f"
      },
      "outputs": [
        {
          "output_type": "execute_result",
          "data": {
            "text/plain": [
              "((359998, 3), (319999, 3), (39998, 2), (39999, 3))"
            ]
          },
          "metadata": {},
          "execution_count": 18
        }
      ],
      "source": [
        "df.shape, df_train.shape, df_test.shape, df_val.shape"
      ]
    },
    {
      "cell_type": "code",
      "execution_count": null,
      "metadata": {
        "colab": {
          "base_uri": "https://localhost:8080/",
          "height": 1000
        },
        "id": "kMKFaislR7-d",
        "outputId": "fbf4ed20-d80c-4859-d097-3838ffa85762"
      },
      "outputs": [
        {
          "output_type": "execute_result",
          "data": {
            "text/html": [
              "\n",
              "  <div id=\"df-f633ef60-5f0a-4a18-8ee2-b0e4615e107d\">\n",
              "    <div class=\"colab-df-container\">\n",
              "      <div>\n",
              "<style scoped>\n",
              "    .dataframe tbody tr th:only-of-type {\n",
              "        vertical-align: middle;\n",
              "    }\n",
              "\n",
              "    .dataframe tbody tr th {\n",
              "        vertical-align: top;\n",
              "    }\n",
              "\n",
              "    .dataframe thead th {\n",
              "        text-align: right;\n",
              "    }\n",
              "</style>\n",
              "<table border=\"1\" class=\"dataframe\">\n",
              "  <thead>\n",
              "    <tr style=\"text-align: right;\">\n",
              "      <th></th>\n",
              "      <th>label</th>\n",
              "      <th>text</th>\n",
              "      <th>is_valid</th>\n",
              "    </tr>\n",
              "  </thead>\n",
              "  <tbody>\n",
              "    <tr>\n",
              "      <th>0</th>\n",
              "      <td>1</td>\n",
              "      <td>7002 00 OF (2 DOCUMENT CLEARANCE SHEET P (For Original Contracts Only) 2004-00-00 CONTRACT # CONTRACT SUBJECT: \\TCHBL 1 COMPANY: |. BEI INS BRAND(s): _CAMEL TOTAL COST: _$528,000 CURRENT YEAR EFO: _($528,000: BRIEF DESCRIPTION: _D. D. BEAN WILL PRODUCE AND DISTRIBUTE UP TO 264,000 CASES _ OF PRINTED CAMEL ADVERTISING ON MATCHBOOKS, PROGRAM] G/L CODE: 04-73-4600-8215-855 LINE ITEM: 200737-072402 *IMPLEMENTOR: _S. B. DRISKE! **BRAND MANAGEMENT: __E. C. LEARY. TRVOICE APPROVAL AUTHORITY INVOICE APPROVAL AUTHORITY REVIEW ROUTING: DEPARTMENT = ____NAME ___swqwarure __DATE 7G 7-242 ave wouteD FI...</td>\n",
              "      <td>False</td>\n",
              "    </tr>\n",
              "    <tr>\n",
              "      <th>1</th>\n",
              "      <td>7</td>\n",
              "      <td>‘CABARRUS COUNTY EFFECTIVE DATE: 03/08/93, MARLBORO 100 REGULAR SP RED STANOARO. PRODUCTION BRAND CODE-00540 (S10) CIoARETTE LENGTH =: 99.5, mM FTOTAR «16.0 Movolor 15.5 = 17.4 ToBAcco ROD ciRcUM, —: 24.80 va TOBACCO ROD LENGTH reo vt FicTER LeneTh ans 14 Tipp ine LENGTH 311500 vot TOTAL R.T.0, leo aM, W20 DILUTION TARGET 14.0 +/- 5.0 % TIPPING PAPER /USE UP: 631M X 3000! coRK DGL Eo-T01 12-4l-B LASER PERF. REPLACE WITH 631M X 3000M CORK DGL_ «KE GSRH75712-500-A LASER PERF. GLUE ROLLER/ | REFER TO ENGINEERINGS LUE ROLLER VARIABLE PARTS CATALOG = TIPPING INFORMATION + BY TYPE=TIPPER AND CIG...</td>\n",
              "      <td>False</td>\n",
              "    </tr>\n",
              "    <tr>\n",
              "      <th>2</th>\n",
              "      <td>10</td>\n",
              "      <td>4 LEO BURNETT U.S.A. : ADVERTISING . NEWSPAPER ESTIMATE RECKP ~ PNOt PERIOD DATE 03/08/81 01/01/80 70 12/31/80 PAGE 1 CLIENT: P.M. INC. OFFICE: 10 DESC: 703A MARLBORO RED ROP EST NO: 0008 REVISES EST DTD 02/08/91 cross. Ross. Gross PRopucT PeRTOD AMOUNT CHANGE LESS C/D tO-MARLBORO YAN 1990 8,624.00 8,624.00 Fee 25,872.00 28,872.00 mar 68,982.00 8,992.00 QUARTER + 103,488.00 103488 .00 AeR 98,403.06 88,403.06 may 71,868.00 71,868.00 UN 43, 120.00 431 120.00 QUARTER 2 203,301.06 203/391.06 ul 32,472.00 32,472.00 aug 57,024.00 57,024.00 SEP 57,042.82 57,042.82 QuaRTER 3 146,506.82 146,808.82 ...</td>\n",
              "      <td>False</td>\n",
              "    </tr>\n",
              "    <tr>\n",
              "      <th>3</th>\n",
              "      <td>3</td>\n",
              "      <td>1 2. OFF, This mest oe 4 (okel 2.000 FF ne my ram EB 4 pack or'1 BMS reli “E ee Th sein</td>\n",
              "      <td>False</td>\n",
              "    </tr>\n",
              "    <tr>\n",
              "      <th>4</th>\n",
              "      <td>14</td>\n",
              "      <td>CURRICULUM VITAE: Name: tzhack Polacheck, Ph.D. Position Title: Assoc. Prof, EDUCATION: Institution and Location Degree Year Field of Study Hebrew University Jerusalem, Israel BSe 1969 Bichemisiry &amp; Microbiology Hebrew University Jerusalem, Israel MSc. 1971 Microbiology Hebrew University Jerusalem, Israel PhD. 1977 Microbiology NIAMD, NIH, MD, USA. Post. Doc. 1978 Microbivlony NIAID, NIH, MD, USA Post Dec. 1981 Medical Mycology Professional Experience: 1972-1976: Hebrew University Jerusalem, Israel ,Assistant. 1973: Universite de Liege, Liege, Belgium EMBO Short-term Fellowship, Research f...</td>\n",
              "      <td>False</td>\n",
              "    </tr>\n",
              "    <tr>\n",
              "      <th>...</th>\n",
              "      <td>...</td>\n",
              "      <td>...</td>\n",
              "      <td>...</td>\n",
              "    </tr>\n",
              "    <tr>\n",
              "      <th>359993</th>\n",
              "      <td>10</td>\n",
              "      <td>The Tobacco Institute Industry Support of Biomedical Research 1981 INSTITUTION TOTAL ALABAMA University of Southern Alabama $46,619 ARIZONA Arizona Health Sciences Center 5,500 SALIORNIA California Biomedical Research Foundation 75,000 Huntington Memorial Institute 97,955 San Diego State University 76,175 Scripps Clinic &amp; Research Foundation 84,132 Stanford University 59,570 University of California Berkeley 76,934 University of California Davis 87,400 University of California Irvine 50,000 University of California San Diego 3875192 University of California San Francisco 506,650 University...</td>\n",
              "      <td>True</td>\n",
              "    </tr>\n",
              "    <tr>\n",
              "      <th>359994</th>\n",
              "      <td>11</td>\n",
              "      <td>‘a.coweames ‘esocon, PHILIP MORRIS + uannceuen conoraTon VOUCHER “ameonvonaTs TE VOUSREN PREPARED ane ane TESOORTIG EOE F atl Rapesonabe concen sco noe soon ‘aNein ‘Whit KS 67219 F al sooo ROTATE RTO JecSeunmnin 3/92 [roneu conus RETURN TO: WAM oeranruenr BuLBNarLoOR [PHONED \\Tomave ssaucamin ) lon soe e570 EASON FOR REQUEST: ACCOUNTING USE ONLY vewoons________couar___9 cowrntesosaanncenenr ar0xNconPonnteD) VOUCHER TYPE__((-Reg; 2-P9.20M; 4.M; 5C.P; 69.0; 7A) VOUCHERINVOICE DATE ‘BANK—&gt;____ DUE DATES. SEP CHK» _FReouency ALTPAYEE--&gt; 01000 + AMTPCT ‘AuwreRCD—&gt; DESC» UNE002 CORP/ACCT OF Lese...</td>\n",
              "      <td>True</td>\n",
              "    </tr>\n",
              "    <tr>\n",
              "      <th>359995</th>\n",
              "      <td>15</td>\n",
              "      <td>ATION INTIAL MINNESOTA TOBACCO LITIG CONFIDE (B&amp;W) PROTECTED BY. MINNESOTA TOBACCO LITIGATION PROTECTIVE ORDER BRT PLANNING DEPT TEL: aa-7i-222-7979 9.Jun.93 16:55 no.016 P05 « - _ . BAT INDUSTRIES SnterOffice Memo Tor TS Members From: Miss HC Barton Date: June 9, 1993 Subject: _ TSG Mites T ntach nuts ofthe TSG iectiog on Sth May lease note thatthe Septetber meeting wll be fortwo days, Wesneséay 8th and Thuraiay ‘th September, Ut may be bed ontside Wiedsor House, at a location in or near London, 10 be advised as 1000 as posible, and wil inchde dinner on Wesnesday th September. {In sition ...</td>\n",
              "      <td>True</td>\n",
              "    </tr>\n",
              "    <tr>\n",
              "      <th>359996</th>\n",
              "      <td>9</td>\n",
              "      <td>THE WASHINGTON STAR Saturday, August 3, 1968 Clearing the Air TLwas a bold and hopeful stroke for the Federal Trade Commission to urge the end of all cigarette advertising on television, Equally and perhaps even ‘more important is the recent sugges- tion of the American. Cancer Society that smoking be curtailed in program content, The society reports that someone 1s, smoking in 73 percent of movies, 72 per- cent of action-adventure shows, 60 per- cent of dramas and 49 percent of variety programs, with scattered returns among Other types. Oddly, there is no isting for interminable discussio...</td>\n",
              "      <td>True</td>\n",
              "    </tr>\n",
              "    <tr>\n",
              "      <th>359997</th>\n",
              "      <td>15</td>\n",
              "      <td>Bey keke gy 7 Cenc ou rept? MEMORANDUM March 16, 1992 TO: Mr. Charles A. Adamo HA 2 4 92 Dr. Manuel C. Bourlas Dr. James L. Charles / Dr. E. J. (Rick) Guardia 4 Dr. Kenneth S. Houghton Mr. Allen J. Kassman Mr. Robert G. McVicker Mr. Arthur J. Rehberger Dr. Paul G. Roehrig Mr. Danny Strickland 3S FROM: Dr. Charles J. Cante At our February committee meeting, Ken Houghton asked if | could investigate into Corporate and Private programs sponsoring Science and Engineering stimuli in grade schools, secondary schools, colleges and universities. The reason for this request was. so that’ the Commit...</td>\n",
              "      <td>True</td>\n",
              "    </tr>\n",
              "  </tbody>\n",
              "</table>\n",
              "<p>359998 rows × 3 columns</p>\n",
              "</div>\n",
              "      <button class=\"colab-df-convert\" onclick=\"convertToInteractive('df-f633ef60-5f0a-4a18-8ee2-b0e4615e107d')\"\n",
              "              title=\"Convert this dataframe to an interactive table.\"\n",
              "              style=\"display:none;\">\n",
              "        \n",
              "  <svg xmlns=\"http://www.w3.org/2000/svg\" height=\"24px\"viewBox=\"0 0 24 24\"\n",
              "       width=\"24px\">\n",
              "    <path d=\"M0 0h24v24H0V0z\" fill=\"none\"/>\n",
              "    <path d=\"M18.56 5.44l.94 2.06.94-2.06 2.06-.94-2.06-.94-.94-2.06-.94 2.06-2.06.94zm-11 1L8.5 8.5l.94-2.06 2.06-.94-2.06-.94L8.5 2.5l-.94 2.06-2.06.94zm10 10l.94 2.06.94-2.06 2.06-.94-2.06-.94-.94-2.06-.94 2.06-2.06.94z\"/><path d=\"M17.41 7.96l-1.37-1.37c-.4-.4-.92-.59-1.43-.59-.52 0-1.04.2-1.43.59L10.3 9.45l-7.72 7.72c-.78.78-.78 2.05 0 2.83L4 21.41c.39.39.9.59 1.41.59.51 0 1.02-.2 1.41-.59l7.78-7.78 2.81-2.81c.8-.78.8-2.07 0-2.86zM5.41 20L4 18.59l7.72-7.72 1.47 1.35L5.41 20z\"/>\n",
              "  </svg>\n",
              "      </button>\n",
              "      \n",
              "  <style>\n",
              "    .colab-df-container {\n",
              "      display:flex;\n",
              "      flex-wrap:wrap;\n",
              "      gap: 12px;\n",
              "    }\n",
              "\n",
              "    .colab-df-convert {\n",
              "      background-color: #E8F0FE;\n",
              "      border: none;\n",
              "      border-radius: 50%;\n",
              "      cursor: pointer;\n",
              "      display: none;\n",
              "      fill: #1967D2;\n",
              "      height: 32px;\n",
              "      padding: 0 0 0 0;\n",
              "      width: 32px;\n",
              "    }\n",
              "\n",
              "    .colab-df-convert:hover {\n",
              "      background-color: #E2EBFA;\n",
              "      box-shadow: 0px 1px 2px rgba(60, 64, 67, 0.3), 0px 1px 3px 1px rgba(60, 64, 67, 0.15);\n",
              "      fill: #174EA6;\n",
              "    }\n",
              "\n",
              "    [theme=dark] .colab-df-convert {\n",
              "      background-color: #3B4455;\n",
              "      fill: #D2E3FC;\n",
              "    }\n",
              "\n",
              "    [theme=dark] .colab-df-convert:hover {\n",
              "      background-color: #434B5C;\n",
              "      box-shadow: 0px 1px 3px 1px rgba(0, 0, 0, 0.15);\n",
              "      filter: drop-shadow(0px 1px 2px rgba(0, 0, 0, 0.3));\n",
              "      fill: #FFFFFF;\n",
              "    }\n",
              "  </style>\n",
              "\n",
              "      <script>\n",
              "        const buttonEl =\n",
              "          document.querySelector('#df-f633ef60-5f0a-4a18-8ee2-b0e4615e107d button.colab-df-convert');\n",
              "        buttonEl.style.display =\n",
              "          google.colab.kernel.accessAllowed ? 'block' : 'none';\n",
              "\n",
              "        async function convertToInteractive(key) {\n",
              "          const element = document.querySelector('#df-f633ef60-5f0a-4a18-8ee2-b0e4615e107d');\n",
              "          const dataTable =\n",
              "            await google.colab.kernel.invokeFunction('convertToInteractive',\n",
              "                                                     [key], {});\n",
              "          if (!dataTable) return;\n",
              "\n",
              "          const docLinkHtml = 'Like what you see? Visit the ' +\n",
              "            '<a target=\"_blank\" href=https://colab.research.google.com/notebooks/data_table.ipynb>data table notebook</a>'\n",
              "            + ' to learn more about interactive tables.';\n",
              "          element.innerHTML = '';\n",
              "          dataTable['output_type'] = 'display_data';\n",
              "          await google.colab.output.renderOutput(dataTable, element);\n",
              "          const docLink = document.createElement('div');\n",
              "          docLink.innerHTML = docLinkHtml;\n",
              "          element.appendChild(docLink);\n",
              "        }\n",
              "      </script>\n",
              "    </div>\n",
              "  </div>\n",
              "  "
            ],
            "text/plain": [
              "        label  \\\n",
              "0           1   \n",
              "1           7   \n",
              "2          10   \n",
              "3           3   \n",
              "4          14   \n",
              "...       ...   \n",
              "359993     10   \n",
              "359994     11   \n",
              "359995     15   \n",
              "359996      9   \n",
              "359997     15   \n",
              "\n",
              "                                                                                                                                                                                                                                                                                                                                                                                                                                                                                                                                                                                                                           text  \\\n",
              "0       7002 00 OF (2 DOCUMENT CLEARANCE SHEET P (For Original Contracts Only) 2004-00-00 CONTRACT # CONTRACT SUBJECT: \\TCHBL 1 COMPANY: |. BEI INS BRAND(s): _CAMEL TOTAL COST: _$528,000 CURRENT YEAR EFO: _($528,000: BRIEF DESCRIPTION: _D. D. BEAN WILL PRODUCE AND DISTRIBUTE UP TO 264,000 CASES _ OF PRINTED CAMEL ADVERTISING ON MATCHBOOKS, PROGRAM] G/L CODE: 04-73-4600-8215-855 LINE ITEM: 200737-072402 *IMPLEMENTOR: _S. B. DRISKE! **BRAND MANAGEMENT: __E. C. LEARY. TRVOICE APPROVAL AUTHORITY INVOICE APPROVAL AUTHORITY REVIEW ROUTING: DEPARTMENT = ____NAME ___swqwarure __DATE 7G 7-242 ave wouteD FI...   \n",
              "1       ‘CABARRUS COUNTY EFFECTIVE DATE: 03/08/93, MARLBORO 100 REGULAR SP RED STANOARO. PRODUCTION BRAND CODE-00540 (S10) CIoARETTE LENGTH =: 99.5, mM FTOTAR «16.0 Movolor 15.5 = 17.4 ToBAcco ROD ciRcUM, —: 24.80 va TOBACCO ROD LENGTH reo vt FicTER LeneTh ans 14 Tipp ine LENGTH 311500 vot TOTAL R.T.0, leo aM, W20 DILUTION TARGET 14.0 +/- 5.0 % TIPPING PAPER /USE UP: 631M X 3000! coRK DGL Eo-T01 12-4l-B LASER PERF. REPLACE WITH 631M X 3000M CORK DGL_ «KE GSRH75712-500-A LASER PERF. GLUE ROLLER/ | REFER TO ENGINEERINGS LUE ROLLER VARIABLE PARTS CATALOG = TIPPING INFORMATION + BY TYPE=TIPPER AND CIG...   \n",
              "2       4 LEO BURNETT U.S.A. : ADVERTISING . NEWSPAPER ESTIMATE RECKP ~ PNOt PERIOD DATE 03/08/81 01/01/80 70 12/31/80 PAGE 1 CLIENT: P.M. INC. OFFICE: 10 DESC: 703A MARLBORO RED ROP EST NO: 0008 REVISES EST DTD 02/08/91 cross. Ross. Gross PRopucT PeRTOD AMOUNT CHANGE LESS C/D tO-MARLBORO YAN 1990 8,624.00 8,624.00 Fee 25,872.00 28,872.00 mar 68,982.00 8,992.00 QUARTER + 103,488.00 103488 .00 AeR 98,403.06 88,403.06 may 71,868.00 71,868.00 UN 43, 120.00 431 120.00 QUARTER 2 203,301.06 203/391.06 ul 32,472.00 32,472.00 aug 57,024.00 57,024.00 SEP 57,042.82 57,042.82 QuaRTER 3 146,506.82 146,808.82 ...   \n",
              "3                                                                                                                                                                                                                                                                                                                                                                                                                                                                                                                                       1 2. OFF, This mest oe 4 (okel 2.000 FF ne my ram EB 4 pack or'1 BMS reli “E ee Th sein   \n",
              "4       CURRICULUM VITAE: Name: tzhack Polacheck, Ph.D. Position Title: Assoc. Prof, EDUCATION: Institution and Location Degree Year Field of Study Hebrew University Jerusalem, Israel BSe 1969 Bichemisiry & Microbiology Hebrew University Jerusalem, Israel MSc. 1971 Microbiology Hebrew University Jerusalem, Israel PhD. 1977 Microbiology NIAMD, NIH, MD, USA. Post. Doc. 1978 Microbivlony NIAID, NIH, MD, USA Post Dec. 1981 Medical Mycology Professional Experience: 1972-1976: Hebrew University Jerusalem, Israel ,Assistant. 1973: Universite de Liege, Liege, Belgium EMBO Short-term Fellowship, Research f...   \n",
              "...                                                                                                                                                                                                                                                                                                                                                                                                                                                                                                                                                                                                                         ...   \n",
              "359993  The Tobacco Institute Industry Support of Biomedical Research 1981 INSTITUTION TOTAL ALABAMA University of Southern Alabama $46,619 ARIZONA Arizona Health Sciences Center 5,500 SALIORNIA California Biomedical Research Foundation 75,000 Huntington Memorial Institute 97,955 San Diego State University 76,175 Scripps Clinic & Research Foundation 84,132 Stanford University 59,570 University of California Berkeley 76,934 University of California Davis 87,400 University of California Irvine 50,000 University of California San Diego 3875192 University of California San Francisco 506,650 University...   \n",
              "359994  ‘a.coweames ‘esocon, PHILIP MORRIS + uannceuen conoraTon VOUCHER “ameonvonaTs TE VOUSREN PREPARED ane ane TESOORTIG EOE F atl Rapesonabe concen sco noe soon ‘aNein ‘Whit KS 67219 F al sooo ROTATE RTO JecSeunmnin 3/92 [roneu conus RETURN TO: WAM oeranruenr BuLBNarLoOR [PHONED \\Tomave ssaucamin ) lon soe e570 EASON FOR REQUEST: ACCOUNTING USE ONLY vewoons________couar___9 cowrntesosaanncenenr ar0xNconPonnteD) VOUCHER TYPE__((-Reg; 2-P9.20M; 4.M; 5C.P; 69.0; 7A) VOUCHERINVOICE DATE ‘BANK—>____ DUE DATES. SEP CHK» _FReouency ALTPAYEE--> 01000 + AMTPCT ‘AuwreRCD—> DESC» UNE002 CORP/ACCT OF Lese...   \n",
              "359995  ATION INTIAL MINNESOTA TOBACCO LITIG CONFIDE (B&W) PROTECTED BY. MINNESOTA TOBACCO LITIGATION PROTECTIVE ORDER BRT PLANNING DEPT TEL: aa-7i-222-7979 9.Jun.93 16:55 no.016 P05 « - _ . BAT INDUSTRIES SnterOffice Memo Tor TS Members From: Miss HC Barton Date: June 9, 1993 Subject: _ TSG Mites T ntach nuts ofthe TSG iectiog on Sth May lease note thatthe Septetber meeting wll be fortwo days, Wesneséay 8th and Thuraiay ‘th September, Ut may be bed ontside Wiedsor House, at a location in or near London, 10 be advised as 1000 as posible, and wil inchde dinner on Wesnesday th September. {In sition ...   \n",
              "359996  THE WASHINGTON STAR Saturday, August 3, 1968 Clearing the Air TLwas a bold and hopeful stroke for the Federal Trade Commission to urge the end of all cigarette advertising on television, Equally and perhaps even ‘more important is the recent sugges- tion of the American. Cancer Society that smoking be curtailed in program content, The society reports that someone 1s, smoking in 73 percent of movies, 72 per- cent of action-adventure shows, 60 per- cent of dramas and 49 percent of variety programs, with scattered returns among Other types. Oddly, there is no isting for interminable discussio...   \n",
              "359997  Bey keke gy 7 Cenc ou rept? MEMORANDUM March 16, 1992 TO: Mr. Charles A. Adamo HA 2 4 92 Dr. Manuel C. Bourlas Dr. James L. Charles / Dr. E. J. (Rick) Guardia 4 Dr. Kenneth S. Houghton Mr. Allen J. Kassman Mr. Robert G. McVicker Mr. Arthur J. Rehberger Dr. Paul G. Roehrig Mr. Danny Strickland 3S FROM: Dr. Charles J. Cante At our February committee meeting, Ken Houghton asked if | could investigate into Corporate and Private programs sponsoring Science and Engineering stimuli in grade schools, secondary schools, colleges and universities. The reason for this request was. so that’ the Commit...   \n",
              "\n",
              "        is_valid  \n",
              "0          False  \n",
              "1          False  \n",
              "2          False  \n",
              "3          False  \n",
              "4          False  \n",
              "...          ...  \n",
              "359993      True  \n",
              "359994      True  \n",
              "359995      True  \n",
              "359996      True  \n",
              "359997      True  \n",
              "\n",
              "[359998 rows x 3 columns]"
            ]
          },
          "metadata": {},
          "execution_count": 19
        }
      ],
      "source": [
        "df"
      ]
    },
    {
      "cell_type": "markdown",
      "metadata": {
        "id": "bY4v5mjtPfun"
      },
      "source": [
        "## Create DataLoader"
      ]
    },
    {
      "cell_type": "code",
      "execution_count": null,
      "metadata": {
        "id": "vOx33LAtQKY1"
      },
      "outputs": [],
      "source": [
        "def get_features(r):\n",
        "\n",
        "  return r['text']\n",
        "\n",
        "def get_labels(r):\n",
        "\n",
        "  return r['label']"
      ]
    },
    {
      "cell_type": "code",
      "execution_count": null,
      "metadata": {
        "colab": {
          "base_uri": "https://localhost:8080/"
        },
        "id": "ubSi_Bmdsl7K",
        "outputId": "3c34a5c6-3b60-4977-f265-17e04effd57c"
      },
      "outputs": [
        {
          "output_type": "execute_result",
          "data": {
            "text/plain": [
              "Index(['label', 'text', 'is_valid'], dtype='object')"
            ]
          },
          "metadata": {},
          "execution_count": 21
        }
      ],
      "source": [
        "df_train.keys()"
      ]
    },
    {
      "cell_type": "code",
      "source": [
        "df_train.label.value_counts(), df_val.label.value_counts()"
      ],
      "metadata": {
        "colab": {
          "base_uri": "https://localhost:8080/"
        },
        "id": "Y6MdfOEx7hjd",
        "outputId": "3931a176-a1b1-4aee-855c-8988c15efcf3"
      },
      "execution_count": null,
      "outputs": [
        {
          "output_type": "execute_result",
          "data": {
            "text/plain": [
              "(0     20144\n",
              " 8     20068\n",
              " 13    20066\n",
              " 10    20054\n",
              " 14    20054\n",
              " 3     20034\n",
              " 9     20007\n",
              " 4     19998\n",
              " 12    19985\n",
              " 15    19976\n",
              " 7     19956\n",
              " 11    19955\n",
              " 2     19940\n",
              " 1     19936\n",
              " 5     19917\n",
              " 6     19909\n",
              " Name: label, dtype: int64, 11    2575\n",
              " 1     2537\n",
              " 15    2533\n",
              " 7     2531\n",
              " 2     2530\n",
              " 6     2526\n",
              " 9     2526\n",
              " 4     2522\n",
              " 13    2517\n",
              " 5     2508\n",
              " 10    2485\n",
              " 12    2468\n",
              " 8     2451\n",
              " 3     2434\n",
              " 0     2430\n",
              " 14    2426\n",
              " Name: label, dtype: int64)"
            ]
          },
          "metadata": {},
          "execution_count": 22
        }
      ]
    },
    {
      "cell_type": "code",
      "execution_count": null,
      "metadata": {
        "colab": {
          "base_uri": "https://localhost:8080/",
          "height": 17
        },
        "id": "I2zEJW0stI2m",
        "outputId": "7b004415-a936-4007-da7f-2a643931ae84"
      },
      "outputs": [
        {
          "output_type": "display_data",
          "data": {
            "text/html": [
              ""
            ],
            "text/plain": [
              "<IPython.core.display.HTML object>"
            ]
          },
          "metadata": {}
        }
      ],
      "source": [
        "dblock_train = DataBlock(\n",
        "    blocks=(TextBlock.from_df(text_cols=['text'], seq_len=72), CategoryBlock),\n",
        "            get_x=get_features, \n",
        "            get_y=get_labels,\n",
        "            splitter = ColSplitter(col='is_valid'))\n",
        "            \n",
        "\n",
        "dls = dblock_train.dataloaders(df, bs=128)\n",
        "#dls.show_batch(max_n=2)"
      ]
    },
    {
      "cell_type": "markdown",
      "metadata": {
        "id": "MClnyCFIRQsS"
      },
      "source": [
        "## Classification Model"
      ]
    },
    {
      "cell_type": "code",
      "source": [
        "now = datetime.today().strftime('%Y-%m-%d-%H:%M:%S')"
      ],
      "metadata": {
        "id": "weofvPoYBC4-"
      },
      "execution_count": null,
      "outputs": []
    },
    {
      "cell_type": "code",
      "source": [
        "# checkpoint \n",
        "cbs=[SaveModelCallback()]"
      ],
      "metadata": {
        "id": "-g0vBjGUAK9u"
      },
      "execution_count": null,
      "outputs": []
    },
    {
      "cell_type": "code",
      "execution_count": null,
      "metadata": {
        "id": "yFi9cVezirz9",
        "colab": {
          "base_uri": "https://localhost:8080/",
          "height": 37
        },
        "outputId": "3dc23c33-8f66-48e0-b1f2-8e83a6c6fce1"
      },
      "outputs": [
        {
          "output_type": "display_data",
          "data": {
            "text/html": [
              "\n",
              "    <div>\n",
              "        <style>\n",
              "            /* Turns off some styling */\n",
              "            progress {\n",
              "                /* gets rid of default border in Firefox and Opera. */\n",
              "                border: none;\n",
              "                /* Needs to be in here for Safari polyfill so background images work as expected. */\n",
              "                background-size: auto;\n",
              "            }\n",
              "            .progress-bar-interrupted, .progress-bar-interrupted::-webkit-progress-bar {\n",
              "                background: #F44336;\n",
              "            }\n",
              "        </style>\n",
              "      <progress value='105070592' class='' max='105067061' style='width:300px; height:20px; vertical-align: middle;'></progress>\n",
              "      100.00% [105070592/105067061 00:07<00:00]\n",
              "    </div>\n",
              "    "
            ],
            "text/plain": [
              "<IPython.core.display.HTML object>"
            ]
          },
          "metadata": {}
        }
      ],
      "source": [
        "learn = text_classifier_learner(dls, AWD_LSTM, drop_mult=0.5, path='/content/drive/MyDrive/Colab Notebooks/Datasets/RVL_CDIP/checkpoints',metrics=[error_rate, accuracy, Perplexity()]).to_fp16()"
      ]
    },
    {
      "cell_type": "code",
      "source": [
        "# ajuste do modelo\n",
        "learn.fine_tune(12, 1e-2, cbs=cbs)"
      ],
      "metadata": {
        "colab": {
          "base_uri": "https://localhost:8080/",
          "height": 752
        },
        "id": "i_y77wamATT4",
        "outputId": "a7752c9b-c396-40ee-fe43-c7489ca712a3"
      },
      "execution_count": 30,
      "outputs": [
        {
          "data": {
            "text/html": [
              "<table border=\"1\" class=\"dataframe\">\n",
              "  <thead>\n",
              "    <tr style=\"text-align: left;\">\n",
              "      <th>epoch</th>\n",
              "      <th>train_loss</th>\n",
              "      <th>valid_loss</th>\n",
              "      <th>error_rate</th>\n",
              "      <th>accuracy</th>\n",
              "      <th>perplexity</th>\n",
              "      <th>time</th>\n",
              "    </tr>\n",
              "  </thead>\n",
              "  <tbody>\n",
              "    <tr>\n",
              "      <td>0</td>\n",
              "      <td>0.657685</td>\n",
              "      <td>0.702048</td>\n",
              "      <td>0.211430</td>\n",
              "      <td>0.788570</td>\n",
              "      <td>2.017882</td>\n",
              "      <td>11:54</td>\n",
              "    </tr>\n",
              "  </tbody>\n",
              "</table>"
            ],
            "text/plain": [
              "<IPython.core.display.HTML object>"
            ]
          },
          "metadata": {},
          "output_type": "display_data"
        },
        {
          "metadata": {
            "tags": null
          },
          "name": "stdout",
          "output_type": "stream",
          "text": [
            "Better model found at epoch 0 with valid_loss value: 0.7020482420921326.\n"
          ]
        },
        {
          "data": {
            "text/html": [
              "\n",
              "    <div>\n",
              "        <style>\n",
              "            /* Turns off some styling */\n",
              "            progress {\n",
              "                /* gets rid of default border in Firefox and Opera. */\n",
              "                border: none;\n",
              "                /* Needs to be in here for Safari polyfill so background images work as expected. */\n",
              "                background-size: auto;\n",
              "            }\n",
              "            .progress-bar-interrupted, .progress-bar-interrupted::-webkit-progress-bar {\n",
              "                background: #F44336;\n",
              "            }\n",
              "        </style>\n",
              "      <progress value='2' class='' max='12' style='width:300px; height:20px; vertical-align: middle;'></progress>\n",
              "      16.67% [2/12 1:00:29<5:02:25]\n",
              "    </div>\n",
              "    \n",
              "<table border=\"1\" class=\"dataframe\">\n",
              "  <thead>\n",
              "    <tr style=\"text-align: left;\">\n",
              "      <th>epoch</th>\n",
              "      <th>train_loss</th>\n",
              "      <th>valid_loss</th>\n",
              "      <th>error_rate</th>\n",
              "      <th>accuracy</th>\n",
              "      <th>perplexity</th>\n",
              "      <th>time</th>\n",
              "    </tr>\n",
              "  </thead>\n",
              "  <tbody>\n",
              "    <tr>\n",
              "      <td>0</td>\n",
              "      <td>0.560309</td>\n",
              "      <td>0.684177</td>\n",
              "      <td>0.204730</td>\n",
              "      <td>0.795270</td>\n",
              "      <td>1.982140</td>\n",
              "      <td>30:15</td>\n",
              "    </tr>\n",
              "    <tr>\n",
              "      <td>1</td>\n",
              "      <td>0.659001</td>\n",
              "      <td>0.661520</td>\n",
              "      <td>0.203180</td>\n",
              "      <td>0.796820</td>\n",
              "      <td>1.937736</td>\n",
              "      <td>30:12</td>\n",
              "    </tr>\n",
              "  </tbody>\n",
              "</table><p>\n",
              "\n",
              "    <div>\n",
              "        <style>\n",
              "            /* Turns off some styling */\n",
              "            progress {\n",
              "                /* gets rid of default border in Firefox and Opera. */\n",
              "                border: none;\n",
              "                /* Needs to be in here for Safari polyfill so background images work as expected. */\n",
              "                background-size: auto;\n",
              "            }\n",
              "            .progress-bar-interrupted, .progress-bar-interrupted::-webkit-progress-bar {\n",
              "                background: #F44336;\n",
              "            }\n",
              "        </style>\n",
              "      <progress value='542' class='' max='2499' style='width:300px; height:20px; vertical-align: middle;'></progress>\n",
              "      21.69% [542/2499 06:45<24:25 0.5121]\n",
              "    </div>\n",
              "    "
            ],
            "text/plain": [
              "<IPython.core.display.HTML object>"
            ]
          },
          "metadata": {},
          "output_type": "display_data"
        },
        {
          "metadata": {
            "tags": null
          },
          "name": "stdout",
          "output_type": "stream",
          "text": [
            "Better model found at epoch 0 with valid_loss value: 0.6841772198677063.\n",
            "Better model found at epoch 1 with valid_loss value: 0.6615201234817505.\n"
          ]
        },
        {
          "output_type": "display_data",
          "data": {
            "text/html": [
              "<table border=\"1\" class=\"dataframe\">\n",
              "  <thead>\n",
              "    <tr style=\"text-align: left;\">\n",
              "      <th>epoch</th>\n",
              "      <th>train_loss</th>\n",
              "      <th>valid_loss</th>\n",
              "      <th>error_rate</th>\n",
              "      <th>accuracy</th>\n",
              "      <th>perplexity</th>\n",
              "      <th>time</th>\n",
              "    </tr>\n",
              "  </thead>\n",
              "  <tbody>\n",
              "    <tr>\n",
              "      <td>0</td>\n",
              "      <td>0.560309</td>\n",
              "      <td>0.684177</td>\n",
              "      <td>0.204730</td>\n",
              "      <td>0.795270</td>\n",
              "      <td>1.982140</td>\n",
              "      <td>30:15</td>\n",
              "    </tr>\n",
              "    <tr>\n",
              "      <td>1</td>\n",
              "      <td>0.659001</td>\n",
              "      <td>0.661520</td>\n",
              "      <td>0.203180</td>\n",
              "      <td>0.796820</td>\n",
              "      <td>1.937736</td>\n",
              "      <td>30:12</td>\n",
              "    </tr>\n",
              "    <tr>\n",
              "      <td>2</td>\n",
              "      <td>0.661266</td>\n",
              "      <td>0.646248</td>\n",
              "      <td>0.194680</td>\n",
              "      <td>0.805320</td>\n",
              "      <td>1.908368</td>\n",
              "      <td>30:14</td>\n",
              "    </tr>\n",
              "    <tr>\n",
              "      <td>3</td>\n",
              "      <td>0.485426</td>\n",
              "      <td>0.674244</td>\n",
              "      <td>0.206405</td>\n",
              "      <td>0.793595</td>\n",
              "      <td>1.962549</td>\n",
              "      <td>30:15</td>\n",
              "    </tr>\n",
              "    <tr>\n",
              "      <td>4</td>\n",
              "      <td>0.572132</td>\n",
              "      <td>0.652090</td>\n",
              "      <td>0.186955</td>\n",
              "      <td>0.813045</td>\n",
              "      <td>1.919549</td>\n",
              "      <td>30:12</td>\n",
              "    </tr>\n",
              "    <tr>\n",
              "      <td>5</td>\n",
              "      <td>0.496016</td>\n",
              "      <td>0.643312</td>\n",
              "      <td>0.187305</td>\n",
              "      <td>0.812695</td>\n",
              "      <td>1.902772</td>\n",
              "      <td>30:15</td>\n",
              "    </tr>\n",
              "    <tr>\n",
              "      <td>6</td>\n",
              "      <td>0.448446</td>\n",
              "      <td>0.628467</td>\n",
              "      <td>0.191305</td>\n",
              "      <td>0.808695</td>\n",
              "      <td>1.874734</td>\n",
              "      <td>30:12</td>\n",
              "    </tr>\n",
              "    <tr>\n",
              "      <td>7</td>\n",
              "      <td>0.422515</td>\n",
              "      <td>0.669823</td>\n",
              "      <td>0.187105</td>\n",
              "      <td>0.812895</td>\n",
              "      <td>1.953890</td>\n",
              "      <td>30:12</td>\n",
              "    </tr>\n",
              "    <tr>\n",
              "      <td>8</td>\n",
              "      <td>0.309790</td>\n",
              "      <td>0.660118</td>\n",
              "      <td>0.180730</td>\n",
              "      <td>0.819270</td>\n",
              "      <td>1.935021</td>\n",
              "      <td>30:15</td>\n",
              "    </tr>\n",
              "    <tr>\n",
              "      <td>9</td>\n",
              "      <td>0.301336</td>\n",
              "      <td>0.673988</td>\n",
              "      <td>0.181605</td>\n",
              "      <td>0.818395</td>\n",
              "      <td>1.962047</td>\n",
              "      <td>30:14</td>\n",
              "    </tr>\n",
              "    <tr>\n",
              "      <td>10</td>\n",
              "      <td>0.340658</td>\n",
              "      <td>0.618794</td>\n",
              "      <td>0.172729</td>\n",
              "      <td>0.827271</td>\n",
              "      <td>1.856688</td>\n",
              "      <td>30:15</td>\n",
              "    </tr>\n",
              "    <tr>\n",
              "      <td>11</td>\n",
              "      <td>0.255063</td>\n",
              "      <td>0.661135</td>\n",
              "      <td>0.177804</td>\n",
              "      <td>0.822196</td>\n",
              "      <td>1.936989</td>\n",
              "      <td>30:15</td>\n",
              "    </tr>\n",
              "  </tbody>\n",
              "</table>"
            ],
            "text/plain": [
              "<IPython.core.display.HTML object>"
            ]
          },
          "metadata": {}
        },
        {
          "output_type": "stream",
          "name": "stdout",
          "text": [
            "Better model found at epoch 2 with valid_loss value: 0.6462481617927551.\n",
            "Better model found at epoch 5 with valid_loss value: 0.6433116793632507.\n",
            "Better model found at epoch 6 with valid_loss value: 0.6284669637680054.\n",
            "Better model found at epoch 10 with valid_loss value: 0.6187943816184998.\n"
          ]
        }
      ]
    },
    {
      "cell_type": "code",
      "execution_count": 31,
      "metadata": {
        "colab": {
          "base_uri": "https://localhost:8080/",
          "height": 957
        },
        "id": "OuPTd5rbirz_",
        "outputId": "87261ae7-943a-4b65-ae4a-6761c71b5747"
      },
      "outputs": [
        {
          "output_type": "display_data",
          "data": {
            "text/html": [
              ""
            ],
            "text/plain": [
              "<IPython.core.display.HTML object>"
            ]
          },
          "metadata": {}
        },
        {
          "output_type": "display_data",
          "data": {
            "text/html": [
              "<table border=\"1\" class=\"dataframe\">\n",
              "  <thead>\n",
              "    <tr style=\"text-align: right;\">\n",
              "      <th></th>\n",
              "      <th>text</th>\n",
              "      <th>category</th>\n",
              "      <th>category_</th>\n",
              "    </tr>\n",
              "  </thead>\n",
              "  <tbody>\n",
              "    <tr>\n",
              "      <th>0</th>\n",
              "      <td>xxbos si ai xxup experimental xxup g4 ) xxmaj tit xxunk . aoe men ee eae pets xxup eos et na cop dak ch xxup pore ai nt insite icon xxup xxunk tue xxunk xxmaj tips xxmaj eatin , to os bg xxup of mm cg 8 xxup xxunk tnd xxunk 2s , xxmaj nae , xxmaj sot nm xxunk tur xxunk . ( outst , xxmaj sen ) , of parm . uni , xxmaj teese , ead pr . tale , ore pyrrole a8 po ees xxmaj bis ais pase . ages “ eby xxunk ) xxmaj be xxmaj pam . ( sie ce . xxmaj ethyl xxunk , acetic acid st ugh xxunk ( xxunk g. ) wae xxunk tn 800 ml . of facil xxunk acid , with 6 g- of 5b medium on xxunk ( 16 ) as the xxmaj xxunk at room xxunk and</td>\n",
              "      <td>6</td>\n",
              "      <td>6</td>\n",
              "    </tr>\n",
              "    <tr>\n",
              "      <th>1</th>\n",
              "      <td>xxbos xxunk xxmaj biochemistry , xxmaj vol . 30 , xxmaj no . 45 , 1991 xxunk of tubulin would be expected to render the binding sites of tubulin poorly xxunk wo xxup g , , and data in xxmaj figure 5 and xxmaj table i are consistent with that expectation “ the association constant for tubulin dimers is similar to that ( 130 am ) for the binding of xxmaj gs to tubulin ( wang et a. 1990 ) . xxmaj this and the ability of tubulin ~ g protein complexes ( o form in solution would suggest that , given conditions under which microtubules would xxunk , g proteins complexed tubulin could either incorporate into microtubules of prevent tubulin polymerization . xxmaj the data in xxmaj figure 6 indicate that the later appears tobe the case . xxmaj further , since data in ‘ wang et al .</td>\n",
              "      <td>6</td>\n",
              "      <td>6</td>\n",
              "    </tr>\n",
              "    <tr>\n",
              "      <th>2</th>\n",
              "      <td>xxbos — xxmaj homeotic transformation of the xxunk bones of the skull by ectopic expression of a homeobox gene ‘ thomas xxmaj xxunk , xxmaj manuel xxmaj mark , xxmaj xxunk xxup p. xxmaj hart * , xxmaj pascal xxmaj doll , xxmaj marianne xxunk &amp; xxmaj pierre xxmaj chambon xxmaj xxunk oo xxmaj xxunk xxmaj xxunk des xxmaj xxunk du xxup ofs , nts 184 6 xxmaj biologie xxmaj xxunk ot do xxmaj give xxmaj xxunk de xxup xxunk , xxmaj institut ge xxmaj chine xxmaj xxunk , xxmaj xxunk de xxmaj medecine , 11 rue xxmaj humen , { xxunk xxmaj xxunk xxmaj cbd . xxunk [ murine xxmaj hox genes have been postulated to play a role ia xxunk of the embryonic body xxunk ™ . xxmaj gene disruption studies have suggested that fora given xxmaj hox complex , patterning of cell entity along the xxunk -</td>\n",
              "      <td>6</td>\n",
              "      <td>6</td>\n",
              "    </tr>\n",
              "    <tr>\n",
              "      <th>3</th>\n",
              "      <td>xxbos 4 xxmaj analysis of xxmaj nerve xxmaj growth xxmaj factor xxmaj receptor xxmaj expression in xxmaj human xxmaj neuroblastoma and xxmaj xxunk xxmaj cell xxmaj lines ' xxmaj david xxup l. xxmaj baker , xxmaj usha xxmaj rani xxmaj reddy , xxmaj david xxmaj pleasure , xxmaj crystal xxup l. xxmaj thorpe , xxmaj audrey xxup e. xxmaj evans , xxmaj pamela xxup s. xxmaj cohen , and xxmaj xxunk xxup h. xxmaj ross * xxmaj xxunk of xxunk - xxunk [ dl xxmaj by xxup a- xxup ee ] and xxmaj xxunk ( ur . xxmaj re xxup d. xxup pj , xxmaj xxunk xxmaj hospital of xxmaj philadephia , xxmaj xxunk , xxmaj xxunk 19104 , xxmaj department of xxmaj xxunk , xxmaj unser of xxmaj xxunk xxmaj xxunk ! xxmaj seto xxmaj xxunk , xxmaj xxunk xxunk [ c. xxup lt , xxmaj molar xxmaj genter</td>\n",
              "      <td>6</td>\n",
              "      <td>6</td>\n",
              "    </tr>\n",
              "    <tr>\n",
              "      <th>4</th>\n",
              "      <td>xxbos c xxmaj what js this xxunk debate about ? xxmaj how does it affect filter . xxmaj no human being has lung power ‘ enough to suck smoke through it . xxmaj it is possible , also , to make « filter that will remove a great percentage of the ‘ harmful matter in cigarette smoke . xxmaj but the smoke wil no longer taste like ciga- reite smoke , and the smell of the filter will be intolerable . a xxmaj kind xxmaj word xxmaj about xxmaj filters a leamed paper by xxmaj dr . xxmaj xxunk schmidt - xxunk , a xxmaj german authority ” and apparently a xxunk who believes xxunk will never stop smoking , has a kind word to say about filters in general . xxmaj the prob- lems of filter making aiso are presented : - .. xxmaj we must , for the</td>\n",
              "      <td>9</td>\n",
              "      <td>9</td>\n",
              "    </tr>\n",
              "    <tr>\n",
              "      <th>5</th>\n",
              "      <td>xxbos xxunk original xxmaj message~ xxmaj from : xxmaj nicoli , xxmaj david xxmaj sent : xxmaj monday , xxmaj october 09 , 2 xxrep 3 0 11:55 xxup am oo xxunk , xxmaj mark ; xxmaj carney , xxmaj xxunk ; xxmaj xxunk , xxmaj william ; xxmaj krigbaum , xxmaj stephens ] xxunk , xxmaj greg ; xxmaj keane , xxmaj denise ; xxmaj rothstein , xxmaj xxunk xxmaj xxunk , xxmaj timothy ; xxmaj donner , xxmaj jonathan ; ‘ harris , xxmaj peter ‘ ; ‘ lindheim , xxmaj jim ‘ ; xxmaj wall , xxmaj xxunk xxmaj collier , xxmaj xxunk xxmaj burrell , xxmaj wendy ; cho , xxmaj elizabeth ) xxmaj clifford , xxmaj william ; xxmaj gonzalez , xxmaj aurora xxmaj mi xxmaj greenberg , xxmaj david ; xxmaj xxunk , xxmaj don ; xxmaj kaplan , xxmaj xxunk xxmaj kush ,</td>\n",
              "      <td>2</td>\n",
              "      <td>2</td>\n",
              "    </tr>\n",
              "    <tr>\n",
              "      <th>6</th>\n",
              "      <td>xxbos [ cancer xxup research xxunk - 3568 , xxunk ] xxmaj hormonal xxmaj modulation of xxmaj plasminogen xxmaj activator : xxmaj an xxmaj approach to xxmaj prediction of xxmaj human xxmaj breast xxmaj tumor xxmaj responsiveness ’ ‘ rafael mira - y - lopez ” and xxmaj xxunk xxmaj xxunk ‘ xxunk of xxmaj cellar xxmaj physiology ond xxmaj xxunk , xxmaj the xxmaj xxunk xxmaj universy , xxmaj new xxmaj york , xxmaj new xxmaj york 10021 xxup abstract ‘ we have determined thatthe primary reason forthe xxunk xxunk ‘ xxunk poor survival of human xxunk breast carcinomas ia short- term ( 4 days ) organ xxunk is mechanical xxunk to the tumor tissue turing explant preparation . xxmaj it was possible to minimize this injury by xxmaj xxunk 0s - mum - thick sles using very sharp blades . xxmaj this resulted in ‘ ch improved preservation</td>\n",
              "      <td>6</td>\n",
              "      <td>6</td>\n",
              "    </tr>\n",
              "    <tr>\n",
              "      <th>7</th>\n",
              "      <td>xxbos xxmaj cong xxunk xxmaj the xxmaj xxunk xxmaj xxunk mung xxup induction xxup of xxup autoantibodies xxup to xxup thyroglobulin xxup by xxup anti - idiotypic xxup antibodies ? xxup maurizio xxup zanetti , xxup joy xxup rogers , axo xxup david xxup h. xxup katz xxmaj from the xxmaj department of xxmaj xxunk , xxmaj medical xxmaj biology xxmaj institute , xxunk xxmaj north xxmaj torrey xxmaj pines xxmaj koad , xxmaj la xxmaj jolla , xxup ca 92037 xxmaj we report on the induction of autoantibodies to thyroglobulin ( 79 ) and idiotype - positive molecules { i d ’ ) in naive xxup balb / c mice and xxmaj buffalo ( buf ) rats after immunization with affinity - purified rabbit xxunk antibodies directed against the xxmaj i d of a mouse monoclonal antibody ( xxunk ) specific for a hor- mone - containing epitope of</td>\n",
              "      <td>6</td>\n",
              "      <td>6</td>\n",
              "    </tr>\n",
              "    <tr>\n",
              "      <th>8</th>\n",
              "      <td>xxbos sae group ’ xxunk finance xxunk - xxunk d xxmaj xxunk . “ \" “ \" \" dee xxunk making xxunk , he xxunk xxmaj sorel is leaving xxmaj officials at xxup tlk maintain the wants one , too sald xxunk agency xxmaj xxunk and his replacement 1 agency isnot for sale , xxunk analyst st a xxmaj london xxunk , xxmaj new xxmaj york - based xxmaj xxunk executive edge they have held discussions xxmaj another agency analyst said the ‘ andrew xxmaj woods , chairman of the with representatives of the xxup u.k . xxmaj xxunk ' presence in xxup xxunk avoids xxmaj saatchi holding company in the agency over the past few years the appearance of conflict of inter- xxup uss , xxmaj also , xxmaj financial xxmaj times xxunk xxmaj meanwhile , xxmaj mr . xxmaj xxunk , a key ar- est on xxmaj mr</td>\n",
              "      <td>9</td>\n",
              "      <td>9</td>\n",
              "    </tr>\n",
              "  </tbody>\n",
              "</table>"
            ],
            "text/plain": [
              "<IPython.core.display.HTML object>"
            ]
          },
          "metadata": {}
        }
      ],
      "source": [
        "learn.show_results()"
      ]
    },
    {
      "cell_type": "code",
      "execution_count": 32,
      "metadata": {
        "colab": {
          "base_uri": "https://localhost:8080/"
        },
        "id": "Rw8c5QKzir0E",
        "outputId": "d77382d3-47e3-4a4e-dd30-d0ad94f3b5b5"
      },
      "outputs": [
        {
          "output_type": "execute_result",
          "data": {
            "text/plain": [
              "Path('/content/drive/MyDrive/Colab Notebooks/Datasets/RVL_CDIP/checkpoints/models/model_2022-02-21-10:43:35.pth')"
            ]
          },
          "metadata": {},
          "execution_count": 32
        }
      ],
      "source": [
        "learn.save('model_'+ now)"
      ]
    },
    {
      "cell_type": "code",
      "execution_count": 33,
      "metadata": {
        "id": "ITlc1bIjir0E"
      },
      "outputs": [],
      "source": [
        "# load model\n",
        "learn = learn.load('model_'+ now)"
      ]
    },
    {
      "cell_type": "code",
      "execution_count": 34,
      "metadata": {
        "colab": {
          "base_uri": "https://localhost:8080/",
          "height": 268
        },
        "id": "TiV30UC4oLQK",
        "outputId": "783c4b3c-4bbb-4c7f-adce-c44db6acbe1f"
      },
      "outputs": [
        {
          "output_type": "display_data",
          "data": {
            "image/png": "[encoded data removed]",
            "text/plain": [
              "<Figure size 432x288 with 1 Axes>"
            ]
          },
          "metadata": {
            "needs_background": "light"
          }
        }
      ],
      "source": [
        "learn.recorder.plot_loss()"
      ]
    },
    {
      "cell_type": "code",
      "source": [
        "learn.recorder.plot_lr_find()"
      ],
      "metadata": {
        "colab": {
          "base_uri": "https://localhost:8080/",
          "height": 289
        },
        "id": "0__hJ8uor7E_",
        "outputId": "a4d6d8d8-b73d-4c0a-b580-13330377907c"
      },
      "execution_count": 35,
      "outputs": [
        {
          "output_type": "display_data",
          "data": {
            "image/png": "[encoded data removed]",
            "text/plain": [
              "<Figure size 432x288 with 1 Axes>"
            ]
          },
          "metadata": {
            "needs_background": "light"
          }
        }
      ]
    },
    {
      "cell_type": "code",
      "execution_count": null,
      "metadata": {
        "id": "BKcBxTsjOCVH"
      },
      "outputs": [],
      "source": [
        "#learn_lm = text_classifier_learner(dls, AWD_LSTM, drop_mult=0.5,metrics=[error_rate, accuracy, Perplexity()]).to_fp16()"
      ]
    },
    {
      "cell_type": "markdown",
      "metadata": {
        "id": "02q2cfAEv-2L"
      },
      "source": [
        "##Validation"
      ]
    },
    {
      "cell_type": "code",
      "execution_count": 37,
      "metadata": {
        "id": "Mnrq2JtLD-cF"
      },
      "outputs": [],
      "source": [
        "df_test['text'].replace(np.nan, '-', inplace=True)"
      ]
    },
    {
      "cell_type": "code",
      "execution_count": 38,
      "metadata": {
        "colab": {
          "base_uri": "https://localhost:8080/",
          "height": 17
        },
        "id": "dI-21566m66z",
        "outputId": "5c7cb981-9703-4c7c-c495-411ccb07b675"
      },
      "outputs": [
        {
          "output_type": "display_data",
          "data": {
            "text/html": [
              ""
            ],
            "text/plain": [
              "<IPython.core.display.HTML object>"
            ]
          },
          "metadata": {}
        }
      ],
      "source": [
        "# create dataloader of test\n",
        "dblock_test = DataBlock(\n",
        "    blocks=(TextBlock.from_df(['text'], seq_len=72), CategoryBlock),\n",
        "            get_x=get_features, \n",
        "            get_y=get_labels)\n",
        "\n",
        "dloader_test = dblock_test.dataloaders(df_test, bs=128)"
      ]
    },
    {
      "cell_type": "code",
      "execution_count": 39,
      "metadata": {
        "colab": {
          "base_uri": "https://localhost:8080/",
          "height": 17
        },
        "id": "OHx_4h_GO0_6",
        "outputId": "9cc08640-0fae-4c2e-847a-985c2a894e94"
      },
      "outputs": [
        {
          "output_type": "display_data",
          "data": {
            "text/html": [
              ""
            ],
            "text/plain": [
              "<IPython.core.display.HTML object>"
            ]
          },
          "metadata": {}
        }
      ],
      "source": [
        "test_dl = dloader_test.test_dl(df_test['text'])\n",
        "preds = learn.get_preds(dl=test_dl, with_decoded=True)"
      ]
    },
    {
      "cell_type": "code",
      "execution_count": 40,
      "metadata": {
        "colab": {
          "base_uri": "https://localhost:8080/"
        },
        "id": "IRn1BE2Xlw98",
        "outputId": "38bd3463-1ae7-4a59-a029-6dbccd91e34b"
      },
      "outputs": [
        {
          "output_type": "execute_result",
          "data": {
            "text/plain": [
              "3"
            ]
          },
          "metadata": {},
          "execution_count": 40
        }
      ],
      "source": [
        "len(preds)"
      ]
    },
    {
      "cell_type": "code",
      "execution_count": 41,
      "metadata": {
        "colab": {
          "base_uri": "https://localhost:8080/",
          "height": 34
        },
        "id": "ZdEp4Buulx1k",
        "outputId": "4278758d-b1b8-48ca-fe25-83b73995d044"
      },
      "outputs": [
        {
          "output_type": "display_data",
          "data": {
            "text/html": [
              ""
            ],
            "text/plain": [
              "<IPython.core.display.HTML object>"
            ]
          },
          "metadata": {}
        },
        {
          "output_type": "execute_result",
          "data": {
            "text/plain": [
              "(#4) [0.6187943816184998,0.17272931337356567,0.8272706866264343,1.8566882610321045]"
            ]
          },
          "metadata": {},
          "execution_count": 41
        }
      ],
      "source": [
        "learn.validate()"
      ]
    },
    {
      "cell_type": "code",
      "source": [
        "preds,y,losses = learn.get_preds(with_loss=True)\n",
        "predictions = np.argmax(preds, axis = 1)"
      ],
      "metadata": {
        "colab": {
          "base_uri": "https://localhost:8080/",
          "height": 17
        },
        "id": "aJagVIbcTwi2",
        "outputId": "616e4911-f109-4fec-82b8-efd6c20d2607"
      },
      "execution_count": 42,
      "outputs": [
        {
          "output_type": "display_data",
          "data": {
            "text/html": [
              ""
            ],
            "text/plain": [
              "<IPython.core.display.HTML object>"
            ]
          },
          "metadata": {}
        }
      ]
    },
    {
      "cell_type": "code",
      "execution_count": 43,
      "metadata": {
        "colab": {
          "base_uri": "https://localhost:8080/",
          "height": 517
        },
        "id": "10eEHOedl1cY",
        "outputId": "74ca9158-1562-4b16-f8bc-200f3ecf17e0"
      },
      "outputs": [
        {
          "output_type": "display_data",
          "data": {
            "text/html": [
              ""
            ],
            "text/plain": [
              "<IPython.core.display.HTML object>"
            ]
          },
          "metadata": {}
        },
        {
          "output_type": "display_data",
          "data": {
            "text/html": [
              ""
            ],
            "text/plain": [
              "<IPython.core.display.HTML object>"
            ]
          },
          "metadata": {}
        },
        {
          "output_type": "execute_result",
          "data": {
            "text/plain": [
              "(#4) [0.6187943816184998,0.17272931337356567,0.8272706866264343,1.8566882610321045]"
            ]
          },
          "metadata": {},
          "execution_count": 43
        },
        {
          "output_type": "display_data",
          "data": {
            "image/png": "[encoded data removed]",
            "text/plain": [
              "<Figure size 480x480 with 1 Axes>"
            ]
          },
          "metadata": {
            "needs_background": "light"
          }
        }
      ],
      "source": [
        "interp = ClassificationInterpretation.from_learner(learn)\n",
        "interp.plot_confusion_matrix(figsize=(8,8), dpi=60)\n",
        "learn.validate()"
      ]
    },
    {
      "cell_type": "code",
      "source": [
        "learn.freeze()\n",
        "learn.fit_one_cycle(5, 2e-3, cbs=cbs)"
      ],
      "metadata": {
        "colab": {
          "base_uri": "https://localhost:8080/",
          "height": 258
        },
        "id": "NTeazBfWeeig",
        "outputId": "8c80048c-a5e8-48b4-9728-39022d251c39"
      },
      "execution_count": 44,
      "outputs": [
        {
          "output_type": "display_data",
          "data": {
            "text/html": [
              "<table border=\"1\" class=\"dataframe\">\n",
              "  <thead>\n",
              "    <tr style=\"text-align: left;\">\n",
              "      <th>epoch</th>\n",
              "      <th>train_loss</th>\n",
              "      <th>valid_loss</th>\n",
              "      <th>error_rate</th>\n",
              "      <th>accuracy</th>\n",
              "      <th>perplexity</th>\n",
              "      <th>time</th>\n",
              "    </tr>\n",
              "  </thead>\n",
              "  <tbody>\n",
              "    <tr>\n",
              "      <td>0</td>\n",
              "      <td>0.298729</td>\n",
              "      <td>0.672618</td>\n",
              "      <td>0.178804</td>\n",
              "      <td>0.821196</td>\n",
              "      <td>1.959359</td>\n",
              "      <td>11:59</td>\n",
              "    </tr>\n",
              "    <tr>\n",
              "      <td>1</td>\n",
              "      <td>0.321273</td>\n",
              "      <td>0.630718</td>\n",
              "      <td>0.175704</td>\n",
              "      <td>0.824296</td>\n",
              "      <td>1.878960</td>\n",
              "      <td>11:57</td>\n",
              "    </tr>\n",
              "    <tr>\n",
              "      <td>2</td>\n",
              "      <td>0.438187</td>\n",
              "      <td>0.577932</td>\n",
              "      <td>0.157354</td>\n",
              "      <td>0.842646</td>\n",
              "      <td>1.782349</td>\n",
              "      <td>11:59</td>\n",
              "    </tr>\n",
              "    <tr>\n",
              "      <td>3</td>\n",
              "      <td>0.359984</td>\n",
              "      <td>0.622407</td>\n",
              "      <td>0.174054</td>\n",
              "      <td>0.825946</td>\n",
              "      <td>1.863409</td>\n",
              "      <td>11:57</td>\n",
              "    </tr>\n",
              "    <tr>\n",
              "      <td>4</td>\n",
              "      <td>0.377189</td>\n",
              "      <td>0.595217</td>\n",
              "      <td>0.167179</td>\n",
              "      <td>0.832821</td>\n",
              "      <td>1.813424</td>\n",
              "      <td>11:57</td>\n",
              "    </tr>\n",
              "  </tbody>\n",
              "</table>"
            ],
            "text/plain": [
              "<IPython.core.display.HTML object>"
            ]
          },
          "metadata": {}
        },
        {
          "output_type": "stream",
          "name": "stdout",
          "text": [
            "Better model found at epoch 0 with valid_loss value: 0.6726175546646118.\n",
            "Better model found at epoch 1 with valid_loss value: 0.6307182312011719.\n",
            "Better model found at epoch 2 with valid_loss value: 0.5779319405555725.\n"
          ]
        }
      ]
    },
    {
      "cell_type": "code",
      "source": [
        "learn.recorder.plot_loss()"
      ],
      "metadata": {
        "colab": {
          "base_uri": "https://localhost:8080/",
          "height": 268
        },
        "id": "TCivGlInolGx",
        "outputId": "8d61874f-75ab-4736-c4ef-6b0be8dddc85"
      },
      "execution_count": 45,
      "outputs": [
        {
          "output_type": "display_data",
          "data": {
            "image/png": "[encoded data removed]",
            "text/plain": [
              "<Figure size 432x288 with 1 Axes>"
            ]
          },
          "metadata": {
            "needs_background": "light"
          }
        }
      ]
    },
    {
      "cell_type": "code",
      "source": [
        "learn.recorder.plot_lr_find()"
      ],
      "metadata": {
        "colab": {
          "base_uri": "https://localhost:8080/",
          "height": 289
        },
        "id": "EzVxlWbNtUS0",
        "outputId": "ee9ddb86-9d3d-4a1b-baec-7d6e61fb6a17"
      },
      "execution_count": 46,
      "outputs": [
        {
          "output_type": "display_data",
          "data": {
            "image/png": "[encoded data removed]",
            "text/plain": [
              "<Figure size 432x288 with 1 Axes>"
            ]
          },
          "metadata": {
            "needs_background": "light"
          }
        }
      ]
    },
    {
      "cell_type": "code",
      "source": [
        "learn.save('model_'+ now)\n",
        "learn.save_encoder('model_enc'+ now)"
      ],
      "metadata": {
        "id": "_ADk10u61dMA"
      },
      "execution_count": 47,
      "outputs": []
    },
    {
      "cell_type": "code",
      "source": [
        "test_dl = dloader_test.test_dl(df_test['text'])\n",
        "preds = learn.get_preds(dl=test_dl, with_decoded=True)"
      ],
      "metadata": {
        "colab": {
          "base_uri": "https://localhost:8080/",
          "height": 17
        },
        "id": "rB1OKYMhooaD",
        "outputId": "4b4a43c4-6fa4-4b1d-9715-12e99e2966e7"
      },
      "execution_count": 48,
      "outputs": [
        {
          "output_type": "display_data",
          "data": {
            "text/html": [
              ""
            ],
            "text/plain": [
              "<IPython.core.display.HTML object>"
            ]
          },
          "metadata": {}
        }
      ]
    },
    {
      "cell_type": "code",
      "source": [
        "preds,y,losses = learn.get_preds(with_loss=True)\n",
        "predictions = np.argmax(preds, axis = 1)"
      ],
      "metadata": {
        "colab": {
          "base_uri": "https://localhost:8080/",
          "height": 17
        },
        "id": "gy-40Cg4oiZG",
        "outputId": "45917870-e6ff-4e0e-dc18-ac124239722d"
      },
      "execution_count": 49,
      "outputs": [
        {
          "output_type": "display_data",
          "data": {
            "text/html": [
              ""
            ],
            "text/plain": [
              "<IPython.core.display.HTML object>"
            ]
          },
          "metadata": {}
        }
      ]
    },
    {
      "cell_type": "code",
      "source": [
        "interp = ClassificationInterpretation.from_learner(learn)\n",
        "interp.plot_confusion_matrix(figsize=(8,8), dpi=60)\n",
        "learn.validate()"
      ],
      "metadata": {
        "colab": {
          "base_uri": "https://localhost:8080/",
          "height": 517
        },
        "id": "oUUQRILco40g",
        "outputId": "890220c3-52e1-471e-ee14-df366f5a2dc4"
      },
      "execution_count": 50,
      "outputs": [
        {
          "output_type": "display_data",
          "data": {
            "text/html": [
              ""
            ],
            "text/plain": [
              "<IPython.core.display.HTML object>"
            ]
          },
          "metadata": {}
        },
        {
          "output_type": "display_data",
          "data": {
            "text/html": [
              ""
            ],
            "text/plain": [
              "<IPython.core.display.HTML object>"
            ]
          },
          "metadata": {}
        },
        {
          "output_type": "execute_result",
          "data": {
            "text/plain": [
              "(#4) [0.5779319405555725,0.157353937625885,0.842646062374115,1.7823486328125]"
            ]
          },
          "metadata": {},
          "execution_count": 50
        },
        {
          "output_type": "display_data",
          "data": {
            "image/png": "[encoded data removed]",
            "text/plain": [
              "<Figure size 480x480 with 1 Axes>"
            ]
          },
          "metadata": {
            "needs_background": "light"
          }
        }
      ]
    },
    {
      "cell_type": "code",
      "execution_count": 51,
      "metadata": {
        "colab": {
          "base_uri": "https://localhost:8080/",
          "height": 259
        },
        "id": "Zo2DlMlnirz-",
        "outputId": "bc7f9236-4386-409a-f32f-4cef5d0c0662"
      },
      "outputs": [
        {
          "output_type": "display_data",
          "data": {
            "text/html": [
              "<table border=\"1\" class=\"dataframe\">\n",
              "  <thead>\n",
              "    <tr style=\"text-align: left;\">\n",
              "      <th>epoch</th>\n",
              "      <th>train_loss</th>\n",
              "      <th>valid_loss</th>\n",
              "      <th>error_rate</th>\n",
              "      <th>accuracy</th>\n",
              "      <th>perplexity</th>\n",
              "      <th>time</th>\n",
              "    </tr>\n",
              "  </thead>\n",
              "  <tbody>\n",
              "    <tr>\n",
              "      <td>0</td>\n",
              "      <td>0.422656</td>\n",
              "      <td>0.647545</td>\n",
              "      <td>0.177054</td>\n",
              "      <td>0.822946</td>\n",
              "      <td>1.910844</td>\n",
              "      <td>11:56</td>\n",
              "    </tr>\n",
              "  </tbody>\n",
              "</table>"
            ],
            "text/plain": [
              "<IPython.core.display.HTML object>"
            ]
          },
          "metadata": {}
        },
        {
          "output_type": "stream",
          "name": "stdout",
          "text": [
            "Better model found at epoch 0 with valid_loss value: 0.647544801235199.\n"
          ]
        },
        {
          "output_type": "display_data",
          "data": {
            "text/html": [
              "<table border=\"1\" class=\"dataframe\">\n",
              "  <thead>\n",
              "    <tr style=\"text-align: left;\">\n",
              "      <th>epoch</th>\n",
              "      <th>train_loss</th>\n",
              "      <th>valid_loss</th>\n",
              "      <th>error_rate</th>\n",
              "      <th>accuracy</th>\n",
              "      <th>perplexity</th>\n",
              "      <th>time</th>\n",
              "    </tr>\n",
              "  </thead>\n",
              "  <tbody>\n",
              "    <tr>\n",
              "      <td>0</td>\n",
              "      <td>0.478310</td>\n",
              "      <td>0.678573</td>\n",
              "      <td>0.196005</td>\n",
              "      <td>0.803995</td>\n",
              "      <td>1.971063</td>\n",
              "      <td>30:16</td>\n",
              "    </tr>\n",
              "    <tr>\n",
              "      <td>1</td>\n",
              "      <td>0.522709</td>\n",
              "      <td>0.588644</td>\n",
              "      <td>0.172229</td>\n",
              "      <td>0.827771</td>\n",
              "      <td>1.801543</td>\n",
              "      <td>30:13</td>\n",
              "    </tr>\n",
              "    <tr>\n",
              "      <td>2</td>\n",
              "      <td>0.317899</td>\n",
              "      <td>0.603611</td>\n",
              "      <td>0.168254</td>\n",
              "      <td>0.831746</td>\n",
              "      <td>1.828711</td>\n",
              "      <td>30:18</td>\n",
              "    </tr>\n",
              "  </tbody>\n",
              "</table>"
            ],
            "text/plain": [
              "<IPython.core.display.HTML object>"
            ]
          },
          "metadata": {}
        },
        {
          "output_type": "stream",
          "name": "stdout",
          "text": [
            "Better model found at epoch 0 with valid_loss value: 0.6785731911659241.\n",
            "Better model found at epoch 1 with valid_loss value: 0.5886437892913818.\n"
          ]
        }
      ],
      "source": [
        "learn.fine_tune(3, 2e-2, cbs=cbs)"
      ]
    },
    {
      "cell_type": "code",
      "source": [
        "learn.save('model_'+ now)"
      ],
      "metadata": {
        "colab": {
          "base_uri": "https://localhost:8080/"
        },
        "id": "7yLskCV5ljVc",
        "outputId": "98965979-f333-400d-aad1-52f2752259b0"
      },
      "execution_count": 52,
      "outputs": [
        {
          "output_type": "execute_result",
          "data": {
            "text/plain": [
              "Path('/content/drive/MyDrive/Colab Notebooks/Datasets/RVL_CDIP/checkpoints/models/model_2022-02-21-10:43:35.pth')"
            ]
          },
          "metadata": {},
          "execution_count": 52
        }
      ]
    },
    {
      "cell_type": "code",
      "source": [
        "learn.freeze_to(-2)\n",
        "learn.fit_one_cycle(3, slice(1e-2/(2.6**4),1e-2), cbs=cbs)"
      ],
      "metadata": {
        "colab": {
          "base_uri": "https://localhost:8080/",
          "height": 178
        },
        "id": "jVJ46uEXAL8t",
        "outputId": "39787c69-bc01-4502-84c5-e5a4153d7de7"
      },
      "execution_count": 53,
      "outputs": [
        {
          "output_type": "display_data",
          "data": {
            "text/html": [
              "<table border=\"1\" class=\"dataframe\">\n",
              "  <thead>\n",
              "    <tr style=\"text-align: left;\">\n",
              "      <th>epoch</th>\n",
              "      <th>train_loss</th>\n",
              "      <th>valid_loss</th>\n",
              "      <th>error_rate</th>\n",
              "      <th>accuracy</th>\n",
              "      <th>perplexity</th>\n",
              "      <th>time</th>\n",
              "    </tr>\n",
              "  </thead>\n",
              "  <tbody>\n",
              "    <tr>\n",
              "      <td>0</td>\n",
              "      <td>0.431145</td>\n",
              "      <td>0.604836</td>\n",
              "      <td>0.169404</td>\n",
              "      <td>0.830596</td>\n",
              "      <td>1.830952</td>\n",
              "      <td>14:30</td>\n",
              "    </tr>\n",
              "    <tr>\n",
              "      <td>1</td>\n",
              "      <td>0.420240</td>\n",
              "      <td>0.586898</td>\n",
              "      <td>0.173079</td>\n",
              "      <td>0.826921</td>\n",
              "      <td>1.798401</td>\n",
              "      <td>14:31</td>\n",
              "    </tr>\n",
              "    <tr>\n",
              "      <td>2</td>\n",
              "      <td>0.368111</td>\n",
              "      <td>0.602220</td>\n",
              "      <td>0.170654</td>\n",
              "      <td>0.829346</td>\n",
              "      <td>1.826168</td>\n",
              "      <td>14:31</td>\n",
              "    </tr>\n",
              "  </tbody>\n",
              "</table>"
            ],
            "text/plain": [
              "<IPython.core.display.HTML object>"
            ]
          },
          "metadata": {}
        },
        {
          "output_type": "stream",
          "name": "stdout",
          "text": [
            "Better model found at epoch 0 with valid_loss value: 0.6048358082771301.\n",
            "Better model found at epoch 1 with valid_loss value: 0.5868977904319763.\n"
          ]
        }
      ]
    },
    {
      "cell_type": "code",
      "source": [
        "learn.freeze_to(-3)\n",
        "learn.fit_one_cycle(1, slice(1e-2/(2.6**4),1e-2))"
      ],
      "metadata": {
        "colab": {
          "base_uri": "https://localhost:8080/",
          "height": 81
        },
        "id": "Hq7_GJAKEeI6",
        "outputId": "534ddd54-1438-4478-f5ac-2bb88c4794ea"
      },
      "execution_count": 54,
      "outputs": [
        {
          "output_type": "display_data",
          "data": {
            "text/html": [
              "<table border=\"1\" class=\"dataframe\">\n",
              "  <thead>\n",
              "    <tr style=\"text-align: left;\">\n",
              "      <th>epoch</th>\n",
              "      <th>train_loss</th>\n",
              "      <th>valid_loss</th>\n",
              "      <th>error_rate</th>\n",
              "      <th>accuracy</th>\n",
              "      <th>perplexity</th>\n",
              "      <th>time</th>\n",
              "    </tr>\n",
              "  </thead>\n",
              "  <tbody>\n",
              "    <tr>\n",
              "      <td>0</td>\n",
              "      <td>0.401505</td>\n",
              "      <td>0.567633</td>\n",
              "      <td>0.162504</td>\n",
              "      <td>0.837496</td>\n",
              "      <td>1.764087</td>\n",
              "      <td>23:22</td>\n",
              "    </tr>\n",
              "  </tbody>\n",
              "</table>"
            ],
            "text/plain": [
              "<IPython.core.display.HTML object>"
            ]
          },
          "metadata": {}
        }
      ]
    },
    {
      "cell_type": "code",
      "source": [
        "learn.save('model_'+ now)"
      ],
      "metadata": {
        "id": "5lgUrqqSMEvG",
        "colab": {
          "base_uri": "https://localhost:8080/"
        },
        "outputId": "f1dc885e-fa3b-4230-eca5-f93b8f061bde"
      },
      "execution_count": 55,
      "outputs": [
        {
          "output_type": "execute_result",
          "data": {
            "text/plain": [
              "Path('/content/drive/MyDrive/Colab Notebooks/Datasets/RVL_CDIP/checkpoints/models/model_2022-02-21-10:43:35.pth')"
            ]
          },
          "metadata": {},
          "execution_count": 55
        }
      ]
    },
    {
      "cell_type": "code",
      "source": [
        "# ajuste do modelo\n",
        "learn.fine_tune(5, 1e-2, cbs=cbs)"
      ],
      "metadata": {
        "colab": {
          "base_uri": "https://localhost:8080/",
          "height": 305
        },
        "id": "HzuPgcd7SfDf",
        "outputId": "e739d28a-6f29-4ff4-a115-c2ba7f8dadf9"
      },
      "execution_count": null,
      "outputs": [
        {
          "output_type": "display_data",
          "data": {
            "text/html": [
              "<table border=\"1\" class=\"dataframe\">\n",
              "  <thead>\n",
              "    <tr style=\"text-align: left;\">\n",
              "      <th>epoch</th>\n",
              "      <th>train_loss</th>\n",
              "      <th>valid_loss</th>\n",
              "      <th>error_rate</th>\n",
              "      <th>accuracy</th>\n",
              "      <th>perplexity</th>\n",
              "      <th>time</th>\n",
              "    </tr>\n",
              "  </thead>\n",
              "  <tbody>\n",
              "    <tr>\n",
              "      <td>0</td>\n",
              "      <td>0.392812</td>\n",
              "      <td>0.626564</td>\n",
              "      <td>0.178254</td>\n",
              "      <td>0.821746</td>\n",
              "      <td>1.871171</td>\n",
              "      <td>07:12</td>\n",
              "    </tr>\n",
              "  </tbody>\n",
              "</table>"
            ],
            "text/plain": [
              "<IPython.core.display.HTML object>"
            ]
          },
          "metadata": {}
        },
        {
          "output_type": "stream",
          "name": "stdout",
          "text": [
            "Better model found at epoch 0 with valid_loss value: 0.6265643835067749.\n"
          ]
        },
        {
          "output_type": "display_data",
          "data": {
            "text/html": [
              "<table border=\"1\" class=\"dataframe\">\n",
              "  <thead>\n",
              "    <tr style=\"text-align: left;\">\n",
              "      <th>epoch</th>\n",
              "      <th>train_loss</th>\n",
              "      <th>valid_loss</th>\n",
              "      <th>error_rate</th>\n",
              "      <th>accuracy</th>\n",
              "      <th>perplexity</th>\n",
              "      <th>time</th>\n",
              "    </tr>\n",
              "  </thead>\n",
              "  <tbody>\n",
              "    <tr>\n",
              "      <td>0</td>\n",
              "      <td>0.331763</td>\n",
              "      <td>0.591622</td>\n",
              "      <td>0.156704</td>\n",
              "      <td>0.843296</td>\n",
              "      <td>1.806916</td>\n",
              "      <td>15:34</td>\n",
              "    </tr>\n",
              "    <tr>\n",
              "      <td>1</td>\n",
              "      <td>0.309145</td>\n",
              "      <td>0.630854</td>\n",
              "      <td>0.179204</td>\n",
              "      <td>0.820796</td>\n",
              "      <td>1.879215</td>\n",
              "      <td>15:34</td>\n",
              "    </tr>\n",
              "    <tr>\n",
              "      <td>2</td>\n",
              "      <td>0.287077</td>\n",
              "      <td>0.635223</td>\n",
              "      <td>0.168654</td>\n",
              "      <td>0.831346</td>\n",
              "      <td>1.887443</td>\n",
              "      <td>15:34</td>\n",
              "    </tr>\n",
              "    <tr>\n",
              "      <td>3</td>\n",
              "      <td>0.182471</td>\n",
              "      <td>0.694173</td>\n",
              "      <td>0.176829</td>\n",
              "      <td>0.823171</td>\n",
              "      <td>2.002052</td>\n",
              "      <td>15:34</td>\n",
              "    </tr>\n",
              "    <tr>\n",
              "      <td>4</td>\n",
              "      <td>0.206678</td>\n",
              "      <td>0.667225</td>\n",
              "      <td>0.158754</td>\n",
              "      <td>0.841246</td>\n",
              "      <td>1.948822</td>\n",
              "      <td>15:35</td>\n",
              "    </tr>\n",
              "  </tbody>\n",
              "</table>"
            ],
            "text/plain": [
              "<IPython.core.display.HTML object>"
            ]
          },
          "metadata": {}
        },
        {
          "output_type": "stream",
          "name": "stdout",
          "text": [
            "Better model found at epoch 0 with valid_loss value: 0.5916216969490051.\n"
          ]
        }
      ]
    },
    {
      "cell_type": "code",
      "source": [
        "learn.recorder.plot_loss()"
      ],
      "metadata": {
        "id": "mbF4Ljc8Sm2l",
        "colab": {
          "base_uri": "https://localhost:8080/",
          "height": 268
        },
        "outputId": "7e16ba74-3b3e-4e08-a907-b6e82e04be8c"
      },
      "execution_count": 56,
      "outputs": [
        {
          "output_type": "display_data",
          "data": {
            "image/png": "[encoded data removed]",
            "text/plain": [
              "<Figure size 432x288 with 1 Axes>"
            ]
          },
          "metadata": {
            "needs_background": "light"
          }
        }
      ]
    },
    {
      "cell_type": "code",
      "source": [
        "learn.save('model_'+ now)"
      ],
      "metadata": {
        "colab": {
          "base_uri": "https://localhost:8080/"
        },
        "id": "FYG7qehoUNUk",
        "outputId": "700014a0-9244-4522-e1f5-7ca6971c5723"
      },
      "execution_count": 59,
      "outputs": [
        {
          "output_type": "execute_result",
          "data": {
            "text/plain": [
              "Path('/content/drive/MyDrive/Colab Notebooks/Datasets/RVL_CDIP/checkpoints/models/model_2022-02-21-10:43:35.pth')"
            ]
          },
          "metadata": {},
          "execution_count": 59
        }
      ]
    },
    {
      "cell_type": "code",
      "source": [
        "test_dl = dloader_test.test_dl(df_test['text'])\n",
        "preds = learn.get_preds(dl=test_dl, with_decoded=True)"
      ],
      "metadata": {
        "colab": {
          "base_uri": "https://localhost:8080/",
          "height": 17
        },
        "id": "l7TcgcpHT6Pq",
        "outputId": "440319b3-ae41-4407-9692-b5079335fc8e"
      },
      "execution_count": 57,
      "outputs": [
        {
          "output_type": "display_data",
          "data": {
            "text/html": [
              ""
            ],
            "text/plain": [
              "<IPython.core.display.HTML object>"
            ]
          },
          "metadata": {}
        }
      ]
    },
    {
      "cell_type": "code",
      "source": [
        "interp = ClassificationInterpretation.from_learner(learn)\n",
        "interp.plot_confusion_matrix(figsize=(8,8), dpi=60)\n",
        "learn.validate()"
      ],
      "metadata": {
        "colab": {
          "base_uri": "https://localhost:8080/",
          "height": 517
        },
        "id": "dx893SJeUwt0",
        "outputId": "b09e1b3c-03d1-44b6-89a5-05f8737c31ac"
      },
      "execution_count": 58,
      "outputs": [
        {
          "output_type": "display_data",
          "data": {
            "text/html": [
              ""
            ],
            "text/plain": [
              "<IPython.core.display.HTML object>"
            ]
          },
          "metadata": {}
        },
        {
          "output_type": "display_data",
          "data": {
            "text/html": [
              ""
            ],
            "text/plain": [
              "<IPython.core.display.HTML object>"
            ]
          },
          "metadata": {}
        },
        {
          "output_type": "execute_result",
          "data": {
            "text/plain": [
              "(#4) [0.5676332712173462,0.16250406205654144,0.8374959230422974,1.7640869617462158]"
            ]
          },
          "metadata": {},
          "execution_count": 58
        },
        {
          "output_type": "display_data",
          "data": {
            "image/png": "[encoded data removed]",
            "text/plain": [
              "<Figure size 480x480 with 1 Axes>"
            ]
          },
          "metadata": {
            "needs_background": "light"
          }
        }
      ]
    },
    {
      "cell_type": "code",
      "execution_count": 60,
      "metadata": {
        "colab": {
          "base_uri": "https://localhost:8080/",
          "height": 178
        },
        "id": "jtMn6zPzDua6",
        "outputId": "34c87472-9ecb-4173-c19c-c4e3afac83a2"
      },
      "outputs": [
        {
          "output_type": "display_data",
          "data": {
            "text/html": [
              "<table border=\"1\" class=\"dataframe\">\n",
              "  <thead>\n",
              "    <tr style=\"text-align: left;\">\n",
              "      <th>epoch</th>\n",
              "      <th>train_loss</th>\n",
              "      <th>valid_loss</th>\n",
              "      <th>error_rate</th>\n",
              "      <th>accuracy</th>\n",
              "      <th>perplexity</th>\n",
              "      <th>time</th>\n",
              "    </tr>\n",
              "  </thead>\n",
              "  <tbody>\n",
              "    <tr>\n",
              "      <td>0</td>\n",
              "      <td>0.646147</td>\n",
              "      <td>0.648528</td>\n",
              "      <td>0.197030</td>\n",
              "      <td>0.802970</td>\n",
              "      <td>1.912723</td>\n",
              "      <td>30:13</td>\n",
              "    </tr>\n",
              "    <tr>\n",
              "      <td>1</td>\n",
              "      <td>0.423815</td>\n",
              "      <td>0.593974</td>\n",
              "      <td>0.178179</td>\n",
              "      <td>0.821821</td>\n",
              "      <td>1.811171</td>\n",
              "      <td>30:08</td>\n",
              "    </tr>\n",
              "    <tr>\n",
              "      <td>2</td>\n",
              "      <td>0.350169</td>\n",
              "      <td>0.596905</td>\n",
              "      <td>0.172304</td>\n",
              "      <td>0.827696</td>\n",
              "      <td>1.816488</td>\n",
              "      <td>30:10</td>\n",
              "    </tr>\n",
              "  </tbody>\n",
              "</table>"
            ],
            "text/plain": [
              "<IPython.core.display.HTML object>"
            ]
          },
          "metadata": {}
        },
        {
          "output_type": "stream",
          "name": "stdout",
          "text": [
            "Better model found at epoch 0 with valid_loss value: 0.648527979850769.\n",
            "Better model found at epoch 1 with valid_loss value: 0.5939737558364868.\n"
          ]
        }
      ],
      "source": [
        "learn.unfreeze()\n",
        "learn.fit_one_cycle(3, 2e-3, cbs=cbs)"
      ]
    },
    {
      "cell_type": "code",
      "source": [
        "learn.save('model_'+ now)\n",
        "learn.save_encoder('model_enc'+ now)"
      ],
      "metadata": {
        "id": "0vAEklf6rLpP"
      },
      "execution_count": 61,
      "outputs": []
    },
    {
      "cell_type": "code",
      "source": [
        "learn.recorder.plot_loss()"
      ],
      "metadata": {
        "colab": {
          "base_uri": "https://localhost:8080/",
          "height": 268
        },
        "id": "-8KinmgzrfJn",
        "outputId": "f6996d47-a193-46e5-da03-5d2c475a6c98"
      },
      "execution_count": 62,
      "outputs": [
        {
          "output_type": "display_data",
          "data": {
            "image/png": "[encoded data removed]",
            "text/plain": [
              "<Figure size 432x288 with 1 Axes>"
            ]
          },
          "metadata": {
            "needs_background": "light"
          }
        }
      ]
    },
    {
      "cell_type": "code",
      "source": [
        "test_dl = dloader_test.test_dl(df_test['text'])\n",
        "preds = learn.get_preds(dl=test_dl, with_decoded=True)"
      ],
      "metadata": {
        "colab": {
          "base_uri": "https://localhost:8080/",
          "height": 17
        },
        "id": "r82i8N6trlXI",
        "outputId": "9ef3d133-7f7f-41f1-dc7a-7f883379a093"
      },
      "execution_count": 63,
      "outputs": [
        {
          "output_type": "display_data",
          "data": {
            "text/html": [
              ""
            ],
            "text/plain": [
              "<IPython.core.display.HTML object>"
            ]
          },
          "metadata": {}
        }
      ]
    },
    {
      "cell_type": "code",
      "source": [
        "preds,y,losses = learn.get_preds(with_loss=True)\n",
        "predictions = np.argmax(preds, axis = 1)"
      ],
      "metadata": {
        "colab": {
          "base_uri": "https://localhost:8080/",
          "height": 17
        },
        "id": "Wq9-tm5krvHO",
        "outputId": "0384b9d6-edcc-4eaf-8f0b-b4c787a538b4"
      },
      "execution_count": 64,
      "outputs": [
        {
          "output_type": "display_data",
          "data": {
            "text/html": [
              ""
            ],
            "text/plain": [
              "<IPython.core.display.HTML object>"
            ]
          },
          "metadata": {}
        }
      ]
    },
    {
      "cell_type": "code",
      "source": [
        "interp = ClassificationInterpretation.from_learner(learn)\n",
        "interp.plot_confusion_matrix(figsize=(8,8), dpi=60)\n",
        "learn.validate()"
      ],
      "metadata": {
        "colab": {
          "base_uri": "https://localhost:8080/",
          "height": 517
        },
        "id": "2nVxpga4rywM",
        "outputId": "2714bf7c-3a77-4498-becf-38ade699bf44"
      },
      "execution_count": 65,
      "outputs": [
        {
          "output_type": "display_data",
          "data": {
            "text/html": [
              ""
            ],
            "text/plain": [
              "<IPython.core.display.HTML object>"
            ]
          },
          "metadata": {}
        },
        {
          "output_type": "display_data",
          "data": {
            "text/html": [
              ""
            ],
            "text/plain": [
              "<IPython.core.display.HTML object>"
            ]
          },
          "metadata": {}
        },
        {
          "output_type": "execute_result",
          "data": {
            "text/plain": [
              "(#4) [0.5939737558364868,0.17817945778369904,0.8218205571174622,1.811171293258667]"
            ]
          },
          "metadata": {},
          "execution_count": 65
        },
        {
          "output_type": "display_data",
          "data": {
            "image/png": "[encoded data removed]",
            "text/plain": [
              "<Figure size 480x480 with 1 Axes>"
            ]
          },
          "metadata": {
            "needs_background": "light"
          }
        }
      ]
    }
  ],
  "metadata": {
    "accelerator": "GPU",
    "colab": {
      "collapsed_sections": [],
      "machine_shape": "hm",
      "name": "Cópia de Fastai_without_tags_RVLCDIP.ipynb",
      "provenance": [],
      "include_colab_link": true
    },
    "jupytext": {
      "split_at_heading": true
    },
    "kernelspec": {
      "display_name": "Python 3",
      "language": "python",
      "name": "python3"
    }
  },
  "nbformat": 4,
  "nbformat_minor": 0
}