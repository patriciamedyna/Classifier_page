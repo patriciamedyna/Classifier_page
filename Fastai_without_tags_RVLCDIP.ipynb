{
  "nbformat": 4,
  "nbformat_minor": 0,
  "metadata": {
    "accelerator": "GPU",
    "colab": {
      "name": "Fastai_without_tags_RVLCDIP.ipynb",
      "provenance": [],
      "machine_shape": "hm",
      "collapsed_sections": [],
      "include_colab_link": true
    },
    "jupytext": {
      "split_at_heading": true
    },
    "kernelspec": {
      "display_name": "Python 3",
      "language": "python",
      "name": "python3"
    }
  },
  "cells": [
    {
      "cell_type": "markdown",
      "metadata": {
        "id": "view-in-github",
        "colab_type": "text"
      },
      "source": [
        "<a href=\"https://colab.research.google.com/github/patriciamedyna/Classifier_page/blob/main/Fastai_without_tags_RVLCDIP.ipynb\" target=\"_parent\"><img src=\"https://colab.research.google.com/assets/colab-badge.svg\" alt=\"Open In Colab\"/></a>"
      ]
    },
    {
      "cell_type": "code",
      "metadata": {
        "id": "UJr_N-oGWpgm"
      },
      "source": [
        "! [ -e /content ] && pip install -Uqq fastai"
      ],
      "execution_count": 1,
      "outputs": []
    },
    {
      "cell_type": "code",
      "metadata": {
        "id": "yaH3SUzZjuA-"
      },
      "source": [
        "#hide\n",
        "!pip install -Uqq fastbook\n",
        "import fastbook"
      ],
      "execution_count": 2,
      "outputs": []
    },
    {
      "cell_type": "code",
      "metadata": {
        "id": "ZZ_arKKyj3Co"
      },
      "source": [
        "#hide\n",
        "from fastbook import *\n",
        "from IPython.display import display, HTML"
      ],
      "execution_count": 3,
      "outputs": []
    },
    {
      "cell_type": "code",
      "metadata": {
        "id": "-gu3NxcBirzx"
      },
      "source": [
        "from fastai.basics import *\n",
        "from fastai.text.core import *\n",
        "from fastai.text.data import *\n",
        "from fastai.text.models.core import *\n",
        "from fastai.text.models.awdlstm import *\n",
        "from fastai.callback.rnn import *\n",
        "from fastai.callback.progress import *"
      ],
      "execution_count": 4,
      "outputs": []
    },
    {
      "cell_type": "code",
      "metadata": {
        "colab": {
          "base_uri": "https://localhost:8080/"
        },
        "id": "51jgSOs8zZrX",
        "outputId": "64d3e133-f7c9-4fa5-dff8-b7dce696a890"
      },
      "source": [
        "from google.colab import drive\n",
        "drive.mount('/content/drive')"
      ],
      "execution_count": 5,
      "outputs": [
        {
          "output_type": "stream",
          "name": "stdout",
          "text": [
            "Drive already mounted at /content/drive; to attempt to forcibly remount, call drive.mount(\"/content/drive\", force_remount=True).\n"
          ]
        }
      ]
    },
    {
      "cell_type": "code",
      "metadata": {
        "id": "F3fCSD3QmMF_"
      },
      "source": [
        "#path = '/content/drive/.shortcut-targets-by-id/1-qv-5jmPjOBKOLQl9B6mzvygl_RQ_Y7l/RVL_CDIP/labels/'\n",
        "path = '/content/drive/MyDrive/Colab Notebooks/Datasets/RVL_CDIP/labels/'\n",
        "df_train = pd.read_csv(path + 'train.csv', delimiter=',', error_bad_lines=False)"
      ],
      "execution_count": 7,
      "outputs": []
    },
    {
      "cell_type": "code",
      "source": [
        "df_train['text'].replace(np.nan, '-', inplace=True)"
      ],
      "metadata": {
        "id": "Op3JVpWFxaF2"
      },
      "execution_count": 8,
      "outputs": []
    },
    {
      "cell_type": "code",
      "metadata": {
        "id": "mQDKLPV-GsOh",
        "colab": {
          "base_uri": "https://localhost:8080/",
          "height": 824
        },
        "outputId": "cee4ddc2-5cb8-4705-d90a-0566144c1a64"
      },
      "source": [
        "df_train.tail(10)"
      ],
      "execution_count": 9,
      "outputs": [
        {
          "output_type": "execute_result",
          "data": {
            "text/html": [
              "\n",
              "  <div id=\"df-317d0178-fb31-40be-99ec-af28655b99a4\">\n",
              "    <div class=\"colab-df-container\">\n",
              "      <div>\n",
              "<style scoped>\n",
              "    .dataframe tbody tr th:only-of-type {\n",
              "        vertical-align: middle;\n",
              "    }\n",
              "\n",
              "    .dataframe tbody tr th {\n",
              "        vertical-align: top;\n",
              "    }\n",
              "\n",
              "    .dataframe thead th {\n",
              "        text-align: right;\n",
              "    }\n",
              "</style>\n",
              "<table border=\"1\" class=\"dataframe\">\n",
              "  <thead>\n",
              "    <tr style=\"text-align: right;\">\n",
              "      <th></th>\n",
              "      <th>path</th>\n",
              "      <th>label</th>\n",
              "      <th>text</th>\n",
              "    </tr>\n",
              "  </thead>\n",
              "  <tbody>\n",
              "    <tr>\n",
              "      <th>319989</th>\n",
              "      <td>imagesu/u/q/n/uqn92e00/2048471973.tif</td>\n",
              "      <td>12</td>\n",
              "      <td>Announcing an important new program for convenience store operators NSCS. “It's the Law: Responsible Tobacco Retailing Program\" ‘This kit contains important information and materials to ensure the continued legal sales of tobacco to your stores' customers. The enclosed materials are samples of the available materials to communicate the legal sale message to your employees and customers. The Responsible Tobacco Retailing Program includes: @ ‘It's the Law* Button @ ‘It's the Law’ Certification Brochure ‘it’s the Law\" Door/Window decal lt ‘It's the Law’ Window/Merchandiser decal i ‘it's the L...</td>\n",
              "    </tr>\n",
              "    <tr>\n",
              "      <th>319990</th>\n",
              "      <td>imagest/t/k/e/tke15c00/2073514459.tif</td>\n",
              "      <td>8</td>\n",
              "      <td>2073514459</td>\n",
              "    </tr>\n",
              "    <tr>\n",
              "      <th>319991</th>\n",
              "      <td>imagesv/v/j/n/vjn28c00/507398111+-8113.tif</td>\n",
              "      <td>3</td>\n",
              "      <td>pepe i+ + blip jth oe Gore Lyrepreyee re rg ad “yd Page WID prarnrs Sanoy v2v0 aensyrg vesenind reepand soa oy a - ECE nye Grinp 91) Day RoS aad ub Emyows go adhe grypy ep warps of Ay) FL ee caw gn | pained aod yt PAD fag 1118 6ezos roy Sue boey AWVE0C_ \\</td>\n",
              "    </tr>\n",
              "    <tr>\n",
              "      <th>319992</th>\n",
              "      <td>imagesm/m/d/a/mda38e00/1005090491.tif</td>\n",
              "      <td>15</td>\n",
              "      <td>Cates 4 Dagcerk 20 Pom apn TL: 4 Confidential ~ cpa - 9/13/77 Vor, I To: James Bowling From: Stanley Sco i Subject: ACS Task Forces on Tobseco and Cancer-~Draft Ro} ed a pr nary+-confidential first draft—— Yeingarten's National Conmission on Smoking and Our contact has ree! report from Victor Public Policy. Se : ha While the first draft report\"does not include restrictive legislation,\" it is proposing governnent intervention in a number of areas to regulate the “unregulated multi-billion dollar tobacco industry.\" 2 While “recognizing the right of adults to sm this initial roport makes 20 h...</td>\n",
              "    </tr>\n",
              "    <tr>\n",
              "      <th>319993</th>\n",
              "      <td>imagesp/p/h/b/phb54c00/80701874.tif</td>\n",
              "      <td>11</td>\n",
              "      <td>o0*00%%e | INa¥YAD | | doro0%ee | 00°009 awl ow] aaaor Sn NOLONIHSYH Swo1waint 12x22 006 SAVO OC LaN Swuas Gey TITEOD | LNAWALVLS/39IOANI &gt; -LNBW3LVLS/ 39IOANI 6TOOT *A°N Axy0K H3N BONIAY HLdT4 999 3IAY3S VIOIW 3WOH 40. Ino ‘ouv71 409 0002 205(212) 91001 -:N “HOA MAN anNSAW NOSIOFA SL ‘ouy ‘Buisneapy ysued jeuoyeN</td>\n",
              "    </tr>\n",
              "    <tr>\n",
              "      <th>319994</th>\n",
              "      <td>imagesu/u/p/p/upp04f00/0000282789.tif</td>\n",
              "      <td>9</td>\n",
              "      <td>oo.) TULSA: TRIBUNE Z Inconsistencies Cited Other Side of Smoking Fight 1 Ai Sent the Tobacco In-* age today atthe Hikon In.\" and geoge Sata aaa, aad | EES RGee es ead pa on Goria eg: Meaty ee Se Sea ree fovea cecimetre Sean ae : ‘one rail, fad Dr Gitert = THE BRITISH smoke for about a many i ed the Americar ‘tinat ect Rae SE Dra</td>\n",
              "    </tr>\n",
              "    <tr>\n",
              "      <th>319995</th>\n",
              "      <td>imagesa/a/c/z/acz60f00/0011972032.tif</td>\n",
              "      <td>15</td>\n",
              "      <td>BROWN &amp; WILLIAMSON TOBACCO CORPORATION RESEARCH &amp; DEVELOPMENT INTERNAL CORRESPONDENCE Ti bs Fy Liteinger p! FROM: -K. A. Legrand DATE: August 17, 1987 SUBJECT: IN-HOUSE SENSORY EVALUATION OF DAP/CLUCOSE REACTION MIXTURE PRODUCTS /399 OBJECTIVE The objective of this study was to evaluate the effect of DAP-Clucose reaction product as a casing ingredient and determine how it affects taste and irritation. The in-house nonmenthol panel evaluated the following cigarettes in Paired attribute testing for impact, irritation, tobacco taste, overall taste, mouthful of smoke, off-taste, and preference...</td>\n",
              "    </tr>\n",
              "    <tr>\n",
              "      <th>319996</th>\n",
              "      <td>imagesu/u/j/m/ujm20a00/10155388.tif</td>\n",
              "      <td>6</td>\n",
              "      <td>Who Chooses Prepaid Medical Care: Survey Results from Two Marketings of Three New Prepayment Plans LAUS J ROGHMANN, PD. WLLIAM AVETT PR, ANDREW. SORENSEN PHO SANDRA WELLS, BA and RGAARD WERSINGER MA MAJOR SEDICAL EXPENSES, especially those for hogptalisations. are now widely ‘covered through prepaid insurance. Ine Rochester area the eal Blue (Gross-Ble Shield (BC-BS) plan provides insurance (or rmore than 90 percent of the working population. In ‘omast to thi sucess of hospital insurance, prepaid troup practice plans, covenng arbulatory cae aswell, -have only slowly found acceptance arnong...</td>\n",
              "    </tr>\n",
              "    <tr>\n",
              "      <th>319997</th>\n",
              "      <td>imagesd/d/r/r/drr93f00/0000343578.tif</td>\n",
              "      <td>9</td>\n",
              "      <td>20 poyouse 20472: ‘Fupyotue vod oy pop “ag, Aq, uoanam “Kpmr “rpuRgeny AUEIOWE-UOE Uy ae , som ery £q sp OWA spiro yonw ¥ &lt; pies owexespt sou jeonewoyie \"yp E ge aanuooq plyeau] a398 Boopy2009 , 690136252</td>\n",
              "    </tr>\n",
              "    <tr>\n",
              "      <th>319998</th>\n",
              "      <td>imagesp/p/j/x/pjx11d00/518223252+-3253.tif</td>\n",
              "      <td>3</td>\n",
              "      <td>-</td>\n",
              "    </tr>\n",
              "  </tbody>\n",
              "</table>\n",
              "</div>\n",
              "      <button class=\"colab-df-convert\" onclick=\"convertToInteractive('df-317d0178-fb31-40be-99ec-af28655b99a4')\"\n",
              "              title=\"Convert this dataframe to an interactive table.\"\n",
              "              style=\"display:none;\">\n",
              "        \n",
              "  <svg xmlns=\"http://www.w3.org/2000/svg\" height=\"24px\"viewBox=\"0 0 24 24\"\n",
              "       width=\"24px\">\n",
              "    <path d=\"M0 0h24v24H0V0z\" fill=\"none\"/>\n",
              "    <path d=\"M18.56 5.44l.94 2.06.94-2.06 2.06-.94-2.06-.94-.94-2.06-.94 2.06-2.06.94zm-11 1L8.5 8.5l.94-2.06 2.06-.94-2.06-.94L8.5 2.5l-.94 2.06-2.06.94zm10 10l.94 2.06.94-2.06 2.06-.94-2.06-.94-.94-2.06-.94 2.06-2.06.94z\"/><path d=\"M17.41 7.96l-1.37-1.37c-.4-.4-.92-.59-1.43-.59-.52 0-1.04.2-1.43.59L10.3 9.45l-7.72 7.72c-.78.78-.78 2.05 0 2.83L4 21.41c.39.39.9.59 1.41.59.51 0 1.02-.2 1.41-.59l7.78-7.78 2.81-2.81c.8-.78.8-2.07 0-2.86zM5.41 20L4 18.59l7.72-7.72 1.47 1.35L5.41 20z\"/>\n",
              "  </svg>\n",
              "      </button>\n",
              "      \n",
              "  <style>\n",
              "    .colab-df-container {\n",
              "      display:flex;\n",
              "      flex-wrap:wrap;\n",
              "      gap: 12px;\n",
              "    }\n",
              "\n",
              "    .colab-df-convert {\n",
              "      background-color: #E8F0FE;\n",
              "      border: none;\n",
              "      border-radius: 50%;\n",
              "      cursor: pointer;\n",
              "      display: none;\n",
              "      fill: #1967D2;\n",
              "      height: 32px;\n",
              "      padding: 0 0 0 0;\n",
              "      width: 32px;\n",
              "    }\n",
              "\n",
              "    .colab-df-convert:hover {\n",
              "      background-color: #E2EBFA;\n",
              "      box-shadow: 0px 1px 2px rgba(60, 64, 67, 0.3), 0px 1px 3px 1px rgba(60, 64, 67, 0.15);\n",
              "      fill: #174EA6;\n",
              "    }\n",
              "\n",
              "    [theme=dark] .colab-df-convert {\n",
              "      background-color: #3B4455;\n",
              "      fill: #D2E3FC;\n",
              "    }\n",
              "\n",
              "    [theme=dark] .colab-df-convert:hover {\n",
              "      background-color: #434B5C;\n",
              "      box-shadow: 0px 1px 3px 1px rgba(0, 0, 0, 0.15);\n",
              "      filter: drop-shadow(0px 1px 2px rgba(0, 0, 0, 0.3));\n",
              "      fill: #FFFFFF;\n",
              "    }\n",
              "  </style>\n",
              "\n",
              "      <script>\n",
              "        const buttonEl =\n",
              "          document.querySelector('#df-317d0178-fb31-40be-99ec-af28655b99a4 button.colab-df-convert');\n",
              "        buttonEl.style.display =\n",
              "          google.colab.kernel.accessAllowed ? 'block' : 'none';\n",
              "\n",
              "        async function convertToInteractive(key) {\n",
              "          const element = document.querySelector('#df-317d0178-fb31-40be-99ec-af28655b99a4');\n",
              "          const dataTable =\n",
              "            await google.colab.kernel.invokeFunction('convertToInteractive',\n",
              "                                                     [key], {});\n",
              "          if (!dataTable) return;\n",
              "\n",
              "          const docLinkHtml = 'Like what you see? Visit the ' +\n",
              "            '<a target=\"_blank\" href=https://colab.research.google.com/notebooks/data_table.ipynb>data table notebook</a>'\n",
              "            + ' to learn more about interactive tables.';\n",
              "          element.innerHTML = '';\n",
              "          dataTable['output_type'] = 'display_data';\n",
              "          await google.colab.output.renderOutput(dataTable, element);\n",
              "          const docLink = document.createElement('div');\n",
              "          docLink.innerHTML = docLinkHtml;\n",
              "          element.appendChild(docLink);\n",
              "        }\n",
              "      </script>\n",
              "    </div>\n",
              "  </div>\n",
              "  "
            ],
            "text/plain": [
              "                                              path  label  \\\n",
              "319989       imagesu/u/q/n/uqn92e00/2048471973.tif     12   \n",
              "319990       imagest/t/k/e/tke15c00/2073514459.tif      8   \n",
              "319991  imagesv/v/j/n/vjn28c00/507398111+-8113.tif      3   \n",
              "319992       imagesm/m/d/a/mda38e00/1005090491.tif     15   \n",
              "319993         imagesp/p/h/b/phb54c00/80701874.tif     11   \n",
              "319994       imagesu/u/p/p/upp04f00/0000282789.tif      9   \n",
              "319995       imagesa/a/c/z/acz60f00/0011972032.tif     15   \n",
              "319996         imagesu/u/j/m/ujm20a00/10155388.tif      6   \n",
              "319997       imagesd/d/r/r/drr93f00/0000343578.tif      9   \n",
              "319998  imagesp/p/j/x/pjx11d00/518223252+-3253.tif      3   \n",
              "\n",
              "                                                                                                                                                                                                                                                                                                                                                                                                                                                                                                                                                                                                                           text  \n",
              "319989  Announcing an important new program for convenience store operators NSCS. “It's the Law: Responsible Tobacco Retailing Program\" ‘This kit contains important information and materials to ensure the continued legal sales of tobacco to your stores' customers. The enclosed materials are samples of the available materials to communicate the legal sale message to your employees and customers. The Responsible Tobacco Retailing Program includes: @ ‘It's the Law* Button @ ‘It's the Law’ Certification Brochure ‘it’s the Law\" Door/Window decal lt ‘It's the Law’ Window/Merchandiser decal i ‘it's the L...  \n",
              "319990                                                                                                                                                                                                                                                                                                                                                                                                                                                                                                                                                                                                               2073514459  \n",
              "319991                                                                                                                                                                                                                                                                                                                                                          pepe i+ + blip jth oe Gore Lyrepreyee re rg ad “yd Page WID prarnrs Sanoy v2v0 aensyrg vesenind reepand soa oy a - ECE nye Grinp 91) Day RoS aad ub Emyows go adhe grypy ep warps of Ay) FL ee caw gn | pained aod yt PAD fag 1118 6ezos roy Sue boey AWVE0C_ \\  \n",
              "319992  Cates 4 Dagcerk 20 Pom apn TL: 4 Confidential ~ cpa - 9/13/77 Vor, I To: James Bowling From: Stanley Sco i Subject: ACS Task Forces on Tobseco and Cancer-~Draft Ro} ed a pr nary+-confidential first draft—— Yeingarten's National Conmission on Smoking and Our contact has ree! report from Victor Public Policy. Se : ha While the first draft report\"does not include restrictive legislation,\" it is proposing governnent intervention in a number of areas to regulate the “unregulated multi-billion dollar tobacco industry.\" 2 While “recognizing the right of adults to sm this initial roport makes 20 h...  \n",
              "319993                                                                                                                                                                                                                                                                                              o0*00%%e | INa¥YAD | | doro0%ee | 00°009 awl ow] aaaor Sn NOLONIHSYH Swo1waint 12x22 006 SAVO OC LaN Swuas Gey TITEOD | LNAWALVLS/39IOANI > -LNBW3LVLS/ 39IOANI 6TOOT *A°N Axy0K H3N BONIAY HLdT4 999 3IAY3S VIOIW 3WOH 40. Ino ‘ouv71 409 0002 205(212) 91001 -:N “HOA MAN anNSAW NOSIOFA SL ‘ouy ‘Buisneapy ysued jeuoyeN  \n",
              "319994                                                                                                                                                                                                                                                                              oo.) TULSA: TRIBUNE Z Inconsistencies Cited Other Side of Smoking Fight 1 Ai Sent the Tobacco In-* age today atthe Hikon In.\" and geoge Sata aaa, aad | EES RGee es ead pa on Goria eg: Meaty ee Se Sea ree fovea cecimetre Sean ae : ‘one rail, fad Dr Gitert = THE BRITISH smoke for about a many i ed the Americar ‘tinat ect Rae SE Dra  \n",
              "319995  BROWN & WILLIAMSON TOBACCO CORPORATION RESEARCH & DEVELOPMENT INTERNAL CORRESPONDENCE Ti bs Fy Liteinger p! FROM: -K. A. Legrand DATE: August 17, 1987 SUBJECT: IN-HOUSE SENSORY EVALUATION OF DAP/CLUCOSE REACTION MIXTURE PRODUCTS /399 OBJECTIVE The objective of this study was to evaluate the effect of DAP-Clucose reaction product as a casing ingredient and determine how it affects taste and irritation. The in-house nonmenthol panel evaluated the following cigarettes in Paired attribute testing for impact, irritation, tobacco taste, overall taste, mouthful of smoke, off-taste, and preference...  \n",
              "319996  Who Chooses Prepaid Medical Care: Survey Results from Two Marketings of Three New Prepayment Plans LAUS J ROGHMANN, PD. WLLIAM AVETT PR, ANDREW. SORENSEN PHO SANDRA WELLS, BA and RGAARD WERSINGER MA MAJOR SEDICAL EXPENSES, especially those for hogptalisations. are now widely ‘covered through prepaid insurance. Ine Rochester area the eal Blue (Gross-Ble Shield (BC-BS) plan provides insurance (or rmore than 90 percent of the working population. In ‘omast to thi sucess of hospital insurance, prepaid troup practice plans, covenng arbulatory cae aswell, -have only slowly found acceptance arnong...  \n",
              "319997                                                                                                                                                                                                                                                                                                                                                                                                             20 poyouse 20472: ‘Fupyotue vod oy pop “ag, Aq, uoanam “Kpmr “rpuRgeny AUEIOWE-UOE Uy ae , som ery £q sp OWA spiro yonw ¥ < pies owexespt sou jeonewoyie \"yp E ge aanuooq plyeau] a398 Boopy2009 , 690136252  \n",
              "319998                                                                                                                                                                                                                                                                                                                                                                                                                                                                                                                                                                                                                        -  "
            ]
          },
          "metadata": {},
          "execution_count": 9
        }
      ]
    },
    {
      "cell_type": "code",
      "metadata": {
        "id": "mUIsYb_KhWYl"
      },
      "source": [
        "#path = '/content/drive/MyDrive/Colab Notebooks/Datasets/RVL_CDIP/labels/'\n",
        "df_test = pd.read_csv(path + 'test.csv', delimiter=',', error_bad_lines=False)"
      ],
      "execution_count": 10,
      "outputs": []
    },
    {
      "cell_type": "code",
      "source": [
        "df_test.head(10)"
      ],
      "metadata": {
        "id": "nGUeT3dpxgOi"
      },
      "execution_count": null,
      "outputs": []
    },
    {
      "cell_type": "code",
      "metadata": {
        "id": "enwscOSONRol",
        "colab": {
          "base_uri": "https://localhost:8080/"
        },
        "outputId": "a344661b-79e1-41a8-fc98-7d36cff933d1"
      },
      "source": [
        "df_test.shape, df_train.shape"
      ],
      "execution_count": 12,
      "outputs": [
        {
          "output_type": "execute_result",
          "data": {
            "text/plain": [
              "((39998, 3), (319999, 3))"
            ]
          },
          "metadata": {},
          "execution_count": 12
        }
      ]
    },
    {
      "cell_type": "code",
      "metadata": {
        "id": "ydjr8R8Xl8Qj"
      },
      "source": [
        "df_val = pd.read_csv(path + 'val.csv', delimiter=',', error_bad_lines=False)"
      ],
      "execution_count": 13,
      "outputs": []
    },
    {
      "cell_type": "code",
      "metadata": {
        "id": "VGa3dDfUjIUR",
        "colab": {
          "base_uri": "https://localhost:8080/",
          "height": 545
        },
        "outputId": "39962bfb-06c0-44ef-8f59-50705c7e3fe6"
      },
      "source": [
        "df_val.head()"
      ],
      "execution_count": 14,
      "outputs": [
        {
          "output_type": "execute_result",
          "data": {
            "text/html": [
              "\n",
              "  <div id=\"df-fb13e5de-35b3-4e20-89f2-f9dba94a4269\">\n",
              "    <div class=\"colab-df-container\">\n",
              "      <div>\n",
              "<style scoped>\n",
              "    .dataframe tbody tr th:only-of-type {\n",
              "        vertical-align: middle;\n",
              "    }\n",
              "\n",
              "    .dataframe tbody tr th {\n",
              "        vertical-align: top;\n",
              "    }\n",
              "\n",
              "    .dataframe thead th {\n",
              "        text-align: right;\n",
              "    }\n",
              "</style>\n",
              "<table border=\"1\" class=\"dataframe\">\n",
              "  <thead>\n",
              "    <tr style=\"text-align: right;\">\n",
              "      <th></th>\n",
              "      <th>path</th>\n",
              "      <th>label</th>\n",
              "      <th>text</th>\n",
              "    </tr>\n",
              "  </thead>\n",
              "  <tbody>\n",
              "    <tr>\n",
              "      <th>0</th>\n",
              "      <td>imagesi/i/y/k/iyk38c00/512015827+-5827.tif</td>\n",
              "      <td>0</td>\n",
              "      <td>Fi J Reynolds Tobacee Cory January 22, 1990 Dear Fellow Employee: You no doubt heard over the weekend thal we have deckied to cancel our Philadelphia test market of Uptown Cigarettes, {regret not informing you about this decision before we told the news media, but the decision was made late Friday evening. and because of the enormous media attention focused on the product. was important that we immediately made our decision public. ur intentions in bringing Uptown to market in Philadelphia have been flagrantly misrepresented by our ‘opponents. Our sole purpose was simply to test market a c...</td>\n",
              "    </tr>\n",
              "    <tr>\n",
              "      <th>1</th>\n",
              "      <td>imagesr/r/r/e/rre21e00/87103403.tif</td>\n",
              "      <td>0</td>\n",
              "      <td>MICROBIOLOGICAL ASSOCIATES INC ‘CORPORATE OFFICES 15221 River Road » Bethesda © Maryland 20816-1493 (801) 654.3400 Telex 90-8793 March 25, 1987 Dr. Thomas A. Vollmuth Lorillard Research Center 420 English Street P.O, Box 21688 Greensboro, North Carolina 27420 Dear Tom, I forgot to discuss the prices for the SCE studies in the letters that were attached with the protocols. The retest of cigarettes D33, D34 and D36 (Study I-5045.013.001) will cost $21,000. This study will use common control groups (both Reference, sham and cyclophosphamide) from the parallel study (1-7010.013). The numbers o...</td>\n",
              "    </tr>\n",
              "    <tr>\n",
              "      <th>2</th>\n",
              "      <td>imagesk/k/s/u/ksu44c00/03636607.tif</td>\n",
              "      <td>4</td>\n",
              "      <td>ovacco roan (Chawwet Jo) Broadcast April 17, 1979 Editorial Director Bernadette Phillips Presented by: Norman Davis, Area Vice President robacco smoke is more than just very irritating to some people -- smoking is hazardous to your health =~ and the health of many non-smokers caught downwind from an inconsiderate smoker. But we think the anti-smoking ordinance now smoldering in Dade County is even more dangerous to the healthy functioning of democracy. Because of this we urge a,vote against the ordinance on May 8. the “clean indoor air” ordinance that will be put to Dade voters in less tha...</td>\n",
              "    </tr>\n",
              "    <tr>\n",
              "      <th>3</th>\n",
              "      <td>imagesr/r/a/i/rai09d00/50437856-7857.tif</td>\n",
              "      <td>14</td>\n",
              "      <td>Una S. Ryan Professor of Medicine December 18, 1941. Bristol University, Bristol, England B.Sc 1963 Zoology, Chemistry and Microbiology Cambridge University, Cambridge, England Ph.D. 1968 Gell Biology 1967 ~ 1971 Director, Laboratory for Ultrastructure studies, Howard Hughes Medical Institute, Miami, Florida 1972 - 1977 Assistant Professor of Medicine, University of Miami School of Medicine, Miami, Florida 1977 - 1980 Associate Professor of Medicine, University of Miami School of Medicine, Miami, Florida 1980 - 1986 Research Professor of Medicine, University of Miami School of Medicine, Mi...</td>\n",
              "    </tr>\n",
              "    <tr>\n",
              "      <th>4</th>\n",
              "      <td>imagesd/d/q/j/dqj13f00/0000457436.tif</td>\n",
              "      <td>12</td>\n",
              "      <td>-DRAPT- MANUFACTURING QUALITY PRODUCTS Prepared by Marcel A. Hamann Quality Assurance Department Brown &amp; Williamson Tobacco Corporation Wovember 1989 681001023</td>\n",
              "    </tr>\n",
              "  </tbody>\n",
              "</table>\n",
              "</div>\n",
              "      <button class=\"colab-df-convert\" onclick=\"convertToInteractive('df-fb13e5de-35b3-4e20-89f2-f9dba94a4269')\"\n",
              "              title=\"Convert this dataframe to an interactive table.\"\n",
              "              style=\"display:none;\">\n",
              "        \n",
              "  <svg xmlns=\"http://www.w3.org/2000/svg\" height=\"24px\"viewBox=\"0 0 24 24\"\n",
              "       width=\"24px\">\n",
              "    <path d=\"M0 0h24v24H0V0z\" fill=\"none\"/>\n",
              "    <path d=\"M18.56 5.44l.94 2.06.94-2.06 2.06-.94-2.06-.94-.94-2.06-.94 2.06-2.06.94zm-11 1L8.5 8.5l.94-2.06 2.06-.94-2.06-.94L8.5 2.5l-.94 2.06-2.06.94zm10 10l.94 2.06.94-2.06 2.06-.94-2.06-.94-.94-2.06-.94 2.06-2.06.94z\"/><path d=\"M17.41 7.96l-1.37-1.37c-.4-.4-.92-.59-1.43-.59-.52 0-1.04.2-1.43.59L10.3 9.45l-7.72 7.72c-.78.78-.78 2.05 0 2.83L4 21.41c.39.39.9.59 1.41.59.51 0 1.02-.2 1.41-.59l7.78-7.78 2.81-2.81c.8-.78.8-2.07 0-2.86zM5.41 20L4 18.59l7.72-7.72 1.47 1.35L5.41 20z\"/>\n",
              "  </svg>\n",
              "      </button>\n",
              "      \n",
              "  <style>\n",
              "    .colab-df-container {\n",
              "      display:flex;\n",
              "      flex-wrap:wrap;\n",
              "      gap: 12px;\n",
              "    }\n",
              "\n",
              "    .colab-df-convert {\n",
              "      background-color: #E8F0FE;\n",
              "      border: none;\n",
              "      border-radius: 50%;\n",
              "      cursor: pointer;\n",
              "      display: none;\n",
              "      fill: #1967D2;\n",
              "      height: 32px;\n",
              "      padding: 0 0 0 0;\n",
              "      width: 32px;\n",
              "    }\n",
              "\n",
              "    .colab-df-convert:hover {\n",
              "      background-color: #E2EBFA;\n",
              "      box-shadow: 0px 1px 2px rgba(60, 64, 67, 0.3), 0px 1px 3px 1px rgba(60, 64, 67, 0.15);\n",
              "      fill: #174EA6;\n",
              "    }\n",
              "\n",
              "    [theme=dark] .colab-df-convert {\n",
              "      background-color: #3B4455;\n",
              "      fill: #D2E3FC;\n",
              "    }\n",
              "\n",
              "    [theme=dark] .colab-df-convert:hover {\n",
              "      background-color: #434B5C;\n",
              "      box-shadow: 0px 1px 3px 1px rgba(0, 0, 0, 0.15);\n",
              "      filter: drop-shadow(0px 1px 2px rgba(0, 0, 0, 0.3));\n",
              "      fill: #FFFFFF;\n",
              "    }\n",
              "  </style>\n",
              "\n",
              "      <script>\n",
              "        const buttonEl =\n",
              "          document.querySelector('#df-fb13e5de-35b3-4e20-89f2-f9dba94a4269 button.colab-df-convert');\n",
              "        buttonEl.style.display =\n",
              "          google.colab.kernel.accessAllowed ? 'block' : 'none';\n",
              "\n",
              "        async function convertToInteractive(key) {\n",
              "          const element = document.querySelector('#df-fb13e5de-35b3-4e20-89f2-f9dba94a4269');\n",
              "          const dataTable =\n",
              "            await google.colab.kernel.invokeFunction('convertToInteractive',\n",
              "                                                     [key], {});\n",
              "          if (!dataTable) return;\n",
              "\n",
              "          const docLinkHtml = 'Like what you see? Visit the ' +\n",
              "            '<a target=\"_blank\" href=https://colab.research.google.com/notebooks/data_table.ipynb>data table notebook</a>'\n",
              "            + ' to learn more about interactive tables.';\n",
              "          element.innerHTML = '';\n",
              "          dataTable['output_type'] = 'display_data';\n",
              "          await google.colab.output.renderOutput(dataTable, element);\n",
              "          const docLink = document.createElement('div');\n",
              "          docLink.innerHTML = docLinkHtml;\n",
              "          element.appendChild(docLink);\n",
              "        }\n",
              "      </script>\n",
              "    </div>\n",
              "  </div>\n",
              "  "
            ],
            "text/plain": [
              "                                         path  label  \\\n",
              "0  imagesi/i/y/k/iyk38c00/512015827+-5827.tif      0   \n",
              "1         imagesr/r/r/e/rre21e00/87103403.tif      0   \n",
              "2         imagesk/k/s/u/ksu44c00/03636607.tif      4   \n",
              "3    imagesr/r/a/i/rai09d00/50437856-7857.tif     14   \n",
              "4       imagesd/d/q/j/dqj13f00/0000457436.tif     12   \n",
              "\n",
              "                                                                                                                                                                                                                                                                                                                                                                                                                                                                                                                                                                                                                      text  \n",
              "0  Fi J Reynolds Tobacee Cory January 22, 1990 Dear Fellow Employee: You no doubt heard over the weekend thal we have deckied to cancel our Philadelphia test market of Uptown Cigarettes, {regret not informing you about this decision before we told the news media, but the decision was made late Friday evening. and because of the enormous media attention focused on the product. was important that we immediately made our decision public. ur intentions in bringing Uptown to market in Philadelphia have been flagrantly misrepresented by our ‘opponents. Our sole purpose was simply to test market a c...  \n",
              "1  MICROBIOLOGICAL ASSOCIATES INC ‘CORPORATE OFFICES 15221 River Road » Bethesda © Maryland 20816-1493 (801) 654.3400 Telex 90-8793 March 25, 1987 Dr. Thomas A. Vollmuth Lorillard Research Center 420 English Street P.O, Box 21688 Greensboro, North Carolina 27420 Dear Tom, I forgot to discuss the prices for the SCE studies in the letters that were attached with the protocols. The retest of cigarettes D33, D34 and D36 (Study I-5045.013.001) will cost $21,000. This study will use common control groups (both Reference, sham and cyclophosphamide) from the parallel study (1-7010.013). The numbers o...  \n",
              "2  ovacco roan (Chawwet Jo) Broadcast April 17, 1979 Editorial Director Bernadette Phillips Presented by: Norman Davis, Area Vice President robacco smoke is more than just very irritating to some people -- smoking is hazardous to your health =~ and the health of many non-smokers caught downwind from an inconsiderate smoker. But we think the anti-smoking ordinance now smoldering in Dade County is even more dangerous to the healthy functioning of democracy. Because of this we urge a,vote against the ordinance on May 8. the “clean indoor air” ordinance that will be put to Dade voters in less tha...  \n",
              "3  Una S. Ryan Professor of Medicine December 18, 1941. Bristol University, Bristol, England B.Sc 1963 Zoology, Chemistry and Microbiology Cambridge University, Cambridge, England Ph.D. 1968 Gell Biology 1967 ~ 1971 Director, Laboratory for Ultrastructure studies, Howard Hughes Medical Institute, Miami, Florida 1972 - 1977 Assistant Professor of Medicine, University of Miami School of Medicine, Miami, Florida 1977 - 1980 Associate Professor of Medicine, University of Miami School of Medicine, Miami, Florida 1980 - 1986 Research Professor of Medicine, University of Miami School of Medicine, Mi...  \n",
              "4                                                                                                                                                                                                                                                                                                                                                                                                                                                          -DRAPT- MANUFACTURING QUALITY PRODUCTS Prepared by Marcel A. Hamann Quality Assurance Department Brown & Williamson Tobacco Corporation Wovember 1989 681001023  "
            ]
          },
          "metadata": {},
          "execution_count": 14
        }
      ]
    },
    {
      "cell_type": "markdown",
      "metadata": {
        "id": "bY4v5mjtPfun"
      },
      "source": [
        "## Create DataLoader"
      ]
    },
    {
      "cell_type": "code",
      "metadata": {
        "id": "vOx33LAtQKY1"
      },
      "source": [
        "def get_features(r):\n",
        "\n",
        "  return r['text']\n",
        "\n",
        "def get_labels(r):\n",
        "\n",
        "  return r['label']"
      ],
      "execution_count": 15,
      "outputs": []
    },
    {
      "cell_type": "code",
      "source": [
        "df_train.keys()"
      ],
      "metadata": {
        "id": "ubSi_Bmdsl7K",
        "colab": {
          "base_uri": "https://localhost:8080/"
        },
        "outputId": "2c5cdccf-f54e-48f1-a10b-3e55a2acb91b"
      },
      "execution_count": 16,
      "outputs": [
        {
          "output_type": "execute_result",
          "data": {
            "text/plain": [
              "Index(['path', 'label', 'text'], dtype='object')"
            ]
          },
          "metadata": {},
          "execution_count": 16
        }
      ]
    },
    {
      "cell_type": "code",
      "source": [
        "#df_train = df_train[0:10000] "
      ],
      "metadata": {
        "id": "QaBJtsJCZJYx"
      },
      "execution_count": null,
      "outputs": []
    },
    {
      "cell_type": "code",
      "source": [
        "dblock_train = DataBlock(\n",
        "    blocks=(TextBlock.from_df(text_cols=['text', 'label'], seq_len=72), CategoryBlock),\n",
        "            get_x=get_features, \n",
        "            get_y=get_labels)\n",
        "\n",
        "dls = dblock_train.dataloaders(df_train, bs=64)\n",
        "dls.show_batch(max_n=2)"
      ],
      "metadata": {
        "id": "I2zEJW0stI2m",
        "colab": {
          "base_uri": "https://localhost:8080/",
          "height": 288
        },
        "outputId": "0fa7e48b-a9c4-49cb-a5e5-ff1bd2fd3829"
      },
      "execution_count": 17,
      "outputs": [
        {
          "output_type": "display_data",
          "data": {
            "text/html": [
              ""
            ],
            "text/plain": [
              "<IPython.core.display.HTML object>"
            ]
          },
          "metadata": {}
        },
        {
          "output_type": "stream",
          "name": "stderr",
          "text": [
            "/usr/local/lib/python3.7/dist-packages/numpy/core/_asarray.py:83: VisibleDeprecationWarning: Creating an ndarray from ragged nested sequences (which is a list-or-tuple of lists-or-tuples-or ndarrays with different lengths or shapes) is deprecated. If you meant to do this, you must specify 'dtype=object' when creating the ndarray\n",
            "  return array(a, dtype, copy=False, order=order)\n"
          ]
        },
        {
          "output_type": "display_data",
          "data": {
            "text/html": [
              "<table border=\"1\" class=\"dataframe\">\n",
              "  <thead>\n",
              "    <tr style=\"text-align: right;\">\n",
              "      <th></th>\n",
              "      <th>text</th>\n",
              "      <th>category</th>\n",
              "    </tr>\n",
              "  </thead>\n",
              "  <tbody>\n",
              "    <tr>\n",
              "      <th>0</th>\n",
              "      <td>xxbos xxfld 1 - xxrep 4 — _ xxup xxunk xxmaj wah 95 seme of xxmaj congress wring for xxunk ion , # lie - xxunk xxunk une xxmaj aly lucky wo draw a sal group for pro conference , xxmaj yet whea xxmaj rep ” xxmaj mike xxmaj xxunk . a xxmaj democrat fom xxmaj oh falled ) oe xxunk , be xxunk 2d xxunk and about 70 repos “ tae xxunk vas xxmaj yo announce rein : troduction ia the “ new xxmaj congres of ‘ xxunk xxmaj bul to ban ‘ all adversing of ‘ bacco products cluding even win dow xxunk by sores tat sol them , xxunk timed ihe xxunk for he day ler a meeting of ihe xxmaj american xxmaj bat ‘ xxunk in xxmaj new xxmaj oren because be ‘ ie xxunk 10 be able to announce ‘ xxunk ‘ xxunk of his</td>\n",
              "      <td>9</td>\n",
              "    </tr>\n",
              "    <tr>\n",
              "      <th>1</th>\n",
              "      <td>xxbos xxfld 1 ‘ xxunk ( xxunk exposure ) . xxmaj al xxunk xxmaj there 1 no offical xxunk xxunk level xxunk of carson xxunk is 2 pom xxunk ai xxunk - as me : xxmaj xxunk xxunk . xxunk xxunk ( criteria lor » xxmaj xxunk xxmaj standard , xxmaj xxunk xxmaj exposure xxmaj we xxmaj xxunk xxmaj xxunk , xxup niosh , xxmaj de- enim 1878 ) xxmaj second the carbon xxunk found i xxmaj string s waters reports 4800 poh ‘ shich xxunk is not 2400 times the rec ‘ xxunk av standard lor occupational expo- ute , whichis 2 ppm 2 xxrep 3 0 ppd ) xxmaj we are conducting 8 limited environ rental ‘ and heath xxunk inthe xxmaj toone , xxmaj tenn .. area in xxmaj connection with our study of wastewater xxunk ‘ ant plant workers in nearby xxmaj memphis , whe workers</td>\n",
              "      <td>9</td>\n",
              "    </tr>\n",
              "  </tbody>\n",
              "</table>"
            ],
            "text/plain": [
              "<IPython.core.display.HTML object>"
            ]
          },
          "metadata": {}
        }
      ]
    },
    {
      "cell_type": "markdown",
      "metadata": {
        "id": "MClnyCFIRQsS"
      },
      "source": [
        "## Classification Model"
      ]
    },
    {
      "cell_type": "code",
      "metadata": {
        "id": "RLDNSEnSXZLf"
      },
      "source": [
        "from fastai.text.all import *"
      ],
      "execution_count": 18,
      "outputs": []
    },
    {
      "cell_type": "code",
      "metadata": {
        "id": "yFi9cVezirz9",
        "colab": {
          "base_uri": "https://localhost:8080/",
          "height": 37
        },
        "outputId": "75738c1e-2c11-4f0c-c8cb-420ab433855b"
      },
      "source": [
        "learn = text_classifier_learner(dls, AWD_LSTM, drop_mult=0.5,metrics=[error_rate, accuracy, Perplexity()]).to_fp16()"
      ],
      "execution_count": 19,
      "outputs": [
        {
          "output_type": "display_data",
          "data": {
            "text/html": [
              "\n",
              "    <div>\n",
              "        <style>\n",
              "            /* Turns off some styling */\n",
              "            progress {\n",
              "                /* gets rid of default border in Firefox and Opera. */\n",
              "                border: none;\n",
              "                /* Needs to be in here for Safari polyfill so background images work as expected. */\n",
              "                background-size: auto;\n",
              "            }\n",
              "            .progress-bar-interrupted, .progress-bar-interrupted::-webkit-progress-bar {\n",
              "                background: #F44336;\n",
              "            }\n",
              "        </style>\n",
              "      <progress value='105070592' class='' max='105067061' style='width:300px; height:20px; vertical-align: middle;'></progress>\n",
              "      100.00% [105070592/105067061 00:02<00:00]\n",
              "    </div>\n",
              "    "
            ],
            "text/plain": [
              "<IPython.core.display.HTML object>"
            ]
          },
          "metadata": {}
        }
      ]
    },
    {
      "cell_type": "code",
      "metadata": {
        "id": "Zo2DlMlnirz-",
        "colab": {
          "base_uri": "https://localhost:8080/",
          "height": 144
        },
        "outputId": "5af572d5-2dbb-42cc-eee0-73edc5742509"
      },
      "source": [
        "learn.fine_tune(1, 2e-2)"
      ],
      "execution_count": 20,
      "outputs": [
        {
          "output_type": "display_data",
          "data": {
            "text/html": [
              "<table border=\"1\" class=\"dataframe\">\n",
              "  <thead>\n",
              "    <tr style=\"text-align: left;\">\n",
              "      <th>epoch</th>\n",
              "      <th>train_loss</th>\n",
              "      <th>valid_loss</th>\n",
              "      <th>error_rate</th>\n",
              "      <th>accuracy</th>\n",
              "      <th>perplexity</th>\n",
              "      <th>time</th>\n",
              "    </tr>\n",
              "  </thead>\n",
              "  <tbody>\n",
              "    <tr>\n",
              "      <td>0</td>\n",
              "      <td>1.008232</td>\n",
              "      <td>0.459538</td>\n",
              "      <td>0.134533</td>\n",
              "      <td>0.865467</td>\n",
              "      <td>1.583342</td>\n",
              "      <td>12:29</td>\n",
              "    </tr>\n",
              "  </tbody>\n",
              "</table>"
            ],
            "text/plain": [
              "<IPython.core.display.HTML object>"
            ]
          },
          "metadata": {}
        },
        {
          "output_type": "display_data",
          "data": {
            "text/html": [
              "<table border=\"1\" class=\"dataframe\">\n",
              "  <thead>\n",
              "    <tr style=\"text-align: left;\">\n",
              "      <th>epoch</th>\n",
              "      <th>train_loss</th>\n",
              "      <th>valid_loss</th>\n",
              "      <th>error_rate</th>\n",
              "      <th>accuracy</th>\n",
              "      <th>perplexity</th>\n",
              "      <th>time</th>\n",
              "    </tr>\n",
              "  </thead>\n",
              "  <tbody>\n",
              "    <tr>\n",
              "      <td>0</td>\n",
              "      <td>0.017255</td>\n",
              "      <td>0.000035</td>\n",
              "      <td>0.000016</td>\n",
              "      <td>0.999984</td>\n",
              "      <td>1.000035</td>\n",
              "      <td>31:35</td>\n",
              "    </tr>\n",
              "  </tbody>\n",
              "</table>"
            ],
            "text/plain": [
              "<IPython.core.display.HTML object>"
            ]
          },
          "metadata": {}
        }
      ]
    },
    {
      "cell_type": "code",
      "metadata": {
        "id": "OuPTd5rbirz_",
        "colab": {
          "base_uri": "https://localhost:8080/",
          "height": 974
        },
        "outputId": "d84b3d59-506d-42c6-fda3-cc4fa4a1a0f4"
      },
      "source": [
        "learn.show_results()"
      ],
      "execution_count": 21,
      "outputs": [
        {
          "output_type": "display_data",
          "data": {
            "text/html": [
              ""
            ],
            "text/plain": [
              "<IPython.core.display.HTML object>"
            ]
          },
          "metadata": {}
        },
        {
          "output_type": "display_data",
          "data": {
            "text/html": [
              "<table border=\"1\" class=\"dataframe\">\n",
              "  <thead>\n",
              "    <tr style=\"text-align: right;\">\n",
              "      <th></th>\n",
              "      <th>text</th>\n",
              "      <th>category</th>\n",
              "      <th>category_</th>\n",
              "    </tr>\n",
              "  </thead>\n",
              "  <tbody>\n",
              "    <tr>\n",
              "      <th>0</th>\n",
              "      <td>xxbos xxfld 1 xxmaj me xxmaj xxunk ot al / xxup febs xxmaj lier 38 ( 198 ) 201 - 205 halothane ( 9 ) . and possibly from the carcinogenic effects ofthe xxunk activated by xxup xxunk , ‘ as xxup cyp2a6 is responsible for xxmaj c : oxidation which is the major metabolic pathway of nicotine ( 15.40 ) , xxmaj xxunk and co - workers [ 41 ] xxunk that lack of xxup xxunk would affect smoking behaviour . xxmaj it was shown , that xxunk subjects carrying defective xxup xxunk alleles were found among smokers as compared to non - smokers and they also provided evidence that smokers xxunk a defective xxup xxunk allele smoked in general sx eer cigarettes per day . xxmaj because this study used the old genotyping method , it can not ‘ oe excluded that some individuals were xxunk and that</td>\n",
              "      <td>6</td>\n",
              "      <td>6</td>\n",
              "    </tr>\n",
              "    <tr>\n",
              "      <th>1</th>\n",
              "      <td>xxbos xxfld 1 ° xxup the xxup new xxup york xxup times xxup s. xxmaj new xxmaj york , xxmaj new xxmaj york “ april 15 , 1966 2 xxup xxunk xxunk © xxup by xxup tax xxup officials xxunk xxunk xxmaj smuggling xxmaj from xxmaj south to xxmaj evade xxmaj local xxmaj xxunk 82 ° \" xxmaj by xxup martin xxup arnold | xxup baltimore , xxmaj april 4 — xxmaj or- xxunk crime ‘ xxunk are ‘ apparently taking over . the sy xxunk cigarette business , tax ss xxunk sald here today . xxmaj indications of the organized xxunk of the smuggling , mostly ‘ from xxmaj north xxmaj carolina , were noted in the speed with which xxunk legal help is provided jo for arrested smugglers . and : an xxmaj increase in the xxunk xxup s55 ‘ of state cigarette - tax stamps . xxmaj</td>\n",
              "      <td>9</td>\n",
              "      <td>9</td>\n",
              "    </tr>\n",
              "    <tr>\n",
              "      <th>2</th>\n",
              "      <td>xxbos xxfld 1 xxmaj ns xxmaj classified xxunk xxrep 4 e ae oe xxup xxunk xxup advertisements ww xxunk the xxunk of tha xxunk . xxmaj rate : 1 xxmaj size xxmaj xxunk year , per word $ 0 . 6 times fa cone xxmaj gea yet , per word 448 % 15 times in contact xxup sbs xxmaj pb xxmaj fe , 20 . tee i xxunk yen , xxup bot ora $ 4 . or and mumber couse for a xxmaj xxunk xxmaj pose xxunk xxunk for 2 words . xxunk xxunk , xxmaj full xxunk must accompany , your xxmaj xxunk xxmaj adder : xxmaj xxunk ” xxmaj department , xxmaj wea xxmaj xxunk 488 xxmaj xxunk xxmaj ave , xxmaj net , xxmaj nat . 10028 . ‘ schools xxup xxunk xxup to xxup type &amp; 4 weeks , xxmaj xxunk ia 6 ‘ recta :</td>\n",
              "      <td>4</td>\n",
              "      <td>4</td>\n",
              "    </tr>\n",
              "    <tr>\n",
              "      <th>3</th>\n",
              "      <td>xxbos xxfld 1 xxmaj diversification in the tobacco industry xxmaj the following able representa xxunk tothe xxunk profiles of the six xxmaj american cigarette manufacturers published xxmaj inthe xxmaj december 1983 xxrep 3 s ue of the xxmaj new xxmaj york xxmaj state xxmaj journal of xxmaj medicine ( 63 : 1328 - 1332 ) and xxunk xxmaj the xxmaj cigarete xxmaj under . world xxmaj secaucus , xxmaj ni , xxmaj lyle xxmaj stuart , 1985 ) , xxmaj the caries tables at . the subsidiaries , xxup us xxunk brands , xxunk themes . ad ‘ xxunk agencies , and sponsorships and promotions . xxmaj als noted vere figures on overall advertising expenditures , ‘ cigaretes ate by far the mos advertised prot in soir . xxmaj more than xxunk lon i peat cach year inthe xxup us by the tobacco companies to promote cigarette smoking . xxmaj</td>\n",
              "      <td>9</td>\n",
              "      <td>9</td>\n",
              "    </tr>\n",
              "    <tr>\n",
              "      <th>4</th>\n",
              "      <td>xxbos xxfld 1 xxup r.j . mcdonald “ neutrophil xxmaj elastase xxmaj augments xxmaj acute xxmaj xxunk xxmaj injury in xxmaj isolated xxmaj rat xxmaj lungs xxmaj perfused with xxmaj neutrophil xxmaj xxunk * xxup ruth xxup j. xxup mcdonald , xxup linda xxup v. xxup xxunk , and xxup john xxup e. xxup repine xxmaj neutrophils and neutrophil - derived toxic 0 ; ‘ metabolites appear to contribute to several forms of acute tung injury , including the xxmaj adult xxmaj respiratory xxmaj distress xxmaj syndrome ( ards ) . xxmaj toxic ‘ xxunk from neutrophils also partici : pate in animal and isolated perfused tung . ‘ models of acute lung injury ( 1 - 3 ) . xxmaj this pression is based on findings that neutrophil depletion or xxup o ; metabolite scavenger treat- ‘ ment reduces ing injury in various intact an imal models of lung</td>\n",
              "      <td>6</td>\n",
              "      <td>6</td>\n",
              "    </tr>\n",
              "    <tr>\n",
              "      <th>5</th>\n",
              "      <td>xxbos xxfld 1 em xxunk . 0 - 60 1 iss te sae eran xxmaj biochemical xxmaj analysis of a xxmaj mutant xxmaj tetrahymena xxmaj lacking xxmaj outer xxmaj dynein xxmaj arms xxup susan xxup a. xxup xxunk ! xxup anita xxup xxunk , * xxup xxunk xxup kong , ‘ connie xxup s. xxup xxunk ‘ * and xxup david xxup g. xxup xxunk * * xxmaj departments of xxmaj zoology * and xxmaj xxunk . * * xxmaj miami xxmaj university , xxmaj oxford , xxmaj ohio xxunk xxup abstract . xxmaj xxunk thermophila mutants xxunk for the oad mutation xxunk xxunk when grown at the reste temperature , and xxunk isolated from xxunk mutants lack approximately 90 % oftheir outer dynein arms . xxmaj electrophoretic analyses of xxunk isolated from xxunk mutants ( oad xxunk ) indicate they contain significantly fewer ofthe 22 $ dynein xxunk chains</td>\n",
              "      <td>6</td>\n",
              "      <td>6</td>\n",
              "    </tr>\n",
              "    <tr>\n",
              "      <th>6</th>\n",
              "      <td>xxbos xxfld 1 xxup ff xxmaj principal xxunk xxmaj director ( last frst miso } ter , xxmaj biographical xxmaj sketch xxmaj judith xxup a. xxmaj foster xxmaj page 2 xxmaj rich , xxup c.b . , xxmaj goud , xxup h.d . , xxmaj xxunk , xxup m. , xxmaj rosenbloom , xxup j. , and xxmaj foster , xxup j.a . ( 1993 ) . xxmaj developmental xxmaj regulation of xxmaj aortic xxmaj elastin xxmaj gene xxmaj expression xxmaj involves xxmaj disruption of and xxup igf - i xxmaj sensitive xxmaj repressor xxmaj complex . xxmaj xxunk , xxmaj biophys . xxmaj res . xxmaj commun . , xxunk - 1322 . xxmaj foster , xxup ja . , xxmaj rich , xxup c.b . , and xxmaj ginsburg , xxup c. ( 1994 ) . xxmaj elastin xxmaj biochemistry and xxmaj pulmonary xxmaj fibrosis . xxmaj in</td>\n",
              "      <td>14</td>\n",
              "      <td>14</td>\n",
              "    </tr>\n",
              "    <tr>\n",
              "      <th>7</th>\n",
              "      <td>xxbos xxfld 1 ( reprinted from xxmaj nature , xxmaj vol 276 . xxmaj no . $ 687 , pp . 510 - 511 xxmaj november 30 1978 ) © xxmaj xxunk xxmaj journals xxmaj lid , 1978 xxmaj transformed cell lines susceptible or resistant to in vivo surveillance against tumorigenesis xxup the transformation of a normal cell 10 one which grows as a cancer requires several steps , one of which may involve the escape from tumour surveillance ’ , xxmaj we describe here an experiment designed to define these steps more clearly . xxmaj the principle isto transform normal continuous ce xxrep 3 l ines in viro and then select for transformants by their growth in agarose ” xxmaj these procedures avoid any host selection . xxmaj by testing the tumorigenicity of these cloned , transformed cell ines in normal and immunodeficient mice , it would be possible</td>\n",
              "      <td>6</td>\n",
              "      <td>6</td>\n",
              "    </tr>\n",
              "    <tr>\n",
              "      <th>8</th>\n",
              "      <td>xxbos xxfld 1 xxup ff xxmaj xxunk xxunk - xxunk xxmaj xxunk xxunk . fst . mate ) : xxmaj alberts , xxmaj mark xxup j. xxup biographical xxup sketch xxmaj gwe ie xxunk xxunk torte key personne and consutants and xxunk . xxmaj ben wins xxunk investigator program decor . xxmaj photocopy xxmaj uns page foreach xxunk . xxmaj margaret xxup a. xxunk - vance | xxmaj associate xxmaj medical xxmaj research xxmaj professor xxup sst xxmaj ea xxrep 3 s xxup tc xxup se xxup es xxup tr xxup xxunk on xxup xxunk xxup ano xxup location [ once | xxunk | xxunk xxmaj wells xxmaj college , xxmaj aurora , xxmaj new xxmaj york | xxup bal 1973 xxmaj biology xxmaj indiana xxmaj univ . xxmaj indianapolis , xxmaj indiana ph.d . 1978 xxmaj med . xxmaj genetics ‘ univ . of xxunk xxmaj hill , xxmaj</td>\n",
              "      <td>14</td>\n",
              "      <td>14</td>\n",
              "    </tr>\n",
              "  </tbody>\n",
              "</table>"
            ],
            "text/plain": [
              "<IPython.core.display.HTML object>"
            ]
          },
          "metadata": {}
        }
      ]
    },
    {
      "cell_type": "code",
      "metadata": {
        "id": "Rw8c5QKzir0E",
        "colab": {
          "base_uri": "https://localhost:8080/"
        },
        "outputId": "4255e2aa-60b1-4c5e-b890-8a232a8a3b74"
      },
      "source": [
        "learn.save('text_classification_stags')"
      ],
      "execution_count": 23,
      "outputs": [
        {
          "output_type": "execute_result",
          "data": {
            "text/plain": [
              "Path('models/text_classification_stags.pth')"
            ]
          },
          "metadata": {},
          "execution_count": 23
        }
      ]
    },
    {
      "cell_type": "code",
      "metadata": {
        "id": "ITlc1bIjir0E"
      },
      "source": [
        "# load model\n",
        "learn = learn.load('text_classification_stags')"
      ],
      "execution_count": 24,
      "outputs": []
    },
    {
      "cell_type": "code",
      "metadata": {
        "id": "jtMn6zPzDua6",
        "colab": {
          "base_uri": "https://localhost:8080/",
          "height": 112
        },
        "outputId": "5ab41980-8c67-4f8d-d5f8-a92f471663b5"
      },
      "source": [
        "learn.unfreeze()\n",
        "learn.fit_one_cycle(2, 2e-3)"
      ],
      "execution_count": 25,
      "outputs": [
        {
          "output_type": "display_data",
          "data": {
            "text/html": [
              "<table border=\"1\" class=\"dataframe\">\n",
              "  <thead>\n",
              "    <tr style=\"text-align: left;\">\n",
              "      <th>epoch</th>\n",
              "      <th>train_loss</th>\n",
              "      <th>valid_loss</th>\n",
              "      <th>error_rate</th>\n",
              "      <th>accuracy</th>\n",
              "      <th>perplexity</th>\n",
              "      <th>time</th>\n",
              "    </tr>\n",
              "  </thead>\n",
              "  <tbody>\n",
              "    <tr>\n",
              "      <td>0</td>\n",
              "      <td>0.029397</td>\n",
              "      <td>0.000201</td>\n",
              "      <td>0.000047</td>\n",
              "      <td>0.999953</td>\n",
              "      <td>1.000201</td>\n",
              "      <td>31:29</td>\n",
              "    </tr>\n",
              "    <tr>\n",
              "      <td>1</td>\n",
              "      <td>0.017368</td>\n",
              "      <td>0.000087</td>\n",
              "      <td>0.000016</td>\n",
              "      <td>0.999984</td>\n",
              "      <td>1.000087</td>\n",
              "      <td>31:31</td>\n",
              "    </tr>\n",
              "  </tbody>\n",
              "</table>"
            ],
            "text/plain": [
              "<IPython.core.display.HTML object>"
            ]
          },
          "metadata": {}
        }
      ]
    },
    {
      "cell_type": "code",
      "metadata": {
        "id": "uke_9kj5Ef-j",
        "colab": {
          "base_uri": "https://localhost:8080/",
          "height": 306
        },
        "outputId": "300d64a2-4685-4999-c36e-c5290bd31ed9"
      },
      "source": [
        "learn.unfreeze()\n",
        "learn.lr_find()"
      ],
      "execution_count": 26,
      "outputs": [
        {
          "output_type": "display_data",
          "data": {
            "text/html": [
              ""
            ],
            "text/plain": [
              "<IPython.core.display.HTML object>"
            ]
          },
          "metadata": {}
        },
        {
          "output_type": "execute_result",
          "data": {
            "text/plain": [
              "SuggestedLRs(valley=0.0002290867705596611)"
            ]
          },
          "metadata": {},
          "execution_count": 26
        },
        {
          "output_type": "display_data",
          "data": {
            "image/png": "[encoded data removed]",
            "text/plain": [
              "<Figure size 432x288 with 1 Axes>"
            ]
          },
          "metadata": {
            "needs_background": "light"
          }
        }
      ]
    },
    {
      "cell_type": "code",
      "metadata": {
        "id": "BKcBxTsjOCVH"
      },
      "source": [
        "learn_lm = text_classifier_learner(dls, AWD_LSTM, drop_mult=0.5,metrics=[error_rate, accuracy, Perplexity()]).to_fp16()"
      ],
      "execution_count": 27,
      "outputs": []
    },
    {
      "cell_type": "code",
      "metadata": {
        "id": "bXw6ULBgOTB_",
        "colab": {
          "base_uri": "https://localhost:8080/",
          "height": 176
        },
        "outputId": "c001caa7-1fb2-42c5-f815-2c5d08312768"
      },
      "source": [
        "learn_lm.fine_tune(2, 1e-2)"
      ],
      "execution_count": 28,
      "outputs": [
        {
          "output_type": "display_data",
          "data": {
            "text/html": [
              "<table border=\"1\" class=\"dataframe\">\n",
              "  <thead>\n",
              "    <tr style=\"text-align: left;\">\n",
              "      <th>epoch</th>\n",
              "      <th>train_loss</th>\n",
              "      <th>valid_loss</th>\n",
              "      <th>error_rate</th>\n",
              "      <th>accuracy</th>\n",
              "      <th>perplexity</th>\n",
              "      <th>time</th>\n",
              "    </tr>\n",
              "  </thead>\n",
              "  <tbody>\n",
              "    <tr>\n",
              "      <td>0</td>\n",
              "      <td>0.961871</td>\n",
              "      <td>0.408532</td>\n",
              "      <td>0.119486</td>\n",
              "      <td>0.880514</td>\n",
              "      <td>1.504608</td>\n",
              "      <td>12:32</td>\n",
              "    </tr>\n",
              "  </tbody>\n",
              "</table>"
            ],
            "text/plain": [
              "<IPython.core.display.HTML object>"
            ]
          },
          "metadata": {}
        },
        {
          "output_type": "display_data",
          "data": {
            "text/html": [
              "<table border=\"1\" class=\"dataframe\">\n",
              "  <thead>\n",
              "    <tr style=\"text-align: left;\">\n",
              "      <th>epoch</th>\n",
              "      <th>train_loss</th>\n",
              "      <th>valid_loss</th>\n",
              "      <th>error_rate</th>\n",
              "      <th>accuracy</th>\n",
              "      <th>perplexity</th>\n",
              "      <th>time</th>\n",
              "    </tr>\n",
              "  </thead>\n",
              "  <tbody>\n",
              "    <tr>\n",
              "      <td>0</td>\n",
              "      <td>0.020051</td>\n",
              "      <td>0.000111</td>\n",
              "      <td>0.000031</td>\n",
              "      <td>0.999969</td>\n",
              "      <td>1.000111</td>\n",
              "      <td>31:34</td>\n",
              "    </tr>\n",
              "    <tr>\n",
              "      <td>1</td>\n",
              "      <td>0.013370</td>\n",
              "      <td>0.000027</td>\n",
              "      <td>0.000016</td>\n",
              "      <td>0.999984</td>\n",
              "      <td>1.000027</td>\n",
              "      <td>31:35</td>\n",
              "    </tr>\n",
              "  </tbody>\n",
              "</table>"
            ],
            "text/plain": [
              "<IPython.core.display.HTML object>"
            ]
          },
          "metadata": {}
        }
      ]
    },
    {
      "cell_type": "markdown",
      "source": [
        "##Validation"
      ],
      "metadata": {
        "id": "02q2cfAEv-2L"
      }
    },
    {
      "cell_type": "code",
      "source": [
        "#df_test = df_test[0:3000]"
      ],
      "metadata": {
        "id": "dI-21566m66z"
      },
      "execution_count": null,
      "outputs": []
    },
    {
      "cell_type": "code",
      "metadata": {
        "id": "PDKUp3_xOeF9",
        "colab": {
          "base_uri": "https://localhost:8080/",
          "height": 72
        },
        "outputId": "7305b5dd-51f8-418d-a175-c005a9da2f46"
      },
      "source": [
        "# create dataloader of test\n",
        "dblock_test = DataBlock(\n",
        "    blocks=(TextBlock.from_df('text', seq_len=72), CategoryBlock),\n",
        "            get_x=get_features, \n",
        "            get_y=get_labels)\n",
        "\n",
        "dloader_test = dblock_test.dataloaders(df_test, bs=64)"
      ],
      "execution_count": 30,
      "outputs": [
        {
          "output_type": "display_data",
          "data": {
            "text/html": [
              ""
            ],
            "text/plain": [
              "<IPython.core.display.HTML object>"
            ]
          },
          "metadata": {}
        },
        {
          "output_type": "stream",
          "name": "stderr",
          "text": [
            "/usr/local/lib/python3.7/dist-packages/numpy/core/_asarray.py:83: VisibleDeprecationWarning: Creating an ndarray from ragged nested sequences (which is a list-or-tuple of lists-or-tuples-or ndarrays with different lengths or shapes) is deprecated. If you meant to do this, you must specify 'dtype=object' when creating the ndarray\n",
            "  return array(a, dtype, copy=False, order=order)\n"
          ]
        }
      ]
    },
    {
      "cell_type": "code",
      "source": [
        "df_test.shape"
      ],
      "metadata": {
        "colab": {
          "base_uri": "https://localhost:8080/"
        },
        "id": "2-JznWsKjRCi",
        "outputId": "0ed917d6-f234-41c1-8f2d-4786437149b0"
      },
      "execution_count": 31,
      "outputs": [
        {
          "output_type": "execute_result",
          "data": {
            "text/plain": [
              "(39998, 3)"
            ]
          },
          "metadata": {},
          "execution_count": 31
        }
      ]
    },
    {
      "cell_type": "code",
      "metadata": {
        "id": "OHx_4h_GO0_6"
      },
      "source": [
        "test_dl = dloader_test.test_dl(df_test['text'])"
      ],
      "execution_count": 32,
      "outputs": []
    },
    {
      "cell_type": "code",
      "source": [
        "preds = learn_lm.get_preds(dl=test_dl, with_decoded=True)"
      ],
      "metadata": {
        "colab": {
          "base_uri": "https://localhost:8080/",
          "height": 17
        },
        "id": "_XCUILOFIi-e",
        "outputId": "213fa20d-1b87-4b4d-a8cf-eb074926b745"
      },
      "execution_count": 33,
      "outputs": [
        {
          "output_type": "display_data",
          "data": {
            "text/html": [
              ""
            ],
            "text/plain": [
              "<IPython.core.display.HTML object>"
            ]
          },
          "metadata": {}
        }
      ]
    },
    {
      "cell_type": "code",
      "source": [
        "len(preds)"
      ],
      "metadata": {
        "id": "IRn1BE2Xlw98",
        "colab": {
          "base_uri": "https://localhost:8080/"
        },
        "outputId": "6bec0d46-3d4a-4b39-d962-be6496930772"
      },
      "execution_count": 34,
      "outputs": [
        {
          "output_type": "execute_result",
          "data": {
            "text/plain": [
              "3"
            ]
          },
          "metadata": {},
          "execution_count": 34
        }
      ]
    },
    {
      "cell_type": "code",
      "source": [
        "learn_lm.validate()"
      ],
      "metadata": {
        "id": "ZdEp4Buulx1k",
        "colab": {
          "base_uri": "https://localhost:8080/",
          "height": 34
        },
        "outputId": "010dc638-e1a4-4dbd-b304-e2344640e916"
      },
      "execution_count": 35,
      "outputs": [
        {
          "output_type": "display_data",
          "data": {
            "text/html": [
              ""
            ],
            "text/plain": [
              "<IPython.core.display.HTML object>"
            ]
          },
          "metadata": {}
        },
        {
          "output_type": "execute_result",
          "data": {
            "text/plain": [
              "(#4) [2.6544117645244114e-05,1.5625244486727752e-05,0.9999843835830688,1.0000265836715698]"
            ]
          },
          "metadata": {},
          "execution_count": 35
        }
      ]
    },
    {
      "cell_type": "code",
      "source": [
        "interp = ClassificationInterpretation.from_learner(learn_lm)\n",
        "interp.plot_confusion_matrix()"
      ],
      "metadata": {
        "id": "10eEHOedl1cY",
        "colab": {
          "base_uri": "https://localhost:8080/",
          "height": 310
        },
        "outputId": "7fae776f-eb2e-4986-8f24-f3214a38548a"
      },
      "execution_count": 36,
      "outputs": [
        {
          "output_type": "display_data",
          "data": {
            "text/html": [
              ""
            ],
            "text/plain": [
              "<IPython.core.display.HTML object>"
            ]
          },
          "metadata": {}
        },
        {
          "output_type": "display_data",
          "data": {
            "image/png": "[encoded data removed]",
            "text/plain": [
              "<Figure size 432x288 with 1 Axes>"
            ]
          },
          "metadata": {
            "needs_background": "light"
          }
        }
      ]
    },
    {
      "cell_type": "code",
      "source": [
        ""
      ],
      "metadata": {
        "id": "lpcp8aSoeos9"
      },
      "execution_count": null,
      "outputs": []
    },
    {
      "cell_type": "code",
      "source": [
        ""
      ],
      "metadata": {
        "id": "Di9IjWLhepAS"
      },
      "execution_count": null,
      "outputs": []
    }
  ]
}