{
  "nbformat": 4,
  "nbformat_minor": 0,
  "metadata": {
    "colab": {
      "name": "Fastai_with_tags.ipynb",
      "provenance": [],
      "collapsed_sections": [],
      "machine_shape": "hm",
      "include_colab_link": true
    },
    "jupytext": {
      "split_at_heading": true
    },
    "kernelspec": {
      "display_name": "Python 3",
      "language": "python",
      "name": "python3"
    },
    "accelerator": "GPU"
  },
  "cells": [
    {
      "cell_type": "markdown",
      "metadata": {
        "id": "view-in-github",
        "colab_type": "text"
      },
      "source": [
        "<a href=\"https://colab.research.google.com/github/patriciamedyna/Classifier_page/blob/main/Fastai_with_tags.ipynb\" target=\"_parent\"><img src=\"https://colab.research.google.com/assets/colab-badge.svg\" alt=\"Open In Colab\"/></a>"
      ]
    },
    {
      "cell_type": "code",
      "metadata": {
        "id": "UJr_N-oGWpgm",
        "colab": {
          "base_uri": "https://localhost:8080/",
          "height": 0
        },
        "outputId": "7ccb76cd-db18-41ee-9c6c-5adf34c561a2"
      },
      "source": [
        "! [ -e /content ] && pip install -Uqq fastai"
      ],
      "execution_count": 1,
      "outputs": [
        {
          "output_type": "stream",
          "name": "stdout",
          "text": [
            "\u001b[K     |████████████████████████████████| 189 kB 4.1 MB/s \n",
            "\u001b[K     |████████████████████████████████| 56 kB 6.3 MB/s \n",
            "\u001b[?25h"
          ]
        }
      ]
    },
    {
      "cell_type": "code",
      "metadata": {
        "id": "yaH3SUzZjuA-",
        "colab": {
          "base_uri": "https://localhost:8080/",
          "height": 0
        },
        "outputId": "6e0a7765-1587-4887-ddb7-b8ef54b585a0"
      },
      "source": [
        "#hide\n",
        "!pip install -Uqq fastbook\n",
        "import fastbook"
      ],
      "execution_count": 2,
      "outputs": [
        {
          "output_type": "stream",
          "name": "stdout",
          "text": [
            "\u001b[K     |████████████████████████████████| 720 kB 4.3 MB/s \n",
            "\u001b[K     |████████████████████████████████| 1.2 MB 97.4 MB/s \n",
            "\u001b[K     |████████████████████████████████| 46 kB 5.7 MB/s \n",
            "\u001b[K     |████████████████████████████████| 51 kB 414 kB/s \n",
            "\u001b[?25h"
          ]
        }
      ]
    },
    {
      "cell_type": "code",
      "metadata": {
        "id": "ZZ_arKKyj3Co"
      },
      "source": [
        "#hide\n",
        "from fastbook import *\n",
        "from IPython.display import display,HTML"
      ],
      "execution_count": 3,
      "outputs": []
    },
    {
      "cell_type": "code",
      "metadata": {
        "id": "-gu3NxcBirzx"
      },
      "source": [
        "from fastai.basics import *\n",
        "from fastai.text.core import *\n",
        "from fastai.text.data import *\n",
        "from fastai.text.models.core import *\n",
        "from fastai.text.models.awdlstm import *\n",
        "from fastai.callback.rnn import *\n",
        "from fastai.callback.progress import *\n",
        "from fastai.vision import *"
      ],
      "execution_count": 4,
      "outputs": []
    },
    {
      "cell_type": "code",
      "metadata": {
        "colab": {
          "base_uri": "https://localhost:8080/",
          "height": 0
        },
        "id": "51jgSOs8zZrX",
        "outputId": "406d6b80-1dfd-452b-a2a4-37729de22a89"
      },
      "source": [
        "from google.colab import drive\n",
        "drive.mount('/content/drive')"
      ],
      "execution_count": 5,
      "outputs": [
        {
          "output_type": "stream",
          "name": "stdout",
          "text": [
            "Mounted at /content/drive\n"
          ]
        }
      ]
    },
    {
      "cell_type": "code",
      "metadata": {
        "id": "F3fCSD3QmMF_",
        "colab": {
          "base_uri": "https://localhost:8080/",
          "height": 150
        },
        "outputId": "af3d4966-749a-4e56-cde2-b42c8de0f19e"
      },
      "source": [
        "path = '/content/drive/MyDrive/Colab Notebooks/Tobacco_LSTM/layout/'\n",
        "#path = '/content/drive/.shortcut-targets-by-id/1R_vnrbg04zsdpye6d-dv190eSUWCL07i/Tobacco_LSTM/layout/'\n",
        "df_train = pd.read_csv(path + 'train_tags.csv', delimiter=',', error_bad_lines=False)\n",
        "df_train = df_train.drop(['text'], axis=1)\n",
        "df_train.head(1)"
      ],
      "execution_count": 7,
      "outputs": [
        {
          "output_type": "execute_result",
          "data": {
            "text/html": [
              "<div>\n",
              "<style scoped>\n",
              "    .dataframe tbody tr th:only-of-type {\n",
              "        vertical-align: middle;\n",
              "    }\n",
              "\n",
              "    .dataframe tbody tr th {\n",
              "        vertical-align: top;\n",
              "    }\n",
              "\n",
              "    .dataframe thead th {\n",
              "        text-align: right;\n",
              "    }\n",
              "</style>\n",
              "<table border=\"1\" class=\"dataframe\">\n",
              "  <thead>\n",
              "    <tr style=\"text-align: right;\">\n",
              "      <th></th>\n",
              "      <th>binder</th>\n",
              "      <th>docid</th>\n",
              "      <th>class</th>\n",
              "      <th>text_tags</th>\n",
              "    </tr>\n",
              "  </thead>\n",
              "  <tbody>\n",
              "    <tr>\n",
              "      <th>0</th>\n",
              "      <td>Tobacco800</td>\n",
              "      <td>aah97e00-page02_1</td>\n",
              "      <td>FirstPage</td>\n",
              "      <td>['\\n', 'xxQ00_01 xxbob  \\n', 'xxeob xxQ00_02\\n', '\\n', 'xxQ00_01 xxbob PHILIP MORRIS\\n', 'xxeob xxQ00_02\\n', '\\n', 'xxQ00_01 xxbob EUROPE MIDDLE EAST AFRICA\\n', 'xxeob xxQ00_02\\n', '\\n', 'xxQ00_01 xxbob RESEARCH AND DEVELOPMENT\\n', 'xxeob xxQ01_02\\n', '\\n', 'xxQ01_02 xxbob Neuchatel, duly 14, 1977\\n', 'xxeob xxQ01_03\\n', '\\n', 'xxQ01_01 xxbob Dr. M.A. Manzelli,\\n', 'PHILIP MORRIS INC.,\\n', 'Research Center,\\n', 'P.O. Box 3 D\\n', 'Richmond, Va. 23206\\n', 'U.S.A. .\\n', 'xxeob xxQ02_01\\n', '\\n', 'xxQ02_01 xxbob Dear Art,\\n', 'xxeob xxQ02_01\\n', '\\n', 'xxQ03_01 xxbob xxbcet Please proposed pro...</td>\n",
              "    </tr>\n",
              "  </tbody>\n",
              "</table>\n",
              "</div>"
            ],
            "text/plain": [
              "       binder              docid      class  \\\n",
              "0  Tobacco800  aah97e00-page02_1  FirstPage   \n",
              "\n",
              "                                                                                                                                                                                                                                                                                                                                                                                                                                                                                                                                                                                                                 text_tags  \n",
              "0  ['\\n', 'xxQ00_01 xxbob  \\n', 'xxeob xxQ00_02\\n', '\\n', 'xxQ00_01 xxbob PHILIP MORRIS\\n', 'xxeob xxQ00_02\\n', '\\n', 'xxQ00_01 xxbob EUROPE MIDDLE EAST AFRICA\\n', 'xxeob xxQ00_02\\n', '\\n', 'xxQ00_01 xxbob RESEARCH AND DEVELOPMENT\\n', 'xxeob xxQ01_02\\n', '\\n', 'xxQ01_02 xxbob Neuchatel, duly 14, 1977\\n', 'xxeob xxQ01_03\\n', '\\n', 'xxQ01_01 xxbob Dr. M.A. Manzelli,\\n', 'PHILIP MORRIS INC.,\\n', 'Research Center,\\n', 'P.O. Box 3 D\\n', 'Richmond, Va. 23206\\n', 'U.S.A. .\\n', 'xxeob xxQ02_01\\n', '\\n', 'xxQ02_01 xxbob Dear Art,\\n', 'xxeob xxQ02_01\\n', '\\n', 'xxQ03_01 xxbob xxbcet Please proposed pro...  "
            ]
          },
          "metadata": {},
          "execution_count": 7
        }
      ]
    },
    {
      "cell_type": "code",
      "metadata": {
        "id": "mUIsYb_KhWYl",
        "colab": {
          "base_uri": "https://localhost:8080/",
          "height": 133
        },
        "outputId": "446071d5-14eb-4e00-c9fd-70690d113e95"
      },
      "source": [
        "df_test = pd.read_csv(path + 'test_tags.csv', delimiter=',', error_bad_lines=False)\n",
        "df_test = df_test.drop(['text'], axis=1)\n",
        "df_test.head(1)"
      ],
      "execution_count": 8,
      "outputs": [
        {
          "output_type": "execute_result",
          "data": {
            "text/html": [
              "<div>\n",
              "<style scoped>\n",
              "    .dataframe tbody tr th:only-of-type {\n",
              "        vertical-align: middle;\n",
              "    }\n",
              "\n",
              "    .dataframe tbody tr th {\n",
              "        vertical-align: top;\n",
              "    }\n",
              "\n",
              "    .dataframe thead th {\n",
              "        text-align: right;\n",
              "    }\n",
              "</style>\n",
              "<table border=\"1\" class=\"dataframe\">\n",
              "  <thead>\n",
              "    <tr style=\"text-align: right;\">\n",
              "      <th></th>\n",
              "      <th>binder</th>\n",
              "      <th>docid</th>\n",
              "      <th>class</th>\n",
              "      <th>text_tags</th>\n",
              "    </tr>\n",
              "  </thead>\n",
              "  <tbody>\n",
              "    <tr>\n",
              "      <th>0</th>\n",
              "      <td>Tobacco800</td>\n",
              "      <td>tkj51f00_1</td>\n",
              "      <td>FirstPage</td>\n",
              "      <td>['\\n', 'xxQ00_01 xxbob      \\n', 'xxeob xxQ00_02\\n', '\\n', 'xxQ00_01 xxbob h Department\\n', 'xxeob xxQ00_02\\n', '\\n', 'xxQ00_00 xxbob MARCH 26, 1986\\n', 'FILE NOTL\\n', 'xxeob xxQ00_03\\n', '\\n', 'xxQ00_02 xxbob    \\n', 'xxeob xxQ00_03\\n', '\\n', 'xxQ00_02 xxbob Pare}\\n', 'xxeob xxQ00_02\\n', '\\n', 'xxQ00_00 xxbob COMPONERTS/415_&amp; St\\n', 'MATLLARD REACTION “Al! FLAVOR\\n', 'xxeob xxQ00_02\\n', '\\n', 'xxQ00_02 xxbob Fisgert, af Grove AG GALLON Toe lo. 1\\n', 'xxeob xxQ00_03\\n', '\\n', 'xxQ00_00 xxbob the layer of the Mailiare\\n', 'Jdentification of flavor components in aqueous\\n', 'this communicati...</td>\n",
              "    </tr>\n",
              "  </tbody>\n",
              "</table>\n",
              "</div>"
            ],
            "text/plain": [
              "       binder       docid      class  \\\n",
              "0  Tobacco800  tkj51f00_1  FirstPage   \n",
              "\n",
              "                                                                                                                                                                                                                                                                                                                                                                                                                                                                                                                                                                                                                 text_tags  \n",
              "0  ['\\n', 'xxQ00_01 xxbob      \\n', 'xxeob xxQ00_02\\n', '\\n', 'xxQ00_01 xxbob h Department\\n', 'xxeob xxQ00_02\\n', '\\n', 'xxQ00_00 xxbob MARCH 26, 1986\\n', 'FILE NOTL\\n', 'xxeob xxQ00_03\\n', '\\n', 'xxQ00_02 xxbob    \\n', 'xxeob xxQ00_03\\n', '\\n', 'xxQ00_02 xxbob Pare}\\n', 'xxeob xxQ00_02\\n', '\\n', 'xxQ00_00 xxbob COMPONERTS/415_& St\\n', 'MATLLARD REACTION “Al! FLAVOR\\n', 'xxeob xxQ00_02\\n', '\\n', 'xxQ00_02 xxbob Fisgert, af Grove AG GALLON Toe lo. 1\\n', 'xxeob xxQ00_03\\n', '\\n', 'xxQ00_00 xxbob the layer of the Mailiare\\n', 'Jdentification of flavor components in aqueous\\n', 'this communicati...  "
            ]
          },
          "metadata": {},
          "execution_count": 8
        }
      ]
    },
    {
      "cell_type": "code",
      "metadata": {
        "id": "dahU9BCbcJBi"
      },
      "source": [
        "#data = df_test.drop(columns='docid')\n",
        "#df_test = data.drop(columns='binder')\n",
        "#unsup = df_test.drop(columns='class')\n",
        "#unsup.head(2)"
      ],
      "execution_count": null,
      "outputs": []
    },
    {
      "cell_type": "markdown",
      "metadata": {
        "id": "bY4v5mjtPfun"
      },
      "source": [
        "## Create DataLoader"
      ]
    },
    {
      "cell_type": "code",
      "metadata": {
        "id": "vOx33LAtQKY1"
      },
      "source": [
        "def get_features(r):\n",
        "\n",
        "  return r['text']\n",
        "\n",
        "def get_labels(r):\n",
        "\n",
        "  return r['class']"
      ],
      "execution_count": 16,
      "outputs": []
    },
    {
      "cell_type": "code",
      "metadata": {
        "colab": {
          "base_uri": "https://localhost:8080/",
          "height": 0
        },
        "id": "stgXmmS-vkK6",
        "outputId": "69a40e8d-8f24-43d8-cd2f-0b56fa0b195c"
      },
      "source": [
        "df_train.keys()"
      ],
      "execution_count": 17,
      "outputs": [
        {
          "output_type": "execute_result",
          "data": {
            "text/plain": [
              "Index(['binder', 'docid', 'class', 'text_tags'], dtype='object')"
            ]
          },
          "metadata": {},
          "execution_count": 17
        }
      ]
    },
    {
      "cell_type": "code",
      "metadata": {
        "id": "8Sii5TZBY_kR"
      },
      "source": [
        "?TextBlock.from_df"
      ],
      "execution_count": null,
      "outputs": []
    },
    {
      "cell_type": "code",
      "metadata": {
        "colab": {
          "base_uri": "https://localhost:8080/",
          "height": 236
        },
        "id": "v9uaiqMalx0x",
        "outputId": "e3174e09-ffd9-43f1-d83b-304dc67faca2"
      },
      "source": [
        "dblock_train = DataBlock(\n",
        "    blocks=(TextBlock.from_df(text_cols=['text_tags', 'class'], seq_len=72), CategoryBlock),\n",
        "            get_x=get_features, \n",
        "            get_y=get_labels)\n",
        "\n",
        "dloader_train = dblock_train.dataloaders(df_train, bs=64)\n",
        "dloader_train.show_batch(max_n=2)"
      ],
      "execution_count": 18,
      "outputs": [
        {
          "output_type": "display_data",
          "data": {
            "text/html": [
              ""
            ],
            "text/plain": [
              "<IPython.core.display.HTML object>"
            ]
          },
          "metadata": {}
        },
        {
          "output_type": "stream",
          "name": "stderr",
          "text": [
            "/usr/local/lib/python3.7/dist-packages/numpy/core/_asarray.py:83: VisibleDeprecationWarning: Creating an ndarray from ragged nested sequences (which is a list-or-tuple of lists-or-tuples-or ndarrays with different lengths or shapes) is deprecated. If you meant to do this, you must specify 'dtype=object' when creating the ndarray\n",
            "  return array(a, dtype, copy=False, order=order)\n"
          ]
        },
        {
          "output_type": "display_data",
          "data": {
            "text/html": [
              "<table border=\"1\" class=\"dataframe\">\n",
              "  <thead>\n",
              "    <tr style=\"text-align: right;\">\n",
              "      <th></th>\n",
              "      <th>text</th>\n",
              "      <th>category</th>\n",
              "    </tr>\n",
              "  </thead>\n",
              "  <tbody>\n",
              "    <tr>\n",
              "      <th>0</th>\n",
              "      <td>xxbos xxfld 1 [ ' \\n ' , ' xxq00_00 xxbob \\n ' , ' xxeob xxq00_00 \\n ' , ' \\n ' , ' xxq00_00 xxbob xxbcet - \\n ' , ' xxecet \\n ' , ' xxunk \\n ' , ' xxeob xxq00_00 \\n ' , ' \\n ' , ' xxq00_00 xxbob \\n ' , ' xxeob xxq00_00 \\n ' , ' \\n ' , ' xxq00_00 xxbob \\n ' , ' xxeob xxq00_01 \\n ' , ' \\n ' , ' xxq00_00 xxbob xxbcet xxmaj the | end xxmaj xxunk t xxmaj content xxmaj of xxmaj one xxmaj hundred \\n ' , ' xxecet \\n ' , ' xxeob xxq00_01 \\n ' , ' \\n ' , ' xxq00_00 xxbob \\n ' , ' xxeob xxq00_01 \\n ' , ' \\n ' , ' xxq00_00 xxbob xxbcet \\n ' , ' xxecet \\n ' , '</td>\n",
              "      <td>NextPage</td>\n",
              "    </tr>\n",
              "    <tr>\n",
              "      <th>1</th>\n",
              "      <td>xxbos xxfld 1 [ ' \\n ' , ' xxq00_00 xxbob xxup lo xxmaj absorbance xxmaj unit xxmaj full xxmaj seale \\n ' , ' at 550 xxmaj dm \\n ' , ' \" po xxup la xxmaj xxunk xxunk xxunk xxmaj abi xxup xxunk \\ ' xxup ant xxrep 3 a xxmaj dy \\n ' , ' xxeob xxq00_01 \\n ' , ' \\n ' , ' xxq00_00 xxbob [ ge \\n ' , ' xxbcet om xxmaj xxunk ia xxunk xxmaj xxunk ni \\n ' , ' xxecet \\n ' , ' pre xxunk xxmaj tet xxup tm ce xxup ct xxup tt xxup tt nat \\n ' , ' he s xxmaj fee et xxrep 3 t xxrep 3 t xxrep 3 t xxup tt at en \\n ' , ' ei i \\n ' , ' foes xxunk xxup ce at xxunk xxup tt xxup tt</td>\n",
              "      <td>NextPage</td>\n",
              "    </tr>\n",
              "  </tbody>\n",
              "</table>"
            ],
            "text/plain": [
              "<IPython.core.display.HTML object>"
            ]
          },
          "metadata": {}
        }
      ]
    },
    {
      "cell_type": "markdown",
      "metadata": {
        "id": "MClnyCFIRQsS"
      },
      "source": [
        "## Classification Model"
      ]
    },
    {
      "cell_type": "code",
      "metadata": {
        "id": "RLDNSEnSXZLf"
      },
      "source": [
        "from fastai.text.all import *"
      ],
      "execution_count": 21,
      "outputs": []
    },
    {
      "cell_type": "code",
      "metadata": {
        "colab": {
          "base_uri": "https://localhost:8080/",
          "height": 37
        },
        "id": "yFi9cVezirz9",
        "outputId": "7bb236c8-0931-480a-e1ff-88f91274dac0"
      },
      "source": [
        "learn = text_classifier_learner(dloader_train, \n",
        "                                AWD_LSTM, \n",
        "                                drop_mult=0.5, \n",
        "                                metrics=[error_rate, accuracy, Perplexity()]).to_fp16()"
      ],
      "execution_count": 22,
      "outputs": [
        {
          "output_type": "display_data",
          "data": {
            "text/html": [
              "\n",
              "    <div>\n",
              "        <style>\n",
              "            /* Turns off some styling */\n",
              "            progress {\n",
              "                /* gets rid of default border in Firefox and Opera. */\n",
              "                border: none;\n",
              "                /* Needs to be in here for Safari polyfill so background images work as expected. */\n",
              "                background-size: auto;\n",
              "            }\n",
              "            .progress-bar-interrupted, .progress-bar-interrupted::-webkit-progress-bar {\n",
              "                background: #F44336;\n",
              "            }\n",
              "        </style>\n",
              "      <progress value='105070592' class='' max='105067061' style='width:300px; height:20px; vertical-align: middle;'></progress>\n",
              "      100.00% [105070592/105067061 00:08<00:00]\n",
              "    </div>\n",
              "    "
            ],
            "text/plain": [
              "<IPython.core.display.HTML object>"
            ]
          },
          "metadata": {}
        }
      ]
    },
    {
      "cell_type": "code",
      "metadata": {
        "colab": {
          "base_uri": "https://localhost:8080/",
          "height": 239
        },
        "id": "Zo2DlMlnirz-",
        "outputId": "f3a8edc4-79f6-4b57-ccaa-b17b43cfcbbc"
      },
      "source": [
        "learn.fine_tune(4, 1e-2)"
      ],
      "execution_count": 24,
      "outputs": [
        {
          "output_type": "display_data",
          "data": {
            "text/html": [
              "<table border=\"1\" class=\"dataframe\">\n",
              "  <thead>\n",
              "    <tr style=\"text-align: left;\">\n",
              "      <th>epoch</th>\n",
              "      <th>train_loss</th>\n",
              "      <th>valid_loss</th>\n",
              "      <th>error_rate</th>\n",
              "      <th>accuracy</th>\n",
              "      <th>perplexity</th>\n",
              "      <th>time</th>\n",
              "    </tr>\n",
              "  </thead>\n",
              "  <tbody>\n",
              "    <tr>\n",
              "      <td>0</td>\n",
              "      <td>0.493676</td>\n",
              "      <td>0.553769</td>\n",
              "      <td>0.247573</td>\n",
              "      <td>0.752427</td>\n",
              "      <td>1.739799</td>\n",
              "      <td>00:06</td>\n",
              "    </tr>\n",
              "  </tbody>\n",
              "</table>"
            ],
            "text/plain": [
              "<IPython.core.display.HTML object>"
            ]
          },
          "metadata": {}
        },
        {
          "output_type": "display_data",
          "data": {
            "text/html": [
              "<table border=\"1\" class=\"dataframe\">\n",
              "  <thead>\n",
              "    <tr style=\"text-align: left;\">\n",
              "      <th>epoch</th>\n",
              "      <th>train_loss</th>\n",
              "      <th>valid_loss</th>\n",
              "      <th>error_rate</th>\n",
              "      <th>accuracy</th>\n",
              "      <th>perplexity</th>\n",
              "      <th>time</th>\n",
              "    </tr>\n",
              "  </thead>\n",
              "  <tbody>\n",
              "    <tr>\n",
              "      <td>0</td>\n",
              "      <td>0.458843</td>\n",
              "      <td>0.442531</td>\n",
              "      <td>0.145631</td>\n",
              "      <td>0.854369</td>\n",
              "      <td>1.556642</td>\n",
              "      <td>00:14</td>\n",
              "    </tr>\n",
              "    <tr>\n",
              "      <td>1</td>\n",
              "      <td>0.445363</td>\n",
              "      <td>0.479731</td>\n",
              "      <td>0.145631</td>\n",
              "      <td>0.854369</td>\n",
              "      <td>1.615639</td>\n",
              "      <td>00:14</td>\n",
              "    </tr>\n",
              "    <tr>\n",
              "      <td>2</td>\n",
              "      <td>0.421416</td>\n",
              "      <td>0.421471</td>\n",
              "      <td>0.131068</td>\n",
              "      <td>0.868932</td>\n",
              "      <td>1.524202</td>\n",
              "      <td>00:14</td>\n",
              "    </tr>\n",
              "    <tr>\n",
              "      <td>3</td>\n",
              "      <td>0.388716</td>\n",
              "      <td>0.403923</td>\n",
              "      <td>0.116505</td>\n",
              "      <td>0.883495</td>\n",
              "      <td>1.497689</td>\n",
              "      <td>00:14</td>\n",
              "    </tr>\n",
              "  </tbody>\n",
              "</table>"
            ],
            "text/plain": [
              "<IPython.core.display.HTML object>"
            ]
          },
          "metadata": {}
        }
      ]
    },
    {
      "cell_type": "code",
      "metadata": {
        "colab": {
          "base_uri": "https://localhost:8080/",
          "height": 731
        },
        "id": "aMYLf9Th5KrZ",
        "outputId": "9fa668cb-79ec-4e6b-e21e-0205ecf30af4"
      },
      "source": [
        "learn.show_results()"
      ],
      "execution_count": 25,
      "outputs": [
        {
          "output_type": "display_data",
          "data": {
            "text/html": [
              ""
            ],
            "text/plain": [
              "<IPython.core.display.HTML object>"
            ]
          },
          "metadata": {}
        },
        {
          "output_type": "display_data",
          "data": {
            "text/html": [
              "<table border=\"1\" class=\"dataframe\">\n",
              "  <thead>\n",
              "    <tr style=\"text-align: right;\">\n",
              "      <th></th>\n",
              "      <th>text</th>\n",
              "      <th>category</th>\n",
              "      <th>category_</th>\n",
              "    </tr>\n",
              "  </thead>\n",
              "  <tbody>\n",
              "    <tr>\n",
              "      <th>0</th>\n",
              "      <td>xxbos xxfld 1 [ ' \\n ' , ' xxq00_00 xxbob &amp; \\n ' , ' xxeob xxq00_00 \\n ' , ' \\n ' , ' xxq00_00 xxbob xxup from xxup wachtel xxup lipton xxup rosen xxup matz \\n ' , ' + \\n ' , ' xxeob xxq00_01 \\n ' , ' \\n ' , ' xxq01_00 xxbob xxup martin xxup xxunk , \\n ' , ' xxunk xxup h , xxup wachtell \\n ' , ' xxbcet xxup xxunk xxup xxunk \\n ' , ' xxecet \\n ' , ' bernard xxup w. xxup nussbaum \\n ' , ' xxbcet xxup xxunk xxmaj ds xxup ratcher \\n ' , ' xxecet \\n ' , ' douglas 5 , xxunk \\n ' , ' xxbcet xxup steven xxup m , xxup xxunk \\n ' , ' xxecet \\n ' , ' charles xxup t. xxup xxunk \\n ' ,</td>\n",
              "      <td>FirstPage</td>\n",
              "      <td>FirstPage</td>\n",
              "    </tr>\n",
              "    <tr>\n",
              "      <th>1</th>\n",
              "      <td>xxbos xxfld 1 [ ' \\n ' , ' xxq04_00 xxbob xxup tet ] \\n ' , ' xxunk \\n ' , ' te \\n ' , ' cong \\n ' , ' xxeob xxq05_00 \\n ' , ' \\n ' , ' xxq05_00 xxbob xxmaj xxunk \\n ' , ' xxeob xxq05_00 \\n ' , ' \\n ' , ' xxq05_00 xxbob “ \" \\n ' , ' xxeob xxq05_00 \\n ' , ' \\n ' , ' xxq00_00 xxbob ¥ \\n ' , ' xxeob xxq00_00 \\n ' , ' \\n ' , ' xxq00_00 xxbob xxbcet xxunk xxup lipton \\n ' , ' xxecet \\n ' , ' xxunk xxup m. xxup xxunk xxup al \\n ' , ' theodore xxup xxunk \\n ' , ' xxunk xxup w. xxup nussbaum \\n ' , ' xxunk xxmaj be xxunk \\n ' , ' xxunk % xxup xxunk</td>\n",
              "      <td>FirstPage</td>\n",
              "      <td>FirstPage</td>\n",
              "    </tr>\n",
              "    <tr>\n",
              "      <th>2</th>\n",
              "      <td>xxbos xxfld 1 [ ' \\n ' , ' xxq00_00 xxbob xxup wlrk rightfax xxmaj server 5 / 28 / 99 5:12 : xxup page xxunk / 6 \\n ' , ' xxeob xxq00_02 \\n ' , ' \\n ' , ' xxq00_00 xxbob rightfak \\n ' , ' ‘ u : james xxmaj wilson company : lorillard xxmaj tobacco xxmaj company \\n ' , ' xxeob xxq00_02 \\n ' , ' \\n ' , ' xxq00_00 xxbob xxup martin xxup lipton \\n ' , ' xxunk xxup mh . xxup wachtell \\n ' , ' theodore xxup xxunk \\n ' , ' xxbcet xxunk xxup w. xxup nussbaum \\n ' , ' xxecet \\n ' , ' richard 0 , xxup katcher \\n ' , ' douglas 5 . xxup xxunk \\n ' , ' steven 4 , xxup barna \\n ' , ' chain xxup j. xxup xxunk</td>\n",
              "      <td>FirstPage</td>\n",
              "      <td>FirstPage</td>\n",
              "    </tr>\n",
              "    <tr>\n",
              "      <th>3</th>\n",
              "      <td>xxbos xxfld 1 [ ' \\n ' , ' xxq00_00 xxbob xxup martin xxup xxunk oa \\n ' , ' xxunk xxup m. xxup xxunk , \\n ' , ' xxunk xxup gewertz \\n ' , ' bernard xxup w , xxup xxunk \\n ' , ' xxunk cl xxunk , \\n ' , ' douglas &amp; . xxup xxunk \\n ' , ' steven xxup hm . xxmaj barna \\n ' , ' charles t xxup mederrick \\n ' , ' xxunk 4 . xxup fortgang \\n ' , ' peter © . xxup canellos \\n ' , ' michael xxup w. xxup xxunk \\n ' , ' allan xxup a. xxup xxunk \\n ' , ' barry xxup a. xxup bryer \\n ' , ' xxunk xxmaj by xxup pedowitz \\n ' , ' roles xxup b. xxup mazur \\n ' , ' paul xxup xxunk , if</td>\n",
              "      <td>FirstPage</td>\n",
              "      <td>FirstPage</td>\n",
              "    </tr>\n",
              "    <tr>\n",
              "      <th>4</th>\n",
              "      <td>xxbos xxfld 1 [ ' \\n ' , ' xxq00_00 xxbob xxbcet \\n ' , ' xxecet \\n ' , ' xxeob xxq00_00 \\n ' , ' \\n ' , ' xxq00_00 xxbob \\n ' , ' xxeob xxq02_00 \\n ' , ' \\n ' , ' xxq02_00 xxbob xxbcet \\n ' , ' xxecet \\n ' , ' xxeob xxq02_00 \\n ' , ' \\n ' , ' xxq00_00 xxbob \\n ' , ' xxeob xxq02_00 \\n ' , ' \\n ' , ' xxq02_00 xxbob xxbcet \\n ' , ' xxecet \\n ' , ' xxeob xxq03_00 \\n ' , ' \\n ' , ' xxq00_00 xxbob \\n ' , ' xxeob xxq03_00 \\n ' , ' \\n ' , ' xxq03_00 xxbob \\n ' , ' xxeob xxq03_00 \\n ' , ' \\n ' , ' xxq03_00 xxbob xxbcet \\n ' , ' xxecet \\n ' ,</td>\n",
              "      <td>FirstPage</td>\n",
              "      <td>FirstPage</td>\n",
              "    </tr>\n",
              "    <tr>\n",
              "      <th>5</th>\n",
              "      <td>xxbos xxfld 1 [ ' \\n ' , ' xxq00_00 xxbob \\n ' , ' xxeob xxq00_00 \\n ' , ' \\n ' , ' xxq00_00 xxbob b \\n ' , ' xxunk for xxunk xxmaj xxunk -u . xxup s.a . \\n ' , ' xxeob xxq00_02 \\n ' , ' \\n ' , ' xxq00_00 xxbob xxunk of xxmaj agriculture -2- xxmaj xxunk xxmaj lh , xxunk \\n ' , ' xxeob xxq00_03 \\n ' , ' \\n ' , ' xxq00_01 xxbob \\n ' , ' xxeob xxq00_01 \\n ' , ' \\n ' , ' xxq00_00 xxbob xxunk have xxunk , long bes \\n ' , ' xxeob xxq00_01 \\n ' , ' \\n ' , ' xxq00_00 xxbob 2 \\n ' , ' xxunk xxunk mary state exp \\n ' , ' xxeob xxq01_01 \\n ' , ' \\n ' , ' xxq00_00 xxbob \\n</td>\n",
              "      <td>NextPage</td>\n",
              "      <td>NextPage</td>\n",
              "    </tr>\n",
              "    <tr>\n",
              "      <th>6</th>\n",
              "      <td>xxbos xxfld 1 [ ' \\n ' , ' xxq00_03 xxbob xxunk \\n ' , ' au \\n ' , ' nn \\n ' , ' xxeob xxq00_03 \\n ' , ' \\n ' , ' xxq02_00 xxbob \\n ' , ' xxeob xxq04_00 \\n ' , ' \\n ' , ' xxq02_02 xxbob “ xxunk xxunk &gt; xxunk xxunk \\n ' , ' y \" “ fp ‘ a “ 04 \\n ' , ' xxbcet | \\n ' , ' xxecet \\n ' , ' xxeob xxq02_03 \\n ' , ' \\n ' , ' xxq02_00 xxbob \\n ' , ' xxeob xxq02_00 \\n ' , ' \\n ' , ' xxq02_00 xxbob \\n ' , ' xxeob xxq04_00 \\n ' , ' \\n ' , ' xxq02_00 xxbob \\n ' , ' xxeob xxq03_00 \\n ' , ' \\n ' , ' xxq02_02 xxbob xxup xxunk \\n</td>\n",
              "      <td>NextPage</td>\n",
              "      <td>NextPage</td>\n",
              "    </tr>\n",
              "    <tr>\n",
              "      <th>7</th>\n",
              "      <td>xxbos xxfld 1 [ ' \\n ' , ' xxq00_00 xxbob oe c © thal \\n ' , ' xxeob xxq00_03 \\n ' , ' \\n ' , ' xxq00_00 xxbob , xxmaj xxunk xxmaj counci . xxmaj for xxmaj toracco xxunk - u , ia \\n ' , ' successor xxup to xxup the \\n ' , ' tosacco xxup industry xxup res \\n ' , ' xxunk xxup third xxup avenue \\n ' , ' . \\n ' , ' xxbcet xxup new xxup york . xxup n.y . 10017 \\n ' , ' xxecet \\n ' , ' xxeob xxq00_03 \\n ' , ' \\n ' , ' xxq00_02 xxbob \\n ' , ' xxeob xxq00_02 \\n ' , ' \\n ' , ' xxq00_01 xxbob \\n ' , ' xxeob xxq00_02 \\n ' , ' \\n ' , ' xxq01_02 xxbob , \\n ' , '</td>\n",
              "      <td>FirstPage</td>\n",
              "      <td>FirstPage</td>\n",
              "    </tr>\n",
              "    <tr>\n",
              "      <th>8</th>\n",
              "      <td>xxbos xxfld 1 [ ' \\n ' , ' xxq01_00 xxbob xxup day \\n ' , ' xxeob xxq01_00 \\n ' , ' \\n ' , ' xxq00_00 xxbob \\n ' , ' xxeob xxq00_03 \\n ' , ' \\n ' , ' xxq00_00 xxbob \\n ' , ' xxeob xxq00_03 \\n ' , ' \\n ' , ' xxq00_00 xxbob \\n ' , ' xxeob xxq00_03 \\n ' , ' \\n ' , ' xxq00_00 xxbob \\n ' , ' xxeob xxq00_03 \\n ' , ' \\n ' , ' xxq00_00 xxbob \\n ' , ' xxeob xxq00_03 \\n ' , ' \\n ' , ' xxq00_00 xxbob \\n ' , ' xxeob xxq00_03 \\n ' , ' \\n ' , ' xxq00_00 xxbob \\n ' , ' xxeob xxq00_03 \\n ' , ' \\n ' , ' xxq00_00 xxbob \\n ' , ' xxeob xxq00_03 \\n ' ,</td>\n",
              "      <td>NextPage</td>\n",
              "      <td>NextPage</td>\n",
              "    </tr>\n",
              "  </tbody>\n",
              "</table>"
            ],
            "text/plain": [
              "<IPython.core.display.HTML object>"
            ]
          },
          "metadata": {}
        }
      ]
    },
    {
      "cell_type": "code",
      "metadata": {
        "colab": {
          "base_uri": "https://localhost:8080/",
          "height": 0
        },
        "id": "lETegor95Qh7",
        "outputId": "1fe0d757-d6f4-48e7-9f27-31f4f07c5180"
      },
      "source": [
        "learn.save('text_classification_tags')"
      ],
      "execution_count": 26,
      "outputs": [
        {
          "output_type": "execute_result",
          "data": {
            "text/plain": [
              "Path('models/text_classification_tags.pth')"
            ]
          },
          "metadata": {},
          "execution_count": 26
        }
      ]
    },
    {
      "cell_type": "code",
      "metadata": {
        "id": "_wLLPwel5XeP"
      },
      "source": [
        "# load model\n",
        "learn = learn.load('text_classification_tags')"
      ],
      "execution_count": 27,
      "outputs": []
    },
    {
      "cell_type": "code",
      "metadata": {
        "colab": {
          "base_uri": "https://localhost:8080/",
          "height": 363
        },
        "id": "jSHpFTl95hV9",
        "outputId": "51fd25a4-47f4-4c24-a6fe-3d59b2230078"
      },
      "source": [
        "learn.unfreeze()\n",
        "learn.fit_one_cycle(10, 1e-2)"
      ],
      "execution_count": 28,
      "outputs": [
        {
          "output_type": "display_data",
          "data": {
            "text/html": [
              "<table border=\"1\" class=\"dataframe\">\n",
              "  <thead>\n",
              "    <tr style=\"text-align: left;\">\n",
              "      <th>epoch</th>\n",
              "      <th>train_loss</th>\n",
              "      <th>valid_loss</th>\n",
              "      <th>error_rate</th>\n",
              "      <th>accuracy</th>\n",
              "      <th>perplexity</th>\n",
              "      <th>time</th>\n",
              "    </tr>\n",
              "  </thead>\n",
              "  <tbody>\n",
              "    <tr>\n",
              "      <td>0</td>\n",
              "      <td>0.308174</td>\n",
              "      <td>0.262522</td>\n",
              "      <td>0.077670</td>\n",
              "      <td>0.922330</td>\n",
              "      <td>1.300205</td>\n",
              "      <td>00:14</td>\n",
              "    </tr>\n",
              "    <tr>\n",
              "      <td>1</td>\n",
              "      <td>0.204415</td>\n",
              "      <td>0.309787</td>\n",
              "      <td>0.067961</td>\n",
              "      <td>0.932039</td>\n",
              "      <td>1.363135</td>\n",
              "      <td>00:14</td>\n",
              "    </tr>\n",
              "    <tr>\n",
              "      <td>2</td>\n",
              "      <td>0.173547</td>\n",
              "      <td>0.168911</td>\n",
              "      <td>0.067961</td>\n",
              "      <td>0.932039</td>\n",
              "      <td>1.184015</td>\n",
              "      <td>00:14</td>\n",
              "    </tr>\n",
              "    <tr>\n",
              "      <td>3</td>\n",
              "      <td>0.143694</td>\n",
              "      <td>0.355054</td>\n",
              "      <td>0.092233</td>\n",
              "      <td>0.907767</td>\n",
              "      <td>1.426257</td>\n",
              "      <td>00:14</td>\n",
              "    </tr>\n",
              "    <tr>\n",
              "      <td>4</td>\n",
              "      <td>0.121042</td>\n",
              "      <td>0.256915</td>\n",
              "      <td>0.077670</td>\n",
              "      <td>0.922330</td>\n",
              "      <td>1.292935</td>\n",
              "      <td>00:14</td>\n",
              "    </tr>\n",
              "    <tr>\n",
              "      <td>5</td>\n",
              "      <td>0.103347</td>\n",
              "      <td>0.307708</td>\n",
              "      <td>0.067961</td>\n",
              "      <td>0.932039</td>\n",
              "      <td>1.360304</td>\n",
              "      <td>00:14</td>\n",
              "    </tr>\n",
              "    <tr>\n",
              "      <td>6</td>\n",
              "      <td>0.089828</td>\n",
              "      <td>0.227798</td>\n",
              "      <td>0.009709</td>\n",
              "      <td>0.990291</td>\n",
              "      <td>1.255832</td>\n",
              "      <td>00:14</td>\n",
              "    </tr>\n",
              "    <tr>\n",
              "      <td>7</td>\n",
              "      <td>0.076783</td>\n",
              "      <td>0.314311</td>\n",
              "      <td>0.058252</td>\n",
              "      <td>0.941748</td>\n",
              "      <td>1.369315</td>\n",
              "      <td>00:14</td>\n",
              "    </tr>\n",
              "    <tr>\n",
              "      <td>8</td>\n",
              "      <td>0.064913</td>\n",
              "      <td>0.319826</td>\n",
              "      <td>0.043689</td>\n",
              "      <td>0.956311</td>\n",
              "      <td>1.376888</td>\n",
              "      <td>00:14</td>\n",
              "    </tr>\n",
              "    <tr>\n",
              "      <td>9</td>\n",
              "      <td>0.058122</td>\n",
              "      <td>0.324410</td>\n",
              "      <td>0.038835</td>\n",
              "      <td>0.961165</td>\n",
              "      <td>1.383214</td>\n",
              "      <td>00:14</td>\n",
              "    </tr>\n",
              "  </tbody>\n",
              "</table>"
            ],
            "text/plain": [
              "<IPython.core.display.HTML object>"
            ]
          },
          "metadata": {}
        }
      ]
    },
    {
      "cell_type": "code",
      "metadata": {
        "colab": {
          "base_uri": "https://localhost:8080/",
          "height": 306
        },
        "id": "vZXPgheW5noB",
        "outputId": "c62ebf43-9ae0-4f03-fad1-7d58af9a6182"
      },
      "source": [
        "learn.unfreeze()\n",
        "learn.lr_find()"
      ],
      "execution_count": 29,
      "outputs": [
        {
          "output_type": "display_data",
          "data": {
            "text/html": [
              ""
            ],
            "text/plain": [
              "<IPython.core.display.HTML object>"
            ]
          },
          "metadata": {}
        },
        {
          "output_type": "execute_result",
          "data": {
            "text/plain": [
              "SuggestedLRs(valley=0.0014454397605732083)"
            ]
          },
          "metadata": {},
          "execution_count": 29
        },
        {
          "output_type": "display_data",
          "data": {
            "image/png": "[encoded data removed]",
            "text/plain": [
              "<Figure size 432x288 with 1 Axes>"
            ]
          },
          "metadata": {
            "needs_background": "light"
          }
        }
      ]
    },
    {
      "cell_type": "code",
      "metadata": {
        "id": "U2C_Jnpa51Av"
      },
      "source": [
        "learn_lm = text_classifier_learner(dloader_train, AWD_LSTM, drop_mult=0.5,metrics=[error_rate, accuracy, Perplexity()]).to_fp16()"
      ],
      "execution_count": 32,
      "outputs": []
    },
    {
      "cell_type": "code",
      "metadata": {
        "colab": {
          "base_uri": "https://localhost:8080/",
          "height": 427
        },
        "id": "l6sV3HY859r-",
        "outputId": "0e578070-4a59-4e73-d9c2-fe8d39f3de35"
      },
      "source": [
        "learn_lm.fine_tune(10, 1e-2)"
      ],
      "execution_count": 33,
      "outputs": [
        {
          "output_type": "display_data",
          "data": {
            "text/html": [
              "<table border=\"1\" class=\"dataframe\">\n",
              "  <thead>\n",
              "    <tr style=\"text-align: left;\">\n",
              "      <th>epoch</th>\n",
              "      <th>train_loss</th>\n",
              "      <th>valid_loss</th>\n",
              "      <th>error_rate</th>\n",
              "      <th>accuracy</th>\n",
              "      <th>perplexity</th>\n",
              "      <th>time</th>\n",
              "    </tr>\n",
              "  </thead>\n",
              "  <tbody>\n",
              "    <tr>\n",
              "      <td>0</td>\n",
              "      <td>0.698727</td>\n",
              "      <td>0.642953</td>\n",
              "      <td>0.398058</td>\n",
              "      <td>0.601942</td>\n",
              "      <td>1.902089</td>\n",
              "      <td>00:06</td>\n",
              "    </tr>\n",
              "  </tbody>\n",
              "</table>"
            ],
            "text/plain": [
              "<IPython.core.display.HTML object>"
            ]
          },
          "metadata": {}
        },
        {
          "output_type": "display_data",
          "data": {
            "text/html": [
              "<table border=\"1\" class=\"dataframe\">\n",
              "  <thead>\n",
              "    <tr style=\"text-align: left;\">\n",
              "      <th>epoch</th>\n",
              "      <th>train_loss</th>\n",
              "      <th>valid_loss</th>\n",
              "      <th>error_rate</th>\n",
              "      <th>accuracy</th>\n",
              "      <th>perplexity</th>\n",
              "      <th>time</th>\n",
              "    </tr>\n",
              "  </thead>\n",
              "  <tbody>\n",
              "    <tr>\n",
              "      <td>0</td>\n",
              "      <td>0.535587</td>\n",
              "      <td>0.586056</td>\n",
              "      <td>0.320388</td>\n",
              "      <td>0.679612</td>\n",
              "      <td>1.796888</td>\n",
              "      <td>00:14</td>\n",
              "    </tr>\n",
              "    <tr>\n",
              "      <td>1</td>\n",
              "      <td>0.523819</td>\n",
              "      <td>0.541369</td>\n",
              "      <td>0.266990</td>\n",
              "      <td>0.733010</td>\n",
              "      <td>1.718357</td>\n",
              "      <td>00:14</td>\n",
              "    </tr>\n",
              "    <tr>\n",
              "      <td>2</td>\n",
              "      <td>0.496574</td>\n",
              "      <td>0.647066</td>\n",
              "      <td>0.291262</td>\n",
              "      <td>0.708738</td>\n",
              "      <td>1.909929</td>\n",
              "      <td>00:14</td>\n",
              "    </tr>\n",
              "    <tr>\n",
              "      <td>3</td>\n",
              "      <td>0.465329</td>\n",
              "      <td>0.437633</td>\n",
              "      <td>0.169903</td>\n",
              "      <td>0.830097</td>\n",
              "      <td>1.549037</td>\n",
              "      <td>00:14</td>\n",
              "    </tr>\n",
              "    <tr>\n",
              "      <td>4</td>\n",
              "      <td>0.427277</td>\n",
              "      <td>0.548185</td>\n",
              "      <td>0.140777</td>\n",
              "      <td>0.859223</td>\n",
              "      <td>1.730110</td>\n",
              "      <td>00:14</td>\n",
              "    </tr>\n",
              "    <tr>\n",
              "      <td>5</td>\n",
              "      <td>0.400555</td>\n",
              "      <td>0.542993</td>\n",
              "      <td>0.155340</td>\n",
              "      <td>0.844660</td>\n",
              "      <td>1.721150</td>\n",
              "      <td>00:14</td>\n",
              "    </tr>\n",
              "    <tr>\n",
              "      <td>6</td>\n",
              "      <td>0.373323</td>\n",
              "      <td>0.340764</td>\n",
              "      <td>0.106796</td>\n",
              "      <td>0.893204</td>\n",
              "      <td>1.406022</td>\n",
              "      <td>00:14</td>\n",
              "    </tr>\n",
              "    <tr>\n",
              "      <td>7</td>\n",
              "      <td>0.342014</td>\n",
              "      <td>0.331388</td>\n",
              "      <td>0.092233</td>\n",
              "      <td>0.907767</td>\n",
              "      <td>1.392900</td>\n",
              "      <td>00:14</td>\n",
              "    </tr>\n",
              "    <tr>\n",
              "      <td>8</td>\n",
              "      <td>0.314728</td>\n",
              "      <td>0.323890</td>\n",
              "      <td>0.082524</td>\n",
              "      <td>0.917476</td>\n",
              "      <td>1.382496</td>\n",
              "      <td>00:14</td>\n",
              "    </tr>\n",
              "    <tr>\n",
              "      <td>9</td>\n",
              "      <td>0.288135</td>\n",
              "      <td>0.322813</td>\n",
              "      <td>0.077670</td>\n",
              "      <td>0.922330</td>\n",
              "      <td>1.381007</td>\n",
              "      <td>00:14</td>\n",
              "    </tr>\n",
              "  </tbody>\n",
              "</table>"
            ],
            "text/plain": [
              "<IPython.core.display.HTML object>"
            ]
          },
          "metadata": {}
        }
      ]
    },
    {
      "cell_type": "markdown",
      "metadata": {
        "id": "tBfu7Kcg-tsS"
      },
      "source": [
        "## Validation"
      ]
    },
    {
      "cell_type": "code",
      "metadata": {
        "id": "waKIAp-xE3c7",
        "colab": {
          "base_uri": "https://localhost:8080/",
          "height": 72
        },
        "outputId": "c3ed0e39-bbfb-48ec-aefa-72c1b5832a52"
      },
      "source": [
        "# create dataloader of test\n",
        "dblock_test_tags = DataBlock(\n",
        "    blocks=(TextBlock.from_df('text_tags', seq_len=72), CategoryBlock),\n",
        "            get_x=get_features, \n",
        "            get_y=get_labels)\n",
        "\n",
        "dloader_test = dblock_test_tags.dataloaders(df_test, bs=64)"
      ],
      "execution_count": 35,
      "outputs": [
        {
          "output_type": "display_data",
          "data": {
            "text/html": [
              ""
            ],
            "text/plain": [
              "<IPython.core.display.HTML object>"
            ]
          },
          "metadata": {}
        },
        {
          "output_type": "stream",
          "name": "stderr",
          "text": [
            "/usr/local/lib/python3.7/dist-packages/numpy/core/_asarray.py:83: VisibleDeprecationWarning: Creating an ndarray from ragged nested sequences (which is a list-or-tuple of lists-or-tuples-or ndarrays with different lengths or shapes) is deprecated. If you meant to do this, you must specify 'dtype=object' when creating the ndarray\n",
            "  return array(a, dtype, copy=False, order=order)\n"
          ]
        }
      ]
    },
    {
      "cell_type": "code",
      "metadata": {
        "colab": {
          "base_uri": "https://localhost:8080/",
          "height": 17
        },
        "id": "zTsct_7BJcEZ",
        "outputId": "4f712ed5-6c6b-427e-f1d6-d5a80944b674"
      },
      "source": [
        "test_dl = dloader_test.test_dl(df_test['text_tags'])\n",
        "preds = learn.get_preds(dl=test_dl, with_decoded=True)"
      ],
      "execution_count": 37,
      "outputs": [
        {
          "output_type": "display_data",
          "data": {
            "text/html": [
              ""
            ],
            "text/plain": [
              "<IPython.core.display.HTML object>"
            ]
          },
          "metadata": {}
        }
      ]
    },
    {
      "cell_type": "code",
      "metadata": {
        "colab": {
          "base_uri": "https://localhost:8080/",
          "height": 0
        },
        "id": "x54712SoMZBJ",
        "outputId": "ca6dea26-2ab6-4f22-a999-16436bb4c28f"
      },
      "source": [
        "len(preds)"
      ],
      "execution_count": 38,
      "outputs": [
        {
          "output_type": "execute_result",
          "data": {
            "text/plain": [
              "3"
            ]
          },
          "metadata": {},
          "execution_count": 38
        }
      ]
    },
    {
      "cell_type": "code",
      "metadata": {
        "id": "BKcBxTsjOCVH",
        "colab": {
          "base_uri": "https://localhost:8080/",
          "height": 34
        },
        "outputId": "18cb82d6-ebb5-43a0-a083-297036bec338"
      },
      "source": [
        "learn.validate()"
      ],
      "execution_count": 39,
      "outputs": [
        {
          "output_type": "display_data",
          "data": {
            "text/html": [
              ""
            ],
            "text/plain": [
              "<IPython.core.display.HTML object>"
            ]
          },
          "metadata": {}
        },
        {
          "output_type": "execute_result",
          "data": {
            "text/plain": [
              "(#4) [0.3244098126888275,0.03883494809269905,0.9611650705337524,1.383213996887207]"
            ]
          },
          "metadata": {},
          "execution_count": 39
        }
      ]
    }
  ]
}