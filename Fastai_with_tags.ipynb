{
  "nbformat": 4,
  "nbformat_minor": 0,
  "metadata": {
    "colab": {
      "name": "Fastai_with_tags.ipynb",
      "provenance": [],
      "collapsed_sections": [],
      "machine_shape": "hm",
      "include_colab_link": true
    },
    "jupytext": {
      "split_at_heading": true
    },
    "kernelspec": {
      "display_name": "Python 3",
      "language": "python",
      "name": "python3"
    },
    "accelerator": "GPU"
  },
  "cells": [
    {
      "cell_type": "markdown",
      "metadata": {
        "id": "view-in-github",
        "colab_type": "text"
      },
      "source": [
        "<a href=\"https://colab.research.google.com/github/patriciamedyna/Classifier_page/blob/main/Fastai_with_tags.ipynb\" target=\"_parent\"><img src=\"https://colab.research.google.com/assets/colab-badge.svg\" alt=\"Open In Colab\"/></a>"
      ]
    },
    {
      "cell_type": "code",
      "metadata": {
        "id": "UJr_N-oGWpgm",
        "colab": {
          "base_uri": "https://localhost:8080/"
        },
        "outputId": "07e24cff-e423-472c-8a30-9cc62a8dc686"
      },
      "source": [
        "! [ -e /content ] && pip install -Uqq fastai"
      ],
      "execution_count": 1,
      "outputs": [
        {
          "output_type": "stream",
          "name": "stdout",
          "text": [
            "\u001b[K     |████████████████████████████████| 189 kB 8.6 MB/s \n",
            "\u001b[K     |████████████████████████████████| 56 kB 2.9 MB/s \n",
            "\u001b[?25h"
          ]
        }
      ]
    },
    {
      "cell_type": "code",
      "metadata": {
        "id": "yaH3SUzZjuA-",
        "colab": {
          "base_uri": "https://localhost:8080/"
        },
        "outputId": "49904dbd-2156-4cea-90a0-be6950c011b4"
      },
      "source": [
        "#hide\n",
        "!pip install -Uqq fastbook\n",
        "import fastbook"
      ],
      "execution_count": 2,
      "outputs": [
        {
          "output_type": "stream",
          "name": "stdout",
          "text": [
            "\u001b[K     |████████████████████████████████| 720 kB 8.0 MB/s \n",
            "\u001b[K     |████████████████████████████████| 1.2 MB 48.6 MB/s \n",
            "\u001b[K     |████████████████████████████████| 46 kB 4.9 MB/s \n",
            "\u001b[K     |████████████████████████████████| 51 kB 392 kB/s \n",
            "\u001b[?25h"
          ]
        }
      ]
    },
    {
      "cell_type": "code",
      "metadata": {
        "id": "ZZ_arKKyj3Co"
      },
      "source": [
        "#hide\n",
        "from fastbook import *\n",
        "from IPython.display import display,HTML"
      ],
      "execution_count": 3,
      "outputs": []
    },
    {
      "cell_type": "code",
      "metadata": {
        "id": "-gu3NxcBirzx"
      },
      "source": [
        "from fastai.basics import *\n",
        "from fastai.text.core import *\n",
        "from fastai.text.data import *\n",
        "from fastai.text.models.core import *\n",
        "from fastai.text.models.awdlstm import *\n",
        "from fastai.callback.rnn import *\n",
        "from fastai.callback.progress import *\n",
        "from fastai.vision import *"
      ],
      "execution_count": 4,
      "outputs": []
    },
    {
      "cell_type": "code",
      "metadata": {
        "colab": {
          "base_uri": "https://localhost:8080/"
        },
        "id": "51jgSOs8zZrX",
        "outputId": "01d5611b-6784-487b-f3e9-277ce0087a80"
      },
      "source": [
        "from google.colab import drive\n",
        "drive.mount('/content/drive')"
      ],
      "execution_count": 5,
      "outputs": [
        {
          "output_type": "stream",
          "name": "stdout",
          "text": [
            "Mounted at /content/drive\n"
          ]
        }
      ]
    },
    {
      "cell_type": "code",
      "metadata": {
        "id": "F3fCSD3QmMF_",
        "colab": {
          "base_uri": "https://localhost:8080/",
          "height": 150
        },
        "outputId": "eb6de606-85bd-4299-e4b0-da3b0679a52b"
      },
      "source": [
        "path = '/content/drive/MyDrive/Colab Notebooks/Tobacco_LSTM/layout/'\n",
        "#path = '/content/drive/.shortcut-targets-by-id/1R_vnrbg04zsdpye6d-dv190eSUWCL07i/Tobacco_LSTM/layout/'\n",
        "df_train = pd.read_csv(path + 'train_tags.csv', delimiter=',', error_bad_lines=False)\n",
        "df_train = df_train.drop(['text'], axis=1)\n",
        "df_train.head(1)"
      ],
      "execution_count": 6,
      "outputs": [
        {
          "output_type": "execute_result",
          "data": {
            "text/html": [
              "<div>\n",
              "<style scoped>\n",
              "    .dataframe tbody tr th:only-of-type {\n",
              "        vertical-align: middle;\n",
              "    }\n",
              "\n",
              "    .dataframe tbody tr th {\n",
              "        vertical-align: top;\n",
              "    }\n",
              "\n",
              "    .dataframe thead th {\n",
              "        text-align: right;\n",
              "    }\n",
              "</style>\n",
              "<table border=\"1\" class=\"dataframe\">\n",
              "  <thead>\n",
              "    <tr style=\"text-align: right;\">\n",
              "      <th></th>\n",
              "      <th>binder</th>\n",
              "      <th>docid</th>\n",
              "      <th>class</th>\n",
              "      <th>text_tags</th>\n",
              "    </tr>\n",
              "  </thead>\n",
              "  <tbody>\n",
              "    <tr>\n",
              "      <th>0</th>\n",
              "      <td>Tobacco800</td>\n",
              "      <td>aah97e00-page02_1</td>\n",
              "      <td>FirstPage</td>\n",
              "      <td>['\\n', 'xxQ00_01 xxbob  \\n', 'xxeob xxQ00_02\\n', '\\n', 'xxQ00_01 xxbob PHILIP MORRIS\\n', 'xxeob xxQ00_02\\n', '\\n', 'xxQ00_01 xxbob EUROPE MIDDLE EAST AFRICA\\n', 'xxeob xxQ00_02\\n', '\\n', 'xxQ00_01 xxbob RESEARCH AND DEVELOPMENT\\n', 'xxeob xxQ01_02\\n', '\\n', 'xxQ01_02 xxbob Neuchatel, duly 14, 1977\\n', 'xxeob xxQ01_03\\n', '\\n', 'xxQ01_01 xxbob Dr. M.A. Manzelli,\\n', 'PHILIP MORRIS INC.,\\n', 'Research Center,\\n', 'P.O. Box 3 D\\n', 'Richmond, Va. 23206\\n', 'U.S.A. .\\n', 'xxeob xxQ02_01\\n', '\\n', 'xxQ02_01 xxbob Dear Art,\\n', 'xxeob xxQ02_01\\n', '\\n', 'xxQ03_01 xxbob xxbcet Please proposed pro...</td>\n",
              "    </tr>\n",
              "  </tbody>\n",
              "</table>\n",
              "</div>"
            ],
            "text/plain": [
              "       binder              docid      class  \\\n",
              "0  Tobacco800  aah97e00-page02_1  FirstPage   \n",
              "\n",
              "                                                                                                                                                                                                                                                                                                                                                                                                                                                                                                                                                                                                                 text_tags  \n",
              "0  ['\\n', 'xxQ00_01 xxbob  \\n', 'xxeob xxQ00_02\\n', '\\n', 'xxQ00_01 xxbob PHILIP MORRIS\\n', 'xxeob xxQ00_02\\n', '\\n', 'xxQ00_01 xxbob EUROPE MIDDLE EAST AFRICA\\n', 'xxeob xxQ00_02\\n', '\\n', 'xxQ00_01 xxbob RESEARCH AND DEVELOPMENT\\n', 'xxeob xxQ01_02\\n', '\\n', 'xxQ01_02 xxbob Neuchatel, duly 14, 1977\\n', 'xxeob xxQ01_03\\n', '\\n', 'xxQ01_01 xxbob Dr. M.A. Manzelli,\\n', 'PHILIP MORRIS INC.,\\n', 'Research Center,\\n', 'P.O. Box 3 D\\n', 'Richmond, Va. 23206\\n', 'U.S.A. .\\n', 'xxeob xxQ02_01\\n', '\\n', 'xxQ02_01 xxbob Dear Art,\\n', 'xxeob xxQ02_01\\n', '\\n', 'xxQ03_01 xxbob xxbcet Please proposed pro...  "
            ]
          },
          "metadata": {},
          "execution_count": 6
        }
      ]
    },
    {
      "cell_type": "code",
      "metadata": {
        "id": "mUIsYb_KhWYl",
        "colab": {
          "base_uri": "https://localhost:8080/",
          "height": 133
        },
        "outputId": "0d2f5ddb-25a9-42c7-d577-3636364814cf"
      },
      "source": [
        "df_test = pd.read_csv(path + 'test_tags.csv', delimiter=',', error_bad_lines=False)\n",
        "df_test = df_test.drop(['text'], axis=1)\n",
        "df_test.head(1)"
      ],
      "execution_count": 7,
      "outputs": [
        {
          "output_type": "execute_result",
          "data": {
            "text/html": [
              "<div>\n",
              "<style scoped>\n",
              "    .dataframe tbody tr th:only-of-type {\n",
              "        vertical-align: middle;\n",
              "    }\n",
              "\n",
              "    .dataframe tbody tr th {\n",
              "        vertical-align: top;\n",
              "    }\n",
              "\n",
              "    .dataframe thead th {\n",
              "        text-align: right;\n",
              "    }\n",
              "</style>\n",
              "<table border=\"1\" class=\"dataframe\">\n",
              "  <thead>\n",
              "    <tr style=\"text-align: right;\">\n",
              "      <th></th>\n",
              "      <th>binder</th>\n",
              "      <th>docid</th>\n",
              "      <th>class</th>\n",
              "      <th>text_tags</th>\n",
              "    </tr>\n",
              "  </thead>\n",
              "  <tbody>\n",
              "    <tr>\n",
              "      <th>0</th>\n",
              "      <td>Tobacco800</td>\n",
              "      <td>tkj51f00_1</td>\n",
              "      <td>FirstPage</td>\n",
              "      <td>['\\n', 'xxQ00_01 xxbob      \\n', 'xxeob xxQ00_02\\n', '\\n', 'xxQ00_01 xxbob h Department\\n', 'xxeob xxQ00_02\\n', '\\n', 'xxQ00_00 xxbob MARCH 26, 1986\\n', 'FILE NOTL\\n', 'xxeob xxQ00_03\\n', '\\n', 'xxQ00_02 xxbob    \\n', 'xxeob xxQ00_03\\n', '\\n', 'xxQ00_02 xxbob Pare}\\n', 'xxeob xxQ00_02\\n', '\\n', 'xxQ00_00 xxbob COMPONERTS/415_&amp; St\\n', 'MATLLARD REACTION “Al! FLAVOR\\n', 'xxeob xxQ00_02\\n', '\\n', 'xxQ00_02 xxbob Fisgert, af Grove AG GALLON Toe lo. 1\\n', 'xxeob xxQ00_03\\n', '\\n', 'xxQ00_00 xxbob the layer of the Mailiare\\n', 'Jdentification of flavor components in aqueous\\n', 'this communicati...</td>\n",
              "    </tr>\n",
              "  </tbody>\n",
              "</table>\n",
              "</div>"
            ],
            "text/plain": [
              "       binder       docid      class  \\\n",
              "0  Tobacco800  tkj51f00_1  FirstPage   \n",
              "\n",
              "                                                                                                                                                                                                                                                                                                                                                                                                                                                                                                                                                                                                                 text_tags  \n",
              "0  ['\\n', 'xxQ00_01 xxbob      \\n', 'xxeob xxQ00_02\\n', '\\n', 'xxQ00_01 xxbob h Department\\n', 'xxeob xxQ00_02\\n', '\\n', 'xxQ00_00 xxbob MARCH 26, 1986\\n', 'FILE NOTL\\n', 'xxeob xxQ00_03\\n', '\\n', 'xxQ00_02 xxbob    \\n', 'xxeob xxQ00_03\\n', '\\n', 'xxQ00_02 xxbob Pare}\\n', 'xxeob xxQ00_02\\n', '\\n', 'xxQ00_00 xxbob COMPONERTS/415_& St\\n', 'MATLLARD REACTION “Al! FLAVOR\\n', 'xxeob xxQ00_02\\n', '\\n', 'xxQ00_02 xxbob Fisgert, af Grove AG GALLON Toe lo. 1\\n', 'xxeob xxQ00_03\\n', '\\n', 'xxQ00_00 xxbob the layer of the Mailiare\\n', 'Jdentification of flavor components in aqueous\\n', 'this communicati...  "
            ]
          },
          "metadata": {},
          "execution_count": 7
        }
      ]
    },
    {
      "cell_type": "code",
      "metadata": {
        "id": "dahU9BCbcJBi"
      },
      "source": [
        "#data = df_test.drop(columns='docid')\n",
        "#df_test = data.drop(columns='binder')\n",
        "#unsup = df_test.drop(columns='class')\n",
        "#unsup.head(2)"
      ],
      "execution_count": 8,
      "outputs": []
    },
    {
      "cell_type": "markdown",
      "metadata": {
        "id": "bY4v5mjtPfun"
      },
      "source": [
        "## Create DataLoader"
      ]
    },
    {
      "cell_type": "code",
      "metadata": {
        "id": "vOx33LAtQKY1"
      },
      "source": [
        "def get_features(r):\n",
        "\n",
        "  return r['text']\n",
        "\n",
        "def get_labels(r):\n",
        "\n",
        "  return r['class']"
      ],
      "execution_count": 9,
      "outputs": []
    },
    {
      "cell_type": "code",
      "metadata": {
        "colab": {
          "base_uri": "https://localhost:8080/"
        },
        "id": "stgXmmS-vkK6",
        "outputId": "3153f3fc-756f-470a-f0c9-e3f96eb934fa"
      },
      "source": [
        "df_train.keys()"
      ],
      "execution_count": 10,
      "outputs": [
        {
          "output_type": "execute_result",
          "data": {
            "text/plain": [
              "Index(['binder', 'docid', 'class', 'text_tags'], dtype='object')"
            ]
          },
          "metadata": {},
          "execution_count": 10
        }
      ]
    },
    {
      "cell_type": "code",
      "metadata": {
        "colab": {
          "base_uri": "https://localhost:8080/",
          "height": 236
        },
        "id": "v9uaiqMalx0x",
        "outputId": "e3dff7c7-55ac-4d55-9906-b5926fc54add"
      },
      "source": [
        "dblock_train = DataBlock(\n",
        "    blocks=(TextBlock.from_df(text_cols=['text_tags', 'class'], seq_len=72), CategoryBlock),\n",
        "            get_x=get_features, \n",
        "            get_y=get_labels)\n",
        "\n",
        "dloader_train = dblock_train.dataloaders(df_train, bs=64)\n",
        "dloader_train.show_batch(max_n=2)"
      ],
      "execution_count": 12,
      "outputs": [
        {
          "output_type": "display_data",
          "data": {
            "text/html": [
              ""
            ],
            "text/plain": [
              "<IPython.core.display.HTML object>"
            ]
          },
          "metadata": {}
        },
        {
          "output_type": "stream",
          "name": "stderr",
          "text": [
            "/usr/local/lib/python3.7/dist-packages/numpy/core/_asarray.py:83: VisibleDeprecationWarning: Creating an ndarray from ragged nested sequences (which is a list-or-tuple of lists-or-tuples-or ndarrays with different lengths or shapes) is deprecated. If you meant to do this, you must specify 'dtype=object' when creating the ndarray\n",
            "  return array(a, dtype, copy=False, order=order)\n"
          ]
        },
        {
          "output_type": "display_data",
          "data": {
            "text/html": [
              "<table border=\"1\" class=\"dataframe\">\n",
              "  <thead>\n",
              "    <tr style=\"text-align: right;\">\n",
              "      <th></th>\n",
              "      <th>text</th>\n",
              "      <th>category</th>\n",
              "    </tr>\n",
              "  </thead>\n",
              "  <tbody>\n",
              "    <tr>\n",
              "      <th>0</th>\n",
              "      <td>xxbos xxfld 1 [ ' \\n ' , ' xxq00_00 xxbob \\n ' , ' xxeob xxq00_00 \\n ' , ' \\n ' , ' xxq00_00 xxbob xxbcet - \\n ' , ' xxecet \\n ' , ' xxunk \\n ' , ' xxeob xxq00_00 \\n ' , ' \\n ' , ' xxq00_00 xxbob \\n ' , ' xxeob xxq00_00 \\n ' , ' \\n ' , ' xxq00_00 xxbob \\n ' , ' xxeob xxq00_01 \\n ' , ' \\n ' , ' xxq00_00 xxbob xxbcet xxmaj the | end xxmaj xxunk t xxmaj content xxmaj of xxmaj one xxmaj hundred \\n ' , ' xxecet \\n ' , ' xxeob xxq00_01 \\n ' , ' \\n ' , ' xxq00_00 xxbob \\n ' , ' xxeob xxq00_01 \\n ' , ' \\n ' , ' xxq00_00 xxbob xxbcet \\n ' , ' xxecet \\n ' , '</td>\n",
              "      <td>NextPage</td>\n",
              "    </tr>\n",
              "    <tr>\n",
              "      <th>1</th>\n",
              "      <td>xxbos xxfld 1 [ ' \\n ' , ' xxq00_00 xxbob xxup lo xxmaj absorbance xxmaj unit xxmaj full xxmaj seale \\n ' , ' at 550 xxmaj dm \\n ' , ' \" po xxup la xxmaj xxunk xxunk xxunk xxmaj abi xxup xxunk \\ ' xxup ant xxrep 3 a xxmaj dy \\n ' , ' xxeob xxq00_01 \\n ' , ' \\n ' , ' xxq00_00 xxbob [ ge \\n ' , ' xxbcet om xxmaj xxunk ia xxunk xxmaj xxunk ni \\n ' , ' xxecet \\n ' , ' pre xxunk xxmaj tet xxup tm ce xxup ct xxup tt xxup tt nat \\n ' , ' he s xxmaj fee et xxrep 3 t xxrep 3 t xxrep 3 t xxup tt at en \\n ' , ' ei i \\n ' , ' foes xxunk xxup ce at xxunk xxup tt xxup tt</td>\n",
              "      <td>NextPage</td>\n",
              "    </tr>\n",
              "  </tbody>\n",
              "</table>"
            ],
            "text/plain": [
              "<IPython.core.display.HTML object>"
            ]
          },
          "metadata": {}
        }
      ]
    },
    {
      "cell_type": "markdown",
      "metadata": {
        "id": "MClnyCFIRQsS"
      },
      "source": [
        "## Classification Model"
      ]
    },
    {
      "cell_type": "code",
      "metadata": {
        "id": "RLDNSEnSXZLf"
      },
      "source": [
        "from fastai.text.all import *"
      ],
      "execution_count": 13,
      "outputs": []
    },
    {
      "cell_type": "code",
      "metadata": {
        "colab": {
          "base_uri": "https://localhost:8080/",
          "height": 37
        },
        "id": "yFi9cVezirz9",
        "outputId": "1a97ee8a-a6d1-4214-c2e5-dd0d1fb6509a"
      },
      "source": [
        "learn = text_classifier_learner(dloader_train, \n",
        "                                AWD_LSTM, \n",
        "                                drop_mult=0.5, \n",
        "                                metrics=[error_rate, accuracy, Perplexity()]).to_fp16()"
      ],
      "execution_count": 14,
      "outputs": [
        {
          "output_type": "display_data",
          "data": {
            "text/html": [
              "\n",
              "    <div>\n",
              "        <style>\n",
              "            /* Turns off some styling */\n",
              "            progress {\n",
              "                /* gets rid of default border in Firefox and Opera. */\n",
              "                border: none;\n",
              "                /* Needs to be in here for Safari polyfill so background images work as expected. */\n",
              "                background-size: auto;\n",
              "            }\n",
              "            .progress-bar-interrupted, .progress-bar-interrupted::-webkit-progress-bar {\n",
              "                background: #F44336;\n",
              "            }\n",
              "        </style>\n",
              "      <progress value='105070592' class='' max='105067061' style='width:300px; height:20px; vertical-align: middle;'></progress>\n",
              "      100.00% [105070592/105067061 00:02<00:00]\n",
              "    </div>\n",
              "    "
            ],
            "text/plain": [
              "<IPython.core.display.HTML object>"
            ]
          },
          "metadata": {}
        }
      ]
    },
    {
      "cell_type": "code",
      "metadata": {
        "colab": {
          "base_uri": "https://localhost:8080/",
          "height": 239
        },
        "id": "Zo2DlMlnirz-",
        "outputId": "578fd67d-0f2c-4890-ab24-baeb855c8efb"
      },
      "source": [
        "learn.fine_tune(4, 1e-2)"
      ],
      "execution_count": 15,
      "outputs": [
        {
          "output_type": "display_data",
          "data": {
            "text/html": [
              "<table border=\"1\" class=\"dataframe\">\n",
              "  <thead>\n",
              "    <tr style=\"text-align: left;\">\n",
              "      <th>epoch</th>\n",
              "      <th>train_loss</th>\n",
              "      <th>valid_loss</th>\n",
              "      <th>error_rate</th>\n",
              "      <th>accuracy</th>\n",
              "      <th>perplexity</th>\n",
              "      <th>time</th>\n",
              "    </tr>\n",
              "  </thead>\n",
              "  <tbody>\n",
              "    <tr>\n",
              "      <td>0</td>\n",
              "      <td>0.735901</td>\n",
              "      <td>0.611477</td>\n",
              "      <td>0.378641</td>\n",
              "      <td>0.621359</td>\n",
              "      <td>1.843152</td>\n",
              "      <td>00:07</td>\n",
              "    </tr>\n",
              "  </tbody>\n",
              "</table>"
            ],
            "text/plain": [
              "<IPython.core.display.HTML object>"
            ]
          },
          "metadata": {}
        },
        {
          "output_type": "display_data",
          "data": {
            "text/html": [
              "<table border=\"1\" class=\"dataframe\">\n",
              "  <thead>\n",
              "    <tr style=\"text-align: left;\">\n",
              "      <th>epoch</th>\n",
              "      <th>train_loss</th>\n",
              "      <th>valid_loss</th>\n",
              "      <th>error_rate</th>\n",
              "      <th>accuracy</th>\n",
              "      <th>perplexity</th>\n",
              "      <th>time</th>\n",
              "    </tr>\n",
              "  </thead>\n",
              "  <tbody>\n",
              "    <tr>\n",
              "      <td>0</td>\n",
              "      <td>0.542552</td>\n",
              "      <td>0.502737</td>\n",
              "      <td>0.213592</td>\n",
              "      <td>0.786408</td>\n",
              "      <td>1.653239</td>\n",
              "      <td>00:15</td>\n",
              "    </tr>\n",
              "    <tr>\n",
              "      <td>1</td>\n",
              "      <td>0.496141</td>\n",
              "      <td>0.446353</td>\n",
              "      <td>0.242718</td>\n",
              "      <td>0.757282</td>\n",
              "      <td>1.562603</td>\n",
              "      <td>00:15</td>\n",
              "    </tr>\n",
              "    <tr>\n",
              "      <td>2</td>\n",
              "      <td>0.464021</td>\n",
              "      <td>0.339339</td>\n",
              "      <td>0.135922</td>\n",
              "      <td>0.864078</td>\n",
              "      <td>1.404020</td>\n",
              "      <td>00:14</td>\n",
              "    </tr>\n",
              "    <tr>\n",
              "      <td>3</td>\n",
              "      <td>0.424287</td>\n",
              "      <td>0.283856</td>\n",
              "      <td>0.116505</td>\n",
              "      <td>0.883495</td>\n",
              "      <td>1.328242</td>\n",
              "      <td>00:15</td>\n",
              "    </tr>\n",
              "  </tbody>\n",
              "</table>"
            ],
            "text/plain": [
              "<IPython.core.display.HTML object>"
            ]
          },
          "metadata": {}
        }
      ]
    },
    {
      "cell_type": "code",
      "metadata": {
        "colab": {
          "base_uri": "https://localhost:8080/",
          "height": 731
        },
        "id": "aMYLf9Th5KrZ",
        "outputId": "5b7d1759-4be4-4cee-f256-4a3b71192bd5"
      },
      "source": [
        "learn.show_results()"
      ],
      "execution_count": 16,
      "outputs": [
        {
          "output_type": "display_data",
          "data": {
            "text/html": [
              ""
            ],
            "text/plain": [
              "<IPython.core.display.HTML object>"
            ]
          },
          "metadata": {}
        },
        {
          "output_type": "display_data",
          "data": {
            "text/html": [
              "<table border=\"1\" class=\"dataframe\">\n",
              "  <thead>\n",
              "    <tr style=\"text-align: right;\">\n",
              "      <th></th>\n",
              "      <th>text</th>\n",
              "      <th>category</th>\n",
              "      <th>category_</th>\n",
              "    </tr>\n",
              "  </thead>\n",
              "  <tbody>\n",
              "    <tr>\n",
              "      <th>0</th>\n",
              "      <td>xxbos xxfld 1 [ ' \\n ' , ' xxq00_00 xxbob xxbcet 2202 \\n ' , ' xxecet \\n ' , ' xxeob xxq00_00 \\n ' , ' \\n ' , ' xxq00_00 xxbob \\n ' , ' xxeob xxq00_01 \\n ' , ' \\n ' , ' xxq00_00 xxbob ¢ \\n ' , ' xxeob xxq00_00 \\n ' , ' \\n ' , ' xxq00_00 xxbob { b ) xxmaj whether each applicant has \\n ' , ' xxunk leaders of that group . \\n ' , ' 2 xxmaj to determine with respect to the \\n ' , ' » efforts of xxup po to ascertain the needs of \\n ' , ' its proposed service area : \\n ' , ' ( a ) xxmaj whether the xxunk ! xxunk \\n ' , ' leaders of agriculture and ! xxunk in \\n ' , ' xxunk ,</td>\n",
              "      <td>NextPage</td>\n",
              "      <td>FirstPage</td>\n",
              "    </tr>\n",
              "    <tr>\n",
              "      <th>1</th>\n",
              "      <td>xxbos xxfld 1 [ ' \\n ' , ' xxq00_00 xxbob “ wlrk rightfax xxmaj server 5 / 28 / 99 \\n ' , ' xxeob xxq00_01 \\n ' , ' \\n ' , ' xxq00_01 xxbob 5:12 : xxup page xxunk / 6 \\n ' , ' xxeob xxq00_02 \\n ' , ' \\n ' , ' xxq00_00 xxbob -1 : xxunk xxmaj wilson company : lorillard xxmaj tobacco xxmaj company \\n ' , ' xxeob xxq00_02 \\n ' , ' \\n ' , ' xxq00_00 xxbob xxup martin xxup xxunk \\n ' , ' xxunk 4 . xxup xxunk \\n ' , ' theodore xxup gewertz \\n ' , ' xxunk xxup w. xxup nussbaum \\n ' , ' xxunk xxup d. xxup katcher \\n ' , ' douglas 5 . xxup xxunk \\n ' , ' steven xxup m , xxup barna \\n ' , ' chaim</td>\n",
              "      <td>FirstPage</td>\n",
              "      <td>FirstPage</td>\n",
              "    </tr>\n",
              "    <tr>\n",
              "      <th>2</th>\n",
              "      <td>xxbos xxfld 1 [ ' \\n ' , ' xxq00_00 xxbob xxbcet xxup g2 - xxunk \\n ' , ' xxecet \\n ' , ' xxeob xxq00_00 \\n ' , ' \\n ' , ' xxq00_00 xxbob \\n ' , ' xxeob xxq00_00 \\n ' , ' \\n ' , ' xxq00_00 xxbob . \\n ' , ' xxeob xxq00_00 \\n ' , ' \\n ' , ' xxq01_00 xxbob xxup martin xxup xxunk \\n ' , ' xxunk xxup m. xxup wachtell \\n ' , ' xxunk xxup xxunk \\n ' , ' xxbcet xxup xxunk xxmaj ww . xxup xxunk \\n ' , ' xxecet \\n ' , ' richard xxup d , xxup xxunk \\n ' , ' xxunk 6 xxup xxunk \\n ' , ' xxunk xxup xxunk , xxup barna \\n ' , ' xxunk xxup j , xxup xxunk \\n ' , ' peter</td>\n",
              "      <td>FirstPage</td>\n",
              "      <td>FirstPage</td>\n",
              "    </tr>\n",
              "    <tr>\n",
              "      <th>3</th>\n",
              "      <td>xxbos xxfld 1 [ ' \\n ' , ' xxq00_00 xxbob ee . \\n ' , ' xxeob xxq00_00 \\n ' , ' \\n ' , ' xxq00_00 xxbob xxmaj xxunk \\n ' , ' xxbcet xxup xxunk \\n ' , ' xxecet \\n ' , ' xxbcet xxup herbert xxup m. xxup wachtell \\n ' , ' xxecet \\n ' , ' xxbcet xxup theodore xxup gewertz \\n ' , ' xxecet \\n ' , ' xxbcet xxup bernard xxup w. xxup nussbaum \\n ' , ' xxecet \\n ' , ' xxbcet xxup richard © . xxup katcher \\n ' , ' xxecet \\n ' , ' douglas 5 . xxup liebhafsky \\n ' , ' steven xxup m. xxup barna \\n ' , ' xxbcet xxup chaim xxup j. xxup fortgang \\n ' , ' xxecet \\n ' , ' xxbcet xxup peter xxup c. xxup canellos</td>\n",
              "      <td>FirstPage</td>\n",
              "      <td>FirstPage</td>\n",
              "    </tr>\n",
              "    <tr>\n",
              "      <th>4</th>\n",
              "      <td>xxbos xxfld 1 [ ' \\n ' , ' xxq00_00 xxbob xxup xxunk \\n ' , ' xxeob xxq00_00 \\n ' , ' \\n ' , ' xxq00_00 xxbob xxup wlrk rightfax xxmaj server xxunk / 00 xxunk : xxup page xxunk / 68 xxunk \\n ' , ' e @ \\n ' , ' company : \\n ' , ' _ \\n ' , ' xxeob xxq00_02 \\n ' , ' \\n ' , ' xxq00_01 xxbob xxup wachtell , xxup lipton , xxup rosen &amp; xxup katz \\n ' , ' xxeob xxq00_02 \\n ' , ' \\n ' , ' xxq00_00 xxbob xxup martin xxup lipton xxup barbara xxup xxunk xxup xxunk xxup ehrenkranz \\n ' , ' herbert xxup m , xxup wachtell xxup steven a xxup xxunk xxup xxunk xxup s2nd xxup street xxup highael xxup w , xxup xxunk \\n ' , ' xxunk</td>\n",
              "      <td>FirstPage</td>\n",
              "      <td>FirstPage</td>\n",
              "    </tr>\n",
              "    <tr>\n",
              "      <th>5</th>\n",
              "      <td>xxbos xxfld 1 [ ' \\n ' , ' xxq03_00 xxbob \\n ' , ' xxeob xxq03_00 \\n ' , ' \\n ' , ' xxq03_00 xxbob \\n ' , ' xxeob xxq04_00 \\n ' , ' \\n ' , ' xxq04_00 xxbob \\n ' , ' xxeob xxq04_00 \\n ' , ' \\n ' , ' xxq03_00 xxbob \\n ' , ' xxeob xxq03_01 \\n ' , ' \\n ' , ' xxq05_00 xxbob \\n ' , ' xxeob xxq05_01 \\n ' , ' \\n ' , ' xxq00_00 xxbob \\n ' , ' xxeob xxq01_03 \\n ' , ' \\n ' , ' xxq01_01 xxbob \\n ' , ' \\n ' , ' xxeob xxq01_03 \\n ' , ' \\n ' , ' xxq01_01 xxbob xxmaj the \\n ' , ' public | \\n ' , ' sector \\n ' , ' 22 xxup battery xxup st -</td>\n",
              "      <td>FirstPage</td>\n",
              "      <td>NextPage</td>\n",
              "    </tr>\n",
              "    <tr>\n",
              "      <th>6</th>\n",
              "      <td>xxbos xxfld 1 [ ' \\n ' , ' xxq00_03 xxbob xxunk \\n ' , ' xxunk \\n ' , ' xxeob xxq00_03 \\n ' , ' \\n ' , ' xxq02_00 xxbob \\n ' , ' xxeob xxq03_00 \\n ' , ' \\n ' , ' xxq02_00 xxbob \\n ' , ' xxeob xxq02_00 \\n ' , ' \\n ' , ' xxq01_02 xxbob xxup xxunk xxup xxunk xxmaj xxunk xxmaj xxunk \\n ' , ' “ wd “ te “ td “ 12 , \\n ' , ' xxeob xxq02_02 \\n ' , ' \\n ' , ' xxq01_02 xxbob xxup xxunk \\n ' , ' “ x \\n ' , ' xxeob xxq02_02 \\n ' , ' \\n ' , ' xxq03_00 xxbob \\n ' , ' xxeob xxq03_00 \\n ' , ' \\n ' , ' xxq01_02 xxbob xxunk xxunk \\n ' , ' ‘ at</td>\n",
              "      <td>NextPage</td>\n",
              "      <td>NextPage</td>\n",
              "    </tr>\n",
              "    <tr>\n",
              "      <th>7</th>\n",
              "      <td>xxbos xxfld 1 [ ' \\n ' , ' xxq05_03 xxbob \\n ' , ' xxeob xxq05_03 \\n ' , ' \\n ' , ' xxq05_02 xxbob \\n ' , ' xxeob xxq05_02 \\n ' , ' \\n ' , ' xxq05_02 xxbob \\n ' , ' xxeob xxq05_02 \\n ' , ' \\n ' , ' xxq05_02 xxbob \\n ' , ' xxeob xxq05_02 \\n ' , ' \\n ' , ' xxq00_01 xxbob ti xxunk pit bit xxunk it bt xxmaj be \\n ' , ' a be po : \\n ' , ' . \\n ' , ' pee xxunk xxmaj ho he , xxunk xxup xxunk xxmaj uae \\n ' , ' : \\n ' , ' a iat et xxup ete xxup pee 4 2 = xxmaj se 8 , \\n ' , ' xxbcet ! | \\n ' , ' xxecet \\n ' ,</td>\n",
              "      <td>NextPage</td>\n",
              "      <td>NextPage</td>\n",
              "    </tr>\n",
              "    <tr>\n",
              "      <th>8</th>\n",
              "      <td>xxbos xxfld 1 [ ' \\n ' , ' xxq02_02 xxbob xxup closed xxup the \\n ' , ' year - to- xxup as xxup of xxup capital xxup american \\n ' , ' september xxup projects xxup tobacco \\n ' , ' date \\n ' , ' 30 , xxup company \\n ' , ' xxbcet xxunk xxup report \\n ' , ' xxecet \\n ' , ' xxeob xxq03_02 \\n ' , ' \\n ' , ' xxq03_00 xxbob \\n ' , ' xxeob xxq03_00 \\n ' , ' \\n ' , ' xxq02_02 xxbob xxup capital \\n ' , ' : \\n ' , ' vy \\n ' , ' expenses \\n ' , ' xxunk \\n ' , ' 0 \\n ' , ' ou \\n ' , ' : \\n ' , ' xxeob xxq04_02 \\n ' , ' \\n ' , ' xxq03_00 xxbob</td>\n",
              "      <td>NextPage</td>\n",
              "      <td>NextPage</td>\n",
              "    </tr>\n",
              "  </tbody>\n",
              "</table>"
            ],
            "text/plain": [
              "<IPython.core.display.HTML object>"
            ]
          },
          "metadata": {}
        }
      ]
    },
    {
      "cell_type": "code",
      "metadata": {
        "colab": {
          "base_uri": "https://localhost:8080/"
        },
        "id": "lETegor95Qh7",
        "outputId": "cc452952-7124-44fe-a28f-e79369a9857d"
      },
      "source": [
        "learn.save('text_classification_tags')"
      ],
      "execution_count": 17,
      "outputs": [
        {
          "output_type": "execute_result",
          "data": {
            "text/plain": [
              "Path('models/text_classification_tags.pth')"
            ]
          },
          "metadata": {},
          "execution_count": 17
        }
      ]
    },
    {
      "cell_type": "code",
      "metadata": {
        "id": "_wLLPwel5XeP"
      },
      "source": [
        "# load model\n",
        "learn = learn.load('text_classification_tags')"
      ],
      "execution_count": 18,
      "outputs": []
    },
    {
      "cell_type": "code",
      "metadata": {
        "colab": {
          "base_uri": "https://localhost:8080/",
          "height": 363
        },
        "id": "jSHpFTl95hV9",
        "outputId": "e4bce2a5-e1f2-42a5-ae8a-4ce80d2e45e2"
      },
      "source": [
        "learn.unfreeze()\n",
        "learn.fit_one_cycle(10, 1e-2)"
      ],
      "execution_count": 19,
      "outputs": [
        {
          "output_type": "display_data",
          "data": {
            "text/html": [
              "<table border=\"1\" class=\"dataframe\">\n",
              "  <thead>\n",
              "    <tr style=\"text-align: left;\">\n",
              "      <th>epoch</th>\n",
              "      <th>train_loss</th>\n",
              "      <th>valid_loss</th>\n",
              "      <th>error_rate</th>\n",
              "      <th>accuracy</th>\n",
              "      <th>perplexity</th>\n",
              "      <th>time</th>\n",
              "    </tr>\n",
              "  </thead>\n",
              "  <tbody>\n",
              "    <tr>\n",
              "      <td>0</td>\n",
              "      <td>0.362568</td>\n",
              "      <td>0.385341</td>\n",
              "      <td>0.169903</td>\n",
              "      <td>0.830097</td>\n",
              "      <td>1.470115</td>\n",
              "      <td>00:15</td>\n",
              "    </tr>\n",
              "    <tr>\n",
              "      <td>1</td>\n",
              "      <td>0.245164</td>\n",
              "      <td>1.120266</td>\n",
              "      <td>0.495146</td>\n",
              "      <td>0.504854</td>\n",
              "      <td>3.065670</td>\n",
              "      <td>00:15</td>\n",
              "    </tr>\n",
              "    <tr>\n",
              "      <td>2</td>\n",
              "      <td>0.178590</td>\n",
              "      <td>0.066348</td>\n",
              "      <td>0.063107</td>\n",
              "      <td>0.936893</td>\n",
              "      <td>1.068599</td>\n",
              "      <td>00:15</td>\n",
              "    </tr>\n",
              "    <tr>\n",
              "      <td>3</td>\n",
              "      <td>0.157186</td>\n",
              "      <td>10.662621</td>\n",
              "      <td>0.577670</td>\n",
              "      <td>0.422330</td>\n",
              "      <td>42728.503906</td>\n",
              "      <td>00:14</td>\n",
              "    </tr>\n",
              "    <tr>\n",
              "      <td>4</td>\n",
              "      <td>0.348876</td>\n",
              "      <td>0.683353</td>\n",
              "      <td>0.422330</td>\n",
              "      <td>0.577670</td>\n",
              "      <td>1.980507</td>\n",
              "      <td>00:15</td>\n",
              "    </tr>\n",
              "    <tr>\n",
              "      <td>5</td>\n",
              "      <td>0.300838</td>\n",
              "      <td>0.088298</td>\n",
              "      <td>0.048544</td>\n",
              "      <td>0.951456</td>\n",
              "      <td>1.092314</td>\n",
              "      <td>00:15</td>\n",
              "    </tr>\n",
              "    <tr>\n",
              "      <td>6</td>\n",
              "      <td>0.247081</td>\n",
              "      <td>0.183774</td>\n",
              "      <td>0.053398</td>\n",
              "      <td>0.946602</td>\n",
              "      <td>1.201744</td>\n",
              "      <td>00:15</td>\n",
              "    </tr>\n",
              "    <tr>\n",
              "      <td>7</td>\n",
              "      <td>0.203009</td>\n",
              "      <td>0.072157</td>\n",
              "      <td>0.033981</td>\n",
              "      <td>0.966019</td>\n",
              "      <td>1.074824</td>\n",
              "      <td>00:15</td>\n",
              "    </tr>\n",
              "    <tr>\n",
              "      <td>8</td>\n",
              "      <td>0.169215</td>\n",
              "      <td>0.080983</td>\n",
              "      <td>0.038835</td>\n",
              "      <td>0.961165</td>\n",
              "      <td>1.084352</td>\n",
              "      <td>00:15</td>\n",
              "    </tr>\n",
              "    <tr>\n",
              "      <td>9</td>\n",
              "      <td>0.142676</td>\n",
              "      <td>0.108478</td>\n",
              "      <td>0.067961</td>\n",
              "      <td>0.932039</td>\n",
              "      <td>1.114581</td>\n",
              "      <td>00:15</td>\n",
              "    </tr>\n",
              "  </tbody>\n",
              "</table>"
            ],
            "text/plain": [
              "<IPython.core.display.HTML object>"
            ]
          },
          "metadata": {}
        }
      ]
    },
    {
      "cell_type": "code",
      "metadata": {
        "colab": {
          "base_uri": "https://localhost:8080/",
          "height": 306
        },
        "id": "vZXPgheW5noB",
        "outputId": "5c1abd79-7d6b-4d5e-c183-a88610e459ff"
      },
      "source": [
        "learn.unfreeze()\n",
        "learn.lr_find()"
      ],
      "execution_count": 20,
      "outputs": [
        {
          "output_type": "display_data",
          "data": {
            "text/html": [
              ""
            ],
            "text/plain": [
              "<IPython.core.display.HTML object>"
            ]
          },
          "metadata": {}
        },
        {
          "output_type": "execute_result",
          "data": {
            "text/plain": [
              "SuggestedLRs(valley=7.585775892948732e-05)"
            ]
          },
          "metadata": {},
          "execution_count": 20
        },
        {
          "output_type": "display_data",
          "data": {
            "image/png": "[encoded data removed]",
            "text/plain": [
              "<Figure size 432x288 with 1 Axes>"
            ]
          },
          "metadata": {
            "needs_background": "light"
          }
        }
      ]
    },
    {
      "cell_type": "code",
      "metadata": {
        "id": "U2C_Jnpa51Av"
      },
      "source": [
        "learn_lm = text_classifier_learner(dloader_train, AWD_LSTM, drop_mult=0.5,metrics=[error_rate, accuracy, Perplexity()]).to_fp16()"
      ],
      "execution_count": 21,
      "outputs": []
    },
    {
      "cell_type": "code",
      "metadata": {
        "colab": {
          "base_uri": "https://localhost:8080/",
          "height": 427
        },
        "id": "l6sV3HY859r-",
        "outputId": "beeb6f71-81d0-42e1-d3a5-fd55b9321b1b"
      },
      "source": [
        "learn_lm.fine_tune(10, 1e-2)"
      ],
      "execution_count": 22,
      "outputs": [
        {
          "output_type": "display_data",
          "data": {
            "text/html": [
              "<table border=\"1\" class=\"dataframe\">\n",
              "  <thead>\n",
              "    <tr style=\"text-align: left;\">\n",
              "      <th>epoch</th>\n",
              "      <th>train_loss</th>\n",
              "      <th>valid_loss</th>\n",
              "      <th>error_rate</th>\n",
              "      <th>accuracy</th>\n",
              "      <th>perplexity</th>\n",
              "      <th>time</th>\n",
              "    </tr>\n",
              "  </thead>\n",
              "  <tbody>\n",
              "    <tr>\n",
              "      <td>0</td>\n",
              "      <td>0.714983</td>\n",
              "      <td>0.632174</td>\n",
              "      <td>0.364078</td>\n",
              "      <td>0.635922</td>\n",
              "      <td>1.881696</td>\n",
              "      <td>00:07</td>\n",
              "    </tr>\n",
              "  </tbody>\n",
              "</table>"
            ],
            "text/plain": [
              "<IPython.core.display.HTML object>"
            ]
          },
          "metadata": {}
        },
        {
          "output_type": "display_data",
          "data": {
            "text/html": [
              "<table border=\"1\" class=\"dataframe\">\n",
              "  <thead>\n",
              "    <tr style=\"text-align: left;\">\n",
              "      <th>epoch</th>\n",
              "      <th>train_loss</th>\n",
              "      <th>valid_loss</th>\n",
              "      <th>error_rate</th>\n",
              "      <th>accuracy</th>\n",
              "      <th>perplexity</th>\n",
              "      <th>time</th>\n",
              "    </tr>\n",
              "  </thead>\n",
              "  <tbody>\n",
              "    <tr>\n",
              "      <td>0</td>\n",
              "      <td>0.543873</td>\n",
              "      <td>0.531171</td>\n",
              "      <td>0.330097</td>\n",
              "      <td>0.669903</td>\n",
              "      <td>1.700923</td>\n",
              "      <td>00:15</td>\n",
              "    </tr>\n",
              "    <tr>\n",
              "      <td>1</td>\n",
              "      <td>0.520568</td>\n",
              "      <td>0.475537</td>\n",
              "      <td>0.252427</td>\n",
              "      <td>0.747573</td>\n",
              "      <td>1.608878</td>\n",
              "      <td>00:15</td>\n",
              "    </tr>\n",
              "    <tr>\n",
              "      <td>2</td>\n",
              "      <td>0.490034</td>\n",
              "      <td>0.307435</td>\n",
              "      <td>0.087379</td>\n",
              "      <td>0.912621</td>\n",
              "      <td>1.359933</td>\n",
              "      <td>00:15</td>\n",
              "    </tr>\n",
              "    <tr>\n",
              "      <td>3</td>\n",
              "      <td>0.460816</td>\n",
              "      <td>0.797728</td>\n",
              "      <td>0.388350</td>\n",
              "      <td>0.611650</td>\n",
              "      <td>2.220491</td>\n",
              "      <td>00:14</td>\n",
              "    </tr>\n",
              "    <tr>\n",
              "      <td>4</td>\n",
              "      <td>0.429420</td>\n",
              "      <td>0.261871</td>\n",
              "      <td>0.063107</td>\n",
              "      <td>0.936893</td>\n",
              "      <td>1.299358</td>\n",
              "      <td>00:15</td>\n",
              "    </tr>\n",
              "    <tr>\n",
              "      <td>5</td>\n",
              "      <td>0.392467</td>\n",
              "      <td>0.220177</td>\n",
              "      <td>0.053398</td>\n",
              "      <td>0.946602</td>\n",
              "      <td>1.246298</td>\n",
              "      <td>00:15</td>\n",
              "    </tr>\n",
              "    <tr>\n",
              "      <td>6</td>\n",
              "      <td>0.349355</td>\n",
              "      <td>0.258568</td>\n",
              "      <td>0.087379</td>\n",
              "      <td>0.912621</td>\n",
              "      <td>1.295074</td>\n",
              "      <td>00:15</td>\n",
              "    </tr>\n",
              "    <tr>\n",
              "      <td>7</td>\n",
              "      <td>0.318924</td>\n",
              "      <td>0.188354</td>\n",
              "      <td>0.063107</td>\n",
              "      <td>0.936893</td>\n",
              "      <td>1.207261</td>\n",
              "      <td>00:15</td>\n",
              "    </tr>\n",
              "    <tr>\n",
              "      <td>8</td>\n",
              "      <td>0.282858</td>\n",
              "      <td>0.201203</td>\n",
              "      <td>0.067961</td>\n",
              "      <td>0.932039</td>\n",
              "      <td>1.222872</td>\n",
              "      <td>00:15</td>\n",
              "    </tr>\n",
              "    <tr>\n",
              "      <td>9</td>\n",
              "      <td>0.258829</td>\n",
              "      <td>0.190532</td>\n",
              "      <td>0.058252</td>\n",
              "      <td>0.941748</td>\n",
              "      <td>1.209894</td>\n",
              "      <td>00:15</td>\n",
              "    </tr>\n",
              "  </tbody>\n",
              "</table>"
            ],
            "text/plain": [
              "<IPython.core.display.HTML object>"
            ]
          },
          "metadata": {}
        }
      ]
    },
    {
      "cell_type": "markdown",
      "metadata": {
        "id": "tBfu7Kcg-tsS"
      },
      "source": [
        "## Validation"
      ]
    },
    {
      "cell_type": "code",
      "metadata": {
        "id": "waKIAp-xE3c7",
        "colab": {
          "base_uri": "https://localhost:8080/",
          "height": 72
        },
        "outputId": "374065e2-58d5-4f33-b4d4-ada329248247"
      },
      "source": [
        "# create dataloader of test\n",
        "dblock_test_tags = DataBlock(\n",
        "    blocks=(TextBlock.from_df('text_tags', seq_len=72), CategoryBlock),\n",
        "            get_x=get_features, \n",
        "            get_y=get_labels)\n",
        "\n",
        "dloader_test = dblock_test_tags.dataloaders(df_test, bs=64)"
      ],
      "execution_count": 28,
      "outputs": [
        {
          "output_type": "display_data",
          "data": {
            "text/html": [
              ""
            ],
            "text/plain": [
              "<IPython.core.display.HTML object>"
            ]
          },
          "metadata": {}
        },
        {
          "output_type": "stream",
          "name": "stderr",
          "text": [
            "/usr/local/lib/python3.7/dist-packages/numpy/core/_asarray.py:83: VisibleDeprecationWarning: Creating an ndarray from ragged nested sequences (which is a list-or-tuple of lists-or-tuples-or ndarrays with different lengths or shapes) is deprecated. If you meant to do this, you must specify 'dtype=object' when creating the ndarray\n",
            "  return array(a, dtype, copy=False, order=order)\n"
          ]
        }
      ]
    },
    {
      "cell_type": "code",
      "metadata": {
        "colab": {
          "base_uri": "https://localhost:8080/",
          "height": 17
        },
        "id": "zTsct_7BJcEZ",
        "outputId": "c0263fe4-3699-43f6-e95c-8bb5521a3097"
      },
      "source": [
        "test_dl = dloader_test.test_dl(df_test['text_tags'])\n",
        "preds = learn.get_preds(dl=test_dl, with_decoded=True)"
      ],
      "execution_count": 29,
      "outputs": [
        {
          "output_type": "display_data",
          "data": {
            "text/html": [
              ""
            ],
            "text/plain": [
              "<IPython.core.display.HTML object>"
            ]
          },
          "metadata": {}
        }
      ]
    },
    {
      "cell_type": "code",
      "metadata": {
        "colab": {
          "base_uri": "https://localhost:8080/"
        },
        "id": "x54712SoMZBJ",
        "outputId": "4c62ff53-076d-442d-b7c1-7e999bdd8737"
      },
      "source": [
        "len(preds)"
      ],
      "execution_count": 25,
      "outputs": [
        {
          "output_type": "execute_result",
          "data": {
            "text/plain": [
              "3"
            ]
          },
          "metadata": {},
          "execution_count": 25
        }
      ]
    },
    {
      "cell_type": "code",
      "metadata": {
        "id": "BKcBxTsjOCVH",
        "colab": {
          "base_uri": "https://localhost:8080/",
          "height": 34
        },
        "outputId": "0a56b762-3bcf-4c8b-ba0f-4bb03cf23fc2"
      },
      "source": [
        "learn.validate()"
      ],
      "execution_count": 30,
      "outputs": [
        {
          "output_type": "display_data",
          "data": {
            "text/html": [
              ""
            ],
            "text/plain": [
              "<IPython.core.display.HTML object>"
            ]
          },
          "metadata": {}
        },
        {
          "output_type": "execute_result",
          "data": {
            "text/plain": [
              "(#4) [0.10847843438386917,0.06796116381883621,0.9320388436317444,1.1145808696746826]"
            ]
          },
          "metadata": {},
          "execution_count": 30
        }
      ]
    },
    {
      "cell_type": "code",
      "metadata": {
        "colab": {
          "base_uri": "https://localhost:8080/",
          "height": 310
        },
        "id": "LVRnxpiq_au8",
        "outputId": "454e0b3c-bb39-4ad8-8bf6-7fa0ba05e5ff"
      },
      "source": [
        "interp = ClassificationInterpretation.from_learner(learn)\n",
        "interp.plot_confusion_matrix()"
      ],
      "execution_count": 31,
      "outputs": [
        {
          "output_type": "display_data",
          "data": {
            "text/html": [
              ""
            ],
            "text/plain": [
              "<IPython.core.display.HTML object>"
            ]
          },
          "metadata": {}
        },
        {
          "output_type": "display_data",
          "data": {
            "image/png": "[encoded data removed]",
            "text/plain": [
              "<Figure size 432x288 with 1 Axes>"
            ]
          },
          "metadata": {
            "needs_background": "light"
          }
        }
      ]
    }
  ]
}