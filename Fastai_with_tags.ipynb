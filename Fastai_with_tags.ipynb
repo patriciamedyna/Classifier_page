{
  "nbformat": 4,
  "nbformat_minor": 0,
  "metadata": {
    "colab": {
      "name": "Fastai_with_tags.ipynb",
      "provenance": [],
      "machine_shape": "hm",
      "include_colab_link": true
    },
    "jupytext": {
      "split_at_heading": true
    },
    "kernelspec": {
      "display_name": "Python 3",
      "language": "python",
      "name": "python3"
    },
    "accelerator": "GPU"
  },
  "cells": [
    {
      "cell_type": "markdown",
      "metadata": {
        "id": "view-in-github",
        "colab_type": "text"
      },
      "source": [
        "<a href=\"https://colab.research.google.com/github/patriciamedyna/Classifier_page/blob/main/Fastai_with_tags.ipynb\" target=\"_parent\"><img src=\"https://colab.research.google.com/assets/colab-badge.svg\" alt=\"Open In Colab\"/></a>"
      ]
    },
    {
      "cell_type": "code",
      "metadata": {
        "id": "yaH3SUzZjuA-"
      },
      "source": [
        "#hide\n",
        "!pip install -Uqq fastbook\n",
        "import fastbook\n",
        "fastbook.setup_book()"
      ],
      "execution_count": 1,
      "outputs": []
    },
    {
      "cell_type": "code",
      "metadata": {
        "id": "ZZ_arKKyj3Co"
      },
      "source": [
        "#hide\n",
        "from fastbook import *\n",
        "from IPython.display import display,HTML"
      ],
      "execution_count": 2,
      "outputs": []
    },
    {
      "cell_type": "code",
      "metadata": {
        "id": "-gu3NxcBirzx"
      },
      "source": [
        "from fastai.text.all import *"
      ],
      "execution_count": 3,
      "outputs": []
    },
    {
      "cell_type": "code",
      "metadata": {
        "colab": {
          "base_uri": "https://localhost:8080/"
        },
        "id": "F3fCSD3QmMF_",
        "outputId": "a155c0ba-5b2d-4f3a-a6f3-89530250b498"
      },
      "source": [
        "path = '/content/gdrive/MyDrive/Colab Notebooks/Tobacco_LSTM/'\n",
        "files = glob.glob(path + 'txt/*.txt')\n",
        "len(files)"
      ],
      "execution_count": 4,
      "outputs": [
        {
          "output_type": "execute_result",
          "data": {
            "text/plain": [
              "1290"
            ]
          },
          "metadata": {},
          "execution_count": 4
        }
      ]
    },
    {
      "cell_type": "code",
      "metadata": {
        "id": "Yl6lJiWYzDnp"
      },
      "source": [
        "# obtem a classe (numero de paginas) do arquivo\n",
        "def get_target(filepath):\n",
        "    fname = filepath.split('/')[-1]\n",
        "    if '_' in fname:\n",
        "        return 1\n",
        "        \n",
        "    return 0"
      ],
      "execution_count": 5,
      "outputs": []
    },
    {
      "cell_type": "code",
      "metadata": {
        "id": "iucVleOJ4Z4-"
      },
      "source": [
        "def extract_content(filepath):\n",
        "    data = []\n",
        "    with open(filepath, 'r') as fp:\n",
        "        data = fp.readlines()\n",
        "            \n",
        "    return data"
      ],
      "execution_count": 6,
      "outputs": []
    },
    {
      "cell_type": "code",
      "metadata": {
        "id": "XVw9dK94qJaO"
      },
      "source": [
        "texts = []\n",
        "target = []\n",
        "for i, fp in enumerate(files):\n",
        "  target.append(get_target(fp))\n",
        "  texts.append(str(extract_content(fp)))\n",
        "  #print(f'{i} process.')"
      ],
      "execution_count": 7,
      "outputs": []
    },
    {
      "cell_type": "code",
      "metadata": {
        "colab": {
          "base_uri": "https://localhost:8080/",
          "height": 459
        },
        "id": "6G0BE9wU55Pz",
        "outputId": "f65a6603-158a-440f-e425-16b6994a5b19"
      },
      "source": [
        "df = pd.DataFrame({'texts': texts, 'pages': target})\n",
        "df.head()"
      ],
      "execution_count": 8,
      "outputs": [
        {
          "output_type": "execute_result",
          "data": {
            "text/html": [
              "<div>\n",
              "<style scoped>\n",
              "    .dataframe tbody tr th:only-of-type {\n",
              "        vertical-align: middle;\n",
              "    }\n",
              "\n",
              "    .dataframe tbody tr th {\n",
              "        vertical-align: top;\n",
              "    }\n",
              "\n",
              "    .dataframe thead th {\n",
              "        text-align: right;\n",
              "    }\n",
              "</style>\n",
              "<table border=\"1\" class=\"dataframe\">\n",
              "  <thead>\n",
              "    <tr style=\"text-align: right;\">\n",
              "      <th></th>\n",
              "      <th>texts</th>\n",
              "      <th>pages</th>\n",
              "    </tr>\n",
              "  </thead>\n",
              "  <tbody>\n",
              "    <tr>\n",
              "      <th>0</th>\n",
              "      <td>['xxQ00_00 xxbob JUL 14 14:48 FR CALIFORNIA SPEEDURY 429 5998 TO 919176631462\\n', 'xxeob xxQ01_00\\n', 'xxQ01_00 xxbob july 7, 2900\\n', 'xxeob xxQ01_00\\n', 'xxQ01_00 xxbob Philip Morris, USA\\n', '-120 Park Avenue\\n', 'xxeob xxQ02_01\\n', 'xxQ01_00 xxbob New York, NY 10017-5592\\n', 'Dear ina,\\n', 'xxeob xxQ03_03\\n', 'xxQ02_00 xxbob xxbcet Thank far your time today with our several conversations over the telephone.\\n', 'xxecet you regarding Marlboro Racing Experience and\\n', 'writing the agreement we that we agreement that for the of the\\n', 'SportService. tis my understanding are all in -\\n',...</td>\n",
              "      <td>0</td>\n",
              "    </tr>\n",
              "    <tr>\n",
              "      <th>1</th>\n",
              "      <td>['xxQ00_02 xxbob ®\\n', 'xxeob xxQ00_01\\n', 'xxQ00_01 xxbob Phase\\n', 'xxeob xxQ00_03\\n', 'xxQ00_00 xxbob Now smoke two packs of the cigarette coded and circle\\n', 'Just did . a Number for each pair of phrases\\n', 'as you before.\\n', 'xxeob xxQ00_00\\n', 'xxQ00_00 xxbob CIGARETTES CODED\\n', 'xxeob xxQ02_03\\n', 'xxQ00_00 xxbob xxbcet Too much menthol taste. | 3 | 2 |3 7] enough menthol taste,\\n', 'xxecet Burns too fast, 2-13 14 15 16 Does not burn too fast,\\n', '4\\n', 'xxbcet Is dry tasting. | 2 [4 {5 [6 [7 } Is not dry tasting,\\n', 'xxecet xxbcet Does not have a good taste. | 1 15 6 | | Has ...</td>\n",
              "      <td>1</td>\n",
              "    </tr>\n",
              "    <tr>\n",
              "      <th>2</th>\n",
              "      <td>['xxQ04_02 xxbob BAILOWOLITY\\n', 'xxbcet |\\n', 'xxecet xxbcet |\\n', 'xxecet xxeob xxQ02_02\\n', 'xxQ02_02 xxbob xxbcet |\\n', 'xxecet xxeob xxQ04_02\\n', 'xxQ01_02 xxbob xxbcet |\\n', 'xxecet xxbcet |\\n', 'xxecet xxbcet |\\n', 'xxecet xxbcet |\\n', 'xxecet xxbcet |\\n', 'xxecet xxeob xxQ04_01\\n', 'xxQ04_01 xxbob xxbcet |\\n', 'xxecet xxeob xxQ04_01\\n', 'xxQ04_01 xxbob xxbcet |\\n', 'xxecet xxeob xxQ03_01\\n', 'xxQ03_01 xxbob xxbcet |\\n', 'xxecet xxeob xxQ04_01\\n', 'xxQ03_01 xxbob ——!\\n', '—\\n', 'xxeob xxQ01_01\\n', 'xxQ01_01 xxbob MAN\\n', 'xxeob xxQ01_01\\n']</td>\n",
              "      <td>1</td>\n",
              "    </tr>\n",
              "    <tr>\n",
              "      <th>3</th>\n",
              "      <td>['xxQ00_00 xxbob THE\\n', 'AMERICAN\\n', 'TOBACCO\\n', 'COMPANY\\n', 'xxeob xxQ01_02\\n', 'xxQ01_02 xxbob March 30, 1989\\n', 'xxeob xxQ01_02\\n', 'xxQ01_00 xxbob Mr. Douglass Bomeisler\\n', 'Laurence, Charles, Free &amp; Lawson, Inc.\\n', '260 Madison Avenue\\n', 'New York, New York 10016\\n', 'xxeob xxQ02_02\\n', 'xxQ02_00 xxbob Re: AMERICAN Advertising Test Creative\\n', 'Dear Doug:\\n', 'xxeob xxQ02_03\\n', \"xxQ02_00 xxbob This will recap the several issues we've discussed regarding an AMERICAN\\n\", 'advertising test:\\n', 'xxeob xxQ02_01\\n', 'xxQ02_00 xxbob I) Background\\n', 'xxeob xxQ03_02\\n', \"xxQ02_00 ...</td>\n",
              "      <td>1</td>\n",
              "    </tr>\n",
              "    <tr>\n",
              "      <th>4</th>\n",
              "      <td>['xxQ00_01 xxbob xxbcet Tse For Inc.\\n', 'xxecet xxbcet 900 THIRD AVENUE\\n', 'xxecet xxbcet NEW YORK, 10022\\n', 'xxecet xxeob xxQ00_02\\n', 'xxQ00_02 xxbob March 19, 1991\\n', 'xxeob xxQ01_01\\n', 'xxQ01_00 xxbob Dr. C. William Davis\\n', 'Div. of Pulmonary Medicine\\n', '724 Clinical Sciences Bldg. -7020\\n', 'University of North Carolina\\n', 'Chapel Hill, NC. 27599\\n', 'xxeob xxQ01_01\\n', 'xxQ01_00 xxbob Dear Dr. Davis:\\n', 'xxeob xxQ02_03\\n', 'xxQ01_00 xxbob Thank you for your expression of interest in our program of research support. Iam\\n', 'pleased to enclose a statement describing policie...</td>\n",
              "      <td>0</td>\n",
              "    </tr>\n",
              "  </tbody>\n",
              "</table>\n",
              "</div>"
            ],
            "text/plain": [
              "                                                                                                                                                                                                                                                                                                                                                                                                                                                                                                                                                                                                                     texts  \\\n",
              "0  ['xxQ00_00 xxbob JUL 14 14:48 FR CALIFORNIA SPEEDURY 429 5998 TO 919176631462\\n', 'xxeob xxQ01_00\\n', 'xxQ01_00 xxbob july 7, 2900\\n', 'xxeob xxQ01_00\\n', 'xxQ01_00 xxbob Philip Morris, USA\\n', '-120 Park Avenue\\n', 'xxeob xxQ02_01\\n', 'xxQ01_00 xxbob New York, NY 10017-5592\\n', 'Dear ina,\\n', 'xxeob xxQ03_03\\n', 'xxQ02_00 xxbob xxbcet Thank far your time today with our several conversations over the telephone.\\n', 'xxecet you regarding Marlboro Racing Experience and\\n', 'writing the agreement we that we agreement that for the of the\\n', 'SportService. tis my understanding are all in -\\n',...   \n",
              "1  ['xxQ00_02 xxbob ®\\n', 'xxeob xxQ00_01\\n', 'xxQ00_01 xxbob Phase\\n', 'xxeob xxQ00_03\\n', 'xxQ00_00 xxbob Now smoke two packs of the cigarette coded and circle\\n', 'Just did . a Number for each pair of phrases\\n', 'as you before.\\n', 'xxeob xxQ00_00\\n', 'xxQ00_00 xxbob CIGARETTES CODED\\n', 'xxeob xxQ02_03\\n', 'xxQ00_00 xxbob xxbcet Too much menthol taste. | 3 | 2 |3 7] enough menthol taste,\\n', 'xxecet Burns too fast, 2-13 14 15 16 Does not burn too fast,\\n', '4\\n', 'xxbcet Is dry tasting. | 2 [4 {5 [6 [7 } Is not dry tasting,\\n', 'xxecet xxbcet Does not have a good taste. | 1 15 6 | | Has ...   \n",
              "2                                                ['xxQ04_02 xxbob BAILOWOLITY\\n', 'xxbcet |\\n', 'xxecet xxbcet |\\n', 'xxecet xxeob xxQ02_02\\n', 'xxQ02_02 xxbob xxbcet |\\n', 'xxecet xxeob xxQ04_02\\n', 'xxQ01_02 xxbob xxbcet |\\n', 'xxecet xxbcet |\\n', 'xxecet xxbcet |\\n', 'xxecet xxbcet |\\n', 'xxecet xxbcet |\\n', 'xxecet xxeob xxQ04_01\\n', 'xxQ04_01 xxbob xxbcet |\\n', 'xxecet xxeob xxQ04_01\\n', 'xxQ04_01 xxbob xxbcet |\\n', 'xxecet xxeob xxQ03_01\\n', 'xxQ03_01 xxbob xxbcet |\\n', 'xxecet xxeob xxQ04_01\\n', 'xxQ03_01 xxbob ——!\\n', '—\\n', 'xxeob xxQ01_01\\n', 'xxQ01_01 xxbob MAN\\n', 'xxeob xxQ01_01\\n']   \n",
              "3  ['xxQ00_00 xxbob THE\\n', 'AMERICAN\\n', 'TOBACCO\\n', 'COMPANY\\n', 'xxeob xxQ01_02\\n', 'xxQ01_02 xxbob March 30, 1989\\n', 'xxeob xxQ01_02\\n', 'xxQ01_00 xxbob Mr. Douglass Bomeisler\\n', 'Laurence, Charles, Free & Lawson, Inc.\\n', '260 Madison Avenue\\n', 'New York, New York 10016\\n', 'xxeob xxQ02_02\\n', 'xxQ02_00 xxbob Re: AMERICAN Advertising Test Creative\\n', 'Dear Doug:\\n', 'xxeob xxQ02_03\\n', \"xxQ02_00 xxbob This will recap the several issues we've discussed regarding an AMERICAN\\n\", 'advertising test:\\n', 'xxeob xxQ02_01\\n', 'xxQ02_00 xxbob I) Background\\n', 'xxeob xxQ03_02\\n', \"xxQ02_00 ...   \n",
              "4  ['xxQ00_01 xxbob xxbcet Tse For Inc.\\n', 'xxecet xxbcet 900 THIRD AVENUE\\n', 'xxecet xxbcet NEW YORK, 10022\\n', 'xxecet xxeob xxQ00_02\\n', 'xxQ00_02 xxbob March 19, 1991\\n', 'xxeob xxQ01_01\\n', 'xxQ01_00 xxbob Dr. C. William Davis\\n', 'Div. of Pulmonary Medicine\\n', '724 Clinical Sciences Bldg. -7020\\n', 'University of North Carolina\\n', 'Chapel Hill, NC. 27599\\n', 'xxeob xxQ01_01\\n', 'xxQ01_00 xxbob Dear Dr. Davis:\\n', 'xxeob xxQ02_03\\n', 'xxQ01_00 xxbob Thank you for your expression of interest in our program of research support. Iam\\n', 'pleased to enclose a statement describing policie...   \n",
              "\n",
              "   pages  \n",
              "0      0  \n",
              "1      1  \n",
              "2      1  \n",
              "3      1  \n",
              "4      0  "
            ]
          },
          "metadata": {},
          "execution_count": 8
        }
      ]
    },
    {
      "cell_type": "code",
      "metadata": {
        "colab": {
          "base_uri": "https://localhost:8080/"
        },
        "id": "YvY2nUjH7IlH",
        "outputId": "9972f045-253e-4629-e5ff-f7fa8a1d7f62"
      },
      "source": [
        "defaults.text_proc_rules"
      ],
      "execution_count": 9,
      "outputs": [
        {
          "output_type": "execute_result",
          "data": {
            "text/plain": [
              "[<function fastai.text.core.fix_html>,\n",
              " <function fastai.text.core.replace_rep>,\n",
              " <function fastai.text.core.replace_wrep>,\n",
              " <function fastai.text.core.spec_add_spaces>,\n",
              " <function fastai.text.core.rm_useless_spaces>,\n",
              " <function fastai.text.core.replace_all_caps>,\n",
              " <function fastai.text.core.replace_maj>,\n",
              " <function fastai.text.core.lowercase>]"
            ]
          },
          "metadata": {},
          "execution_count": 9
        }
      ]
    },
    {
      "cell_type": "code",
      "metadata": {
        "colab": {
          "base_uri": "https://localhost:8080/",
          "height": 315
        },
        "id": "jgHd8oqQRWP2",
        "outputId": "d1957958-38d2-483c-f3cf-0c940c90f873"
      },
      "source": [
        "dls = TextDataLoaders.from_df(df, path=path, text_col='texts', Target ='pages')\n",
        "dls.show_batch(max_n=3)"
      ],
      "execution_count": 10,
      "outputs": [
        {
          "output_type": "display_data",
          "data": {
            "text/html": [
              ""
            ],
            "text/plain": [
              "<IPython.core.display.HTML object>"
            ]
          },
          "metadata": {}
        },
        {
          "output_type": "stream",
          "name": "stderr",
          "text": [
            "/usr/local/lib/python3.7/dist-packages/numpy/core/_asarray.py:83: VisibleDeprecationWarning: Creating an ndarray from ragged nested sequences (which is a list-or-tuple of lists-or-tuples-or ndarrays with different lengths or shapes) is deprecated. If you meant to do this, you must specify 'dtype=object' when creating the ndarray\n",
            "  return array(a, dtype, copy=False, order=order)\n"
          ]
        },
        {
          "output_type": "display_data",
          "data": {
            "text/html": [
              "<table border=\"1\" class=\"dataframe\">\n",
              "  <thead>\n",
              "    <tr style=\"text-align: right;\">\n",
              "      <th></th>\n",
              "      <th>text</th>\n",
              "      <th>category</th>\n",
              "    </tr>\n",
              "  </thead>\n",
              "  <tbody>\n",
              "    <tr>\n",
              "      <th>0</th>\n",
              "      <td>xxbos [ ' xxq00_00 xxbob xxunk \\n ' , ' xxeob xxq04_01 \\n ' , ' xxq00_00 xxbob { b } xxmaj whether each applicant has \\n ' , ' xxunk leaders of that group . \\n ' , ' xxbcet 2 xxmaj to determine with xxunk to the \\n ' , ' xxecet xxbcet efforts of to ascertain the needs of \\n ' , ' xxecet its proposed service \\n ' , ' ( a ) xxmaj whether the xxunk ! xxunk \\n ' , ' leaders of and in \\n ' , ' xxunk . \\n ' , ' whether the xxunk xxunk \\n ' , ' xxunk xxunk xxunk of xxunk \\n ' , ' community of license . \\n ' , ' xxbcet 3 . xxmaj to determine whether xxmaj xxunk \\n ' , ' xxecet is financially qualified to \\n ' , ' xxunk and</td>\n",
              "      <td>1</td>\n",
              "    </tr>\n",
              "    <tr>\n",
              "      <th>1</th>\n",
              "      <td>xxbos [ ' xxq00_00 xxbob xxup martin xxup lipton \\n ' , ' herbert xxup wachtell \\n ' , ' xxunk xxup xxunk \\n ' , ' xxunk xxup w. xxup nussbaum \\n ' , ' richard xxup d. xxup xxunk \\n ' , ' douglas $ , \\n ' , ' steven xxup m. xxup barna \\n ' , ' chaim xxup j , xxup fortgang \\n ' , ' peter xxup canellos \\n ' , ' michael xxup w. xxup schwartz \\n ' , ' allan xxup a. xxup martin \\n ' , ' xxunk xxup a. xxup bryer \\n ' , ' lawrence xxup b , xxup xxunk \\n ' , ' robert @. xxup mazur \\n ' , ' paul xxup vizcarrondo , xxup jr . \\n ' , ' peter xxup g. xxup hein \\n ' , ' harold \\n ' , ' m ,</td>\n",
              "      <td>1</td>\n",
              "    </tr>\n",
              "    <tr>\n",
              "      <th>2</th>\n",
              "      <td>xxbos [ ' xxq00_00 xxbob xxup martin xxup lipton \\n ' , ' herbert xxup m. xxup wachtell \\n ' , ' xxunk xxup gewertz \\n ' , ' bernard xxup w. xxup nussbaum \\n ' , ' richard xxup d , xxup xxunk \\n ' , ' douglas xxup liebhafsky \\n ' , ' steven xxup m. xxup barna \\n ' , ' chaim xxup j. xxup fortgang \\n ' , ' peter xxup c , \\n ' , ' schwartz \\n ' , ' allan xxup al \\n ' , ' barry xxup a. xxup bryer \\n ' , ' lawrence xxup b , xxup pedowitz \\n ' , ' robert xxup b , xxup mazur \\n ' , ' paul xxup xxunk , \\n ' , ' peter xxup g. xxup hein \\n ' , ' harold 5 . \\n ' , ' david xxup m. xxup</td>\n",
              "      <td>1</td>\n",
              "    </tr>\n",
              "  </tbody>\n",
              "</table>"
            ],
            "text/plain": [
              "<IPython.core.display.HTML object>"
            ]
          },
          "metadata": {}
        }
      ]
    },
    {
      "cell_type": "code",
      "metadata": {
        "id": "yFi9cVezirz9"
      },
      "source": [
        "learn = text_classifier_learner(dls, AWD_LSTM, drop_mult=0.5,metrics=[accuracy, Perplexity()]).to_fp16()"
      ],
      "execution_count": 11,
      "outputs": []
    },
    {
      "cell_type": "code",
      "metadata": {
        "colab": {
          "base_uri": "https://localhost:8080/",
          "height": 236
        },
        "id": "Zo2DlMlnirz-",
        "outputId": "cc3d27f0-aee6-4eb7-f23c-f00fb2f57f6c"
      },
      "source": [
        "learn.fine_tune(4, 1e-2)"
      ],
      "execution_count": 12,
      "outputs": [
        {
          "output_type": "display_data",
          "data": {
            "text/html": [
              "<table border=\"1\" class=\"dataframe\">\n",
              "  <thead>\n",
              "    <tr style=\"text-align: left;\">\n",
              "      <th>epoch</th>\n",
              "      <th>train_loss</th>\n",
              "      <th>valid_loss</th>\n",
              "      <th>accuracy</th>\n",
              "      <th>perplexity</th>\n",
              "      <th>time</th>\n",
              "    </tr>\n",
              "  </thead>\n",
              "  <tbody>\n",
              "    <tr>\n",
              "      <td>0</td>\n",
              "      <td>0.708065</td>\n",
              "      <td>0.692034</td>\n",
              "      <td>0.573643</td>\n",
              "      <td>1.997776</td>\n",
              "      <td>00:06</td>\n",
              "    </tr>\n",
              "  </tbody>\n",
              "</table>"
            ],
            "text/plain": [
              "<IPython.core.display.HTML object>"
            ]
          },
          "metadata": {}
        },
        {
          "output_type": "display_data",
          "data": {
            "text/html": [
              "<table border=\"1\" class=\"dataframe\">\n",
              "  <thead>\n",
              "    <tr style=\"text-align: left;\">\n",
              "      <th>epoch</th>\n",
              "      <th>train_loss</th>\n",
              "      <th>valid_loss</th>\n",
              "      <th>accuracy</th>\n",
              "      <th>perplexity</th>\n",
              "      <th>time</th>\n",
              "    </tr>\n",
              "  </thead>\n",
              "  <tbody>\n",
              "    <tr>\n",
              "      <td>0</td>\n",
              "      <td>0.619720</td>\n",
              "      <td>0.652262</td>\n",
              "      <td>0.589147</td>\n",
              "      <td>1.919879</td>\n",
              "      <td>00:13</td>\n",
              "    </tr>\n",
              "    <tr>\n",
              "      <td>1</td>\n",
              "      <td>0.583561</td>\n",
              "      <td>0.573735</td>\n",
              "      <td>0.724806</td>\n",
              "      <td>1.774883</td>\n",
              "      <td>00:13</td>\n",
              "    </tr>\n",
              "    <tr>\n",
              "      <td>2</td>\n",
              "      <td>0.543328</td>\n",
              "      <td>0.428818</td>\n",
              "      <td>0.821705</td>\n",
              "      <td>1.535441</td>\n",
              "      <td>00:13</td>\n",
              "    </tr>\n",
              "    <tr>\n",
              "      <td>3</td>\n",
              "      <td>0.507129</td>\n",
              "      <td>0.463919</td>\n",
              "      <td>0.794574</td>\n",
              "      <td>1.590294</td>\n",
              "      <td>00:13</td>\n",
              "    </tr>\n",
              "  </tbody>\n",
              "</table>"
            ],
            "text/plain": [
              "<IPython.core.display.HTML object>"
            ]
          },
          "metadata": {}
        }
      ]
    },
    {
      "cell_type": "code",
      "metadata": {
        "id": "AnxroDcpirz-",
        "colab": {
          "base_uri": "https://localhost:8080/",
          "height": 236
        },
        "outputId": "6837968e-34e9-44cd-b365-31cacaaab129"
      },
      "source": [
        "learn.fine_tune(4, 1e-2)"
      ],
      "execution_count": 13,
      "outputs": [
        {
          "output_type": "display_data",
          "data": {
            "text/html": [
              "<table border=\"1\" class=\"dataframe\">\n",
              "  <thead>\n",
              "    <tr style=\"text-align: left;\">\n",
              "      <th>epoch</th>\n",
              "      <th>train_loss</th>\n",
              "      <th>valid_loss</th>\n",
              "      <th>accuracy</th>\n",
              "      <th>perplexity</th>\n",
              "      <th>time</th>\n",
              "    </tr>\n",
              "  </thead>\n",
              "  <tbody>\n",
              "    <tr>\n",
              "      <td>0</td>\n",
              "      <td>0.437807</td>\n",
              "      <td>0.498547</td>\n",
              "      <td>0.790698</td>\n",
              "      <td>1.646328</td>\n",
              "      <td>00:06</td>\n",
              "    </tr>\n",
              "  </tbody>\n",
              "</table>"
            ],
            "text/plain": [
              "<IPython.core.display.HTML object>"
            ]
          },
          "metadata": {}
        },
        {
          "output_type": "display_data",
          "data": {
            "text/html": [
              "<table border=\"1\" class=\"dataframe\">\n",
              "  <thead>\n",
              "    <tr style=\"text-align: left;\">\n",
              "      <th>epoch</th>\n",
              "      <th>train_loss</th>\n",
              "      <th>valid_loss</th>\n",
              "      <th>accuracy</th>\n",
              "      <th>perplexity</th>\n",
              "      <th>time</th>\n",
              "    </tr>\n",
              "  </thead>\n",
              "  <tbody>\n",
              "    <tr>\n",
              "      <td>0</td>\n",
              "      <td>0.442127</td>\n",
              "      <td>0.350734</td>\n",
              "      <td>0.864341</td>\n",
              "      <td>1.420109</td>\n",
              "      <td>00:13</td>\n",
              "    </tr>\n",
              "    <tr>\n",
              "      <td>1</td>\n",
              "      <td>0.437431</td>\n",
              "      <td>0.560695</td>\n",
              "      <td>0.767442</td>\n",
              "      <td>1.751890</td>\n",
              "      <td>00:13</td>\n",
              "    </tr>\n",
              "    <tr>\n",
              "      <td>2</td>\n",
              "      <td>0.406804</td>\n",
              "      <td>0.361691</td>\n",
              "      <td>0.872093</td>\n",
              "      <td>1.435755</td>\n",
              "      <td>00:13</td>\n",
              "    </tr>\n",
              "    <tr>\n",
              "      <td>3</td>\n",
              "      <td>0.377571</td>\n",
              "      <td>0.357034</td>\n",
              "      <td>0.868217</td>\n",
              "      <td>1.429084</td>\n",
              "      <td>00:13</td>\n",
              "    </tr>\n",
              "  </tbody>\n",
              "</table>"
            ],
            "text/plain": [
              "<IPython.core.display.HTML object>"
            ]
          },
          "metadata": {}
        }
      ]
    },
    {
      "cell_type": "code",
      "metadata": {
        "id": "OuPTd5rbirz_",
        "colab": {
          "base_uri": "https://localhost:8080/",
          "height": 736
        },
        "outputId": "11fd1164-fc9d-4f93-f401-5d00b47e8bc2"
      },
      "source": [
        "learn.show_results()"
      ],
      "execution_count": 14,
      "outputs": [
        {
          "output_type": "display_data",
          "data": {
            "text/html": [
              ""
            ],
            "text/plain": [
              "<IPython.core.display.HTML object>"
            ]
          },
          "metadata": {}
        },
        {
          "output_type": "display_data",
          "data": {
            "text/html": [
              "<table border=\"1\" class=\"dataframe\">\n",
              "  <thead>\n",
              "    <tr style=\"text-align: right;\">\n",
              "      <th></th>\n",
              "      <th>text</th>\n",
              "      <th>category</th>\n",
              "      <th>category_</th>\n",
              "    </tr>\n",
              "  </thead>\n",
              "  <tbody>\n",
              "    <tr>\n",
              "      <th>0</th>\n",
              "      <td>xxbos [ ' xxq00_00 xxbob xxbcet xxmaj the | and xxmaj nicotine xxmaj content xxmaj gl \\n ' , ' xxecet xxeob xxq01_01 \\n ' , ' xxq00_00 xxbob ( 176 ) of \\n ' , ' xxunk ‘ ta \\n ' , ' long xxunk , or \\n ' , ' 2 93 \\n ' , ' xxunk ere . 5 \\n ' , ' 16 2 \\n ' , ' 1 \\n ' , ' of \\n ' , ' xxunk — of \\n ' , ' xxunk , or \\n ' , ' it \\n ' , ' xxeob xxq02_01 \\n ' , ' xxq02_00 xxbob few ane dey xxunk \\n ' , ' xxunk \\n ' , ' xxeob xxq02_01 \\n ' , ' xxq02_00 xxbob of the dated \\n ' , ' 5 , 1973 . \\n ' , ' james xxup a. xxmaj xxunk</td>\n",
              "      <td>1</td>\n",
              "      <td>1</td>\n",
              "    </tr>\n",
              "    <tr>\n",
              "      <th>1</th>\n",
              "      <td>xxbos [ ' xxq00_00 xxbob “ wlrk xxunk xxmaj server 5 / 28 / 99 \\n ' , ' xxeob xxq00_02 \\n ' , ' xxq00_00 xxbob i : james xxmaj wilson company : lorillard xxmaj tobacco xxmaj company \\n ' , ' xxeob xxq01_00 \\n ' , ' xxq00_00 xxbob xxup martin \\n ' , ' theodore xxup gewertz \\n ' , ' nussbaum \\n ' , ' richard xxup d. xxup katcher \\n ' , ' xxunk xxup barna \\n ' , ' chaim @ xxup fortgang \\n ' , ' &amp; , \\n ' , ' schwartz \\n ' , ' allan \\n ' , ' lawrence at xxup bryer \\n ' , ' peter \\n ' , ' xxunk \\n ' , ' david xxup einhorn \\n ' , ' xxeob xxq01_00 \\n ' , ' xxq01_00 xxbob xxup forrest \\n ' , ' xxunk \\n</td>\n",
              "      <td>0</td>\n",
              "      <td>0</td>\n",
              "    </tr>\n",
              "    <tr>\n",
              "      <th>2</th>\n",
              "      <td>xxbos [ ' xxq00_00 xxbob xxup martin \\n ' , ' herbert xxup m. \\n ' , ' theodore xxup gewertz \\n ' , ' bernard xxup w. \\n ' , ' richard 0 . xxup katcher \\n ' , ' xxunk 5 . \\n ' , ' steven xxup m. xxup barna \\n ' , ' chaim xxup j. xxup fortgang \\n ' , ' peter xxup c. xxup canellos \\n ' , ' michael xxup w. xxup schwartz \\n ' , ' allan xxup a , xxup martin \\n ' , ' barry xxup a. xxup bryer \\n ' , ' lawrence xxup b. \\n ' , ' mazur xxup jr . \\n ' , ' paul , xxup vizcarrondo , \\n ' , ' peter © . xxup hein \\n ' , ' harold xxup novikoff \\n ' , ' m. xxup einhorn \\n ' , '</td>\n",
              "      <td>1</td>\n",
              "      <td>1</td>\n",
              "    </tr>\n",
              "    <tr>\n",
              "      <th>3</th>\n",
              "      <td>xxbos [ ' xxq00_01 xxbob xxunk \\n ' , ' sudol , xxmaj marius 129 - 68 - 8626 \\n ' , ' xxeob xxq05_03 \\n ' , ' xxq00_00 xxbob 3 . xxmaj xxunk , xxup xxunk . , xxmaj harvey , xxup r. , xxmaj xxunk , xxup xxunk . , xxmaj xxunk , xxup k. , xxmaj xxunk , xxup t. , xxmaj toyoshima , xxup t. , \\n ' , ' smith , xxup xxunk . ( 1988 ) xxup xxunk , xxup j. xxunk - xxunk \\n ' , ' 4 . xxmaj xxunk , ( 1983 ) xxmaj nature xxunk - xxunk \\n ' , ' 5 . xxmaj xxunk , xxup j. , xxmaj xxunk , xxup xxunk . , and xxmaj vogt , xxup xxunk . ( 1981 ) xxmaj xxunk . xxunk . xxmaj sci , xxup usa xxunk \\n '</td>\n",
              "      <td>1</td>\n",
              "      <td>1</td>\n",
              "    </tr>\n",
              "    <tr>\n",
              "      <th>4</th>\n",
              "      <td>xxbos [ ' xxq00_00 xxbob 85 / 26 / 99 \\n ' , ' xxeob xxq02_00 \\n ' , ' xxq01_00 xxbob w. \\n ' , ' 9 . \\n ' , ' xxunk \\n ' , ' xxunk xxup xxunk \\n ' , ' a , \\n ' , ' a , \\n ' , ' robert 5 , \\n ' , ' peter \\n ' , ' xxunk 4 , \\n ' , ' &amp; \\n ' , ' 0 . \\n ' , ' xxunk xxup xxunk \\n ' , ' xxunk \\n ' , ' xxunk xxup xxunk \\n ' , ' be \\n ' , ' mane \\n ' , ' xxunk \\n ' , ' al \\n ' , ' xxeob xxq00_02 \\n ' , ' xxq00_00 xxbob xxunk xxup wachtell xxup lipton &gt; xxup xxunk \\n ' , ' xxeob xxq02_01 \\n '</td>\n",
              "      <td>1</td>\n",
              "      <td>0</td>\n",
              "    </tr>\n",
              "    <tr>\n",
              "      <th>5</th>\n",
              "      <td>xxbos [ ' xxq00_00 xxbob xxunk xxmaj server \\n ' , ' xxeob xxq00_01 \\n ' , ' xxq00_00 xxbob to : ronald xxmaj xxunk xxup company ! \\n ' , ' xxeob xxq02_00 \\n ' , ' xxq01_00 xxbob xxup w. \\n ' , ' xxunk 3 . \\n ' , ' allan xxup al \\n ' , ' barry xxup a. \\n ' , ' xxunk xxup b , \\n ' , ' xxunk xxup jr \\n ' , ' xxunk \\n ' , ' harold xxup s. \\n ' , ' &amp; xxup forrest \\n ' , ' edward \\n ' , ' &amp; \\n ' , ' daniel xxup a. xxup xxunk \\n ' , ' andrew xxmaj re \\n ' , ' rowe . \\n ' , ' michael &amp; xxup xxunk \\n ' , ' a. \\n ' , ' xxeob xxq02_01 \\n '</td>\n",
              "      <td>0</td>\n",
              "      <td>0</td>\n",
              "    </tr>\n",
              "    <tr>\n",
              "      <th>6</th>\n",
              "      <td>xxbos [ ' xxq00_00 xxbob xxunk \\n ' , ' xxeob xxq02_00 \\n ' , ' xxq01_00 xxbob s \\n ' , ' peter © , \\n ' , ' w \\n ' , ' c. \\n ' , ' &amp; \\n ' , ' xxunk \\n ' , ' a \\n ' , ' warren xxmaj be \\n ' , ' pe \\n ' , ' rowe \\n ' , ' xxeob xxq02_01 \\n ' , ' xxq01_00 xxbob xxup patricia \\n ' , ' &amp; \\n ' , ' seth \\n ' , ' xxunk \\n ' , ' 5 \\n ' , ' xxunk \\n ' , ' 4 \\n ' , ' d. \\n ' , ' xxunk \\n ' , ' &amp; \\n ' , ' xxunk \\n ' , ' were xxup xxunk \\n ' , ' = \\n ' , ' xxeob xxq01_02</td>\n",
              "      <td>1</td>\n",
              "      <td>1</td>\n",
              "    </tr>\n",
              "    <tr>\n",
              "      <th>7</th>\n",
              "      <td>xxbos [ ' xxq00_01 xxbob 3d \\n ' , ' sudol , xxmaj marius 129 - 68 - 8626 \\n ' , ' xxeob xxq00_03 \\n ' , ' xxq00_00 xxbob xxunk mrna and whose xxunk proteins prevent the formation of a protein - one complex . \\n ' , ' special attention will be given to proteins which are phosphorylated on tyrosine . \\n ' , ' xxeob xxq02_03 \\n ' , ' xxq00_00 xxbob b. xxmaj potential xxmaj substrates of the xxmaj cellular - sre xxmaj kinase \\n ' , ' we propose to isolate substrates of the sre proto - oncogene kinase . xxmaj it is likely that these \\n ' , ' substrates are different . from those of the v - sre protein , the activated tyrosine kinase , xxmaj the \\n ' , ' choice of this experimental model came from studies on the</td>\n",
              "      <td>1</td>\n",
              "      <td>1</td>\n",
              "    </tr>\n",
              "    <tr>\n",
              "      <th>8</th>\n",
              "      <td>xxbos [ ' xxq00_02 xxbob xxmaj department of xxmaj pharmacology \\n ' , ' st . xxmaj mary ’s xxmaj hospital xxmaj medical xxmaj school \\n ' , ' ( university of xxmaj london ) \\n ' , ' norfolk xxmaj place \\n ' , ' london \\n ' , ' xxeob xxq00_02 \\n ' , ' xxq00_02 xxbob xxup w2 1pg \\n ' , ' xxeob xxq00_02 \\n ' , ' xxq00_02 xxbob xxmaj telephone : 01 - 723 £ xxunk \\n ' , ' xxeob xxq01_02 \\n ' , ' xxq01_02 xxbob = \\n ' , ' xxeob xxq01_01 \\n ' , ' xxq01_00 xxbob 10th xxmaj march 1988 \\n ' , ' xxeob xxq01_01 \\n ' , ' xxq01_00 xxbob xxmaj dr . xxmaj sheldon xxup c. xxmaj sommers \\n ' , ' p.o . xxmaj box \\n ' , ' alpine \\n ' , ' new</td>\n",
              "      <td>1</td>\n",
              "      <td>0</td>\n",
              "    </tr>\n",
              "  </tbody>\n",
              "</table>"
            ],
            "text/plain": [
              "<IPython.core.display.HTML object>"
            ]
          },
          "metadata": {}
        }
      ]
    },
    {
      "cell_type": "code",
      "metadata": {
        "id": "o6CqXViwir0A"
      },
      "source": [
        "imdb = DataBlock(blocks=(TextBlock.from_folder(path), CategoryBlock),\n",
        "                 get_items=get_text_files,\n",
        "                 get_y=parent_label,\n",
        "                 splitter=GrandparentSplitter(valid_name='test'))"
      ],
      "execution_count": 16,
      "outputs": []
    },
    {
      "cell_type": "code",
      "metadata": {
        "id": "dG-d97Lbir0D"
      },
      "source": [
        "learn = text_classifier_learner(dls, AWD_LSTM, metrics=[accuracy, Perplexity()], path=path, wd=0.1).to_fp16()"
      ],
      "execution_count": 20,
      "outputs": []
    },
    {
      "cell_type": "code",
      "metadata": {
        "id": "hagECip9ir0D",
        "colab": {
          "base_uri": "https://localhost:8080/",
          "height": 80
        },
        "outputId": "a8e2ab3c-4adf-4188-8452-243f34a6e759"
      },
      "source": [
        "learn.fit_one_cycle(1, 1e-2)"
      ],
      "execution_count": 21,
      "outputs": [
        {
          "output_type": "display_data",
          "data": {
            "text/html": [
              "<table border=\"1\" class=\"dataframe\">\n",
              "  <thead>\n",
              "    <tr style=\"text-align: left;\">\n",
              "      <th>epoch</th>\n",
              "      <th>train_loss</th>\n",
              "      <th>valid_loss</th>\n",
              "      <th>accuracy</th>\n",
              "      <th>perplexity</th>\n",
              "      <th>time</th>\n",
              "    </tr>\n",
              "  </thead>\n",
              "  <tbody>\n",
              "    <tr>\n",
              "      <td>0</td>\n",
              "      <td>0.748472</td>\n",
              "      <td>0.690011</td>\n",
              "      <td>0.527132</td>\n",
              "      <td>1.993738</td>\n",
              "      <td>00:06</td>\n",
              "    </tr>\n",
              "  </tbody>\n",
              "</table>"
            ],
            "text/plain": [
              "<IPython.core.display.HTML object>"
            ]
          },
          "metadata": {}
        }
      ]
    },
    {
      "cell_type": "code",
      "metadata": {
        "id": "Rw8c5QKzir0E",
        "colab": {
          "base_uri": "https://localhost:8080/"
        },
        "outputId": "bc00ca5e-a3a7-4e8d-bbfd-23fae6adcf35"
      },
      "source": [
        "learn.save('1epoch')"
      ],
      "execution_count": 22,
      "outputs": [
        {
          "output_type": "execute_result",
          "data": {
            "text/plain": [
              "Path('/content/gdrive/MyDrive/Colab Notebooks/Tobacco_LSTM/models/1epoch.pth')"
            ]
          },
          "metadata": {},
          "execution_count": 22
        }
      ]
    },
    {
      "cell_type": "code",
      "metadata": {
        "id": "ITlc1bIjir0E"
      },
      "source": [
        "learn = learn.load('1epoch')"
      ],
      "execution_count": 23,
      "outputs": []
    },
    {
      "cell_type": "markdown",
      "metadata": {
        "id": "09QYa764ir0E"
      },
      "source": [
        "We can them finetune the model after unfreezing:"
      ]
    },
    {
      "cell_type": "code",
      "metadata": {
        "id": "xauJJXxbir0E",
        "colab": {
          "base_uri": "https://localhost:8080/",
          "height": 359
        },
        "outputId": "bd4cb853-20eb-443b-ef79-46d78e5b818b"
      },
      "source": [
        "learn.unfreeze()\n",
        "learn.fit_one_cycle(10, 1e-3)"
      ],
      "execution_count": 24,
      "outputs": [
        {
          "output_type": "display_data",
          "data": {
            "text/html": [
              "<table border=\"1\" class=\"dataframe\">\n",
              "  <thead>\n",
              "    <tr style=\"text-align: left;\">\n",
              "      <th>epoch</th>\n",
              "      <th>train_loss</th>\n",
              "      <th>valid_loss</th>\n",
              "      <th>accuracy</th>\n",
              "      <th>perplexity</th>\n",
              "      <th>time</th>\n",
              "    </tr>\n",
              "  </thead>\n",
              "  <tbody>\n",
              "    <tr>\n",
              "      <td>0</td>\n",
              "      <td>0.718991</td>\n",
              "      <td>0.623577</td>\n",
              "      <td>0.666667</td>\n",
              "      <td>1.865589</td>\n",
              "      <td>00:13</td>\n",
              "    </tr>\n",
              "    <tr>\n",
              "      <td>1</td>\n",
              "      <td>0.672988</td>\n",
              "      <td>0.506116</td>\n",
              "      <td>0.779070</td>\n",
              "      <td>1.658835</td>\n",
              "      <td>00:13</td>\n",
              "    </tr>\n",
              "    <tr>\n",
              "      <td>2</td>\n",
              "      <td>0.624913</td>\n",
              "      <td>0.624563</td>\n",
              "      <td>0.670543</td>\n",
              "      <td>1.867429</td>\n",
              "      <td>00:13</td>\n",
              "    </tr>\n",
              "    <tr>\n",
              "      <td>3</td>\n",
              "      <td>0.584749</td>\n",
              "      <td>0.365599</td>\n",
              "      <td>0.856589</td>\n",
              "      <td>1.441377</td>\n",
              "      <td>00:13</td>\n",
              "    </tr>\n",
              "    <tr>\n",
              "      <td>4</td>\n",
              "      <td>0.534674</td>\n",
              "      <td>0.412113</td>\n",
              "      <td>0.779070</td>\n",
              "      <td>1.510005</td>\n",
              "      <td>00:13</td>\n",
              "    </tr>\n",
              "    <tr>\n",
              "      <td>5</td>\n",
              "      <td>0.489264</td>\n",
              "      <td>0.337138</td>\n",
              "      <td>0.864341</td>\n",
              "      <td>1.400932</td>\n",
              "      <td>00:13</td>\n",
              "    </tr>\n",
              "    <tr>\n",
              "      <td>6</td>\n",
              "      <td>0.444938</td>\n",
              "      <td>0.570249</td>\n",
              "      <td>0.724806</td>\n",
              "      <td>1.768707</td>\n",
              "      <td>00:13</td>\n",
              "    </tr>\n",
              "    <tr>\n",
              "      <td>7</td>\n",
              "      <td>0.405039</td>\n",
              "      <td>0.377413</td>\n",
              "      <td>0.852713</td>\n",
              "      <td>1.458507</td>\n",
              "      <td>00:13</td>\n",
              "    </tr>\n",
              "    <tr>\n",
              "      <td>8</td>\n",
              "      <td>0.375035</td>\n",
              "      <td>0.352478</td>\n",
              "      <td>0.856589</td>\n",
              "      <td>1.422589</td>\n",
              "      <td>00:13</td>\n",
              "    </tr>\n",
              "    <tr>\n",
              "      <td>9</td>\n",
              "      <td>0.352140</td>\n",
              "      <td>0.332117</td>\n",
              "      <td>0.860465</td>\n",
              "      <td>1.393916</td>\n",
              "      <td>00:13</td>\n",
              "    </tr>\n",
              "  </tbody>\n",
              "</table>"
            ],
            "text/plain": [
              "<IPython.core.display.HTML object>"
            ]
          },
          "metadata": {}
        }
      ]
    },
    {
      "cell_type": "code",
      "metadata": {
        "id": "9evjabCHir0F"
      },
      "source": [
        "learn.save_encoder('finetuned')"
      ],
      "execution_count": 25,
      "outputs": []
    },
    {
      "cell_type": "markdown",
      "metadata": {
        "id": "Kd8aKBq8ir0G"
      },
      "source": [
        "### Training a text classifier"
      ]
    },
    {
      "cell_type": "markdown",
      "metadata": {
        "id": "_Y34HYUJir0G"
      },
      "source": [
        "We can gather our data for text classification almost exactly like before:"
      ]
    },
    {
      "cell_type": "code",
      "metadata": {
        "id": "e3OWJkp4ir0G",
        "colab": {
          "base_uri": "https://localhost:8080/",
          "height": 17
        },
        "outputId": "e22c3a9a-e93c-44a8-cc5b-0d64e6ba4b65"
      },
      "source": [
        "dls_clas = TextDataLoaders.from_folder(untar_data(URLs.IMDB), valid='test')"
      ],
      "execution_count": 27,
      "outputs": [
        {
          "output_type": "display_data",
          "data": {
            "text/html": [
              ""
            ],
            "text/plain": [
              "<IPython.core.display.HTML object>"
            ]
          },
          "metadata": {}
        }
      ]
    },
    {
      "cell_type": "code",
      "metadata": {
        "id": "NmknB88mir0G"
      },
      "source": [
        "learn = text_classifier_learner(dls, AWD_LSTM, drop_mult=0.5, metrics=accuracy)"
      ],
      "execution_count": 39,
      "outputs": []
    },
    {
      "cell_type": "code",
      "metadata": {
        "id": "LQvCDBbTir0H"
      },
      "source": [
        "learn = learn.load_encoder('finetuned')"
      ],
      "execution_count": 40,
      "outputs": []
    },
    {
      "cell_type": "code",
      "metadata": {
        "id": "JynAj9SBir0H",
        "colab": {
          "base_uri": "https://localhost:8080/",
          "height": 80
        },
        "outputId": "31b775b1-ed3a-4cee-84d6-134bf9aedc4e"
      },
      "source": [
        "learn.fit_one_cycle(1, 2e-2)"
      ],
      "execution_count": 41,
      "outputs": [
        {
          "output_type": "display_data",
          "data": {
            "text/html": [
              "<table border=\"1\" class=\"dataframe\">\n",
              "  <thead>\n",
              "    <tr style=\"text-align: left;\">\n",
              "      <th>epoch</th>\n",
              "      <th>train_loss</th>\n",
              "      <th>valid_loss</th>\n",
              "      <th>accuracy</th>\n",
              "      <th>time</th>\n",
              "    </tr>\n",
              "  </thead>\n",
              "  <tbody>\n",
              "    <tr>\n",
              "      <td>0</td>\n",
              "      <td>0.582025</td>\n",
              "      <td>0.623866</td>\n",
              "      <td>0.810078</td>\n",
              "      <td>00:06</td>\n",
              "    </tr>\n",
              "  </tbody>\n",
              "</table>"
            ],
            "text/plain": [
              "<IPython.core.display.HTML object>"
            ]
          },
          "metadata": {}
        }
      ]
    },
    {
      "cell_type": "code",
      "metadata": {
        "id": "LtqYN_Rzir0H",
        "colab": {
          "base_uri": "https://localhost:8080/",
          "height": 80
        },
        "outputId": "885467dd-48bb-4907-b7f8-5bed9aa5a14c"
      },
      "source": [
        "learn.freeze_to(-2)\n",
        "learn.fit_one_cycle(1, slice(1e-2/(2.6**4),1e-2))"
      ],
      "execution_count": 42,
      "outputs": [
        {
          "output_type": "display_data",
          "data": {
            "text/html": [
              "<table border=\"1\" class=\"dataframe\">\n",
              "  <thead>\n",
              "    <tr style=\"text-align: left;\">\n",
              "      <th>epoch</th>\n",
              "      <th>train_loss</th>\n",
              "      <th>valid_loss</th>\n",
              "      <th>accuracy</th>\n",
              "      <th>time</th>\n",
              "    </tr>\n",
              "  </thead>\n",
              "  <tbody>\n",
              "    <tr>\n",
              "      <td>0</td>\n",
              "      <td>0.371033</td>\n",
              "      <td>0.369717</td>\n",
              "      <td>0.860465</td>\n",
              "      <td>00:07</td>\n",
              "    </tr>\n",
              "  </tbody>\n",
              "</table>"
            ],
            "text/plain": [
              "<IPython.core.display.HTML object>"
            ]
          },
          "metadata": {}
        }
      ]
    },
    {
      "cell_type": "markdown",
      "metadata": {
        "id": "OamtGY3tir0H"
      },
      "source": [
        "Then we can unfreeze a bit more, and continue training:"
      ]
    },
    {
      "cell_type": "code",
      "metadata": {
        "id": "UPnV373Yir0H",
        "colab": {
          "base_uri": "https://localhost:8080/",
          "height": 80
        },
        "outputId": "8f67a3dc-baff-4360-d529-295122feaaee"
      },
      "source": [
        "learn.freeze_to(-3)\n",
        "learn.fit_one_cycle(1, slice(5e-3/(2.6**4),5e-3))"
      ],
      "execution_count": 43,
      "outputs": [
        {
          "output_type": "display_data",
          "data": {
            "text/html": [
              "<table border=\"1\" class=\"dataframe\">\n",
              "  <thead>\n",
              "    <tr style=\"text-align: left;\">\n",
              "      <th>epoch</th>\n",
              "      <th>train_loss</th>\n",
              "      <th>valid_loss</th>\n",
              "      <th>accuracy</th>\n",
              "      <th>time</th>\n",
              "    </tr>\n",
              "  </thead>\n",
              "  <tbody>\n",
              "    <tr>\n",
              "      <td>0</td>\n",
              "      <td>0.355807</td>\n",
              "      <td>0.530631</td>\n",
              "      <td>0.775194</td>\n",
              "      <td>00:10</td>\n",
              "    </tr>\n",
              "  </tbody>\n",
              "</table>"
            ],
            "text/plain": [
              "<IPython.core.display.HTML object>"
            ]
          },
          "metadata": {}
        }
      ]
    },
    {
      "cell_type": "code",
      "metadata": {
        "id": "2rRd0CVqir0I",
        "colab": {
          "base_uri": "https://localhost:8080/",
          "height": 142
        },
        "outputId": "c5b9774e-05f9-437a-9270-03a87b2949e2"
      },
      "source": [
        "learn.unfreeze()\n",
        "learn.fit_one_cycle(3, slice(1e-3/(2.6**4),1e-3))"
      ],
      "execution_count": 46,
      "outputs": [
        {
          "output_type": "display_data",
          "data": {
            "text/html": [
              "<table border=\"1\" class=\"dataframe\">\n",
              "  <thead>\n",
              "    <tr style=\"text-align: left;\">\n",
              "      <th>epoch</th>\n",
              "      <th>train_loss</th>\n",
              "      <th>valid_loss</th>\n",
              "      <th>accuracy</th>\n",
              "      <th>time</th>\n",
              "    </tr>\n",
              "  </thead>\n",
              "  <tbody>\n",
              "    <tr>\n",
              "      <td>0</td>\n",
              "      <td>0.272755</td>\n",
              "      <td>0.301056</td>\n",
              "      <td>0.875969</td>\n",
              "      <td>00:13</td>\n",
              "    </tr>\n",
              "    <tr>\n",
              "      <td>1</td>\n",
              "      <td>0.261317</td>\n",
              "      <td>0.340314</td>\n",
              "      <td>0.860465</td>\n",
              "      <td>00:13</td>\n",
              "    </tr>\n",
              "    <tr>\n",
              "      <td>2</td>\n",
              "      <td>0.255657</td>\n",
              "      <td>0.327053</td>\n",
              "      <td>0.864341</td>\n",
              "      <td>00:13</td>\n",
              "    </tr>\n",
              "  </tbody>\n",
              "</table>"
            ],
            "text/plain": [
              "<IPython.core.display.HTML object>"
            ]
          },
          "metadata": {}
        }
      ]
    }
  ]
}