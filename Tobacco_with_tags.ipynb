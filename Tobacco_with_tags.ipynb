{
  "nbformat": 4,
  "nbformat_minor": 0,
  "metadata": {
    "colab": {
      "name": "Fastai_with_tags.ipynb",
      "provenance": [],
      "collapsed_sections": [],
      "machine_shape": "hm",
      "include_colab_link": true
    },
    "jupytext": {
      "split_at_heading": true
    },
    "kernelspec": {
      "display_name": "Python 3",
      "language": "python",
      "name": "python3"
    },
    "accelerator": "GPU"
  },
  "cells": [
    {
      "cell_type": "markdown",
      "metadata": {
        "id": "view-in-github",
        "colab_type": "text"
      },
      "source": [
        "<a href=\"https://colab.research.google.com/github/patriciamedyna/Classifier_page/blob/main/Tobacco_with_tags.ipynb\" target=\"_parent\"><img src=\"https://colab.research.google.com/assets/colab-badge.svg\" alt=\"Open In Colab\"/></a>"
      ]
    },
    {
      "cell_type": "code",
      "metadata": {
        "id": "UJr_N-oGWpgm"
      },
      "source": [
        "! [ -e /content ] && pip install -Uqq fastai"
      ],
      "execution_count": 1,
      "outputs": []
    },
    {
      "cell_type": "code",
      "metadata": {
        "id": "yaH3SUzZjuA-"
      },
      "source": [
        "#hide\n",
        "!pip install -Uqq fastbook\n",
        "import fastbook"
      ],
      "execution_count": 2,
      "outputs": []
    },
    {
      "cell_type": "code",
      "metadata": {
        "id": "ZZ_arKKyj3Co"
      },
      "source": [
        "#hide\n",
        "from fastbook import *\n",
        "from IPython.display import display,HTML"
      ],
      "execution_count": 3,
      "outputs": []
    },
    {
      "cell_type": "code",
      "metadata": {
        "id": "-gu3NxcBirzx"
      },
      "source": [
        "from fastai.basics import *\n",
        "from fastai.text.core import *\n",
        "from fastai.text.data import *\n",
        "from fastai.text.models.core import *\n",
        "from fastai.text.models.awdlstm import *\n",
        "from fastai.callback.rnn import *\n",
        "from fastai.callback.progress import *\n",
        "from fastai.vision import *\n",
        "from fastai.text.all import *\n",
        "from fastai.text import *\n",
        "from datetime import datetime"
      ],
      "execution_count": 4,
      "outputs": []
    },
    {
      "cell_type": "code",
      "source": [
        "seed = 42\n",
        "\n",
        "# python RNG\n",
        "import random\n",
        "random.seed(seed)\n",
        "\n",
        "# pytorch RNGs\n",
        "import torch\n",
        "torch.manual_seed(seed)\n",
        "torch.backends.cudnn.deterministic = True\n",
        "if torch.cuda.is_available(): torch.cuda.manual_seed_all(seed)\n",
        "\n",
        "# numpy RNG\n",
        "import numpy as np\n",
        "np.random.seed(seed)"
      ],
      "metadata": {
        "id": "GLqZqDsiLHU9"
      },
      "execution_count": 5,
      "outputs": []
    },
    {
      "cell_type": "code",
      "metadata": {
        "colab": {
          "base_uri": "https://localhost:8080/"
        },
        "id": "51jgSOs8zZrX",
        "outputId": "8f838d6d-d7a4-4af9-9a54-2fc9d0593b58"
      },
      "source": [
        "from google.colab import drive\n",
        "drive.mount('/content/drive')"
      ],
      "execution_count": 6,
      "outputs": [
        {
          "output_type": "stream",
          "name": "stdout",
          "text": [
            "Drive already mounted at /content/drive; to attempt to forcibly remount, call drive.mount(\"/content/drive\", force_remount=True).\n"
          ]
        }
      ]
    },
    {
      "cell_type": "code",
      "source": [
        "path = '/content/drive/MyDrive/Colab Notebooks/Datasets/Tobacco_LSTM/layout/'\n",
        "#path = '/content/drive/.shortcut-targets-by-id/1R_vnrbg04zsdpye6d-dv190eSUWCL07i/Tobacco_LSTM/layout/'"
      ],
      "metadata": {
        "id": "e5UWGaVMQ5in"
      },
      "execution_count": 7,
      "outputs": []
    },
    {
      "cell_type": "code",
      "metadata": {
        "id": "F3fCSD3QmMF_",
        "colab": {
          "base_uri": "https://localhost:8080/",
          "height": 367
        },
        "outputId": "7e7af771-fb57-43b5-dd1c-0de085c37579"
      },
      "source": [
        "df_train = pd.read_csv(path + 'train_tags.csv', delimiter=',',  error_bad_lines=False, index_col=False)\n",
        "df_train = df_train.drop(['text'], axis=1)\n",
        "df_train.head(2)"
      ],
      "execution_count": 8,
      "outputs": [
        {
          "output_type": "stream",
          "name": "stderr",
          "text": [
            "/usr/local/lib/python3.7/dist-packages/IPython/core/interactiveshell.py:2882: FutureWarning: The error_bad_lines argument has been deprecated and will be removed in a future version.\n",
            "\n",
            "\n",
            "  exec(code_obj, self.user_global_ns, self.user_ns)\n"
          ]
        },
        {
          "output_type": "execute_result",
          "data": {
            "text/plain": [
              "       binder              docid      class  \\\n",
              "0  Tobacco800  aah97e00-page02_1  FirstPage   \n",
              "1  Tobacco800  aah97e00-page02_2   NextPage   \n",
              "\n",
              "                                                                                                                                                                                                                                                                                                                                                                                                                                                                                                                                                                                                                 text_tags  \n",
              "0  ['\\n', 'xxQ00_01 xxbob  \\n', 'xxeob xxQ00_02\\n', '\\n', 'xxQ00_01 xxbob PHILIP MORRIS\\n', 'xxeob xxQ00_02\\n', '\\n', 'xxQ00_01 xxbob EUROPE MIDDLE EAST AFRICA\\n', 'xxeob xxQ00_02\\n', '\\n', 'xxQ00_01 xxbob RESEARCH AND DEVELOPMENT\\n', 'xxeob xxQ01_02\\n', '\\n', 'xxQ01_02 xxbob Neuchatel, duly 14, 1977\\n', 'xxeob xxQ01_03\\n', '\\n', 'xxQ01_01 xxbob Dr. M.A. Manzelli,\\n', 'PHILIP MORRIS INC.,\\n', 'Research Center,\\n', 'P.O. Box 3 D\\n', 'Richmond, Va. 23206\\n', 'U.S.A. .\\n', 'xxeob xxQ02_01\\n', '\\n', 'xxQ02_01 xxbob Dear Art,\\n', 'xxeob xxQ02_01\\n', '\\n', 'xxQ03_01 xxbob xxbcet Please proposed pro...  \n",
              "1  ['\\n', 'xxQ00_00 xxbob Please let krow if you have any changes for the proposed\\n', 'me\\n', 'program.\\n', 'xxeob xxQ01_03\\n', '\\n', 'xxQ01_00 xxbob Looking forward to seeing you again,\\n', 'xxeob xxQ01_02\\n', '\\n', 'xxQ01_02 xxbob Yours very truly,\\n', '_.\\n', 'xxeob xxQ01_03\\n', '\\n', 'xxQ01_02 xxbob xxbcet    \\n', 'xxecet\\n', 'xxeob xxQ02_03\\n', '\\n', 'xxQ02_02 xxbob .B. Boder\\n', 'xxeob xxQ02_03\\n', '\\n', 'xxQ02_00 xxbob cc: Messrs. B. Kuhn\\n', 'xxbcet E. Stoop\\n', 'xxecet\\n', 'xxeob xxQ02_01\\n', '\\n', 'xxQ02_00 xxbob Encl.: mentioned\\n', 'xxeob xxQ03_01\\n', '\\n', 'xxQ04_01 xxbob we\\n',...  "
            ],
            "text/html": [
              "\n",
              "  <div id=\"df-d8729d9a-795b-45af-8041-7e9c857bdf40\">\n",
              "    <div class=\"colab-df-container\">\n",
              "      <div>\n",
              "<style scoped>\n",
              "    .dataframe tbody tr th:only-of-type {\n",
              "        vertical-align: middle;\n",
              "    }\n",
              "\n",
              "    .dataframe tbody tr th {\n",
              "        vertical-align: top;\n",
              "    }\n",
              "\n",
              "    .dataframe thead th {\n",
              "        text-align: right;\n",
              "    }\n",
              "</style>\n",
              "<table border=\"1\" class=\"dataframe\">\n",
              "  <thead>\n",
              "    <tr style=\"text-align: right;\">\n",
              "      <th></th>\n",
              "      <th>binder</th>\n",
              "      <th>docid</th>\n",
              "      <th>class</th>\n",
              "      <th>text_tags</th>\n",
              "    </tr>\n",
              "  </thead>\n",
              "  <tbody>\n",
              "    <tr>\n",
              "      <th>0</th>\n",
              "      <td>Tobacco800</td>\n",
              "      <td>aah97e00-page02_1</td>\n",
              "      <td>FirstPage</td>\n",
              "      <td>['\\n', 'xxQ00_01 xxbob  \\n', 'xxeob xxQ00_02\\n', '\\n', 'xxQ00_01 xxbob PHILIP MORRIS\\n', 'xxeob xxQ00_02\\n', '\\n', 'xxQ00_01 xxbob EUROPE MIDDLE EAST AFRICA\\n', 'xxeob xxQ00_02\\n', '\\n', 'xxQ00_01 xxbob RESEARCH AND DEVELOPMENT\\n', 'xxeob xxQ01_02\\n', '\\n', 'xxQ01_02 xxbob Neuchatel, duly 14, 1977\\n', 'xxeob xxQ01_03\\n', '\\n', 'xxQ01_01 xxbob Dr. M.A. Manzelli,\\n', 'PHILIP MORRIS INC.,\\n', 'Research Center,\\n', 'P.O. Box 3 D\\n', 'Richmond, Va. 23206\\n', 'U.S.A. .\\n', 'xxeob xxQ02_01\\n', '\\n', 'xxQ02_01 xxbob Dear Art,\\n', 'xxeob xxQ02_01\\n', '\\n', 'xxQ03_01 xxbob xxbcet Please proposed pro...</td>\n",
              "    </tr>\n",
              "    <tr>\n",
              "      <th>1</th>\n",
              "      <td>Tobacco800</td>\n",
              "      <td>aah97e00-page02_2</td>\n",
              "      <td>NextPage</td>\n",
              "      <td>['\\n', 'xxQ00_00 xxbob Please let krow if you have any changes for the proposed\\n', 'me\\n', 'program.\\n', 'xxeob xxQ01_03\\n', '\\n', 'xxQ01_00 xxbob Looking forward to seeing you again,\\n', 'xxeob xxQ01_02\\n', '\\n', 'xxQ01_02 xxbob Yours very truly,\\n', '_.\\n', 'xxeob xxQ01_03\\n', '\\n', 'xxQ01_02 xxbob xxbcet    \\n', 'xxecet\\n', 'xxeob xxQ02_03\\n', '\\n', 'xxQ02_02 xxbob .B. Boder\\n', 'xxeob xxQ02_03\\n', '\\n', 'xxQ02_00 xxbob cc: Messrs. B. Kuhn\\n', 'xxbcet E. Stoop\\n', 'xxecet\\n', 'xxeob xxQ02_01\\n', '\\n', 'xxQ02_00 xxbob Encl.: mentioned\\n', 'xxeob xxQ03_01\\n', '\\n', 'xxQ04_01 xxbob we\\n',...</td>\n",
              "    </tr>\n",
              "  </tbody>\n",
              "</table>\n",
              "</div>\n",
              "      <button class=\"colab-df-convert\" onclick=\"convertToInteractive('df-d8729d9a-795b-45af-8041-7e9c857bdf40')\"\n",
              "              title=\"Convert this dataframe to an interactive table.\"\n",
              "              style=\"display:none;\">\n",
              "        \n",
              "  <svg xmlns=\"http://www.w3.org/2000/svg\" height=\"24px\"viewBox=\"0 0 24 24\"\n",
              "       width=\"24px\">\n",
              "    <path d=\"M0 0h24v24H0V0z\" fill=\"none\"/>\n",
              "    <path d=\"M18.56 5.44l.94 2.06.94-2.06 2.06-.94-2.06-.94-.94-2.06-.94 2.06-2.06.94zm-11 1L8.5 8.5l.94-2.06 2.06-.94-2.06-.94L8.5 2.5l-.94 2.06-2.06.94zm10 10l.94 2.06.94-2.06 2.06-.94-2.06-.94-.94-2.06-.94 2.06-2.06.94z\"/><path d=\"M17.41 7.96l-1.37-1.37c-.4-.4-.92-.59-1.43-.59-.52 0-1.04.2-1.43.59L10.3 9.45l-7.72 7.72c-.78.78-.78 2.05 0 2.83L4 21.41c.39.39.9.59 1.41.59.51 0 1.02-.2 1.41-.59l7.78-7.78 2.81-2.81c.8-.78.8-2.07 0-2.86zM5.41 20L4 18.59l7.72-7.72 1.47 1.35L5.41 20z\"/>\n",
              "  </svg>\n",
              "      </button>\n",
              "      \n",
              "  <style>\n",
              "    .colab-df-container {\n",
              "      display:flex;\n",
              "      flex-wrap:wrap;\n",
              "      gap: 12px;\n",
              "    }\n",
              "\n",
              "    .colab-df-convert {\n",
              "      background-color: #E8F0FE;\n",
              "      border: none;\n",
              "      border-radius: 50%;\n",
              "      cursor: pointer;\n",
              "      display: none;\n",
              "      fill: #1967D2;\n",
              "      height: 32px;\n",
              "      padding: 0 0 0 0;\n",
              "      width: 32px;\n",
              "    }\n",
              "\n",
              "    .colab-df-convert:hover {\n",
              "      background-color: #E2EBFA;\n",
              "      box-shadow: 0px 1px 2px rgba(60, 64, 67, 0.3), 0px 1px 3px 1px rgba(60, 64, 67, 0.15);\n",
              "      fill: #174EA6;\n",
              "    }\n",
              "\n",
              "    [theme=dark] .colab-df-convert {\n",
              "      background-color: #3B4455;\n",
              "      fill: #D2E3FC;\n",
              "    }\n",
              "\n",
              "    [theme=dark] .colab-df-convert:hover {\n",
              "      background-color: #434B5C;\n",
              "      box-shadow: 0px 1px 3px 1px rgba(0, 0, 0, 0.15);\n",
              "      filter: drop-shadow(0px 1px 2px rgba(0, 0, 0, 0.3));\n",
              "      fill: #FFFFFF;\n",
              "    }\n",
              "  </style>\n",
              "\n",
              "      <script>\n",
              "        const buttonEl =\n",
              "          document.querySelector('#df-d8729d9a-795b-45af-8041-7e9c857bdf40 button.colab-df-convert');\n",
              "        buttonEl.style.display =\n",
              "          google.colab.kernel.accessAllowed ? 'block' : 'none';\n",
              "\n",
              "        async function convertToInteractive(key) {\n",
              "          const element = document.querySelector('#df-d8729d9a-795b-45af-8041-7e9c857bdf40');\n",
              "          const dataTable =\n",
              "            await google.colab.kernel.invokeFunction('convertToInteractive',\n",
              "                                                     [key], {});\n",
              "          if (!dataTable) return;\n",
              "\n",
              "          const docLinkHtml = 'Like what you see? Visit the ' +\n",
              "            '<a target=\"_blank\" href=https://colab.research.google.com/notebooks/data_table.ipynb>data table notebook</a>'\n",
              "            + ' to learn more about interactive tables.';\n",
              "          element.innerHTML = '';\n",
              "          dataTable['output_type'] = 'display_data';\n",
              "          await google.colab.output.renderOutput(dataTable, element);\n",
              "          const docLink = document.createElement('div');\n",
              "          docLink.innerHTML = docLinkHtml;\n",
              "          element.appendChild(docLink);\n",
              "        }\n",
              "      </script>\n",
              "    </div>\n",
              "  </div>\n",
              "  "
            ]
          },
          "metadata": {},
          "execution_count": 8
        }
      ]
    },
    {
      "cell_type": "code",
      "source": [
        "df_train = df_train.drop(columns=['docid','binder'])\n",
        "df_train.head(2)"
      ],
      "metadata": {
        "colab": {
          "base_uri": "https://localhost:8080/",
          "height": 260
        },
        "id": "XxSZk5VuRwZP",
        "outputId": "619b3a1d-7728-4038-b1e5-5e982d05ebf3"
      },
      "execution_count": 9,
      "outputs": [
        {
          "output_type": "execute_result",
          "data": {
            "text/plain": [
              "       class  \\\n",
              "0  FirstPage   \n",
              "1   NextPage   \n",
              "\n",
              "                                                                                                                                                                                                                                                                                                                                                                                                                                                                                                                                                                                                                 text_tags  \n",
              "0  ['\\n', 'xxQ00_01 xxbob  \\n', 'xxeob xxQ00_02\\n', '\\n', 'xxQ00_01 xxbob PHILIP MORRIS\\n', 'xxeob xxQ00_02\\n', '\\n', 'xxQ00_01 xxbob EUROPE MIDDLE EAST AFRICA\\n', 'xxeob xxQ00_02\\n', '\\n', 'xxQ00_01 xxbob RESEARCH AND DEVELOPMENT\\n', 'xxeob xxQ01_02\\n', '\\n', 'xxQ01_02 xxbob Neuchatel, duly 14, 1977\\n', 'xxeob xxQ01_03\\n', '\\n', 'xxQ01_01 xxbob Dr. M.A. Manzelli,\\n', 'PHILIP MORRIS INC.,\\n', 'Research Center,\\n', 'P.O. Box 3 D\\n', 'Richmond, Va. 23206\\n', 'U.S.A. .\\n', 'xxeob xxQ02_01\\n', '\\n', 'xxQ02_01 xxbob Dear Art,\\n', 'xxeob xxQ02_01\\n', '\\n', 'xxQ03_01 xxbob xxbcet Please proposed pro...  \n",
              "1  ['\\n', 'xxQ00_00 xxbob Please let krow if you have any changes for the proposed\\n', 'me\\n', 'program.\\n', 'xxeob xxQ01_03\\n', '\\n', 'xxQ01_00 xxbob Looking forward to seeing you again,\\n', 'xxeob xxQ01_02\\n', '\\n', 'xxQ01_02 xxbob Yours very truly,\\n', '_.\\n', 'xxeob xxQ01_03\\n', '\\n', 'xxQ01_02 xxbob xxbcet    \\n', 'xxecet\\n', 'xxeob xxQ02_03\\n', '\\n', 'xxQ02_02 xxbob .B. Boder\\n', 'xxeob xxQ02_03\\n', '\\n', 'xxQ02_00 xxbob cc: Messrs. B. Kuhn\\n', 'xxbcet E. Stoop\\n', 'xxecet\\n', 'xxeob xxQ02_01\\n', '\\n', 'xxQ02_00 xxbob Encl.: mentioned\\n', 'xxeob xxQ03_01\\n', '\\n', 'xxQ04_01 xxbob we\\n',...  "
            ],
            "text/html": [
              "\n",
              "  <div id=\"df-b6988a03-43af-46ac-8367-15e7c9fa56c2\">\n",
              "    <div class=\"colab-df-container\">\n",
              "      <div>\n",
              "<style scoped>\n",
              "    .dataframe tbody tr th:only-of-type {\n",
              "        vertical-align: middle;\n",
              "    }\n",
              "\n",
              "    .dataframe tbody tr th {\n",
              "        vertical-align: top;\n",
              "    }\n",
              "\n",
              "    .dataframe thead th {\n",
              "        text-align: right;\n",
              "    }\n",
              "</style>\n",
              "<table border=\"1\" class=\"dataframe\">\n",
              "  <thead>\n",
              "    <tr style=\"text-align: right;\">\n",
              "      <th></th>\n",
              "      <th>class</th>\n",
              "      <th>text_tags</th>\n",
              "    </tr>\n",
              "  </thead>\n",
              "  <tbody>\n",
              "    <tr>\n",
              "      <th>0</th>\n",
              "      <td>FirstPage</td>\n",
              "      <td>['\\n', 'xxQ00_01 xxbob  \\n', 'xxeob xxQ00_02\\n', '\\n', 'xxQ00_01 xxbob PHILIP MORRIS\\n', 'xxeob xxQ00_02\\n', '\\n', 'xxQ00_01 xxbob EUROPE MIDDLE EAST AFRICA\\n', 'xxeob xxQ00_02\\n', '\\n', 'xxQ00_01 xxbob RESEARCH AND DEVELOPMENT\\n', 'xxeob xxQ01_02\\n', '\\n', 'xxQ01_02 xxbob Neuchatel, duly 14, 1977\\n', 'xxeob xxQ01_03\\n', '\\n', 'xxQ01_01 xxbob Dr. M.A. Manzelli,\\n', 'PHILIP MORRIS INC.,\\n', 'Research Center,\\n', 'P.O. Box 3 D\\n', 'Richmond, Va. 23206\\n', 'U.S.A. .\\n', 'xxeob xxQ02_01\\n', '\\n', 'xxQ02_01 xxbob Dear Art,\\n', 'xxeob xxQ02_01\\n', '\\n', 'xxQ03_01 xxbob xxbcet Please proposed pro...</td>\n",
              "    </tr>\n",
              "    <tr>\n",
              "      <th>1</th>\n",
              "      <td>NextPage</td>\n",
              "      <td>['\\n', 'xxQ00_00 xxbob Please let krow if you have any changes for the proposed\\n', 'me\\n', 'program.\\n', 'xxeob xxQ01_03\\n', '\\n', 'xxQ01_00 xxbob Looking forward to seeing you again,\\n', 'xxeob xxQ01_02\\n', '\\n', 'xxQ01_02 xxbob Yours very truly,\\n', '_.\\n', 'xxeob xxQ01_03\\n', '\\n', 'xxQ01_02 xxbob xxbcet    \\n', 'xxecet\\n', 'xxeob xxQ02_03\\n', '\\n', 'xxQ02_02 xxbob .B. Boder\\n', 'xxeob xxQ02_03\\n', '\\n', 'xxQ02_00 xxbob cc: Messrs. B. Kuhn\\n', 'xxbcet E. Stoop\\n', 'xxecet\\n', 'xxeob xxQ02_01\\n', '\\n', 'xxQ02_00 xxbob Encl.: mentioned\\n', 'xxeob xxQ03_01\\n', '\\n', 'xxQ04_01 xxbob we\\n',...</td>\n",
              "    </tr>\n",
              "  </tbody>\n",
              "</table>\n",
              "</div>\n",
              "      <button class=\"colab-df-convert\" onclick=\"convertToInteractive('df-b6988a03-43af-46ac-8367-15e7c9fa56c2')\"\n",
              "              title=\"Convert this dataframe to an interactive table.\"\n",
              "              style=\"display:none;\">\n",
              "        \n",
              "  <svg xmlns=\"http://www.w3.org/2000/svg\" height=\"24px\"viewBox=\"0 0 24 24\"\n",
              "       width=\"24px\">\n",
              "    <path d=\"M0 0h24v24H0V0z\" fill=\"none\"/>\n",
              "    <path d=\"M18.56 5.44l.94 2.06.94-2.06 2.06-.94-2.06-.94-.94-2.06-.94 2.06-2.06.94zm-11 1L8.5 8.5l.94-2.06 2.06-.94-2.06-.94L8.5 2.5l-.94 2.06-2.06.94zm10 10l.94 2.06.94-2.06 2.06-.94-2.06-.94-.94-2.06-.94 2.06-2.06.94z\"/><path d=\"M17.41 7.96l-1.37-1.37c-.4-.4-.92-.59-1.43-.59-.52 0-1.04.2-1.43.59L10.3 9.45l-7.72 7.72c-.78.78-.78 2.05 0 2.83L4 21.41c.39.39.9.59 1.41.59.51 0 1.02-.2 1.41-.59l7.78-7.78 2.81-2.81c.8-.78.8-2.07 0-2.86zM5.41 20L4 18.59l7.72-7.72 1.47 1.35L5.41 20z\"/>\n",
              "  </svg>\n",
              "      </button>\n",
              "      \n",
              "  <style>\n",
              "    .colab-df-container {\n",
              "      display:flex;\n",
              "      flex-wrap:wrap;\n",
              "      gap: 12px;\n",
              "    }\n",
              "\n",
              "    .colab-df-convert {\n",
              "      background-color: #E8F0FE;\n",
              "      border: none;\n",
              "      border-radius: 50%;\n",
              "      cursor: pointer;\n",
              "      display: none;\n",
              "      fill: #1967D2;\n",
              "      height: 32px;\n",
              "      padding: 0 0 0 0;\n",
              "      width: 32px;\n",
              "    }\n",
              "\n",
              "    .colab-df-convert:hover {\n",
              "      background-color: #E2EBFA;\n",
              "      box-shadow: 0px 1px 2px rgba(60, 64, 67, 0.3), 0px 1px 3px 1px rgba(60, 64, 67, 0.15);\n",
              "      fill: #174EA6;\n",
              "    }\n",
              "\n",
              "    [theme=dark] .colab-df-convert {\n",
              "      background-color: #3B4455;\n",
              "      fill: #D2E3FC;\n",
              "    }\n",
              "\n",
              "    [theme=dark] .colab-df-convert:hover {\n",
              "      background-color: #434B5C;\n",
              "      box-shadow: 0px 1px 3px 1px rgba(0, 0, 0, 0.15);\n",
              "      filter: drop-shadow(0px 1px 2px rgba(0, 0, 0, 0.3));\n",
              "      fill: #FFFFFF;\n",
              "    }\n",
              "  </style>\n",
              "\n",
              "      <script>\n",
              "        const buttonEl =\n",
              "          document.querySelector('#df-b6988a03-43af-46ac-8367-15e7c9fa56c2 button.colab-df-convert');\n",
              "        buttonEl.style.display =\n",
              "          google.colab.kernel.accessAllowed ? 'block' : 'none';\n",
              "\n",
              "        async function convertToInteractive(key) {\n",
              "          const element = document.querySelector('#df-b6988a03-43af-46ac-8367-15e7c9fa56c2');\n",
              "          const dataTable =\n",
              "            await google.colab.kernel.invokeFunction('convertToInteractive',\n",
              "                                                     [key], {});\n",
              "          if (!dataTable) return;\n",
              "\n",
              "          const docLinkHtml = 'Like what you see? Visit the ' +\n",
              "            '<a target=\"_blank\" href=https://colab.research.google.com/notebooks/data_table.ipynb>data table notebook</a>'\n",
              "            + ' to learn more about interactive tables.';\n",
              "          element.innerHTML = '';\n",
              "          dataTable['output_type'] = 'display_data';\n",
              "          await google.colab.output.renderOutput(dataTable, element);\n",
              "          const docLink = document.createElement('div');\n",
              "          docLink.innerHTML = docLinkHtml;\n",
              "          element.appendChild(docLink);\n",
              "        }\n",
              "      </script>\n",
              "    </div>\n",
              "  </div>\n",
              "  "
            ]
          },
          "metadata": {},
          "execution_count": 9
        }
      ]
    },
    {
      "cell_type": "code",
      "metadata": {
        "id": "mUIsYb_KhWYl",
        "colab": {
          "base_uri": "https://localhost:8080/",
          "height": 266
        },
        "outputId": "9f429ccd-fd55-4f41-ca51-98f6cd5abc57"
      },
      "source": [
        "df_test = pd.read_csv(path + 'test_tags.csv', delimiter=',', error_bad_lines=False)\n",
        "df_test = df_test.drop(['text'], axis=1)\n",
        "df_test.head(1)"
      ],
      "execution_count": 10,
      "outputs": [
        {
          "output_type": "stream",
          "name": "stderr",
          "text": [
            "/usr/local/lib/python3.7/dist-packages/IPython/core/interactiveshell.py:2882: FutureWarning: The error_bad_lines argument has been deprecated and will be removed in a future version.\n",
            "\n",
            "\n",
            "  exec(code_obj, self.user_global_ns, self.user_ns)\n"
          ]
        },
        {
          "output_type": "execute_result",
          "data": {
            "text/plain": [
              "       binder       docid      class  \\\n",
              "0  Tobacco800  tkj51f00_1  FirstPage   \n",
              "\n",
              "                                                                                                                                                                                                                                                                                                                                                                                                                                                                                                                                                                                                                 text_tags  \n",
              "0  ['\\n', 'xxQ00_01 xxbob      \\n', 'xxeob xxQ00_02\\n', '\\n', 'xxQ00_01 xxbob h Department\\n', 'xxeob xxQ00_02\\n', '\\n', 'xxQ00_00 xxbob MARCH 26, 1986\\n', 'FILE NOTL\\n', 'xxeob xxQ00_03\\n', '\\n', 'xxQ00_02 xxbob    \\n', 'xxeob xxQ00_03\\n', '\\n', 'xxQ00_02 xxbob Pare}\\n', 'xxeob xxQ00_02\\n', '\\n', 'xxQ00_00 xxbob COMPONERTS/415_& St\\n', 'MATLLARD REACTION “Al! FLAVOR\\n', 'xxeob xxQ00_02\\n', '\\n', 'xxQ00_02 xxbob Fisgert, af Grove AG GALLON Toe lo. 1\\n', 'xxeob xxQ00_03\\n', '\\n', 'xxQ00_00 xxbob the layer of the Mailiare\\n', 'Jdentification of flavor components in aqueous\\n', 'this communicati...  "
            ],
            "text/html": [
              "\n",
              "  <div id=\"df-80cad7e8-13a0-4c58-be1c-5249d64f967b\">\n",
              "    <div class=\"colab-df-container\">\n",
              "      <div>\n",
              "<style scoped>\n",
              "    .dataframe tbody tr th:only-of-type {\n",
              "        vertical-align: middle;\n",
              "    }\n",
              "\n",
              "    .dataframe tbody tr th {\n",
              "        vertical-align: top;\n",
              "    }\n",
              "\n",
              "    .dataframe thead th {\n",
              "        text-align: right;\n",
              "    }\n",
              "</style>\n",
              "<table border=\"1\" class=\"dataframe\">\n",
              "  <thead>\n",
              "    <tr style=\"text-align: right;\">\n",
              "      <th></th>\n",
              "      <th>binder</th>\n",
              "      <th>docid</th>\n",
              "      <th>class</th>\n",
              "      <th>text_tags</th>\n",
              "    </tr>\n",
              "  </thead>\n",
              "  <tbody>\n",
              "    <tr>\n",
              "      <th>0</th>\n",
              "      <td>Tobacco800</td>\n",
              "      <td>tkj51f00_1</td>\n",
              "      <td>FirstPage</td>\n",
              "      <td>['\\n', 'xxQ00_01 xxbob      \\n', 'xxeob xxQ00_02\\n', '\\n', 'xxQ00_01 xxbob h Department\\n', 'xxeob xxQ00_02\\n', '\\n', 'xxQ00_00 xxbob MARCH 26, 1986\\n', 'FILE NOTL\\n', 'xxeob xxQ00_03\\n', '\\n', 'xxQ00_02 xxbob    \\n', 'xxeob xxQ00_03\\n', '\\n', 'xxQ00_02 xxbob Pare}\\n', 'xxeob xxQ00_02\\n', '\\n', 'xxQ00_00 xxbob COMPONERTS/415_&amp; St\\n', 'MATLLARD REACTION “Al! FLAVOR\\n', 'xxeob xxQ00_02\\n', '\\n', 'xxQ00_02 xxbob Fisgert, af Grove AG GALLON Toe lo. 1\\n', 'xxeob xxQ00_03\\n', '\\n', 'xxQ00_00 xxbob the layer of the Mailiare\\n', 'Jdentification of flavor components in aqueous\\n', 'this communicati...</td>\n",
              "    </tr>\n",
              "  </tbody>\n",
              "</table>\n",
              "</div>\n",
              "      <button class=\"colab-df-convert\" onclick=\"convertToInteractive('df-80cad7e8-13a0-4c58-be1c-5249d64f967b')\"\n",
              "              title=\"Convert this dataframe to an interactive table.\"\n",
              "              style=\"display:none;\">\n",
              "        \n",
              "  <svg xmlns=\"http://www.w3.org/2000/svg\" height=\"24px\"viewBox=\"0 0 24 24\"\n",
              "       width=\"24px\">\n",
              "    <path d=\"M0 0h24v24H0V0z\" fill=\"none\"/>\n",
              "    <path d=\"M18.56 5.44l.94 2.06.94-2.06 2.06-.94-2.06-.94-.94-2.06-.94 2.06-2.06.94zm-11 1L8.5 8.5l.94-2.06 2.06-.94-2.06-.94L8.5 2.5l-.94 2.06-2.06.94zm10 10l.94 2.06.94-2.06 2.06-.94-2.06-.94-.94-2.06-.94 2.06-2.06.94z\"/><path d=\"M17.41 7.96l-1.37-1.37c-.4-.4-.92-.59-1.43-.59-.52 0-1.04.2-1.43.59L10.3 9.45l-7.72 7.72c-.78.78-.78 2.05 0 2.83L4 21.41c.39.39.9.59 1.41.59.51 0 1.02-.2 1.41-.59l7.78-7.78 2.81-2.81c.8-.78.8-2.07 0-2.86zM5.41 20L4 18.59l7.72-7.72 1.47 1.35L5.41 20z\"/>\n",
              "  </svg>\n",
              "      </button>\n",
              "      \n",
              "  <style>\n",
              "    .colab-df-container {\n",
              "      display:flex;\n",
              "      flex-wrap:wrap;\n",
              "      gap: 12px;\n",
              "    }\n",
              "\n",
              "    .colab-df-convert {\n",
              "      background-color: #E8F0FE;\n",
              "      border: none;\n",
              "      border-radius: 50%;\n",
              "      cursor: pointer;\n",
              "      display: none;\n",
              "      fill: #1967D2;\n",
              "      height: 32px;\n",
              "      padding: 0 0 0 0;\n",
              "      width: 32px;\n",
              "    }\n",
              "\n",
              "    .colab-df-convert:hover {\n",
              "      background-color: #E2EBFA;\n",
              "      box-shadow: 0px 1px 2px rgba(60, 64, 67, 0.3), 0px 1px 3px 1px rgba(60, 64, 67, 0.15);\n",
              "      fill: #174EA6;\n",
              "    }\n",
              "\n",
              "    [theme=dark] .colab-df-convert {\n",
              "      background-color: #3B4455;\n",
              "      fill: #D2E3FC;\n",
              "    }\n",
              "\n",
              "    [theme=dark] .colab-df-convert:hover {\n",
              "      background-color: #434B5C;\n",
              "      box-shadow: 0px 1px 3px 1px rgba(0, 0, 0, 0.15);\n",
              "      filter: drop-shadow(0px 1px 2px rgba(0, 0, 0, 0.3));\n",
              "      fill: #FFFFFF;\n",
              "    }\n",
              "  </style>\n",
              "\n",
              "      <script>\n",
              "        const buttonEl =\n",
              "          document.querySelector('#df-80cad7e8-13a0-4c58-be1c-5249d64f967b button.colab-df-convert');\n",
              "        buttonEl.style.display =\n",
              "          google.colab.kernel.accessAllowed ? 'block' : 'none';\n",
              "\n",
              "        async function convertToInteractive(key) {\n",
              "          const element = document.querySelector('#df-80cad7e8-13a0-4c58-be1c-5249d64f967b');\n",
              "          const dataTable =\n",
              "            await google.colab.kernel.invokeFunction('convertToInteractive',\n",
              "                                                     [key], {});\n",
              "          if (!dataTable) return;\n",
              "\n",
              "          const docLinkHtml = 'Like what you see? Visit the ' +\n",
              "            '<a target=\"_blank\" href=https://colab.research.google.com/notebooks/data_table.ipynb>data table notebook</a>'\n",
              "            + ' to learn more about interactive tables.';\n",
              "          element.innerHTML = '';\n",
              "          dataTable['output_type'] = 'display_data';\n",
              "          await google.colab.output.renderOutput(dataTable, element);\n",
              "          const docLink = document.createElement('div');\n",
              "          docLink.innerHTML = docLinkHtml;\n",
              "          element.appendChild(docLink);\n",
              "        }\n",
              "      </script>\n",
              "    </div>\n",
              "  </div>\n",
              "  "
            ]
          },
          "metadata": {},
          "execution_count": 10
        }
      ]
    },
    {
      "cell_type": "code",
      "metadata": {
        "id": "dahU9BCbcJBi",
        "colab": {
          "base_uri": "https://localhost:8080/",
          "height": 177
        },
        "outputId": "6d058e54-eb78-4c4c-c2a5-3674f234bdf5"
      },
      "source": [
        "df_test = df_test.drop(columns=['docid','binder'])\n",
        "#df_test = data.drop(columns= 'binder')\n",
        "#unsup = df_test.drop(columns='class')\n",
        "#unsup.head(2)\n",
        "df_test.head(1)"
      ],
      "execution_count": 11,
      "outputs": [
        {
          "output_type": "execute_result",
          "data": {
            "text/plain": [
              "       class  \\\n",
              "0  FirstPage   \n",
              "\n",
              "                                                                                                                                                                                                                                                                                                                                                                                                                                                                                                                                                                                                                 text_tags  \n",
              "0  ['\\n', 'xxQ00_01 xxbob      \\n', 'xxeob xxQ00_02\\n', '\\n', 'xxQ00_01 xxbob h Department\\n', 'xxeob xxQ00_02\\n', '\\n', 'xxQ00_00 xxbob MARCH 26, 1986\\n', 'FILE NOTL\\n', 'xxeob xxQ00_03\\n', '\\n', 'xxQ00_02 xxbob    \\n', 'xxeob xxQ00_03\\n', '\\n', 'xxQ00_02 xxbob Pare}\\n', 'xxeob xxQ00_02\\n', '\\n', 'xxQ00_00 xxbob COMPONERTS/415_& St\\n', 'MATLLARD REACTION “Al! FLAVOR\\n', 'xxeob xxQ00_02\\n', '\\n', 'xxQ00_02 xxbob Fisgert, af Grove AG GALLON Toe lo. 1\\n', 'xxeob xxQ00_03\\n', '\\n', 'xxQ00_00 xxbob the layer of the Mailiare\\n', 'Jdentification of flavor components in aqueous\\n', 'this communicati...  "
            ],
            "text/html": [
              "\n",
              "  <div id=\"df-c2ef3439-2d88-4c4b-9d1e-99810d532dff\">\n",
              "    <div class=\"colab-df-container\">\n",
              "      <div>\n",
              "<style scoped>\n",
              "    .dataframe tbody tr th:only-of-type {\n",
              "        vertical-align: middle;\n",
              "    }\n",
              "\n",
              "    .dataframe tbody tr th {\n",
              "        vertical-align: top;\n",
              "    }\n",
              "\n",
              "    .dataframe thead th {\n",
              "        text-align: right;\n",
              "    }\n",
              "</style>\n",
              "<table border=\"1\" class=\"dataframe\">\n",
              "  <thead>\n",
              "    <tr style=\"text-align: right;\">\n",
              "      <th></th>\n",
              "      <th>class</th>\n",
              "      <th>text_tags</th>\n",
              "    </tr>\n",
              "  </thead>\n",
              "  <tbody>\n",
              "    <tr>\n",
              "      <th>0</th>\n",
              "      <td>FirstPage</td>\n",
              "      <td>['\\n', 'xxQ00_01 xxbob      \\n', 'xxeob xxQ00_02\\n', '\\n', 'xxQ00_01 xxbob h Department\\n', 'xxeob xxQ00_02\\n', '\\n', 'xxQ00_00 xxbob MARCH 26, 1986\\n', 'FILE NOTL\\n', 'xxeob xxQ00_03\\n', '\\n', 'xxQ00_02 xxbob    \\n', 'xxeob xxQ00_03\\n', '\\n', 'xxQ00_02 xxbob Pare}\\n', 'xxeob xxQ00_02\\n', '\\n', 'xxQ00_00 xxbob COMPONERTS/415_&amp; St\\n', 'MATLLARD REACTION “Al! FLAVOR\\n', 'xxeob xxQ00_02\\n', '\\n', 'xxQ00_02 xxbob Fisgert, af Grove AG GALLON Toe lo. 1\\n', 'xxeob xxQ00_03\\n', '\\n', 'xxQ00_00 xxbob the layer of the Mailiare\\n', 'Jdentification of flavor components in aqueous\\n', 'this communicati...</td>\n",
              "    </tr>\n",
              "  </tbody>\n",
              "</table>\n",
              "</div>\n",
              "      <button class=\"colab-df-convert\" onclick=\"convertToInteractive('df-c2ef3439-2d88-4c4b-9d1e-99810d532dff')\"\n",
              "              title=\"Convert this dataframe to an interactive table.\"\n",
              "              style=\"display:none;\">\n",
              "        \n",
              "  <svg xmlns=\"http://www.w3.org/2000/svg\" height=\"24px\"viewBox=\"0 0 24 24\"\n",
              "       width=\"24px\">\n",
              "    <path d=\"M0 0h24v24H0V0z\" fill=\"none\"/>\n",
              "    <path d=\"M18.56 5.44l.94 2.06.94-2.06 2.06-.94-2.06-.94-.94-2.06-.94 2.06-2.06.94zm-11 1L8.5 8.5l.94-2.06 2.06-.94-2.06-.94L8.5 2.5l-.94 2.06-2.06.94zm10 10l.94 2.06.94-2.06 2.06-.94-2.06-.94-.94-2.06-.94 2.06-2.06.94z\"/><path d=\"M17.41 7.96l-1.37-1.37c-.4-.4-.92-.59-1.43-.59-.52 0-1.04.2-1.43.59L10.3 9.45l-7.72 7.72c-.78.78-.78 2.05 0 2.83L4 21.41c.39.39.9.59 1.41.59.51 0 1.02-.2 1.41-.59l7.78-7.78 2.81-2.81c.8-.78.8-2.07 0-2.86zM5.41 20L4 18.59l7.72-7.72 1.47 1.35L5.41 20z\"/>\n",
              "  </svg>\n",
              "      </button>\n",
              "      \n",
              "  <style>\n",
              "    .colab-df-container {\n",
              "      display:flex;\n",
              "      flex-wrap:wrap;\n",
              "      gap: 12px;\n",
              "    }\n",
              "\n",
              "    .colab-df-convert {\n",
              "      background-color: #E8F0FE;\n",
              "      border: none;\n",
              "      border-radius: 50%;\n",
              "      cursor: pointer;\n",
              "      display: none;\n",
              "      fill: #1967D2;\n",
              "      height: 32px;\n",
              "      padding: 0 0 0 0;\n",
              "      width: 32px;\n",
              "    }\n",
              "\n",
              "    .colab-df-convert:hover {\n",
              "      background-color: #E2EBFA;\n",
              "      box-shadow: 0px 1px 2px rgba(60, 64, 67, 0.3), 0px 1px 3px 1px rgba(60, 64, 67, 0.15);\n",
              "      fill: #174EA6;\n",
              "    }\n",
              "\n",
              "    [theme=dark] .colab-df-convert {\n",
              "      background-color: #3B4455;\n",
              "      fill: #D2E3FC;\n",
              "    }\n",
              "\n",
              "    [theme=dark] .colab-df-convert:hover {\n",
              "      background-color: #434B5C;\n",
              "      box-shadow: 0px 1px 3px 1px rgba(0, 0, 0, 0.15);\n",
              "      filter: drop-shadow(0px 1px 2px rgba(0, 0, 0, 0.3));\n",
              "      fill: #FFFFFF;\n",
              "    }\n",
              "  </style>\n",
              "\n",
              "      <script>\n",
              "        const buttonEl =\n",
              "          document.querySelector('#df-c2ef3439-2d88-4c4b-9d1e-99810d532dff button.colab-df-convert');\n",
              "        buttonEl.style.display =\n",
              "          google.colab.kernel.accessAllowed ? 'block' : 'none';\n",
              "\n",
              "        async function convertToInteractive(key) {\n",
              "          const element = document.querySelector('#df-c2ef3439-2d88-4c4b-9d1e-99810d532dff');\n",
              "          const dataTable =\n",
              "            await google.colab.kernel.invokeFunction('convertToInteractive',\n",
              "                                                     [key], {});\n",
              "          if (!dataTable) return;\n",
              "\n",
              "          const docLinkHtml = 'Like what you see? Visit the ' +\n",
              "            '<a target=\"_blank\" href=https://colab.research.google.com/notebooks/data_table.ipynb>data table notebook</a>'\n",
              "            + ' to learn more about interactive tables.';\n",
              "          element.innerHTML = '';\n",
              "          dataTable['output_type'] = 'display_data';\n",
              "          await google.colab.output.renderOutput(dataTable, element);\n",
              "          const docLink = document.createElement('div');\n",
              "          docLink.innerHTML = docLinkHtml;\n",
              "          element.appendChild(docLink);\n",
              "        }\n",
              "      </script>\n",
              "    </div>\n",
              "  </div>\n",
              "  "
            ]
          },
          "metadata": {},
          "execution_count": 11
        }
      ]
    },
    {
      "cell_type": "markdown",
      "metadata": {
        "id": "bY4v5mjtPfun"
      },
      "source": [
        "## Create DataLoader"
      ]
    },
    {
      "cell_type": "code",
      "metadata": {
        "id": "vOx33LAtQKY1"
      },
      "source": [
        "def get_features(r):\n",
        "\n",
        "  return r['text']\n",
        "\n",
        "def get_labels(r):\n",
        "\n",
        "  return r['class']"
      ],
      "execution_count": 12,
      "outputs": []
    },
    {
      "cell_type": "code",
      "metadata": {
        "colab": {
          "base_uri": "https://localhost:8080/"
        },
        "id": "stgXmmS-vkK6",
        "outputId": "8fb24e7a-6743-4a88-a75e-b9e29f455a01"
      },
      "source": [
        "df_train.keys()"
      ],
      "execution_count": 13,
      "outputs": [
        {
          "output_type": "execute_result",
          "data": {
            "text/plain": [
              "Index(['class', 'text_tags'], dtype='object')"
            ]
          },
          "metadata": {},
          "execution_count": 13
        }
      ]
    },
    {
      "cell_type": "code",
      "metadata": {
        "colab": {
          "base_uri": "https://localhost:8080/",
          "height": 182
        },
        "id": "v9uaiqMalx0x",
        "outputId": "fc2e877c-134c-45b8-a813-717ee50bb129"
      },
      "source": [
        "dblock_train = DataBlock(\n",
        "    blocks=(TextBlock.from_df(text_cols=['text_tags', 'class'], seq_len=72), CategoryBlock),\n",
        "            get_x=get_features, \n",
        "            get_y=get_labels)\n",
        "\n",
        "dloader_train = dblock_train.dataloaders(df_train, bs=128)\n",
        "dloader_train.show_batch(max_n=2)"
      ],
      "execution_count": 14,
      "outputs": [
        {
          "output_type": "display_data",
          "data": {
            "text/plain": [
              "<IPython.core.display.HTML object>"
            ],
            "text/html": [
              "\n",
              "<style>\n",
              "    /* Turns off some styling */\n",
              "    progress {\n",
              "        /* gets rid of default border in Firefox and Opera. */\n",
              "        border: none;\n",
              "        /* Needs to be in here for Safari polyfill so background images work as expected. */\n",
              "        background-size: auto;\n",
              "    }\n",
              "    .progress-bar-interrupted, .progress-bar-interrupted::-webkit-progress-bar {\n",
              "        background: #F44336;\n",
              "    }\n",
              "</style>\n"
            ]
          },
          "metadata": {}
        },
        {
          "output_type": "display_data",
          "data": {
            "text/plain": [
              "<IPython.core.display.HTML object>"
            ],
            "text/html": [
              ""
            ]
          },
          "metadata": {}
        },
        {
          "output_type": "display_data",
          "data": {
            "text/plain": [
              "<IPython.core.display.HTML object>"
            ],
            "text/html": [
              "<table border=\"1\" class=\"dataframe\">\n",
              "  <thead>\n",
              "    <tr style=\"text-align: right;\">\n",
              "      <th></th>\n",
              "      <th>text</th>\n",
              "      <th>category</th>\n",
              "    </tr>\n",
              "  </thead>\n",
              "  <tbody>\n",
              "    <tr>\n",
              "      <th>0</th>\n",
              "      <td>xxbos xxfld 1 [ ' \\n ' , ' xxq00_00 xxbob \\n ' , ' xxeob xxq00_00 \\n ' , ' \\n ' , ' xxq00_00 xxbob xxbcet - \\n ' , ' xxecet \\n ' , ' xxunk \\n ' , ' xxeob xxq00_00 \\n ' , ' \\n ' , ' xxq00_00 xxbob \\n ' , ' xxeob xxq00_00 \\n ' , ' \\n ' , ' xxq00_00 xxbob \\n ' , ' xxeob xxq00_01 \\n ' , ' \\n ' , ' xxq00_00 xxbob xxbcet xxmaj the | end xxmaj xxunk t xxmaj content xxmaj of xxmaj one xxmaj hundred \\n ' , ' xxecet \\n ' , ' xxeob xxq00_01 \\n ' , ' \\n ' , ' xxq00_00 xxbob \\n ' , ' xxeob xxq00_01 \\n ' , ' \\n ' , ' xxq00_00 xxbob xxbcet \\n ' , ' xxecet \\n ' , '</td>\n",
              "      <td>NextPage</td>\n",
              "    </tr>\n",
              "    <tr>\n",
              "      <th>1</th>\n",
              "      <td>xxbos xxfld 1 [ ' \\n ' , ' xxq00_00 xxbob xxup lo xxmaj absorbance xxmaj unit xxmaj full xxmaj seale \\n ' , ' at 550 xxmaj dm \\n ' , ' \" po xxup la xxmaj xxunk xxunk xxunk xxmaj abi xxup xxunk \\ ' xxup ant xxrep 3 a xxmaj dy \\n ' , ' xxeob xxq00_01 \\n ' , ' \\n ' , ' xxq00_00 xxbob [ ge \\n ' , ' xxbcet om xxmaj xxunk ia xxunk xxmaj xxunk ni \\n ' , ' xxecet \\n ' , ' pre xxunk xxmaj tet xxup tm ce xxup ct xxup tt xxup tt nat \\n ' , ' he s xxmaj fee et xxrep 3 t xxrep 3 t xxrep 3 t xxup tt at en \\n ' , ' ei i \\n ' , ' foes xxunk xxup ce at xxunk xxup tt xxup tt</td>\n",
              "      <td>NextPage</td>\n",
              "    </tr>\n",
              "  </tbody>\n",
              "</table>"
            ]
          },
          "metadata": {}
        }
      ]
    },
    {
      "cell_type": "markdown",
      "metadata": {
        "id": "MClnyCFIRQsS"
      },
      "source": [
        "## Classification Model"
      ]
    },
    {
      "cell_type": "code",
      "metadata": {
        "id": "RLDNSEnSXZLf"
      },
      "source": [
        "# checkpoint \n",
        "cbs=[SaveModelCallback()]"
      ],
      "execution_count": 15,
      "outputs": []
    },
    {
      "cell_type": "code",
      "source": [
        "now = datetime.today().strftime('%Y-%m-%d-%H:%M:%S')"
      ],
      "metadata": {
        "id": "T1f0E74-ErkW"
      },
      "execution_count": 16,
      "outputs": []
    },
    {
      "cell_type": "code",
      "metadata": {
        "id": "yFi9cVezirz9"
      },
      "source": [
        "learn = text_classifier_learner(dloader_train, \n",
        "                                AWD_LSTM, \n",
        "                                drop_mult=0.5, path='/content/drive/MyDrive/Colab Notebooks/Datasets/Tobacco_LSTM/layout/checkpoints', \n",
        "                                metrics=[error_rate, accuracy, Perplexity()]).to_fp16()"
      ],
      "execution_count": 17,
      "outputs": []
    },
    {
      "cell_type": "code",
      "metadata": {
        "colab": {
          "base_uri": "https://localhost:8080/",
          "height": 611
        },
        "id": "Zo2DlMlnirz-",
        "outputId": "b6e071dc-d64e-4efa-fe18-7c55a8f9a6e3"
      },
      "source": [
        "learn.fine_tune(12, 1e-2, cbs=cbs)"
      ],
      "execution_count": 18,
      "outputs": [
        {
          "output_type": "display_data",
          "data": {
            "text/plain": [
              "<IPython.core.display.HTML object>"
            ],
            "text/html": [
              "\n",
              "<style>\n",
              "    /* Turns off some styling */\n",
              "    progress {\n",
              "        /* gets rid of default border in Firefox and Opera. */\n",
              "        border: none;\n",
              "        /* Needs to be in here for Safari polyfill so background images work as expected. */\n",
              "        background-size: auto;\n",
              "    }\n",
              "    .progress-bar-interrupted, .progress-bar-interrupted::-webkit-progress-bar {\n",
              "        background: #F44336;\n",
              "    }\n",
              "</style>\n"
            ]
          },
          "metadata": {}
        },
        {
          "output_type": "display_data",
          "data": {
            "text/plain": [
              "<IPython.core.display.HTML object>"
            ],
            "text/html": [
              "<table border=\"1\" class=\"dataframe\">\n",
              "  <thead>\n",
              "    <tr style=\"text-align: left;\">\n",
              "      <th>epoch</th>\n",
              "      <th>train_loss</th>\n",
              "      <th>valid_loss</th>\n",
              "      <th>error_rate</th>\n",
              "      <th>accuracy</th>\n",
              "      <th>perplexity</th>\n",
              "      <th>time</th>\n",
              "    </tr>\n",
              "  </thead>\n",
              "  <tbody>\n",
              "    <tr>\n",
              "      <td>0</td>\n",
              "      <td>0.737139</td>\n",
              "      <td>0.646398</td>\n",
              "      <td>0.422330</td>\n",
              "      <td>0.577670</td>\n",
              "      <td>1.908653</td>\n",
              "      <td>00:04</td>\n",
              "    </tr>\n",
              "  </tbody>\n",
              "</table>"
            ]
          },
          "metadata": {}
        },
        {
          "output_type": "stream",
          "name": "stdout",
          "text": [
            "Better model found at epoch 0 with valid_loss value: 0.6463977098464966.\n"
          ]
        },
        {
          "output_type": "display_data",
          "data": {
            "text/plain": [
              "<IPython.core.display.HTML object>"
            ],
            "text/html": [
              "\n",
              "<style>\n",
              "    /* Turns off some styling */\n",
              "    progress {\n",
              "        /* gets rid of default border in Firefox and Opera. */\n",
              "        border: none;\n",
              "        /* Needs to be in here for Safari polyfill so background images work as expected. */\n",
              "        background-size: auto;\n",
              "    }\n",
              "    .progress-bar-interrupted, .progress-bar-interrupted::-webkit-progress-bar {\n",
              "        background: #F44336;\n",
              "    }\n",
              "</style>\n"
            ]
          },
          "metadata": {}
        },
        {
          "output_type": "display_data",
          "data": {
            "text/plain": [
              "<IPython.core.display.HTML object>"
            ],
            "text/html": [
              "<table border=\"1\" class=\"dataframe\">\n",
              "  <thead>\n",
              "    <tr style=\"text-align: left;\">\n",
              "      <th>epoch</th>\n",
              "      <th>train_loss</th>\n",
              "      <th>valid_loss</th>\n",
              "      <th>error_rate</th>\n",
              "      <th>accuracy</th>\n",
              "      <th>perplexity</th>\n",
              "      <th>time</th>\n",
              "    </tr>\n",
              "  </thead>\n",
              "  <tbody>\n",
              "    <tr>\n",
              "      <td>0</td>\n",
              "      <td>0.582702</td>\n",
              "      <td>0.608121</td>\n",
              "      <td>0.349515</td>\n",
              "      <td>0.650485</td>\n",
              "      <td>1.836977</td>\n",
              "      <td>00:07</td>\n",
              "    </tr>\n",
              "    <tr>\n",
              "      <td>1</td>\n",
              "      <td>0.539806</td>\n",
              "      <td>0.604445</td>\n",
              "      <td>0.339806</td>\n",
              "      <td>0.660194</td>\n",
              "      <td>1.830236</td>\n",
              "      <td>00:07</td>\n",
              "    </tr>\n",
              "    <tr>\n",
              "      <td>2</td>\n",
              "      <td>0.525320</td>\n",
              "      <td>0.485006</td>\n",
              "      <td>0.266990</td>\n",
              "      <td>0.733010</td>\n",
              "      <td>1.624185</td>\n",
              "      <td>00:07</td>\n",
              "    </tr>\n",
              "    <tr>\n",
              "      <td>3</td>\n",
              "      <td>0.502278</td>\n",
              "      <td>0.621911</td>\n",
              "      <td>0.315534</td>\n",
              "      <td>0.684466</td>\n",
              "      <td>1.862484</td>\n",
              "      <td>00:07</td>\n",
              "    </tr>\n",
              "    <tr>\n",
              "      <td>4</td>\n",
              "      <td>0.478003</td>\n",
              "      <td>0.364541</td>\n",
              "      <td>0.179612</td>\n",
              "      <td>0.820388</td>\n",
              "      <td>1.439853</td>\n",
              "      <td>00:07</td>\n",
              "    </tr>\n",
              "    <tr>\n",
              "      <td>5</td>\n",
              "      <td>0.454029</td>\n",
              "      <td>0.260886</td>\n",
              "      <td>0.072816</td>\n",
              "      <td>0.927184</td>\n",
              "      <td>1.298079</td>\n",
              "      <td>00:07</td>\n",
              "    </tr>\n",
              "    <tr>\n",
              "      <td>6</td>\n",
              "      <td>0.425630</td>\n",
              "      <td>0.274180</td>\n",
              "      <td>0.121359</td>\n",
              "      <td>0.878641</td>\n",
              "      <td>1.315452</td>\n",
              "      <td>00:07</td>\n",
              "    </tr>\n",
              "    <tr>\n",
              "      <td>7</td>\n",
              "      <td>0.403686</td>\n",
              "      <td>0.449768</td>\n",
              "      <td>0.199029</td>\n",
              "      <td>0.800971</td>\n",
              "      <td>1.567949</td>\n",
              "      <td>00:07</td>\n",
              "    </tr>\n",
              "    <tr>\n",
              "      <td>8</td>\n",
              "      <td>0.382370</td>\n",
              "      <td>0.251966</td>\n",
              "      <td>0.116505</td>\n",
              "      <td>0.883495</td>\n",
              "      <td>1.286552</td>\n",
              "      <td>00:07</td>\n",
              "    </tr>\n",
              "    <tr>\n",
              "      <td>9</td>\n",
              "      <td>0.363354</td>\n",
              "      <td>0.265995</td>\n",
              "      <td>0.111650</td>\n",
              "      <td>0.888350</td>\n",
              "      <td>1.304729</td>\n",
              "      <td>00:07</td>\n",
              "    </tr>\n",
              "    <tr>\n",
              "      <td>10</td>\n",
              "      <td>0.347352</td>\n",
              "      <td>0.265586</td>\n",
              "      <td>0.111650</td>\n",
              "      <td>0.888350</td>\n",
              "      <td>1.304195</td>\n",
              "      <td>00:07</td>\n",
              "    </tr>\n",
              "    <tr>\n",
              "      <td>11</td>\n",
              "      <td>0.330882</td>\n",
              "      <td>0.256075</td>\n",
              "      <td>0.101942</td>\n",
              "      <td>0.898058</td>\n",
              "      <td>1.291850</td>\n",
              "      <td>00:07</td>\n",
              "    </tr>\n",
              "  </tbody>\n",
              "</table>"
            ]
          },
          "metadata": {}
        },
        {
          "output_type": "stream",
          "name": "stdout",
          "text": [
            "Better model found at epoch 0 with valid_loss value: 0.6081213355064392.\n",
            "Better model found at epoch 1 with valid_loss value: 0.6044449210166931.\n",
            "Better model found at epoch 2 with valid_loss value: 0.4850059449672699.\n",
            "Better model found at epoch 4 with valid_loss value: 0.36454084515571594.\n",
            "Better model found at epoch 5 with valid_loss value: 0.2608855068683624.\n",
            "Better model found at epoch 8 with valid_loss value: 0.2519657611846924.\n"
          ]
        }
      ]
    },
    {
      "cell_type": "code",
      "metadata": {
        "colab": {
          "base_uri": "https://localhost:8080/",
          "height": 731
        },
        "id": "aMYLf9Th5KrZ",
        "outputId": "b91f00cd-aa3e-4e2b-abf8-6d7f8ea65772"
      },
      "source": [
        "learn.show_results()"
      ],
      "execution_count": 19,
      "outputs": [
        {
          "output_type": "display_data",
          "data": {
            "text/plain": [
              "<IPython.core.display.HTML object>"
            ],
            "text/html": [
              "\n",
              "<style>\n",
              "    /* Turns off some styling */\n",
              "    progress {\n",
              "        /* gets rid of default border in Firefox and Opera. */\n",
              "        border: none;\n",
              "        /* Needs to be in here for Safari polyfill so background images work as expected. */\n",
              "        background-size: auto;\n",
              "    }\n",
              "    .progress-bar-interrupted, .progress-bar-interrupted::-webkit-progress-bar {\n",
              "        background: #F44336;\n",
              "    }\n",
              "</style>\n"
            ]
          },
          "metadata": {}
        },
        {
          "output_type": "display_data",
          "data": {
            "text/plain": [
              "<IPython.core.display.HTML object>"
            ],
            "text/html": [
              ""
            ]
          },
          "metadata": {}
        },
        {
          "output_type": "display_data",
          "data": {
            "text/plain": [
              "<IPython.core.display.HTML object>"
            ],
            "text/html": [
              "<table border=\"1\" class=\"dataframe\">\n",
              "  <thead>\n",
              "    <tr style=\"text-align: right;\">\n",
              "      <th></th>\n",
              "      <th>text</th>\n",
              "      <th>category</th>\n",
              "      <th>category_</th>\n",
              "    </tr>\n",
              "  </thead>\n",
              "  <tbody>\n",
              "    <tr>\n",
              "      <th>0</th>\n",
              "      <td>xxbos xxfld 1 [ ' \\n ' , ' xxq00_00 xxbob xxbcet 2202 \\n ' , ' xxecet \\n ' , ' xxeob xxq00_00 \\n ' , ' \\n ' , ' xxq00_00 xxbob \\n ' , ' xxeob xxq00_01 \\n ' , ' \\n ' , ' xxq00_00 xxbob ¢ \\n ' , ' xxeob xxq00_00 \\n ' , ' \\n ' , ' xxq00_00 xxbob { b ) xxmaj whether each applicant has \\n ' , ' xxunk leaders of that group . \\n ' , ' 2 xxmaj to determine with respect to the \\n ' , ' » efforts of xxup po to ascertain the needs of \\n ' , ' its proposed service area : \\n ' , ' ( a ) xxmaj whether the xxunk ! xxunk \\n ' , ' leaders of agriculture and ! xxunk in \\n ' , ' xxunk ,</td>\n",
              "      <td>NextPage</td>\n",
              "      <td>FirstPage</td>\n",
              "    </tr>\n",
              "    <tr>\n",
              "      <th>1</th>\n",
              "      <td>xxbos xxfld 1 [ ' \\n ' , ' xxq00_00 xxbob “ wlrk rightfax xxmaj server 5 / 28 / 99 \\n ' , ' xxeob xxq00_01 \\n ' , ' \\n ' , ' xxq00_01 xxbob 5:12 : xxup page xxunk / 6 \\n ' , ' xxeob xxq00_02 \\n ' , ' \\n ' , ' xxq00_00 xxbob -1 : xxunk xxmaj wilson company : lorillard xxmaj tobacco xxmaj company \\n ' , ' xxeob xxq00_02 \\n ' , ' \\n ' , ' xxq00_00 xxbob xxup martin xxup xxunk \\n ' , ' xxunk 4 . xxup xxunk \\n ' , ' theodore xxup gewertz \\n ' , ' xxunk xxup w. xxup nussbaum \\n ' , ' xxunk xxup d. xxup katcher \\n ' , ' douglas 5 . xxup xxunk \\n ' , ' steven xxup m , xxup barna \\n ' , ' chaim</td>\n",
              "      <td>FirstPage</td>\n",
              "      <td>FirstPage</td>\n",
              "    </tr>\n",
              "    <tr>\n",
              "      <th>2</th>\n",
              "      <td>xxbos xxfld 1 [ ' \\n ' , ' xxq00_00 xxbob xxbcet xxup g2 - xxunk \\n ' , ' xxecet \\n ' , ' xxeob xxq00_00 \\n ' , ' \\n ' , ' xxq00_00 xxbob \\n ' , ' xxeob xxq00_00 \\n ' , ' \\n ' , ' xxq00_00 xxbob . \\n ' , ' xxeob xxq00_00 \\n ' , ' \\n ' , ' xxq01_00 xxbob xxup martin xxup xxunk \\n ' , ' xxunk xxup m. xxup wachtell \\n ' , ' xxunk xxup xxunk \\n ' , ' xxbcet xxup xxunk xxmaj ww . xxup xxunk \\n ' , ' xxecet \\n ' , ' richard xxup d , xxup xxunk \\n ' , ' xxunk 6 xxup xxunk \\n ' , ' xxunk xxup xxunk , xxup barna \\n ' , ' xxunk xxup j , xxup xxunk \\n ' , ' peter</td>\n",
              "      <td>FirstPage</td>\n",
              "      <td>FirstPage</td>\n",
              "    </tr>\n",
              "    <tr>\n",
              "      <th>3</th>\n",
              "      <td>xxbos xxfld 1 [ ' \\n ' , ' xxq00_00 xxbob ee . \\n ' , ' xxeob xxq00_00 \\n ' , ' \\n ' , ' xxq00_00 xxbob xxmaj xxunk \\n ' , ' xxbcet xxup xxunk \\n ' , ' xxecet \\n ' , ' xxbcet xxup herbert xxup m. xxup wachtell \\n ' , ' xxecet \\n ' , ' xxbcet xxup theodore xxup gewertz \\n ' , ' xxecet \\n ' , ' xxbcet xxup bernard xxup w. xxup nussbaum \\n ' , ' xxecet \\n ' , ' xxbcet xxup richard © . xxup katcher \\n ' , ' xxecet \\n ' , ' douglas 5 . xxup liebhafsky \\n ' , ' steven xxup m. xxup barna \\n ' , ' xxbcet xxup chaim xxup j. xxup fortgang \\n ' , ' xxecet \\n ' , ' xxbcet xxup peter xxup c. xxup canellos</td>\n",
              "      <td>FirstPage</td>\n",
              "      <td>FirstPage</td>\n",
              "    </tr>\n",
              "    <tr>\n",
              "      <th>4</th>\n",
              "      <td>xxbos xxfld 1 [ ' \\n ' , ' xxq00_00 xxbob xxup xxunk \\n ' , ' xxeob xxq00_00 \\n ' , ' \\n ' , ' xxq00_00 xxbob xxup wlrk rightfax xxmaj server xxunk / 00 xxunk : xxup page xxunk / 68 xxunk \\n ' , ' e @ \\n ' , ' company : \\n ' , ' _ \\n ' , ' xxeob xxq00_02 \\n ' , ' \\n ' , ' xxq00_01 xxbob xxup wachtell , xxup lipton , xxup rosen &amp; xxup katz \\n ' , ' xxeob xxq00_02 \\n ' , ' \\n ' , ' xxq00_00 xxbob xxup martin xxup lipton xxup barbara xxup xxunk xxup xxunk xxup ehrenkranz \\n ' , ' herbert xxup m , xxup wachtell xxup steven a xxup xxunk xxup xxunk xxup s2nd xxup street xxup highael xxup w , xxup xxunk \\n ' , ' xxunk</td>\n",
              "      <td>FirstPage</td>\n",
              "      <td>FirstPage</td>\n",
              "    </tr>\n",
              "    <tr>\n",
              "      <th>5</th>\n",
              "      <td>xxbos xxfld 1 [ ' \\n ' , ' xxq03_00 xxbob \\n ' , ' xxeob xxq03_00 \\n ' , ' \\n ' , ' xxq03_00 xxbob \\n ' , ' xxeob xxq04_00 \\n ' , ' \\n ' , ' xxq04_00 xxbob \\n ' , ' xxeob xxq04_00 \\n ' , ' \\n ' , ' xxq03_00 xxbob \\n ' , ' xxeob xxq03_01 \\n ' , ' \\n ' , ' xxq05_00 xxbob \\n ' , ' xxeob xxq05_01 \\n ' , ' \\n ' , ' xxq00_00 xxbob \\n ' , ' xxeob xxq01_03 \\n ' , ' \\n ' , ' xxq01_01 xxbob \\n ' , ' \\n ' , ' xxeob xxq01_03 \\n ' , ' \\n ' , ' xxq01_01 xxbob xxmaj the \\n ' , ' public | \\n ' , ' sector \\n ' , ' 22 xxup battery xxup st -</td>\n",
              "      <td>FirstPage</td>\n",
              "      <td>FirstPage</td>\n",
              "    </tr>\n",
              "    <tr>\n",
              "      <th>6</th>\n",
              "      <td>xxbos xxfld 1 [ ' \\n ' , ' xxq00_03 xxbob xxunk \\n ' , ' xxunk \\n ' , ' xxeob xxq00_03 \\n ' , ' \\n ' , ' xxq02_00 xxbob \\n ' , ' xxeob xxq03_00 \\n ' , ' \\n ' , ' xxq02_00 xxbob \\n ' , ' xxeob xxq02_00 \\n ' , ' \\n ' , ' xxq01_02 xxbob xxup xxunk xxup xxunk xxmaj xxunk xxmaj xxunk \\n ' , ' “ wd “ te “ td “ 12 , \\n ' , ' xxeob xxq02_02 \\n ' , ' \\n ' , ' xxq01_02 xxbob xxup xxunk \\n ' , ' “ x \\n ' , ' xxeob xxq02_02 \\n ' , ' \\n ' , ' xxq03_00 xxbob \\n ' , ' xxeob xxq03_00 \\n ' , ' \\n ' , ' xxq01_02 xxbob xxunk xxunk \\n ' , ' ‘ at</td>\n",
              "      <td>NextPage</td>\n",
              "      <td>NextPage</td>\n",
              "    </tr>\n",
              "    <tr>\n",
              "      <th>7</th>\n",
              "      <td>xxbos xxfld 1 [ ' \\n ' , ' xxq05_03 xxbob \\n ' , ' xxeob xxq05_03 \\n ' , ' \\n ' , ' xxq05_02 xxbob \\n ' , ' xxeob xxq05_02 \\n ' , ' \\n ' , ' xxq05_02 xxbob \\n ' , ' xxeob xxq05_02 \\n ' , ' \\n ' , ' xxq05_02 xxbob \\n ' , ' xxeob xxq05_02 \\n ' , ' \\n ' , ' xxq00_01 xxbob ti xxunk pit bit xxunk it bt xxmaj be \\n ' , ' a be po : \\n ' , ' . \\n ' , ' pee xxunk xxmaj ho he , xxunk xxup xxunk xxmaj uae \\n ' , ' : \\n ' , ' a iat et xxup ete xxup pee 4 2 = xxmaj se 8 , \\n ' , ' xxbcet ! | \\n ' , ' xxecet \\n ' ,</td>\n",
              "      <td>NextPage</td>\n",
              "      <td>NextPage</td>\n",
              "    </tr>\n",
              "    <tr>\n",
              "      <th>8</th>\n",
              "      <td>xxbos xxfld 1 [ ' \\n ' , ' xxq02_02 xxbob xxup closed xxup the \\n ' , ' year - to- xxup as xxup of xxup capital xxup american \\n ' , ' september xxup projects xxup tobacco \\n ' , ' date \\n ' , ' 30 , xxup company \\n ' , ' xxbcet xxunk xxup report \\n ' , ' xxecet \\n ' , ' xxeob xxq03_02 \\n ' , ' \\n ' , ' xxq03_00 xxbob \\n ' , ' xxeob xxq03_00 \\n ' , ' \\n ' , ' xxq02_02 xxbob xxup capital \\n ' , ' : \\n ' , ' vy \\n ' , ' expenses \\n ' , ' xxunk \\n ' , ' 0 \\n ' , ' ou \\n ' , ' : \\n ' , ' xxeob xxq04_02 \\n ' , ' \\n ' , ' xxq03_00 xxbob</td>\n",
              "      <td>NextPage</td>\n",
              "      <td>NextPage</td>\n",
              "    </tr>\n",
              "  </tbody>\n",
              "</table>"
            ]
          },
          "metadata": {}
        }
      ]
    },
    {
      "cell_type": "code",
      "metadata": {
        "colab": {
          "base_uri": "https://localhost:8080/"
        },
        "id": "lETegor95Qh7",
        "outputId": "e304d05a-62bf-4aa1-ead5-69594f8b86ff"
      },
      "source": [
        "learn.save('model_'+ now)"
      ],
      "execution_count": 20,
      "outputs": [
        {
          "output_type": "execute_result",
          "data": {
            "text/plain": [
              "Path('/content/drive/MyDrive/Colab Notebooks/Datasets/Tobacco_LSTM/layout/checkpoints/models/model_2022-03-31-02:12:52.pth')"
            ]
          },
          "metadata": {},
          "execution_count": 20
        }
      ]
    },
    {
      "cell_type": "code",
      "metadata": {
        "id": "_wLLPwel5XeP"
      },
      "source": [
        "# load model\n",
        "learn = learn.load('model_'+ now)"
      ],
      "execution_count": 21,
      "outputs": []
    },
    {
      "cell_type": "code",
      "source": [
        "#learn.fine_tune(10, 1e-2, cbs=cbs)"
      ],
      "metadata": {
        "id": "itohN-CRZwxo"
      },
      "execution_count": 22,
      "outputs": []
    },
    {
      "cell_type": "code",
      "metadata": {
        "colab": {
          "base_uri": "https://localhost:8080/",
          "height": 306
        },
        "id": "vZXPgheW5noB",
        "outputId": "3ee3ec9d-8249-4eca-838a-a3a199cc2d4b"
      },
      "source": [
        "learn.unfreeze()\n",
        "learn.lr_find()"
      ],
      "execution_count": 23,
      "outputs": [
        {
          "output_type": "display_data",
          "data": {
            "text/plain": [
              "<IPython.core.display.HTML object>"
            ],
            "text/html": [
              "\n",
              "<style>\n",
              "    /* Turns off some styling */\n",
              "    progress {\n",
              "        /* gets rid of default border in Firefox and Opera. */\n",
              "        border: none;\n",
              "        /* Needs to be in here for Safari polyfill so background images work as expected. */\n",
              "        background-size: auto;\n",
              "    }\n",
              "    .progress-bar-interrupted, .progress-bar-interrupted::-webkit-progress-bar {\n",
              "        background: #F44336;\n",
              "    }\n",
              "</style>\n"
            ]
          },
          "metadata": {}
        },
        {
          "output_type": "display_data",
          "data": {
            "text/plain": [
              "<IPython.core.display.HTML object>"
            ],
            "text/html": [
              ""
            ]
          },
          "metadata": {}
        },
        {
          "output_type": "execute_result",
          "data": {
            "text/plain": [
              "SuggestedLRs(valley=0.0010000000474974513)"
            ]
          },
          "metadata": {},
          "execution_count": 23
        },
        {
          "output_type": "display_data",
          "data": {
            "text/plain": [
              "<Figure size 432x288 with 1 Axes>"
            ],
            "image/png": "[encoded data removed]"
          },
          "metadata": {
            "needs_background": "light"
          }
        }
      ]
    },
    {
      "cell_type": "code",
      "metadata": {
        "id": "U2C_Jnpa51Av"
      },
      "source": [
        "learn_lm = text_classifier_learner(dloader_train, AWD_LSTM, drop_mult=0.5,path='/content/drive/MyDrive/Colab Notebooks/Datasets/Tobacco_LSTM/layout/checkpoints', \n",
        "                                metrics=[error_rate, accuracy, Perplexity()]).to_fp16()"
      ],
      "execution_count": 24,
      "outputs": []
    },
    {
      "cell_type": "code",
      "metadata": {
        "colab": {
          "base_uri": "https://localhost:8080/",
          "height": 583
        },
        "id": "l6sV3HY859r-",
        "outputId": "cb583f77-a478-495a-adc5-c559a681729e"
      },
      "source": [
        "learn_lm.fine_tune(10, 1e-2, cbs=cbs)"
      ],
      "execution_count": 25,
      "outputs": [
        {
          "output_type": "display_data",
          "data": {
            "text/plain": [
              "<IPython.core.display.HTML object>"
            ],
            "text/html": [
              "\n",
              "<style>\n",
              "    /* Turns off some styling */\n",
              "    progress {\n",
              "        /* gets rid of default border in Firefox and Opera. */\n",
              "        border: none;\n",
              "        /* Needs to be in here for Safari polyfill so background images work as expected. */\n",
              "        background-size: auto;\n",
              "    }\n",
              "    .progress-bar-interrupted, .progress-bar-interrupted::-webkit-progress-bar {\n",
              "        background: #F44336;\n",
              "    }\n",
              "</style>\n"
            ]
          },
          "metadata": {}
        },
        {
          "output_type": "display_data",
          "data": {
            "text/plain": [
              "<IPython.core.display.HTML object>"
            ],
            "text/html": [
              "<table border=\"1\" class=\"dataframe\">\n",
              "  <thead>\n",
              "    <tr style=\"text-align: left;\">\n",
              "      <th>epoch</th>\n",
              "      <th>train_loss</th>\n",
              "      <th>valid_loss</th>\n",
              "      <th>error_rate</th>\n",
              "      <th>accuracy</th>\n",
              "      <th>perplexity</th>\n",
              "      <th>time</th>\n",
              "    </tr>\n",
              "  </thead>\n",
              "  <tbody>\n",
              "    <tr>\n",
              "      <td>0</td>\n",
              "      <td>0.701090</td>\n",
              "      <td>0.659763</td>\n",
              "      <td>0.422330</td>\n",
              "      <td>0.577670</td>\n",
              "      <td>1.934334</td>\n",
              "      <td>00:04</td>\n",
              "    </tr>\n",
              "  </tbody>\n",
              "</table>"
            ]
          },
          "metadata": {}
        },
        {
          "output_type": "stream",
          "name": "stdout",
          "text": [
            "Better model found at epoch 0 with valid_loss value: 0.6597632169723511.\n"
          ]
        },
        {
          "output_type": "display_data",
          "data": {
            "text/plain": [
              "<IPython.core.display.HTML object>"
            ],
            "text/html": [
              "\n",
              "<style>\n",
              "    /* Turns off some styling */\n",
              "    progress {\n",
              "        /* gets rid of default border in Firefox and Opera. */\n",
              "        border: none;\n",
              "        /* Needs to be in here for Safari polyfill so background images work as expected. */\n",
              "        background-size: auto;\n",
              "    }\n",
              "    .progress-bar-interrupted, .progress-bar-interrupted::-webkit-progress-bar {\n",
              "        background: #F44336;\n",
              "    }\n",
              "</style>\n"
            ]
          },
          "metadata": {}
        },
        {
          "output_type": "display_data",
          "data": {
            "text/plain": [
              "<IPython.core.display.HTML object>"
            ],
            "text/html": [
              "<table border=\"1\" class=\"dataframe\">\n",
              "  <thead>\n",
              "    <tr style=\"text-align: left;\">\n",
              "      <th>epoch</th>\n",
              "      <th>train_loss</th>\n",
              "      <th>valid_loss</th>\n",
              "      <th>error_rate</th>\n",
              "      <th>accuracy</th>\n",
              "      <th>perplexity</th>\n",
              "      <th>time</th>\n",
              "    </tr>\n",
              "  </thead>\n",
              "  <tbody>\n",
              "    <tr>\n",
              "      <td>0</td>\n",
              "      <td>0.582892</td>\n",
              "      <td>0.598499</td>\n",
              "      <td>0.364078</td>\n",
              "      <td>0.635922</td>\n",
              "      <td>1.819386</td>\n",
              "      <td>00:07</td>\n",
              "    </tr>\n",
              "    <tr>\n",
              "      <td>1</td>\n",
              "      <td>0.534950</td>\n",
              "      <td>0.682616</td>\n",
              "      <td>0.368932</td>\n",
              "      <td>0.631068</td>\n",
              "      <td>1.979047</td>\n",
              "      <td>00:07</td>\n",
              "    </tr>\n",
              "    <tr>\n",
              "      <td>2</td>\n",
              "      <td>0.514616</td>\n",
              "      <td>0.581202</td>\n",
              "      <td>0.330097</td>\n",
              "      <td>0.669903</td>\n",
              "      <td>1.788187</td>\n",
              "      <td>00:07</td>\n",
              "    </tr>\n",
              "    <tr>\n",
              "      <td>3</td>\n",
              "      <td>0.491486</td>\n",
              "      <td>0.546340</td>\n",
              "      <td>0.296117</td>\n",
              "      <td>0.703883</td>\n",
              "      <td>1.726921</td>\n",
              "      <td>00:07</td>\n",
              "    </tr>\n",
              "    <tr>\n",
              "      <td>4</td>\n",
              "      <td>0.466342</td>\n",
              "      <td>0.526346</td>\n",
              "      <td>0.286408</td>\n",
              "      <td>0.713592</td>\n",
              "      <td>1.692736</td>\n",
              "      <td>00:07</td>\n",
              "    </tr>\n",
              "    <tr>\n",
              "      <td>5</td>\n",
              "      <td>0.440649</td>\n",
              "      <td>0.371538</td>\n",
              "      <td>0.194175</td>\n",
              "      <td>0.805825</td>\n",
              "      <td>1.449964</td>\n",
              "      <td>00:07</td>\n",
              "    </tr>\n",
              "    <tr>\n",
              "      <td>6</td>\n",
              "      <td>0.416474</td>\n",
              "      <td>0.261659</td>\n",
              "      <td>0.106796</td>\n",
              "      <td>0.893204</td>\n",
              "      <td>1.299083</td>\n",
              "      <td>00:07</td>\n",
              "    </tr>\n",
              "    <tr>\n",
              "      <td>7</td>\n",
              "      <td>0.394206</td>\n",
              "      <td>0.240116</td>\n",
              "      <td>0.077670</td>\n",
              "      <td>0.922330</td>\n",
              "      <td>1.271397</td>\n",
              "      <td>00:07</td>\n",
              "    </tr>\n",
              "    <tr>\n",
              "      <td>8</td>\n",
              "      <td>0.375279</td>\n",
              "      <td>0.240439</td>\n",
              "      <td>0.092233</td>\n",
              "      <td>0.907767</td>\n",
              "      <td>1.271807</td>\n",
              "      <td>00:07</td>\n",
              "    </tr>\n",
              "    <tr>\n",
              "      <td>9</td>\n",
              "      <td>0.360533</td>\n",
              "      <td>0.234963</td>\n",
              "      <td>0.077670</td>\n",
              "      <td>0.922330</td>\n",
              "      <td>1.264862</td>\n",
              "      <td>00:07</td>\n",
              "    </tr>\n",
              "  </tbody>\n",
              "</table>"
            ]
          },
          "metadata": {}
        },
        {
          "output_type": "stream",
          "name": "stdout",
          "text": [
            "Better model found at epoch 0 with valid_loss value: 0.598499059677124.\n",
            "Better model found at epoch 2 with valid_loss value: 0.5812023282051086.\n",
            "Better model found at epoch 3 with valid_loss value: 0.5463399291038513.\n",
            "Better model found at epoch 4 with valid_loss value: 0.52634596824646.\n",
            "Better model found at epoch 5 with valid_loss value: 0.3715384900569916.\n",
            "Better model found at epoch 6 with valid_loss value: 0.26165881752967834.\n",
            "Better model found at epoch 7 with valid_loss value: 0.24011634290218353.\n",
            "Better model found at epoch 9 with valid_loss value: 0.23496268689632416.\n"
          ]
        }
      ]
    },
    {
      "cell_type": "markdown",
      "metadata": {
        "id": "tBfu7Kcg-tsS"
      },
      "source": [
        "## Validation"
      ]
    },
    {
      "cell_type": "code",
      "metadata": {
        "id": "waKIAp-xE3c7",
        "colab": {
          "base_uri": "https://localhost:8080/",
          "height": 17
        },
        "outputId": "85cc977d-907f-4833-9806-11f9af7535f2"
      },
      "source": [
        "# create dataloader of test\n",
        "dblock_test_tags = DataBlock(\n",
        "    blocks=(TextBlock.from_df('text_tags', seq_len=72), CategoryBlock),\n",
        "            get_x=get_features, \n",
        "            get_y=get_labels)\n",
        "\n",
        "dloader_test = dblock_test_tags.dataloaders(df_test, bs=128)"
      ],
      "execution_count": 26,
      "outputs": [
        {
          "output_type": "display_data",
          "data": {
            "text/plain": [
              "<IPython.core.display.HTML object>"
            ],
            "text/html": [
              "\n",
              "<style>\n",
              "    /* Turns off some styling */\n",
              "    progress {\n",
              "        /* gets rid of default border in Firefox and Opera. */\n",
              "        border: none;\n",
              "        /* Needs to be in here for Safari polyfill so background images work as expected. */\n",
              "        background-size: auto;\n",
              "    }\n",
              "    .progress-bar-interrupted, .progress-bar-interrupted::-webkit-progress-bar {\n",
              "        background: #F44336;\n",
              "    }\n",
              "</style>\n"
            ]
          },
          "metadata": {}
        },
        {
          "output_type": "display_data",
          "data": {
            "text/plain": [
              "<IPython.core.display.HTML object>"
            ],
            "text/html": [
              ""
            ]
          },
          "metadata": {}
        }
      ]
    },
    {
      "cell_type": "code",
      "metadata": {
        "id": "BKcBxTsjOCVH",
        "colab": {
          "base_uri": "https://localhost:8080/",
          "height": 17
        },
        "outputId": "77c1f646-5603-4fb0-b3af-bea4cf21ecf9"
      },
      "source": [
        "test_dl = dloader_test.test_dl(df_test['text_tags'])\n",
        "preds = learn.get_preds(dl=test_dl, with_decoded=True)"
      ],
      "execution_count": 27,
      "outputs": [
        {
          "output_type": "display_data",
          "data": {
            "text/plain": [
              "<IPython.core.display.HTML object>"
            ],
            "text/html": [
              "\n",
              "<style>\n",
              "    /* Turns off some styling */\n",
              "    progress {\n",
              "        /* gets rid of default border in Firefox and Opera. */\n",
              "        border: none;\n",
              "        /* Needs to be in here for Safari polyfill so background images work as expected. */\n",
              "        background-size: auto;\n",
              "    }\n",
              "    .progress-bar-interrupted, .progress-bar-interrupted::-webkit-progress-bar {\n",
              "        background: #F44336;\n",
              "    }\n",
              "</style>\n"
            ]
          },
          "metadata": {}
        },
        {
          "output_type": "display_data",
          "data": {
            "text/plain": [
              "<IPython.core.display.HTML object>"
            ],
            "text/html": [
              ""
            ]
          },
          "metadata": {}
        }
      ]
    },
    {
      "cell_type": "code",
      "metadata": {
        "colab": {
          "base_uri": "https://localhost:8080/",
          "height": 17
        },
        "id": "zTsct_7BJcEZ",
        "outputId": "17ad5d6d-6a13-4cb8-ee66-901361684620"
      },
      "source": [
        "test_dl_lm = dloader_test.test_dl(df_test['text_tags'])\n",
        "preds_lm = learn_lm.get_preds(dl=test_dl_lm, with_decoded=True)"
      ],
      "execution_count": 28,
      "outputs": [
        {
          "output_type": "display_data",
          "data": {
            "text/plain": [
              "<IPython.core.display.HTML object>"
            ],
            "text/html": [
              "\n",
              "<style>\n",
              "    /* Turns off some styling */\n",
              "    progress {\n",
              "        /* gets rid of default border in Firefox and Opera. */\n",
              "        border: none;\n",
              "        /* Needs to be in here for Safari polyfill so background images work as expected. */\n",
              "        background-size: auto;\n",
              "    }\n",
              "    .progress-bar-interrupted, .progress-bar-interrupted::-webkit-progress-bar {\n",
              "        background: #F44336;\n",
              "    }\n",
              "</style>\n"
            ]
          },
          "metadata": {}
        },
        {
          "output_type": "display_data",
          "data": {
            "text/plain": [
              "<IPython.core.display.HTML object>"
            ],
            "text/html": [
              ""
            ]
          },
          "metadata": {}
        }
      ]
    },
    {
      "cell_type": "code",
      "metadata": {
        "colab": {
          "base_uri": "https://localhost:8080/"
        },
        "id": "x54712SoMZBJ",
        "outputId": "601f6375-459a-4239-c0a0-8f1d3bac64b1"
      },
      "source": [
        "len(preds)"
      ],
      "execution_count": 29,
      "outputs": [
        {
          "output_type": "execute_result",
          "data": {
            "text/plain": [
              "3"
            ]
          },
          "metadata": {},
          "execution_count": 29
        }
      ]
    },
    {
      "cell_type": "code",
      "source": [
        "interp = ClassificationInterpretation.from_learner(learn)\n",
        "interp.plot_confusion_matrix(figsize=(4,4), dpi=100)\n",
        "learn.validate()"
      ],
      "metadata": {
        "colab": {
          "base_uri": "https://localhost:8080/",
          "height": 441
        },
        "id": "-iW_rxKpM7wK",
        "outputId": "805f6425-44c1-411d-ff51-c9a91c52ffe6"
      },
      "execution_count": 30,
      "outputs": [
        {
          "output_type": "display_data",
          "data": {
            "text/plain": [
              "<IPython.core.display.HTML object>"
            ],
            "text/html": [
              "\n",
              "<style>\n",
              "    /* Turns off some styling */\n",
              "    progress {\n",
              "        /* gets rid of default border in Firefox and Opera. */\n",
              "        border: none;\n",
              "        /* Needs to be in here for Safari polyfill so background images work as expected. */\n",
              "        background-size: auto;\n",
              "    }\n",
              "    .progress-bar-interrupted, .progress-bar-interrupted::-webkit-progress-bar {\n",
              "        background: #F44336;\n",
              "    }\n",
              "</style>\n"
            ]
          },
          "metadata": {}
        },
        {
          "output_type": "display_data",
          "data": {
            "text/plain": [
              "<IPython.core.display.HTML object>"
            ],
            "text/html": [
              ""
            ]
          },
          "metadata": {}
        },
        {
          "output_type": "display_data",
          "data": {
            "text/plain": [
              "<IPython.core.display.HTML object>"
            ],
            "text/html": [
              "\n",
              "<style>\n",
              "    /* Turns off some styling */\n",
              "    progress {\n",
              "        /* gets rid of default border in Firefox and Opera. */\n",
              "        border: none;\n",
              "        /* Needs to be in here for Safari polyfill so background images work as expected. */\n",
              "        background-size: auto;\n",
              "    }\n",
              "    .progress-bar-interrupted, .progress-bar-interrupted::-webkit-progress-bar {\n",
              "        background: #F44336;\n",
              "    }\n",
              "</style>\n"
            ]
          },
          "metadata": {}
        },
        {
          "output_type": "display_data",
          "data": {
            "text/plain": [
              "<IPython.core.display.HTML object>"
            ],
            "text/html": [
              ""
            ]
          },
          "metadata": {}
        },
        {
          "output_type": "display_data",
          "data": {
            "text/plain": [
              "<IPython.core.display.HTML object>"
            ],
            "text/html": [
              "\n",
              "<style>\n",
              "    /* Turns off some styling */\n",
              "    progress {\n",
              "        /* gets rid of default border in Firefox and Opera. */\n",
              "        border: none;\n",
              "        /* Needs to be in here for Safari polyfill so background images work as expected. */\n",
              "        background-size: auto;\n",
              "    }\n",
              "    .progress-bar-interrupted, .progress-bar-interrupted::-webkit-progress-bar {\n",
              "        background: #F44336;\n",
              "    }\n",
              "</style>\n"
            ]
          },
          "metadata": {}
        },
        {
          "output_type": "display_data",
          "data": {
            "text/plain": [
              "<IPython.core.display.HTML object>"
            ],
            "text/html": [
              ""
            ]
          },
          "metadata": {}
        },
        {
          "output_type": "execute_result",
          "data": {
            "text/plain": [
              "(#4) [0.2519657611846924,0.11650483310222626,0.8834951519966125,1.2865519523620605]"
            ]
          },
          "metadata": {},
          "execution_count": 30
        },
        {
          "output_type": "display_data",
          "data": {
            "text/plain": [
              "<Figure size 400x400 with 1 Axes>"
            ],
            "image/png": "[encoded data removed]"
          },
          "metadata": {
            "needs_background": "light"
          }
        }
      ]
    },
    {
      "cell_type": "code",
      "metadata": {
        "colab": {
          "base_uri": "https://localhost:8080/",
          "height": 441
        },
        "id": "LVRnxpiq_au8",
        "outputId": "49828755-705b-4efe-dcc7-d7e92ea43f34"
      },
      "source": [
        "interp_lm = ClassificationInterpretation.from_learner(learn_lm)\n",
        "interp_lm.plot_confusion_matrix(figsize=(4,4), dpi=100)\n",
        "learn_lm.validate()"
      ],
      "execution_count": 31,
      "outputs": [
        {
          "output_type": "display_data",
          "data": {
            "text/plain": [
              "<IPython.core.display.HTML object>"
            ],
            "text/html": [
              "\n",
              "<style>\n",
              "    /* Turns off some styling */\n",
              "    progress {\n",
              "        /* gets rid of default border in Firefox and Opera. */\n",
              "        border: none;\n",
              "        /* Needs to be in here for Safari polyfill so background images work as expected. */\n",
              "        background-size: auto;\n",
              "    }\n",
              "    .progress-bar-interrupted, .progress-bar-interrupted::-webkit-progress-bar {\n",
              "        background: #F44336;\n",
              "    }\n",
              "</style>\n"
            ]
          },
          "metadata": {}
        },
        {
          "output_type": "display_data",
          "data": {
            "text/plain": [
              "<IPython.core.display.HTML object>"
            ],
            "text/html": [
              ""
            ]
          },
          "metadata": {}
        },
        {
          "output_type": "display_data",
          "data": {
            "text/plain": [
              "<IPython.core.display.HTML object>"
            ],
            "text/html": [
              "\n",
              "<style>\n",
              "    /* Turns off some styling */\n",
              "    progress {\n",
              "        /* gets rid of default border in Firefox and Opera. */\n",
              "        border: none;\n",
              "        /* Needs to be in here for Safari polyfill so background images work as expected. */\n",
              "        background-size: auto;\n",
              "    }\n",
              "    .progress-bar-interrupted, .progress-bar-interrupted::-webkit-progress-bar {\n",
              "        background: #F44336;\n",
              "    }\n",
              "</style>\n"
            ]
          },
          "metadata": {}
        },
        {
          "output_type": "display_data",
          "data": {
            "text/plain": [
              "<IPython.core.display.HTML object>"
            ],
            "text/html": [
              ""
            ]
          },
          "metadata": {}
        },
        {
          "output_type": "display_data",
          "data": {
            "text/plain": [
              "<IPython.core.display.HTML object>"
            ],
            "text/html": [
              "\n",
              "<style>\n",
              "    /* Turns off some styling */\n",
              "    progress {\n",
              "        /* gets rid of default border in Firefox and Opera. */\n",
              "        border: none;\n",
              "        /* Needs to be in here for Safari polyfill so background images work as expected. */\n",
              "        background-size: auto;\n",
              "    }\n",
              "    .progress-bar-interrupted, .progress-bar-interrupted::-webkit-progress-bar {\n",
              "        background: #F44336;\n",
              "    }\n",
              "</style>\n"
            ]
          },
          "metadata": {}
        },
        {
          "output_type": "display_data",
          "data": {
            "text/plain": [
              "<IPython.core.display.HTML object>"
            ],
            "text/html": [
              ""
            ]
          },
          "metadata": {}
        },
        {
          "output_type": "execute_result",
          "data": {
            "text/plain": [
              "(#4) [0.23496268689632416,0.0776699036359787,0.9223300814628601,1.2648615837097168]"
            ]
          },
          "metadata": {},
          "execution_count": 31
        },
        {
          "output_type": "display_data",
          "data": {
            "text/plain": [
              "<Figure size 400x400 with 1 Axes>"
            ],
            "image/png": "[encoded data removed]"
          },
          "metadata": {
            "needs_background": "light"
          }
        }
      ]
    },
    {
      "cell_type": "code",
      "metadata": {
        "colab": {
          "base_uri": "https://localhost:8080/",
          "height": 258
        },
        "id": "jSHpFTl95hV9",
        "outputId": "053e80cb-170f-42dd-d389-90af40bc6fe0"
      },
      "source": [
        "learn.unfreeze()\n",
        "learn.fit_one_cycle(5, 1e-2, cbs=cbs)"
      ],
      "execution_count": 32,
      "outputs": [
        {
          "output_type": "display_data",
          "data": {
            "text/plain": [
              "<IPython.core.display.HTML object>"
            ],
            "text/html": [
              "\n",
              "<style>\n",
              "    /* Turns off some styling */\n",
              "    progress {\n",
              "        /* gets rid of default border in Firefox and Opera. */\n",
              "        border: none;\n",
              "        /* Needs to be in here for Safari polyfill so background images work as expected. */\n",
              "        background-size: auto;\n",
              "    }\n",
              "    .progress-bar-interrupted, .progress-bar-interrupted::-webkit-progress-bar {\n",
              "        background: #F44336;\n",
              "    }\n",
              "</style>\n"
            ]
          },
          "metadata": {}
        },
        {
          "output_type": "display_data",
          "data": {
            "text/plain": [
              "<IPython.core.display.HTML object>"
            ],
            "text/html": [
              "<table border=\"1\" class=\"dataframe\">\n",
              "  <thead>\n",
              "    <tr style=\"text-align: left;\">\n",
              "      <th>epoch</th>\n",
              "      <th>train_loss</th>\n",
              "      <th>valid_loss</th>\n",
              "      <th>error_rate</th>\n",
              "      <th>accuracy</th>\n",
              "      <th>perplexity</th>\n",
              "      <th>time</th>\n",
              "    </tr>\n",
              "  </thead>\n",
              "  <tbody>\n",
              "    <tr>\n",
              "      <td>0</td>\n",
              "      <td>0.303206</td>\n",
              "      <td>4.531742</td>\n",
              "      <td>0.393204</td>\n",
              "      <td>0.606796</td>\n",
              "      <td>92.920250</td>\n",
              "      <td>00:08</td>\n",
              "    </tr>\n",
              "    <tr>\n",
              "      <td>1</td>\n",
              "      <td>0.341756</td>\n",
              "      <td>0.059844</td>\n",
              "      <td>0.029126</td>\n",
              "      <td>0.970874</td>\n",
              "      <td>1.061671</td>\n",
              "      <td>00:08</td>\n",
              "    </tr>\n",
              "    <tr>\n",
              "      <td>2</td>\n",
              "      <td>0.256923</td>\n",
              "      <td>0.016884</td>\n",
              "      <td>0.004854</td>\n",
              "      <td>0.995146</td>\n",
              "      <td>1.017027</td>\n",
              "      <td>00:08</td>\n",
              "    </tr>\n",
              "    <tr>\n",
              "      <td>3</td>\n",
              "      <td>0.229266</td>\n",
              "      <td>0.032602</td>\n",
              "      <td>0.014563</td>\n",
              "      <td>0.985437</td>\n",
              "      <td>1.033139</td>\n",
              "      <td>00:08</td>\n",
              "    </tr>\n",
              "    <tr>\n",
              "      <td>4</td>\n",
              "      <td>0.189345</td>\n",
              "      <td>0.027953</td>\n",
              "      <td>0.014563</td>\n",
              "      <td>0.985437</td>\n",
              "      <td>1.028348</td>\n",
              "      <td>00:07</td>\n",
              "    </tr>\n",
              "  </tbody>\n",
              "</table>"
            ]
          },
          "metadata": {}
        },
        {
          "output_type": "stream",
          "name": "stdout",
          "text": [
            "Better model found at epoch 0 with valid_loss value: 4.531741619110107.\n",
            "Better model found at epoch 1 with valid_loss value: 0.05984428897500038.\n",
            "Better model found at epoch 2 with valid_loss value: 0.01688387058675289.\n"
          ]
        }
      ]
    },
    {
      "cell_type": "code",
      "source": [
        "test_dl = dloader_test.test_dl(df_test['text_tags'])\n",
        "preds = learn.get_preds(dl=test_dl, with_decoded=True)"
      ],
      "metadata": {
        "colab": {
          "base_uri": "https://localhost:8080/",
          "height": 17
        },
        "id": "lazwlvi-rzst",
        "outputId": "28e249f7-b313-4e8e-9c3c-c613e107337e"
      },
      "execution_count": 33,
      "outputs": [
        {
          "output_type": "display_data",
          "data": {
            "text/plain": [
              "<IPython.core.display.HTML object>"
            ],
            "text/html": [
              "\n",
              "<style>\n",
              "    /* Turns off some styling */\n",
              "    progress {\n",
              "        /* gets rid of default border in Firefox and Opera. */\n",
              "        border: none;\n",
              "        /* Needs to be in here for Safari polyfill so background images work as expected. */\n",
              "        background-size: auto;\n",
              "    }\n",
              "    .progress-bar-interrupted, .progress-bar-interrupted::-webkit-progress-bar {\n",
              "        background: #F44336;\n",
              "    }\n",
              "</style>\n"
            ]
          },
          "metadata": {}
        },
        {
          "output_type": "display_data",
          "data": {
            "text/plain": [
              "<IPython.core.display.HTML object>"
            ],
            "text/html": [
              ""
            ]
          },
          "metadata": {}
        }
      ]
    },
    {
      "cell_type": "code",
      "source": [
        "interp = ClassificationInterpretation.from_learner(learn)\n",
        "interp.plot_confusion_matrix(figsize=(4,4), dpi=100)\n",
        "learn.validate()"
      ],
      "metadata": {
        "colab": {
          "base_uri": "https://localhost:8080/",
          "height": 441
        },
        "id": "NQ0UvkjBr0lb",
        "outputId": "82bb6672-a408-464e-8786-090384cf5d84"
      },
      "execution_count": 34,
      "outputs": [
        {
          "output_type": "display_data",
          "data": {
            "text/plain": [
              "<IPython.core.display.HTML object>"
            ],
            "text/html": [
              "\n",
              "<style>\n",
              "    /* Turns off some styling */\n",
              "    progress {\n",
              "        /* gets rid of default border in Firefox and Opera. */\n",
              "        border: none;\n",
              "        /* Needs to be in here for Safari polyfill so background images work as expected. */\n",
              "        background-size: auto;\n",
              "    }\n",
              "    .progress-bar-interrupted, .progress-bar-interrupted::-webkit-progress-bar {\n",
              "        background: #F44336;\n",
              "    }\n",
              "</style>\n"
            ]
          },
          "metadata": {}
        },
        {
          "output_type": "display_data",
          "data": {
            "text/plain": [
              "<IPython.core.display.HTML object>"
            ],
            "text/html": [
              ""
            ]
          },
          "metadata": {}
        },
        {
          "output_type": "display_data",
          "data": {
            "text/plain": [
              "<IPython.core.display.HTML object>"
            ],
            "text/html": [
              "\n",
              "<style>\n",
              "    /* Turns off some styling */\n",
              "    progress {\n",
              "        /* gets rid of default border in Firefox and Opera. */\n",
              "        border: none;\n",
              "        /* Needs to be in here for Safari polyfill so background images work as expected. */\n",
              "        background-size: auto;\n",
              "    }\n",
              "    .progress-bar-interrupted, .progress-bar-interrupted::-webkit-progress-bar {\n",
              "        background: #F44336;\n",
              "    }\n",
              "</style>\n"
            ]
          },
          "metadata": {}
        },
        {
          "output_type": "display_data",
          "data": {
            "text/plain": [
              "<IPython.core.display.HTML object>"
            ],
            "text/html": [
              ""
            ]
          },
          "metadata": {}
        },
        {
          "output_type": "display_data",
          "data": {
            "text/plain": [
              "<IPython.core.display.HTML object>"
            ],
            "text/html": [
              "\n",
              "<style>\n",
              "    /* Turns off some styling */\n",
              "    progress {\n",
              "        /* gets rid of default border in Firefox and Opera. */\n",
              "        border: none;\n",
              "        /* Needs to be in here for Safari polyfill so background images work as expected. */\n",
              "        background-size: auto;\n",
              "    }\n",
              "    .progress-bar-interrupted, .progress-bar-interrupted::-webkit-progress-bar {\n",
              "        background: #F44336;\n",
              "    }\n",
              "</style>\n"
            ]
          },
          "metadata": {}
        },
        {
          "output_type": "display_data",
          "data": {
            "text/plain": [
              "<IPython.core.display.HTML object>"
            ],
            "text/html": [
              ""
            ]
          },
          "metadata": {}
        },
        {
          "output_type": "execute_result",
          "data": {
            "text/plain": [
              "(#4) [0.01688387058675289,0.004854368977248669,0.9951456189155579,1.0170272588729858]"
            ]
          },
          "metadata": {},
          "execution_count": 34
        },
        {
          "output_type": "display_data",
          "data": {
            "text/plain": [
              "<Figure size 400x400 with 1 Axes>"
            ],
            "image/png": "[encoded data removed]"
          },
          "metadata": {
            "needs_background": "light"
          }
        }
      ]
    }
  ]
}