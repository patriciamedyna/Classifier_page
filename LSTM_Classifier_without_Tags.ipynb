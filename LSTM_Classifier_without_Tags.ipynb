{
  "nbformat": 4,
  "nbformat_minor": 5,
  "metadata": {
    "accelerator": "GPU",
    "colab": {
      "name": "LSTM-Classifier_without-Tags.ipynb",
      "provenance": [],
      "collapsed_sections": [],
      "machine_shape": "hm",
      "include_colab_link": true
    },
    "kernelspec": {
      "display_name": "Python 3",
      "name": "python3"
    },
    "language_info": {
      "name": "python"
    }
  },
  "cells": [
    {
      "cell_type": "markdown",
      "metadata": {
        "id": "view-in-github",
        "colab_type": "text"
      },
      "source": [
        "<a href=\"https://colab.research.google.com/github/patriciamedyna/Classifier_page/blob/main/LSTM_Classifier_without_Tags.ipynb\" target=\"_parent\"><img src=\"https://colab.research.google.com/assets/colab-badge.svg\" alt=\"Open In Colab\"/></a>"
      ]
    },
    {
      "cell_type": "code",
      "metadata": {
        "colab": {
          "base_uri": "https://localhost:8080/"
        },
        "id": "QLrJr-gu50uL",
        "outputId": "c354037a-ed77-43c5-fe4f-3cc1026e8760"
      },
      "source": [
        "from google.colab import drive\n",
        "drive.mount('/content/drive')"
      ],
      "id": "QLrJr-gu50uL",
      "execution_count": 1,
      "outputs": [
        {
          "output_type": "stream",
          "name": "stdout",
          "text": [
            "Drive already mounted at /content/drive; to attempt to forcibly remount, call drive.mount(\"/content/drive\", force_remount=True).\n"
          ]
        }
      ]
    },
    {
      "cell_type": "code",
      "metadata": {
        "id": "hprmT27E5xwF"
      },
      "source": [
        "import glob\n",
        "import numpy as np\n",
        "import pandas as pd\n",
        "\n",
        "import seaborn as sns\n",
        "from matplotlib import pyplot as plt\n",
        "\n",
        "from tensorflow.keras.preprocessing.text import Tokenizer\n",
        "from tensorflow.keras.preprocessing.sequence import pad_sequences \n",
        "from sklearn.model_selection import train_test_split\n",
        "from tensorflow.keras.utils import to_categorical\n",
        "from tensorflow.keras.models import Sequential\n",
        "from tensorflow.keras.layers import Dense, Dropout, Embedding, LSTM, GlobalMaxPooling1D, SpatialDropout1D\n",
        "\n",
        "from sklearn.metrics import accuracy_score\n",
        "from sklearn.metrics import f1_score\n",
        "from sklearn.metrics import confusion_matrix\n",
        "\n",
        "plt.style.use('ggplot')"
      ],
      "id": "hprmT27E5xwF",
      "execution_count": 2,
      "outputs": []
    },
    {
      "cell_type": "markdown",
      "metadata": {
        "id": "P4iXkkxI5xwG"
      },
      "source": [
        "## Passos do pré-processamento\n",
        "\n",
        " - Obter os quadrantes\n",
        " - Formatar os quadrantes e obter apenas o texto correspondente\n",
        " - Criar um dataframe com os atributos `nome do arquivo txtx`, `texto`, `numero de paginas`"
      ],
      "id": "P4iXkkxI5xwG"
    },
    {
      "cell_type": "code",
      "metadata": {
        "id": "cZhnoe5A5xwK"
      },
      "source": [
        "# obtem a classe (numero de paginas) do arquivo\n",
        "def get_target(filepath):\n",
        "    fname = filepath.split('/')[-1]\n",
        "    if '_' in fname:\n",
        "        return 1\n",
        "        \n",
        "    return 0"
      ],
      "id": "cZhnoe5A5xwK",
      "execution_count": 3,
      "outputs": []
    },
    {
      "cell_type": "code",
      "metadata": {
        "id": "Q1AKJUba5xwL"
      },
      "source": [
        "# obter todo o conteudo de texto do arquivo\n",
        "def extract_content(filepath):\n",
        "    data = []\n",
        "    with open(filepath, 'r') as fp:\n",
        "        data = fp.readlines()\n",
        "            \n",
        "    return data"
      ],
      "id": "Q1AKJUba5xwL",
      "execution_count": 4,
      "outputs": []
    },
    {
      "cell_type": "code",
      "metadata": {
        "id": "JmL2vBCRgDqX"
      },
      "source": [
        "replace_list = {r\"i'm\": 'i am',\n",
        "                r\"'re\": ' are',\n",
        "                r\"let’s\": 'let us',\n",
        "                r\"'s\":  ' is',\n",
        "                r\"'ve\": ' have',\n",
        "                r\"can't\": 'can not',\n",
        "                r\"cannot\": 'can not',\n",
        "                r\"shan’t\": 'shall not',\n",
        "                r\"n't\": ' not',\n",
        "                r\"'d\": ' would',\n",
        "                r\"'ll\": ' will',\n",
        "                r\"'scuse\": 'excuse',\n",
        "                ',': ' ,',\n",
        "                '.': ' .',\n",
        "                '!': ' !',\n",
        "                '?': ' ?',\n",
        "                '\\s+': ' '}"
      ],
      "id": "JmL2vBCRgDqX",
      "execution_count": 5,
      "outputs": []
    },
    {
      "cell_type": "code",
      "metadata": {
        "id": "lQX5BGEe5xwM"
      },
      "source": [
        "# substituir os caracteres para melhorar o contexto\n",
        "def clean_text(text):\n",
        "    for s in replace_list:\n",
        "        text = text.replace(s, replace_list[s])\n",
        "    text = ' '.join(text.split())\n",
        "\n",
        "    return text"
      ],
      "id": "lQX5BGEe5xwM",
      "execution_count": 6,
      "outputs": []
    },
    {
      "cell_type": "code",
      "metadata": {
        "id": "LDzc_UmM5xwN"
      },
      "source": [
        "def remove_element(lista, element):\n",
        "    while element in lista: lista.remove(element)    \n",
        "    return lista"
      ],
      "id": "LDzc_UmM5xwN",
      "execution_count": 7,
      "outputs": []
    },
    {
      "cell_type": "code",
      "metadata": {
        "id": "QaPUk5Ld5xwO"
      },
      "source": [
        "# obtem todos os quadrantes que um arquivo possui\n",
        "def get_blocks(content_file):\n",
        "    blocks = []\n",
        "\n",
        "    for line in content_file:\n",
        "        values = line.split(' ')\n",
        "        if 'xxbob' in values:\n",
        "            if 'xxQ' in values[0]:\n",
        "                blocks.append(values[0])\n",
        "                \n",
        "    return sorted(set(blocks))"
      ],
      "id": "QaPUk5Ld5xwO",
      "execution_count": 8,
      "outputs": []
    },
    {
      "cell_type": "code",
      "metadata": {
        "id": "-Uek-eBKc6h4"
      },
      "source": [
        "def get_content_of_blocks(data):\n",
        "    '''\n",
        "    Obtem o conteudo de cada quadrante\n",
        "    '''\n",
        "    blocos = get_blocks(data)\n",
        "    quads = {key: [] for key in blocos}\n",
        "    indice = 0\n",
        "\n",
        "    for _ in range(len(data)):\n",
        "\n",
        "        if indice == len(data):\n",
        "            break\n",
        "            \n",
        "        values = data[indice].split(' ')\n",
        "        \n",
        "        # encontrar o quadrante\n",
        "        if 'xxQ' in values[0]:\n",
        "            \n",
        "            quad, content = data[indice].split('xxbob')\n",
        "            quad = quad.replace(' ', '')\n",
        "\n",
        "            if 'xxeob' in content[1:]:\n",
        "                string = ''.join(content[1:].split('xxeob'))\n",
        "                quads[quad].append(string)\n",
        "            elif 'xxecet' in content[1:]:\n",
        "                string = ''.join(content[1:].split('xxecet'))\n",
        "                quads[quad].append(string)\n",
        "            else:\n",
        "                quads[quad].append(content[1:])\n",
        "            \n",
        "            # loop ate encontrar xxeob e atualizar o indice\n",
        "            while(1):\n",
        "                indice += 1\n",
        "                if indice >= len(data):\n",
        "                    break\n",
        "                    \n",
        "                values = data[indice].split(' ')\n",
        "\n",
        "                if 'xxeob' in values:\n",
        "                    break\n",
        "                else:\n",
        "                    if 'xxecet' in values:\n",
        "                        values = remove_element(values, 'xxecet')\n",
        "                        #string = ''.join(str(values).split('xxecet'))\n",
        "                    quads[quad].append(' '.join(values))\n",
        "                    #else:\n",
        "                    # quads[quad].append(' '.join(values))\n",
        "                \n",
        "        if indice < len(data):\n",
        "            indice += 1\n",
        "\n",
        "    return quads\n",
        "\n",
        "\n"
      ],
      "id": "-Uek-eBKc6h4",
      "execution_count": 9,
      "outputs": []
    },
    {
      "cell_type": "code",
      "metadata": {
        "id": "jycGx09p5xwQ"
      },
      "source": [
        "def pre_processing(filepath):\n",
        "\n",
        "# read the data\n",
        "    data = extract_content(filepath)\n",
        "\n",
        "    fdata = []\n",
        "    for line in data:\n",
        "        fdata.append(clean_text(line))\n",
        "\n",
        "    quads = get_content_of_blocks(fdata)\n",
        "\n",
        "    text_page = ''\n",
        "    # convert context list to string\n",
        "    for quad in quads:\n",
        "        texts = ''.join(quads[quad])\n",
        "        quads[quad] = texts\n",
        "        text_page += texts\n",
        "\n",
        "    return text_page"
      ],
      "id": "jycGx09p5xwQ",
      "execution_count": 10,
      "outputs": []
    },
    {
      "cell_type": "code",
      "metadata": {
        "id": "9xE3RAYlwi5G"
      },
      "source": [
        "pathsrc = '/content/drive/MyDrive/Colab Notebooks/Tobacco_LSTM/'"
      ],
      "id": "9xE3RAYlwi5G",
      "execution_count": 11,
      "outputs": []
    },
    {
      "cell_type": "code",
      "metadata": {
        "colab": {
          "base_uri": "https://localhost:8080/"
        },
        "id": "uqkeisgYwF6C",
        "outputId": "6263e544-c87f-4d18-e9a9-5198657569b7"
      },
      "source": [
        "files = glob.glob(pathsrc + 'txt/*.txt')\n",
        "len(files)\n",
        "  "
      ],
      "id": "uqkeisgYwF6C",
      "execution_count": 12,
      "outputs": [
        {
          "output_type": "execute_result",
          "data": {
            "text/plain": [
              "1290"
            ]
          },
          "metadata": {},
          "execution_count": 12
        }
      ]
    },
    {
      "cell_type": "code",
      "metadata": {
        "colab": {
          "base_uri": "https://localhost:8080/"
        },
        "id": "HawSViGr5xwR",
        "outputId": "86d86d1e-67b9-492a-f13f-fafafaac9e98"
      },
      "source": [
        "#criando o DataFrame\n",
        "pagetexts, targets = [], []\n",
        "for i, filepath in enumerate(files):\n",
        "    pagetexts.append(str(pre_processing(files[i])).lower())\n",
        "    t = get_target(files[i])\n",
        "    targets.append(t)\n",
        "    #print(f'{i}: class: {t} processd {files[i]}')\n",
        "\n",
        "df = pd.DataFrame({'filename': files, 'text': pagetexts, 'target': targets})\n",
        "print(df.head())"
      ],
      "id": "HawSViGr5xwR",
      "execution_count": 13,
      "outputs": [
        {
          "output_type": "stream",
          "name": "stdout",
          "text": [
            "                                            filename  ... target\n",
            "0  /content/drive/MyDrive/Colab Notebooks/Tobacco...  ...      0\n",
            "1  /content/drive/MyDrive/Colab Notebooks/Tobacco...  ...      1\n",
            "2  /content/drive/MyDrive/Colab Notebooks/Tobacco...  ...      1\n",
            "3  /content/drive/MyDrive/Colab Notebooks/Tobacco...  ...      1\n",
            "4  /content/drive/MyDrive/Colab Notebooks/Tobacco...  ...      0\n",
            "\n",
            "[5 rows x 3 columns]\n"
          ]
        }
      ]
    },
    {
      "cell_type": "markdown",
      "metadata": {
        "id": "oUkns68XUQnN"
      },
      "source": [
        "## Treino e teste\n",
        "\n",
        " - Ler o dataset criado\n",
        " - Separa o conjunto de dados em treino e teste\n",
        " - Treinar o modelo\n",
        " - Testar e validar"
      ],
      "id": "oUkns68XUQnN"
    },
    {
      "cell_type": "code",
      "metadata": {
        "colab": {
          "base_uri": "https://localhost:8080/",
          "height": 35
        },
        "id": "eA2A6xEqD4r5",
        "outputId": "0584b802-b0a3-461d-d67d-f348a5abb02c"
      },
      "source": [
        "# definir minhas features - contexto\n",
        "X_train = df['text'].apply(lambda p: clean_text(p))\n",
        "\n",
        "phrase_len = X_train.apply(lambda p: len(p.split(' ')))\n",
        "max_phrase_len = phrase_len.max()\n",
        "'max phrase len: {0}'.format(max_phrase_len)"
      ],
      "id": "eA2A6xEqD4r5",
      "execution_count": 14,
      "outputs": [
        {
          "output_type": "execute_result",
          "data": {
            "application/vnd.google.colaboratory.intrinsic+json": {
              "type": "string"
            },
            "text/plain": [
              "'max phrase len: 781'"
            ]
          },
          "metadata": {},
          "execution_count": 14
        }
      ]
    },
    {
      "cell_type": "code",
      "metadata": {
        "id": "UG3YLQXHPYXm",
        "colab": {
          "base_uri": "https://localhost:8080/",
          "height": 35
        },
        "outputId": "2adc2e2e-f1ef-4ca3-9c85-b7bd94048359"
      },
      "source": [
        "df_train = pd.read_csv(pathsrc + 'tobacco_pre_processed_filtered.csv')\n",
        "\n",
        "f\"shape: {df_train.shape}\""
      ],
      "id": "UG3YLQXHPYXm",
      "execution_count": 15,
      "outputs": [
        {
          "output_type": "execute_result",
          "data": {
            "application/vnd.google.colaboratory.intrinsic+json": {
              "type": "string"
            },
            "text/plain": [
              "'shape: (1290, 3)'"
            ]
          },
          "metadata": {},
          "execution_count": 15
        }
      ]
    },
    {
      "cell_type": "code",
      "metadata": {
        "id": "8fbWC75MRoPd"
      },
      "source": [
        "# target\n",
        "y_train = df['target']\n",
        "\n",
        "# words to numbers\n",
        "max_words = 8192\n",
        "tokenizer = Tokenizer(\n",
        "    num_words = max_words,\n",
        "    filters = '\"#$%&()*+-/:;<=>@[\\]^_`{|}~'\n",
        ")"
      ],
      "id": "8fbWC75MRoPd",
      "execution_count": 16,
      "outputs": []
    },
    {
      "cell_type": "code",
      "metadata": {
        "id": "QtjnEzegSNpd"
      },
      "source": [
        "tokenizer.fit_on_texts(X_train)\n",
        "X_train = tokenizer.texts_to_sequences(X_train)\n",
        "X_train = pad_sequences(X_train, maxlen = max_phrase_len)\n",
        "y_train = to_categorical(y_train)"
      ],
      "id": "QtjnEzegSNpd",
      "execution_count": 17,
      "outputs": []
    },
    {
      "cell_type": "code",
      "metadata": {
        "id": "AUujZWo8SyfW"
      },
      "source": [
        "X_train, X_test, y_train, y_test = train_test_split(X_train, y_train, \n",
        "                                                    test_size=0.2, \n",
        "                                                    random_state=42)"
      ],
      "id": "AUujZWo8SyfW",
      "execution_count": 18,
      "outputs": []
    },
    {
      "cell_type": "code",
      "metadata": {
        "colab": {
          "base_uri": "https://localhost:8080/"
        },
        "id": "UVQNocSIS7tD",
        "outputId": "f1956be4-9b7c-429b-ae48-912fde011780"
      },
      "source": [
        "model_lstm = Sequential()\n",
        "model_lstm.add(Embedding(input_dim = max_words, \n",
        "                         output_dim = 256, \n",
        "                         input_length = max_phrase_len))\n",
        "\n",
        "model_lstm.add(SpatialDropout1D(0.3))\n",
        "model_lstm.add(LSTM(256, dropout = 0.3, recurrent_dropout = 0.3))\n",
        "model_lstm.add(Dense(256, activation = 'relu'))\n",
        "model_lstm.add(Dropout(0.3))\n",
        "model_lstm.add(Dense(2, activation = 'softmax'))\n",
        "\n",
        "model_lstm.compile(\n",
        "    loss='binary_crossentropy',\n",
        "    optimizer='Adam',\n",
        "    metrics=['accuracy'])\n"
      ],
      "id": "UVQNocSIS7tD",
      "execution_count": 19,
      "outputs": [
        {
          "output_type": "stream",
          "name": "stdout",
          "text": [
            "WARNING:tensorflow:Layer lstm will not use cuDNN kernels since it doesn't meet the criteria. It will use a generic GPU kernel as fallback when running on GPU.\n"
          ]
        }
      ]
    },
    {
      "cell_type": "code",
      "metadata": {
        "colab": {
          "base_uri": "https://localhost:8080/"
        },
        "id": "xPrvryT1TOfV",
        "outputId": "e23f1c26-2b68-411b-d35b-5c8b9e2dcaca"
      },
      "source": [
        "# treino\n",
        "\n",
        "history = model_lstm.fit(\n",
        "    X_train,\n",
        "    y_train,\n",
        "    validation_split = 0.1,\n",
        "    epochs = 10,\n",
        "    batch_size = 128,\n",
        ")\n",
        "\n",
        "model_lstm.save(\"lstm_model_st.h5\")"
      ],
      "id": "xPrvryT1TOfV",
      "execution_count": 20,
      "outputs": [
        {
          "output_type": "stream",
          "name": "stdout",
          "text": [
            "Epoch 1/10\n",
            "8/8 [==============================] - 21s 2s/step - loss: 0.7519 - accuracy: 0.5830 - val_loss: 0.6282 - val_accuracy: 0.6154\n",
            "Epoch 2/10\n",
            "8/8 [==============================] - 18s 2s/step - loss: 0.6528 - accuracy: 0.6519 - val_loss: 0.6535 - val_accuracy: 0.6538\n",
            "Epoch 3/10\n",
            "8/8 [==============================] - 19s 2s/step - loss: 0.6282 - accuracy: 0.7737 - val_loss: 0.5915 - val_accuracy: 0.7500\n",
            "Epoch 4/10\n",
            "8/8 [==============================] - 18s 2s/step - loss: 0.4873 - accuracy: 0.8168 - val_loss: 0.4525 - val_accuracy: 0.7885\n",
            "Epoch 5/10\n",
            "8/8 [==============================] - 18s 2s/step - loss: 0.3116 - accuracy: 0.8815 - val_loss: 0.3871 - val_accuracy: 0.8269\n",
            "Epoch 6/10\n",
            "8/8 [==============================] - 18s 2s/step - loss: 0.2596 - accuracy: 0.9127 - val_loss: 0.3344 - val_accuracy: 0.8365\n",
            "Epoch 7/10\n",
            "8/8 [==============================] - 18s 2s/step - loss: 0.1817 - accuracy: 0.9429 - val_loss: 0.3874 - val_accuracy: 0.8462\n",
            "Epoch 8/10\n",
            "8/8 [==============================] - 18s 2s/step - loss: 0.1353 - accuracy: 0.9655 - val_loss: 0.3550 - val_accuracy: 0.8462\n",
            "Epoch 9/10\n",
            "8/8 [==============================] - 18s 2s/step - loss: 0.1015 - accuracy: 0.9709 - val_loss: 0.3871 - val_accuracy: 0.8654\n",
            "Epoch 10/10\n",
            "8/8 [==============================] - 18s 2s/step - loss: 0.0697 - accuracy: 0.9838 - val_loss: 0.4335 - val_accuracy: 0.8462\n"
          ]
        }
      ]
    },
    {
      "cell_type": "code",
      "metadata": {
        "id": "BSg2BRFXTfcR",
        "colab": {
          "base_uri": "https://localhost:8080/",
          "height": 299
        },
        "outputId": "527b6ab0-ddc7-475f-80c0-5334942fc2cb"
      },
      "source": [
        "# plotar a curva de acurácia no treino e validação\n",
        "\n",
        "plt.clf()\n",
        "loss = history.history['loss']\n",
        "val_loss = history.history['val_loss']\n",
        "epochs = range(1, len(loss) + 1)\n",
        "plt.plot(epochs, loss, 'g', label='Training loss')\n",
        "plt.plot(epochs, val_loss, 'y', label='Validation loss')\n",
        "plt.title('Training and validation loss')\n",
        "plt.xlabel('Epochs')\n",
        "plt.ylabel('Loss')\n",
        "plt.legend()\n",
        "plt.show()\n"
      ],
      "id": "BSg2BRFXTfcR",
      "execution_count": 21,
      "outputs": [
        {
          "output_type": "display_data",
          "data": {
            "image/png": "[encoded data removed]",
            "text/plain": [
              "<Figure size 432x288 with 1 Axes>"
            ]
          },
          "metadata": {}
        }
      ]
    },
    {
      "cell_type": "code",
      "metadata": {
        "id": "2H9IWvHpTgyo",
        "colab": {
          "base_uri": "https://localhost:8080/",
          "height": 299
        },
        "outputId": "b662f293-0456-4961-e775-b5a6d3333fd3"
      },
      "source": [
        "plt.clf()\n",
        "acc = history.history['accuracy']\n",
        "val_acc = history.history['val_accuracy']\n",
        "plt.plot(epochs, acc, 'g', label='Training acc')\n",
        "plt.plot(epochs, val_acc, 'y', label='Validation acc')\n",
        "plt.title('Training and validation accuracy')\n",
        "plt.xlabel('Epochs')\n",
        "plt.ylabel('Accuracy')\n",
        "plt.legend()\n",
        "plt.show()\n"
      ],
      "id": "2H9IWvHpTgyo",
      "execution_count": 22,
      "outputs": [
        {
          "output_type": "display_data",
          "data": {
            "image/png": "[encoded data removed]",
            "text/plain": [
              "<Figure size 432x288 with 1 Axes>"
            ]
          },
          "metadata": {}
        }
      ]
    },
    {
      "cell_type": "code",
      "metadata": {
        "id": "F7IZXsYGT6Sg",
        "colab": {
          "base_uri": "https://localhost:8080/",
          "height": 534
        },
        "outputId": "a0380ff0-661e-4f6f-9b39-2db687b2fe21"
      },
      "source": [
        "y_pred = model_lstm.predict(X_test)\n",
        "\n",
        "F1 = f1_score(np.argmax(y_test, axis=1), np.argmax(y_pred, axis=1))\n",
        "acc = accuracy_score(np.argmax(y_test, axis=1), np.argmax(y_pred, axis=1))\n",
        "cm = confusion_matrix(np.argmax(y_test, axis=1), np.argmax(y_pred, axis=1))\n",
        "\n",
        "print(\"Accuracy: {}\".format(acc))\n",
        "print(\"F1_score: {}\".format(F1))\n",
        "\n",
        "df_cm = pd.DataFrame(cm, [1,2], [1,2])\n",
        "fig, axs = plt.subplots(1,1, figsize=(12,8))\n",
        "sns.heatmap(df_cm, annot=True, ax=axs, annot_kws={\"size\": 16}, fmt=\"d\") \n",
        "axs.set_title('Confusion Matrix')\n",
        "plt.show()"
      ],
      "id": "F7IZXsYGT6Sg",
      "execution_count": 23,
      "outputs": [
        {
          "output_type": "stream",
          "name": "stdout",
          "text": [
            "Accuracy: 0.7906976744186046\n",
            "F1_score: 0.8269230769230769\n"
          ]
        },
        {
          "output_type": "display_data",
          "data": {
            "image/png": "[encoded data removed]",
            "text/plain": [
              "<Figure size 864x576 with 2 Axes>"
            ]
          },
          "metadata": {}
        }
      ]
    }
  ]
}