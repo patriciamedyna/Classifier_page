{
  "nbformat": 4,
  "nbformat_minor": 0,
  "metadata": {
    "colab": {
      "name": "LSTM-Classifier-with-Tags.ipynb",
      "provenance": [],
      "collapsed_sections": [],
      "include_colab_link": true
    },
    "kernelspec": {
      "name": "python3",
      "display_name": "Python 3"
    },
    "language_info": {
      "name": "python"
    },
    "accelerator": "GPU"
  },
  "cells": [
    {
      "cell_type": "markdown",
      "metadata": {
        "id": "view-in-github",
        "colab_type": "text"
      },
      "source": [
        "<a href=\"https://colab.research.google.com/github/patriciamedyna/Classifier_page/blob/main/LSTM_Classifier_with_Tags.ipynb\" target=\"_parent\"><img src=\"https://colab.research.google.com/assets/colab-badge.svg\" alt=\"Open In Colab\"/></a>"
      ]
    },
    {
      "cell_type": "code",
      "metadata": {
        "colab": {
          "base_uri": "https://localhost:8080/",
          "height": 0
        },
        "id": "z17TB_2FhkoC",
        "outputId": "c208eeea-af12-498d-e116-7bcf0f80ffe7"
      },
      "source": [
        "from google.colab import drive\n",
        "drive.mount('/content/drive')"
      ],
      "execution_count": 1,
      "outputs": [
        {
          "output_type": "stream",
          "name": "stdout",
          "text": [
            "Mounted at /content/drive\n"
          ]
        }
      ]
    },
    {
      "cell_type": "code",
      "metadata": {
        "id": "dbn2fGFjjEwd"
      },
      "source": [
        "import glob\n",
        "import numpy as np\n",
        "import pandas as pd\n",
        "\n",
        "import seaborn as sns\n",
        "from matplotlib import pyplot as plt\n",
        "\n",
        "from tensorflow.keras.preprocessing.text import Tokenizer\n",
        "from tensorflow.keras.preprocessing.sequence import pad_sequences\n",
        "from sklearn.model_selection import train_test_split\n",
        "from tensorflow.keras.utils import to_categorical\n",
        "from tensorflow.keras.models import Sequential\n",
        "from tensorflow.keras.layers import Dense, Dropout, Embedding, LSTM, GlobalMaxPooling1D, SpatialDropout1D\n",
        "\n",
        "from sklearn.metrics import accuracy_score\n",
        "from sklearn.metrics import f1_score\n",
        "from sklearn.metrics import confusion_matrix\n",
        "\n",
        "plt.style.use('ggplot')"
      ],
      "execution_count": 2,
      "outputs": []
    },
    {
      "cell_type": "code",
      "metadata": {
        "id": "8fWtAcoIh51n"
      },
      "source": [
        "# obtem a classe (numero de paginas) do arquivo\n",
        "def get_target(filepath):\n",
        "    fname = filepath.split('/')[-1]\n",
        "    if '_' in fname:\n",
        "        return 1\n",
        "        \n",
        "    return 0"
      ],
      "execution_count": 3,
      "outputs": []
    },
    {
      "cell_type": "code",
      "metadata": {
        "id": "W5ZXtTOUh4kB"
      },
      "source": [
        "# obter todo o conteudo de texto do arquivo\n",
        "def extract_content(filepath):\n",
        "    data = []\n",
        "    with open(filepath, 'r') as fp:\n",
        "        data = fp.readlines()\n",
        "    \n",
        "    return data"
      ],
      "execution_count": 4,
      "outputs": []
    },
    {
      "cell_type": "code",
      "metadata": {
        "id": "pqk8jG9hiMp7"
      },
      "source": [
        "def clean_text(text):\n",
        "    text = str(text).lower()\n",
        "    for s in replace_list:\n",
        "        text = text.replace(s, replace_list[s])\n",
        "    text = ' '.join(text.split())\n",
        "    \n",
        "    return text"
      ],
      "execution_count": 5,
      "outputs": []
    },
    {
      "cell_type": "code",
      "metadata": {
        "colab": {
          "base_uri": "https://localhost:8080/",
          "height": 0
        },
        "id": "50q_X8qkiSmw",
        "outputId": "31f4f967-17a9-4bc7-d1c0-fe0f000ee7d0"
      },
      "source": [
        "pathsrc = '/content/drive/MyDrive/Colab Notebooks/Tobacco_LSTM/'\n",
        "files = glob.glob(pathsrc + 'txt/*.txt')\n",
        "len(files)"
      ],
      "execution_count": 10,
      "outputs": [
        {
          "output_type": "execute_result",
          "data": {
            "text/plain": [
              "1290"
            ]
          },
          "metadata": {},
          "execution_count": 10
        }
      ]
    },
    {
      "cell_type": "code",
      "metadata": {
        "id": "QvHEFfbwjhOC"
      },
      "source": [
        "texts = []\n",
        "target = []\n",
        "for i, fp in enumerate(files):\n",
        "  target.append(get_target(fp))\n",
        "  texts.append(extract_content(fp))\n",
        "  #print(f'{i} process.')"
      ],
      "execution_count": 12,
      "outputs": []
    },
    {
      "cell_type": "code",
      "metadata": {
        "colab": {
          "base_uri": "https://localhost:8080/",
          "height": 204
        },
        "id": "aI29XAznj1hz",
        "outputId": "da9e249e-b0a4-41ed-d0ef-2903ad1c3ef5"
      },
      "source": [
        "df = pd.DataFrame({'texts': texts, 'pages': target})\n",
        "df.head()"
      ],
      "execution_count": 13,
      "outputs": [
        {
          "output_type": "execute_result",
          "data": {
            "text/html": [
              "<div>\n",
              "<style scoped>\n",
              "    .dataframe tbody tr th:only-of-type {\n",
              "        vertical-align: middle;\n",
              "    }\n",
              "\n",
              "    .dataframe tbody tr th {\n",
              "        vertical-align: top;\n",
              "    }\n",
              "\n",
              "    .dataframe thead th {\n",
              "        text-align: right;\n",
              "    }\n",
              "</style>\n",
              "<table border=\"1\" class=\"dataframe\">\n",
              "  <thead>\n",
              "    <tr style=\"text-align: right;\">\n",
              "      <th></th>\n",
              "      <th>texts</th>\n",
              "      <th>pages</th>\n",
              "    </tr>\n",
              "  </thead>\n",
              "  <tbody>\n",
              "    <tr>\n",
              "      <th>0</th>\n",
              "      <td>[xxQ00_00 xxbob JUL 14 14:48 FR CALIFORNIA SPE...</td>\n",
              "      <td>0</td>\n",
              "    </tr>\n",
              "    <tr>\n",
              "      <th>1</th>\n",
              "      <td>[xxQ00_02 xxbob ®\\n, xxeob xxQ00_01\\n, xxQ00_0...</td>\n",
              "      <td>1</td>\n",
              "    </tr>\n",
              "    <tr>\n",
              "      <th>2</th>\n",
              "      <td>[xxQ04_02 xxbob BAILOWOLITY\\n, xxbcet |\\n, xxe...</td>\n",
              "      <td>1</td>\n",
              "    </tr>\n",
              "    <tr>\n",
              "      <th>3</th>\n",
              "      <td>[xxQ00_00 xxbob THE\\n, AMERICAN\\n, TOBACCO\\n, ...</td>\n",
              "      <td>1</td>\n",
              "    </tr>\n",
              "    <tr>\n",
              "      <th>4</th>\n",
              "      <td>[xxQ00_01 xxbob xxbcet Tse For Inc.\\n, xxecet ...</td>\n",
              "      <td>0</td>\n",
              "    </tr>\n",
              "  </tbody>\n",
              "</table>\n",
              "</div>"
            ],
            "text/plain": [
              "                                               texts  pages\n",
              "0  [xxQ00_00 xxbob JUL 14 14:48 FR CALIFORNIA SPE...      0\n",
              "1  [xxQ00_02 xxbob ®\\n, xxeob xxQ00_01\\n, xxQ00_0...      1\n",
              "2  [xxQ04_02 xxbob BAILOWOLITY\\n, xxbcet |\\n, xxe...      1\n",
              "3  [xxQ00_00 xxbob THE\\n, AMERICAN\\n, TOBACCO\\n, ...      1\n",
              "4  [xxQ00_01 xxbob xxbcet Tse For Inc.\\n, xxecet ...      0"
            ]
          },
          "metadata": {},
          "execution_count": 13
        }
      ]
    },
    {
      "cell_type": "code",
      "metadata": {
        "colab": {
          "base_uri": "https://localhost:8080/",
          "height": 867
        },
        "id": "5PPhxXfZ7xmR",
        "outputId": "ce666746-12c2-48c7-806b-5e46d1a070d3"
      },
      "source": [
        "pd.set_option('display.max_colwidth', None)\n",
        "df.head()"
      ],
      "execution_count": 15,
      "outputs": [
        {
          "output_type": "execute_result",
          "data": {
            "text/html": [
              "<div>\n",
              "<style scoped>\n",
              "    .dataframe tbody tr th:only-of-type {\n",
              "        vertical-align: middle;\n",
              "    }\n",
              "\n",
              "    .dataframe tbody tr th {\n",
              "        vertical-align: top;\n",
              "    }\n",
              "\n",
              "    .dataframe thead th {\n",
              "        text-align: right;\n",
              "    }\n",
              "</style>\n",
              "<table border=\"1\" class=\"dataframe\">\n",
              "  <thead>\n",
              "    <tr style=\"text-align: right;\">\n",
              "      <th></th>\n",
              "      <th>texts</th>\n",
              "      <th>pages</th>\n",
              "    </tr>\n",
              "  </thead>\n",
              "  <tbody>\n",
              "    <tr>\n",
              "      <th>0</th>\n",
              "      <td>[xxQ00_00 xxbob JUL 14 14:48 FR CALIFORNIA SPEEDURY 429 5998 TO 919176631462\\n, xxeob xxQ01_00\\n, xxQ01_00 xxbob july 7, 2900\\n, xxeob xxQ01_00\\n, xxQ01_00 xxbob Philip Morris, USA\\n, -120 Park Avenue\\n, xxeob xxQ02_01\\n, xxQ01_00 xxbob New York, NY 10017-5592\\n, Dear ina,\\n, xxeob xxQ03_03\\n, xxQ02_00 xxbob xxbcet Thank far your time today with our several conversations over the telephone.\\n, xxecet you regarding Marlboro Racing Experience and\\n, writing the agreement we that we agreement that for the of the\\n, SportService. tis my understanding are all in -\\n, Racing Experience which is September 21* through October 6\", Mariboro will.continue\\n, all food and beverage directly from Califomia Sportservice. Beginning with the\\n, to purchase November 6* and continue on various days\\n, Marlboro Racing Experience scheduled to start on service\\n, through December 15\", Marlboro will be able to conduct their own food and beverage\\n, the involvement of California SportService. in consideration of this privilege Mariboro\\n, without of $2,500 day for each event food\\n, to pay California SportService a self-catering fee per\\n, agrees down days will not require any self-catering fee. Marlboro will be\\n, service day. Set up and tear fees.\\n, invoiced by California SportService on a monthly basis for all event day self-catering\\n, This agreement will remain in effect for the balance of 2000 and ail scheduled Mariboro\\n, Racing Experience event food service days in 2001. The self-catering fee will be reviewed and\\n, modified by mutual agreement for 2002 and beyond, A formal will be\\n, potentially future this is intended only to our verbal\\n, provided by our legal department in the near as\\n, xxbcet agreement. reflects understanding please indicate by signing below\\n, xxecet If this document accurately your spirit of\\n, xxbcet and retuming a copy to my attention or sending a confirming letter. | appreciate your\\n, xxecet cooperation and hope this provides a positive solution for all involved.\\n, xxeob xxQ04_00\\n, xxQ04_00 xxbob Sincerely,\\n, xxeob xxQ05_02\\n, xxQ04_00 xxbob Ina Broem\\n, xxbcet Greg Penske | : Mortis, USA\\n, xxecet ce:\\n, Brian Geye\\n, xxeob xxQ05_01\\n, xxQ05_00 xxbob xxbcet Otis Creer\\n, xxecet xxeob xxQ05_03\\n, xxQ05_00 xxbob SPEEDWAY CHERRY FONTANA, UGA (900) / FAX (900)\\n, TOTAL\\n, xxeob xxQ05_03\\n, xxQ04_03 xxbob 0602970802\\n, xxeob xxQ05_03\\n]</td>\n",
              "      <td>0</td>\n",
              "    </tr>\n",
              "    <tr>\n",
              "      <th>1</th>\n",
              "      <td>[xxQ00_02 xxbob ®\\n, xxeob xxQ00_01\\n, xxQ00_01 xxbob Phase\\n, xxeob xxQ00_03\\n, xxQ00_00 xxbob Now smoke two packs of the cigarette coded and circle\\n, Just did . a Number for each pair of phrases\\n, as you before.\\n, xxeob xxQ00_00\\n, xxQ00_00 xxbob CIGARETTES CODED\\n, xxeob xxQ02_03\\n, xxQ00_00 xxbob xxbcet Too much menthol taste. | 3 | 2 |3 7] enough menthol taste,\\n, xxecet Burns too fast, 2-13 14 15 16 Does not burn too fast,\\n, 4\\n, xxbcet Is dry tasting. | 2 [4 {5 [6 [7 } Is not dry tasting,\\n, xxecet xxbcet Does not have a good taste. | 1 15 6 | | Has a good taste,\\n, xxecet xxbcet Is harsh tasting. 13 | 1s not harsh tasting,\\n, xxecet Has a bitter taste. [4 7 Does not have bitter\\n, a taste.\\n, xxeob xxQ01_03\\n, xxQ01_02 xxbob Has draw,\\n, xxeob xxQ02_03\\n, xxQ02_00 xxbob Is not satisfying. 4 6 Is satisfying.\\n, Leaves a bad aftertaste Leaves good aftertaste\\n, in 2 a\\n, xxbcet my mouth. | 1 | 2 in my mouth,\\n, xxecet xxbcet Too mich cooling. | 2 4 Too little cooling.\\n, xxecet xxeob xxQ02_03\\n, xxQ02_00 xxbob I dislike extremely. 1/2 [4 1 like extremely,\\n, xxeob xxQ03_01\\n, xxQ02_01 xxbob Phase LII\\n, xxeob xxQ03_03\\n, xxQ03_00 xxbob “ow that you have completed Phases 1 and smoke of the remaining\\n, codes and the following: some cigarettes of both\\n, answer\\n, xxeob xxQ03_03\\n, xxQ03_00 xxbob “Which has the better menthol taste? J 0 Preference\\n, Which cigarette is more satisfying? J Preference\\n, xxbcet Which cigarette is the milder smoke? [| J Preference\\n, xxecet xxeob xxQ04_03\\n, xxQ03_00 xxbob Which cigarette has better amount of J Preference\\n, Which cigarette do you prefer? C] J Preference\\n, xxeob xxQ04_03\\n, xxQ04_00 xxbob M1 things considered, if you were to make out a report card the two coded\\n, for on and\\n, one the brand you regularly smoke using a prading system where \"A\" is’ excellent, \"C\" is\\n, average, and \"F\" is totally unsatisfactory, how would you grade:\\n, xxeob xxQ04_03\\n, xxQ04_00 xxbob a letter to grade each of the coded cigarettes and your own.)\\n, xxbcet The coded \"J\" A B oD F\\n, xxecet xxeob xxQ05_02\\n, xxQ04_00 xxbob xxbcet The cigarette coded A B c D E F\\n, xxecet xxeob xxQ05_02\\n, xxQ05_00 xxbob xxbcet Your regular brand A B c D E F\\n, xxecet xxeob xxQ05_02\\n]</td>\n",
              "      <td>1</td>\n",
              "    </tr>\n",
              "    <tr>\n",
              "      <th>2</th>\n",
              "      <td>[xxQ04_02 xxbob BAILOWOLITY\\n, xxbcet |\\n, xxecet xxbcet |\\n, xxecet xxeob xxQ02_02\\n, xxQ02_02 xxbob xxbcet |\\n, xxecet xxeob xxQ04_02\\n, xxQ01_02 xxbob xxbcet |\\n, xxecet xxbcet |\\n, xxecet xxbcet |\\n, xxecet xxbcet |\\n, xxecet xxbcet |\\n, xxecet xxeob xxQ04_01\\n, xxQ04_01 xxbob xxbcet |\\n, xxecet xxeob xxQ04_01\\n, xxQ04_01 xxbob xxbcet |\\n, xxecet xxeob xxQ03_01\\n, xxQ03_01 xxbob xxbcet |\\n, xxecet xxeob xxQ04_01\\n, xxQ03_01 xxbob ——!\\n, —\\n, xxeob xxQ01_01\\n, xxQ01_01 xxbob MAN\\n, xxeob xxQ01_01\\n]</td>\n",
              "      <td>1</td>\n",
              "    </tr>\n",
              "    <tr>\n",
              "      <th>3</th>\n",
              "      <td>[xxQ00_00 xxbob THE\\n, AMERICAN\\n, TOBACCO\\n, COMPANY\\n, xxeob xxQ01_02\\n, xxQ01_02 xxbob March 30, 1989\\n, xxeob xxQ01_02\\n, xxQ01_00 xxbob Mr. Douglass Bomeisler\\n, Laurence, Charles, Free &amp; Lawson, Inc.\\n, 260 Madison Avenue\\n, New York, New York 10016\\n, xxeob xxQ02_02\\n, xxQ02_00 xxbob Re: AMERICAN Advertising Test Creative\\n, Dear Doug:\\n, xxeob xxQ02_03\\n, xxQ02_00 xxbob This will recap the several issues we've discussed regarding an AMERICAN\\n, advertising test:\\n, xxeob xxQ02_01\\n, xxQ02_00 xxbob I) Background\\n, xxeob xxQ03_02\\n, xxQ02_00 xxbob We have at this point received Management's conceptual\\n, approval of the “humorous animal\" ad series. The\\n, speculative comps used in the presentation are not to be\\n, considered the final creative submissions on this theme.\\n, xxeob xxQ03_02\\n, xxQ03_00 xxbob A great many issues remain to be resolved by LCF&amp;L and\\n, ATCo.\\n, xxeob xxQ04_02\\n, xxQ03_00 xxbob II. Strategic Issues\\n, A) How can we make this a proprietarily AMERICAN program.\\n, With enough spending there could just as well be the\\n, Doral or Viceroy “funny animals\". How do we make them\\n, aolely/clearly ours? (eg: Is there a \"Great American/\\n, Proud American\" connection?)\\n, xxeob xxQ04_02\\n, xxQ04_00 xxbob B) Is the cigarette in the mouth a critical element? Can\\n, we/should go ahead with this creative if, for whatever\\n, reason, the cigarette is ruled out? Should we conduct\\n, preliminary consumer research to test reaction to this\\n, type of (as well as the campaign in general)?\\n, xxeob xxQ04_02\\n, xxQ04_00 xxbob CG) Where do you see this campaign going? Can it build/drive\\n, a significant Brand imagery and point of difference?\\n, xxeob xxQ05_01\\n, xxQ05_00 xxbob SIX STAMFORD FORUM\\n, BO. BOX 10380\\n, STAMFORD CONNECTICUT 06904-2380\\n, 203 325 4900\\n, xxeob xxQ05_01\\n, xxQ05_00 xxbob 991038027\\n, PRODUCED FROM B&amp;W WEB SITE\\n, xxeob xxQ05_01\\n]</td>\n",
              "      <td>1</td>\n",
              "    </tr>\n",
              "    <tr>\n",
              "      <th>4</th>\n",
              "      <td>[xxQ00_01 xxbob xxbcet Tse For Inc.\\n, xxecet xxbcet 900 THIRD AVENUE\\n, xxecet xxbcet NEW YORK, 10022\\n, xxecet xxeob xxQ00_02\\n, xxQ00_02 xxbob March 19, 1991\\n, xxeob xxQ01_01\\n, xxQ01_00 xxbob Dr. C. William Davis\\n, Div. of Pulmonary Medicine\\n, 724 Clinical Sciences Bldg. -7020\\n, University of North Carolina\\n, Chapel Hill, NC. 27599\\n, xxeob xxQ01_01\\n, xxQ01_00 xxbob Dear Dr. Davis:\\n, xxeob xxQ02_03\\n, xxQ01_00 xxbob Thank you for your expression of interest in our program of research support. Iam\\n, pleased to enclose a statement describing policies of The Council and a recent Annual Report\\n, that lists grants currently supported. Our application procedure entails a mandatory two-step\\n, process. First, a short preliminary inquiry is sent to members of the Executive Committee of\\n, our Scientific Advisory Board who evaluate it for scientific merit and for into The\\n, Council’s current multidisciplinary biomedical research program. If the Committee’s review\\n, vote is positive, you will be provided with forms and instructions for completing a full\\n, application, In the event you receive an award, The Council will consider up to two annual\\n, renewals on the basis of progress reports and materials submitted with renewal applications.\\n, xxeob xxQ03_03\\n, xxQ02_00 xxbob The Council operates two application cycies per year and accepts preliminary inquiries\\n, year-round; the date of receipt by CTR determines the cycle in which the proposal is evaluated.\\n, - ‘Spring cycle - any inquiry received between March 16 and September 15 and encouraged.\\n, xxbcet by the Executive Committee may be submitted as a full application by November 30;\\n, xxecet xxbcet - Fall cycle - inquiries received. between September [6.and March 15.and encouraged by\\n, xxecet the Committee may be submitted as full applications by May 31:\\n, xxeob xxQ03_03\\n, xxQ03_01 xxbob Preliminary Inquiry Deadline for - Notification Activation\\n, xxeob xxQ03_03\\n, xxQ03_00 xxbob xxbcet Cycle ¥ | Date\\n, xxecet Arrival atCTR Full Application Date\\n, xxeob xxQ03_02\\n, xxQ03_00 xxbob Spring. Mar 16 - Sep 15 Early May\\n, Fall Sep 16 - Mar 15 Early Oct\\n, xxeob xxQ03_02\\n, xxQ03_00 xxbob The format for the preliminary application is as follows:\\n, xxeob xxQ04_03\\n, xxQ03_00 xxbob A three page narrative summary, This should contain a synopsis of the proposed project\\n, including relevant background material, its present status.and goals, a brief outline of the\\n, research and its impact. The summary should end with a sentence indicating the\\n, anticipated duration of the project (one, two or three years) and a single figure estimate\\n, of the anticipated annual direct costs of the study as proposed. Please note that the three\\n, page limit is absolute; no attachment pages containing photographs, charts or literature\\n, citations will be accepted. If you judge such materials are critical for the review of the\\n, proposal, they must be accommodated within the three page limitation.\\n, 2. Two page curricula vitae and scientific bibliographies of the applicant and principal\\n, professional level collaborators (the NIH format is quite acceptable). Again, the page\\n, limit is strictly enforced; only two pages per investigator are forwarded to the Committee.\\n, _\\n, 3. One copy each of any two or three publications, abstracts or manuscripts that are closely\\n, related to the project for which funding is. being sought.\\n, xxeob xxQ05_02\\n, xxQ04_02 xxbob Sincerely,\\n, xxeob xxQ05_03\\n, xxQ05_02 xxbob Eisenberg, Ph. D.\\n, xxeob xxQ05_03\\n, xxQ05_02 xxbob Associate Research Director f\\n, xxeob xxQ05_03\\n]</td>\n",
              "      <td>0</td>\n",
              "    </tr>\n",
              "  </tbody>\n",
              "</table>\n",
              "</div>"
            ],
            "text/plain": [
              "                                                                                                                                                                                                                                                                                                                                                                                                                                                                                                                                                                                                                                                                                                                                                                                                                                                                                                                                                                                                                                                                                                                                                                                                                                                                                                                                                                                                                                                                                                                                                                                                                                                                                                                                                                                                                                                                                                                                                                                                                                                                                                                                                                                                                                                                                                                                                                                                                                                                                                                                                                                                                                                                                                                                                                                                                                                                                                                                                                                                                                                                                                                                                                                                                                                                                                                                                                                                                                                                                                                                                                                                                                                                                                                                                                   texts  pages\n",
              "0                                                                                                                                                                                                                                                                                                                                                                                                                                                                                                                                                                                                                                                                                                                                                                                                                                                                                                                                                                                                                                                                                                                                                                                                                                                                                [xxQ00_00 xxbob JUL 14 14:48 FR CALIFORNIA SPEEDURY 429 5998 TO 919176631462\\n, xxeob xxQ01_00\\n, xxQ01_00 xxbob july 7, 2900\\n, xxeob xxQ01_00\\n, xxQ01_00 xxbob Philip Morris, USA\\n, -120 Park Avenue\\n, xxeob xxQ02_01\\n, xxQ01_00 xxbob New York, NY 10017-5592\\n, Dear ina,\\n, xxeob xxQ03_03\\n, xxQ02_00 xxbob xxbcet Thank far your time today with our several conversations over the telephone.\\n, xxecet you regarding Marlboro Racing Experience and\\n, writing the agreement we that we agreement that for the of the\\n, SportService. tis my understanding are all in -\\n, Racing Experience which is September 21* through October 6\", Mariboro will.continue\\n, all food and beverage directly from Califomia Sportservice. Beginning with the\\n, to purchase November 6* and continue on various days\\n, Marlboro Racing Experience scheduled to start on service\\n, through December 15\", Marlboro will be able to conduct their own food and beverage\\n, the involvement of California SportService. in consideration of this privilege Mariboro\\n, without of $2,500 day for each event food\\n, to pay California SportService a self-catering fee per\\n, agrees down days will not require any self-catering fee. Marlboro will be\\n, service day. Set up and tear fees.\\n, invoiced by California SportService on a monthly basis for all event day self-catering\\n, This agreement will remain in effect for the balance of 2000 and ail scheduled Mariboro\\n, Racing Experience event food service days in 2001. The self-catering fee will be reviewed and\\n, modified by mutual agreement for 2002 and beyond, A formal will be\\n, potentially future this is intended only to our verbal\\n, provided by our legal department in the near as\\n, xxbcet agreement. reflects understanding please indicate by signing below\\n, xxecet If this document accurately your spirit of\\n, xxbcet and retuming a copy to my attention or sending a confirming letter. | appreciate your\\n, xxecet cooperation and hope this provides a positive solution for all involved.\\n, xxeob xxQ04_00\\n, xxQ04_00 xxbob Sincerely,\\n, xxeob xxQ05_02\\n, xxQ04_00 xxbob Ina Broem\\n, xxbcet Greg Penske | : Mortis, USA\\n, xxecet ce:\\n, Brian Geye\\n, xxeob xxQ05_01\\n, xxQ05_00 xxbob xxbcet Otis Creer\\n, xxecet xxeob xxQ05_03\\n, xxQ05_00 xxbob SPEEDWAY CHERRY FONTANA, UGA (900) / FAX (900)\\n, TOTAL\\n, xxeob xxQ05_03\\n, xxQ04_03 xxbob 0602970802\\n, xxeob xxQ05_03\\n]      0\n",
              "1                                                                                                                                                                                                                                                                                                                                                                                                                                                                                                                                                                                                                                                                                                                                                                                                                                                                                                                                                                                                                                                                                                                                                                                                                                                                                                                                                                                                                                      [xxQ00_02 xxbob ®\\n, xxeob xxQ00_01\\n, xxQ00_01 xxbob Phase\\n, xxeob xxQ00_03\\n, xxQ00_00 xxbob Now smoke two packs of the cigarette coded and circle\\n, Just did . a Number for each pair of phrases\\n, as you before.\\n, xxeob xxQ00_00\\n, xxQ00_00 xxbob CIGARETTES CODED\\n, xxeob xxQ02_03\\n, xxQ00_00 xxbob xxbcet Too much menthol taste. | 3 | 2 |3 7] enough menthol taste,\\n, xxecet Burns too fast, 2-13 14 15 16 Does not burn too fast,\\n, 4\\n, xxbcet Is dry tasting. | 2 [4 {5 [6 [7 } Is not dry tasting,\\n, xxecet xxbcet Does not have a good taste. | 1 15 6 | | Has a good taste,\\n, xxecet xxbcet Is harsh tasting. 13 | 1s not harsh tasting,\\n, xxecet Has a bitter taste. [4 7 Does not have bitter\\n, a taste.\\n, xxeob xxQ01_03\\n, xxQ01_02 xxbob Has draw,\\n, xxeob xxQ02_03\\n, xxQ02_00 xxbob Is not satisfying. 4 6 Is satisfying.\\n, Leaves a bad aftertaste Leaves good aftertaste\\n, in 2 a\\n, xxbcet my mouth. | 1 | 2 in my mouth,\\n, xxecet xxbcet Too mich cooling. | 2 4 Too little cooling.\\n, xxecet xxeob xxQ02_03\\n, xxQ02_00 xxbob I dislike extremely. 1/2 [4 1 like extremely,\\n, xxeob xxQ03_01\\n, xxQ02_01 xxbob Phase LII\\n, xxeob xxQ03_03\\n, xxQ03_00 xxbob “ow that you have completed Phases 1 and smoke of the remaining\\n, codes and the following: some cigarettes of both\\n, answer\\n, xxeob xxQ03_03\\n, xxQ03_00 xxbob “Which has the better menthol taste? J 0 Preference\\n, Which cigarette is more satisfying? J Preference\\n, xxbcet Which cigarette is the milder smoke? [| J Preference\\n, xxecet xxeob xxQ04_03\\n, xxQ03_00 xxbob Which cigarette has better amount of J Preference\\n, Which cigarette do you prefer? C] J Preference\\n, xxeob xxQ04_03\\n, xxQ04_00 xxbob M1 things considered, if you were to make out a report card the two coded\\n, for on and\\n, one the brand you regularly smoke using a prading system where \"A\" is’ excellent, \"C\" is\\n, average, and \"F\" is totally unsatisfactory, how would you grade:\\n, xxeob xxQ04_03\\n, xxQ04_00 xxbob a letter to grade each of the coded cigarettes and your own.)\\n, xxbcet The coded \"J\" A B oD F\\n, xxecet xxeob xxQ05_02\\n, xxQ04_00 xxbob xxbcet The cigarette coded A B c D E F\\n, xxecet xxeob xxQ05_02\\n, xxQ05_00 xxbob xxbcet Your regular brand A B c D E F\\n, xxecet xxeob xxQ05_02\\n]      1\n",
              "2                                                                                                                                                                                                                                                                                                                                                                                                                                                                                                                                                                                                                                                                                                                                                                                                                                                                                                                                                                                                                                                                                                                                                                                                                                                                                                                                                                                                                                                                                                                                                                                                                                                                                                                                                                                                                                                                                                                                                                                                                                                                                                                                                                                                                                                                                                                                                                                                                                                                                                                                                                                                                                                                                                                                                                                                                                                                                                                                                                                                                                                                                                                                                                                                                                            [xxQ04_02 xxbob BAILOWOLITY\\n, xxbcet |\\n, xxecet xxbcet |\\n, xxecet xxeob xxQ02_02\\n, xxQ02_02 xxbob xxbcet |\\n, xxecet xxeob xxQ04_02\\n, xxQ01_02 xxbob xxbcet |\\n, xxecet xxbcet |\\n, xxecet xxbcet |\\n, xxecet xxbcet |\\n, xxecet xxbcet |\\n, xxecet xxeob xxQ04_01\\n, xxQ04_01 xxbob xxbcet |\\n, xxecet xxeob xxQ04_01\\n, xxQ04_01 xxbob xxbcet |\\n, xxecet xxeob xxQ03_01\\n, xxQ03_01 xxbob xxbcet |\\n, xxecet xxeob xxQ04_01\\n, xxQ03_01 xxbob ——!\\n, —\\n, xxeob xxQ01_01\\n, xxQ01_01 xxbob MAN\\n, xxeob xxQ01_01\\n]      1\n",
              "3                                                                                                                                                                                                                                                                                                                                                                                                                                                                                                                                                                                                                                                                                                                                                                                                                                                                                                                                                                                                                                                                                                                                                                                                                                                                                                                                                                                                                                                                                                                                                                                                                                                                                                                                                                                                [xxQ00_00 xxbob THE\\n, AMERICAN\\n, TOBACCO\\n, COMPANY\\n, xxeob xxQ01_02\\n, xxQ01_02 xxbob March 30, 1989\\n, xxeob xxQ01_02\\n, xxQ01_00 xxbob Mr. Douglass Bomeisler\\n, Laurence, Charles, Free & Lawson, Inc.\\n, 260 Madison Avenue\\n, New York, New York 10016\\n, xxeob xxQ02_02\\n, xxQ02_00 xxbob Re: AMERICAN Advertising Test Creative\\n, Dear Doug:\\n, xxeob xxQ02_03\\n, xxQ02_00 xxbob This will recap the several issues we've discussed regarding an AMERICAN\\n, advertising test:\\n, xxeob xxQ02_01\\n, xxQ02_00 xxbob I) Background\\n, xxeob xxQ03_02\\n, xxQ02_00 xxbob We have at this point received Management's conceptual\\n, approval of the “humorous animal\" ad series. The\\n, speculative comps used in the presentation are not to be\\n, considered the final creative submissions on this theme.\\n, xxeob xxQ03_02\\n, xxQ03_00 xxbob A great many issues remain to be resolved by LCF&L and\\n, ATCo.\\n, xxeob xxQ04_02\\n, xxQ03_00 xxbob II. Strategic Issues\\n, A) How can we make this a proprietarily AMERICAN program.\\n, With enough spending there could just as well be the\\n, Doral or Viceroy “funny animals\". How do we make them\\n, aolely/clearly ours? (eg: Is there a \"Great American/\\n, Proud American\" connection?)\\n, xxeob xxQ04_02\\n, xxQ04_00 xxbob B) Is the cigarette in the mouth a critical element? Can\\n, we/should go ahead with this creative if, for whatever\\n, reason, the cigarette is ruled out? Should we conduct\\n, preliminary consumer research to test reaction to this\\n, type of (as well as the campaign in general)?\\n, xxeob xxQ04_02\\n, xxQ04_00 xxbob CG) Where do you see this campaign going? Can it build/drive\\n, a significant Brand imagery and point of difference?\\n, xxeob xxQ05_01\\n, xxQ05_00 xxbob SIX STAMFORD FORUM\\n, BO. BOX 10380\\n, STAMFORD CONNECTICUT 06904-2380\\n, 203 325 4900\\n, xxeob xxQ05_01\\n, xxQ05_00 xxbob 991038027\\n, PRODUCED FROM B&W WEB SITE\\n, xxeob xxQ05_01\\n]      1\n",
              "4  [xxQ00_01 xxbob xxbcet Tse For Inc.\\n, xxecet xxbcet 900 THIRD AVENUE\\n, xxecet xxbcet NEW YORK, 10022\\n, xxecet xxeob xxQ00_02\\n, xxQ00_02 xxbob March 19, 1991\\n, xxeob xxQ01_01\\n, xxQ01_00 xxbob Dr. C. William Davis\\n, Div. of Pulmonary Medicine\\n, 724 Clinical Sciences Bldg. -7020\\n, University of North Carolina\\n, Chapel Hill, NC. 27599\\n, xxeob xxQ01_01\\n, xxQ01_00 xxbob Dear Dr. Davis:\\n, xxeob xxQ02_03\\n, xxQ01_00 xxbob Thank you for your expression of interest in our program of research support. Iam\\n, pleased to enclose a statement describing policies of The Council and a recent Annual Report\\n, that lists grants currently supported. Our application procedure entails a mandatory two-step\\n, process. First, a short preliminary inquiry is sent to members of the Executive Committee of\\n, our Scientific Advisory Board who evaluate it for scientific merit and for into The\\n, Council’s current multidisciplinary biomedical research program. If the Committee’s review\\n, vote is positive, you will be provided with forms and instructions for completing a full\\n, application, In the event you receive an award, The Council will consider up to two annual\\n, renewals on the basis of progress reports and materials submitted with renewal applications.\\n, xxeob xxQ03_03\\n, xxQ02_00 xxbob The Council operates two application cycies per year and accepts preliminary inquiries\\n, year-round; the date of receipt by CTR determines the cycle in which the proposal is evaluated.\\n, - ‘Spring cycle - any inquiry received between March 16 and September 15 and encouraged.\\n, xxbcet by the Executive Committee may be submitted as a full application by November 30;\\n, xxecet xxbcet - Fall cycle - inquiries received. between September [6.and March 15.and encouraged by\\n, xxecet the Committee may be submitted as full applications by May 31:\\n, xxeob xxQ03_03\\n, xxQ03_01 xxbob Preliminary Inquiry Deadline for - Notification Activation\\n, xxeob xxQ03_03\\n, xxQ03_00 xxbob xxbcet Cycle ¥ | Date\\n, xxecet Arrival atCTR Full Application Date\\n, xxeob xxQ03_02\\n, xxQ03_00 xxbob Spring. Mar 16 - Sep 15 Early May\\n, Fall Sep 16 - Mar 15 Early Oct\\n, xxeob xxQ03_02\\n, xxQ03_00 xxbob The format for the preliminary application is as follows:\\n, xxeob xxQ04_03\\n, xxQ03_00 xxbob A three page narrative summary, This should contain a synopsis of the proposed project\\n, including relevant background material, its present status.and goals, a brief outline of the\\n, research and its impact. The summary should end with a sentence indicating the\\n, anticipated duration of the project (one, two or three years) and a single figure estimate\\n, of the anticipated annual direct costs of the study as proposed. Please note that the three\\n, page limit is absolute; no attachment pages containing photographs, charts or literature\\n, citations will be accepted. If you judge such materials are critical for the review of the\\n, proposal, they must be accommodated within the three page limitation.\\n, 2. Two page curricula vitae and scientific bibliographies of the applicant and principal\\n, professional level collaborators (the NIH format is quite acceptable). Again, the page\\n, limit is strictly enforced; only two pages per investigator are forwarded to the Committee.\\n, _\\n, 3. One copy each of any two or three publications, abstracts or manuscripts that are closely\\n, related to the project for which funding is. being sought.\\n, xxeob xxQ05_02\\n, xxQ04_02 xxbob Sincerely,\\n, xxeob xxQ05_03\\n, xxQ05_02 xxbob Eisenberg, Ph. D.\\n, xxeob xxQ05_03\\n, xxQ05_02 xxbob Associate Research Director f\\n, xxeob xxQ05_03\\n]      0"
            ]
          },
          "metadata": {},
          "execution_count": 15
        }
      ]
    },
    {
      "cell_type": "code",
      "metadata": {
        "id": "0-2sRFv8nRoe"
      },
      "source": [
        "replace_list = {r\"i'm\": 'i am',\n",
        "                r\"'re\": ' are',\n",
        "                r\"let’s\": 'let us',\n",
        "                r\"'s\":  ' is',\n",
        "                r\"'ve\": ' have',\n",
        "                r\"can't\": 'can not',\n",
        "                r\"cannot\": 'can not',\n",
        "                r\"shan’t\": 'shall not',\n",
        "                r\"n't\": ' not',\n",
        "                r\"'d\": ' would',\n",
        "                r\"'ll\": ' will',\n",
        "                r\"'scuse\": 'excuse',\n",
        "                ',': ' ,',\n",
        "                '.': ' .',\n",
        "                '!': ' !',\n",
        "                '?': ' ?',\n",
        "                '\\s+': ' '}"
      ],
      "execution_count": 16,
      "outputs": []
    },
    {
      "cell_type": "code",
      "metadata": {
        "colab": {
          "base_uri": "https://localhost:8080/",
          "height": 35
        },
        "id": "9wbYiWQ4nauj",
        "outputId": "a078f271-033f-4749-a8f4-ba500e7c9fbc"
      },
      "source": [
        "# definir minhas features - contexto\n",
        "X_train = df['texts'].apply(lambda p: clean_text(p))\n",
        "\n",
        "phrase_len = X_train.apply(lambda p: len(p.split(' ')))\n",
        "max_phrase_len = phrase_len.max()\n",
        "'max phrase len: {0}'.format(max_phrase_len)"
      ],
      "execution_count": 17,
      "outputs": [
        {
          "output_type": "execute_result",
          "data": {
            "application/vnd.google.colaboratory.intrinsic+json": {
              "type": "string"
            },
            "text/plain": [
              "'max phrase len: 1243'"
            ]
          },
          "metadata": {},
          "execution_count": 17
        }
      ]
    },
    {
      "cell_type": "code",
      "metadata": {
        "id": "LBN00yzL8GMT"
      },
      "source": [
        "pd.set_option('display.max_colwidth', None)\n",
        "df.head()"
      ],
      "execution_count": null,
      "outputs": []
    },
    {
      "cell_type": "code",
      "metadata": {
        "id": "OoOfN9qanmOq"
      },
      "source": [
        "# target\n",
        "y_train = df['pages']\n",
        "\n",
        "# words to numbers\n",
        "max_words = 8192\n",
        "tokenizer = Tokenizer(\n",
        "    num_words = max_words,\n",
        "    filters = '\"#$%&()*+-/:;<=>@[\\]^_`{|}~'\n",
        ")"
      ],
      "execution_count": 20,
      "outputs": []
    },
    {
      "cell_type": "code",
      "metadata": {
        "id": "KorAF9KqnrO7"
      },
      "source": [
        "tokenizer.fit_on_texts(X_train)\n",
        "X_train = tokenizer.texts_to_sequences(X_train)\n",
        "X_train = pad_sequences(X_train, maxlen = max_phrase_len)\n",
        "y_train = to_categorical(y_train)"
      ],
      "execution_count": 21,
      "outputs": []
    },
    {
      "cell_type": "code",
      "metadata": {
        "id": "fa3SwWHYnt5l"
      },
      "source": [
        "X_train, X_test, y_train, y_test = train_test_split(X_train, y_train, \n",
        "                                                    test_size=0.2, \n",
        "                                                    random_state=42)"
      ],
      "execution_count": 22,
      "outputs": []
    },
    {
      "cell_type": "code",
      "metadata": {
        "colab": {
          "base_uri": "https://localhost:8080/",
          "height": 0
        },
        "id": "NPQtgnF4nwa8",
        "outputId": "66664d51-eef4-4faa-901a-2b37b3e62033"
      },
      "source": [
        "model_lstm = Sequential()\n",
        "model_lstm.add(Embedding(input_dim = max_words, \n",
        "                         output_dim = 256, \n",
        "                         input_length = max_phrase_len))\n",
        "\n",
        "model_lstm.add(SpatialDropout1D(0.3))\n",
        "model_lstm.add(LSTM(256, dropout = 0.3, recurrent_dropout = 0.3))\n",
        "model_lstm.add(Dense(256, activation = 'relu'))\n",
        "model_lstm.add(Dropout(0.3))\n",
        "model_lstm.add(Dense(2, activation = 'softmax'))\n",
        "\n",
        "model_lstm.compile(\n",
        "    loss='binary_crossentropy',\n",
        "    optimizer='Adam',\n",
        "    metrics=['accuracy']\n",
        ")"
      ],
      "execution_count": 26,
      "outputs": [
        {
          "output_type": "stream",
          "name": "stdout",
          "text": [
            "WARNING:tensorflow:Layer lstm_1 will not use cuDNN kernels since it doesn't meet the criteria. It will use a generic GPU kernel as fallback when running on GPU.\n"
          ]
        }
      ]
    },
    {
      "cell_type": "code",
      "metadata": {
        "colab": {
          "base_uri": "https://localhost:8080/",
          "height": 0
        },
        "id": "uqvUOqYbnzoP",
        "outputId": "5e6ccbbc-82e5-4a27-b727-bc0d46e50c76"
      },
      "source": [
        "history = model_lstm.fit(\n",
        "    X_train,\n",
        "    y_train,\n",
        "    validation_split = 0.1,\n",
        "    epochs = 10,\n",
        "    batch_size = 128,\n",
        ")\n",
        "\n",
        "model_lstm.save(\"lstm_model.h5\")"
      ],
      "execution_count": 27,
      "outputs": [
        {
          "output_type": "stream",
          "name": "stdout",
          "text": [
            "Epoch 1/10\n",
            "8/8 [==============================] - 58s 7s/step - loss: 0.6792 - accuracy: 0.6110 - val_loss: 0.6593 - val_accuracy: 0.6154\n",
            "Epoch 2/10\n",
            "8/8 [==============================] - 52s 7s/step - loss: 0.6566 - accuracy: 0.6185 - val_loss: 0.6509 - val_accuracy: 0.6154\n",
            "Epoch 3/10\n",
            "8/8 [==============================] - 53s 7s/step - loss: 0.6340 - accuracy: 0.6185 - val_loss: 0.5791 - val_accuracy: 0.6250\n",
            "Epoch 4/10\n",
            "8/8 [==============================] - 53s 7s/step - loss: 0.5967 - accuracy: 0.7101 - val_loss: 0.5856 - val_accuracy: 0.6827\n",
            "Epoch 5/10\n",
            "8/8 [==============================] - 53s 7s/step - loss: 0.5072 - accuracy: 0.7737 - val_loss: 0.6649 - val_accuracy: 0.7212\n",
            "Epoch 6/10\n",
            "8/8 [==============================] - 52s 7s/step - loss: 0.4653 - accuracy: 0.7953 - val_loss: 0.4825 - val_accuracy: 0.7981\n",
            "Epoch 7/10\n",
            "8/8 [==============================] - 53s 7s/step - loss: 0.3783 - accuracy: 0.8524 - val_loss: 0.4056 - val_accuracy: 0.8077\n",
            "Epoch 8/10\n",
            "8/8 [==============================] - 52s 7s/step - loss: 0.2770 - accuracy: 0.8869 - val_loss: 0.3154 - val_accuracy: 0.8750\n",
            "Epoch 9/10\n",
            "8/8 [==============================] - 53s 7s/step - loss: 0.2197 - accuracy: 0.9030 - val_loss: 0.3105 - val_accuracy: 0.8750\n",
            "Epoch 10/10\n",
            "8/8 [==============================] - 53s 7s/step - loss: 0.1636 - accuracy: 0.9494 - val_loss: 0.3443 - val_accuracy: 0.8462\n"
          ]
        }
      ]
    },
    {
      "cell_type": "code",
      "metadata": {
        "colab": {
          "base_uri": "https://localhost:8080/",
          "height": 299
        },
        "id": "hpuT1q8Jn8GF",
        "outputId": "7be6179a-bd29-47e3-cc34-b52e8a58ab38"
      },
      "source": [
        "\n",
        "plt.clf()\n",
        "loss = history.history['loss']\n",
        "val_loss = history.history['val_loss']\n",
        "epochs = range(1, len(loss) + 1)\n",
        "plt.plot(epochs, loss, 'g', label='Training loss')\n",
        "plt.plot(epochs, val_loss, 'y', label='Validation loss')\n",
        "plt.title('Training and validation loss')\n",
        "plt.xlabel('Epochs')\n",
        "plt.ylabel('Loss')\n",
        "plt.legend()\n",
        "plt.show()"
      ],
      "execution_count": 28,
      "outputs": [
        {
          "output_type": "display_data",
          "data": {
            "image/png": "[encoded data removed]",
            "text/plain": [
              "<Figure size 432x288 with 1 Axes>"
            ]
          },
          "metadata": {}
        }
      ]
    },
    {
      "cell_type": "code",
      "metadata": {
        "colab": {
          "base_uri": "https://localhost:8080/",
          "height": 299
        },
        "id": "JEJ-Ms8pqhQH",
        "outputId": "befd764d-b0c4-4572-8155-b93d29880e05"
      },
      "source": [
        "\n",
        "plt.clf()\n",
        "acc = history.history['accuracy']\n",
        "val_acc = history.history['val_accuracy']\n",
        "plt.plot(epochs, acc, 'g', label='Training acc')\n",
        "plt.plot(epochs, val_acc, 'y', label='Validation acc')\n",
        "plt.title('Training and validation accuracy')\n",
        "plt.xlabel('Epochs')\n",
        "plt.ylabel('Accuracy')\n",
        "plt.legend()\n",
        "plt.show()\n"
      ],
      "execution_count": 29,
      "outputs": [
        {
          "output_type": "display_data",
          "data": {
            "image/png": "[encoded data removed]",
            "text/plain": [
              "<Figure size 432x288 with 1 Axes>"
            ]
          },
          "metadata": {}
        }
      ]
    },
    {
      "cell_type": "code",
      "metadata": {
        "id": "EOJeNfcEqwIj"
      },
      "source": [
        "y_pred = model_lstm.predict(X_test)"
      ],
      "execution_count": 30,
      "outputs": []
    },
    {
      "cell_type": "code",
      "metadata": {
        "colab": {
          "base_uri": "https://localhost:8080/",
          "height": 534
        },
        "id": "xoubJKPOqoIw",
        "outputId": "b4870e8e-adbc-4115-c8b8-9c71f953fe96"
      },
      "source": [
        "F1 = f1_score(np.argmax(y_test, axis=1), np.argmax(y_pred, axis=1))\n",
        "acc = accuracy_score(np.argmax(y_test, axis=1), np.argmax(y_pred, axis=1))\n",
        "cm = confusion_matrix(np.argmax(y_test, axis=1), np.argmax(y_pred, axis=1))\n",
        "\n",
        "print(\"Accuracy: {}\".format(acc))\n",
        "print(\"F1_score: {}\".format(F1))\n",
        "df_cm = pd.DataFrame(cm, [1,2], [1,2])\n",
        "fig, axs = plt.subplots(1,1, figsize=(12,8))\n",
        "sns.heatmap(df_cm, annot=True, ax=axs, annot_kws={\"size\": 16}, fmt=\"d\") \n",
        "axs.set_title('Confusion Matrix')\n",
        "plt.show()"
      ],
      "execution_count": 37,
      "outputs": [
        {
          "output_type": "stream",
          "name": "stdout",
          "text": [
            "Accuracy: 0.7984496124031008\n",
            "F1_score: 0.8479532163742689\n"
          ]
        },
        {
          "output_type": "display_data",
          "data": {
            "image/png": "[encoded data removed]",
            "text/plain": [
              "<Figure size 864x576 with 2 Axes>"
            ]
          },
          "metadata": {}
        }
      ]
    },
    {
      "cell_type": "code",
      "metadata": {
        "colab": {
          "base_uri": "https://localhost:8080/",
          "height": 0
        },
        "id": "lhSIJ5bpqu7m",
        "outputId": "d51e8ac6-0e3c-44db-c7fa-df98ffb1d1ef"
      },
      "source": [
        "f1_score(np.argmax(y_test, axis=1), np.argmax(y_pred, axis=1))"
      ],
      "execution_count": 32,
      "outputs": [
        {
          "output_type": "execute_result",
          "data": {
            "text/plain": [
              "0.8479532163742689"
            ]
          },
          "metadata": {},
          "execution_count": 32
        }
      ]
    },
    {
      "cell_type": "code",
      "metadata": {
        "id": "YkMadNJorJwp"
      },
      "source": [
        ""
      ],
      "execution_count": null,
      "outputs": []
    }
  ]
}