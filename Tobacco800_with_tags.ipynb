{
  "nbformat": 4,
  "nbformat_minor": 0,
  "metadata": {
    "colab": {
      "name": "Fastai_with_tags.ipynb",
      "provenance": [],
      "collapsed_sections": [],
      "machine_shape": "hm",
      "include_colab_link": true
    },
    "jupytext": {
      "split_at_heading": true
    },
    "kernelspec": {
      "display_name": "Python 3",
      "language": "python",
      "name": "python3"
    },
    "accelerator": "GPU"
  },
  "cells": [
    {
      "cell_type": "markdown",
      "metadata": {
        "id": "view-in-github",
        "colab_type": "text"
      },
      "source": [
        "<a href=\"https://colab.research.google.com/github/patriciamedyna/Classifier_page/blob/main/Tobacco800_with_tags.ipynb\" target=\"_parent\"><img src=\"https://colab.research.google.com/assets/colab-badge.svg\" alt=\"Open In Colab\"/></a>"
      ]
    },
    {
      "cell_type": "code",
      "metadata": {
        "id": "UJr_N-oGWpgm",
        "colab": {
          "base_uri": "https://localhost:8080/",
          "height": 0
        },
        "outputId": "c769ff1b-3446-443a-a1e3-1fb68fb2fca1"
      },
      "source": [
        "! [ -e /content ] && pip install -Uqq fastai"
      ],
      "execution_count": 1,
      "outputs": [
        {
          "output_type": "stream",
          "name": "stdout",
          "text": [
            "\u001b[K     |████████████████████████████████| 187 kB 4.3 MB/s \n",
            "\u001b[K     |████████████████████████████████| 56 kB 5.2 MB/s \n",
            "\u001b[?25h"
          ]
        }
      ]
    },
    {
      "cell_type": "code",
      "metadata": {
        "id": "yaH3SUzZjuA-",
        "colab": {
          "base_uri": "https://localhost:8080/",
          "height": 0
        },
        "outputId": "ab611640-8a48-4229-d2b1-4c458f476915"
      },
      "source": [
        "#hide\n",
        "!pip install -Uqq fastbook\n",
        "import fastbook"
      ],
      "execution_count": 2,
      "outputs": [
        {
          "output_type": "stream",
          "name": "stdout",
          "text": [
            "\u001b[K     |████████████████████████████████| 720 kB 4.4 MB/s \n",
            "\u001b[K     |████████████████████████████████| 49 kB 6.7 MB/s \n",
            "\u001b[K     |████████████████████████████████| 1.2 MB 69.0 MB/s \n",
            "\u001b[K     |████████████████████████████████| 51 kB 358 kB/s \n",
            "\u001b[K     |████████████████████████████████| 561 kB 71.1 MB/s \n",
            "\u001b[K     |████████████████████████████████| 130 kB 83.2 MB/s \n",
            "\u001b[?25h"
          ]
        }
      ]
    },
    {
      "cell_type": "code",
      "metadata": {
        "id": "ZZ_arKKyj3Co"
      },
      "source": [
        "#hide\n",
        "from fastbook import *\n",
        "from IPython.display import display,HTML"
      ],
      "execution_count": 3,
      "outputs": []
    },
    {
      "cell_type": "code",
      "metadata": {
        "id": "-gu3NxcBirzx"
      },
      "source": [
        "from fastai.basics import *\n",
        "from fastai.text.core import *\n",
        "from fastai.text.data import *\n",
        "from fastai.text.models.core import *\n",
        "from fastai.text.models.awdlstm import *\n",
        "from fastai.callback.rnn import *\n",
        "from fastai.callback.progress import *\n",
        "from fastai.vision import *\n",
        "from fastai.text.all import *\n",
        "from fastai.text import *\n",
        "from datetime import datetime"
      ],
      "execution_count": 4,
      "outputs": []
    },
    {
      "cell_type": "code",
      "source": [
        "seed = 42\n",
        "\n",
        "# python RNG\n",
        "import random\n",
        "random.seed(seed)\n",
        "\n",
        "# pytorch RNGs\n",
        "import torch\n",
        "torch.manual_seed(seed)\n",
        "torch.backends.cudnn.deterministic = True\n",
        "if torch.cuda.is_available(): torch.cuda.manual_seed_all(seed)\n",
        "\n",
        "# numpy RNG\n",
        "import numpy as np\n",
        "np.random.seed(seed)"
      ],
      "metadata": {
        "id": "GLqZqDsiLHU9"
      },
      "execution_count": 5,
      "outputs": []
    },
    {
      "cell_type": "code",
      "metadata": {
        "colab": {
          "base_uri": "https://localhost:8080/",
          "height": 0
        },
        "id": "51jgSOs8zZrX",
        "outputId": "ba25fa1e-60c7-485d-fee8-3967e5e44759"
      },
      "source": [
        "from google.colab import drive\n",
        "drive.mount('/content/drive')"
      ],
      "execution_count": 6,
      "outputs": [
        {
          "output_type": "stream",
          "name": "stdout",
          "text": [
            "Mounted at /content/drive\n"
          ]
        }
      ]
    },
    {
      "cell_type": "code",
      "source": [
        "path = '/content/drive/MyDrive/Colab Notebooks/Datasets/Tobacco_LSTM/layout/'\n",
        "#path = '/content/drive/.shortcut-targets-by-id/1R_vnrbg04zsdpye6d-dv190eSUWCL07i/Tobacco_LSTM/layout/'"
      ],
      "metadata": {
        "id": "e5UWGaVMQ5in"
      },
      "execution_count": null,
      "outputs": []
    },
    {
      "cell_type": "code",
      "metadata": {
        "id": "F3fCSD3QmMF_",
        "colab": {
          "base_uri": "https://localhost:8080/",
          "height": 367
        },
        "outputId": "4651f64b-fa59-4ae2-f8fb-48b041099533"
      },
      "source": [
        "df_train = pd.read_csv(path + 'train_tags.csv', delimiter=',',  error_bad_lines=False, index_col=False)\n",
        "df_train = df_train.drop(['text'], axis=1)\n",
        "df_train.head(2)"
      ],
      "execution_count": 46,
      "outputs": [
        {
          "output_type": "stream",
          "name": "stderr",
          "text": [
            "/usr/local/lib/python3.7/dist-packages/IPython/core/interactiveshell.py:2882: FutureWarning: The error_bad_lines argument has been deprecated and will be removed in a future version.\n",
            "\n",
            "\n",
            "  exec(code_obj, self.user_global_ns, self.user_ns)\n"
          ]
        },
        {
          "output_type": "execute_result",
          "data": {
            "text/plain": [
              "       binder              docid      class  \\\n",
              "0  Tobacco800  aah97e00-page02_1  FirstPage   \n",
              "1  Tobacco800  aah97e00-page02_2   NextPage   \n",
              "\n",
              "                                                                                                                                                                                                                                                                                                                                                                                                                                                                                                                                                                                                                 text_tags  \n",
              "0  ['\\n', 'xxQ00_01 xxbob  \\n', 'xxeob xxQ00_02\\n', '\\n', 'xxQ00_01 xxbob PHILIP MORRIS\\n', 'xxeob xxQ00_02\\n', '\\n', 'xxQ00_01 xxbob EUROPE MIDDLE EAST AFRICA\\n', 'xxeob xxQ00_02\\n', '\\n', 'xxQ00_01 xxbob RESEARCH AND DEVELOPMENT\\n', 'xxeob xxQ01_02\\n', '\\n', 'xxQ01_02 xxbob Neuchatel, duly 14, 1977\\n', 'xxeob xxQ01_03\\n', '\\n', 'xxQ01_01 xxbob Dr. M.A. Manzelli,\\n', 'PHILIP MORRIS INC.,\\n', 'Research Center,\\n', 'P.O. Box 3 D\\n', 'Richmond, Va. 23206\\n', 'U.S.A. .\\n', 'xxeob xxQ02_01\\n', '\\n', 'xxQ02_01 xxbob Dear Art,\\n', 'xxeob xxQ02_01\\n', '\\n', 'xxQ03_01 xxbob xxbcet Please proposed pro...  \n",
              "1  ['\\n', 'xxQ00_00 xxbob Please let krow if you have any changes for the proposed\\n', 'me\\n', 'program.\\n', 'xxeob xxQ01_03\\n', '\\n', 'xxQ01_00 xxbob Looking forward to seeing you again,\\n', 'xxeob xxQ01_02\\n', '\\n', 'xxQ01_02 xxbob Yours very truly,\\n', '_.\\n', 'xxeob xxQ01_03\\n', '\\n', 'xxQ01_02 xxbob xxbcet    \\n', 'xxecet\\n', 'xxeob xxQ02_03\\n', '\\n', 'xxQ02_02 xxbob .B. Boder\\n', 'xxeob xxQ02_03\\n', '\\n', 'xxQ02_00 xxbob cc: Messrs. B. Kuhn\\n', 'xxbcet E. Stoop\\n', 'xxecet\\n', 'xxeob xxQ02_01\\n', '\\n', 'xxQ02_00 xxbob Encl.: mentioned\\n', 'xxeob xxQ03_01\\n', '\\n', 'xxQ04_01 xxbob we\\n',...  "
            ],
            "text/html": [
              "\n",
              "  <div id=\"df-c5b72ccc-d8b6-4a8b-b290-466532d054a4\">\n",
              "    <div class=\"colab-df-container\">\n",
              "      <div>\n",
              "<style scoped>\n",
              "    .dataframe tbody tr th:only-of-type {\n",
              "        vertical-align: middle;\n",
              "    }\n",
              "\n",
              "    .dataframe tbody tr th {\n",
              "        vertical-align: top;\n",
              "    }\n",
              "\n",
              "    .dataframe thead th {\n",
              "        text-align: right;\n",
              "    }\n",
              "</style>\n",
              "<table border=\"1\" class=\"dataframe\">\n",
              "  <thead>\n",
              "    <tr style=\"text-align: right;\">\n",
              "      <th></th>\n",
              "      <th>binder</th>\n",
              "      <th>docid</th>\n",
              "      <th>class</th>\n",
              "      <th>text_tags</th>\n",
              "    </tr>\n",
              "  </thead>\n",
              "  <tbody>\n",
              "    <tr>\n",
              "      <th>0</th>\n",
              "      <td>Tobacco800</td>\n",
              "      <td>aah97e00-page02_1</td>\n",
              "      <td>FirstPage</td>\n",
              "      <td>['\\n', 'xxQ00_01 xxbob  \\n', 'xxeob xxQ00_02\\n', '\\n', 'xxQ00_01 xxbob PHILIP MORRIS\\n', 'xxeob xxQ00_02\\n', '\\n', 'xxQ00_01 xxbob EUROPE MIDDLE EAST AFRICA\\n', 'xxeob xxQ00_02\\n', '\\n', 'xxQ00_01 xxbob RESEARCH AND DEVELOPMENT\\n', 'xxeob xxQ01_02\\n', '\\n', 'xxQ01_02 xxbob Neuchatel, duly 14, 1977\\n', 'xxeob xxQ01_03\\n', '\\n', 'xxQ01_01 xxbob Dr. M.A. Manzelli,\\n', 'PHILIP MORRIS INC.,\\n', 'Research Center,\\n', 'P.O. Box 3 D\\n', 'Richmond, Va. 23206\\n', 'U.S.A. .\\n', 'xxeob xxQ02_01\\n', '\\n', 'xxQ02_01 xxbob Dear Art,\\n', 'xxeob xxQ02_01\\n', '\\n', 'xxQ03_01 xxbob xxbcet Please proposed pro...</td>\n",
              "    </tr>\n",
              "    <tr>\n",
              "      <th>1</th>\n",
              "      <td>Tobacco800</td>\n",
              "      <td>aah97e00-page02_2</td>\n",
              "      <td>NextPage</td>\n",
              "      <td>['\\n', 'xxQ00_00 xxbob Please let krow if you have any changes for the proposed\\n', 'me\\n', 'program.\\n', 'xxeob xxQ01_03\\n', '\\n', 'xxQ01_00 xxbob Looking forward to seeing you again,\\n', 'xxeob xxQ01_02\\n', '\\n', 'xxQ01_02 xxbob Yours very truly,\\n', '_.\\n', 'xxeob xxQ01_03\\n', '\\n', 'xxQ01_02 xxbob xxbcet    \\n', 'xxecet\\n', 'xxeob xxQ02_03\\n', '\\n', 'xxQ02_02 xxbob .B. Boder\\n', 'xxeob xxQ02_03\\n', '\\n', 'xxQ02_00 xxbob cc: Messrs. B. Kuhn\\n', 'xxbcet E. Stoop\\n', 'xxecet\\n', 'xxeob xxQ02_01\\n', '\\n', 'xxQ02_00 xxbob Encl.: mentioned\\n', 'xxeob xxQ03_01\\n', '\\n', 'xxQ04_01 xxbob we\\n',...</td>\n",
              "    </tr>\n",
              "  </tbody>\n",
              "</table>\n",
              "</div>\n",
              "      <button class=\"colab-df-convert\" onclick=\"convertToInteractive('df-c5b72ccc-d8b6-4a8b-b290-466532d054a4')\"\n",
              "              title=\"Convert this dataframe to an interactive table.\"\n",
              "              style=\"display:none;\">\n",
              "        \n",
              "  <svg xmlns=\"http://www.w3.org/2000/svg\" height=\"24px\"viewBox=\"0 0 24 24\"\n",
              "       width=\"24px\">\n",
              "    <path d=\"M0 0h24v24H0V0z\" fill=\"none\"/>\n",
              "    <path d=\"M18.56 5.44l.94 2.06.94-2.06 2.06-.94-2.06-.94-.94-2.06-.94 2.06-2.06.94zm-11 1L8.5 8.5l.94-2.06 2.06-.94-2.06-.94L8.5 2.5l-.94 2.06-2.06.94zm10 10l.94 2.06.94-2.06 2.06-.94-2.06-.94-.94-2.06-.94 2.06-2.06.94z\"/><path d=\"M17.41 7.96l-1.37-1.37c-.4-.4-.92-.59-1.43-.59-.52 0-1.04.2-1.43.59L10.3 9.45l-7.72 7.72c-.78.78-.78 2.05 0 2.83L4 21.41c.39.39.9.59 1.41.59.51 0 1.02-.2 1.41-.59l7.78-7.78 2.81-2.81c.8-.78.8-2.07 0-2.86zM5.41 20L4 18.59l7.72-7.72 1.47 1.35L5.41 20z\"/>\n",
              "  </svg>\n",
              "      </button>\n",
              "      \n",
              "  <style>\n",
              "    .colab-df-container {\n",
              "      display:flex;\n",
              "      flex-wrap:wrap;\n",
              "      gap: 12px;\n",
              "    }\n",
              "\n",
              "    .colab-df-convert {\n",
              "      background-color: #E8F0FE;\n",
              "      border: none;\n",
              "      border-radius: 50%;\n",
              "      cursor: pointer;\n",
              "      display: none;\n",
              "      fill: #1967D2;\n",
              "      height: 32px;\n",
              "      padding: 0 0 0 0;\n",
              "      width: 32px;\n",
              "    }\n",
              "\n",
              "    .colab-df-convert:hover {\n",
              "      background-color: #E2EBFA;\n",
              "      box-shadow: 0px 1px 2px rgba(60, 64, 67, 0.3), 0px 1px 3px 1px rgba(60, 64, 67, 0.15);\n",
              "      fill: #174EA6;\n",
              "    }\n",
              "\n",
              "    [theme=dark] .colab-df-convert {\n",
              "      background-color: #3B4455;\n",
              "      fill: #D2E3FC;\n",
              "    }\n",
              "\n",
              "    [theme=dark] .colab-df-convert:hover {\n",
              "      background-color: #434B5C;\n",
              "      box-shadow: 0px 1px 3px 1px rgba(0, 0, 0, 0.15);\n",
              "      filter: drop-shadow(0px 1px 2px rgba(0, 0, 0, 0.3));\n",
              "      fill: #FFFFFF;\n",
              "    }\n",
              "  </style>\n",
              "\n",
              "      <script>\n",
              "        const buttonEl =\n",
              "          document.querySelector('#df-c5b72ccc-d8b6-4a8b-b290-466532d054a4 button.colab-df-convert');\n",
              "        buttonEl.style.display =\n",
              "          google.colab.kernel.accessAllowed ? 'block' : 'none';\n",
              "\n",
              "        async function convertToInteractive(key) {\n",
              "          const element = document.querySelector('#df-c5b72ccc-d8b6-4a8b-b290-466532d054a4');\n",
              "          const dataTable =\n",
              "            await google.colab.kernel.invokeFunction('convertToInteractive',\n",
              "                                                     [key], {});\n",
              "          if (!dataTable) return;\n",
              "\n",
              "          const docLinkHtml = 'Like what you see? Visit the ' +\n",
              "            '<a target=\"_blank\" href=https://colab.research.google.com/notebooks/data_table.ipynb>data table notebook</a>'\n",
              "            + ' to learn more about interactive tables.';\n",
              "          element.innerHTML = '';\n",
              "          dataTable['output_type'] = 'display_data';\n",
              "          await google.colab.output.renderOutput(dataTable, element);\n",
              "          const docLink = document.createElement('div');\n",
              "          docLink.innerHTML = docLinkHtml;\n",
              "          element.appendChild(docLink);\n",
              "        }\n",
              "      </script>\n",
              "    </div>\n",
              "  </div>\n",
              "  "
            ]
          },
          "metadata": {},
          "execution_count": 46
        }
      ]
    },
    {
      "cell_type": "code",
      "source": [
        "df_train = df_train.drop(columns=['docid','binder'])\n",
        "df_train.head(2)"
      ],
      "metadata": {
        "colab": {
          "base_uri": "https://localhost:8080/",
          "height": 260
        },
        "id": "XxSZk5VuRwZP",
        "outputId": "7c66bd5e-a7e8-4c50-e751-ef9a8ec1e013"
      },
      "execution_count": 48,
      "outputs": [
        {
          "output_type": "execute_result",
          "data": {
            "text/plain": [
              "       class  \\\n",
              "0  FirstPage   \n",
              "1   NextPage   \n",
              "\n",
              "                                                                                                                                                                                                                                                                                                                                                                                                                                                                                                                                                                                                                 text_tags  \n",
              "0  ['\\n', 'xxQ00_01 xxbob  \\n', 'xxeob xxQ00_02\\n', '\\n', 'xxQ00_01 xxbob PHILIP MORRIS\\n', 'xxeob xxQ00_02\\n', '\\n', 'xxQ00_01 xxbob EUROPE MIDDLE EAST AFRICA\\n', 'xxeob xxQ00_02\\n', '\\n', 'xxQ00_01 xxbob RESEARCH AND DEVELOPMENT\\n', 'xxeob xxQ01_02\\n', '\\n', 'xxQ01_02 xxbob Neuchatel, duly 14, 1977\\n', 'xxeob xxQ01_03\\n', '\\n', 'xxQ01_01 xxbob Dr. M.A. Manzelli,\\n', 'PHILIP MORRIS INC.,\\n', 'Research Center,\\n', 'P.O. Box 3 D\\n', 'Richmond, Va. 23206\\n', 'U.S.A. .\\n', 'xxeob xxQ02_01\\n', '\\n', 'xxQ02_01 xxbob Dear Art,\\n', 'xxeob xxQ02_01\\n', '\\n', 'xxQ03_01 xxbob xxbcet Please proposed pro...  \n",
              "1  ['\\n', 'xxQ00_00 xxbob Please let krow if you have any changes for the proposed\\n', 'me\\n', 'program.\\n', 'xxeob xxQ01_03\\n', '\\n', 'xxQ01_00 xxbob Looking forward to seeing you again,\\n', 'xxeob xxQ01_02\\n', '\\n', 'xxQ01_02 xxbob Yours very truly,\\n', '_.\\n', 'xxeob xxQ01_03\\n', '\\n', 'xxQ01_02 xxbob xxbcet    \\n', 'xxecet\\n', 'xxeob xxQ02_03\\n', '\\n', 'xxQ02_02 xxbob .B. Boder\\n', 'xxeob xxQ02_03\\n', '\\n', 'xxQ02_00 xxbob cc: Messrs. B. Kuhn\\n', 'xxbcet E. Stoop\\n', 'xxecet\\n', 'xxeob xxQ02_01\\n', '\\n', 'xxQ02_00 xxbob Encl.: mentioned\\n', 'xxeob xxQ03_01\\n', '\\n', 'xxQ04_01 xxbob we\\n',...  "
            ],
            "text/html": [
              "\n",
              "  <div id=\"df-b00eaead-918b-423a-88ae-2cce19de68fd\">\n",
              "    <div class=\"colab-df-container\">\n",
              "      <div>\n",
              "<style scoped>\n",
              "    .dataframe tbody tr th:only-of-type {\n",
              "        vertical-align: middle;\n",
              "    }\n",
              "\n",
              "    .dataframe tbody tr th {\n",
              "        vertical-align: top;\n",
              "    }\n",
              "\n",
              "    .dataframe thead th {\n",
              "        text-align: right;\n",
              "    }\n",
              "</style>\n",
              "<table border=\"1\" class=\"dataframe\">\n",
              "  <thead>\n",
              "    <tr style=\"text-align: right;\">\n",
              "      <th></th>\n",
              "      <th>class</th>\n",
              "      <th>text_tags</th>\n",
              "    </tr>\n",
              "  </thead>\n",
              "  <tbody>\n",
              "    <tr>\n",
              "      <th>0</th>\n",
              "      <td>FirstPage</td>\n",
              "      <td>['\\n', 'xxQ00_01 xxbob  \\n', 'xxeob xxQ00_02\\n', '\\n', 'xxQ00_01 xxbob PHILIP MORRIS\\n', 'xxeob xxQ00_02\\n', '\\n', 'xxQ00_01 xxbob EUROPE MIDDLE EAST AFRICA\\n', 'xxeob xxQ00_02\\n', '\\n', 'xxQ00_01 xxbob RESEARCH AND DEVELOPMENT\\n', 'xxeob xxQ01_02\\n', '\\n', 'xxQ01_02 xxbob Neuchatel, duly 14, 1977\\n', 'xxeob xxQ01_03\\n', '\\n', 'xxQ01_01 xxbob Dr. M.A. Manzelli,\\n', 'PHILIP MORRIS INC.,\\n', 'Research Center,\\n', 'P.O. Box 3 D\\n', 'Richmond, Va. 23206\\n', 'U.S.A. .\\n', 'xxeob xxQ02_01\\n', '\\n', 'xxQ02_01 xxbob Dear Art,\\n', 'xxeob xxQ02_01\\n', '\\n', 'xxQ03_01 xxbob xxbcet Please proposed pro...</td>\n",
              "    </tr>\n",
              "    <tr>\n",
              "      <th>1</th>\n",
              "      <td>NextPage</td>\n",
              "      <td>['\\n', 'xxQ00_00 xxbob Please let krow if you have any changes for the proposed\\n', 'me\\n', 'program.\\n', 'xxeob xxQ01_03\\n', '\\n', 'xxQ01_00 xxbob Looking forward to seeing you again,\\n', 'xxeob xxQ01_02\\n', '\\n', 'xxQ01_02 xxbob Yours very truly,\\n', '_.\\n', 'xxeob xxQ01_03\\n', '\\n', 'xxQ01_02 xxbob xxbcet    \\n', 'xxecet\\n', 'xxeob xxQ02_03\\n', '\\n', 'xxQ02_02 xxbob .B. Boder\\n', 'xxeob xxQ02_03\\n', '\\n', 'xxQ02_00 xxbob cc: Messrs. B. Kuhn\\n', 'xxbcet E. Stoop\\n', 'xxecet\\n', 'xxeob xxQ02_01\\n', '\\n', 'xxQ02_00 xxbob Encl.: mentioned\\n', 'xxeob xxQ03_01\\n', '\\n', 'xxQ04_01 xxbob we\\n',...</td>\n",
              "    </tr>\n",
              "  </tbody>\n",
              "</table>\n",
              "</div>\n",
              "      <button class=\"colab-df-convert\" onclick=\"convertToInteractive('df-b00eaead-918b-423a-88ae-2cce19de68fd')\"\n",
              "              title=\"Convert this dataframe to an interactive table.\"\n",
              "              style=\"display:none;\">\n",
              "        \n",
              "  <svg xmlns=\"http://www.w3.org/2000/svg\" height=\"24px\"viewBox=\"0 0 24 24\"\n",
              "       width=\"24px\">\n",
              "    <path d=\"M0 0h24v24H0V0z\" fill=\"none\"/>\n",
              "    <path d=\"M18.56 5.44l.94 2.06.94-2.06 2.06-.94-2.06-.94-.94-2.06-.94 2.06-2.06.94zm-11 1L8.5 8.5l.94-2.06 2.06-.94-2.06-.94L8.5 2.5l-.94 2.06-2.06.94zm10 10l.94 2.06.94-2.06 2.06-.94-2.06-.94-.94-2.06-.94 2.06-2.06.94z\"/><path d=\"M17.41 7.96l-1.37-1.37c-.4-.4-.92-.59-1.43-.59-.52 0-1.04.2-1.43.59L10.3 9.45l-7.72 7.72c-.78.78-.78 2.05 0 2.83L4 21.41c.39.39.9.59 1.41.59.51 0 1.02-.2 1.41-.59l7.78-7.78 2.81-2.81c.8-.78.8-2.07 0-2.86zM5.41 20L4 18.59l7.72-7.72 1.47 1.35L5.41 20z\"/>\n",
              "  </svg>\n",
              "      </button>\n",
              "      \n",
              "  <style>\n",
              "    .colab-df-container {\n",
              "      display:flex;\n",
              "      flex-wrap:wrap;\n",
              "      gap: 12px;\n",
              "    }\n",
              "\n",
              "    .colab-df-convert {\n",
              "      background-color: #E8F0FE;\n",
              "      border: none;\n",
              "      border-radius: 50%;\n",
              "      cursor: pointer;\n",
              "      display: none;\n",
              "      fill: #1967D2;\n",
              "      height: 32px;\n",
              "      padding: 0 0 0 0;\n",
              "      width: 32px;\n",
              "    }\n",
              "\n",
              "    .colab-df-convert:hover {\n",
              "      background-color: #E2EBFA;\n",
              "      box-shadow: 0px 1px 2px rgba(60, 64, 67, 0.3), 0px 1px 3px 1px rgba(60, 64, 67, 0.15);\n",
              "      fill: #174EA6;\n",
              "    }\n",
              "\n",
              "    [theme=dark] .colab-df-convert {\n",
              "      background-color: #3B4455;\n",
              "      fill: #D2E3FC;\n",
              "    }\n",
              "\n",
              "    [theme=dark] .colab-df-convert:hover {\n",
              "      background-color: #434B5C;\n",
              "      box-shadow: 0px 1px 3px 1px rgba(0, 0, 0, 0.15);\n",
              "      filter: drop-shadow(0px 1px 2px rgba(0, 0, 0, 0.3));\n",
              "      fill: #FFFFFF;\n",
              "    }\n",
              "  </style>\n",
              "\n",
              "      <script>\n",
              "        const buttonEl =\n",
              "          document.querySelector('#df-b00eaead-918b-423a-88ae-2cce19de68fd button.colab-df-convert');\n",
              "        buttonEl.style.display =\n",
              "          google.colab.kernel.accessAllowed ? 'block' : 'none';\n",
              "\n",
              "        async function convertToInteractive(key) {\n",
              "          const element = document.querySelector('#df-b00eaead-918b-423a-88ae-2cce19de68fd');\n",
              "          const dataTable =\n",
              "            await google.colab.kernel.invokeFunction('convertToInteractive',\n",
              "                                                     [key], {});\n",
              "          if (!dataTable) return;\n",
              "\n",
              "          const docLinkHtml = 'Like what you see? Visit the ' +\n",
              "            '<a target=\"_blank\" href=https://colab.research.google.com/notebooks/data_table.ipynb>data table notebook</a>'\n",
              "            + ' to learn more about interactive tables.';\n",
              "          element.innerHTML = '';\n",
              "          dataTable['output_type'] = 'display_data';\n",
              "          await google.colab.output.renderOutput(dataTable, element);\n",
              "          const docLink = document.createElement('div');\n",
              "          docLink.innerHTML = docLinkHtml;\n",
              "          element.appendChild(docLink);\n",
              "        }\n",
              "      </script>\n",
              "    </div>\n",
              "  </div>\n",
              "  "
            ]
          },
          "metadata": {},
          "execution_count": 48
        }
      ]
    },
    {
      "cell_type": "code",
      "metadata": {
        "id": "mUIsYb_KhWYl",
        "colab": {
          "base_uri": "https://localhost:8080/",
          "height": 265
        },
        "outputId": "7610f0da-6dab-490f-cf20-ec132d91f943"
      },
      "source": [
        "df_test = pd.read_csv(path + 'test_tags.csv', delimiter=',', error_bad_lines=False)\n",
        "df_test = df_test.drop(['text'], axis=1)\n",
        "df_test.head(1)"
      ],
      "execution_count": 8,
      "outputs": [
        {
          "output_type": "stream",
          "name": "stderr",
          "text": [
            "/usr/local/lib/python3.7/dist-packages/IPython/core/interactiveshell.py:2882: FutureWarning: The error_bad_lines argument has been deprecated and will be removed in a future version.\n",
            "\n",
            "\n",
            "  exec(code_obj, self.user_global_ns, self.user_ns)\n"
          ]
        },
        {
          "output_type": "execute_result",
          "data": {
            "text/plain": [
              "       binder       docid      class  \\\n",
              "0  Tobacco800  tkj51f00_1  FirstPage   \n",
              "\n",
              "                                                                                                                                                                                                                                                                                                                                                                                                                                                                                                                                                                                                                 text_tags  \n",
              "0  ['\\n', 'xxQ00_01 xxbob      \\n', 'xxeob xxQ00_02\\n', '\\n', 'xxQ00_01 xxbob h Department\\n', 'xxeob xxQ00_02\\n', '\\n', 'xxQ00_00 xxbob MARCH 26, 1986\\n', 'FILE NOTL\\n', 'xxeob xxQ00_03\\n', '\\n', 'xxQ00_02 xxbob    \\n', 'xxeob xxQ00_03\\n', '\\n', 'xxQ00_02 xxbob Pare}\\n', 'xxeob xxQ00_02\\n', '\\n', 'xxQ00_00 xxbob COMPONERTS/415_& St\\n', 'MATLLARD REACTION “Al! FLAVOR\\n', 'xxeob xxQ00_02\\n', '\\n', 'xxQ00_02 xxbob Fisgert, af Grove AG GALLON Toe lo. 1\\n', 'xxeob xxQ00_03\\n', '\\n', 'xxQ00_00 xxbob the layer of the Mailiare\\n', 'Jdentification of flavor components in aqueous\\n', 'this communicati...  "
            ],
            "text/html": [
              "\n",
              "  <div id=\"df-d83f6bac-590d-4051-ab7d-8cb0108d6888\">\n",
              "    <div class=\"colab-df-container\">\n",
              "      <div>\n",
              "<style scoped>\n",
              "    .dataframe tbody tr th:only-of-type {\n",
              "        vertical-align: middle;\n",
              "    }\n",
              "\n",
              "    .dataframe tbody tr th {\n",
              "        vertical-align: top;\n",
              "    }\n",
              "\n",
              "    .dataframe thead th {\n",
              "        text-align: right;\n",
              "    }\n",
              "</style>\n",
              "<table border=\"1\" class=\"dataframe\">\n",
              "  <thead>\n",
              "    <tr style=\"text-align: right;\">\n",
              "      <th></th>\n",
              "      <th>binder</th>\n",
              "      <th>docid</th>\n",
              "      <th>class</th>\n",
              "      <th>text_tags</th>\n",
              "    </tr>\n",
              "  </thead>\n",
              "  <tbody>\n",
              "    <tr>\n",
              "      <th>0</th>\n",
              "      <td>Tobacco800</td>\n",
              "      <td>tkj51f00_1</td>\n",
              "      <td>FirstPage</td>\n",
              "      <td>['\\n', 'xxQ00_01 xxbob      \\n', 'xxeob xxQ00_02\\n', '\\n', 'xxQ00_01 xxbob h Department\\n', 'xxeob xxQ00_02\\n', '\\n', 'xxQ00_00 xxbob MARCH 26, 1986\\n', 'FILE NOTL\\n', 'xxeob xxQ00_03\\n', '\\n', 'xxQ00_02 xxbob    \\n', 'xxeob xxQ00_03\\n', '\\n', 'xxQ00_02 xxbob Pare}\\n', 'xxeob xxQ00_02\\n', '\\n', 'xxQ00_00 xxbob COMPONERTS/415_&amp; St\\n', 'MATLLARD REACTION “Al! FLAVOR\\n', 'xxeob xxQ00_02\\n', '\\n', 'xxQ00_02 xxbob Fisgert, af Grove AG GALLON Toe lo. 1\\n', 'xxeob xxQ00_03\\n', '\\n', 'xxQ00_00 xxbob the layer of the Mailiare\\n', 'Jdentification of flavor components in aqueous\\n', 'this communicati...</td>\n",
              "    </tr>\n",
              "  </tbody>\n",
              "</table>\n",
              "</div>\n",
              "      <button class=\"colab-df-convert\" onclick=\"convertToInteractive('df-d83f6bac-590d-4051-ab7d-8cb0108d6888')\"\n",
              "              title=\"Convert this dataframe to an interactive table.\"\n",
              "              style=\"display:none;\">\n",
              "        \n",
              "  <svg xmlns=\"http://www.w3.org/2000/svg\" height=\"24px\"viewBox=\"0 0 24 24\"\n",
              "       width=\"24px\">\n",
              "    <path d=\"M0 0h24v24H0V0z\" fill=\"none\"/>\n",
              "    <path d=\"M18.56 5.44l.94 2.06.94-2.06 2.06-.94-2.06-.94-.94-2.06-.94 2.06-2.06.94zm-11 1L8.5 8.5l.94-2.06 2.06-.94-2.06-.94L8.5 2.5l-.94 2.06-2.06.94zm10 10l.94 2.06.94-2.06 2.06-.94-2.06-.94-.94-2.06-.94 2.06-2.06.94z\"/><path d=\"M17.41 7.96l-1.37-1.37c-.4-.4-.92-.59-1.43-.59-.52 0-1.04.2-1.43.59L10.3 9.45l-7.72 7.72c-.78.78-.78 2.05 0 2.83L4 21.41c.39.39.9.59 1.41.59.51 0 1.02-.2 1.41-.59l7.78-7.78 2.81-2.81c.8-.78.8-2.07 0-2.86zM5.41 20L4 18.59l7.72-7.72 1.47 1.35L5.41 20z\"/>\n",
              "  </svg>\n",
              "      </button>\n",
              "      \n",
              "  <style>\n",
              "    .colab-df-container {\n",
              "      display:flex;\n",
              "      flex-wrap:wrap;\n",
              "      gap: 12px;\n",
              "    }\n",
              "\n",
              "    .colab-df-convert {\n",
              "      background-color: #E8F0FE;\n",
              "      border: none;\n",
              "      border-radius: 50%;\n",
              "      cursor: pointer;\n",
              "      display: none;\n",
              "      fill: #1967D2;\n",
              "      height: 32px;\n",
              "      padding: 0 0 0 0;\n",
              "      width: 32px;\n",
              "    }\n",
              "\n",
              "    .colab-df-convert:hover {\n",
              "      background-color: #E2EBFA;\n",
              "      box-shadow: 0px 1px 2px rgba(60, 64, 67, 0.3), 0px 1px 3px 1px rgba(60, 64, 67, 0.15);\n",
              "      fill: #174EA6;\n",
              "    }\n",
              "\n",
              "    [theme=dark] .colab-df-convert {\n",
              "      background-color: #3B4455;\n",
              "      fill: #D2E3FC;\n",
              "    }\n",
              "\n",
              "    [theme=dark] .colab-df-convert:hover {\n",
              "      background-color: #434B5C;\n",
              "      box-shadow: 0px 1px 3px 1px rgba(0, 0, 0, 0.15);\n",
              "      filter: drop-shadow(0px 1px 2px rgba(0, 0, 0, 0.3));\n",
              "      fill: #FFFFFF;\n",
              "    }\n",
              "  </style>\n",
              "\n",
              "      <script>\n",
              "        const buttonEl =\n",
              "          document.querySelector('#df-d83f6bac-590d-4051-ab7d-8cb0108d6888 button.colab-df-convert');\n",
              "        buttonEl.style.display =\n",
              "          google.colab.kernel.accessAllowed ? 'block' : 'none';\n",
              "\n",
              "        async function convertToInteractive(key) {\n",
              "          const element = document.querySelector('#df-d83f6bac-590d-4051-ab7d-8cb0108d6888');\n",
              "          const dataTable =\n",
              "            await google.colab.kernel.invokeFunction('convertToInteractive',\n",
              "                                                     [key], {});\n",
              "          if (!dataTable) return;\n",
              "\n",
              "          const docLinkHtml = 'Like what you see? Visit the ' +\n",
              "            '<a target=\"_blank\" href=https://colab.research.google.com/notebooks/data_table.ipynb>data table notebook</a>'\n",
              "            + ' to learn more about interactive tables.';\n",
              "          element.innerHTML = '';\n",
              "          dataTable['output_type'] = 'display_data';\n",
              "          await google.colab.output.renderOutput(dataTable, element);\n",
              "          const docLink = document.createElement('div');\n",
              "          docLink.innerHTML = docLinkHtml;\n",
              "          element.appendChild(docLink);\n",
              "        }\n",
              "      </script>\n",
              "    </div>\n",
              "  </div>\n",
              "  "
            ]
          },
          "metadata": {},
          "execution_count": 8
        }
      ]
    },
    {
      "cell_type": "code",
      "metadata": {
        "id": "dahU9BCbcJBi",
        "colab": {
          "base_uri": "https://localhost:8080/",
          "height": 177
        },
        "outputId": "d206124d-436e-4451-8de2-eccd3272b5f0"
      },
      "source": [
        "df_test = df_test.drop(columns=['docid','binder'])\n",
        "#df_test = data.drop(columns= 'binder')\n",
        "#unsup = df_test.drop(columns='class')\n",
        "#unsup.head(2)\n",
        "df_test.head(1)"
      ],
      "execution_count": 47,
      "outputs": [
        {
          "output_type": "execute_result",
          "data": {
            "text/plain": [
              "       class  \\\n",
              "0  FirstPage   \n",
              "\n",
              "                                                                                                                                                                                                                                                                                                                                                                                                                                                                                                                                                                                                                 text_tags  \n",
              "0  ['\\n', 'xxQ00_01 xxbob      \\n', 'xxeob xxQ00_02\\n', '\\n', 'xxQ00_01 xxbob h Department\\n', 'xxeob xxQ00_02\\n', '\\n', 'xxQ00_00 xxbob MARCH 26, 1986\\n', 'FILE NOTL\\n', 'xxeob xxQ00_03\\n', '\\n', 'xxQ00_02 xxbob    \\n', 'xxeob xxQ00_03\\n', '\\n', 'xxQ00_02 xxbob Pare}\\n', 'xxeob xxQ00_02\\n', '\\n', 'xxQ00_00 xxbob COMPONERTS/415_& St\\n', 'MATLLARD REACTION “Al! FLAVOR\\n', 'xxeob xxQ00_02\\n', '\\n', 'xxQ00_02 xxbob Fisgert, af Grove AG GALLON Toe lo. 1\\n', 'xxeob xxQ00_03\\n', '\\n', 'xxQ00_00 xxbob the layer of the Mailiare\\n', 'Jdentification of flavor components in aqueous\\n', 'this communicati...  "
            ],
            "text/html": [
              "\n",
              "  <div id=\"df-a6dbc3d3-2612-44e1-9b03-08601f0537df\">\n",
              "    <div class=\"colab-df-container\">\n",
              "      <div>\n",
              "<style scoped>\n",
              "    .dataframe tbody tr th:only-of-type {\n",
              "        vertical-align: middle;\n",
              "    }\n",
              "\n",
              "    .dataframe tbody tr th {\n",
              "        vertical-align: top;\n",
              "    }\n",
              "\n",
              "    .dataframe thead th {\n",
              "        text-align: right;\n",
              "    }\n",
              "</style>\n",
              "<table border=\"1\" class=\"dataframe\">\n",
              "  <thead>\n",
              "    <tr style=\"text-align: right;\">\n",
              "      <th></th>\n",
              "      <th>class</th>\n",
              "      <th>text_tags</th>\n",
              "    </tr>\n",
              "  </thead>\n",
              "  <tbody>\n",
              "    <tr>\n",
              "      <th>0</th>\n",
              "      <td>FirstPage</td>\n",
              "      <td>['\\n', 'xxQ00_01 xxbob      \\n', 'xxeob xxQ00_02\\n', '\\n', 'xxQ00_01 xxbob h Department\\n', 'xxeob xxQ00_02\\n', '\\n', 'xxQ00_00 xxbob MARCH 26, 1986\\n', 'FILE NOTL\\n', 'xxeob xxQ00_03\\n', '\\n', 'xxQ00_02 xxbob    \\n', 'xxeob xxQ00_03\\n', '\\n', 'xxQ00_02 xxbob Pare}\\n', 'xxeob xxQ00_02\\n', '\\n', 'xxQ00_00 xxbob COMPONERTS/415_&amp; St\\n', 'MATLLARD REACTION “Al! FLAVOR\\n', 'xxeob xxQ00_02\\n', '\\n', 'xxQ00_02 xxbob Fisgert, af Grove AG GALLON Toe lo. 1\\n', 'xxeob xxQ00_03\\n', '\\n', 'xxQ00_00 xxbob the layer of the Mailiare\\n', 'Jdentification of flavor components in aqueous\\n', 'this communicati...</td>\n",
              "    </tr>\n",
              "  </tbody>\n",
              "</table>\n",
              "</div>\n",
              "      <button class=\"colab-df-convert\" onclick=\"convertToInteractive('df-a6dbc3d3-2612-44e1-9b03-08601f0537df')\"\n",
              "              title=\"Convert this dataframe to an interactive table.\"\n",
              "              style=\"display:none;\">\n",
              "        \n",
              "  <svg xmlns=\"http://www.w3.org/2000/svg\" height=\"24px\"viewBox=\"0 0 24 24\"\n",
              "       width=\"24px\">\n",
              "    <path d=\"M0 0h24v24H0V0z\" fill=\"none\"/>\n",
              "    <path d=\"M18.56 5.44l.94 2.06.94-2.06 2.06-.94-2.06-.94-.94-2.06-.94 2.06-2.06.94zm-11 1L8.5 8.5l.94-2.06 2.06-.94-2.06-.94L8.5 2.5l-.94 2.06-2.06.94zm10 10l.94 2.06.94-2.06 2.06-.94-2.06-.94-.94-2.06-.94 2.06-2.06.94z\"/><path d=\"M17.41 7.96l-1.37-1.37c-.4-.4-.92-.59-1.43-.59-.52 0-1.04.2-1.43.59L10.3 9.45l-7.72 7.72c-.78.78-.78 2.05 0 2.83L4 21.41c.39.39.9.59 1.41.59.51 0 1.02-.2 1.41-.59l7.78-7.78 2.81-2.81c.8-.78.8-2.07 0-2.86zM5.41 20L4 18.59l7.72-7.72 1.47 1.35L5.41 20z\"/>\n",
              "  </svg>\n",
              "      </button>\n",
              "      \n",
              "  <style>\n",
              "    .colab-df-container {\n",
              "      display:flex;\n",
              "      flex-wrap:wrap;\n",
              "      gap: 12px;\n",
              "    }\n",
              "\n",
              "    .colab-df-convert {\n",
              "      background-color: #E8F0FE;\n",
              "      border: none;\n",
              "      border-radius: 50%;\n",
              "      cursor: pointer;\n",
              "      display: none;\n",
              "      fill: #1967D2;\n",
              "      height: 32px;\n",
              "      padding: 0 0 0 0;\n",
              "      width: 32px;\n",
              "    }\n",
              "\n",
              "    .colab-df-convert:hover {\n",
              "      background-color: #E2EBFA;\n",
              "      box-shadow: 0px 1px 2px rgba(60, 64, 67, 0.3), 0px 1px 3px 1px rgba(60, 64, 67, 0.15);\n",
              "      fill: #174EA6;\n",
              "    }\n",
              "\n",
              "    [theme=dark] .colab-df-convert {\n",
              "      background-color: #3B4455;\n",
              "      fill: #D2E3FC;\n",
              "    }\n",
              "\n",
              "    [theme=dark] .colab-df-convert:hover {\n",
              "      background-color: #434B5C;\n",
              "      box-shadow: 0px 1px 3px 1px rgba(0, 0, 0, 0.15);\n",
              "      filter: drop-shadow(0px 1px 2px rgba(0, 0, 0, 0.3));\n",
              "      fill: #FFFFFF;\n",
              "    }\n",
              "  </style>\n",
              "\n",
              "      <script>\n",
              "        const buttonEl =\n",
              "          document.querySelector('#df-a6dbc3d3-2612-44e1-9b03-08601f0537df button.colab-df-convert');\n",
              "        buttonEl.style.display =\n",
              "          google.colab.kernel.accessAllowed ? 'block' : 'none';\n",
              "\n",
              "        async function convertToInteractive(key) {\n",
              "          const element = document.querySelector('#df-a6dbc3d3-2612-44e1-9b03-08601f0537df');\n",
              "          const dataTable =\n",
              "            await google.colab.kernel.invokeFunction('convertToInteractive',\n",
              "                                                     [key], {});\n",
              "          if (!dataTable) return;\n",
              "\n",
              "          const docLinkHtml = 'Like what you see? Visit the ' +\n",
              "            '<a target=\"_blank\" href=https://colab.research.google.com/notebooks/data_table.ipynb>data table notebook</a>'\n",
              "            + ' to learn more about interactive tables.';\n",
              "          element.innerHTML = '';\n",
              "          dataTable['output_type'] = 'display_data';\n",
              "          await google.colab.output.renderOutput(dataTable, element);\n",
              "          const docLink = document.createElement('div');\n",
              "          docLink.innerHTML = docLinkHtml;\n",
              "          element.appendChild(docLink);\n",
              "        }\n",
              "      </script>\n",
              "    </div>\n",
              "  </div>\n",
              "  "
            ]
          },
          "metadata": {},
          "execution_count": 47
        }
      ]
    },
    {
      "cell_type": "markdown",
      "metadata": {
        "id": "bY4v5mjtPfun"
      },
      "source": [
        "## Create DataLoader"
      ]
    },
    {
      "cell_type": "code",
      "metadata": {
        "id": "vOx33LAtQKY1"
      },
      "source": [
        "def get_features(r):\n",
        "\n",
        "  return r['text']\n",
        "\n",
        "def get_labels(r):\n",
        "\n",
        "  return r['class']"
      ],
      "execution_count": 49,
      "outputs": []
    },
    {
      "cell_type": "code",
      "metadata": {
        "colab": {
          "base_uri": "https://localhost:8080/"
        },
        "id": "stgXmmS-vkK6",
        "outputId": "35e67753-5192-4de1-b543-caa105e90217"
      },
      "source": [
        "df_train.keys()"
      ],
      "execution_count": 50,
      "outputs": [
        {
          "output_type": "execute_result",
          "data": {
            "text/plain": [
              "Index(['class', 'text_tags'], dtype='object')"
            ]
          },
          "metadata": {},
          "execution_count": 50
        }
      ]
    },
    {
      "cell_type": "code",
      "metadata": {
        "colab": {
          "base_uri": "https://localhost:8080/",
          "height": 182
        },
        "id": "v9uaiqMalx0x",
        "outputId": "a317d2a6-c29a-4952-878d-dfd994c4db15"
      },
      "source": [
        "dblock_train = DataBlock(\n",
        "    blocks=(TextBlock.from_df(text_cols=['text_tags', 'class'], seq_len=72), CategoryBlock),\n",
        "            get_x=get_features, \n",
        "            get_y=get_labels)\n",
        "\n",
        "dloader_train = dblock_train.dataloaders(df_train, bs=128)\n",
        "dloader_train.show_batch(max_n=2)"
      ],
      "execution_count": 51,
      "outputs": [
        {
          "output_type": "display_data",
          "data": {
            "text/plain": [
              "<IPython.core.display.HTML object>"
            ],
            "text/html": [
              "\n",
              "<style>\n",
              "    /* Turns off some styling */\n",
              "    progress {\n",
              "        /* gets rid of default border in Firefox and Opera. */\n",
              "        border: none;\n",
              "        /* Needs to be in here for Safari polyfill so background images work as expected. */\n",
              "        background-size: auto;\n",
              "    }\n",
              "    .progress-bar-interrupted, .progress-bar-interrupted::-webkit-progress-bar {\n",
              "        background: #F44336;\n",
              "    }\n",
              "</style>\n"
            ]
          },
          "metadata": {}
        },
        {
          "output_type": "display_data",
          "data": {
            "text/plain": [
              "<IPython.core.display.HTML object>"
            ],
            "text/html": [
              ""
            ]
          },
          "metadata": {}
        },
        {
          "output_type": "display_data",
          "data": {
            "text/plain": [
              "<IPython.core.display.HTML object>"
            ],
            "text/html": [
              "<table border=\"1\" class=\"dataframe\">\n",
              "  <thead>\n",
              "    <tr style=\"text-align: right;\">\n",
              "      <th></th>\n",
              "      <th>text</th>\n",
              "      <th>category</th>\n",
              "    </tr>\n",
              "  </thead>\n",
              "  <tbody>\n",
              "    <tr>\n",
              "      <th>0</th>\n",
              "      <td>xxbos xxfld 1 [ ' \\n ' , ' xxq00_00 xxbob \\n ' , ' xxeob xxq00_00 \\n ' , ' \\n ' , ' xxq00_00 xxbob xxbcet - \\n ' , ' xxecet \\n ' , ' xxunk \\n ' , ' xxeob xxq00_00 \\n ' , ' \\n ' , ' xxq00_00 xxbob \\n ' , ' xxeob xxq00_00 \\n ' , ' \\n ' , ' xxq00_00 xxbob \\n ' , ' xxeob xxq00_01 \\n ' , ' \\n ' , ' xxq00_00 xxbob xxbcet xxmaj the | end xxmaj xxunk t xxmaj content xxmaj of xxmaj one xxmaj hundred \\n ' , ' xxecet \\n ' , ' xxeob xxq00_01 \\n ' , ' \\n ' , ' xxq00_00 xxbob \\n ' , ' xxeob xxq00_01 \\n ' , ' \\n ' , ' xxq00_00 xxbob xxbcet \\n ' , ' xxecet \\n ' , '</td>\n",
              "      <td>NextPage</td>\n",
              "    </tr>\n",
              "    <tr>\n",
              "      <th>1</th>\n",
              "      <td>xxbos xxfld 1 [ ' \\n ' , ' xxq00_00 xxbob xxup lo xxmaj absorbance xxmaj unit xxmaj full xxmaj seale \\n ' , ' at 550 xxmaj dm \\n ' , ' \" po xxup la xxmaj xxunk xxunk xxunk xxmaj abi xxup xxunk \\ ' xxup ant xxrep 3 a xxmaj dy \\n ' , ' xxeob xxq00_01 \\n ' , ' \\n ' , ' xxq00_00 xxbob [ ge \\n ' , ' xxbcet om xxmaj xxunk ia xxunk xxmaj xxunk ni \\n ' , ' xxecet \\n ' , ' pre xxunk xxmaj tet xxup tm ce xxup ct xxup tt xxup tt nat \\n ' , ' he s xxmaj fee et xxrep 3 t xxrep 3 t xxrep 3 t xxup tt at en \\n ' , ' ei i \\n ' , ' foes xxunk xxup ce at xxunk xxup tt xxup tt</td>\n",
              "      <td>NextPage</td>\n",
              "    </tr>\n",
              "  </tbody>\n",
              "</table>"
            ]
          },
          "metadata": {}
        }
      ]
    },
    {
      "cell_type": "markdown",
      "metadata": {
        "id": "MClnyCFIRQsS"
      },
      "source": [
        "## Classification Model"
      ]
    },
    {
      "cell_type": "code",
      "metadata": {
        "id": "RLDNSEnSXZLf"
      },
      "source": [
        "# checkpoint \n",
        "cbs=[SaveModelCallback()]"
      ],
      "execution_count": 52,
      "outputs": []
    },
    {
      "cell_type": "code",
      "source": [
        "now = datetime.today().strftime('%Y-%m-%d-%H:%M:%S')"
      ],
      "metadata": {
        "id": "T1f0E74-ErkW"
      },
      "execution_count": 53,
      "outputs": []
    },
    {
      "cell_type": "code",
      "metadata": {
        "id": "yFi9cVezirz9"
      },
      "source": [
        "learn = text_classifier_learner(dloader_train, \n",
        "                                AWD_LSTM, \n",
        "                                drop_mult=0.5, path='/content/drive/MyDrive/Colab Notebooks/Datasets/Tobacco_LSTM/layout/checkpoints', \n",
        "                                metrics=[error_rate, accuracy, Perplexity()]).to_fp16()"
      ],
      "execution_count": 54,
      "outputs": []
    },
    {
      "cell_type": "code",
      "metadata": {
        "colab": {
          "base_uri": "https://localhost:8080/",
          "height": 239
        },
        "id": "Zo2DlMlnirz-",
        "outputId": "be9cf6b3-9b08-4a9c-8066-6306696b092e"
      },
      "source": [
        "learn.fine_tune(4, 1e-2)"
      ],
      "execution_count": 55,
      "outputs": [
        {
          "output_type": "display_data",
          "data": {
            "text/plain": [
              "<IPython.core.display.HTML object>"
            ],
            "text/html": [
              "\n",
              "<style>\n",
              "    /* Turns off some styling */\n",
              "    progress {\n",
              "        /* gets rid of default border in Firefox and Opera. */\n",
              "        border: none;\n",
              "        /* Needs to be in here for Safari polyfill so background images work as expected. */\n",
              "        background-size: auto;\n",
              "    }\n",
              "    .progress-bar-interrupted, .progress-bar-interrupted::-webkit-progress-bar {\n",
              "        background: #F44336;\n",
              "    }\n",
              "</style>\n"
            ]
          },
          "metadata": {}
        },
        {
          "output_type": "display_data",
          "data": {
            "text/plain": [
              "<IPython.core.display.HTML object>"
            ],
            "text/html": [
              "<table border=\"1\" class=\"dataframe\">\n",
              "  <thead>\n",
              "    <tr style=\"text-align: left;\">\n",
              "      <th>epoch</th>\n",
              "      <th>train_loss</th>\n",
              "      <th>valid_loss</th>\n",
              "      <th>error_rate</th>\n",
              "      <th>accuracy</th>\n",
              "      <th>perplexity</th>\n",
              "      <th>time</th>\n",
              "    </tr>\n",
              "  </thead>\n",
              "  <tbody>\n",
              "    <tr>\n",
              "      <td>0</td>\n",
              "      <td>0.700475</td>\n",
              "      <td>0.640905</td>\n",
              "      <td>0.393204</td>\n",
              "      <td>0.606796</td>\n",
              "      <td>1.898198</td>\n",
              "      <td>00:06</td>\n",
              "    </tr>\n",
              "  </tbody>\n",
              "</table>"
            ]
          },
          "metadata": {}
        },
        {
          "output_type": "display_data",
          "data": {
            "text/plain": [
              "<IPython.core.display.HTML object>"
            ],
            "text/html": [
              "\n",
              "<style>\n",
              "    /* Turns off some styling */\n",
              "    progress {\n",
              "        /* gets rid of default border in Firefox and Opera. */\n",
              "        border: none;\n",
              "        /* Needs to be in here for Safari polyfill so background images work as expected. */\n",
              "        background-size: auto;\n",
              "    }\n",
              "    .progress-bar-interrupted, .progress-bar-interrupted::-webkit-progress-bar {\n",
              "        background: #F44336;\n",
              "    }\n",
              "</style>\n"
            ]
          },
          "metadata": {}
        },
        {
          "output_type": "display_data",
          "data": {
            "text/plain": [
              "<IPython.core.display.HTML object>"
            ],
            "text/html": [
              "<table border=\"1\" class=\"dataframe\">\n",
              "  <thead>\n",
              "    <tr style=\"text-align: left;\">\n",
              "      <th>epoch</th>\n",
              "      <th>train_loss</th>\n",
              "      <th>valid_loss</th>\n",
              "      <th>error_rate</th>\n",
              "      <th>accuracy</th>\n",
              "      <th>perplexity</th>\n",
              "      <th>time</th>\n",
              "    </tr>\n",
              "  </thead>\n",
              "  <tbody>\n",
              "    <tr>\n",
              "      <td>0</td>\n",
              "      <td>0.583446</td>\n",
              "      <td>0.646391</td>\n",
              "      <td>0.388350</td>\n",
              "      <td>0.611650</td>\n",
              "      <td>1.908639</td>\n",
              "      <td>00:13</td>\n",
              "    </tr>\n",
              "    <tr>\n",
              "      <td>1</td>\n",
              "      <td>0.536884</td>\n",
              "      <td>0.618716</td>\n",
              "      <td>0.315534</td>\n",
              "      <td>0.684466</td>\n",
              "      <td>1.856543</td>\n",
              "      <td>00:13</td>\n",
              "    </tr>\n",
              "    <tr>\n",
              "      <td>2</td>\n",
              "      <td>0.497571</td>\n",
              "      <td>0.602451</td>\n",
              "      <td>0.296117</td>\n",
              "      <td>0.703883</td>\n",
              "      <td>1.826591</td>\n",
              "      <td>00:13</td>\n",
              "    </tr>\n",
              "    <tr>\n",
              "      <td>3</td>\n",
              "      <td>0.464319</td>\n",
              "      <td>0.584893</td>\n",
              "      <td>0.262136</td>\n",
              "      <td>0.737864</td>\n",
              "      <td>1.794799</td>\n",
              "      <td>00:13</td>\n",
              "    </tr>\n",
              "  </tbody>\n",
              "</table>"
            ]
          },
          "metadata": {}
        }
      ]
    },
    {
      "cell_type": "code",
      "metadata": {
        "colab": {
          "base_uri": "https://localhost:8080/",
          "height": 766
        },
        "id": "aMYLf9Th5KrZ",
        "outputId": "e4917bcd-cc78-422f-8307-9a5a4e48cae2"
      },
      "source": [
        "learn.show_results()"
      ],
      "execution_count": 56,
      "outputs": [
        {
          "output_type": "display_data",
          "data": {
            "text/plain": [
              "<IPython.core.display.HTML object>"
            ],
            "text/html": [
              "\n",
              "<style>\n",
              "    /* Turns off some styling */\n",
              "    progress {\n",
              "        /* gets rid of default border in Firefox and Opera. */\n",
              "        border: none;\n",
              "        /* Needs to be in here for Safari polyfill so background images work as expected. */\n",
              "        background-size: auto;\n",
              "    }\n",
              "    .progress-bar-interrupted, .progress-bar-interrupted::-webkit-progress-bar {\n",
              "        background: #F44336;\n",
              "    }\n",
              "</style>\n"
            ]
          },
          "metadata": {}
        },
        {
          "output_type": "display_data",
          "data": {
            "text/plain": [
              "<IPython.core.display.HTML object>"
            ],
            "text/html": [
              ""
            ]
          },
          "metadata": {}
        },
        {
          "output_type": "display_data",
          "data": {
            "text/plain": [
              "<IPython.core.display.HTML object>"
            ],
            "text/html": [
              "<table border=\"1\" class=\"dataframe\">\n",
              "  <thead>\n",
              "    <tr style=\"text-align: right;\">\n",
              "      <th></th>\n",
              "      <th>text</th>\n",
              "      <th>category</th>\n",
              "      <th>category_</th>\n",
              "    </tr>\n",
              "  </thead>\n",
              "  <tbody>\n",
              "    <tr>\n",
              "      <th>0</th>\n",
              "      <td>xxbos xxfld 1 [ ' \\n ' , ' xxq00_00 xxbob xxbcet 2202 \\n ' , ' xxecet \\n ' , ' xxeob xxq00_00 \\n ' , ' \\n ' , ' xxq00_00 xxbob \\n ' , ' xxeob xxq00_01 \\n ' , ' \\n ' , ' xxq00_00 xxbob ¢ \\n ' , ' xxeob xxq00_00 \\n ' , ' \\n ' , ' xxq00_00 xxbob { b ) xxmaj whether each applicant has \\n ' , ' xxunk leaders of that group . \\n ' , ' 2 xxmaj to determine with respect to the \\n ' , ' » efforts of xxup po to ascertain the needs of \\n ' , ' its proposed service area : \\n ' , ' ( a ) xxmaj whether the xxunk ! xxunk \\n ' , ' leaders of agriculture and ! xxunk in \\n ' , ' xxunk ,</td>\n",
              "      <td>NextPage</td>\n",
              "      <td>FirstPage</td>\n",
              "    </tr>\n",
              "    <tr>\n",
              "      <th>1</th>\n",
              "      <td>xxbos xxfld 1 [ ' \\n ' , ' xxq00_00 xxbob “ wlrk rightfax xxmaj server 5 / 28 / 99 \\n ' , ' xxeob xxq00_01 \\n ' , ' \\n ' , ' xxq00_01 xxbob 5:12 : xxup page xxunk / 6 \\n ' , ' xxeob xxq00_02 \\n ' , ' \\n ' , ' xxq00_00 xxbob -1 : xxunk xxmaj wilson company : lorillard xxmaj tobacco xxmaj company \\n ' , ' xxeob xxq00_02 \\n ' , ' \\n ' , ' xxq00_00 xxbob xxup martin xxup xxunk \\n ' , ' xxunk 4 . xxup xxunk \\n ' , ' theodore xxup gewertz \\n ' , ' xxunk xxup w. xxup nussbaum \\n ' , ' xxunk xxup d. xxup katcher \\n ' , ' douglas 5 . xxup xxunk \\n ' , ' steven xxup m , xxup barna \\n ' , ' chaim</td>\n",
              "      <td>FirstPage</td>\n",
              "      <td>FirstPage</td>\n",
              "    </tr>\n",
              "    <tr>\n",
              "      <th>2</th>\n",
              "      <td>xxbos xxfld 1 [ ' \\n ' , ' xxq00_00 xxbob xxup martin xxup lipton \\n ' , ' herbert xxup m , xxup wachtell , \\n ' , ' theodore xxup gewertz \\n ' , ' xxunk xxup w. xxup nussbaum \\n ' , ' richard xxup xxunk xxup katcher \\n ' , ' douglas $ . xxup xxunk \\n ' , ' steven xxup m. xxup barna \\n ' , ' chaim xxup j. xxup fortgang \\n ' , ' peter xxup g , xxup canellos \\n ' , ' michael xxup w. xxup schwartz \\n ' , ' allan xxup a. xxup martin \\n ' , ' barry xxup a. xxup bryer \\n ' , ' lawrence xxup b , xxup pedowitz \\n ' , ' rorert @. xxup mazur \\n ' , ' paul xxup xxunk , xxup jr . \\n ' , ' peter xxup</td>\n",
              "      <td>FirstPage</td>\n",
              "      <td>FirstPage</td>\n",
              "    </tr>\n",
              "    <tr>\n",
              "      <th>3</th>\n",
              "      <td>xxbos xxfld 1 [ ' \\n ' , ' xxq00_00 xxbob &amp; \\n ' , ' xxeob xxq00_00 \\n ' , ' \\n ' , ' xxq00_00 xxbob xxup from xxup wachtel xxup lipton xxup rosen xxup matz \\n ' , ' + \\n ' , ' xxeob xxq00_01 \\n ' , ' \\n ' , ' xxq01_00 xxbob xxup martin xxup xxunk , \\n ' , ' xxunk xxup h , xxup wachtell \\n ' , ' xxbcet xxup xxunk xxup xxunk \\n ' , ' xxecet \\n ' , ' bernard xxup w. xxup nussbaum \\n ' , ' xxbcet xxup xxunk xxmaj ds xxup ratcher \\n ' , ' xxecet \\n ' , ' douglas 5 , xxunk \\n ' , ' xxbcet xxup steven xxup m , xxup xxunk \\n ' , ' xxecet \\n ' , ' charles xxup t. xxup xxunk \\n ' ,</td>\n",
              "      <td>FirstPage</td>\n",
              "      <td>FirstPage</td>\n",
              "    </tr>\n",
              "    <tr>\n",
              "      <th>4</th>\n",
              "      <td>xxbos xxfld 1 [ ' \\n ' , ' xxq00_00 xxbob # - xxup wlrk rightfax xxmaj server 5 / 98 \\n ' , ' to : ronald xxmaj xxunk \\n ' , ' xxeob xxq00_01 \\n ' , ' \\n ' , ' xxq00_01 xxbob xxunk : xxup page 3 / 4 en qe \\n ' , ' xxeob xxq00_03 \\n ' , ' \\n ' , ' xxq00_01 xxbob xxup wachtell , xxup lipton , xxup rosen &amp; katz \\n ' , ' xxeob xxq00_02 \\n ' , ' \\n ' , ' xxq00_00 xxbob xxbcet xxup martin xxunk \\n ' , ' xxecet \\n ' , ' herbert xxup m. xxup wachtell \\n ' , ' xxunk xxup xxunk , \\n ' , ' bernard xxup w , xxup nussbaum \\n ' , ' richard © . xxup katcher \\n ' , ' douglas 5 . xxunk</td>\n",
              "      <td>FirstPage</td>\n",
              "      <td>FirstPage</td>\n",
              "    </tr>\n",
              "    <tr>\n",
              "      <th>5</th>\n",
              "      <td>xxbos xxfld 1 [ ' \\n ' , ' xxq00_00 xxbob xxmaj xxunk xxup lt xxmaj oy \\n ' , ' herbert 4 xxup wachtell \\n ' , ' theodore xxup gewertz \\n ' , ' xxunk xxup w. xxup xxunk \\n ' , ' richard o xxup xxunk \\n ' , ' douglas 5 . xxup xxunk \\n ' , ' xxunk xxup mh , xxup xxunk \\n ' , ' xxunk do xxup xxunk \\n ' , ' peter € . xxup xxunk \\n ' , ' michael xxup w , xxup schwartz \\n ' , ' allan &amp; s xxup martin \\n ' , ' barry xxup a - bryer \\n ' , ' lawrence b xxup pedowitz \\n ' , ' robert © . xxup mazur \\n ' , ' paul xxup xxunk , dh , \\n ' , ' peter xxup c. xxup xxunk \\n</td>\n",
              "      <td>NextPage</td>\n",
              "      <td>FirstPage</td>\n",
              "    </tr>\n",
              "    <tr>\n",
              "      <th>6</th>\n",
              "      <td>xxbos xxfld 1 [ ' \\n ' , ' xxq00_00 xxbob xxup xxunk \\n ' , ' xxeob xxq00_00 \\n ' , ' \\n ' , ' xxq00_00 xxbob xxup wlrk rightfax xxmaj server xxunk / 00 xxunk : xxup page xxunk / 68 xxunk \\n ' , ' e @ \\n ' , ' company : \\n ' , ' _ \\n ' , ' xxeob xxq00_02 \\n ' , ' \\n ' , ' xxq00_01 xxbob xxup wachtell , xxup lipton , xxup rosen &amp; xxup katz \\n ' , ' xxeob xxq00_02 \\n ' , ' \\n ' , ' xxq00_00 xxbob xxup martin xxup lipton xxup barbara xxup xxunk xxup xxunk xxup ehrenkranz \\n ' , ' herbert xxup m , xxup wachtell xxup steven a xxup xxunk xxup xxunk xxup s2nd xxup street xxup highael xxup w , xxup xxunk \\n ' , ' xxunk</td>\n",
              "      <td>FirstPage</td>\n",
              "      <td>FirstPage</td>\n",
              "    </tr>\n",
              "    <tr>\n",
              "      <th>7</th>\n",
              "      <td>xxbos xxfld 1 [ ' \\n ' , ' xxq00_02 xxbob xxup actual xxup the \\n ' , ' xxunk xxup xxunk \\n ' , ' xxunk xxup xxunk \\n ' , ' 2 \\n ' , ' company \\n ' , ' xxeob xxq01_03 \\n ' , ' \\n ' , ' xxq00_02 xxbob xxup period \\n ' , ' xxunk : \\n ' , ' xxunk \\n ' , ' 30 , \\n ' , ' 1990 \\n ' , ' xxeob xxq01_02 \\n ' , ' \\n ' , ' xxq01_02 xxbob xxunk xxup xxunk \\n ' , ' xxeob xxq01_02 \\n ' , ' \\n ' , ' xxq03_00 xxbob \\n ' , ' xxeob xxq03_00 \\n ' , ' \\n ' , ' xxq00_02 xxbob xxup xxunk ¥ xxunk - b \\n ' , ' august xxup xxunk \\n ' , ' xxeob xxq01_02 \\n</td>\n",
              "      <td>NextPage</td>\n",
              "      <td>NextPage</td>\n",
              "    </tr>\n",
              "    <tr>\n",
              "      <th>8</th>\n",
              "      <td>xxbos xxfld 1 [ ' \\n ' , ' xxq03_00 xxbob \\n ' , ' xxeob xxq03_00 \\n ' , ' \\n ' , ' xxq03_00 xxbob \\n ' , ' xxeob xxq04_00 \\n ' , ' \\n ' , ' xxq04_00 xxbob \\n ' , ' xxeob xxq04_00 \\n ' , ' \\n ' , ' xxq03_00 xxbob \\n ' , ' xxeob xxq03_01 \\n ' , ' \\n ' , ' xxq05_00 xxbob \\n ' , ' xxeob xxq05_01 \\n ' , ' \\n ' , ' xxq00_00 xxbob \\n ' , ' xxeob xxq01_03 \\n ' , ' \\n ' , ' xxq01_01 xxbob \\n ' , ' \\n ' , ' xxeob xxq01_03 \\n ' , ' \\n ' , ' xxq01_01 xxbob xxmaj the \\n ' , ' public | \\n ' , ' sector \\n ' , ' 22 xxup battery xxup st -</td>\n",
              "      <td>FirstPage</td>\n",
              "      <td>FirstPage</td>\n",
              "    </tr>\n",
              "  </tbody>\n",
              "</table>"
            ]
          },
          "metadata": {}
        }
      ]
    },
    {
      "cell_type": "code",
      "metadata": {
        "colab": {
          "base_uri": "https://localhost:8080/"
        },
        "id": "lETegor95Qh7",
        "outputId": "82933e4a-9829-49a3-bb90-7de3131a04af"
      },
      "source": [
        "learn.save('model_'+ now)"
      ],
      "execution_count": 57,
      "outputs": [
        {
          "output_type": "execute_result",
          "data": {
            "text/plain": [
              "Path('/content/drive/MyDrive/Colab Notebooks/Datasets/Tobacco_LSTM/layout/checkpoints/models/model_2022-03-30-14:43:21.pth')"
            ]
          },
          "metadata": {},
          "execution_count": 57
        }
      ]
    },
    {
      "cell_type": "code",
      "metadata": {
        "id": "_wLLPwel5XeP"
      },
      "source": [
        "# load model\n",
        "learn = learn.load('model_'+ now)"
      ],
      "execution_count": 58,
      "outputs": []
    },
    {
      "cell_type": "code",
      "metadata": {
        "colab": {
          "base_uri": "https://localhost:8080/",
          "height": 363
        },
        "id": "jSHpFTl95hV9",
        "outputId": "91de44f4-fb99-4701-b51d-886aba9548f8"
      },
      "source": [
        "learn.unfreeze()\n",
        "learn.fit_one_cycle(10, 1e-2)"
      ],
      "execution_count": 59,
      "outputs": [
        {
          "output_type": "display_data",
          "data": {
            "text/plain": [
              "<IPython.core.display.HTML object>"
            ],
            "text/html": [
              "\n",
              "<style>\n",
              "    /* Turns off some styling */\n",
              "    progress {\n",
              "        /* gets rid of default border in Firefox and Opera. */\n",
              "        border: none;\n",
              "        /* Needs to be in here for Safari polyfill so background images work as expected. */\n",
              "        background-size: auto;\n",
              "    }\n",
              "    .progress-bar-interrupted, .progress-bar-interrupted::-webkit-progress-bar {\n",
              "        background: #F44336;\n",
              "    }\n",
              "</style>\n"
            ]
          },
          "metadata": {}
        },
        {
          "output_type": "display_data",
          "data": {
            "text/plain": [
              "<IPython.core.display.HTML object>"
            ],
            "text/html": [
              "<table border=\"1\" class=\"dataframe\">\n",
              "  <thead>\n",
              "    <tr style=\"text-align: left;\">\n",
              "      <th>epoch</th>\n",
              "      <th>train_loss</th>\n",
              "      <th>valid_loss</th>\n",
              "      <th>error_rate</th>\n",
              "      <th>accuracy</th>\n",
              "      <th>perplexity</th>\n",
              "      <th>time</th>\n",
              "    </tr>\n",
              "  </thead>\n",
              "  <tbody>\n",
              "    <tr>\n",
              "      <td>0</td>\n",
              "      <td>0.387260</td>\n",
              "      <td>0.589154</td>\n",
              "      <td>0.257282</td>\n",
              "      <td>0.742718</td>\n",
              "      <td>1.802464</td>\n",
              "      <td>00:13</td>\n",
              "    </tr>\n",
              "    <tr>\n",
              "      <td>1</td>\n",
              "      <td>0.328636</td>\n",
              "      <td>0.147704</td>\n",
              "      <td>0.038835</td>\n",
              "      <td>0.961165</td>\n",
              "      <td>1.159169</td>\n",
              "      <td>00:13</td>\n",
              "    </tr>\n",
              "    <tr>\n",
              "      <td>2</td>\n",
              "      <td>0.239800</td>\n",
              "      <td>1.066988</td>\n",
              "      <td>0.325243</td>\n",
              "      <td>0.674757</td>\n",
              "      <td>2.906610</td>\n",
              "      <td>00:13</td>\n",
              "    </tr>\n",
              "    <tr>\n",
              "      <td>3</td>\n",
              "      <td>0.224356</td>\n",
              "      <td>1.064543</td>\n",
              "      <td>0.189320</td>\n",
              "      <td>0.810680</td>\n",
              "      <td>2.899514</td>\n",
              "      <td>00:13</td>\n",
              "    </tr>\n",
              "    <tr>\n",
              "      <td>4</td>\n",
              "      <td>0.204534</td>\n",
              "      <td>0.512410</td>\n",
              "      <td>0.048544</td>\n",
              "      <td>0.951456</td>\n",
              "      <td>1.669310</td>\n",
              "      <td>00:13</td>\n",
              "    </tr>\n",
              "    <tr>\n",
              "      <td>5</td>\n",
              "      <td>0.172377</td>\n",
              "      <td>0.437365</td>\n",
              "      <td>0.053398</td>\n",
              "      <td>0.946602</td>\n",
              "      <td>1.548620</td>\n",
              "      <td>00:13</td>\n",
              "    </tr>\n",
              "    <tr>\n",
              "      <td>6</td>\n",
              "      <td>0.145693</td>\n",
              "      <td>0.453432</td>\n",
              "      <td>0.038835</td>\n",
              "      <td>0.961165</td>\n",
              "      <td>1.573703</td>\n",
              "      <td>00:13</td>\n",
              "    </tr>\n",
              "    <tr>\n",
              "      <td>7</td>\n",
              "      <td>0.123453</td>\n",
              "      <td>0.491208</td>\n",
              "      <td>0.038835</td>\n",
              "      <td>0.961165</td>\n",
              "      <td>1.634289</td>\n",
              "      <td>00:13</td>\n",
              "    </tr>\n",
              "    <tr>\n",
              "      <td>8</td>\n",
              "      <td>0.107056</td>\n",
              "      <td>0.493420</td>\n",
              "      <td>0.038835</td>\n",
              "      <td>0.961165</td>\n",
              "      <td>1.637908</td>\n",
              "      <td>00:13</td>\n",
              "    </tr>\n",
              "    <tr>\n",
              "      <td>9</td>\n",
              "      <td>0.091450</td>\n",
              "      <td>0.503937</td>\n",
              "      <td>0.038835</td>\n",
              "      <td>0.961165</td>\n",
              "      <td>1.655225</td>\n",
              "      <td>00:13</td>\n",
              "    </tr>\n",
              "  </tbody>\n",
              "</table>"
            ]
          },
          "metadata": {}
        }
      ]
    },
    {
      "cell_type": "code",
      "metadata": {
        "colab": {
          "base_uri": "https://localhost:8080/",
          "height": 306
        },
        "id": "vZXPgheW5noB",
        "outputId": "58c46a2d-58ed-47d8-cf38-764bbfa24f8c"
      },
      "source": [
        "learn.unfreeze()\n",
        "learn.lr_find()"
      ],
      "execution_count": 60,
      "outputs": [
        {
          "output_type": "display_data",
          "data": {
            "text/plain": [
              "<IPython.core.display.HTML object>"
            ],
            "text/html": [
              "\n",
              "<style>\n",
              "    /* Turns off some styling */\n",
              "    progress {\n",
              "        /* gets rid of default border in Firefox and Opera. */\n",
              "        border: none;\n",
              "        /* Needs to be in here for Safari polyfill so background images work as expected. */\n",
              "        background-size: auto;\n",
              "    }\n",
              "    .progress-bar-interrupted, .progress-bar-interrupted::-webkit-progress-bar {\n",
              "        background: #F44336;\n",
              "    }\n",
              "</style>\n"
            ]
          },
          "metadata": {}
        },
        {
          "output_type": "display_data",
          "data": {
            "text/plain": [
              "<IPython.core.display.HTML object>"
            ],
            "text/html": [
              ""
            ]
          },
          "metadata": {}
        },
        {
          "output_type": "execute_result",
          "data": {
            "text/plain": [
              "SuggestedLRs(valley=0.0010000000474974513)"
            ]
          },
          "metadata": {},
          "execution_count": 60
        },
        {
          "output_type": "display_data",
          "data": {
            "text/plain": [
              "<Figure size 432x288 with 1 Axes>"
            ],
            "image/png": "[encoded data removed]"
          },
          "metadata": {
            "needs_background": "light"
          }
        }
      ]
    },
    {
      "cell_type": "code",
      "metadata": {
        "id": "U2C_Jnpa51Av"
      },
      "source": [
        "learn_lm = text_classifier_learner(dloader_train, AWD_LSTM, drop_mult=0.5,path='/content/drive/MyDrive/Colab Notebooks/Datasets/Tobacco_LSTM/layout/checkpoints', \n",
        "                                metrics=[error_rate, accuracy, Perplexity()]).to_fp16()"
      ],
      "execution_count": 61,
      "outputs": []
    },
    {
      "cell_type": "code",
      "metadata": {
        "colab": {
          "base_uri": "https://localhost:8080/",
          "height": 427
        },
        "id": "l6sV3HY859r-",
        "outputId": "f7b22b08-18d2-4d6a-8799-35a56ef3756d"
      },
      "source": [
        "learn_lm.fine_tune(10, 1e-2)"
      ],
      "execution_count": 62,
      "outputs": [
        {
          "output_type": "display_data",
          "data": {
            "text/plain": [
              "<IPython.core.display.HTML object>"
            ],
            "text/html": [
              "\n",
              "<style>\n",
              "    /* Turns off some styling */\n",
              "    progress {\n",
              "        /* gets rid of default border in Firefox and Opera. */\n",
              "        border: none;\n",
              "        /* Needs to be in here for Safari polyfill so background images work as expected. */\n",
              "        background-size: auto;\n",
              "    }\n",
              "    .progress-bar-interrupted, .progress-bar-interrupted::-webkit-progress-bar {\n",
              "        background: #F44336;\n",
              "    }\n",
              "</style>\n"
            ]
          },
          "metadata": {}
        },
        {
          "output_type": "display_data",
          "data": {
            "text/plain": [
              "<IPython.core.display.HTML object>"
            ],
            "text/html": [
              "<table border=\"1\" class=\"dataframe\">\n",
              "  <thead>\n",
              "    <tr style=\"text-align: left;\">\n",
              "      <th>epoch</th>\n",
              "      <th>train_loss</th>\n",
              "      <th>valid_loss</th>\n",
              "      <th>error_rate</th>\n",
              "      <th>accuracy</th>\n",
              "      <th>perplexity</th>\n",
              "      <th>time</th>\n",
              "    </tr>\n",
              "  </thead>\n",
              "  <tbody>\n",
              "    <tr>\n",
              "      <td>0</td>\n",
              "      <td>0.676822</td>\n",
              "      <td>0.647516</td>\n",
              "      <td>0.393204</td>\n",
              "      <td>0.606796</td>\n",
              "      <td>1.910788</td>\n",
              "      <td>00:06</td>\n",
              "    </tr>\n",
              "  </tbody>\n",
              "</table>"
            ]
          },
          "metadata": {}
        },
        {
          "output_type": "display_data",
          "data": {
            "text/plain": [
              "<IPython.core.display.HTML object>"
            ],
            "text/html": [
              "\n",
              "<style>\n",
              "    /* Turns off some styling */\n",
              "    progress {\n",
              "        /* gets rid of default border in Firefox and Opera. */\n",
              "        border: none;\n",
              "        /* Needs to be in here for Safari polyfill so background images work as expected. */\n",
              "        background-size: auto;\n",
              "    }\n",
              "    .progress-bar-interrupted, .progress-bar-interrupted::-webkit-progress-bar {\n",
              "        background: #F44336;\n",
              "    }\n",
              "</style>\n"
            ]
          },
          "metadata": {}
        },
        {
          "output_type": "display_data",
          "data": {
            "text/plain": [
              "<IPython.core.display.HTML object>"
            ],
            "text/html": [
              "<table border=\"1\" class=\"dataframe\">\n",
              "  <thead>\n",
              "    <tr style=\"text-align: left;\">\n",
              "      <th>epoch</th>\n",
              "      <th>train_loss</th>\n",
              "      <th>valid_loss</th>\n",
              "      <th>error_rate</th>\n",
              "      <th>accuracy</th>\n",
              "      <th>perplexity</th>\n",
              "      <th>time</th>\n",
              "    </tr>\n",
              "  </thead>\n",
              "  <tbody>\n",
              "    <tr>\n",
              "      <td>0</td>\n",
              "      <td>0.571357</td>\n",
              "      <td>0.629241</td>\n",
              "      <td>0.378641</td>\n",
              "      <td>0.621359</td>\n",
              "      <td>1.876185</td>\n",
              "      <td>00:13</td>\n",
              "    </tr>\n",
              "    <tr>\n",
              "      <td>1</td>\n",
              "      <td>0.542993</td>\n",
              "      <td>0.645148</td>\n",
              "      <td>0.364078</td>\n",
              "      <td>0.635922</td>\n",
              "      <td>1.906269</td>\n",
              "      <td>00:13</td>\n",
              "    </tr>\n",
              "    <tr>\n",
              "      <td>2</td>\n",
              "      <td>0.500130</td>\n",
              "      <td>0.690008</td>\n",
              "      <td>0.359223</td>\n",
              "      <td>0.640777</td>\n",
              "      <td>1.993732</td>\n",
              "      <td>00:13</td>\n",
              "    </tr>\n",
              "    <tr>\n",
              "      <td>3</td>\n",
              "      <td>0.466884</td>\n",
              "      <td>0.623754</td>\n",
              "      <td>0.286408</td>\n",
              "      <td>0.713592</td>\n",
              "      <td>1.865920</td>\n",
              "      <td>00:13</td>\n",
              "    </tr>\n",
              "    <tr>\n",
              "      <td>4</td>\n",
              "      <td>0.439371</td>\n",
              "      <td>0.577185</td>\n",
              "      <td>0.252427</td>\n",
              "      <td>0.747573</td>\n",
              "      <td>1.781018</td>\n",
              "      <td>00:13</td>\n",
              "    </tr>\n",
              "    <tr>\n",
              "      <td>5</td>\n",
              "      <td>0.419648</td>\n",
              "      <td>0.523579</td>\n",
              "      <td>0.189320</td>\n",
              "      <td>0.810680</td>\n",
              "      <td>1.688058</td>\n",
              "      <td>00:13</td>\n",
              "    </tr>\n",
              "    <tr>\n",
              "      <td>6</td>\n",
              "      <td>0.395648</td>\n",
              "      <td>0.646129</td>\n",
              "      <td>0.228155</td>\n",
              "      <td>0.771845</td>\n",
              "      <td>1.908141</td>\n",
              "      <td>00:13</td>\n",
              "    </tr>\n",
              "    <tr>\n",
              "      <td>7</td>\n",
              "      <td>0.373232</td>\n",
              "      <td>0.559417</td>\n",
              "      <td>0.160194</td>\n",
              "      <td>0.839806</td>\n",
              "      <td>1.749652</td>\n",
              "      <td>00:13</td>\n",
              "    </tr>\n",
              "    <tr>\n",
              "      <td>8</td>\n",
              "      <td>0.354712</td>\n",
              "      <td>0.529716</td>\n",
              "      <td>0.155340</td>\n",
              "      <td>0.844660</td>\n",
              "      <td>1.698451</td>\n",
              "      <td>00:13</td>\n",
              "    </tr>\n",
              "    <tr>\n",
              "      <td>9</td>\n",
              "      <td>0.337379</td>\n",
              "      <td>0.530964</td>\n",
              "      <td>0.160194</td>\n",
              "      <td>0.839806</td>\n",
              "      <td>1.700571</td>\n",
              "      <td>00:13</td>\n",
              "    </tr>\n",
              "  </tbody>\n",
              "</table>"
            ]
          },
          "metadata": {}
        }
      ]
    },
    {
      "cell_type": "markdown",
      "metadata": {
        "id": "tBfu7Kcg-tsS"
      },
      "source": [
        "## Validation"
      ]
    },
    {
      "cell_type": "code",
      "metadata": {
        "id": "waKIAp-xE3c7",
        "colab": {
          "base_uri": "https://localhost:8080/",
          "height": 17
        },
        "outputId": "9178b07a-433b-4a62-fcf2-9f28647f120f"
      },
      "source": [
        "# create dataloader of test\n",
        "dblock_test_tags = DataBlock(\n",
        "    blocks=(TextBlock.from_df('text_tags', seq_len=72), CategoryBlock),\n",
        "            get_x=get_features, \n",
        "            get_y=get_labels)\n",
        "\n",
        "dloader_test = dblock_test_tags.dataloaders(df_test, bs=64)"
      ],
      "execution_count": 63,
      "outputs": [
        {
          "output_type": "display_data",
          "data": {
            "text/plain": [
              "<IPython.core.display.HTML object>"
            ],
            "text/html": [
              "\n",
              "<style>\n",
              "    /* Turns off some styling */\n",
              "    progress {\n",
              "        /* gets rid of default border in Firefox and Opera. */\n",
              "        border: none;\n",
              "        /* Needs to be in here for Safari polyfill so background images work as expected. */\n",
              "        background-size: auto;\n",
              "    }\n",
              "    .progress-bar-interrupted, .progress-bar-interrupted::-webkit-progress-bar {\n",
              "        background: #F44336;\n",
              "    }\n",
              "</style>\n"
            ]
          },
          "metadata": {}
        },
        {
          "output_type": "display_data",
          "data": {
            "text/plain": [
              "<IPython.core.display.HTML object>"
            ],
            "text/html": [
              ""
            ]
          },
          "metadata": {}
        }
      ]
    },
    {
      "cell_type": "code",
      "metadata": {
        "colab": {
          "base_uri": "https://localhost:8080/",
          "height": 17
        },
        "id": "zTsct_7BJcEZ",
        "outputId": "7b111cc3-f028-451b-a2ae-4dfc1711bc22"
      },
      "source": [
        "test_dl = dloader_test.test_dl(df_test['text_tags'])\n",
        "preds = learn_lm.get_preds(dl=test_dl, with_decoded=True)"
      ],
      "execution_count": 64,
      "outputs": [
        {
          "output_type": "display_data",
          "data": {
            "text/plain": [
              "<IPython.core.display.HTML object>"
            ],
            "text/html": [
              "\n",
              "<style>\n",
              "    /* Turns off some styling */\n",
              "    progress {\n",
              "        /* gets rid of default border in Firefox and Opera. */\n",
              "        border: none;\n",
              "        /* Needs to be in here for Safari polyfill so background images work as expected. */\n",
              "        background-size: auto;\n",
              "    }\n",
              "    .progress-bar-interrupted, .progress-bar-interrupted::-webkit-progress-bar {\n",
              "        background: #F44336;\n",
              "    }\n",
              "</style>\n"
            ]
          },
          "metadata": {}
        },
        {
          "output_type": "display_data",
          "data": {
            "text/plain": [
              "<IPython.core.display.HTML object>"
            ],
            "text/html": [
              ""
            ]
          },
          "metadata": {}
        }
      ]
    },
    {
      "cell_type": "code",
      "metadata": {
        "colab": {
          "base_uri": "https://localhost:8080/"
        },
        "id": "x54712SoMZBJ",
        "outputId": "a0608a6e-224b-4fe3-bacb-093eb73b55c0"
      },
      "source": [
        "len(preds)"
      ],
      "execution_count": 65,
      "outputs": [
        {
          "output_type": "execute_result",
          "data": {
            "text/plain": [
              "3"
            ]
          },
          "metadata": {},
          "execution_count": 65
        }
      ]
    },
    {
      "cell_type": "code",
      "metadata": {
        "colab": {
          "base_uri": "https://localhost:8080/",
          "height": 327
        },
        "id": "LVRnxpiq_au8",
        "outputId": "4e6cc9c2-bf7e-4184-f7ee-11a246effe0a"
      },
      "source": [
        "interp = ClassificationInterpretation.from_learner(learn_lm)\n",
        "interp.plot_confusion_matrix()\n",
        "learn_lm.validate()"
      ],
      "execution_count": 66,
      "outputs": [
        {
          "output_type": "display_data",
          "data": {
            "text/plain": [
              "<IPython.core.display.HTML object>"
            ],
            "text/html": [
              "\n",
              "<style>\n",
              "    /* Turns off some styling */\n",
              "    progress {\n",
              "        /* gets rid of default border in Firefox and Opera. */\n",
              "        border: none;\n",
              "        /* Needs to be in here for Safari polyfill so background images work as expected. */\n",
              "        background-size: auto;\n",
              "    }\n",
              "    .progress-bar-interrupted, .progress-bar-interrupted::-webkit-progress-bar {\n",
              "        background: #F44336;\n",
              "    }\n",
              "</style>\n"
            ]
          },
          "metadata": {}
        },
        {
          "output_type": "display_data",
          "data": {
            "text/plain": [
              "<IPython.core.display.HTML object>"
            ],
            "text/html": [
              ""
            ]
          },
          "metadata": {}
        },
        {
          "output_type": "display_data",
          "data": {
            "text/plain": [
              "<IPython.core.display.HTML object>"
            ],
            "text/html": [
              "\n",
              "<style>\n",
              "    /* Turns off some styling */\n",
              "    progress {\n",
              "        /* gets rid of default border in Firefox and Opera. */\n",
              "        border: none;\n",
              "        /* Needs to be in here for Safari polyfill so background images work as expected. */\n",
              "        background-size: auto;\n",
              "    }\n",
              "    .progress-bar-interrupted, .progress-bar-interrupted::-webkit-progress-bar {\n",
              "        background: #F44336;\n",
              "    }\n",
              "</style>\n"
            ]
          },
          "metadata": {}
        },
        {
          "output_type": "display_data",
          "data": {
            "text/plain": [
              "<IPython.core.display.HTML object>"
            ],
            "text/html": [
              ""
            ]
          },
          "metadata": {}
        },
        {
          "output_type": "display_data",
          "data": {
            "text/plain": [
              "<IPython.core.display.HTML object>"
            ],
            "text/html": [
              "\n",
              "<style>\n",
              "    /* Turns off some styling */\n",
              "    progress {\n",
              "        /* gets rid of default border in Firefox and Opera. */\n",
              "        border: none;\n",
              "        /* Needs to be in here for Safari polyfill so background images work as expected. */\n",
              "        background-size: auto;\n",
              "    }\n",
              "    .progress-bar-interrupted, .progress-bar-interrupted::-webkit-progress-bar {\n",
              "        background: #F44336;\n",
              "    }\n",
              "</style>\n"
            ]
          },
          "metadata": {}
        },
        {
          "output_type": "display_data",
          "data": {
            "text/plain": [
              "<IPython.core.display.HTML object>"
            ],
            "text/html": [
              ""
            ]
          },
          "metadata": {}
        },
        {
          "output_type": "execute_result",
          "data": {
            "text/plain": [
              "(#4) [0.5309641361236572,0.16019417345523834,0.8398058414459229,1.700571060180664]"
            ]
          },
          "metadata": {},
          "execution_count": 66
        },
        {
          "output_type": "display_data",
          "data": {
            "text/plain": [
              "<Figure size 432x288 with 1 Axes>"
            ],
            "image/png": "[encoded data removed]"
          },
          "metadata": {
            "needs_background": "light"
          }
        }
      ]
    },
    {
      "cell_type": "code",
      "metadata": {
        "id": "BKcBxTsjOCVH",
        "colab": {
          "base_uri": "https://localhost:8080/",
          "height": 17
        },
        "outputId": "df963bae-8e0b-4c0c-bc3e-e0feef057eca"
      },
      "source": [
        "test_dl = dloader_test.test_dl(df_test['text_tags'])\n",
        "preds = learn.get_preds(dl=test_dl, with_decoded=True)"
      ],
      "execution_count": 67,
      "outputs": [
        {
          "output_type": "display_data",
          "data": {
            "text/plain": [
              "<IPython.core.display.HTML object>"
            ],
            "text/html": [
              "\n",
              "<style>\n",
              "    /* Turns off some styling */\n",
              "    progress {\n",
              "        /* gets rid of default border in Firefox and Opera. */\n",
              "        border: none;\n",
              "        /* Needs to be in here for Safari polyfill so background images work as expected. */\n",
              "        background-size: auto;\n",
              "    }\n",
              "    .progress-bar-interrupted, .progress-bar-interrupted::-webkit-progress-bar {\n",
              "        background: #F44336;\n",
              "    }\n",
              "</style>\n"
            ]
          },
          "metadata": {}
        },
        {
          "output_type": "display_data",
          "data": {
            "text/plain": [
              "<IPython.core.display.HTML object>"
            ],
            "text/html": [
              ""
            ]
          },
          "metadata": {}
        }
      ]
    },
    {
      "cell_type": "code",
      "source": [
        "interp = ClassificationInterpretation.from_learner(learn)\n",
        "interp.plot_confusion_matrix(figsize=(4,4), dpi=100)\n",
        "learn.validate()"
      ],
      "metadata": {
        "colab": {
          "base_uri": "https://localhost:8080/",
          "height": 441
        },
        "id": "-iW_rxKpM7wK",
        "outputId": "634fe59d-395b-41f2-b54b-e38b4188cd05"
      },
      "execution_count": 68,
      "outputs": [
        {
          "output_type": "display_data",
          "data": {
            "text/plain": [
              "<IPython.core.display.HTML object>"
            ],
            "text/html": [
              "\n",
              "<style>\n",
              "    /* Turns off some styling */\n",
              "    progress {\n",
              "        /* gets rid of default border in Firefox and Opera. */\n",
              "        border: none;\n",
              "        /* Needs to be in here for Safari polyfill so background images work as expected. */\n",
              "        background-size: auto;\n",
              "    }\n",
              "    .progress-bar-interrupted, .progress-bar-interrupted::-webkit-progress-bar {\n",
              "        background: #F44336;\n",
              "    }\n",
              "</style>\n"
            ]
          },
          "metadata": {}
        },
        {
          "output_type": "display_data",
          "data": {
            "text/plain": [
              "<IPython.core.display.HTML object>"
            ],
            "text/html": [
              ""
            ]
          },
          "metadata": {}
        },
        {
          "output_type": "display_data",
          "data": {
            "text/plain": [
              "<IPython.core.display.HTML object>"
            ],
            "text/html": [
              "\n",
              "<style>\n",
              "    /* Turns off some styling */\n",
              "    progress {\n",
              "        /* gets rid of default border in Firefox and Opera. */\n",
              "        border: none;\n",
              "        /* Needs to be in here for Safari polyfill so background images work as expected. */\n",
              "        background-size: auto;\n",
              "    }\n",
              "    .progress-bar-interrupted, .progress-bar-interrupted::-webkit-progress-bar {\n",
              "        background: #F44336;\n",
              "    }\n",
              "</style>\n"
            ]
          },
          "metadata": {}
        },
        {
          "output_type": "display_data",
          "data": {
            "text/plain": [
              "<IPython.core.display.HTML object>"
            ],
            "text/html": [
              ""
            ]
          },
          "metadata": {}
        },
        {
          "output_type": "display_data",
          "data": {
            "text/plain": [
              "<IPython.core.display.HTML object>"
            ],
            "text/html": [
              "\n",
              "<style>\n",
              "    /* Turns off some styling */\n",
              "    progress {\n",
              "        /* gets rid of default border in Firefox and Opera. */\n",
              "        border: none;\n",
              "        /* Needs to be in here for Safari polyfill so background images work as expected. */\n",
              "        background-size: auto;\n",
              "    }\n",
              "    .progress-bar-interrupted, .progress-bar-interrupted::-webkit-progress-bar {\n",
              "        background: #F44336;\n",
              "    }\n",
              "</style>\n"
            ]
          },
          "metadata": {}
        },
        {
          "output_type": "display_data",
          "data": {
            "text/plain": [
              "<IPython.core.display.HTML object>"
            ],
            "text/html": [
              ""
            ]
          },
          "metadata": {}
        },
        {
          "output_type": "execute_result",
          "data": {
            "text/plain": [
              "(#4) [0.5039367079734802,0.03883494809269905,0.9611650705337524,1.6552245616912842]"
            ]
          },
          "metadata": {},
          "execution_count": 68
        },
        {
          "output_type": "display_data",
          "data": {
            "text/plain": [
              "<Figure size 400x400 with 1 Axes>"
            ],
            "image/png": "[encoded data removed]"
          },
          "metadata": {
            "needs_background": "light"
          }
        }
      ]
    }
  ]
}