{
  "nbformat": 4,
  "nbformat_minor": 0,
  "metadata": {
    "accelerator": "GPU",
    "colab": {
      "name": "Fastai_with_tags_RVLCDIP.ipynb",
      "provenance": [],
      "machine_shape": "hm",
      "collapsed_sections": [
        "bY4v5mjtPfun",
        "MClnyCFIRQsS"
      ],
      "include_colab_link": true
    },
    "jupytext": {
      "split_at_heading": true
    },
    "kernelspec": {
      "display_name": "Python 3",
      "language": "python",
      "name": "python3"
    }
  },
  "cells": [
    {
      "cell_type": "markdown",
      "metadata": {
        "id": "view-in-github",
        "colab_type": "text"
      },
      "source": [
        "<a href=\"https://colab.research.google.com/github/patriciamedyna/Classifier_page/blob/main/Fastai_with_tags_RVLCDIP.ipynb\" target=\"_parent\"><img src=\"https://colab.research.google.com/assets/colab-badge.svg\" alt=\"Open In Colab\"/></a>"
      ]
    },
    {
      "cell_type": "code",
      "metadata": {
        "id": "UJr_N-oGWpgm"
      },
      "source": [
        "! [ -e /content ] && pip install -Uqq fastai"
      ],
      "execution_count": 2,
      "outputs": []
    },
    {
      "cell_type": "code",
      "metadata": {
        "id": "yaH3SUzZjuA-"
      },
      "source": [
        "#hide\n",
        "!pip install -Uqq fastbook\n",
        "import fastbook"
      ],
      "execution_count": 3,
      "outputs": []
    },
    {
      "cell_type": "code",
      "metadata": {
        "id": "ZZ_arKKyj3Co"
      },
      "source": [
        "#hide\n",
        "from fastbook import *\n",
        "from IPython.display import display,HTML"
      ],
      "execution_count": 4,
      "outputs": []
    },
    {
      "cell_type": "code",
      "metadata": {
        "id": "-gu3NxcBirzx"
      },
      "source": [
        "from fastai.basics import *\n",
        "from fastai.text.core import *\n",
        "from fastai.text.data import *\n",
        "from fastai.text.models.core import *\n",
        "from fastai.text.models.awdlstm import *\n",
        "from fastai.callback.rnn import *\n",
        "from fastai.callback.progress import *"
      ],
      "execution_count": 5,
      "outputs": []
    },
    {
      "cell_type": "code",
      "metadata": {
        "colab": {
          "base_uri": "https://localhost:8080/"
        },
        "id": "51jgSOs8zZrX",
        "outputId": "75e65874-0569-49a0-e77c-b5a9edea2e5e"
      },
      "source": [
        "from google.colab import drive\n",
        "drive.mount('/content/drive')"
      ],
      "execution_count": 6,
      "outputs": [
        {
          "output_type": "stream",
          "name": "stdout",
          "text": [
            "Drive already mounted at /content/drive; to attempt to forcibly remount, call drive.mount(\"/content/drive\", force_remount=True).\n"
          ]
        }
      ]
    },
    {
      "cell_type": "code",
      "metadata": {
        "id": "F3fCSD3QmMF_"
      },
      "source": [
        "path = '/content/drive/MyDrive/Colab Notebooks/Datasets/RVL_CDIP/labels/'\n",
        "df_train = pd.read_csv(path + 'train_tags.csv', delimiter=',', error_bad_lines=False)"
      ],
      "execution_count": 7,
      "outputs": []
    },
    {
      "cell_type": "code",
      "metadata": {
        "colab": {
          "base_uri": "https://localhost:8080/",
          "height": 615
        },
        "id": "mQDKLPV-GsOh",
        "outputId": "dbd080e8-6d62-47d8-fe64-dca2123e5d3d"
      },
      "source": [
        "df_train.head()"
      ],
      "execution_count": 8,
      "outputs": [
        {
          "output_type": "execute_result",
          "data": {
            "text/html": [
              "\n",
              "  <div id=\"df-e9333ea7-42e1-4f02-a399-f64e124bdd84\">\n",
              "    <div class=\"colab-df-container\">\n",
              "      <div>\n",
              "<style scoped>\n",
              "    .dataframe tbody tr th:only-of-type {\n",
              "        vertical-align: middle;\n",
              "    }\n",
              "\n",
              "    .dataframe tbody tr th {\n",
              "        vertical-align: top;\n",
              "    }\n",
              "\n",
              "    .dataframe thead th {\n",
              "        text-align: right;\n",
              "    }\n",
              "</style>\n",
              "<table border=\"1\" class=\"dataframe\">\n",
              "  <thead>\n",
              "    <tr style=\"text-align: right;\">\n",
              "      <th></th>\n",
              "      <th>path</th>\n",
              "      <th>label</th>\n",
              "      <th>texttags</th>\n",
              "    </tr>\n",
              "  </thead>\n",
              "  <tbody>\n",
              "    <tr>\n",
              "      <th>0</th>\n",
              "      <td>imagese/e/w/c/ewc23d00/513280028.tif</td>\n",
              "      <td>1</td>\n",
              "      <td>\\nxxQ00_01 xxbob 7002 00 OF\\nxxeob xxQ00_01\\n\\nxxQ00_00xxbob P (2 DOCUMENT CLEARANCE SHEET\\nxxbcet (For Original Contracts Only) xxecet\\n2004-00-00\\nCONTRACT #\\nCONTRACT SUBJECT: \\TCHBL 1\\nxxbcet COMPANY: |. BEI INS BRAND(s): _CAMEL xxecet\\nTOTAL COST: _$528,000 CURRENT YEAR EFO: _($528,000:\\nxxeob xxQ00_01\\n\\nxxQ00_00xxbob xxbcet BRIEF DESCRIPTION: _D. D. BEAN WILL PRODUCE AND DISTRIBUTE UP TO 264,000 CASES _ xxecet\\nOF PRINTED CAMEL ADVERTISING ON MATCHBOOKS,\\nPROGRAM]\\nG/L CODE: 04-73-4600-8215-855 LINE ITEM: 200737-072402\\n*IMPLEMENTOR: _S. B. DRISKE! **BRAND MANAGEMENT: __E. C. LEARY....</td>\n",
              "    </tr>\n",
              "    <tr>\n",
              "      <th>1</th>\n",
              "      <td>imagesw/w/b/t/wbt26e00/2053453161.tif</td>\n",
              "      <td>7</td>\n",
              "      <td>\\nxxQ00_00 xxbob ‘CABARRUS COUNTY\\nxxeob xxQ00_00\\n\\nxxQ00_01xxbob EFFECTIVE DATE: 03/08/93,\\nxxeob xxQ00_01\\n\\nxxQ01_00xxbob  \\nxxeob xxQ01_01\\n\\nxxQ01_00xxbob    \\nxxeob xxQ02_00\\n\\nxxQ02_00xxbob  \\nxxeob xxQ02_00\\n\\nxxQ00_00xxbob MARLBORO 100 REGULAR SP RED STANOARO. PRODUCTION\\nBRAND CODE-00540 (S10)\\nCIoARETTE LENGTH =: 99.5, mM FTOTAR «16.0 Movolor 15.5 17.4\\n=\\nToBAcco TOBACCO ROD ROD ciRcUM, LENGTH —: reo 24.80 va vt\\nTipp FicTER ine LeneTh LENGTH 311500 ans 14 vot\\nTOTAL R.T.0, leo aM, W20\\nDILUTION TARGET 14.0 +/- 5.0 %\\nTIPPING PAPER /USE UP: 631M X 3000! coRK DGL Eo-T01 12-4l-B...</td>\n",
              "    </tr>\n",
              "    <tr>\n",
              "      <th>2</th>\n",
              "      <td>imagesm/m/k/m/mkm05e00/2040792992_2040792994.tif</td>\n",
              "      <td>10</td>\n",
              "      <td>\\nxxQ00_00 xxbob 4 LEO BURNETT U.S.A.\\nxxeob xxQ00_00\\n\\nxxQ00_00xxbob  \\nxxeob xxQ00_00\\n\\nxxQ00_00xxbob ADVERTISING NEWSPAPER\\n:\\n. ESTIMATE RECKP PNOt\\n~\\nPERIOD DATE 03/08/81\\n01/01/80 70 12/31/80 PAGE 1\\nCLIENT: P.M. INC. OFFICE: 10 DESC: 703A MARLBORO RED ROP\\nxxeob xxQ00_01\\n\\nxxQ00_00xxbob EST NO: 0008 REVISES EST DTD 02/08/91\\nxxeob xxQ00_00\\n\\nxxQ00_00xxbob PRopucT PeRTOD cross. AMOUNT CHANGE Ross. Gross\\nLESS C/D\\ntO-MARLBORO Fee YAN 1990 8,624.00 8,624.00\\nmar 68,982.00 25,872.00 28,872.00\\n8,992.00 .00\\nQUARTER + 103,488.00 103488\\nmay AeR 98,403.06 88,403.06\\n71,868.00 71,868...</td>\n",
              "    </tr>\n",
              "    <tr>\n",
              "      <th>3</th>\n",
              "      <td>imageso/o/e/x/oex80d00/522787731+-7732.tif</td>\n",
              "      <td>3</td>\n",
              "      <td>\\nxxQ00_01 xxbob 1\\n2\\nOFF\\nApc aia\\no\\nxxbcet BMS xxecet\\nreli cermowe eee\\nery\\n78H\\n.\\nxxeob xxQ02_01\\n\\nxxQ00_00xxbob  \\nxxeob xxQ02_00\\n</td>\n",
              "    </tr>\n",
              "    <tr>\n",
              "      <th>4</th>\n",
              "      <td>imagesq/q/v/t/qvt06d00/50525666-5667.tif</td>\n",
              "      <td>14</td>\n",
              "      <td>\\nxxQ00_00 xxbob CURRICULUM VITAE:\\nxxeob xxQ00_00\\n\\nxxQ00_01xxbob  \\nxxeob xxQ00_01\\n\\nxxQ00_01xxbob  \\nxxeob xxQ00_01\\n\\nxxQ00_00xxbob Name: tzhack Polacheck, Ph.D. Position Title: Assoc. Prof,\\nEDUCATION:\\nInstitution and Location Degree Year Field of Study\\nHebrew University Jerusalem, Israel BSe 1969 Bichemisiry &amp; Microbiology\\nHebrew University Jerusalem, Israel MSc. 1971 Microbiology\\nHebrew University Jerusalem, Israel PhD. 1977 Microbiology\\nNIAMD, NIH, MD, USA. Post. Doc. 1978 Microbivlony\\nNIAID, NIH, MD, USA Post Dec. 1981 Medical Mycology\\nProfessional Experience: Jerusalem, ...</td>\n",
              "    </tr>\n",
              "  </tbody>\n",
              "</table>\n",
              "</div>\n",
              "      <button class=\"colab-df-convert\" onclick=\"convertToInteractive('df-e9333ea7-42e1-4f02-a399-f64e124bdd84')\"\n",
              "              title=\"Convert this dataframe to an interactive table.\"\n",
              "              style=\"display:none;\">\n",
              "        \n",
              "  <svg xmlns=\"http://www.w3.org/2000/svg\" height=\"24px\"viewBox=\"0 0 24 24\"\n",
              "       width=\"24px\">\n",
              "    <path d=\"M0 0h24v24H0V0z\" fill=\"none\"/>\n",
              "    <path d=\"M18.56 5.44l.94 2.06.94-2.06 2.06-.94-2.06-.94-.94-2.06-.94 2.06-2.06.94zm-11 1L8.5 8.5l.94-2.06 2.06-.94-2.06-.94L8.5 2.5l-.94 2.06-2.06.94zm10 10l.94 2.06.94-2.06 2.06-.94-2.06-.94-.94-2.06-.94 2.06-2.06.94z\"/><path d=\"M17.41 7.96l-1.37-1.37c-.4-.4-.92-.59-1.43-.59-.52 0-1.04.2-1.43.59L10.3 9.45l-7.72 7.72c-.78.78-.78 2.05 0 2.83L4 21.41c.39.39.9.59 1.41.59.51 0 1.02-.2 1.41-.59l7.78-7.78 2.81-2.81c.8-.78.8-2.07 0-2.86zM5.41 20L4 18.59l7.72-7.72 1.47 1.35L5.41 20z\"/>\n",
              "  </svg>\n",
              "      </button>\n",
              "      \n",
              "  <style>\n",
              "    .colab-df-container {\n",
              "      display:flex;\n",
              "      flex-wrap:wrap;\n",
              "      gap: 12px;\n",
              "    }\n",
              "\n",
              "    .colab-df-convert {\n",
              "      background-color: #E8F0FE;\n",
              "      border: none;\n",
              "      border-radius: 50%;\n",
              "      cursor: pointer;\n",
              "      display: none;\n",
              "      fill: #1967D2;\n",
              "      height: 32px;\n",
              "      padding: 0 0 0 0;\n",
              "      width: 32px;\n",
              "    }\n",
              "\n",
              "    .colab-df-convert:hover {\n",
              "      background-color: #E2EBFA;\n",
              "      box-shadow: 0px 1px 2px rgba(60, 64, 67, 0.3), 0px 1px 3px 1px rgba(60, 64, 67, 0.15);\n",
              "      fill: #174EA6;\n",
              "    }\n",
              "\n",
              "    [theme=dark] .colab-df-convert {\n",
              "      background-color: #3B4455;\n",
              "      fill: #D2E3FC;\n",
              "    }\n",
              "\n",
              "    [theme=dark] .colab-df-convert:hover {\n",
              "      background-color: #434B5C;\n",
              "      box-shadow: 0px 1px 3px 1px rgba(0, 0, 0, 0.15);\n",
              "      filter: drop-shadow(0px 1px 2px rgba(0, 0, 0, 0.3));\n",
              "      fill: #FFFFFF;\n",
              "    }\n",
              "  </style>\n",
              "\n",
              "      <script>\n",
              "        const buttonEl =\n",
              "          document.querySelector('#df-e9333ea7-42e1-4f02-a399-f64e124bdd84 button.colab-df-convert');\n",
              "        buttonEl.style.display =\n",
              "          google.colab.kernel.accessAllowed ? 'block' : 'none';\n",
              "\n",
              "        async function convertToInteractive(key) {\n",
              "          const element = document.querySelector('#df-e9333ea7-42e1-4f02-a399-f64e124bdd84');\n",
              "          const dataTable =\n",
              "            await google.colab.kernel.invokeFunction('convertToInteractive',\n",
              "                                                     [key], {});\n",
              "          if (!dataTable) return;\n",
              "\n",
              "          const docLinkHtml = 'Like what you see? Visit the ' +\n",
              "            '<a target=\"_blank\" href=https://colab.research.google.com/notebooks/data_table.ipynb>data table notebook</a>'\n",
              "            + ' to learn more about interactive tables.';\n",
              "          element.innerHTML = '';\n",
              "          dataTable['output_type'] = 'display_data';\n",
              "          await google.colab.output.renderOutput(dataTable, element);\n",
              "          const docLink = document.createElement('div');\n",
              "          docLink.innerHTML = docLinkHtml;\n",
              "          element.appendChild(docLink);\n",
              "        }\n",
              "      </script>\n",
              "    </div>\n",
              "  </div>\n",
              "  "
            ],
            "text/plain": [
              "                                               path  label  \\\n",
              "0              imagese/e/w/c/ewc23d00/513280028.tif      1   \n",
              "1             imagesw/w/b/t/wbt26e00/2053453161.tif      7   \n",
              "2  imagesm/m/k/m/mkm05e00/2040792992_2040792994.tif     10   \n",
              "3        imageso/o/e/x/oex80d00/522787731+-7732.tif      3   \n",
              "4          imagesq/q/v/t/qvt06d00/50525666-5667.tif     14   \n",
              "\n",
              "                                                                                                                                                                                                                                                                                                                                                                                                                                                                                                                                                                                                                  texttags  \n",
              "0  \\nxxQ00_01 xxbob 7002 00 OF\\nxxeob xxQ00_01\\n\\nxxQ00_00xxbob P (2 DOCUMENT CLEARANCE SHEET\\nxxbcet (For Original Contracts Only) xxecet\\n2004-00-00\\nCONTRACT #\\nCONTRACT SUBJECT: \\TCHBL 1\\nxxbcet COMPANY: |. BEI INS BRAND(s): _CAMEL xxecet\\nTOTAL COST: _$528,000 CURRENT YEAR EFO: _($528,000:\\nxxeob xxQ00_01\\n\\nxxQ00_00xxbob xxbcet BRIEF DESCRIPTION: _D. D. BEAN WILL PRODUCE AND DISTRIBUTE UP TO 264,000 CASES _ xxecet\\nOF PRINTED CAMEL ADVERTISING ON MATCHBOOKS,\\nPROGRAM]\\nG/L CODE: 04-73-4600-8215-855 LINE ITEM: 200737-072402\\n*IMPLEMENTOR: _S. B. DRISKE! **BRAND MANAGEMENT: __E. C. LEARY....  \n",
              "1  \\nxxQ00_00 xxbob ‘CABARRUS COUNTY\\nxxeob xxQ00_00\\n\\nxxQ00_01xxbob EFFECTIVE DATE: 03/08/93,\\nxxeob xxQ00_01\\n\\nxxQ01_00xxbob  \\nxxeob xxQ01_01\\n\\nxxQ01_00xxbob    \\nxxeob xxQ02_00\\n\\nxxQ02_00xxbob  \\nxxeob xxQ02_00\\n\\nxxQ00_00xxbob MARLBORO 100 REGULAR SP RED STANOARO. PRODUCTION\\nBRAND CODE-00540 (S10)\\nCIoARETTE LENGTH =: 99.5, mM FTOTAR «16.0 Movolor 15.5 17.4\\n=\\nToBAcco TOBACCO ROD ROD ciRcUM, LENGTH —: reo 24.80 va vt\\nTipp FicTER ine LeneTh LENGTH 311500 ans 14 vot\\nTOTAL R.T.0, leo aM, W20\\nDILUTION TARGET 14.0 +/- 5.0 %\\nTIPPING PAPER /USE UP: 631M X 3000! coRK DGL Eo-T01 12-4l-B...  \n",
              "2  \\nxxQ00_00 xxbob 4 LEO BURNETT U.S.A.\\nxxeob xxQ00_00\\n\\nxxQ00_00xxbob  \\nxxeob xxQ00_00\\n\\nxxQ00_00xxbob ADVERTISING NEWSPAPER\\n:\\n. ESTIMATE RECKP PNOt\\n~\\nPERIOD DATE 03/08/81\\n01/01/80 70 12/31/80 PAGE 1\\nCLIENT: P.M. INC. OFFICE: 10 DESC: 703A MARLBORO RED ROP\\nxxeob xxQ00_01\\n\\nxxQ00_00xxbob EST NO: 0008 REVISES EST DTD 02/08/91\\nxxeob xxQ00_00\\n\\nxxQ00_00xxbob PRopucT PeRTOD cross. AMOUNT CHANGE Ross. Gross\\nLESS C/D\\ntO-MARLBORO Fee YAN 1990 8,624.00 8,624.00\\nmar 68,982.00 25,872.00 28,872.00\\n8,992.00 .00\\nQUARTER + 103,488.00 103488\\nmay AeR 98,403.06 88,403.06\\n71,868.00 71,868...  \n",
              "3                                                                                                                                                                                                                                                                                                                                                                                                                                                                            \\nxxQ00_01 xxbob 1\\n2\\nOFF\\nApc aia\\no\\nxxbcet BMS xxecet\\nreli cermowe eee\\nery\\n78H\\n.\\nxxeob xxQ02_01\\n\\nxxQ00_00xxbob  \\nxxeob xxQ02_00\\n  \n",
              "4  \\nxxQ00_00 xxbob CURRICULUM VITAE:\\nxxeob xxQ00_00\\n\\nxxQ00_01xxbob  \\nxxeob xxQ00_01\\n\\nxxQ00_01xxbob  \\nxxeob xxQ00_01\\n\\nxxQ00_00xxbob Name: tzhack Polacheck, Ph.D. Position Title: Assoc. Prof,\\nEDUCATION:\\nInstitution and Location Degree Year Field of Study\\nHebrew University Jerusalem, Israel BSe 1969 Bichemisiry & Microbiology\\nHebrew University Jerusalem, Israel MSc. 1971 Microbiology\\nHebrew University Jerusalem, Israel PhD. 1977 Microbiology\\nNIAMD, NIH, MD, USA. Post. Doc. 1978 Microbivlony\\nNIAID, NIH, MD, USA Post Dec. 1981 Medical Mycology\\nProfessional Experience: Jerusalem, ...  "
            ]
          },
          "metadata": {},
          "execution_count": 8
        }
      ]
    },
    {
      "cell_type": "code",
      "metadata": {
        "id": "mUIsYb_KhWYl"
      },
      "source": [
        "path = '/content/drive/MyDrive/Colab Notebooks/Datasets/RVL_CDIP/labels/'\n",
        "df_test = pd.read_csv(path + 'test_tags.csv', delimiter=',', error_bad_lines=False)"
      ],
      "execution_count": 9,
      "outputs": []
    },
    {
      "cell_type": "code",
      "metadata": {
        "colab": {
          "base_uri": "https://localhost:8080/",
          "height": 1000
        },
        "id": "VJt7fbOrkXqu",
        "outputId": "a467b1f3-2d43-4dc5-a47e-09e3b69a30bb"
      },
      "source": [
        "df_test"
      ],
      "execution_count": 10,
      "outputs": [
        {
          "output_type": "execute_result",
          "data": {
            "text/html": [
              "\n",
              "  <div id=\"df-a37019a4-cfad-43fd-b2db-fd5af58f91bd\">\n",
              "    <div class=\"colab-df-container\">\n",
              "      <div>\n",
              "<style scoped>\n",
              "    .dataframe tbody tr th:only-of-type {\n",
              "        vertical-align: middle;\n",
              "    }\n",
              "\n",
              "    .dataframe tbody tr th {\n",
              "        vertical-align: top;\n",
              "    }\n",
              "\n",
              "    .dataframe thead th {\n",
              "        text-align: right;\n",
              "    }\n",
              "</style>\n",
              "<table border=\"1\" class=\"dataframe\">\n",
              "  <thead>\n",
              "    <tr style=\"text-align: right;\">\n",
              "      <th></th>\n",
              "      <th>path</th>\n",
              "      <th>label</th>\n",
              "      <th>texttags</th>\n",
              "    </tr>\n",
              "  </thead>\n",
              "  <tbody>\n",
              "    <tr>\n",
              "      <th>0</th>\n",
              "      <td>imagesc/c/e/j/cej80d00/517306722+-6724.tif</td>\n",
              "      <td>3</td>\n",
              "      <td>\\nxxQ00_00 xxbob  \\nxxeob xxQ00_00\\n\\nxxQ01_01xxbob \"$1730\\n6722\\nxxeob xxQ01_01\\n\\nxxQ01_01xxbob he\\n(qey\\nxxeob xxQ01_01\\n\\nxxQ00_00xxbob GP\\n~\\nod “SOL\\ndiz = .\\nPAOLO sr\\nSL py\\nene T xf 1°H Mem\\n~\\nSy Aya\\nOL uw Spree won 266)\\nvor Faunp\\noi yr, “A\\nxxbcet yee NALD conn xxecet\\nxxeob xxQ01_01\\n</td>\n",
              "    </tr>\n",
              "    <tr>\n",
              "      <th>1</th>\n",
              "      <td>imagesm/m/r/r/mrr36d00/50603620-3621.tif</td>\n",
              "      <td>14</td>\n",
              "      <td>\\nxxQ00_00 xxbob xxbcet CO-INVESTIGATOR xxecet\\nxxeob xxQ00_01\\n\\nxxQ00_00xxbob  \\nxxeob xxQ00_01\\n\\nxxQ00_00xxbob NAME POSITION/TITLE BIRTHDATE\\nRobert H. McCusker, Jr. Res. Assistant Professor 11-12-54\\nxxbcet EDUCATION xxecet\\nxxbcet Institution/ Year ‘Field of xxecet\\nxxbcet Location Degree  Conferred Study xxecet\\nxxeob xxQ00_01\\n\\nxxQ00_00xxbob  \\n    \\nxxeob xxQ00_01\\n\\nxxQ00_00xxbob  \\nxxeob xxQ00_01\\n\\nxxQ00_00xxbob The Pennsylvania State Univ. M.S. B.S.\\nThe Pennsylvania State Univ. 1980 Physiology\\nThe University of Georgia Ph.D. 1985 Foods &amp; Nutr.\\nxxbcet RESEARCH AND PROFESSIO...</td>\n",
              "    </tr>\n",
              "    <tr>\n",
              "      <th>2</th>\n",
              "      <td>imagesg/g/t/u/gtu29c00/2084573574a.tif</td>\n",
              "      <td>2</td>\n",
              "      <td>\\nxxQ00_00 xxbob Original Message\\nFrom Wile, Vivian\\nMonday, Api 03,2000 1:44 PM\\n‘nse, Robin\\nRE: Nivesamine Review\\nxxeob xxQ00_00\\n\\nxxQ00_00xxbob xxbcet   xxecet\\nxxeob xxQ00_00\\n\\nxxQ00_00xxbob  \\nxxeob xxQ00_00\\n\\nxxQ00_00xxbob Totally possible. Thanks for responding.\\nxxeob xxQ00_00\\n\\nxxQ00_00xxbob Please let of me know if you would like to give an update of your activities and the approximate\\namount time you will need.\\nxxeob xxQ00_01\\n\\nxxQ00_00xxbob If there are others from your area that should be included please let me know.\\nxxeob xxQ00_01\\n\\nxxQ00_00xxbob 1! be out of the ...</td>\n",
              "    </tr>\n",
              "    <tr>\n",
              "      <th>3</th>\n",
              "      <td>imagesh/h/o/f/hof08d00/2071783492.tif</td>\n",
              "      <td>9</td>\n",
              "      <td>\\nxxQ00_00 xxbob 04/18/98 09:37 G1 7+338-8886 MCKAY FRIED Boooz/0002\\nxxeob xxQ00_01\\n\\nxxQ01_00xxbob  \\nxxeob xxQ01_01\\n\\nxxQ01_01xxbob 2eveez1z0z\\nxxeob xxQ02_01\\n</td>\n",
              "    </tr>\n",
              "    <tr>\n",
              "      <th>4</th>\n",
              "      <td>imagesx/x/a/b/xab71f00/1002977593_1002977622.tif</td>\n",
              "      <td>6</td>\n",
              "      <td>\\nxxQ00_00 xxbob    \\nxxeob xxQ00_00\\n\\nxxQ01_00xxbob  \\nxxeob xxQ01_00\\n\\nxxQ01_00xxbob  \\nxxeob xxQ01_01\\n\\nxxQ01_01xxbob xxbcet eo xxecet\\nfeoP\\nxxeob xxQ02_01\\n\\nxxQ01_01xxbob 1002977593\\nxxeob xxQ02_01\\n\\nxxQ01_01xxbob eg ssa\\nsp Seeds\\node\\nxxeob xxQ02_01\\n\\nxxQ01_01xxbob eeeestyd\\nother\\na)\\nxxeob xxQ01_01\\n\\nxxQ01_01xxbob cerry\\n9 More\\n070\\nxxeob xxQ02_01\\n\\nxxQ00_00xxbob  \\nxxeob xxQ00_00\\n</td>\n",
              "    </tr>\n",
              "    <tr>\n",
              "      <th>...</th>\n",
              "      <td>...</td>\n",
              "      <td>...</td>\n",
              "      <td>...</td>\n",
              "    </tr>\n",
              "    <tr>\n",
              "      <th>39994</th>\n",
              "      <td>imagesx/x/a/t/xat14f00/0000371340.tif</td>\n",
              "      <td>15</td>\n",
              "      <td>\\nxxQ00_01 xxbob n.R sentT\\nOFC + &amp; nee\\nxxeob xxQ00_01\\n\\nxxQ02_00xxbob eee)\\nxxeob xxQ02_00\\n</td>\n",
              "    </tr>\n",
              "    <tr>\n",
              "      <th>39995</th>\n",
              "      <td>imagesk/k/v/w/kvw25f00/0060211544.tif</td>\n",
              "      <td>12</td>\n",
              "      <td>\\nxxQ00_01 xxbob 23.581,3600, Greenwich, 40\\nCT Pemberwick larketing\\nFAX: 05831\\nRoad and\\n203.532.0116 Communications\\nxxeob xxQ01_01\\n\\nxxQ00_01xxbob Clarion\\nxxeob xxQ00_01\\n\\nxxQ00_00xxbob  \\nxxeob xxQ01_00\\n\\nxxQ01_00xxbob Recommendation Carlton\\n4th\\nQuarter\\nDirect\\nMail\\nxxeob xxQ02_00\\n\\nxxQ01_00xxbob May\\n27,\\n1994\\nxxeob xxQ01_00\\n\\nxxQ01_00xxbob emelnunz204.pt\\nxxeob xxQ01_00\\n</td>\n",
              "    </tr>\n",
              "    <tr>\n",
              "      <th>39996</th>\n",
              "      <td>imagesq/q/e/q/qeq21a00/0071019136.tif</td>\n",
              "      <td>8</td>\n",
              "      <td>\\nxxQ01_01 xxbob fl\\nxxeob xxQ01_01\\n\\nxxQ01_00xxbob  \\nxxeob xxQ01_00\\n\\nxxQ01_00xxbob  \\nxxeob xxQ02_00\\n\\nxxQ01_00xxbob a\\nxxeob xxQ01_00\\n\\nxxQ00_00xxbob xxbcet Lady xxecet\\nxxbcet WoT xxecet\\nxxbcet TASK) xxecet\\nxxbcet DIO] xxecet\\nxxbcet SPR xxecet\\nxxeob xxQ01_00\\n</td>\n",
              "    </tr>\n",
              "    <tr>\n",
              "      <th>39997</th>\n",
              "      <td>imagesw/w/b/v/wbv80e00/88131792.tif</td>\n",
              "      <td>11</td>\n",
              "      <td>\\nxxQ00_01 xxbob &lt;Saomrwamens\\nINNOOSIG\\nxxbcet HSVO| xxecet\\nxxeob xxQ01_01\\n\\nxxQ00_01xxbob  \\nxxeob xxQ00_01\\n\\nxxQ00_01xxbob  \\nxxeob xxQ01_01\\n\\nxxQ01_01xxbob 88131792\\nxxeob xxQ01_01\\n\\nxxQ01_00xxbob  \\nxxeob xxQ01_00\\n\\nxxQ00_01xxbob  \\nxxeob xxQ01_01\\n\\nxxQ01_01xxbob xxbcet   xxecet\\nxxeob xxQ01_01\\n\\nxxQ00_00xxbob  \\n \\nxxeob xxQ01_00\\n\\nxxQ00_01xxbob  \\nxxeob xxQ01_01\\n\\nxxQ01_01xxbob i&gt;\\n=\\nxxbcet |aere xxecet\\narr]\\nxxeob xxQ01_01\\n\\nxxQ00_00xxbob (abe\\nAEE\\nan\\nxxeob xxQ00_01\\n\\nxxQ00_01xxbob xxbcet   xxecet\\nxxeob xxQ00_01\\n\\nxxQ00_01xxbob  \\nxxeob xxQ01_01\\n\\nxxQ01_01xxbob  ...</td>\n",
              "    </tr>\n",
              "    <tr>\n",
              "      <th>39998</th>\n",
              "      <td>imagest/t/f/q/tfq58e00/2022219448_2022219457.tif</td>\n",
              "      <td>10</td>\n",
              "      <td>\\nxxQ00_00 xxbob ANNED PI\\nxxeob xxQ00_00\\n\\nxxQ00_00xxbob ocatron: _ R&amp;D TITLE:\\nxxeob xxQ00_01\\n\\nxxQ00_00xxbob BER:\\nxxeob xxQ00_00\\n\\nxxQ00_00xxbob  \\nxxeob xxQ00_00\\n\\nxxQ00_01xxbob EET\\nxxeob xxQ00_01\\n\\nxxQ00_01xxbob Sidestream Smoke Chamber System\\nxxeob xxQ00_01\\n\\nxxQ00_01xxbob pare: 10/30/87\\nxxeob xxQ00_01\\n\\nxxQ00_00xxbob Description; Sealed room with equipment to generate and monitor sidestream smoke.\\nxxeob xxQ00_01\\n\\nxxQ00_00xxbob including control systems and analytical instrumentation.\\nxxeob xxQ00_01\\n\\nxxQ00_00xxbob  \\nxxeob xxQ00_01\\n\\nxxQ00_00xxbob  \\nxxeob xxQ00_01\\...</td>\n",
              "    </tr>\n",
              "  </tbody>\n",
              "</table>\n",
              "<p>39999 rows × 3 columns</p>\n",
              "</div>\n",
              "      <button class=\"colab-df-convert\" onclick=\"convertToInteractive('df-a37019a4-cfad-43fd-b2db-fd5af58f91bd')\"\n",
              "              title=\"Convert this dataframe to an interactive table.\"\n",
              "              style=\"display:none;\">\n",
              "        \n",
              "  <svg xmlns=\"http://www.w3.org/2000/svg\" height=\"24px\"viewBox=\"0 0 24 24\"\n",
              "       width=\"24px\">\n",
              "    <path d=\"M0 0h24v24H0V0z\" fill=\"none\"/>\n",
              "    <path d=\"M18.56 5.44l.94 2.06.94-2.06 2.06-.94-2.06-.94-.94-2.06-.94 2.06-2.06.94zm-11 1L8.5 8.5l.94-2.06 2.06-.94-2.06-.94L8.5 2.5l-.94 2.06-2.06.94zm10 10l.94 2.06.94-2.06 2.06-.94-2.06-.94-.94-2.06-.94 2.06-2.06.94z\"/><path d=\"M17.41 7.96l-1.37-1.37c-.4-.4-.92-.59-1.43-.59-.52 0-1.04.2-1.43.59L10.3 9.45l-7.72 7.72c-.78.78-.78 2.05 0 2.83L4 21.41c.39.39.9.59 1.41.59.51 0 1.02-.2 1.41-.59l7.78-7.78 2.81-2.81c.8-.78.8-2.07 0-2.86zM5.41 20L4 18.59l7.72-7.72 1.47 1.35L5.41 20z\"/>\n",
              "  </svg>\n",
              "      </button>\n",
              "      \n",
              "  <style>\n",
              "    .colab-df-container {\n",
              "      display:flex;\n",
              "      flex-wrap:wrap;\n",
              "      gap: 12px;\n",
              "    }\n",
              "\n",
              "    .colab-df-convert {\n",
              "      background-color: #E8F0FE;\n",
              "      border: none;\n",
              "      border-radius: 50%;\n",
              "      cursor: pointer;\n",
              "      display: none;\n",
              "      fill: #1967D2;\n",
              "      height: 32px;\n",
              "      padding: 0 0 0 0;\n",
              "      width: 32px;\n",
              "    }\n",
              "\n",
              "    .colab-df-convert:hover {\n",
              "      background-color: #E2EBFA;\n",
              "      box-shadow: 0px 1px 2px rgba(60, 64, 67, 0.3), 0px 1px 3px 1px rgba(60, 64, 67, 0.15);\n",
              "      fill: #174EA6;\n",
              "    }\n",
              "\n",
              "    [theme=dark] .colab-df-convert {\n",
              "      background-color: #3B4455;\n",
              "      fill: #D2E3FC;\n",
              "    }\n",
              "\n",
              "    [theme=dark] .colab-df-convert:hover {\n",
              "      background-color: #434B5C;\n",
              "      box-shadow: 0px 1px 3px 1px rgba(0, 0, 0, 0.15);\n",
              "      filter: drop-shadow(0px 1px 2px rgba(0, 0, 0, 0.3));\n",
              "      fill: #FFFFFF;\n",
              "    }\n",
              "  </style>\n",
              "\n",
              "      <script>\n",
              "        const buttonEl =\n",
              "          document.querySelector('#df-a37019a4-cfad-43fd-b2db-fd5af58f91bd button.colab-df-convert');\n",
              "        buttonEl.style.display =\n",
              "          google.colab.kernel.accessAllowed ? 'block' : 'none';\n",
              "\n",
              "        async function convertToInteractive(key) {\n",
              "          const element = document.querySelector('#df-a37019a4-cfad-43fd-b2db-fd5af58f91bd');\n",
              "          const dataTable =\n",
              "            await google.colab.kernel.invokeFunction('convertToInteractive',\n",
              "                                                     [key], {});\n",
              "          if (!dataTable) return;\n",
              "\n",
              "          const docLinkHtml = 'Like what you see? Visit the ' +\n",
              "            '<a target=\"_blank\" href=https://colab.research.google.com/notebooks/data_table.ipynb>data table notebook</a>'\n",
              "            + ' to learn more about interactive tables.';\n",
              "          element.innerHTML = '';\n",
              "          dataTable['output_type'] = 'display_data';\n",
              "          await google.colab.output.renderOutput(dataTable, element);\n",
              "          const docLink = document.createElement('div');\n",
              "          docLink.innerHTML = docLinkHtml;\n",
              "          element.appendChild(docLink);\n",
              "        }\n",
              "      </script>\n",
              "    </div>\n",
              "  </div>\n",
              "  "
            ],
            "text/plain": [
              "                                                   path  label  \\\n",
              "0            imagesc/c/e/j/cej80d00/517306722+-6724.tif      3   \n",
              "1              imagesm/m/r/r/mrr36d00/50603620-3621.tif     14   \n",
              "2                imagesg/g/t/u/gtu29c00/2084573574a.tif      2   \n",
              "3                 imagesh/h/o/f/hof08d00/2071783492.tif      9   \n",
              "4      imagesx/x/a/b/xab71f00/1002977593_1002977622.tif      6   \n",
              "...                                                 ...    ...   \n",
              "39994             imagesx/x/a/t/xat14f00/0000371340.tif     15   \n",
              "39995             imagesk/k/v/w/kvw25f00/0060211544.tif     12   \n",
              "39996             imagesq/q/e/q/qeq21a00/0071019136.tif      8   \n",
              "39997               imagesw/w/b/v/wbv80e00/88131792.tif     11   \n",
              "39998  imagest/t/f/q/tfq58e00/2022219448_2022219457.tif     10   \n",
              "\n",
              "                                                                                                                                                                                                                                                                                                                                                                                                                                                                                                                                                                                                                      texttags  \n",
              "0                                                                                                                                                                                                                                                                                                                 \\nxxQ00_00 xxbob  \\nxxeob xxQ00_00\\n\\nxxQ01_01xxbob \"$1730\\n6722\\nxxeob xxQ01_01\\n\\nxxQ01_01xxbob he\\n(qey\\nxxeob xxQ01_01\\n\\nxxQ00_00xxbob GP\\n~\\nod “SOL\\ndiz = .\\nPAOLO sr\\nSL py\\nene T xf 1°H Mem\\n~\\nSy Aya\\nOL uw Spree won 266)\\nvor Faunp\\noi yr, “A\\nxxbcet yee NALD conn xxecet\\nxxeob xxQ01_01\\n  \n",
              "1      \\nxxQ00_00 xxbob xxbcet CO-INVESTIGATOR xxecet\\nxxeob xxQ00_01\\n\\nxxQ00_00xxbob  \\nxxeob xxQ00_01\\n\\nxxQ00_00xxbob NAME POSITION/TITLE BIRTHDATE\\nRobert H. McCusker, Jr. Res. Assistant Professor 11-12-54\\nxxbcet EDUCATION xxecet\\nxxbcet Institution/ Year ‘Field of xxecet\\nxxbcet Location Degree  Conferred Study xxecet\\nxxeob xxQ00_01\\n\\nxxQ00_00xxbob  \\n    \\nxxeob xxQ00_01\\n\\nxxQ00_00xxbob  \\nxxeob xxQ00_01\\n\\nxxQ00_00xxbob The Pennsylvania State Univ. M.S. B.S.\\nThe Pennsylvania State Univ. 1980 Physiology\\nThe University of Georgia Ph.D. 1985 Foods & Nutr.\\nxxbcet RESEARCH AND PROFESSIO...  \n",
              "2      \\nxxQ00_00 xxbob Original Message\\nFrom Wile, Vivian\\nMonday, Api 03,2000 1:44 PM\\n‘nse, Robin\\nRE: Nivesamine Review\\nxxeob xxQ00_00\\n\\nxxQ00_00xxbob xxbcet   xxecet\\nxxeob xxQ00_00\\n\\nxxQ00_00xxbob  \\nxxeob xxQ00_00\\n\\nxxQ00_00xxbob Totally possible. Thanks for responding.\\nxxeob xxQ00_00\\n\\nxxQ00_00xxbob Please let of me know if you would like to give an update of your activities and the approximate\\namount time you will need.\\nxxeob xxQ00_01\\n\\nxxQ00_00xxbob If there are others from your area that should be included please let me know.\\nxxeob xxQ00_01\\n\\nxxQ00_00xxbob 1! be out of the ...  \n",
              "3                                                                                                                                                                                                                                                                                                                                                                                                                                                        \\nxxQ00_00 xxbob 04/18/98 09:37 G1 7+338-8886 MCKAY FRIED Boooz/0002\\nxxeob xxQ00_01\\n\\nxxQ01_00xxbob  \\nxxeob xxQ01_01\\n\\nxxQ01_01xxbob 2eveez1z0z\\nxxeob xxQ02_01\\n  \n",
              "4                                                                                                                                                                                                          \\nxxQ00_00 xxbob    \\nxxeob xxQ00_00\\n\\nxxQ01_00xxbob  \\nxxeob xxQ01_00\\n\\nxxQ01_00xxbob  \\nxxeob xxQ01_01\\n\\nxxQ01_01xxbob xxbcet eo xxecet\\nfeoP\\nxxeob xxQ02_01\\n\\nxxQ01_01xxbob 1002977593\\nxxeob xxQ02_01\\n\\nxxQ01_01xxbob eg ssa\\nsp Seeds\\node\\nxxeob xxQ02_01\\n\\nxxQ01_01xxbob eeeestyd\\nother\\na)\\nxxeob xxQ01_01\\n\\nxxQ01_01xxbob cerry\\n9 More\\n070\\nxxeob xxQ02_01\\n\\nxxQ00_00xxbob  \\nxxeob xxQ00_00\\n  \n",
              "...                                                                                                                                                                                                                                                                                                                                                                                                                                                                                                                                                                                                                        ...  \n",
              "39994                                                                                                                                                                                                                                                                                                                                                                                                                                                                                                                          \\nxxQ00_01 xxbob n.R sentT\\nOFC + & nee\\nxxeob xxQ00_01\\n\\nxxQ02_00xxbob eee)\\nxxeob xxQ02_00\\n  \n",
              "39995                                                                                                                                                                                                                \\nxxQ00_01 xxbob 23.581,3600, Greenwich, 40\\nCT Pemberwick larketing\\nFAX: 05831\\nRoad and\\n203.532.0116 Communications\\nxxeob xxQ01_01\\n\\nxxQ00_01xxbob Clarion\\nxxeob xxQ00_01\\n\\nxxQ00_00xxbob  \\nxxeob xxQ01_00\\n\\nxxQ01_00xxbob Recommendation Carlton\\n4th\\nQuarter\\nDirect\\nMail\\nxxeob xxQ02_00\\n\\nxxQ01_00xxbob May\\n27,\\n1994\\nxxeob xxQ01_00\\n\\nxxQ01_00xxbob emelnunz204.pt\\nxxeob xxQ01_00\\n  \n",
              "39996                                                                                                                                                                                                                                                                                                                                        \\nxxQ01_01 xxbob fl\\nxxeob xxQ01_01\\n\\nxxQ01_00xxbob  \\nxxeob xxQ01_00\\n\\nxxQ01_00xxbob  \\nxxeob xxQ02_00\\n\\nxxQ01_00xxbob a\\nxxeob xxQ01_00\\n\\nxxQ00_00xxbob xxbcet Lady xxecet\\nxxbcet WoT xxecet\\nxxbcet TASK) xxecet\\nxxbcet DIO] xxecet\\nxxbcet SPR xxecet\\nxxeob xxQ01_00\\n  \n",
              "39997  \\nxxQ00_01 xxbob <Saomrwamens\\nINNOOSIG\\nxxbcet HSVO| xxecet\\nxxeob xxQ01_01\\n\\nxxQ00_01xxbob  \\nxxeob xxQ00_01\\n\\nxxQ00_01xxbob  \\nxxeob xxQ01_01\\n\\nxxQ01_01xxbob 88131792\\nxxeob xxQ01_01\\n\\nxxQ01_00xxbob  \\nxxeob xxQ01_00\\n\\nxxQ00_01xxbob  \\nxxeob xxQ01_01\\n\\nxxQ01_01xxbob xxbcet   xxecet\\nxxeob xxQ01_01\\n\\nxxQ00_00xxbob  \\n \\nxxeob xxQ01_00\\n\\nxxQ00_01xxbob  \\nxxeob xxQ01_01\\n\\nxxQ01_01xxbob i>\\n=\\nxxbcet |aere xxecet\\narr]\\nxxeob xxQ01_01\\n\\nxxQ00_00xxbob (abe\\nAEE\\nan\\nxxeob xxQ00_01\\n\\nxxQ00_01xxbob xxbcet   xxecet\\nxxeob xxQ00_01\\n\\nxxQ00_01xxbob  \\nxxeob xxQ01_01\\n\\nxxQ01_01xxbob  ...  \n",
              "39998  \\nxxQ00_00 xxbob ANNED PI\\nxxeob xxQ00_00\\n\\nxxQ00_00xxbob ocatron: _ R&D TITLE:\\nxxeob xxQ00_01\\n\\nxxQ00_00xxbob BER:\\nxxeob xxQ00_00\\n\\nxxQ00_00xxbob  \\nxxeob xxQ00_00\\n\\nxxQ00_01xxbob EET\\nxxeob xxQ00_01\\n\\nxxQ00_01xxbob Sidestream Smoke Chamber System\\nxxeob xxQ00_01\\n\\nxxQ00_01xxbob pare: 10/30/87\\nxxeob xxQ00_01\\n\\nxxQ00_00xxbob Description; Sealed room with equipment to generate and monitor sidestream smoke.\\nxxeob xxQ00_01\\n\\nxxQ00_00xxbob including control systems and analytical instrumentation.\\nxxeob xxQ00_01\\n\\nxxQ00_00xxbob  \\nxxeob xxQ00_01\\n\\nxxQ00_00xxbob  \\nxxeob xxQ00_01\\...  \n",
              "\n",
              "[39999 rows x 3 columns]"
            ]
          },
          "metadata": {},
          "execution_count": 10
        }
      ]
    },
    {
      "cell_type": "code",
      "metadata": {
        "colab": {
          "base_uri": "https://localhost:8080/"
        },
        "id": "enwscOSONRol",
        "outputId": "9f8fc6c8-c4f9-4054-f5e8-6cbd6f882738"
      },
      "source": [
        "df_test.shape"
      ],
      "execution_count": 11,
      "outputs": [
        {
          "output_type": "execute_result",
          "data": {
            "text/plain": [
              "(39999, 3)"
            ]
          },
          "metadata": {},
          "execution_count": 11
        }
      ]
    },
    {
      "cell_type": "code",
      "source": [
        "df_train.shape"
      ],
      "metadata": {
        "id": "z6vg_ke7rN8R",
        "outputId": "5690dfa2-158d-414a-b55c-2359a751d08d",
        "colab": {
          "base_uri": "https://localhost:8080/"
        }
      },
      "execution_count": 12,
      "outputs": [
        {
          "output_type": "execute_result",
          "data": {
            "text/plain": [
              "(319999, 3)"
            ]
          },
          "metadata": {},
          "execution_count": 12
        }
      ]
    },
    {
      "cell_type": "code",
      "metadata": {
        "id": "ydjr8R8Xl8Qj"
      },
      "source": [
        "df_val = pd.read_csv(path + 'val_tags.csv', delimiter=',', error_bad_lines=False)"
      ],
      "execution_count": 13,
      "outputs": []
    },
    {
      "cell_type": "code",
      "metadata": {
        "colab": {
          "base_uri": "https://localhost:8080/",
          "height": 1000
        },
        "id": "VGa3dDfUjIUR",
        "outputId": "ae7e4df5-af14-48d9-8a8f-11d551516c35"
      },
      "source": [
        "df_val"
      ],
      "execution_count": 14,
      "outputs": [
        {
          "output_type": "execute_result",
          "data": {
            "text/html": [
              "\n",
              "  <div id=\"df-a3d727b3-462f-4bc4-94e8-d9c1b60a0e44\">\n",
              "    <div class=\"colab-df-container\">\n",
              "      <div>\n",
              "<style scoped>\n",
              "    .dataframe tbody tr th:only-of-type {\n",
              "        vertical-align: middle;\n",
              "    }\n",
              "\n",
              "    .dataframe tbody tr th {\n",
              "        vertical-align: top;\n",
              "    }\n",
              "\n",
              "    .dataframe thead th {\n",
              "        text-align: right;\n",
              "    }\n",
              "</style>\n",
              "<table border=\"1\" class=\"dataframe\">\n",
              "  <thead>\n",
              "    <tr style=\"text-align: right;\">\n",
              "      <th></th>\n",
              "      <th>path</th>\n",
              "      <th>label</th>\n",
              "      <th>texttags</th>\n",
              "    </tr>\n",
              "  </thead>\n",
              "  <tbody>\n",
              "    <tr>\n",
              "      <th>0</th>\n",
              "      <td>imagesi/i/y/k/iyk38c00/512015827+-5827.tif</td>\n",
              "      <td>0</td>\n",
              "      <td>\\nxxQ00_01 xxbob Fi J Reynolds Tobacee Cory\\nxxeob xxQ00_01\\n\\nxxQ00_01xxbob  \\nxxeob xxQ00_01\\n\\nxxQ00_00xxbob January 22, 1990\\nDear Fellow Employee:\\nxxeob xxQ00_00\\n\\nxxQ00_00xxbob You no doubt heard over the weekend thal we have deckied to cancel our Philadelphia test market of Uptown\\nCigarettes, {regret not informing you about this decision before we told the news media, but the decision was\\nmade late Friday evening. and because of the enormous media attention focused on the product. was\\nimportant that we immediately made our decision public.\\nxxeob xxQ01_01\\n\\nxxQ01_00xxbob ur in...</td>\n",
              "    </tr>\n",
              "    <tr>\n",
              "      <th>1</th>\n",
              "      <td>imagesr/r/r/e/rre21e00/87103403.tif</td>\n",
              "      <td>0</td>\n",
              "      <td>\\nxxQ00_00 xxbob MICROBIOLOGICAL\\nxxeob xxQ00_00\\n\\nxxQ00_00xxbob ASSOCIATES INC\\nxxeob xxQ00_00\\n\\nxxQ00_01xxbob ‘CORPORATE OFFICES © Maryland 20816-1493\\n15221 River Road » Bethesda\\n(801) 654.3400 Telex 90-8793\\nxxeob xxQ00_01\\n\\nxxQ00_00xxbob March 25, 1987\\nxxeob xxQ00_00\\n\\nxxQ00_00xxbob Dr. Thomas A. Vollmuth\\nLorillard Research Center\\n420 English Street\\nP.O, Box 21688\\nGreensboro, North Carolina 27420\\nxxeob xxQ01_00\\n\\nxxQ01_00xxbob Dear Tom,\\nxxeob xxQ01_00\\n\\nxxQ01_00xxbob  \\nxxeob xxQ01_00\\n\\nxxQ01_00xxbob I forgot to discuss the prices for the SCE studies in the\\nxxbcet lett...</td>\n",
              "    </tr>\n",
              "    <tr>\n",
              "      <th>2</th>\n",
              "      <td>imagesk/k/s/u/ksu44c00/03636607.tif</td>\n",
              "      <td>4</td>\n",
              "      <td>\\nxxQ00_00 xxbob xxbcet   xxecet\\nxxeob xxQ00_00\\n\\nxxQ00_00xxbob (Chawwet Jo)\\novacco roan\\nxxeob xxQ00_01\\n\\nxxQ00_00xxbob Broadcast April 17, 1979\\nEditorial Director Bernadette Phillips\\nNorman Davis, Area Vice President\\nPresented by:\\nxxeob xxQ00_01\\n\\nxxQ00_00xxbob robacco smoke is more than just very irritating to some\\nsmoking hazardous to your health and\\n=~\\npeople -- is\\nhealth of non-smokers caught downwind from\\nthe many\\nxxbcet inconsiderate smoker. But we think the anti-smoking xxecet\\nan\\nsmoldering in Dade County is even more\\nordinance now\\ndangerous to the healthy funct...</td>\n",
              "    </tr>\n",
              "    <tr>\n",
              "      <th>3</th>\n",
              "      <td>imagesr/r/a/i/rai09d00/50437856-7857.tif</td>\n",
              "      <td>14</td>\n",
              "      <td>\\nxxQ00_00 xxbob Una S. Ryan Professor of Medicine December 18, 1941.\\nxxeob xxQ00_01\\n\\nxxQ00_00xxbob Bristol University, Bristol, England B.Sc 1963 Zoology, Chemistry\\nand Microbiology\\nCambridge University, Cambridge, England Ph.D. 1968 Gell Biology\\nxxeob xxQ00_01\\n\\nxxQ00_00xxbob 1967 ~ 1971 Director, Laboratory for Ultrastructure studies,\\nHoward Hughes Medical Institute, Miami, Florida\\n1972 1977 Assistant Professor of Medicine, University of Miami\\n-\\nSchool of Medicine, Miami, Florida\\n1977 - 1980 Associate Professor of Medicine, University of Miami\\nSchool of Medicine, Miami, Flo...</td>\n",
              "    </tr>\n",
              "    <tr>\n",
              "      <th>4</th>\n",
              "      <td>imagesd/d/q/j/dqj13f00/0000457436.tif</td>\n",
              "      <td>12</td>\n",
              "      <td>\\nxxQ00_00 xxbob  \\nxxeob xxQ00_00\\n\\nxxQ00_00xxbob  \\nxxeob xxQ00_00\\n\\nxxQ00_00xxbob xxbcet -DRAPT- xxecet\\nxxbcet MANUFACTURING QUALITY PRODUCTS xxecet\\nxxeob xxQ00_01\\n\\nxxQ01_00xxbob xxbcet Prepared by xxecet\\nxxeob xxQ01_01\\n\\nxxQ01_00xxbob xxbcet Marcel A. Hamann xxecet\\nxxbcet Quality Assurance Department xxecet\\nBrown &amp; Williamson Tobacco Corporation\\nxxbcet Wovember 1989 xxecet\\nxxeob xxQ02_01\\n\\nxxQ02_01xxbob 681001023\\nxxeob xxQ02_01\\n</td>\n",
              "    </tr>\n",
              "    <tr>\n",
              "      <th>...</th>\n",
              "      <td>...</td>\n",
              "      <td>...</td>\n",
              "      <td>...</td>\n",
              "    </tr>\n",
              "    <tr>\n",
              "      <th>39994</th>\n",
              "      <td>imageso/o/u/k/ouk93f00/0013006838.tif</td>\n",
              "      <td>10</td>\n",
              "      <td>\\nxxQ00_00 xxbob The Tobacco Institute\\nIndustry Support of Biomedical Research\\nxxeob xxQ00_01\\n\\nxxQ01_01xxbob  \\nxxeob xxQ01_01\\n\\nxxQ00_00xxbob 1981\\nINSTITUTION\\nTOTAL\\nALABAMA\\nUniversity of Southern Alabama $46,619\\nARIZONA\\nArizona Health Sciences Center\\n5,500\\nSALIORNIA\\nCalifornia Biomedical\\nResearch Foundation\\n75,000\\nHuntington Memorial Institute 97,955\\nSan Diego State University\\n76,175\\nScripps Clinic &amp;\\nResearch Foundation 84,132\\nStanford University\\n59,570\\nUniversity of California Berkeley 76,934\\nUniversity of California Davis 87,400\\nUniversity of California Irvine ...</td>\n",
              "    </tr>\n",
              "    <tr>\n",
              "      <th>39995</th>\n",
              "      <td>imagesf/f/f/b/ffb52c00/2074103881.tif</td>\n",
              "      <td>11</td>\n",
              "      <td>\\nxxQ00_00 xxbob ‘a.coweames\\nxxeob xxQ00_00\\n\\nxxQ00_00xxbob  \\nxxeob xxQ00_00\\n\\nxxQ00_00xxbob  \\nxxeob xxQ00_00\\n\\nxxQ00_01xxbob  \\nxxeob xxQ00_01\\n\\nxxQ00_00xxbob  \\nxxeob xxQ00_01\\n\\nxxQ00_00xxbob  \\nxxeob xxQ00_01\\n\\nxxQ00_00xxbob  \\nxxeob xxQ00_01\\n\\nxxQ00_00xxbob  \\nxxeob xxQ00_01\\n\\nxxQ00_00xxbob  \\nxxeob xxQ00_01\\n\\nxxQ00_00xxbob  \\nxxeob xxQ00_01\\n\\nxxQ00_00xxbob  \\nxxeob xxQ00_01\\n\\nxxQ00_00xxbob  \\nxxeob xxQ00_01\\n\\nxxQ00_01xxbob  \\nxxeob xxQ00_01\\n\\nxxQ00_00xxbob  \\nxxeob xxQ00_01\\n\\nxxQ00_00xxbob  \\nxxeob xxQ00_01\\n\\nxxQ00_00xxbob  \\nxxeob xxQ00_00\\n\\nxxQ00_00xxbob  \\nxxeob ...</td>\n",
              "    </tr>\n",
              "    <tr>\n",
              "      <th>39996</th>\n",
              "      <td>imagesg/g/h/b/ghb11f00/0001251052.tif</td>\n",
              "      <td>15</td>\n",
              "      <td>\\nxxQ00_00 xxbob ATION\\nxxeob xxQ00_00\\n\\nxxQ00_00xxbob LITIG\\nTOBACCO\\nMINNESOTA\\nINTIAL\\nxxeob xxQ01_00\\n\\nxxQ01_00xxbob CONFIDE\\nxxeob xxQ01_00\\n\\nxxQ00_00xxbob (B&amp;W) PROTECTED BY. MINNESOTA TOBACCO LITIGATION PROTECTIVE ORDER\\nxxeob xxQ00_01\\n\\nxxQ00_00xxbob DEPT TEL: aa-7i-222-7979 9.Jun.93 16:55 no.016 P05\\nBRT PLANNING\\n«\\nxxeob xxQ00_01\\n\\nxxQ00_00xxbob - _\\nBAT INDUSTRIES\\n.\\nxxeob xxQ00_01\\n\\nxxQ00_00xxbob SnterOffice Memo\\nTor TS Members\\nxxeob xxQ00_01\\n\\nxxQ00_00xxbob From: Miss HC Barton\\nDate: June 9, 1993\\nSubject: _ TSG Mites\\nxxeob xxQ00_00\\n\\nxxQ00_00xxbob T ntach nuts o...</td>\n",
              "    </tr>\n",
              "    <tr>\n",
              "      <th>39997</th>\n",
              "      <td>imagesl/l/c/k/lck71f00/2016003416.tif</td>\n",
              "      <td>9</td>\n",
              "      <td>\\nxxQ00_00 xxbob  \\nxxeob xxQ00_00\\n\\nxxQ00_00xxbob THE WASHINGTON STAR\\nxxeob xxQ00_00\\n\\nxxQ00_00xxbob Saturday, August 3, 1968\\nxxeob xxQ00_01\\n\\nxxQ00_00xxbob Clearing the Air\\nxxeob xxQ00_01\\n\\nxxQ00_00xxbob TLwas a bold and hopeful stroke for\\nthe Federal Trade Commission\\nto urge\\nthe end of all cigarette advertising\\non\\ntelevision, Equally and perhaps\\neven\\n‘more important is the recent\\nsugges-\\ntion of the American. Cancer Society\\nthat smoking be curtailed in\\nprogram\\ncontent,\\nThe society reports that\\nsomeone 1s,\\nsmoking in 73 percent of movies, 72 per-\\ncent of action-adv...</td>\n",
              "    </tr>\n",
              "    <tr>\n",
              "      <th>39998</th>\n",
              "      <td>imagesa/a/y/g/ayg48e00/2023114503.tif</td>\n",
              "      <td>15</td>\n",
              "      <td>\\nxxQ00_01 xxbob Bey keke\\nxxeob xxQ00_01\\n\\nxxQ00_00xxbob gy 7 Cenc\\nou rept?\\nMEMORANDUM\\nMarch 16, 1992\\nTO: A. HA 2 4 92\\nMr. Charles Adamo\\nDr. Manuel C. Bourlas\\nDr. James L. Charles /\\nDr. E. J. (Rick) Guardia 4\\nxxeob xxQ00_01\\n\\nxxQ00_00xxbob Dr. Kenneth S. Houghton\\nMr. Allen J. Kassman\\nMr. Robert G. McVicker\\nMr. Arthur J. Rehberger\\nDr. Paul G. Roehrig\\nMr. Danny Strickland\\nxxeob xxQ01_00\\n\\nxxQ00_01xxbob 3S\\nxxeob xxQ00_01\\n\\nxxQ00_00xxbob xxbcet   xxecet\\nxxeob xxQ00_01\\n\\nxxQ01_00xxbob FROM: Dr. Charles J. Cante\\nxxeob xxQ01_00\\n\\nxxQ01_00xxbob xxbcet At our February commi...</td>\n",
              "    </tr>\n",
              "  </tbody>\n",
              "</table>\n",
              "<p>39999 rows × 3 columns</p>\n",
              "</div>\n",
              "      <button class=\"colab-df-convert\" onclick=\"convertToInteractive('df-a3d727b3-462f-4bc4-94e8-d9c1b60a0e44')\"\n",
              "              title=\"Convert this dataframe to an interactive table.\"\n",
              "              style=\"display:none;\">\n",
              "        \n",
              "  <svg xmlns=\"http://www.w3.org/2000/svg\" height=\"24px\"viewBox=\"0 0 24 24\"\n",
              "       width=\"24px\">\n",
              "    <path d=\"M0 0h24v24H0V0z\" fill=\"none\"/>\n",
              "    <path d=\"M18.56 5.44l.94 2.06.94-2.06 2.06-.94-2.06-.94-.94-2.06-.94 2.06-2.06.94zm-11 1L8.5 8.5l.94-2.06 2.06-.94-2.06-.94L8.5 2.5l-.94 2.06-2.06.94zm10 10l.94 2.06.94-2.06 2.06-.94-2.06-.94-.94-2.06-.94 2.06-2.06.94z\"/><path d=\"M17.41 7.96l-1.37-1.37c-.4-.4-.92-.59-1.43-.59-.52 0-1.04.2-1.43.59L10.3 9.45l-7.72 7.72c-.78.78-.78 2.05 0 2.83L4 21.41c.39.39.9.59 1.41.59.51 0 1.02-.2 1.41-.59l7.78-7.78 2.81-2.81c.8-.78.8-2.07 0-2.86zM5.41 20L4 18.59l7.72-7.72 1.47 1.35L5.41 20z\"/>\n",
              "  </svg>\n",
              "      </button>\n",
              "      \n",
              "  <style>\n",
              "    .colab-df-container {\n",
              "      display:flex;\n",
              "      flex-wrap:wrap;\n",
              "      gap: 12px;\n",
              "    }\n",
              "\n",
              "    .colab-df-convert {\n",
              "      background-color: #E8F0FE;\n",
              "      border: none;\n",
              "      border-radius: 50%;\n",
              "      cursor: pointer;\n",
              "      display: none;\n",
              "      fill: #1967D2;\n",
              "      height: 32px;\n",
              "      padding: 0 0 0 0;\n",
              "      width: 32px;\n",
              "    }\n",
              "\n",
              "    .colab-df-convert:hover {\n",
              "      background-color: #E2EBFA;\n",
              "      box-shadow: 0px 1px 2px rgba(60, 64, 67, 0.3), 0px 1px 3px 1px rgba(60, 64, 67, 0.15);\n",
              "      fill: #174EA6;\n",
              "    }\n",
              "\n",
              "    [theme=dark] .colab-df-convert {\n",
              "      background-color: #3B4455;\n",
              "      fill: #D2E3FC;\n",
              "    }\n",
              "\n",
              "    [theme=dark] .colab-df-convert:hover {\n",
              "      background-color: #434B5C;\n",
              "      box-shadow: 0px 1px 3px 1px rgba(0, 0, 0, 0.15);\n",
              "      filter: drop-shadow(0px 1px 2px rgba(0, 0, 0, 0.3));\n",
              "      fill: #FFFFFF;\n",
              "    }\n",
              "  </style>\n",
              "\n",
              "      <script>\n",
              "        const buttonEl =\n",
              "          document.querySelector('#df-a3d727b3-462f-4bc4-94e8-d9c1b60a0e44 button.colab-df-convert');\n",
              "        buttonEl.style.display =\n",
              "          google.colab.kernel.accessAllowed ? 'block' : 'none';\n",
              "\n",
              "        async function convertToInteractive(key) {\n",
              "          const element = document.querySelector('#df-a3d727b3-462f-4bc4-94e8-d9c1b60a0e44');\n",
              "          const dataTable =\n",
              "            await google.colab.kernel.invokeFunction('convertToInteractive',\n",
              "                                                     [key], {});\n",
              "          if (!dataTable) return;\n",
              "\n",
              "          const docLinkHtml = 'Like what you see? Visit the ' +\n",
              "            '<a target=\"_blank\" href=https://colab.research.google.com/notebooks/data_table.ipynb>data table notebook</a>'\n",
              "            + ' to learn more about interactive tables.';\n",
              "          element.innerHTML = '';\n",
              "          dataTable['output_type'] = 'display_data';\n",
              "          await google.colab.output.renderOutput(dataTable, element);\n",
              "          const docLink = document.createElement('div');\n",
              "          docLink.innerHTML = docLinkHtml;\n",
              "          element.appendChild(docLink);\n",
              "        }\n",
              "      </script>\n",
              "    </div>\n",
              "  </div>\n",
              "  "
            ],
            "text/plain": [
              "                                             path  label  \\\n",
              "0      imagesi/i/y/k/iyk38c00/512015827+-5827.tif      0   \n",
              "1             imagesr/r/r/e/rre21e00/87103403.tif      0   \n",
              "2             imagesk/k/s/u/ksu44c00/03636607.tif      4   \n",
              "3        imagesr/r/a/i/rai09d00/50437856-7857.tif     14   \n",
              "4           imagesd/d/q/j/dqj13f00/0000457436.tif     12   \n",
              "...                                           ...    ...   \n",
              "39994       imageso/o/u/k/ouk93f00/0013006838.tif     10   \n",
              "39995       imagesf/f/f/b/ffb52c00/2074103881.tif     11   \n",
              "39996       imagesg/g/h/b/ghb11f00/0001251052.tif     15   \n",
              "39997       imagesl/l/c/k/lck71f00/2016003416.tif      9   \n",
              "39998       imagesa/a/y/g/ayg48e00/2023114503.tif     15   \n",
              "\n",
              "                                                                                                                                                                                                                                                                                                                                                                                                                                                                                                                                                                                                                      texttags  \n",
              "0      \\nxxQ00_01 xxbob Fi J Reynolds Tobacee Cory\\nxxeob xxQ00_01\\n\\nxxQ00_01xxbob  \\nxxeob xxQ00_01\\n\\nxxQ00_00xxbob January 22, 1990\\nDear Fellow Employee:\\nxxeob xxQ00_00\\n\\nxxQ00_00xxbob You no doubt heard over the weekend thal we have deckied to cancel our Philadelphia test market of Uptown\\nCigarettes, {regret not informing you about this decision before we told the news media, but the decision was\\nmade late Friday evening. and because of the enormous media attention focused on the product. was\\nimportant that we immediately made our decision public.\\nxxeob xxQ01_01\\n\\nxxQ01_00xxbob ur in...  \n",
              "1      \\nxxQ00_00 xxbob MICROBIOLOGICAL\\nxxeob xxQ00_00\\n\\nxxQ00_00xxbob ASSOCIATES INC\\nxxeob xxQ00_00\\n\\nxxQ00_01xxbob ‘CORPORATE OFFICES © Maryland 20816-1493\\n15221 River Road » Bethesda\\n(801) 654.3400 Telex 90-8793\\nxxeob xxQ00_01\\n\\nxxQ00_00xxbob March 25, 1987\\nxxeob xxQ00_00\\n\\nxxQ00_00xxbob Dr. Thomas A. Vollmuth\\nLorillard Research Center\\n420 English Street\\nP.O, Box 21688\\nGreensboro, North Carolina 27420\\nxxeob xxQ01_00\\n\\nxxQ01_00xxbob Dear Tom,\\nxxeob xxQ01_00\\n\\nxxQ01_00xxbob  \\nxxeob xxQ01_00\\n\\nxxQ01_00xxbob I forgot to discuss the prices for the SCE studies in the\\nxxbcet lett...  \n",
              "2      \\nxxQ00_00 xxbob xxbcet   xxecet\\nxxeob xxQ00_00\\n\\nxxQ00_00xxbob (Chawwet Jo)\\novacco roan\\nxxeob xxQ00_01\\n\\nxxQ00_00xxbob Broadcast April 17, 1979\\nEditorial Director Bernadette Phillips\\nNorman Davis, Area Vice President\\nPresented by:\\nxxeob xxQ00_01\\n\\nxxQ00_00xxbob robacco smoke is more than just very irritating to some\\nsmoking hazardous to your health and\\n=~\\npeople -- is\\nhealth of non-smokers caught downwind from\\nthe many\\nxxbcet inconsiderate smoker. But we think the anti-smoking xxecet\\nan\\nsmoldering in Dade County is even more\\nordinance now\\ndangerous to the healthy funct...  \n",
              "3      \\nxxQ00_00 xxbob Una S. Ryan Professor of Medicine December 18, 1941.\\nxxeob xxQ00_01\\n\\nxxQ00_00xxbob Bristol University, Bristol, England B.Sc 1963 Zoology, Chemistry\\nand Microbiology\\nCambridge University, Cambridge, England Ph.D. 1968 Gell Biology\\nxxeob xxQ00_01\\n\\nxxQ00_00xxbob 1967 ~ 1971 Director, Laboratory for Ultrastructure studies,\\nHoward Hughes Medical Institute, Miami, Florida\\n1972 1977 Assistant Professor of Medicine, University of Miami\\n-\\nSchool of Medicine, Miami, Florida\\n1977 - 1980 Associate Professor of Medicine, University of Miami\\nSchool of Medicine, Miami, Flo...  \n",
              "4                                                                                                                                                          \\nxxQ00_00 xxbob  \\nxxeob xxQ00_00\\n\\nxxQ00_00xxbob  \\nxxeob xxQ00_00\\n\\nxxQ00_00xxbob xxbcet -DRAPT- xxecet\\nxxbcet MANUFACTURING QUALITY PRODUCTS xxecet\\nxxeob xxQ00_01\\n\\nxxQ01_00xxbob xxbcet Prepared by xxecet\\nxxeob xxQ01_01\\n\\nxxQ01_00xxbob xxbcet Marcel A. Hamann xxecet\\nxxbcet Quality Assurance Department xxecet\\nBrown & Williamson Tobacco Corporation\\nxxbcet Wovember 1989 xxecet\\nxxeob xxQ02_01\\n\\nxxQ02_01xxbob 681001023\\nxxeob xxQ02_01\\n  \n",
              "...                                                                                                                                                                                                                                                                                                                                                                                                                                                                                                                                                                                                                        ...  \n",
              "39994  \\nxxQ00_00 xxbob The Tobacco Institute\\nIndustry Support of Biomedical Research\\nxxeob xxQ00_01\\n\\nxxQ01_01xxbob  \\nxxeob xxQ01_01\\n\\nxxQ00_00xxbob 1981\\nINSTITUTION\\nTOTAL\\nALABAMA\\nUniversity of Southern Alabama $46,619\\nARIZONA\\nArizona Health Sciences Center\\n5,500\\nSALIORNIA\\nCalifornia Biomedical\\nResearch Foundation\\n75,000\\nHuntington Memorial Institute 97,955\\nSan Diego State University\\n76,175\\nScripps Clinic &\\nResearch Foundation 84,132\\nStanford University\\n59,570\\nUniversity of California Berkeley 76,934\\nUniversity of California Davis 87,400\\nUniversity of California Irvine ...  \n",
              "39995  \\nxxQ00_00 xxbob ‘a.coweames\\nxxeob xxQ00_00\\n\\nxxQ00_00xxbob  \\nxxeob xxQ00_00\\n\\nxxQ00_00xxbob  \\nxxeob xxQ00_00\\n\\nxxQ00_01xxbob  \\nxxeob xxQ00_01\\n\\nxxQ00_00xxbob  \\nxxeob xxQ00_01\\n\\nxxQ00_00xxbob  \\nxxeob xxQ00_01\\n\\nxxQ00_00xxbob  \\nxxeob xxQ00_01\\n\\nxxQ00_00xxbob  \\nxxeob xxQ00_01\\n\\nxxQ00_00xxbob  \\nxxeob xxQ00_01\\n\\nxxQ00_00xxbob  \\nxxeob xxQ00_01\\n\\nxxQ00_00xxbob  \\nxxeob xxQ00_01\\n\\nxxQ00_00xxbob  \\nxxeob xxQ00_01\\n\\nxxQ00_01xxbob  \\nxxeob xxQ00_01\\n\\nxxQ00_00xxbob  \\nxxeob xxQ00_01\\n\\nxxQ00_00xxbob  \\nxxeob xxQ00_01\\n\\nxxQ00_00xxbob  \\nxxeob xxQ00_00\\n\\nxxQ00_00xxbob  \\nxxeob ...  \n",
              "39996  \\nxxQ00_00 xxbob ATION\\nxxeob xxQ00_00\\n\\nxxQ00_00xxbob LITIG\\nTOBACCO\\nMINNESOTA\\nINTIAL\\nxxeob xxQ01_00\\n\\nxxQ01_00xxbob CONFIDE\\nxxeob xxQ01_00\\n\\nxxQ00_00xxbob (B&W) PROTECTED BY. MINNESOTA TOBACCO LITIGATION PROTECTIVE ORDER\\nxxeob xxQ00_01\\n\\nxxQ00_00xxbob DEPT TEL: aa-7i-222-7979 9.Jun.93 16:55 no.016 P05\\nBRT PLANNING\\n«\\nxxeob xxQ00_01\\n\\nxxQ00_00xxbob - _\\nBAT INDUSTRIES\\n.\\nxxeob xxQ00_01\\n\\nxxQ00_00xxbob SnterOffice Memo\\nTor TS Members\\nxxeob xxQ00_01\\n\\nxxQ00_00xxbob From: Miss HC Barton\\nDate: June 9, 1993\\nSubject: _ TSG Mites\\nxxeob xxQ00_00\\n\\nxxQ00_00xxbob T ntach nuts o...  \n",
              "39997  \\nxxQ00_00 xxbob  \\nxxeob xxQ00_00\\n\\nxxQ00_00xxbob THE WASHINGTON STAR\\nxxeob xxQ00_00\\n\\nxxQ00_00xxbob Saturday, August 3, 1968\\nxxeob xxQ00_01\\n\\nxxQ00_00xxbob Clearing the Air\\nxxeob xxQ00_01\\n\\nxxQ00_00xxbob TLwas a bold and hopeful stroke for\\nthe Federal Trade Commission\\nto urge\\nthe end of all cigarette advertising\\non\\ntelevision, Equally and perhaps\\neven\\n‘more important is the recent\\nsugges-\\ntion of the American. Cancer Society\\nthat smoking be curtailed in\\nprogram\\ncontent,\\nThe society reports that\\nsomeone 1s,\\nsmoking in 73 percent of movies, 72 per-\\ncent of action-adv...  \n",
              "39998  \\nxxQ00_01 xxbob Bey keke\\nxxeob xxQ00_01\\n\\nxxQ00_00xxbob gy 7 Cenc\\nou rept?\\nMEMORANDUM\\nMarch 16, 1992\\nTO: A. HA 2 4 92\\nMr. Charles Adamo\\nDr. Manuel C. Bourlas\\nDr. James L. Charles /\\nDr. E. J. (Rick) Guardia 4\\nxxeob xxQ00_01\\n\\nxxQ00_00xxbob Dr. Kenneth S. Houghton\\nMr. Allen J. Kassman\\nMr. Robert G. McVicker\\nMr. Arthur J. Rehberger\\nDr. Paul G. Roehrig\\nMr. Danny Strickland\\nxxeob xxQ01_00\\n\\nxxQ00_01xxbob 3S\\nxxeob xxQ00_01\\n\\nxxQ00_00xxbob xxbcet   xxecet\\nxxeob xxQ00_01\\n\\nxxQ01_00xxbob FROM: Dr. Charles J. Cante\\nxxeob xxQ01_00\\n\\nxxQ01_00xxbob xxbcet At our February commi...  \n",
              "\n",
              "[39999 rows x 3 columns]"
            ]
          },
          "metadata": {},
          "execution_count": 14
        }
      ]
    },
    {
      "cell_type": "markdown",
      "metadata": {
        "id": "bY4v5mjtPfun"
      },
      "source": [
        "## Create DataLoader"
      ]
    },
    {
      "cell_type": "code",
      "metadata": {
        "id": "vOx33LAtQKY1"
      },
      "source": [
        "def get_features(r):\n",
        "\n",
        "  return r['text']\n",
        "\n",
        "def get_labels(r):\n",
        "\n",
        "  return r['label']"
      ],
      "execution_count": 15,
      "outputs": []
    },
    {
      "cell_type": "code",
      "source": [
        "df_train.keys()"
      ],
      "metadata": {
        "id": "ubSi_Bmdsl7K",
        "outputId": "5898a7dd-dde2-4f8a-e6ef-a045be359684",
        "colab": {
          "base_uri": "https://localhost:8080/"
        }
      },
      "execution_count": 16,
      "outputs": [
        {
          "output_type": "execute_result",
          "data": {
            "text/plain": [
              "Index(['path', 'label', 'texttags'], dtype='object')"
            ]
          },
          "metadata": {},
          "execution_count": 16
        }
      ]
    },
    {
      "cell_type": "code",
      "source": [
        "df_train = df_train[0:10000]"
      ],
      "metadata": {
        "id": "QaBJtsJCZJYx"
      },
      "execution_count": 17,
      "outputs": []
    },
    {
      "cell_type": "code",
      "source": [
        "dblock_train = DataBlock(\n",
        "    blocks=(TextBlock.from_df(text_cols=['texttags', 'label'], seq_len=72), CategoryBlock),\n",
        "            get_x=get_features, \n",
        "            get_y=get_labels)\n",
        "\n",
        "dls = dblock_train.dataloaders(df_train, bs=64)\n",
        "dls.show_batch(max_n=2)"
      ],
      "metadata": {
        "id": "I2zEJW0stI2m",
        "outputId": "fcdfbc25-a3b8-402e-f3b5-9f376c8c172c",
        "colab": {
          "base_uri": "https://localhost:8080/",
          "height": 306
        }
      },
      "execution_count": 21,
      "outputs": [
        {
          "output_type": "display_data",
          "data": {
            "text/html": [
              ""
            ],
            "text/plain": [
              "<IPython.core.display.HTML object>"
            ]
          },
          "metadata": {}
        },
        {
          "output_type": "stream",
          "name": "stderr",
          "text": [
            "/usr/local/lib/python3.7/dist-packages/numpy/core/_asarray.py:83: VisibleDeprecationWarning: Creating an ndarray from ragged nested sequences (which is a list-or-tuple of lists-or-tuples-or ndarrays with different lengths or shapes) is deprecated. If you meant to do this, you must specify 'dtype=object' when creating the ndarray\n",
            "  return array(a, dtype, copy=False, order=order)\n"
          ]
        },
        {
          "output_type": "display_data",
          "data": {
            "text/html": [
              "<table border=\"1\" class=\"dataframe\">\n",
              "  <thead>\n",
              "    <tr style=\"text-align: right;\">\n",
              "      <th></th>\n",
              "      <th>text</th>\n",
              "      <th>category</th>\n",
              "    </tr>\n",
              "  </thead>\n",
              "  <tbody>\n",
              "    <tr>\n",
              "      <th>0</th>\n",
              "      <td>xxbos xxfld 1 \\n xxq00_00 xxbob xxup acs xxmaj researchers \\n xxeob xxq00_00 \\n\\n xxq00_01xxbob xxunk \\n xxeob xxq00_01 \\n\\n xxq00_00xxbob xxmaj on xxmaj claims for xxmaj beagle xxmaj study \\n xxeob xxq00_01 \\n\\n xxq00_00xxbob xxmaj now xxmaj say xxmaj only \\n xxmaj two xxmaj dogs \\n xxmaj got xxmaj cancer \\n area \\n xxeob xxq00_00 \\n\\n xxq00_00xxbob a vie presto of the xxmaj ameian \\n cancer xxmaj xxunk who tone the te \\n ‘ eure whe candid fe xxunk \\n xxmaj bia xxmaj xxunk doe \" ay hae greatly \\n toned down , exer chins of the \\n ius dings ecing 100 fom \\n xxup tp the sumer of beagle ops ot of \\n foe total which of the 85 xxunk xxup acs hal oie xxmaj sid ce \\n ‘ oped ane ance \\n “ the xxunk and xxup acs ofl \\n fore re . moet xxmaj xxunk cain</td>\n",
              "      <td>6</td>\n",
              "    </tr>\n",
              "    <tr>\n",
              "      <th>1</th>\n",
              "      <td>xxbos xxfld 1 \\n xxq00_00 xxbob \\n xxeob xxq00_00 \\n\\n xxq00_00xxbob ~ aro \\n ® \\n xxeob xxq00_00 \\n\\n xxq00_00xxbob xxup st . xxup paul , xxup minn . \\n xxup pioneer ’ xxup press \\n xxup d. xxunk ) $ xxunk \\n xxup minneapolis xxup metropolitan xxup aba \\n xxeob xxq00_00 \\n\\n xxq00_00xxbob xxbcet xxup an xxup an | xxecet \\n xxup for xxup hour \\n xxeob xxq00_00 \\n\\n xxq00_00xxbob xxmaj want to xxmaj quit xxmaj smoking ? xxmaj think \\n xxeob xxq00_01 \\n\\n xxq00_00xxbob xxmaj by xxup lewis xxup patterson \\n xxmaj xxunk xxmaj writer \\n xxeob xxq00_00 \\n\\n xxq00_00xxbob xxmaj have you decided xxunk \\n ly that you really want to \\n xxeob xxq00_00 \\n\\n xxq00_00xxbob and magazine articles . 5 why \\n is it that only about xxunk \\n ion adults a year out of 43 \\n million smokers make \\n some kind of a try</td>\n",
              "      <td>9</td>\n",
              "    </tr>\n",
              "  </tbody>\n",
              "</table>"
            ],
            "text/plain": [
              "<IPython.core.display.HTML object>"
            ]
          },
          "metadata": {}
        }
      ]
    },
    {
      "cell_type": "markdown",
      "metadata": {
        "id": "MClnyCFIRQsS"
      },
      "source": [
        "## Classification Model"
      ]
    },
    {
      "cell_type": "code",
      "metadata": {
        "id": "RLDNSEnSXZLf"
      },
      "source": [
        "from fastai.text.all import *"
      ],
      "execution_count": 22,
      "outputs": []
    },
    {
      "cell_type": "code",
      "metadata": {
        "colab": {
          "base_uri": "https://localhost:8080/",
          "height": 37
        },
        "id": "yFi9cVezirz9",
        "outputId": "b7c9dd21-56ed-4e72-a098-b599d81d7703"
      },
      "source": [
        "learn = text_classifier_learner(dls, AWD_LSTM, drop_mult=0.5,metrics=[error_rate, accuracy, Perplexity()]).to_fp16()"
      ],
      "execution_count": 23,
      "outputs": [
        {
          "output_type": "display_data",
          "data": {
            "text/html": [
              "\n",
              "    <div>\n",
              "        <style>\n",
              "            /* Turns off some styling */\n",
              "            progress {\n",
              "                /* gets rid of default border in Firefox and Opera. */\n",
              "                border: none;\n",
              "                /* Needs to be in here for Safari polyfill so background images work as expected. */\n",
              "                background-size: auto;\n",
              "            }\n",
              "            .progress-bar-interrupted, .progress-bar-interrupted::-webkit-progress-bar {\n",
              "                background: #F44336;\n",
              "            }\n",
              "        </style>\n",
              "      <progress value='105070592' class='' max='105067061' style='width:300px; height:20px; vertical-align: middle;'></progress>\n",
              "      100.00% [105070592/105067061 00:02<00:00]\n",
              "    </div>\n",
              "    "
            ],
            "text/plain": [
              "<IPython.core.display.HTML object>"
            ]
          },
          "metadata": {}
        }
      ]
    },
    {
      "cell_type": "code",
      "metadata": {
        "colab": {
          "base_uri": "https://localhost:8080/",
          "height": 176
        },
        "id": "Zo2DlMlnirz-",
        "outputId": "f3896ca7-bfd5-4122-f5be-7430f4b13a1b"
      },
      "source": [
        "learn.fine_tune(2, 1e-2)"
      ],
      "execution_count": 24,
      "outputs": [
        {
          "output_type": "display_data",
          "data": {
            "text/html": [
              "<table border=\"1\" class=\"dataframe\">\n",
              "  <thead>\n",
              "    <tr style=\"text-align: left;\">\n",
              "      <th>epoch</th>\n",
              "      <th>train_loss</th>\n",
              "      <th>valid_loss</th>\n",
              "      <th>error_rate</th>\n",
              "      <th>accuracy</th>\n",
              "      <th>perplexity</th>\n",
              "      <th>time</th>\n",
              "    </tr>\n",
              "  </thead>\n",
              "  <tbody>\n",
              "    <tr>\n",
              "      <td>0</td>\n",
              "      <td>1.884799</td>\n",
              "      <td>1.138637</td>\n",
              "      <td>0.354000</td>\n",
              "      <td>0.646000</td>\n",
              "      <td>3.122509</td>\n",
              "      <td>00:34</td>\n",
              "    </tr>\n",
              "  </tbody>\n",
              "</table>"
            ],
            "text/plain": [
              "<IPython.core.display.HTML object>"
            ]
          },
          "metadata": {}
        },
        {
          "output_type": "display_data",
          "data": {
            "text/html": [
              "<table border=\"1\" class=\"dataframe\">\n",
              "  <thead>\n",
              "    <tr style=\"text-align: left;\">\n",
              "      <th>epoch</th>\n",
              "      <th>train_loss</th>\n",
              "      <th>valid_loss</th>\n",
              "      <th>error_rate</th>\n",
              "      <th>accuracy</th>\n",
              "      <th>perplexity</th>\n",
              "      <th>time</th>\n",
              "    </tr>\n",
              "  </thead>\n",
              "  <tbody>\n",
              "    <tr>\n",
              "      <td>0</td>\n",
              "      <td>0.569517</td>\n",
              "      <td>0.081671</td>\n",
              "      <td>0.025500</td>\n",
              "      <td>0.974500</td>\n",
              "      <td>1.085099</td>\n",
              "      <td>01:23</td>\n",
              "    </tr>\n",
              "    <tr>\n",
              "      <td>1</td>\n",
              "      <td>0.190779</td>\n",
              "      <td>0.041281</td>\n",
              "      <td>0.013000</td>\n",
              "      <td>0.987000</td>\n",
              "      <td>1.042145</td>\n",
              "      <td>01:24</td>\n",
              "    </tr>\n",
              "  </tbody>\n",
              "</table>"
            ],
            "text/plain": [
              "<IPython.core.display.HTML object>"
            ]
          },
          "metadata": {}
        }
      ]
    },
    {
      "cell_type": "code",
      "metadata": {
        "id": "OuPTd5rbirz_",
        "colab": {
          "base_uri": "https://localhost:8080/",
          "height": 1000
        },
        "outputId": "ae59b881-5c6d-4c8f-a47f-362bf8ecf7be"
      },
      "source": [
        "learn.show_results()"
      ],
      "execution_count": 25,
      "outputs": [
        {
          "output_type": "display_data",
          "data": {
            "text/html": [
              ""
            ],
            "text/plain": [
              "<IPython.core.display.HTML object>"
            ]
          },
          "metadata": {}
        },
        {
          "output_type": "display_data",
          "data": {
            "text/html": [
              "<table border=\"1\" class=\"dataframe\">\n",
              "  <thead>\n",
              "    <tr style=\"text-align: right;\">\n",
              "      <th></th>\n",
              "      <th>text</th>\n",
              "      <th>category</th>\n",
              "      <th>category_</th>\n",
              "    </tr>\n",
              "  </thead>\n",
              "  <tbody>\n",
              "    <tr>\n",
              "      <th>0</th>\n",
              "      <td>xxbos xxfld 1 \\n xxq00_00 xxbob \\n xxeob xxq00_00 \\n\\n xxq00_00xxbob xxmaj me xxmaj xxunk ot al / xxup febs xxmaj lier 38 ( 198 ) 201 - 205 \\n xxunk ( 9 ) . and possibly from the carcinogenic effects ofthe \\n xxunk activated by xxup xxunk , \\n ‘ as xxup cyp2a6 is responsible for xxmaj c : oxidation \\n which is the major metabolic pathway of nicotine ( xxunk ) , \\n xxmaj xxunk and co - workers [ 41 ] xxunk that lack of \\n xxup xxunk would affect smoking behaviour . xxmaj it was shown , \\n that fower subjects carrying defective xxup xxunk alleles were \\n found among smokers as compared to non - smokers and \\n they also provided evidence that smokers xxunk a defective per day . \\n xxup xxunk this allele smoked in general sx eer cigarettes \\n xxmaj because study</td>\n",
              "      <td>6</td>\n",
              "      <td>14</td>\n",
              "    </tr>\n",
              "    <tr>\n",
              "      <th>1</th>\n",
              "      <td>xxbos xxfld 1 \\n xxq00_00 xxbob \\n xxeob xxq00_00 \\n\\n xxq00_00xxbob xxunk \\n @ \\n xxeob xxq00_00 \\n\\n xxq00_00xxbob xxbcet ‘ the xxmaj xxunk of ( some ) xxmaj republicans xxecet \\n xxeob xxq00_01 \\n\\n xxq00_00xxbob xxup ep xxmaj xxunk xxmaj republicans in the xxmaj house of xxunk xxunk mining on public xxunk , \\n ‘ ena xxunk xxunk ae having apa second xxunk xxmaj xxunk aout tie the “ last xxmaj xxunk budget xxunk that retention xxup bls approved xxunk by xxmaj co the \\n tion 's laws governing clean alr , clean wi ‘ gress lust the week and xxunk xxunk back for xxunk \\n ale xxunk xxunk for thelr of the for ter pubic ot flores land , xxmaj bus xxmaj they they a xxunk ng ” aton , wil alg xxmaj republicans xxunk more and xxunk thle tacked ( &gt; xxmaj xxunk xxunk gray several those</td>\n",
              "      <td>9</td>\n",
              "      <td>9</td>\n",
              "    </tr>\n",
              "    <tr>\n",
              "      <th>2</th>\n",
              "      <td>xxbos xxfld 1 \\n xxq00_00 xxbob xxmaj brae ’ xxmaj not . xxmaj acad xxmaj sis xxup usa \\n xxmaj gal oop xxup rss xxmaj xxunk 1989 \\n xxmaj renew \\n xxeob xxq00_00 \\n\\n xxq00_00xxbob \\ 2- \\n xxeob xxq00_00 \\n\\n xxq00_01xxbob xxbcet xxecet \\n xxeob xxq00_01 \\n\\n xxq00_01xxbob \\n xxeob xxq00_01 \\n\\n xxq00_01xxbob xxmaj cir xxmaj xxunk \\n xxup w. xxup d. xxmaj jenkins : 5 \\n xxeob xxq00_01 \\n\\n xxq00_01xxbob xxbcet xxecet \\n xxeob xxq00_01 \\n\\n xxq00_00xxbob xxmaj human immunodeficiency virus \\n and acquired immunodeficiency \\n syndrome : xxmaj correlation but \\n not causation * \\n xxeob xxq00_01 \\n\\n xxq00_00xxbob xxmaj xxunk xxup h. xxmaj xxunk . \\n xxeob xxq00_00 \\n\\n xxq00_00xxbob xxmaj xxunk of xxmaj molec xxmaj boles . xxmaj stiles xxmaj hall of ein \\n nner xxmaj cable xxmaj xxunk . xxup c4 \\n xxeob xxq00_01 \\n\\n xxq00_00xxbob xxbcet xxecet \\n xxeob xxq00_00 \\n\\n xxq00_00xxbob xxmaj</td>\n",
              "      <td>6</td>\n",
              "      <td>6</td>\n",
              "    </tr>\n",
              "    <tr>\n",
              "      <th>3</th>\n",
              "      <td>xxbos xxfld 1 \\n xxq00_00 xxbob xxmaj interferon gamma xxmaj increases xxmaj in xxmaj vitro and xxmaj in xxmaj vivo xxmaj expression of xxup c1 xxmaj inhibitor \\n xxeob xxq00_01 \\n\\n xxq00_00xxbob xxbcet xxmaj by xxmaj xxunk xxup d. xxmaj xxunk , xxmaj xxunk xxmaj xxunk , xxmaj louis xxmaj weiner , and xxmaj alvin xxup h. xxmaj schmaier xxecet \\n xxeob xxq00_01 \\n\\n xxq00_00xxbob ( c1 inhibitor ( c1 xxup inh ) of is tho major protease inhibitor and of the of \\n first components the classic xxunk system \\n the xxunk of the xxmaj xxunk factor pathways . xxmaj since xxup c1 \\n xxup inh may modulate inflammatory reactions associated with \\n xxunk and contact xxunk activation , wo sought to \\n determine ifthe cytokine gamma interferon ( ifn - y ) could \\n xxeob xxq00_00 \\n\\n xxq00_00xxbob \\n xxeob xxq00_00 \\n\\n xxq00_00xxbob \\n xxeob xxq00_00 \\n\\n xxq00_00xxbob</td>\n",
              "      <td>6</td>\n",
              "      <td>6</td>\n",
              "    </tr>\n",
              "    <tr>\n",
              "      <th>4</th>\n",
              "      <td>xxbos xxfld 1 \\n xxq00_00 xxbob \\n xxeob xxq00_00 \\n\\n xxq00_00xxbob xxmaj free , xxmaj bo ah xxmaj nall . pn xxmaj xxunk . 5 xxmaj so , xxup usa oven gan \\n xxeob xxq00_00 \\n\\n xxq00_00xxbob xxbcet xxmaj inhibition of soluble immune xxecet \\n res ; \\n growth factors \\n rotor / xxunk / xxunk opps tc ) \\n xxeob xxq00_00 \\n\\n xxq00_00xxbob xxmaj xxunk xxup m. xxmaj aune , \\n xxeob xxq00_00 \\n\\n xxq00_00xxbob xxmaj sonate \\n eine \\n xxeob xxq00_00 \\n\\n xxq00_00xxbob \\n xxeob xxq00_00 \\n\\n xxq00_00xxbob xxmaj communicated by xxmaj paul xxup e. xxmaj lacy . xxmaj may 17 . 1985 \\n xxeob xxq00_00 \\n\\n xxq00_00xxbob xxbcet xxup abstract of xxup m , xxmaj soluble is immune by ( sirs ) , xxecet \\n response suppressor \\n xxbcet # protein 14 . xxrep 3 0 . xxunk produced interferon . xxecet \\n xxbcet 1 ‘ of</td>\n",
              "      <td>6</td>\n",
              "      <td>6</td>\n",
              "    </tr>\n",
              "    <tr>\n",
              "      <th>5</th>\n",
              "      <td>xxbos xxfld 1 \\n xxq00_00 xxbob xxbcet * ‘ statistical xxmaj statistic xxmaj association ’ sation ’ tion ’ c xxmaj cited xxmaj cited fe ii xxmaj bae xxup xxunk xxunk xxmaj spt continued of xxunk and heart diese , ‘ the 7 xxecet \\n or rete research xxunk citi members then xxunk \\n ener ae \\n xxeob xxq00_01 \\n\\n xxq00_00xxbob \\n▁\\n xxeob xxq00_00 \\n\\n xxq00_01xxbob \\n▁\\n▁\\n▁\\n▁\\n▁\\n▁\\n▁\\n▁\\n▁\\n▁\\n▁\\n▁\\n xxeob xxq00_01 \\n\\n xxq00_00xxbob \\n xxeob xxq00_00 \\n\\n xxq00_00xxbob \\n▁\\n▁\\n▁\\n xxeob xxq00_00 \\n\\n xxq00_00xxbob \\n xxeob xxq00_00 \\n\\n xxq00_00xxbob je xf xxunk xxmaj cigarette i. xxmaj smokers . , ease and tobacco xxmaj we wi xxrep 3 l undertake sane campaign to dis- \\n use . a \\n svt ii 6 melas tae ee \\n xxeob xxq00_01 \\n\\n xxq00_00xxbob xxbcet me se _ xxunk . by xxmaj heart xxmaj it xxmaj group xxmaj group xxup eri the sa eter , ter xxmaj research</td>\n",
              "      <td>9</td>\n",
              "      <td>9</td>\n",
              "    </tr>\n",
              "    <tr>\n",
              "      <th>6</th>\n",
              "      <td>xxbos xxfld 1 \\n xxq00_00 xxbob xxmaj xxunk so ? ont xxunk t , 1992 \\n xxeob xxq00_00 \\n\\n xxq00_01xxbob xxbcet | | a xxecet \\n xxeob xxq00_01 \\n\\n xxq00_00xxbob xxbcet xxup fte xxup ero , xxunk xxup prl xxecet \\n xxeob xxq00_01 \\n\\n xxq00_01xxbob xxunk \\n xxeob xxq00_01 \\n\\n xxq00_01xxbob n \\n xxeob xxq00_01 \\n\\n xxq00_00xxbob xxmaj metabolic alterations produced by cigarette smoke in \\n rat lung and \\n xxeob xxq00_01 \\n\\n xxq00_00xxbob liver , and their modulation by oral xxmaj n - xxunk \\n xxeob xxq00_01 \\n\\n xxq00_00xxbob xxunk , xxunk , xxunk , xxunk \\n and xxup s. xxmaj de xxmaj floral \\n xxeob xxq00_00 \\n\\n xxq00_00xxbob xxmaj insitute of xxup i , xxmaj hygiene and xxmaj preventative xxmaj medicine , xxmaj university of xxmaj xxunk \\n sia xxmaj xxunk xxup xxunk xxmaj xxunk , lay \\n xxeob xxq00_00 \\n\\n xxq00_00xxbob \\n xxeob xxq00_00 \\n\\n xxq00_00xxbob \"</td>\n",
              "      <td>6</td>\n",
              "      <td>6</td>\n",
              "    </tr>\n",
              "    <tr>\n",
              "      <th>7</th>\n",
              "      <td>xxbos xxfld 1 \\n xxq00_00 xxbob ‘ submited by : \\n xxeob xxq00_00 \\n\\n xxq00_00xxbob xxmaj forthe { xxunk xxunk ending \\n xxeob xxq00_00 \\n\\n xxq01_00xxbob xxunk \\n xxeob xxq01_00 \\n\\n xxq01_00xxbob xxunk . \\n xxeob xxq01_00 \\n\\n xxq02_00xxbob xxup he xxup xxunk \\n xxeob xxq02_00 \\n\\n xxq00_00xxbob \\n xxeob xxq00_00 \\n\\n xxq00_00xxbob xxmaj trade xxmaj show \\n xxmaj trade xxmaj show \\n xxmaj trade xxmaj show \\n xxmaj trade xxmaj show \\n xxbcet xxmaj got xxmaj day xxecet \\n ‘ trade xxmaj show \\n xxbcet xxmaj gol xxmaj gor ci xxmaj outing xxecet \\n xxmaj trade xxmaj show \\n xxmaj golf xxmaj outing \\n xxmaj trade xxmaj show \\n xxmaj golf xxmaj outing \\n xxmaj gok xxmaj outing \\n xxmaj trad xxmaj show \\n xxmaj buying xxmaj show \\n xxmaj trade xxmaj show \\n xxmaj trade xxmaj show \\n ‘ trade xxmaj show \\n xxmaj mgmt . xxmaj seminar</td>\n",
              "      <td>10</td>\n",
              "      <td>10</td>\n",
              "    </tr>\n",
              "    <tr>\n",
              "      <th>8</th>\n",
              "      <td>xxbos xxfld 1 \\n xxq01_00 xxbob \\n xxeob xxq02_00 \\n\\n xxq00_00xxbob xxup industrial xxup policy \\n xxeob xxq00_00 \\n\\n xxq00_00xxbob xxmaj new xxmaj program xxmaj funds xxmaj genome xxmaj technology \\n xxeob xxq00_01 \\n\\n xxq00_00xxbob xxbcet ‘ thie human still xxecet \\n from its goal of genome mapping project is years \\n and sequencing the \\n ‘ entire human generic code , bu the xxunk \\n xxbcet related genes it has already xxunk xxecet \\n up are \\n forcing planners to prepare for and the xxunk next \\n xxbcet step — widespread genetic testing xxecet \\n xxunk . xxmaj the problem is that testing for \\n a \\n single gene can cast mote or than roo a hundred \\n dollars — a factor of 10 more \\n expensive \\n for widespread use . xxmaj beter technology the \\n is \\n answer , say planners , but industry i often \\n</td>\n",
              "      <td>6</td>\n",
              "      <td>6</td>\n",
              "    </tr>\n",
              "  </tbody>\n",
              "</table>"
            ],
            "text/plain": [
              "<IPython.core.display.HTML object>"
            ]
          },
          "metadata": {}
        }
      ]
    },
    {
      "cell_type": "code",
      "metadata": {
        "id": "Rw8c5QKzir0E",
        "colab": {
          "base_uri": "https://localhost:8080/"
        },
        "outputId": "28c25af3-d133-4250-8cea-13a7ce6e1d0b"
      },
      "source": [
        "learn.save('text_classification')"
      ],
      "execution_count": 26,
      "outputs": [
        {
          "output_type": "execute_result",
          "data": {
            "text/plain": [
              "Path('models/text_classification.pth')"
            ]
          },
          "metadata": {},
          "execution_count": 26
        }
      ]
    },
    {
      "cell_type": "code",
      "metadata": {
        "id": "ITlc1bIjir0E"
      },
      "source": [
        "# load model\n",
        "learn = learn.load('text_classification')"
      ],
      "execution_count": 27,
      "outputs": []
    },
    {
      "cell_type": "code",
      "metadata": {
        "colab": {
          "base_uri": "https://localhost:8080/",
          "height": 238
        },
        "id": "jtMn6zPzDua6",
        "outputId": "ce8ab09f-ad5b-44fb-c9f4-461dd5c3ad81"
      },
      "source": [
        "learn.unfreeze()\n",
        "learn.fit_one_cycle(6, 2e-3)"
      ],
      "execution_count": 28,
      "outputs": [
        {
          "output_type": "display_data",
          "data": {
            "text/html": [
              "<table border=\"1\" class=\"dataframe\">\n",
              "  <thead>\n",
              "    <tr style=\"text-align: left;\">\n",
              "      <th>epoch</th>\n",
              "      <th>train_loss</th>\n",
              "      <th>valid_loss</th>\n",
              "      <th>error_rate</th>\n",
              "      <th>accuracy</th>\n",
              "      <th>perplexity</th>\n",
              "      <th>time</th>\n",
              "    </tr>\n",
              "  </thead>\n",
              "  <tbody>\n",
              "    <tr>\n",
              "      <td>0</td>\n",
              "      <td>0.119517</td>\n",
              "      <td>0.064512</td>\n",
              "      <td>0.015500</td>\n",
              "      <td>0.984500</td>\n",
              "      <td>1.066639</td>\n",
              "      <td>01:24</td>\n",
              "    </tr>\n",
              "    <tr>\n",
              "      <td>1</td>\n",
              "      <td>0.113251</td>\n",
              "      <td>0.046869</td>\n",
              "      <td>0.014000</td>\n",
              "      <td>0.986000</td>\n",
              "      <td>1.047985</td>\n",
              "      <td>01:24</td>\n",
              "    </tr>\n",
              "    <tr>\n",
              "      <td>2</td>\n",
              "      <td>0.084004</td>\n",
              "      <td>0.034388</td>\n",
              "      <td>0.009500</td>\n",
              "      <td>0.990500</td>\n",
              "      <td>1.034986</td>\n",
              "      <td>01:24</td>\n",
              "    </tr>\n",
              "    <tr>\n",
              "      <td>3</td>\n",
              "      <td>0.052010</td>\n",
              "      <td>0.034442</td>\n",
              "      <td>0.010000</td>\n",
              "      <td>0.990000</td>\n",
              "      <td>1.035042</td>\n",
              "      <td>01:25</td>\n",
              "    </tr>\n",
              "    <tr>\n",
              "      <td>4</td>\n",
              "      <td>0.044483</td>\n",
              "      <td>0.022815</td>\n",
              "      <td>0.007000</td>\n",
              "      <td>0.993000</td>\n",
              "      <td>1.023078</td>\n",
              "      <td>01:25</td>\n",
              "    </tr>\n",
              "    <tr>\n",
              "      <td>5</td>\n",
              "      <td>0.045052</td>\n",
              "      <td>0.020683</td>\n",
              "      <td>0.005500</td>\n",
              "      <td>0.994500</td>\n",
              "      <td>1.020899</td>\n",
              "      <td>01:25</td>\n",
              "    </tr>\n",
              "  </tbody>\n",
              "</table>"
            ],
            "text/plain": [
              "<IPython.core.display.HTML object>"
            ]
          },
          "metadata": {}
        }
      ]
    },
    {
      "cell_type": "code",
      "metadata": {
        "colab": {
          "base_uri": "https://localhost:8080/",
          "height": 306
        },
        "id": "uke_9kj5Ef-j",
        "outputId": "29fbb04f-0580-4d02-9bcc-4ffb1628f839"
      },
      "source": [
        "learn.unfreeze()\n",
        "learn.lr_find()"
      ],
      "execution_count": 29,
      "outputs": [
        {
          "output_type": "display_data",
          "data": {
            "text/html": [
              ""
            ],
            "text/plain": [
              "<IPython.core.display.HTML object>"
            ]
          },
          "metadata": {}
        },
        {
          "output_type": "execute_result",
          "data": {
            "text/plain": [
              "SuggestedLRs(valley=0.0010000000474974513)"
            ]
          },
          "metadata": {},
          "execution_count": 29
        },
        {
          "output_type": "display_data",
          "data": {
            "image/png": "[encoded data removed]",
            "text/plain": [
              "<Figure size 432x288 with 1 Axes>"
            ]
          },
          "metadata": {
            "needs_background": "light"
          }
        }
      ]
    },
    {
      "cell_type": "code",
      "metadata": {
        "id": "BKcBxTsjOCVH"
      },
      "source": [
        "learn_lm = text_classifier_learner(dls, AWD_LSTM, drop_mult=0.5,metrics=[error_rate, accuracy, Perplexity()]).to_fp16()"
      ],
      "execution_count": 30,
      "outputs": []
    },
    {
      "cell_type": "code",
      "metadata": {
        "colab": {
          "base_uri": "https://localhost:8080/",
          "height": 301
        },
        "id": "bXw6ULBgOTB_",
        "outputId": "32c78e08-40a8-431b-dddb-c6a6c745218d"
      },
      "source": [
        "learn_lm.fine_tune(6, 1e-2)"
      ],
      "execution_count": 31,
      "outputs": [
        {
          "output_type": "display_data",
          "data": {
            "text/html": [
              "<table border=\"1\" class=\"dataframe\">\n",
              "  <thead>\n",
              "    <tr style=\"text-align: left;\">\n",
              "      <th>epoch</th>\n",
              "      <th>train_loss</th>\n",
              "      <th>valid_loss</th>\n",
              "      <th>error_rate</th>\n",
              "      <th>accuracy</th>\n",
              "      <th>perplexity</th>\n",
              "      <th>time</th>\n",
              "    </tr>\n",
              "  </thead>\n",
              "  <tbody>\n",
              "    <tr>\n",
              "      <td>0</td>\n",
              "      <td>1.899893</td>\n",
              "      <td>1.241253</td>\n",
              "      <td>0.380000</td>\n",
              "      <td>0.620000</td>\n",
              "      <td>3.459947</td>\n",
              "      <td>00:34</td>\n",
              "    </tr>\n",
              "  </tbody>\n",
              "</table>"
            ],
            "text/plain": [
              "<IPython.core.display.HTML object>"
            ]
          },
          "metadata": {}
        },
        {
          "output_type": "display_data",
          "data": {
            "text/html": [
              "<table border=\"1\" class=\"dataframe\">\n",
              "  <thead>\n",
              "    <tr style=\"text-align: left;\">\n",
              "      <th>epoch</th>\n",
              "      <th>train_loss</th>\n",
              "      <th>valid_loss</th>\n",
              "      <th>error_rate</th>\n",
              "      <th>accuracy</th>\n",
              "      <th>perplexity</th>\n",
              "      <th>time</th>\n",
              "    </tr>\n",
              "  </thead>\n",
              "  <tbody>\n",
              "    <tr>\n",
              "      <td>0</td>\n",
              "      <td>0.729215</td>\n",
              "      <td>0.179338</td>\n",
              "      <td>0.051000</td>\n",
              "      <td>0.949000</td>\n",
              "      <td>1.196425</td>\n",
              "      <td>01:25</td>\n",
              "    </tr>\n",
              "    <tr>\n",
              "      <td>1</td>\n",
              "      <td>0.240719</td>\n",
              "      <td>0.058678</td>\n",
              "      <td>0.015500</td>\n",
              "      <td>0.984500</td>\n",
              "      <td>1.060433</td>\n",
              "      <td>01:25</td>\n",
              "    </tr>\n",
              "    <tr>\n",
              "      <td>2</td>\n",
              "      <td>0.122857</td>\n",
              "      <td>0.035294</td>\n",
              "      <td>0.008000</td>\n",
              "      <td>0.992000</td>\n",
              "      <td>1.035924</td>\n",
              "      <td>01:25</td>\n",
              "    </tr>\n",
              "    <tr>\n",
              "      <td>3</td>\n",
              "      <td>0.083565</td>\n",
              "      <td>0.048026</td>\n",
              "      <td>0.013000</td>\n",
              "      <td>0.987000</td>\n",
              "      <td>1.049198</td>\n",
              "      <td>01:25</td>\n",
              "    </tr>\n",
              "    <tr>\n",
              "      <td>4</td>\n",
              "      <td>0.070992</td>\n",
              "      <td>0.030942</td>\n",
              "      <td>0.007500</td>\n",
              "      <td>0.992500</td>\n",
              "      <td>1.031426</td>\n",
              "      <td>01:25</td>\n",
              "    </tr>\n",
              "    <tr>\n",
              "      <td>5</td>\n",
              "      <td>0.048695</td>\n",
              "      <td>0.027642</td>\n",
              "      <td>0.007500</td>\n",
              "      <td>0.992500</td>\n",
              "      <td>1.028027</td>\n",
              "      <td>01:25</td>\n",
              "    </tr>\n",
              "  </tbody>\n",
              "</table>"
            ],
            "text/plain": [
              "<IPython.core.display.HTML object>"
            ]
          },
          "metadata": {}
        }
      ]
    },
    {
      "cell_type": "markdown",
      "source": [
        "##Validation"
      ],
      "metadata": {
        "id": "02q2cfAEv-2L"
      }
    },
    {
      "cell_type": "code",
      "source": [
        "df_test = df_test[0:3000]"
      ],
      "metadata": {
        "id": "dI-21566m66z"
      },
      "execution_count": 32,
      "outputs": []
    },
    {
      "cell_type": "code",
      "metadata": {
        "id": "PDKUp3_xOeF9",
        "colab": {
          "base_uri": "https://localhost:8080/",
          "height": 72
        },
        "outputId": "e11b725d-07ae-4884-81f8-0ca1f4cdaf27"
      },
      "source": [
        "# create dataloader of test\n",
        "dblock_test_tags = DataBlock(\n",
        "    blocks=(TextBlock.from_df('texttags', seq_len=72), CategoryBlock),\n",
        "            get_x=get_features, \n",
        "            get_y=get_labels)\n",
        "\n",
        "dloader_test = dblock_test_tags.dataloaders(df_test, bs=64)"
      ],
      "execution_count": 34,
      "outputs": [
        {
          "output_type": "display_data",
          "data": {
            "text/html": [
              ""
            ],
            "text/plain": [
              "<IPython.core.display.HTML object>"
            ]
          },
          "metadata": {}
        },
        {
          "output_type": "stream",
          "name": "stderr",
          "text": [
            "/usr/local/lib/python3.7/dist-packages/numpy/core/_asarray.py:83: VisibleDeprecationWarning: Creating an ndarray from ragged nested sequences (which is a list-or-tuple of lists-or-tuples-or ndarrays with different lengths or shapes) is deprecated. If you meant to do this, you must specify 'dtype=object' when creating the ndarray\n",
            "  return array(a, dtype, copy=False, order=order)\n"
          ]
        }
      ]
    },
    {
      "cell_type": "code",
      "metadata": {
        "id": "OHx_4h_GO0_6",
        "colab": {
          "base_uri": "https://localhost:8080/",
          "height": 17
        },
        "outputId": "9ef8621e-73ae-4ba0-cfc3-e1988c431569"
      },
      "source": [
        "test_dl = dloader_test.test_dl(df_test['texttags'])\n",
        "preds = learn_lm.get_preds(dl=test_dl, with_decoded=True)"
      ],
      "execution_count": 36,
      "outputs": [
        {
          "output_type": "display_data",
          "data": {
            "text/html": [
              ""
            ],
            "text/plain": [
              "<IPython.core.display.HTML object>"
            ]
          },
          "metadata": {}
        }
      ]
    },
    {
      "cell_type": "code",
      "source": [
        "len(preds)"
      ],
      "metadata": {
        "id": "IRn1BE2Xlw98",
        "outputId": "2c188c9c-3c81-4937-bb74-de73f0f7f3ea",
        "colab": {
          "base_uri": "https://localhost:8080/"
        }
      },
      "execution_count": 37,
      "outputs": [
        {
          "output_type": "execute_result",
          "data": {
            "text/plain": [
              "3"
            ]
          },
          "metadata": {},
          "execution_count": 37
        }
      ]
    },
    {
      "cell_type": "code",
      "source": [
        "learn_lm.validate()"
      ],
      "metadata": {
        "id": "ZdEp4Buulx1k",
        "outputId": "decced85-0b05-4f10-a11f-018e531119e5",
        "colab": {
          "base_uri": "https://localhost:8080/",
          "height": 34
        }
      },
      "execution_count": 38,
      "outputs": [
        {
          "output_type": "display_data",
          "data": {
            "text/html": [
              ""
            ],
            "text/plain": [
              "<IPython.core.display.HTML object>"
            ]
          },
          "metadata": {}
        },
        {
          "output_type": "execute_result",
          "data": {
            "text/plain": [
              "(#4) [0.02764165960252285,0.007499999832361937,0.9925000071525574,1.0280272960662842]"
            ]
          },
          "metadata": {},
          "execution_count": 38
        }
      ]
    },
    {
      "cell_type": "code",
      "source": [
        "interp = ClassificationInterpretation.from_learner(learn_lm)\n",
        "interp.plot_confusion_matrix()"
      ],
      "metadata": {
        "id": "10eEHOedl1cY",
        "outputId": "b6f8108a-0156-450e-baa1-c6d8d2dfb868",
        "colab": {
          "base_uri": "https://localhost:8080/",
          "height": 310
        }
      },
      "execution_count": 39,
      "outputs": [
        {
          "output_type": "display_data",
          "data": {
            "text/html": [
              ""
            ],
            "text/plain": [
              "<IPython.core.display.HTML object>"
            ]
          },
          "metadata": {}
        },
        {
          "output_type": "display_data",
          "data": {
            "image/png": "[encoded data removed]",
            "text/plain": [
              "<Figure size 432x288 with 1 Axes>"
            ]
          },
          "metadata": {
            "needs_background": "light"
          }
        }
      ]
    }
  ]
}
