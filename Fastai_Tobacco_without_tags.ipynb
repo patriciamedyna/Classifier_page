{
  "cells": [
    {
      "cell_type": "markdown",
      "metadata": {
        "id": "view-in-github",
        "colab_type": "text"
      },
      "source": [
        "<a href=\"https://colab.research.google.com/github/patriciamedyna/Classifier_page/blob/main/Fastai_Tobacco_without_tags.ipynb\" target=\"_parent\"><img src=\"https://colab.research.google.com/assets/colab-badge.svg\" alt=\"Open In Colab\"/></a>"
      ]
    },
    {
      "cell_type": "code",
      "execution_count": 1,
      "metadata": {
        "id": "UJr_N-oGWpgm"
      },
      "outputs": [],
      "source": [
        "! [ -e /content ] && pip install -Uqq fastai"
      ]
    },
    {
      "cell_type": "code",
      "execution_count": 2,
      "metadata": {
        "id": "yaH3SUzZjuA-"
      },
      "outputs": [],
      "source": [
        "#hide\n",
        "!pip install -Uqq fastbook\n",
        "import fastbook"
      ]
    },
    {
      "cell_type": "code",
      "execution_count": 3,
      "metadata": {
        "id": "ZZ_arKKyj3Co"
      },
      "outputs": [],
      "source": [
        "#hide\n",
        "from fastbook import *\n",
        "from IPython.display import display,HTML"
      ]
    },
    {
      "cell_type": "code",
      "execution_count": 4,
      "metadata": {
        "id": "ET20xTLFYoP1"
      },
      "outputs": [],
      "source": [
        "from fastai.basics import *\n",
        "from fastai.text.core import *\n",
        "from fastai.text.data import *\n",
        "from fastai.text.models.core import *\n",
        "from fastai.text.models.awdlstm import *\n",
        "from fastai.callback.rnn import *\n",
        "from fastai.callback.progress import *\n",
        "from fastai.vision import *\n",
        "from fastai.text.all import *\n",
        "from fastai.text import *\n",
        "from datetime import datetime"
      ]
    },
    {
      "cell_type": "code",
      "execution_count": 5,
      "metadata": {
        "id": "-gu3NxcBirzx"
      },
      "outputs": [],
      "source": [
        "seed = 42\n",
        "\n",
        "# python RNG\n",
        "import random\n",
        "random.seed(seed)\n",
        "\n",
        "# pytorch RNGs\n",
        "import torch\n",
        "torch.manual_seed(seed)\n",
        "torch.backends.cudnn.deterministic = True\n",
        "if torch.cuda.is_available(): torch.cuda.manual_seed_all(seed)\n",
        "\n",
        "# numpy RNG\n",
        "import numpy as np\n",
        "np.random.seed(seed)"
      ]
    },
    {
      "cell_type": "code",
      "execution_count": 6,
      "metadata": {
        "colab": {
          "base_uri": "https://localhost:8080/"
        },
        "id": "51jgSOs8zZrX",
        "outputId": "679e97e0-85dd-4b43-88db-1cf12abef6d9"
      },
      "outputs": [
        {
          "output_type": "stream",
          "name": "stdout",
          "text": [
            "Mounted at /content/drive\n"
          ]
        }
      ],
      "source": [
        "from google.colab import drive\n",
        "drive.mount('/content/drive')"
      ]
    },
    {
      "cell_type": "code",
      "source": [
        "path = '/content/drive/MyDrive/Colab Notebooks/Datasets/Tobacco_LSTM/layout/'"
      ],
      "metadata": {
        "id": "fRoaShqYXKtP"
      },
      "execution_count": 7,
      "outputs": []
    },
    {
      "cell_type": "code",
      "execution_count": 8,
      "metadata": {
        "id": "F3fCSD3QmMF_",
        "colab": {
          "base_uri": "https://localhost:8080/"
        },
        "outputId": "319d8a85-80ff-4d2e-b776-dcbb9bef8ee6"
      },
      "outputs": [
        {
          "output_type": "stream",
          "name": "stderr",
          "text": [
            "/usr/local/lib/python3.7/dist-packages/IPython/core/interactiveshell.py:2882: FutureWarning: The error_bad_lines argument has been deprecated and will be removed in a future version.\n",
            "\n",
            "\n",
            "  exec(code_obj, self.user_global_ns, self.user_ns)\n"
          ]
        }
      ],
      "source": [
        "df_train = pd.read_csv(path + 'train_tags.csv', delimiter=',',  error_bad_lines=False, index_col=False)"
      ]
    },
    {
      "cell_type": "code",
      "execution_count": 9,
      "metadata": {
        "colab": {
          "base_uri": "https://localhost:8080/",
          "height": 177
        },
        "id": "mQDKLPV-GsOh",
        "outputId": "14bdae0a-bff6-43f2-e4d7-01f11d9d2fa9"
      },
      "outputs": [
        {
          "output_type": "execute_result",
          "data": {
            "text/plain": [
              "       class  \\\n",
              "0  FirstPage   \n",
              "\n",
              "                                                                                                                                                                                                                                                                                                                                                                                                                                                                                                                                                                                                                      text  \n",
              "0  Dr. M.A. Manzelli, PHILIP MORRIS INC., Research Center, P.O. Box 3 D Richmond, Va. 23206 U.S.A. Dear Art, Please find enclosed a proposed program for your visit in Europe. As you will see, this program contains two major points:  a)    A two-days meeting in Neuchätel with all people in Europe involved in infestation control (proposed program included).  b)    Visit of all PM Europe production centers with the purpose of:        - training people in Charge of the insect indenti-fication        - inspection of the sanitary conditions One of our main problems is the insect Identification and ...  "
            ],
            "text/html": [
              "\n",
              "  <div id=\"df-c5d0aaad-5a53-4b04-87c3-aec4a7ee7f05\">\n",
              "    <div class=\"colab-df-container\">\n",
              "      <div>\n",
              "<style scoped>\n",
              "    .dataframe tbody tr th:only-of-type {\n",
              "        vertical-align: middle;\n",
              "    }\n",
              "\n",
              "    .dataframe tbody tr th {\n",
              "        vertical-align: top;\n",
              "    }\n",
              "\n",
              "    .dataframe thead th {\n",
              "        text-align: right;\n",
              "    }\n",
              "</style>\n",
              "<table border=\"1\" class=\"dataframe\">\n",
              "  <thead>\n",
              "    <tr style=\"text-align: right;\">\n",
              "      <th></th>\n",
              "      <th>class</th>\n",
              "      <th>text</th>\n",
              "    </tr>\n",
              "  </thead>\n",
              "  <tbody>\n",
              "    <tr>\n",
              "      <th>0</th>\n",
              "      <td>FirstPage</td>\n",
              "      <td>Dr. M.A. Manzelli, PHILIP MORRIS INC., Research Center, P.O. Box 3 D Richmond, Va. 23206 U.S.A. Dear Art, Please find enclosed a proposed program for your visit in Europe. As you will see, this program contains two major points:  a)    A two-days meeting in Neuchätel with all people in Europe involved in infestation control (proposed program included).  b)    Visit of all PM Europe production centers with the purpose of:        - training people in Charge of the insect indenti-fication        - inspection of the sanitary conditions One of our main problems is the insect Identification and ...</td>\n",
              "    </tr>\n",
              "  </tbody>\n",
              "</table>\n",
              "</div>\n",
              "      <button class=\"colab-df-convert\" onclick=\"convertToInteractive('df-c5d0aaad-5a53-4b04-87c3-aec4a7ee7f05')\"\n",
              "              title=\"Convert this dataframe to an interactive table.\"\n",
              "              style=\"display:none;\">\n",
              "        \n",
              "  <svg xmlns=\"http://www.w3.org/2000/svg\" height=\"24px\"viewBox=\"0 0 24 24\"\n",
              "       width=\"24px\">\n",
              "    <path d=\"M0 0h24v24H0V0z\" fill=\"none\"/>\n",
              "    <path d=\"M18.56 5.44l.94 2.06.94-2.06 2.06-.94-2.06-.94-.94-2.06-.94 2.06-2.06.94zm-11 1L8.5 8.5l.94-2.06 2.06-.94-2.06-.94L8.5 2.5l-.94 2.06-2.06.94zm10 10l.94 2.06.94-2.06 2.06-.94-2.06-.94-.94-2.06-.94 2.06-2.06.94z\"/><path d=\"M17.41 7.96l-1.37-1.37c-.4-.4-.92-.59-1.43-.59-.52 0-1.04.2-1.43.59L10.3 9.45l-7.72 7.72c-.78.78-.78 2.05 0 2.83L4 21.41c.39.39.9.59 1.41.59.51 0 1.02-.2 1.41-.59l7.78-7.78 2.81-2.81c.8-.78.8-2.07 0-2.86zM5.41 20L4 18.59l7.72-7.72 1.47 1.35L5.41 20z\"/>\n",
              "  </svg>\n",
              "      </button>\n",
              "      \n",
              "  <style>\n",
              "    .colab-df-container {\n",
              "      display:flex;\n",
              "      flex-wrap:wrap;\n",
              "      gap: 12px;\n",
              "    }\n",
              "\n",
              "    .colab-df-convert {\n",
              "      background-color: #E8F0FE;\n",
              "      border: none;\n",
              "      border-radius: 50%;\n",
              "      cursor: pointer;\n",
              "      display: none;\n",
              "      fill: #1967D2;\n",
              "      height: 32px;\n",
              "      padding: 0 0 0 0;\n",
              "      width: 32px;\n",
              "    }\n",
              "\n",
              "    .colab-df-convert:hover {\n",
              "      background-color: #E2EBFA;\n",
              "      box-shadow: 0px 1px 2px rgba(60, 64, 67, 0.3), 0px 1px 3px 1px rgba(60, 64, 67, 0.15);\n",
              "      fill: #174EA6;\n",
              "    }\n",
              "\n",
              "    [theme=dark] .colab-df-convert {\n",
              "      background-color: #3B4455;\n",
              "      fill: #D2E3FC;\n",
              "    }\n",
              "\n",
              "    [theme=dark] .colab-df-convert:hover {\n",
              "      background-color: #434B5C;\n",
              "      box-shadow: 0px 1px 3px 1px rgba(0, 0, 0, 0.15);\n",
              "      filter: drop-shadow(0px 1px 2px rgba(0, 0, 0, 0.3));\n",
              "      fill: #FFFFFF;\n",
              "    }\n",
              "  </style>\n",
              "\n",
              "      <script>\n",
              "        const buttonEl =\n",
              "          document.querySelector('#df-c5d0aaad-5a53-4b04-87c3-aec4a7ee7f05 button.colab-df-convert');\n",
              "        buttonEl.style.display =\n",
              "          google.colab.kernel.accessAllowed ? 'block' : 'none';\n",
              "\n",
              "        async function convertToInteractive(key) {\n",
              "          const element = document.querySelector('#df-c5d0aaad-5a53-4b04-87c3-aec4a7ee7f05');\n",
              "          const dataTable =\n",
              "            await google.colab.kernel.invokeFunction('convertToInteractive',\n",
              "                                                     [key], {});\n",
              "          if (!dataTable) return;\n",
              "\n",
              "          const docLinkHtml = 'Like what you see? Visit the ' +\n",
              "            '<a target=\"_blank\" href=https://colab.research.google.com/notebooks/data_table.ipynb>data table notebook</a>'\n",
              "            + ' to learn more about interactive tables.';\n",
              "          element.innerHTML = '';\n",
              "          dataTable['output_type'] = 'display_data';\n",
              "          await google.colab.output.renderOutput(dataTable, element);\n",
              "          const docLink = document.createElement('div');\n",
              "          docLink.innerHTML = docLinkHtml;\n",
              "          element.appendChild(docLink);\n",
              "        }\n",
              "      </script>\n",
              "    </div>\n",
              "  </div>\n",
              "  "
            ]
          },
          "metadata": {},
          "execution_count": 9
        }
      ],
      "source": [
        "df_train = df_train.drop(columns=['docid','binder','text_tags'])\n",
        "df_train.head(1)"
      ]
    },
    {
      "cell_type": "code",
      "execution_count": 10,
      "metadata": {
        "id": "mUIsYb_KhWYl",
        "colab": {
          "base_uri": "https://localhost:8080/"
        },
        "outputId": "c54ec7ee-2efd-4c22-9225-8294cccc1b97"
      },
      "outputs": [
        {
          "output_type": "stream",
          "name": "stderr",
          "text": [
            "/usr/local/lib/python3.7/dist-packages/IPython/core/interactiveshell.py:2882: FutureWarning: The error_bad_lines argument has been deprecated and will be removed in a future version.\n",
            "\n",
            "\n",
            "  exec(code_obj, self.user_global_ns, self.user_ns)\n"
          ]
        }
      ],
      "source": [
        "#path = '/content/drive/MyDrive/Colab Notebooks/Tobacco_LSTM/layout/'\n",
        "df_test = pd.read_csv(path + 'test_tags.csv', delimiter=',', error_bad_lines=False)"
      ]
    },
    {
      "cell_type": "code",
      "execution_count": 11,
      "metadata": {
        "colab": {
          "base_uri": "https://localhost:8080/",
          "height": 142
        },
        "id": "VJt7fbOrkXqu",
        "outputId": "9a26e3dd-6cf4-437f-b728-ac5da2126d7a"
      },
      "outputs": [
        {
          "output_type": "execute_result",
          "data": {
            "text/plain": [
              "       class  \\\n",
              "0  FirstPage   \n",
              "\n",
              "                                                                                                                                                                                                                                                                                                                                                                                                                                                                                                                                                                                                                      text  \n",
              "0  rii.E ^litl'                                                            karg;; , 1980                                                             ■'!?.!r- ■ !T |Sf: .'■■ J -1 p '■Mr'\" trr*. my MAILLARD REACTION \"A\" FLAVOR COMPONENTS./ A ] 5 6             *!               •• f         -----------------------------------------                                                                      ! i f i wii'.ii ■. , . j i i                                                         F; tp...' t/ t-■ l. ■i. v.' i -!* .i■ uill .,0'; [o,.' ' ’. Identification of flavor components in the ütjiieous la...  "
            ],
            "text/html": [
              "\n",
              "  <div id=\"df-a1ba4d9f-1479-427b-a559-48f76fac028f\">\n",
              "    <div class=\"colab-df-container\">\n",
              "      <div>\n",
              "<style scoped>\n",
              "    .dataframe tbody tr th:only-of-type {\n",
              "        vertical-align: middle;\n",
              "    }\n",
              "\n",
              "    .dataframe tbody tr th {\n",
              "        vertical-align: top;\n",
              "    }\n",
              "\n",
              "    .dataframe thead th {\n",
              "        text-align: right;\n",
              "    }\n",
              "</style>\n",
              "<table border=\"1\" class=\"dataframe\">\n",
              "  <thead>\n",
              "    <tr style=\"text-align: right;\">\n",
              "      <th></th>\n",
              "      <th>class</th>\n",
              "      <th>text</th>\n",
              "    </tr>\n",
              "  </thead>\n",
              "  <tbody>\n",
              "    <tr>\n",
              "      <th>0</th>\n",
              "      <td>FirstPage</td>\n",
              "      <td>rii.E ^litl'                                                            karg;; , 1980                                                             ■'!?.!r- ■ !T |Sf: .'■■ J -1 p '■Mr'\" trr*. my MAILLARD REACTION \"A\" FLAVOR COMPONENTS./ A ] 5 6             *!               •• f         -----------------------------------------                                                                      ! i f i wii'.ii ■. , . j i i                                                         F; tp...' t/ t-■ l. ■i. v.' i -!* .i■ uill .,0'; [o,.' ' ’. Identification of flavor components in the ütjiieous la...</td>\n",
              "    </tr>\n",
              "  </tbody>\n",
              "</table>\n",
              "</div>\n",
              "      <button class=\"colab-df-convert\" onclick=\"convertToInteractive('df-a1ba4d9f-1479-427b-a559-48f76fac028f')\"\n",
              "              title=\"Convert this dataframe to an interactive table.\"\n",
              "              style=\"display:none;\">\n",
              "        \n",
              "  <svg xmlns=\"http://www.w3.org/2000/svg\" height=\"24px\"viewBox=\"0 0 24 24\"\n",
              "       width=\"24px\">\n",
              "    <path d=\"M0 0h24v24H0V0z\" fill=\"none\"/>\n",
              "    <path d=\"M18.56 5.44l.94 2.06.94-2.06 2.06-.94-2.06-.94-.94-2.06-.94 2.06-2.06.94zm-11 1L8.5 8.5l.94-2.06 2.06-.94-2.06-.94L8.5 2.5l-.94 2.06-2.06.94zm10 10l.94 2.06.94-2.06 2.06-.94-2.06-.94-.94-2.06-.94 2.06-2.06.94z\"/><path d=\"M17.41 7.96l-1.37-1.37c-.4-.4-.92-.59-1.43-.59-.52 0-1.04.2-1.43.59L10.3 9.45l-7.72 7.72c-.78.78-.78 2.05 0 2.83L4 21.41c.39.39.9.59 1.41.59.51 0 1.02-.2 1.41-.59l7.78-7.78 2.81-2.81c.8-.78.8-2.07 0-2.86zM5.41 20L4 18.59l7.72-7.72 1.47 1.35L5.41 20z\"/>\n",
              "  </svg>\n",
              "      </button>\n",
              "      \n",
              "  <style>\n",
              "    .colab-df-container {\n",
              "      display:flex;\n",
              "      flex-wrap:wrap;\n",
              "      gap: 12px;\n",
              "    }\n",
              "\n",
              "    .colab-df-convert {\n",
              "      background-color: #E8F0FE;\n",
              "      border: none;\n",
              "      border-radius: 50%;\n",
              "      cursor: pointer;\n",
              "      display: none;\n",
              "      fill: #1967D2;\n",
              "      height: 32px;\n",
              "      padding: 0 0 0 0;\n",
              "      width: 32px;\n",
              "    }\n",
              "\n",
              "    .colab-df-convert:hover {\n",
              "      background-color: #E2EBFA;\n",
              "      box-shadow: 0px 1px 2px rgba(60, 64, 67, 0.3), 0px 1px 3px 1px rgba(60, 64, 67, 0.15);\n",
              "      fill: #174EA6;\n",
              "    }\n",
              "\n",
              "    [theme=dark] .colab-df-convert {\n",
              "      background-color: #3B4455;\n",
              "      fill: #D2E3FC;\n",
              "    }\n",
              "\n",
              "    [theme=dark] .colab-df-convert:hover {\n",
              "      background-color: #434B5C;\n",
              "      box-shadow: 0px 1px 3px 1px rgba(0, 0, 0, 0.15);\n",
              "      filter: drop-shadow(0px 1px 2px rgba(0, 0, 0, 0.3));\n",
              "      fill: #FFFFFF;\n",
              "    }\n",
              "  </style>\n",
              "\n",
              "      <script>\n",
              "        const buttonEl =\n",
              "          document.querySelector('#df-a1ba4d9f-1479-427b-a559-48f76fac028f button.colab-df-convert');\n",
              "        buttonEl.style.display =\n",
              "          google.colab.kernel.accessAllowed ? 'block' : 'none';\n",
              "\n",
              "        async function convertToInteractive(key) {\n",
              "          const element = document.querySelector('#df-a1ba4d9f-1479-427b-a559-48f76fac028f');\n",
              "          const dataTable =\n",
              "            await google.colab.kernel.invokeFunction('convertToInteractive',\n",
              "                                                     [key], {});\n",
              "          if (!dataTable) return;\n",
              "\n",
              "          const docLinkHtml = 'Like what you see? Visit the ' +\n",
              "            '<a target=\"_blank\" href=https://colab.research.google.com/notebooks/data_table.ipynb>data table notebook</a>'\n",
              "            + ' to learn more about interactive tables.';\n",
              "          element.innerHTML = '';\n",
              "          dataTable['output_type'] = 'display_data';\n",
              "          await google.colab.output.renderOutput(dataTable, element);\n",
              "          const docLink = document.createElement('div');\n",
              "          docLink.innerHTML = docLinkHtml;\n",
              "          element.appendChild(docLink);\n",
              "        }\n",
              "      </script>\n",
              "    </div>\n",
              "  </div>\n",
              "  "
            ]
          },
          "metadata": {},
          "execution_count": 11
        }
      ],
      "source": [
        "df_test = df_test.drop(columns=['docid','binder','text_tags'])\n",
        "df_test.head(1)"
      ]
    },
    {
      "cell_type": "code",
      "execution_count": 12,
      "metadata": {
        "colab": {
          "base_uri": "https://localhost:8080/"
        },
        "id": "enwscOSONRol",
        "outputId": "d383b86f-375d-4a7e-cca4-f1d47d37e48d"
      },
      "outputs": [
        {
          "output_type": "execute_result",
          "data": {
            "text/plain": [
              "((1031, 2), (259, 2))"
            ]
          },
          "metadata": {},
          "execution_count": 12
        }
      ],
      "source": [
        "df_train.shape, df_test.shape"
      ]
    },
    {
      "cell_type": "code",
      "execution_count": 13,
      "metadata": {
        "id": "ydjr8R8Xl8Qj"
      },
      "outputs": [],
      "source": [
        "#unsup_tags = pd.read_csv(path + 'unsup_tags.csv', delimiter=',', error_bad_lines=False)"
      ]
    },
    {
      "cell_type": "markdown",
      "metadata": {
        "id": "bY4v5mjtPfun"
      },
      "source": [
        "## Create DataLoader"
      ]
    },
    {
      "cell_type": "code",
      "execution_count": 14,
      "metadata": {
        "id": "vOx33LAtQKY1"
      },
      "outputs": [],
      "source": [
        "def get_features(r):\n",
        "\n",
        "  return r['text']\n",
        "\n",
        "def get_labels(r):\n",
        "\n",
        "  return r['class']"
      ]
    },
    {
      "cell_type": "code",
      "execution_count": 15,
      "metadata": {
        "colab": {
          "base_uri": "https://localhost:8080/",
          "height": 199
        },
        "id": "v9uaiqMalx0x",
        "outputId": "71e843b3-8471-4d84-d30d-f01dff2af60b"
      },
      "outputs": [
        {
          "output_type": "display_data",
          "data": {
            "text/plain": [
              "<IPython.core.display.HTML object>"
            ],
            "text/html": [
              "\n",
              "<style>\n",
              "    /* Turns off some styling */\n",
              "    progress {\n",
              "        /* gets rid of default border in Firefox and Opera. */\n",
              "        border: none;\n",
              "        /* Needs to be in here for Safari polyfill so background images work as expected. */\n",
              "        background-size: auto;\n",
              "    }\n",
              "    .progress-bar-interrupted, .progress-bar-interrupted::-webkit-progress-bar {\n",
              "        background: #F44336;\n",
              "    }\n",
              "</style>\n"
            ]
          },
          "metadata": {}
        },
        {
          "output_type": "display_data",
          "data": {
            "text/plain": [
              "<IPython.core.display.HTML object>"
            ],
            "text/html": [
              ""
            ]
          },
          "metadata": {}
        },
        {
          "output_type": "display_data",
          "data": {
            "text/plain": [
              "<IPython.core.display.HTML object>"
            ],
            "text/html": [
              "<table border=\"1\" class=\"dataframe\">\n",
              "  <thead>\n",
              "    <tr style=\"text-align: right;\">\n",
              "      <th></th>\n",
              "      <th>text</th>\n",
              "      <th>category</th>\n",
              "    </tr>\n",
              "  </thead>\n",
              "  <tbody>\n",
              "    <tr>\n",
              "      <th>0</th>\n",
              "      <td>xxbos xxfld 1 xxup u ) ö tn t ; ( fi a « o ri o o u xxmaj lj o ü - ] ■ xxup vd ( ji rl xxunk &lt; u o p cj o i m i y 4j o ■ h f i xxmaj hl &lt; ; &lt; h o 4 &gt; si tu o m xxup xxunk , | &gt; xxunk fl tj * xxmaj xxunk o o n fi xxup xxunk ri tj o fl to ö » * * o to * fi « 1 &lt; l &gt; -h &gt; « 3 e &gt; p xxunk rh ft 4j xxmaj fh m | &gt; o / ■ &gt; 0 xxunk rj 0 &lt; 9 , ri xxup hj &lt; i &gt; o xxup cd &lt; il it . 5 xxunk xxup cj xxmaj pi fh j • tn d xxmaj vi *</td>\n",
              "      <td>NextPage</td>\n",
              "    </tr>\n",
              "    <tr>\n",
              "      <th>1</th>\n",
              "      <td>xxbos xxfld 1 xxunk xxmaj federal xxmaj register / xxmaj vol . 45 . xxmaj no . 7 l xxmaj xxunk . xxmaj xxunk 10 , xxunk / xxmaj xxunk xxmaj tb 1 ml xxunk 1 xxmaj xxunk xxunk - xxunk xxup xxunk ) , « ! ( xxunk xxmaj xxunk » sf xxmaj xxunk xxunk xxmaj xxunk l c ta xxmaj xxunk # tm xxup mh « far .. . ti 10 xxmaj xxunk xxunk » - « or … … .. ■ . xxrep 3 - * * \" 3 w * . » xxunk . 1 0 « xxmaj xxunk . xxrep 4 - - xxmaj xxunk xxunk xxmaj mt * … … .. » 0 « xxunk … xxunk : f 01 ■ mt xxmaj xxunk i 04 xxunk - - xxmaj xxunk xxmaj al ! » * 5 04 xxunk xxup ta » xxunk xxrep</td>\n",
              "      <td>NextPage</td>\n",
              "    </tr>\n",
              "  </tbody>\n",
              "</table>"
            ]
          },
          "metadata": {}
        }
      ],
      "source": [
        "dblock_train = DataBlock(\n",
        "    blocks=(TextBlock.from_df(text_cols=['text', 'class'], seq_len=72), CategoryBlock),\n",
        "            get_x=get_features, \n",
        "            get_y=get_labels)\n",
        "\n",
        "dloader_train = dblock_train.dataloaders(df_train, bs=128)\n",
        "dloader_train.show_batch(max_n=2)"
      ]
    },
    {
      "cell_type": "markdown",
      "metadata": {
        "id": "MClnyCFIRQsS"
      },
      "source": [
        "## Classification Model"
      ]
    },
    {
      "cell_type": "code",
      "execution_count": 16,
      "metadata": {
        "id": "RLDNSEnSXZLf"
      },
      "outputs": [],
      "source": [
        "# checkpoint \n",
        "cbs=[SaveModelCallback()]"
      ]
    },
    {
      "cell_type": "code",
      "source": [
        "now = datetime.today().strftime('%Y-%m-%d-%H:%M:%S')"
      ],
      "metadata": {
        "id": "hkoqG2QLVOM0"
      },
      "execution_count": 17,
      "outputs": []
    },
    {
      "cell_type": "code",
      "execution_count": 18,
      "metadata": {
        "colab": {
          "base_uri": "https://localhost:8080/",
          "height": 37
        },
        "id": "yFi9cVezirz9",
        "outputId": "24ef42e7-4cc4-4b0d-afd4-fec49d3b6253"
      },
      "outputs": [
        {
          "output_type": "display_data",
          "data": {
            "text/plain": [
              "<IPython.core.display.HTML object>"
            ],
            "text/html": [
              "\n",
              "<style>\n",
              "    /* Turns off some styling */\n",
              "    progress {\n",
              "        /* gets rid of default border in Firefox and Opera. */\n",
              "        border: none;\n",
              "        /* Needs to be in here for Safari polyfill so background images work as expected. */\n",
              "        background-size: auto;\n",
              "    }\n",
              "    .progress-bar-interrupted, .progress-bar-interrupted::-webkit-progress-bar {\n",
              "        background: #F44336;\n",
              "    }\n",
              "</style>\n"
            ]
          },
          "metadata": {}
        },
        {
          "output_type": "display_data",
          "data": {
            "text/plain": [
              "<IPython.core.display.HTML object>"
            ],
            "text/html": [
              "\n",
              "    <div>\n",
              "      <progress value='105070592' class='' max='105067061' style='width:300px; height:20px; vertical-align: middle;'></progress>\n",
              "      100.00% [105070592/105067061 00:07<00:00]\n",
              "    </div>\n",
              "    "
            ]
          },
          "metadata": {}
        }
      ],
      "source": [
        "learn = text_classifier_learner(dloader_train, AWD_LSTM, drop_mult=0.5,path='/content/drive/MyDrive/Colab Notebooks/Datasets/Tobacco_LSTM/layout/checkpoints', metrics=[error_rate, accuracy, Perplexity()]).to_fp16()"
      ]
    },
    {
      "cell_type": "code",
      "execution_count": 19,
      "metadata": {
        "colab": {
          "base_uri": "https://localhost:8080/",
          "height": 705
        },
        "id": "Zo2DlMlnirz-",
        "outputId": "056697b4-70e8-4680-b2c3-fdb90ceaecde"
      },
      "outputs": [
        {
          "output_type": "display_data",
          "data": {
            "text/plain": [
              "<IPython.core.display.HTML object>"
            ],
            "text/html": [
              "\n",
              "<style>\n",
              "    /* Turns off some styling */\n",
              "    progress {\n",
              "        /* gets rid of default border in Firefox and Opera. */\n",
              "        border: none;\n",
              "        /* Needs to be in here for Safari polyfill so background images work as expected. */\n",
              "        background-size: auto;\n",
              "    }\n",
              "    .progress-bar-interrupted, .progress-bar-interrupted::-webkit-progress-bar {\n",
              "        background: #F44336;\n",
              "    }\n",
              "</style>\n"
            ]
          },
          "metadata": {}
        },
        {
          "output_type": "display_data",
          "data": {
            "text/plain": [
              "<IPython.core.display.HTML object>"
            ],
            "text/html": [
              "<table border=\"1\" class=\"dataframe\">\n",
              "  <thead>\n",
              "    <tr style=\"text-align: left;\">\n",
              "      <th>epoch</th>\n",
              "      <th>train_loss</th>\n",
              "      <th>valid_loss</th>\n",
              "      <th>error_rate</th>\n",
              "      <th>accuracy</th>\n",
              "      <th>perplexity</th>\n",
              "      <th>time</th>\n",
              "    </tr>\n",
              "  </thead>\n",
              "  <tbody>\n",
              "    <tr>\n",
              "      <td>0</td>\n",
              "      <td>0.709794</td>\n",
              "      <td>0.624818</td>\n",
              "      <td>0.378641</td>\n",
              "      <td>0.621359</td>\n",
              "      <td>1.867906</td>\n",
              "      <td>00:02</td>\n",
              "    </tr>\n",
              "  </tbody>\n",
              "</table>"
            ]
          },
          "metadata": {}
        },
        {
          "output_type": "stream",
          "name": "stdout",
          "text": [
            "Better model found at epoch 0 with valid_loss value: 0.6248180866241455.\n"
          ]
        },
        {
          "output_type": "display_data",
          "data": {
            "text/plain": [
              "<IPython.core.display.HTML object>"
            ],
            "text/html": [
              "\n",
              "<style>\n",
              "    /* Turns off some styling */\n",
              "    progress {\n",
              "        /* gets rid of default border in Firefox and Opera. */\n",
              "        border: none;\n",
              "        /* Needs to be in here for Safari polyfill so background images work as expected. */\n",
              "        background-size: auto;\n",
              "    }\n",
              "    .progress-bar-interrupted, .progress-bar-interrupted::-webkit-progress-bar {\n",
              "        background: #F44336;\n",
              "    }\n",
              "</style>\n"
            ]
          },
          "metadata": {}
        },
        {
          "output_type": "display_data",
          "data": {
            "text/plain": [
              "<IPython.core.display.HTML object>"
            ],
            "text/html": [
              "<table border=\"1\" class=\"dataframe\">\n",
              "  <thead>\n",
              "    <tr style=\"text-align: left;\">\n",
              "      <th>epoch</th>\n",
              "      <th>train_loss</th>\n",
              "      <th>valid_loss</th>\n",
              "      <th>error_rate</th>\n",
              "      <th>accuracy</th>\n",
              "      <th>perplexity</th>\n",
              "      <th>time</th>\n",
              "    </tr>\n",
              "  </thead>\n",
              "  <tbody>\n",
              "    <tr>\n",
              "      <td>0</td>\n",
              "      <td>0.562352</td>\n",
              "      <td>0.581962</td>\n",
              "      <td>0.349515</td>\n",
              "      <td>0.650485</td>\n",
              "      <td>1.789547</td>\n",
              "      <td>00:04</td>\n",
              "    </tr>\n",
              "    <tr>\n",
              "      <td>1</td>\n",
              "      <td>0.520773</td>\n",
              "      <td>0.539711</td>\n",
              "      <td>0.330097</td>\n",
              "      <td>0.669903</td>\n",
              "      <td>1.715511</td>\n",
              "      <td>00:04</td>\n",
              "    </tr>\n",
              "    <tr>\n",
              "      <td>2</td>\n",
              "      <td>0.485938</td>\n",
              "      <td>0.421985</td>\n",
              "      <td>0.179612</td>\n",
              "      <td>0.820388</td>\n",
              "      <td>1.524986</td>\n",
              "      <td>00:04</td>\n",
              "    </tr>\n",
              "    <tr>\n",
              "      <td>3</td>\n",
              "      <td>0.455919</td>\n",
              "      <td>0.362724</td>\n",
              "      <td>0.160194</td>\n",
              "      <td>0.839806</td>\n",
              "      <td>1.437239</td>\n",
              "      <td>00:04</td>\n",
              "    </tr>\n",
              "    <tr>\n",
              "      <td>4</td>\n",
              "      <td>0.434828</td>\n",
              "      <td>0.346612</td>\n",
              "      <td>0.155340</td>\n",
              "      <td>0.844660</td>\n",
              "      <td>1.414268</td>\n",
              "      <td>00:04</td>\n",
              "    </tr>\n",
              "    <tr>\n",
              "      <td>5</td>\n",
              "      <td>0.408353</td>\n",
              "      <td>0.231038</td>\n",
              "      <td>0.067961</td>\n",
              "      <td>0.932039</td>\n",
              "      <td>1.259908</td>\n",
              "      <td>00:04</td>\n",
              "    </tr>\n",
              "    <tr>\n",
              "      <td>6</td>\n",
              "      <td>0.380965</td>\n",
              "      <td>0.336778</td>\n",
              "      <td>0.126214</td>\n",
              "      <td>0.873786</td>\n",
              "      <td>1.400428</td>\n",
              "      <td>00:04</td>\n",
              "    </tr>\n",
              "    <tr>\n",
              "      <td>7</td>\n",
              "      <td>0.351731</td>\n",
              "      <td>0.244723</td>\n",
              "      <td>0.077670</td>\n",
              "      <td>0.922330</td>\n",
              "      <td>1.277267</td>\n",
              "      <td>00:04</td>\n",
              "    </tr>\n",
              "    <tr>\n",
              "      <td>8</td>\n",
              "      <td>0.324555</td>\n",
              "      <td>0.313573</td>\n",
              "      <td>0.087379</td>\n",
              "      <td>0.912621</td>\n",
              "      <td>1.368306</td>\n",
              "      <td>00:04</td>\n",
              "    </tr>\n",
              "    <tr>\n",
              "      <td>9</td>\n",
              "      <td>0.302243</td>\n",
              "      <td>0.299370</td>\n",
              "      <td>0.082524</td>\n",
              "      <td>0.917476</td>\n",
              "      <td>1.349009</td>\n",
              "      <td>00:04</td>\n",
              "    </tr>\n",
              "    <tr>\n",
              "      <td>10</td>\n",
              "      <td>0.279905</td>\n",
              "      <td>0.250966</td>\n",
              "      <td>0.077670</td>\n",
              "      <td>0.922330</td>\n",
              "      <td>1.285266</td>\n",
              "      <td>00:04</td>\n",
              "    </tr>\n",
              "    <tr>\n",
              "      <td>11</td>\n",
              "      <td>0.260794</td>\n",
              "      <td>0.301422</td>\n",
              "      <td>0.082524</td>\n",
              "      <td>0.917476</td>\n",
              "      <td>1.351780</td>\n",
              "      <td>00:04</td>\n",
              "    </tr>\n",
              "    <tr>\n",
              "      <td>12</td>\n",
              "      <td>0.242045</td>\n",
              "      <td>0.285886</td>\n",
              "      <td>0.072816</td>\n",
              "      <td>0.927184</td>\n",
              "      <td>1.330941</td>\n",
              "      <td>00:04</td>\n",
              "    </tr>\n",
              "    <tr>\n",
              "      <td>13</td>\n",
              "      <td>0.226311</td>\n",
              "      <td>0.266225</td>\n",
              "      <td>0.072816</td>\n",
              "      <td>0.927184</td>\n",
              "      <td>1.305028</td>\n",
              "      <td>00:04</td>\n",
              "    </tr>\n",
              "    <tr>\n",
              "      <td>14</td>\n",
              "      <td>0.213974</td>\n",
              "      <td>0.262023</td>\n",
              "      <td>0.072816</td>\n",
              "      <td>0.927184</td>\n",
              "      <td>1.299556</td>\n",
              "      <td>00:04</td>\n",
              "    </tr>\n",
              "  </tbody>\n",
              "</table>"
            ]
          },
          "metadata": {}
        },
        {
          "output_type": "stream",
          "name": "stdout",
          "text": [
            "Better model found at epoch 0 with valid_loss value: 0.5819622874259949.\n",
            "Better model found at epoch 1 with valid_loss value: 0.5397107601165771.\n",
            "Better model found at epoch 2 with valid_loss value: 0.42198505997657776.\n",
            "Better model found at epoch 3 with valid_loss value: 0.3627241253852844.\n",
            "Better model found at epoch 4 with valid_loss value: 0.34661194682121277.\n",
            "Better model found at epoch 5 with valid_loss value: 0.23103849589824677.\n"
          ]
        }
      ],
      "source": [
        "learn.fine_tune(15, 1e-2, cbs=cbs)"
      ]
    },
    {
      "cell_type": "code",
      "execution_count": 20,
      "metadata": {
        "id": "AnxroDcpirz-"
      },
      "outputs": [],
      "source": [
        "#learn.fine_tune(10, 1e-2,cbs=cbs)"
      ]
    },
    {
      "cell_type": "code",
      "execution_count": 21,
      "metadata": {
        "colab": {
          "base_uri": "https://localhost:8080/",
          "height": 957
        },
        "id": "OuPTd5rbirz_",
        "outputId": "17555324-2969-4eea-84ea-2d0032186fad"
      },
      "outputs": [
        {
          "output_type": "display_data",
          "data": {
            "text/plain": [
              "<IPython.core.display.HTML object>"
            ],
            "text/html": [
              "\n",
              "<style>\n",
              "    /* Turns off some styling */\n",
              "    progress {\n",
              "        /* gets rid of default border in Firefox and Opera. */\n",
              "        border: none;\n",
              "        /* Needs to be in here for Safari polyfill so background images work as expected. */\n",
              "        background-size: auto;\n",
              "    }\n",
              "    .progress-bar-interrupted, .progress-bar-interrupted::-webkit-progress-bar {\n",
              "        background: #F44336;\n",
              "    }\n",
              "</style>\n"
            ]
          },
          "metadata": {}
        },
        {
          "output_type": "display_data",
          "data": {
            "text/plain": [
              "<IPython.core.display.HTML object>"
            ],
            "text/html": [
              ""
            ]
          },
          "metadata": {}
        },
        {
          "output_type": "display_data",
          "data": {
            "text/plain": [
              "<IPython.core.display.HTML object>"
            ],
            "text/html": [
              "<table border=\"1\" class=\"dataframe\">\n",
              "  <thead>\n",
              "    <tr style=\"text-align: right;\">\n",
              "      <th></th>\n",
              "      <th>text</th>\n",
              "      <th>category</th>\n",
              "      <th>category_</th>\n",
              "    </tr>\n",
              "  </thead>\n",
              "  <tbody>\n",
              "    <tr>\n",
              "      <th>0</th>\n",
              "      <td>xxbos xxfld 1 xxunk xxmaj federal xxmaj register i xxmaj vol . &lt; 5 . xxmaj no . 7 / xxmaj xxunk . xxmaj xxunk 10 , xxunk / xxmaj xxunk ( b ) xxmaj whether each » xxunk bat xxunk xxunk of xxunk group . 2 . xxmaj to xxunk xxunk xxunk to the • xxunk of xxup po ) to xxunk the needs of xxunk proposed xxunk area : ( a ) xxmaj whether the xxunk ! xxunk xxunk of agriculture and labor in xxunk - xxunk « . xxmaj xxunk ; ( b ] xxmaj whether the xxunk xxunk xxunk xxmaj problems xxunk of xxmaj ms xxmaj community of xxunk . j xxmaj to determine « xxunk xxmaj xxunk xxmaj xxunk - xxunk xxmaj is xxunk xxunk lo xxunk and xxmaj operate the proposed xxunk , 4- xxmaj to determine whether xxunk xxmaj broadcasting xxmaj inc .</td>\n",
              "      <td>NextPage</td>\n",
              "      <td>FirstPage</td>\n",
              "    </tr>\n",
              "    <tr>\n",
              "      <th>1</th>\n",
              "      <td>xxbos xxfld 1 xxunk rightfax xxup xxunk xxup company : xxup martin lipton xxunk xxup m. xxup xxunk xxup xxunk ti - xxunk xxunk xxunk xxup w - xxunk xxmaj richard u , xxunk xxup douglas xxup s. t , xxunk xxup m. xxup xxunk xxup xxunk xxup j. xxup fortgang xxunk , ff xxup c. xxup xxunk xxup michael xxup w. xxunk xxup xxunk xxup a. xxup martin xxunk xxup a. xxunk xxup lawrence 0- xxup xxunk xxunk - f rt , xxunk xxup paul xxup xxunk . xxup jr . xxunk xxup c. xxup xxunk xxup harold xxup s. xxunk xxup david xxup m. xxup einhorn xxunk xxup c. xxup xxunk t xxunk ö. xxup kqplow xxup theodore xxup n &gt; xxup xxunk 's £ pw xxup aro □ . xxup xxunk xxup xxunk xxup o , xxup feintuch xxunk a. xxunk xxunk &gt; c xxup m. »</td>\n",
              "      <td>FirstPage</td>\n",
              "      <td>FirstPage</td>\n",
              "    </tr>\n",
              "    <tr>\n",
              "      <th>2</th>\n",
              "      <td>xxbos xxfld 1 i xxunk xxunk xxup herbert xxup m. xxup wachtell xxup theodore xxup gewertz xxup bernard xxup w. xxup nussbaum xxup richard xxup o. xxup xxunk xxup douglas xxup s. xxup xxunk xxup steven xxup m * xxup bar xxup na xxup chaim xxup j * xxup fortgang xxup peter xxup c * xxup canellos xxup michael xxup w * xxunk xxup allan xxup a. xxup martin xxup barry xxup a. xxunk xxup lawrence xxup b- xxup xxunk xxup robert xxup b. xxup mazur xxup paul xxunk , xxmaj jfl . xxup peter xxup c. xxup hein xxup harold 5 . xxup xxunk xxup david xxup m * xxup einhorn xxup xxunk xxup b , xxup forrest xxup meyer xxup g. xxup koplow xxup theodore xxup n * xxup xxunk xxup edward xxup d * xxup xxunk xxup richard xxup d. xxunk xxup daniel xxup a. xxup neff</td>\n",
              "      <td>FirstPage</td>\n",
              "      <td>FirstPage</td>\n",
              "    </tr>\n",
              "    <tr>\n",
              "      <th>3</th>\n",
              "      <td>xxbos xxfld 1 02 / 24 / 99 11:29 xxunk xxup lipton xxunk xxup xxunk xxup in xxup lipton xxup herbert xxup m. xxup wachte . xxup ll xxunk xxunk * xxup bernard w , xxup xxunk « xxup richard xxup d. xxup kat xxup cmc n xxup xxunk xxup e , xxunk xxup steven xxup m , « ar xxup na xxup xxunk xxup j. xxunk xxunk xxup c. canellos xxup michael w. xxup xxunk xxup allah xxup a- xxup martin » xxunk xxup a. xxunk » xxmaj lawrence b. xxunk xxup robert 8 , xxup xxunk » aul xxup xxunk xxup xxunk , xxup jr . xxup peter xxup c. xxup hein xxup xxunk xxup s. xxup xxunk xxup oaviq xxup m. xxup einhorn xxup xxunk * ■ xxup xxunk t xxunk xxup o * xxunk xxup xxunk » xxup n. xxup mi « vi 's xxup edward</td>\n",
              "      <td>FirstPage</td>\n",
              "      <td>FirstPage</td>\n",
              "    </tr>\n",
              "    <tr>\n",
              "      <th>4</th>\n",
              "      <td>xxbos xxfld 1 xxup wlrk rightfax xxmaj server 5 / 28 / 99 5:12 : xxup page xxunk / 6 xxmaj xxunk xxmaj wilson company : lorillard xxmaj tobacco xxmaj company rightfax xxup xxunk tl &gt; ton xxup m. xxup xxunk xxup xxunk xxunk xxunk w * xxunk xxunk xxup d. xxunk xxup xxunk 5 . xxup xxunk xxup steven xxup m * . xxup bar xxup na xxunk £ xxup fortgang xxup pe xxup ter xxup c , xxunk xxunk . w » xxunk xxmaj allah a « xxunk xxunk a ! xxunk xxunk ■ - xxunk xxunk # xxunk xxup hai xxunk xxup paul xxunk , xxup jr . xxup peter xxunk xxup xxunk xxunk david % xxup einhorn xxunk . xxunk xxunk xxunk xxup xxunk xxrep 3 o xxup xxunk xxup n. xxup xxunk xxup edward □ . xxunk xxmaj richard o- xxunk xxunk xxup a. xxup</td>\n",
              "      <td>FirstPage</td>\n",
              "      <td>FirstPage</td>\n",
              "    </tr>\n",
              "    <tr>\n",
              "      <th>5</th>\n",
              "      <td>xxbos xxfld 1 xxunk xxmaj sudol , xxmaj marius 129 - 68 - 8626 9 . xxup supporting xxup data , xxup research xxup plan . xxmaj do not attach more than six additional pages ( xxunk ) . xxmaj please note that this page limit includes xxup figures and xxup references . xxup background xxmaj the first identification of transforming genes came from studies of xxup rna tumor viruses ( 1,2 ) . xxmaj these viral genes , called oncogenes ( v - onc ) , were later shown to be xxunk xxunk of normal cellular genes , called proto - oncogenes ( c - onc ) ( xxunk ) . xxmaj the common xxunk of all oncogenes is their ability to induce transformation of normal cells . xxmaj in contrast , no common functional xxunk has been found for the proto - oncogenes identified to date , but</td>\n",
              "      <td>NextPage</td>\n",
              "      <td>NextPage</td>\n",
              "    </tr>\n",
              "    <tr>\n",
              "      <th>6</th>\n",
              "      <td>xxbos xxfld 1 xxup the xxup american xxup tobacco xxup company xxup closed xxup capital xxup xxunk xxup report xxup as xxup of xxup september 30 , 1990 xxup year - xxunk xxup capital xxunk ; . xxup xxunk e . xxup car . xxup job xxup xxunk xxup auth xxup prior xxup urren xxup du xxup xxunk : xxunk ; urren : quarter xxup location xxup job xxunk : : : xxunk : xxunk xxunk : mönth : ; to date total : xxunk xxup xxunk : ; xxup to xxup date • xxup total xxup balance xxunk xxup xxunk xxup xxunk xxunk xxup monitor 1520 320 313 313 a 0 7 02 / 90 6 xxup admin xxup ctr xxup purchase xxup printer xxunk xxunk xxunk 35 545 0 0 ( 56 ) 05 / 90 5 xxup reidsville xxup xxunk xxup xxunk 8 xxrep 3 0 xxup</td>\n",
              "      <td>NextPage</td>\n",
              "      <td>NextPage</td>\n",
              "    </tr>\n",
              "    <tr>\n",
              "      <th>7</th>\n",
              "      <td>xxbos xxfld 1 xxup the xxup american xxup tobacco xxup company xxup closed xxup xxunk xxup projects xxup report xxup as xxup of xxup september 30,1990 xxup year - to - date xxup capital xxup expense : xxunk xxup xxunk xxup job ' xxup xxunk \" xxup auth xxup prior xxup urren xxup quarter xxup prior : | ; xxup xxunk xxup quarter • : ^ : xxunk xxup location xxup job xxup xxunk : # ■ # ■ ■ xxup capital xxup xxunk xxup period xxup month xxup to xxup date xxup total xxup period xxup mönth xxup to xxup date xxup total xxup balance : xxup date xxup scope xxup reidsville xxunk xxup xxunk xxup unit xxunk 625 xxunk xxup xxunk 0 0 xxunk 09 / 90 5 xxup r&amp;qa xxup balance xxup mettler xxup top - xxunk 1559 2 , xxrep 3 0 2 , xxrep 3</td>\n",
              "      <td>NextPage</td>\n",
              "      <td>NextPage</td>\n",
              "    </tr>\n",
              "    <tr>\n",
              "      <th>8</th>\n",
              "      <td>xxbos xxfld 1 xxup the xxup american xxup tobacco xxup company xxup closed xxup capital xxup projects xxup report xxup a3 xxup of xxup september 30 , 1990 xxup year - to - oate xxup capital xxunk xxup mech xxup job xxup auth xxup auth xxup prior xxup urren xxup quarter xxup prior . xxunk xxup quarter • ; : xxunk xxup location xxmaj xxunk : xxup xxunk xxup xxunk ? # xxup capital xxup exfense xxup period month xxup to date total ; periöd month ; tö xxunk : xxup total xxup balance xxup date xxup hanmer xxup wh xxup xxunk xxup xxunk &amp; xxup xxunk xxup et xxunk xxunk xxunk xxunk 0 0 xxunk 51 / 90 xxup reidsville xxup ventilation xxup pressure xxup drop xxup inst xxunk xxunk xxunk xxunk 0 0 xxunk 03 / 90 xxup reidsville 2 xxunk &amp; 2 xxup xxunk xxup xxunk xxunk</td>\n",
              "      <td>NextPage</td>\n",
              "      <td>FirstPage</td>\n",
              "    </tr>\n",
              "  </tbody>\n",
              "</table>"
            ]
          },
          "metadata": {}
        }
      ],
      "source": [
        "learn.show_results()"
      ]
    },
    {
      "cell_type": "code",
      "execution_count": 22,
      "metadata": {
        "colab": {
          "base_uri": "https://localhost:8080/"
        },
        "id": "Rw8c5QKzir0E",
        "outputId": "f355605d-ab89-4d47-c95e-979c455eef86"
      },
      "outputs": [
        {
          "output_type": "execute_result",
          "data": {
            "text/plain": [
              "Path('/content/drive/MyDrive/Colab Notebooks/Datasets/Tobacco_LSTM/layout/checkpoints/models/model_2022-03-30-16:40:19.pth')"
            ]
          },
          "metadata": {},
          "execution_count": 22
        }
      ],
      "source": [
        "learn.save('model_'+ now)"
      ]
    },
    {
      "cell_type": "code",
      "execution_count": 23,
      "metadata": {
        "id": "ITlc1bIjir0E"
      },
      "outputs": [],
      "source": [
        "# load model\n",
        "learn = learn.load('model_'+ now)"
      ]
    },
    {
      "cell_type": "code",
      "execution_count": 24,
      "metadata": {
        "colab": {
          "base_uri": "https://localhost:8080/",
          "height": 258
        },
        "id": "jtMn6zPzDua6",
        "outputId": "0a8da286-859b-4510-8022-81519d45c218"
      },
      "outputs": [
        {
          "output_type": "display_data",
          "data": {
            "text/plain": [
              "<IPython.core.display.HTML object>"
            ],
            "text/html": [
              "\n",
              "<style>\n",
              "    /* Turns off some styling */\n",
              "    progress {\n",
              "        /* gets rid of default border in Firefox and Opera. */\n",
              "        border: none;\n",
              "        /* Needs to be in here for Safari polyfill so background images work as expected. */\n",
              "        background-size: auto;\n",
              "    }\n",
              "    .progress-bar-interrupted, .progress-bar-interrupted::-webkit-progress-bar {\n",
              "        background: #F44336;\n",
              "    }\n",
              "</style>\n"
            ]
          },
          "metadata": {}
        },
        {
          "output_type": "display_data",
          "data": {
            "text/plain": [
              "<IPython.core.display.HTML object>"
            ],
            "text/html": [
              "<table border=\"1\" class=\"dataframe\">\n",
              "  <thead>\n",
              "    <tr style=\"text-align: left;\">\n",
              "      <th>epoch</th>\n",
              "      <th>train_loss</th>\n",
              "      <th>valid_loss</th>\n",
              "      <th>error_rate</th>\n",
              "      <th>accuracy</th>\n",
              "      <th>perplexity</th>\n",
              "      <th>time</th>\n",
              "    </tr>\n",
              "  </thead>\n",
              "  <tbody>\n",
              "    <tr>\n",
              "      <td>0</td>\n",
              "      <td>0.365734</td>\n",
              "      <td>0.283114</td>\n",
              "      <td>0.135922</td>\n",
              "      <td>0.864078</td>\n",
              "      <td>1.327257</td>\n",
              "      <td>00:04</td>\n",
              "    </tr>\n",
              "    <tr>\n",
              "      <td>1</td>\n",
              "      <td>0.460882</td>\n",
              "      <td>1.646849</td>\n",
              "      <td>0.436893</td>\n",
              "      <td>0.563107</td>\n",
              "      <td>5.190598</td>\n",
              "      <td>00:04</td>\n",
              "    </tr>\n",
              "    <tr>\n",
              "      <td>2</td>\n",
              "      <td>0.422457</td>\n",
              "      <td>0.698652</td>\n",
              "      <td>0.131068</td>\n",
              "      <td>0.868932</td>\n",
              "      <td>2.011040</td>\n",
              "      <td>00:04</td>\n",
              "    </tr>\n",
              "    <tr>\n",
              "      <td>3</td>\n",
              "      <td>0.378976</td>\n",
              "      <td>0.144521</td>\n",
              "      <td>0.048544</td>\n",
              "      <td>0.951456</td>\n",
              "      <td>1.155486</td>\n",
              "      <td>00:04</td>\n",
              "    </tr>\n",
              "    <tr>\n",
              "      <td>4</td>\n",
              "      <td>0.319165</td>\n",
              "      <td>0.099629</td>\n",
              "      <td>0.038835</td>\n",
              "      <td>0.961165</td>\n",
              "      <td>1.104761</td>\n",
              "      <td>00:04</td>\n",
              "    </tr>\n",
              "  </tbody>\n",
              "</table>"
            ]
          },
          "metadata": {}
        },
        {
          "output_type": "stream",
          "name": "stdout",
          "text": [
            "Better model found at epoch 0 with valid_loss value: 0.2831142544746399.\n",
            "Better model found at epoch 3 with valid_loss value: 0.14452065527439117.\n",
            "Better model found at epoch 4 with valid_loss value: 0.09962870180606842.\n"
          ]
        }
      ],
      "source": [
        "learn.unfreeze()\n",
        "learn.fit_one_cycle(5, 1e-2,cbs=cbs)"
      ]
    },
    {
      "cell_type": "code",
      "execution_count": 25,
      "metadata": {
        "colab": {
          "base_uri": "https://localhost:8080/",
          "height": 306
        },
        "id": "uke_9kj5Ef-j",
        "outputId": "1fc55e43-55c0-4cf2-9a1d-326f66760cb9"
      },
      "outputs": [
        {
          "output_type": "display_data",
          "data": {
            "text/plain": [
              "<IPython.core.display.HTML object>"
            ],
            "text/html": [
              "\n",
              "<style>\n",
              "    /* Turns off some styling */\n",
              "    progress {\n",
              "        /* gets rid of default border in Firefox and Opera. */\n",
              "        border: none;\n",
              "        /* Needs to be in here for Safari polyfill so background images work as expected. */\n",
              "        background-size: auto;\n",
              "    }\n",
              "    .progress-bar-interrupted, .progress-bar-interrupted::-webkit-progress-bar {\n",
              "        background: #F44336;\n",
              "    }\n",
              "</style>\n"
            ]
          },
          "metadata": {}
        },
        {
          "output_type": "display_data",
          "data": {
            "text/plain": [
              "<IPython.core.display.HTML object>"
            ],
            "text/html": [
              ""
            ]
          },
          "metadata": {}
        },
        {
          "output_type": "execute_result",
          "data": {
            "text/plain": [
              "SuggestedLRs(valley=0.0020892962347716093)"
            ]
          },
          "metadata": {},
          "execution_count": 25
        },
        {
          "output_type": "display_data",
          "data": {
            "text/plain": [
              "<Figure size 432x288 with 1 Axes>"
            ],
            "image/png": "[encoded data removed]"
          },
          "metadata": {
            "needs_background": "light"
          }
        }
      ],
      "source": [
        "learn.unfreeze()\n",
        "learn.lr_find()"
      ]
    },
    {
      "cell_type": "code",
      "execution_count": 26,
      "metadata": {
        "id": "BKcBxTsjOCVH"
      },
      "outputs": [],
      "source": [
        "learn_lm = text_classifier_learner(dloader_train, AWD_LSTM, drop_mult=0.5,metrics=[error_rate, accuracy, Perplexity()]).to_fp16()"
      ]
    },
    {
      "cell_type": "code",
      "execution_count": 27,
      "metadata": {
        "colab": {
          "base_uri": "https://localhost:8080/",
          "height": 740
        },
        "id": "bXw6ULBgOTB_",
        "outputId": "2480fa90-d647-4636-ce91-d65e83e80e2f"
      },
      "outputs": [
        {
          "output_type": "display_data",
          "data": {
            "text/plain": [
              "<IPython.core.display.HTML object>"
            ],
            "text/html": [
              "\n",
              "<style>\n",
              "    /* Turns off some styling */\n",
              "    progress {\n",
              "        /* gets rid of default border in Firefox and Opera. */\n",
              "        border: none;\n",
              "        /* Needs to be in here for Safari polyfill so background images work as expected. */\n",
              "        background-size: auto;\n",
              "    }\n",
              "    .progress-bar-interrupted, .progress-bar-interrupted::-webkit-progress-bar {\n",
              "        background: #F44336;\n",
              "    }\n",
              "</style>\n"
            ]
          },
          "metadata": {}
        },
        {
          "output_type": "display_data",
          "data": {
            "text/plain": [
              "<IPython.core.display.HTML object>"
            ],
            "text/html": [
              "<table border=\"1\" class=\"dataframe\">\n",
              "  <thead>\n",
              "    <tr style=\"text-align: left;\">\n",
              "      <th>epoch</th>\n",
              "      <th>train_loss</th>\n",
              "      <th>valid_loss</th>\n",
              "      <th>error_rate</th>\n",
              "      <th>accuracy</th>\n",
              "      <th>perplexity</th>\n",
              "      <th>time</th>\n",
              "    </tr>\n",
              "  </thead>\n",
              "  <tbody>\n",
              "    <tr>\n",
              "      <td>0</td>\n",
              "      <td>0.692991</td>\n",
              "      <td>0.607829</td>\n",
              "      <td>0.368932</td>\n",
              "      <td>0.631068</td>\n",
              "      <td>1.836440</td>\n",
              "      <td>00:02</td>\n",
              "    </tr>\n",
              "  </tbody>\n",
              "</table>"
            ]
          },
          "metadata": {}
        },
        {
          "output_type": "stream",
          "name": "stdout",
          "text": [
            "Better model found at epoch 0 with valid_loss value: 0.6078287363052368.\n"
          ]
        },
        {
          "output_type": "display_data",
          "data": {
            "text/plain": [
              "<IPython.core.display.HTML object>"
            ],
            "text/html": [
              "\n",
              "<style>\n",
              "    /* Turns off some styling */\n",
              "    progress {\n",
              "        /* gets rid of default border in Firefox and Opera. */\n",
              "        border: none;\n",
              "        /* Needs to be in here for Safari polyfill so background images work as expected. */\n",
              "        background-size: auto;\n",
              "    }\n",
              "    .progress-bar-interrupted, .progress-bar-interrupted::-webkit-progress-bar {\n",
              "        background: #F44336;\n",
              "    }\n",
              "</style>\n"
            ]
          },
          "metadata": {}
        },
        {
          "output_type": "display_data",
          "data": {
            "text/plain": [
              "<IPython.core.display.HTML object>"
            ],
            "text/html": [
              "<table border=\"1\" class=\"dataframe\">\n",
              "  <thead>\n",
              "    <tr style=\"text-align: left;\">\n",
              "      <th>epoch</th>\n",
              "      <th>train_loss</th>\n",
              "      <th>valid_loss</th>\n",
              "      <th>error_rate</th>\n",
              "      <th>accuracy</th>\n",
              "      <th>perplexity</th>\n",
              "      <th>time</th>\n",
              "    </tr>\n",
              "  </thead>\n",
              "  <tbody>\n",
              "    <tr>\n",
              "      <td>0</td>\n",
              "      <td>0.560084</td>\n",
              "      <td>0.560207</td>\n",
              "      <td>0.349515</td>\n",
              "      <td>0.650485</td>\n",
              "      <td>1.751036</td>\n",
              "      <td>00:04</td>\n",
              "    </tr>\n",
              "    <tr>\n",
              "      <td>1</td>\n",
              "      <td>0.511147</td>\n",
              "      <td>0.525239</td>\n",
              "      <td>0.315534</td>\n",
              "      <td>0.684466</td>\n",
              "      <td>1.690863</td>\n",
              "      <td>00:04</td>\n",
              "    </tr>\n",
              "    <tr>\n",
              "      <td>2</td>\n",
              "      <td>0.481722</td>\n",
              "      <td>0.478493</td>\n",
              "      <td>0.300971</td>\n",
              "      <td>0.699029</td>\n",
              "      <td>1.613641</td>\n",
              "      <td>00:04</td>\n",
              "    </tr>\n",
              "    <tr>\n",
              "      <td>3</td>\n",
              "      <td>0.448057</td>\n",
              "      <td>0.439752</td>\n",
              "      <td>0.199029</td>\n",
              "      <td>0.800971</td>\n",
              "      <td>1.552323</td>\n",
              "      <td>00:04</td>\n",
              "    </tr>\n",
              "    <tr>\n",
              "      <td>4</td>\n",
              "      <td>0.425049</td>\n",
              "      <td>0.303331</td>\n",
              "      <td>0.145631</td>\n",
              "      <td>0.854369</td>\n",
              "      <td>1.354362</td>\n",
              "      <td>00:04</td>\n",
              "    </tr>\n",
              "    <tr>\n",
              "      <td>5</td>\n",
              "      <td>0.399518</td>\n",
              "      <td>0.257628</td>\n",
              "      <td>0.092233</td>\n",
              "      <td>0.907767</td>\n",
              "      <td>1.293857</td>\n",
              "      <td>00:04</td>\n",
              "    </tr>\n",
              "    <tr>\n",
              "      <td>6</td>\n",
              "      <td>0.376907</td>\n",
              "      <td>0.241307</td>\n",
              "      <td>0.087379</td>\n",
              "      <td>0.912621</td>\n",
              "      <td>1.272912</td>\n",
              "      <td>00:04</td>\n",
              "    </tr>\n",
              "    <tr>\n",
              "      <td>7</td>\n",
              "      <td>0.350801</td>\n",
              "      <td>0.212600</td>\n",
              "      <td>0.067961</td>\n",
              "      <td>0.932039</td>\n",
              "      <td>1.236889</td>\n",
              "      <td>00:04</td>\n",
              "    </tr>\n",
              "    <tr>\n",
              "      <td>8</td>\n",
              "      <td>0.325987</td>\n",
              "      <td>0.378326</td>\n",
              "      <td>0.101942</td>\n",
              "      <td>0.898058</td>\n",
              "      <td>1.459839</td>\n",
              "      <td>00:04</td>\n",
              "    </tr>\n",
              "    <tr>\n",
              "      <td>9</td>\n",
              "      <td>0.303679</td>\n",
              "      <td>0.249649</td>\n",
              "      <td>0.087379</td>\n",
              "      <td>0.912621</td>\n",
              "      <td>1.283575</td>\n",
              "      <td>00:04</td>\n",
              "    </tr>\n",
              "    <tr>\n",
              "      <td>10</td>\n",
              "      <td>0.279134</td>\n",
              "      <td>0.245006</td>\n",
              "      <td>0.087379</td>\n",
              "      <td>0.912621</td>\n",
              "      <td>1.277629</td>\n",
              "      <td>00:04</td>\n",
              "    </tr>\n",
              "    <tr>\n",
              "      <td>11</td>\n",
              "      <td>0.257330</td>\n",
              "      <td>0.252052</td>\n",
              "      <td>0.087379</td>\n",
              "      <td>0.912621</td>\n",
              "      <td>1.286663</td>\n",
              "      <td>00:04</td>\n",
              "    </tr>\n",
              "    <tr>\n",
              "      <td>12</td>\n",
              "      <td>0.239063</td>\n",
              "      <td>0.224605</td>\n",
              "      <td>0.072816</td>\n",
              "      <td>0.927184</td>\n",
              "      <td>1.251829</td>\n",
              "      <td>00:04</td>\n",
              "    </tr>\n",
              "    <tr>\n",
              "      <td>13</td>\n",
              "      <td>0.222906</td>\n",
              "      <td>0.229502</td>\n",
              "      <td>0.072816</td>\n",
              "      <td>0.927184</td>\n",
              "      <td>1.257973</td>\n",
              "      <td>00:04</td>\n",
              "    </tr>\n",
              "    <tr>\n",
              "      <td>14</td>\n",
              "      <td>0.207341</td>\n",
              "      <td>0.234639</td>\n",
              "      <td>0.082524</td>\n",
              "      <td>0.917476</td>\n",
              "      <td>1.264453</td>\n",
              "      <td>00:04</td>\n",
              "    </tr>\n",
              "  </tbody>\n",
              "</table>"
            ]
          },
          "metadata": {}
        },
        {
          "output_type": "stream",
          "name": "stdout",
          "text": [
            "Better model found at epoch 0 with valid_loss value: 0.5602074265480042.\n",
            "Better model found at epoch 1 with valid_loss value: 0.5252392292022705.\n",
            "Better model found at epoch 2 with valid_loss value: 0.47849294543266296.\n",
            "Better model found at epoch 3 with valid_loss value: 0.4397522509098053.\n",
            "Better model found at epoch 4 with valid_loss value: 0.30333057045936584.\n",
            "Better model found at epoch 5 with valid_loss value: 0.2576276659965515.\n",
            "Better model found at epoch 6 with valid_loss value: 0.24130745232105255.\n",
            "Better model found at epoch 7 with valid_loss value: 0.21259956061840057.\n"
          ]
        }
      ],
      "source": [
        "learn_lm.fine_tune(15, 1e-2,cbs=cbs)"
      ]
    },
    {
      "cell_type": "markdown",
      "metadata": {
        "id": "ZeBPsp4qwGGO"
      },
      "source": [
        "##Validation"
      ]
    },
    {
      "cell_type": "code",
      "execution_count": 28,
      "metadata": {
        "colab": {
          "base_uri": "https://localhost:8080/",
          "height": 17
        },
        "id": "waKIAp-xE3c7",
        "outputId": "d28492b3-a435-44b2-9111-0a66b331e9c4"
      },
      "outputs": [
        {
          "output_type": "display_data",
          "data": {
            "text/plain": [
              "<IPython.core.display.HTML object>"
            ],
            "text/html": [
              "\n",
              "<style>\n",
              "    /* Turns off some styling */\n",
              "    progress {\n",
              "        /* gets rid of default border in Firefox and Opera. */\n",
              "        border: none;\n",
              "        /* Needs to be in here for Safari polyfill so background images work as expected. */\n",
              "        background-size: auto;\n",
              "    }\n",
              "    .progress-bar-interrupted, .progress-bar-interrupted::-webkit-progress-bar {\n",
              "        background: #F44336;\n",
              "    }\n",
              "</style>\n"
            ]
          },
          "metadata": {}
        },
        {
          "output_type": "display_data",
          "data": {
            "text/plain": [
              "<IPython.core.display.HTML object>"
            ],
            "text/html": [
              ""
            ]
          },
          "metadata": {}
        }
      ],
      "source": [
        "# create dataloader of test\n",
        "dblock_test = DataBlock(\n",
        "    blocks=(TextBlock.from_df('text', seq_len=72), CategoryBlock),\n",
        "            get_x=get_features, \n",
        "            get_y=get_labels)\n",
        "\n",
        "dloader_test = dblock_test.dataloaders(df_test, bs=128)"
      ]
    },
    {
      "cell_type": "code",
      "execution_count": 29,
      "metadata": {
        "colab": {
          "base_uri": "https://localhost:8080/",
          "height": 17
        },
        "id": "wBzoH7EXwKAs",
        "outputId": "4384640e-1bbe-4c1d-8381-07bc47f4a648"
      },
      "outputs": [
        {
          "output_type": "display_data",
          "data": {
            "text/plain": [
              "<IPython.core.display.HTML object>"
            ],
            "text/html": [
              "\n",
              "<style>\n",
              "    /* Turns off some styling */\n",
              "    progress {\n",
              "        /* gets rid of default border in Firefox and Opera. */\n",
              "        border: none;\n",
              "        /* Needs to be in here for Safari polyfill so background images work as expected. */\n",
              "        background-size: auto;\n",
              "    }\n",
              "    .progress-bar-interrupted, .progress-bar-interrupted::-webkit-progress-bar {\n",
              "        background: #F44336;\n",
              "    }\n",
              "</style>\n"
            ]
          },
          "metadata": {}
        },
        {
          "output_type": "display_data",
          "data": {
            "text/plain": [
              "<IPython.core.display.HTML object>"
            ],
            "text/html": [
              ""
            ]
          },
          "metadata": {}
        }
      ],
      "source": [
        "test_dl = dloader_test.test_dl(df_test['text'])\n",
        "preds = learn.get_preds(dl=test_dl, with_decoded=True)"
      ]
    },
    {
      "cell_type": "code",
      "execution_count": 30,
      "metadata": {
        "colab": {
          "base_uri": "https://localhost:8080/"
        },
        "id": "fkQfP9UMxldD",
        "outputId": "4bd3fe75-37de-4e74-f789-0a45e3afe087"
      },
      "outputs": [
        {
          "output_type": "execute_result",
          "data": {
            "text/plain": [
              "3"
            ]
          },
          "metadata": {},
          "execution_count": 30
        }
      ],
      "source": [
        "len(preds)"
      ]
    },
    {
      "cell_type": "code",
      "execution_count": 34,
      "metadata": {
        "colab": {
          "base_uri": "https://localhost:8080/",
          "height": 441
        },
        "id": "bHesn7ECz5Zk",
        "outputId": "f9ebd76b-d8ff-4d8b-891d-9b9014feb872"
      },
      "outputs": [
        {
          "output_type": "display_data",
          "data": {
            "text/plain": [
              "<IPython.core.display.HTML object>"
            ],
            "text/html": [
              "\n",
              "<style>\n",
              "    /* Turns off some styling */\n",
              "    progress {\n",
              "        /* gets rid of default border in Firefox and Opera. */\n",
              "        border: none;\n",
              "        /* Needs to be in here for Safari polyfill so background images work as expected. */\n",
              "        background-size: auto;\n",
              "    }\n",
              "    .progress-bar-interrupted, .progress-bar-interrupted::-webkit-progress-bar {\n",
              "        background: #F44336;\n",
              "    }\n",
              "</style>\n"
            ]
          },
          "metadata": {}
        },
        {
          "output_type": "display_data",
          "data": {
            "text/plain": [
              "<IPython.core.display.HTML object>"
            ],
            "text/html": [
              ""
            ]
          },
          "metadata": {}
        },
        {
          "output_type": "display_data",
          "data": {
            "text/plain": [
              "<IPython.core.display.HTML object>"
            ],
            "text/html": [
              "\n",
              "<style>\n",
              "    /* Turns off some styling */\n",
              "    progress {\n",
              "        /* gets rid of default border in Firefox and Opera. */\n",
              "        border: none;\n",
              "        /* Needs to be in here for Safari polyfill so background images work as expected. */\n",
              "        background-size: auto;\n",
              "    }\n",
              "    .progress-bar-interrupted, .progress-bar-interrupted::-webkit-progress-bar {\n",
              "        background: #F44336;\n",
              "    }\n",
              "</style>\n"
            ]
          },
          "metadata": {}
        },
        {
          "output_type": "display_data",
          "data": {
            "text/plain": [
              "<IPython.core.display.HTML object>"
            ],
            "text/html": [
              ""
            ]
          },
          "metadata": {}
        },
        {
          "output_type": "display_data",
          "data": {
            "text/plain": [
              "<IPython.core.display.HTML object>"
            ],
            "text/html": [
              "\n",
              "<style>\n",
              "    /* Turns off some styling */\n",
              "    progress {\n",
              "        /* gets rid of default border in Firefox and Opera. */\n",
              "        border: none;\n",
              "        /* Needs to be in here for Safari polyfill so background images work as expected. */\n",
              "        background-size: auto;\n",
              "    }\n",
              "    .progress-bar-interrupted, .progress-bar-interrupted::-webkit-progress-bar {\n",
              "        background: #F44336;\n",
              "    }\n",
              "</style>\n"
            ]
          },
          "metadata": {}
        },
        {
          "output_type": "display_data",
          "data": {
            "text/plain": [
              "<IPython.core.display.HTML object>"
            ],
            "text/html": [
              ""
            ]
          },
          "metadata": {}
        },
        {
          "output_type": "execute_result",
          "data": {
            "text/plain": [
              "(#4) [0.09962870180606842,0.038834940642118454,0.9611650705337524,1.1047606468200684]"
            ]
          },
          "metadata": {},
          "execution_count": 34
        },
        {
          "output_type": "display_data",
          "data": {
            "text/plain": [
              "<Figure size 400x400 with 1 Axes>"
            ],
            "image/png": "[encoded data removed]"
          },
          "metadata": {
            "needs_background": "light"
          }
        }
      ],
      "source": [
        "interp = ClassificationInterpretation.from_learner(learn)\n",
        "interp.plot_confusion_matrix(figsize=(4,4), dpi=100)\n",
        "learn.validate()"
      ]
    },
    {
      "cell_type": "code",
      "source": [
        "test_dl = dloader_test.test_dl(df_test['text'])\n",
        "preds = learn_lm.get_preds(dl=test_dl, with_decoded=True)"
      ],
      "metadata": {
        "colab": {
          "base_uri": "https://localhost:8080/",
          "height": 17
        },
        "id": "fkw-lXlBVvya",
        "outputId": "7a8cd018-fa6c-49e2-fc55-58f619181f56"
      },
      "execution_count": 32,
      "outputs": [
        {
          "output_type": "display_data",
          "data": {
            "text/plain": [
              "<IPython.core.display.HTML object>"
            ],
            "text/html": [
              "\n",
              "<style>\n",
              "    /* Turns off some styling */\n",
              "    progress {\n",
              "        /* gets rid of default border in Firefox and Opera. */\n",
              "        border: none;\n",
              "        /* Needs to be in here for Safari polyfill so background images work as expected. */\n",
              "        background-size: auto;\n",
              "    }\n",
              "    .progress-bar-interrupted, .progress-bar-interrupted::-webkit-progress-bar {\n",
              "        background: #F44336;\n",
              "    }\n",
              "</style>\n"
            ]
          },
          "metadata": {}
        },
        {
          "output_type": "display_data",
          "data": {
            "text/plain": [
              "<IPython.core.display.HTML object>"
            ],
            "text/html": [
              ""
            ]
          },
          "metadata": {}
        }
      ]
    },
    {
      "cell_type": "code",
      "source": [
        "interp = ClassificationInterpretation.from_learner(learn_lm)\n",
        "interp.plot_confusion_matrix(figsize=(4,4), dpi=100)\n",
        "learn_lm.validate()"
      ],
      "metadata": {
        "colab": {
          "base_uri": "https://localhost:8080/",
          "height": 441
        },
        "id": "kHuLR5mPVwgO",
        "outputId": "1455284a-bf35-4327-f8f5-f2f1e8b0eda2"
      },
      "execution_count": 33,
      "outputs": [
        {
          "output_type": "display_data",
          "data": {
            "text/plain": [
              "<IPython.core.display.HTML object>"
            ],
            "text/html": [
              "\n",
              "<style>\n",
              "    /* Turns off some styling */\n",
              "    progress {\n",
              "        /* gets rid of default border in Firefox and Opera. */\n",
              "        border: none;\n",
              "        /* Needs to be in here for Safari polyfill so background images work as expected. */\n",
              "        background-size: auto;\n",
              "    }\n",
              "    .progress-bar-interrupted, .progress-bar-interrupted::-webkit-progress-bar {\n",
              "        background: #F44336;\n",
              "    }\n",
              "</style>\n"
            ]
          },
          "metadata": {}
        },
        {
          "output_type": "display_data",
          "data": {
            "text/plain": [
              "<IPython.core.display.HTML object>"
            ],
            "text/html": [
              ""
            ]
          },
          "metadata": {}
        },
        {
          "output_type": "display_data",
          "data": {
            "text/plain": [
              "<IPython.core.display.HTML object>"
            ],
            "text/html": [
              "\n",
              "<style>\n",
              "    /* Turns off some styling */\n",
              "    progress {\n",
              "        /* gets rid of default border in Firefox and Opera. */\n",
              "        border: none;\n",
              "        /* Needs to be in here for Safari polyfill so background images work as expected. */\n",
              "        background-size: auto;\n",
              "    }\n",
              "    .progress-bar-interrupted, .progress-bar-interrupted::-webkit-progress-bar {\n",
              "        background: #F44336;\n",
              "    }\n",
              "</style>\n"
            ]
          },
          "metadata": {}
        },
        {
          "output_type": "display_data",
          "data": {
            "text/plain": [
              "<IPython.core.display.HTML object>"
            ],
            "text/html": [
              ""
            ]
          },
          "metadata": {}
        },
        {
          "output_type": "display_data",
          "data": {
            "text/plain": [
              "<IPython.core.display.HTML object>"
            ],
            "text/html": [
              "\n",
              "<style>\n",
              "    /* Turns off some styling */\n",
              "    progress {\n",
              "        /* gets rid of default border in Firefox and Opera. */\n",
              "        border: none;\n",
              "        /* Needs to be in here for Safari polyfill so background images work as expected. */\n",
              "        background-size: auto;\n",
              "    }\n",
              "    .progress-bar-interrupted, .progress-bar-interrupted::-webkit-progress-bar {\n",
              "        background: #F44336;\n",
              "    }\n",
              "</style>\n"
            ]
          },
          "metadata": {}
        },
        {
          "output_type": "display_data",
          "data": {
            "text/plain": [
              "<IPython.core.display.HTML object>"
            ],
            "text/html": [
              ""
            ]
          },
          "metadata": {}
        },
        {
          "output_type": "execute_result",
          "data": {
            "text/plain": [
              "(#4) [0.21259956061840057,0.06796116381883621,0.9320388436317444,1.2368892431259155]"
            ]
          },
          "metadata": {},
          "execution_count": 33
        },
        {
          "output_type": "display_data",
          "data": {
            "text/plain": [
              "<Figure size 400x400 with 1 Axes>"
            ],
            "image/png": "[encoded data removed]"
          },
          "metadata": {
            "needs_background": "light"
          }
        }
      ]
    }
  ],
  "metadata": {
    "accelerator": "GPU",
    "colab": {
      "machine_shape": "hm",
      "name": "Fastai_without_tags.ipynb",
      "provenance": [],
      "collapsed_sections": [],
      "include_colab_link": true
    },
    "jupytext": {
      "split_at_heading": true
    },
    "kernelspec": {
      "display_name": "Python 3",
      "language": "python",
      "name": "python3"
    }
  },
  "nbformat": 4,
  "nbformat_minor": 0
}