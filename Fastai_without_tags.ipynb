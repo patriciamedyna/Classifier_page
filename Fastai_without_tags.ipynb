{
  "nbformat": 4,
  "nbformat_minor": 0,
  "metadata": {
    "accelerator": "GPU",
    "colab": {
      "name": "Fastai_without_tags.ipynb",
      "provenance": [],
      "machine_shape": "hm",
      "include_colab_link": true
    },
    "jupytext": {
      "split_at_heading": true
    },
    "kernelspec": {
      "display_name": "Python 3",
      "language": "python",
      "name": "python3"
    }
  },
  "cells": [
    {
      "cell_type": "markdown",
      "metadata": {
        "id": "view-in-github",
        "colab_type": "text"
      },
      "source": [
        "<a href=\"https://colab.research.google.com/github/patriciamedyna/Classifier_page/blob/main/Fastai_without_tags.ipynb\" target=\"_parent\"><img src=\"https://colab.research.google.com/assets/colab-badge.svg\" alt=\"Open In Colab\"/></a>"
      ]
    },
    {
      "cell_type": "code",
      "metadata": {
        "id": "UJr_N-oGWpgm",
        "colab": {
          "base_uri": "https://localhost:8080/"
        },
        "outputId": "84072166-aa0f-44d7-88f0-07903f269c44"
      },
      "source": [
        "! [ -e /content ] && pip install -Uqq fastai"
      ],
      "execution_count": 1,
      "outputs": [
        {
          "output_type": "stream",
          "name": "stdout",
          "text": [
            "\u001b[?25l\r\u001b[K     |█▊                              | 10 kB 40.1 MB/s eta 0:00:01\r\u001b[K     |███▌                            | 20 kB 8.5 MB/s eta 0:00:01\r\u001b[K     |█████▏                          | 30 kB 7.7 MB/s eta 0:00:01\r\u001b[K     |███████                         | 40 kB 7.4 MB/s eta 0:00:01\r\u001b[K     |████████▋                       | 51 kB 3.9 MB/s eta 0:00:01\r\u001b[K     |██████████▍                     | 61 kB 4.1 MB/s eta 0:00:01\r\u001b[K     |████████████                    | 71 kB 4.4 MB/s eta 0:00:01\r\u001b[K     |█████████████▉                  | 81 kB 4.9 MB/s eta 0:00:01\r\u001b[K     |███████████████▋                | 92 kB 5.0 MB/s eta 0:00:01\r\u001b[K     |█████████████████▎              | 102 kB 4.1 MB/s eta 0:00:01\r\u001b[K     |███████████████████             | 112 kB 4.1 MB/s eta 0:00:01\r\u001b[K     |████████████████████▊           | 122 kB 4.1 MB/s eta 0:00:01\r\u001b[K     |██████████████████████▌         | 133 kB 4.1 MB/s eta 0:00:01\r\u001b[K     |████████████████████████▏       | 143 kB 4.1 MB/s eta 0:00:01\r\u001b[K     |██████████████████████████      | 153 kB 4.1 MB/s eta 0:00:01\r\u001b[K     |███████████████████████████▊    | 163 kB 4.1 MB/s eta 0:00:01\r\u001b[K     |█████████████████████████████▍  | 174 kB 4.1 MB/s eta 0:00:01\r\u001b[K     |███████████████████████████████▏| 184 kB 4.1 MB/s eta 0:00:01\r\u001b[K     |████████████████████████████████| 189 kB 4.1 MB/s \n",
            "\u001b[?25h\u001b[?25l\r\u001b[K     |█████▊                          | 10 kB 51.5 MB/s eta 0:00:01\r\u001b[K     |███████████▌                    | 20 kB 51.3 MB/s eta 0:00:01\r\u001b[K     |█████████████████▎              | 30 kB 60.1 MB/s eta 0:00:01\r\u001b[K     |███████████████████████         | 40 kB 64.9 MB/s eta 0:00:01\r\u001b[K     |████████████████████████████▉   | 51 kB 65.8 MB/s eta 0:00:01\r\u001b[K     |████████████████████████████████| 56 kB 6.0 MB/s \n",
            "\u001b[?25h"
          ]
        }
      ]
    },
    {
      "cell_type": "code",
      "metadata": {
        "id": "yaH3SUzZjuA-",
        "colab": {
          "base_uri": "https://localhost:8080/"
        },
        "outputId": "ec1cd864-0278-4a81-d7b5-35b78be80ef9"
      },
      "source": [
        "#hide\n",
        "!pip install -Uqq fastbook\n",
        "import fastbook"
      ],
      "execution_count": 2,
      "outputs": [
        {
          "output_type": "stream",
          "name": "stdout",
          "text": [
            "\u001b[K     |████████████████████████████████| 720 kB 4.2 MB/s \n",
            "\u001b[K     |████████████████████████████████| 46 kB 5.0 MB/s \n",
            "\u001b[K     |████████████████████████████████| 1.2 MB 56.9 MB/s \n",
            "\u001b[K     |████████████████████████████████| 51 kB 347 kB/s \n",
            "\u001b[?25h"
          ]
        }
      ]
    },
    {
      "cell_type": "code",
      "metadata": {
        "id": "ZZ_arKKyj3Co"
      },
      "source": [
        "#hide\n",
        "from fastbook import *\n",
        "from IPython.display import display,HTML"
      ],
      "execution_count": 3,
      "outputs": []
    },
    {
      "cell_type": "code",
      "metadata": {
        "id": "-gu3NxcBirzx"
      },
      "source": [
        "from fastai.basics import *\n",
        "from fastai.text.core import *\n",
        "from fastai.text.data import *\n",
        "from fastai.text.models.core import *\n",
        "from fastai.text.models.awdlstm import *\n",
        "from fastai.callback.rnn import *\n",
        "from fastai.callback.progress import *"
      ],
      "execution_count": 4,
      "outputs": []
    },
    {
      "cell_type": "code",
      "metadata": {
        "id": "51jgSOs8zZrX",
        "colab": {
          "base_uri": "https://localhost:8080/"
        },
        "outputId": "e075e9a8-d70e-457a-86bc-f49fcf8cbe81"
      },
      "source": [
        "from google.colab import drive\n",
        "drive.mount('/content/drive')"
      ],
      "execution_count": 5,
      "outputs": [
        {
          "output_type": "stream",
          "name": "stdout",
          "text": [
            "Mounted at /content/drive\n"
          ]
        }
      ]
    },
    {
      "cell_type": "code",
      "metadata": {
        "id": "F3fCSD3QmMF_"
      },
      "source": [
        "#path = '/content/drive/MyDrive/Colab Notebooks/Tobacco_LSTM/layout/'\n",
        "\n",
        "path = '/content/drive/MyDrive/Colab Notebooks/Tobacco_LSTM/layout//'\n",
        "df_train = pd.read_csv(path + 'df_train_tags.csv', delimiter=',', error_bad_lines=False)"
      ],
      "execution_count": 6,
      "outputs": []
    },
    {
      "cell_type": "code",
      "metadata": {
        "id": "mQDKLPV-GsOh",
        "colab": {
          "base_uri": "https://localhost:8080/",
          "height": 814
        },
        "outputId": "eb9ad048-7385-4d9a-ff92-38ec9ba49f4d"
      },
      "source": [
        "df_train.head()"
      ],
      "execution_count": 7,
      "outputs": [
        {
          "output_type": "execute_result",
          "data": {
            "text/html": [
              "<div>\n",
              "<style scoped>\n",
              "    .dataframe tbody tr th:only-of-type {\n",
              "        vertical-align: middle;\n",
              "    }\n",
              "\n",
              "    .dataframe tbody tr th {\n",
              "        vertical-align: top;\n",
              "    }\n",
              "\n",
              "    .dataframe thead th {\n",
              "        text-align: right;\n",
              "    }\n",
              "</style>\n",
              "<table border=\"1\" class=\"dataframe\">\n",
              "  <thead>\n",
              "    <tr style=\"text-align: right;\">\n",
              "      <th></th>\n",
              "      <th>class</th>\n",
              "      <th>text</th>\n",
              "      <th>text_tags</th>\n",
              "    </tr>\n",
              "  </thead>\n",
              "  <tbody>\n",
              "    <tr>\n",
              "      <th>0</th>\n",
              "      <td>FirstPage</td>\n",
              "      <td>Dr. M.A. Manzelli, PHILIP MORRIS INC., Research Center, P.O. Box 3 D Richmond, Va. 23206 U.S.A. Dear Art, Please find enclosed a proposed program for your visit in Europe. As you will see, this program contains two major points:  a)    A two-days meeting in Neuchätel with all people in Europe involved in infestation control (proposed program included).  b)    Visit of all PM Europe production centers with the purpose of:        - training people in Charge of the insect indenti-fication        - inspection of the sanitary conditions One of our main problems is the insect Identification and ...</td>\n",
              "      <td>['\\n', 'xxQ00_01 xxbob  \\n', 'xxeob xxQ00_02\\n', '\\n', 'xxQ00_01 xxbob PHILIP MORRIS\\n', 'xxeob xxQ00_02\\n', '\\n', 'xxQ00_01 xxbob EUROPE MIDDLE EAST AFRICA\\n', 'xxeob xxQ00_02\\n', '\\n', 'xxQ00_01 xxbob RESEARCH AND DEVELOPMENT\\n', 'xxeob xxQ01_02\\n', '\\n', 'xxQ01_02 xxbob Neuchatel, duly 14, 1977\\n', 'xxeob xxQ01_03\\n', '\\n', 'xxQ01_01 xxbob Dr. M.A. Manzelli,\\n', 'PHILIP MORRIS INC.,\\n', 'Research Center,\\n', 'P.O. Box 3 D\\n', 'Richmond, Va. 23206\\n', 'U.S.A. .\\n', 'xxeob xxQ02_01\\n', '\\n', 'xxQ02_01 xxbob Dear Art,\\n', 'xxeob xxQ02_01\\n', '\\n', 'xxQ03_01 xxbob xxbcet Please proposed pro...</td>\n",
              "    </tr>\n",
              "    <tr>\n",
              "      <th>1</th>\n",
              "      <td>NextPage</td>\n",
              "      <td>- 2 - Please let me krow if you have any changes for the proposed program. Looking forward to seeing you again, cc:    Messrs.  B.  Kuhn                 E. Stoop Encl.: mentioned 1000035625</td>\n",
              "      <td>['\\n', 'xxQ00_00 xxbob Please let krow if you have any changes for the proposed\\n', 'me\\n', 'program.\\n', 'xxeob xxQ01_03\\n', '\\n', 'xxQ01_00 xxbob Looking forward to seeing you again,\\n', 'xxeob xxQ01_02\\n', '\\n', 'xxQ01_02 xxbob Yours very truly,\\n', '_.\\n', 'xxeob xxQ01_03\\n', '\\n', 'xxQ01_02 xxbob xxbcet    \\n', 'xxecet\\n', 'xxeob xxQ02_03\\n', '\\n', 'xxQ02_02 xxbob .B. Boder\\n', 'xxeob xxQ02_03\\n', '\\n', 'xxQ02_00 xxbob cc: Messrs. B. Kuhn\\n', 'xxbcet E. Stoop\\n', 'xxecet\\n', 'xxeob xxQ02_01\\n', '\\n', 'xxQ02_00 xxbob Encl.: mentioned\\n', 'xxeob xxQ03_01\\n', '\\n', 'xxQ04_01 xxbob we\\n',...</td>\n",
              "    </tr>\n",
              "    <tr>\n",
              "      <th>2</th>\n",
              "      <td>FirstPage</td>\n",
              "      <td>I NOIJ-04-97    13 = 25 FROM = I D : PAGE 10/17 Wachtell, Lipton, Rosen &amp; Katz MARTIN L1PTON HERBERT M. WaCHYCLL THEODORE GEWSRTZ »ERNA*» W, NUSSBAUM RICHARD O- HATCHER DOUGLAS Sr LieBKAfSKV STEVEN M. SAR NA CMARt.CS T. MEPCRR'GK CHAIN J. FOPTCANG pBTRR C. 1AMCLLDS MICHAEL w. SCHWÄRT* Al.LAR A- MARTIN BARRV A. BRrCR IAWREHCE □. PEDQrWITZ ROBERT 0. MAZUR PAUL VIZGARRÖMSCK JR. PCTCR G- HCIM hAROlD s. «OViKOFF DAVID M. EINHORN KENNET« B. FQRREST METER C. KOPLOW THEODORE M- MIRVIS EDWARD D. MERL1HT RICHARD D. FEINTUCH DANIEL A. NEPP ERIC M. ROTR WAHREN R. STERN ANDREW R. BROWN ST EIN MICHAEL H...</td>\n",
              "      <td>['\\n', 'xxQ00_00 xxbob NOU-04-87 15:26 FROM:\\n', 'e\\n', 'xxeob xxQ00_01\\n', '\\n', 'xxQ00_00 xxbob MARTIN LIPTON\\n', 'MERBERY ot waAcHTELL\\n', 'TNROPORE GGWERTZ\\n', 'BEAWARD W. NUSSRAUM\\n', 'RIGMARD D. KATOKER\\n', 'COUCLAT Fr MERHAPEKY\\n', 'STEVEN M. GARNA\\n', 'CMARLES T. MEDERRICK\\n', 'SAIN y. FORTEANG\\n', 'PeveR &amp;. CANCLLOS\\n', 'HIGMASR We SCRWARTE\\n', 'ALLAN A. MARTIN\\n', 'BARRY 4. BRYER\\n', 'LAWRENCE 5. PEDOWITZ\\n', 'ROBERT ©. haZUR\\n', 'PAUL VIZGARRONDG, J.\\n', 'PRIGR G. MEIN\\n', 'MARGLD &amp; HOVIKOFF\\n', 'DAVID H. EERHORK\\n', 'KENNETH B. PORREST\\n', 'KEYER ¢. KOPLOW\\n', 'THEODORE N. MIRV...</td>\n",
              "    </tr>\n",
              "    <tr>\n",
              "      <th>3</th>\n",
              "      <td>FirstPage</td>\n",
              "      <td>i PHILIP .MORRIS         INCORPORATED 120 PARK AVENUE, N EW YORK. N. Y. 10017 John T.-Landhy SENIOR VICC PRESIDENT                                                         _ ,                    r     . n n - . oirector of Marketing                                                         February 15, 19 83 Dear Ms. Ober: Your letter of February 3 was received by this Office yesterday. We attempted to reach you by telephone iinmediately but were unable to find a listed number in New Haven. I had hoped to arrange an appointment for one of our executives to discuss with you and your concerned ...</td>\n",
              "      <td>['\\n', 'xxQ00_00 xxbob ee\\n', 'xxeob xxQ00_00\\n', '\\n', 'xxQ00_01 xxbob PHILIP MORRIS\\n', 'xxeob xxQ00_02\\n', '\\n', 'xxQ00_01 xxbob INCORPORATED\\n', '120 PARK AVENUE, NEW YORK.N. ¥. 10017\\n', 'xxeob xxQ00_02\\n', '\\n', 'xxQ00_00 xxbob Joun T.-Lanpry\\n', 'xxbcet ee or ne February 15, 1983~\\n', 'xxecet\\n', 'xxeob xxQ01_03\\n', '\\n', 'xxQ01_00 xxbob DIRECTOR OF MARKETING\\n', 'xxeob xxQ01_01\\n', '\\n', 'xxQ01_00 xxbob Dear Ms. Ober:\\n', 'xxeob xxQ01_01\\n', '\\n', 'xxQ01_00 xxbob Your letter of February 3 was received by this\\n', 'office yesterday. We attempted to reach you by\\n', 'telephone immedi...</td>\n",
              "    </tr>\n",
              "    <tr>\n",
              "      <th>4</th>\n",
              "      <td>NextPage</td>\n",
              "      <td>In the meantime, I hope you and your friends are continuing to enjoy your Marlboro Lights ciga-rettes. We don't think you can find a better\" cigarette on the market. ■Thank you. Ms. Angela Ober 221 Farnham Avenue New Haven, Connecticut 06515</td>\n",
              "      <td>['\\n', 'xxQ00_00 xxbob lo Snes\\n', 'xxeob xxQ00_00\\n', '\\n', 'xxQ05_00 xxbob  \\n', 'xxeob xxQ06_01\\n', '\\n', 'xxQ00_01 xxbob In. the meantime,\\n', 'I hope your\\n', 'Continuing you and friends\\n', 'to enjoy Marlboro are\\n', 'rettes. your Lights:\\n', \"We don't think ciga-\\n\", 'cigarette you can find better:\\n', 'xxbcet on the market, a\\n', 'xxecet\\n', '‘Thank you.\\n', 'xxeob xxQ01_03\\n', '\\n', 'xxQ01_02 xxbob Sincerely,\\n', 'xxeob xxQ01_02\\n', '\\n', 'xxQ01_02 xxbob  \\n', 'xxeob xxQ01_03\\n', '\\n', 'xxQ01_00 xxbob Ms. Angela Ober\\n', \"' _ 222. Farnham Avenue\\n\", 'xxeob xxQ02_01\\n', '\\n', 'xxQ0...</td>\n",
              "    </tr>\n",
              "  </tbody>\n",
              "</table>\n",
              "</div>"
            ],
            "text/plain": [
              "       class  \\\n",
              "0  FirstPage   \n",
              "1   NextPage   \n",
              "2  FirstPage   \n",
              "3  FirstPage   \n",
              "4   NextPage   \n",
              "\n",
              "                                                                                                                                                                                                                                                                                                                                                                                                                                                                                                                                                                                                                      text  \\\n",
              "0  Dr. M.A. Manzelli, PHILIP MORRIS INC., Research Center, P.O. Box 3 D Richmond, Va. 23206 U.S.A. Dear Art, Please find enclosed a proposed program for your visit in Europe. As you will see, this program contains two major points:  a)    A two-days meeting in Neuchätel with all people in Europe involved in infestation control (proposed program included).  b)    Visit of all PM Europe production centers with the purpose of:        - training people in Charge of the insect indenti-fication        - inspection of the sanitary conditions One of our main problems is the insect Identification and ...   \n",
              "1                                                                                                                                                                                                                                                                                                                                                                                                                            - 2 - Please let me krow if you have any changes for the proposed program. Looking forward to seeing you again, cc:    Messrs.  B.  Kuhn                 E. Stoop Encl.: mentioned 1000035625   \n",
              "2  I NOIJ-04-97    13 = 25 FROM = I D : PAGE 10/17 Wachtell, Lipton, Rosen & Katz MARTIN L1PTON HERBERT M. WaCHYCLL THEODORE GEWSRTZ »ERNA*» W, NUSSBAUM RICHARD O- HATCHER DOUGLAS Sr LieBKAfSKV STEVEN M. SAR NA CMARt.CS T. MEPCRR'GK CHAIN J. FOPTCANG pBTRR C. 1AMCLLDS MICHAEL w. SCHWÄRT* Al.LAR A- MARTIN BARRV A. BRrCR IAWREHCE □. PEDQrWITZ ROBERT 0. MAZUR PAUL VIZGARRÖMSCK JR. PCTCR G- HCIM hAROlD s. «OViKOFF DAVID M. EINHORN KENNET« B. FQRREST METER C. KOPLOW THEODORE M- MIRVIS EDWARD D. MERL1HT RICHARD D. FEINTUCH DANIEL A. NEPP ERIC M. ROTR WAHREN R. STERN ANDREW R. BROWN ST EIN MICHAEL H...   \n",
              "3  i PHILIP .MORRIS         INCORPORATED 120 PARK AVENUE, N EW YORK. N. Y. 10017 John T.-Landhy SENIOR VICC PRESIDENT                                                         _ ,                    r     . n n - . oirector of Marketing                                                         February 15, 19 83 Dear Ms. Ober: Your letter of February 3 was received by this Office yesterday. We attempted to reach you by telephone iinmediately but were unable to find a listed number in New Haven. I had hoped to arrange an appointment for one of our executives to discuss with you and your concerned ...   \n",
              "4                                                                                                                                                                                                                                                                                                                                                                        In the meantime, I hope you and your friends are continuing to enjoy your Marlboro Lights ciga-rettes. We don't think you can find a better\" cigarette on the market. ■Thank you. Ms. Angela Ober 221 Farnham Avenue New Haven, Connecticut 06515   \n",
              "\n",
              "                                                                                                                                                                                                                                                                                                                                                                                                                                                                                                                                                                                                                 text_tags  \n",
              "0  ['\\n', 'xxQ00_01 xxbob  \\n', 'xxeob xxQ00_02\\n', '\\n', 'xxQ00_01 xxbob PHILIP MORRIS\\n', 'xxeob xxQ00_02\\n', '\\n', 'xxQ00_01 xxbob EUROPE MIDDLE EAST AFRICA\\n', 'xxeob xxQ00_02\\n', '\\n', 'xxQ00_01 xxbob RESEARCH AND DEVELOPMENT\\n', 'xxeob xxQ01_02\\n', '\\n', 'xxQ01_02 xxbob Neuchatel, duly 14, 1977\\n', 'xxeob xxQ01_03\\n', '\\n', 'xxQ01_01 xxbob Dr. M.A. Manzelli,\\n', 'PHILIP MORRIS INC.,\\n', 'Research Center,\\n', 'P.O. Box 3 D\\n', 'Richmond, Va. 23206\\n', 'U.S.A. .\\n', 'xxeob xxQ02_01\\n', '\\n', 'xxQ02_01 xxbob Dear Art,\\n', 'xxeob xxQ02_01\\n', '\\n', 'xxQ03_01 xxbob xxbcet Please proposed pro...  \n",
              "1  ['\\n', 'xxQ00_00 xxbob Please let krow if you have any changes for the proposed\\n', 'me\\n', 'program.\\n', 'xxeob xxQ01_03\\n', '\\n', 'xxQ01_00 xxbob Looking forward to seeing you again,\\n', 'xxeob xxQ01_02\\n', '\\n', 'xxQ01_02 xxbob Yours very truly,\\n', '_.\\n', 'xxeob xxQ01_03\\n', '\\n', 'xxQ01_02 xxbob xxbcet    \\n', 'xxecet\\n', 'xxeob xxQ02_03\\n', '\\n', 'xxQ02_02 xxbob .B. Boder\\n', 'xxeob xxQ02_03\\n', '\\n', 'xxQ02_00 xxbob cc: Messrs. B. Kuhn\\n', 'xxbcet E. Stoop\\n', 'xxecet\\n', 'xxeob xxQ02_01\\n', '\\n', 'xxQ02_00 xxbob Encl.: mentioned\\n', 'xxeob xxQ03_01\\n', '\\n', 'xxQ04_01 xxbob we\\n',...  \n",
              "2  ['\\n', 'xxQ00_00 xxbob NOU-04-87 15:26 FROM:\\n', 'e\\n', 'xxeob xxQ00_01\\n', '\\n', 'xxQ00_00 xxbob MARTIN LIPTON\\n', 'MERBERY ot waAcHTELL\\n', 'TNROPORE GGWERTZ\\n', 'BEAWARD W. NUSSRAUM\\n', 'RIGMARD D. KATOKER\\n', 'COUCLAT Fr MERHAPEKY\\n', 'STEVEN M. GARNA\\n', 'CMARLES T. MEDERRICK\\n', 'SAIN y. FORTEANG\\n', 'PeveR &. CANCLLOS\\n', 'HIGMASR We SCRWARTE\\n', 'ALLAN A. MARTIN\\n', 'BARRY 4. BRYER\\n', 'LAWRENCE 5. PEDOWITZ\\n', 'ROBERT ©. haZUR\\n', 'PAUL VIZGARRONDG, J.\\n', 'PRIGR G. MEIN\\n', 'MARGLD & HOVIKOFF\\n', 'DAVID H. EERHORK\\n', 'KENNETH B. PORREST\\n', 'KEYER ¢. KOPLOW\\n', 'THEODORE N. MIRV...  \n",
              "3  ['\\n', 'xxQ00_00 xxbob ee\\n', 'xxeob xxQ00_00\\n', '\\n', 'xxQ00_01 xxbob PHILIP MORRIS\\n', 'xxeob xxQ00_02\\n', '\\n', 'xxQ00_01 xxbob INCORPORATED\\n', '120 PARK AVENUE, NEW YORK.N. ¥. 10017\\n', 'xxeob xxQ00_02\\n', '\\n', 'xxQ00_00 xxbob Joun T.-Lanpry\\n', 'xxbcet ee or ne February 15, 1983~\\n', 'xxecet\\n', 'xxeob xxQ01_03\\n', '\\n', 'xxQ01_00 xxbob DIRECTOR OF MARKETING\\n', 'xxeob xxQ01_01\\n', '\\n', 'xxQ01_00 xxbob Dear Ms. Ober:\\n', 'xxeob xxQ01_01\\n', '\\n', 'xxQ01_00 xxbob Your letter of February 3 was received by this\\n', 'office yesterday. We attempted to reach you by\\n', 'telephone immedi...  \n",
              "4  ['\\n', 'xxQ00_00 xxbob lo Snes\\n', 'xxeob xxQ00_00\\n', '\\n', 'xxQ05_00 xxbob  \\n', 'xxeob xxQ06_01\\n', '\\n', 'xxQ00_01 xxbob In. the meantime,\\n', 'I hope your\\n', 'Continuing you and friends\\n', 'to enjoy Marlboro are\\n', 'rettes. your Lights:\\n', \"We don't think ciga-\\n\", 'cigarette you can find better:\\n', 'xxbcet on the market, a\\n', 'xxecet\\n', '‘Thank you.\\n', 'xxeob xxQ01_03\\n', '\\n', 'xxQ01_02 xxbob Sincerely,\\n', 'xxeob xxQ01_02\\n', '\\n', 'xxQ01_02 xxbob  \\n', 'xxeob xxQ01_03\\n', '\\n', 'xxQ01_00 xxbob Ms. Angela Ober\\n', \"' _ 222. Farnham Avenue\\n\", 'xxeob xxQ02_01\\n', '\\n', 'xxQ0...  "
            ]
          },
          "metadata": {},
          "execution_count": 7
        }
      ]
    },
    {
      "cell_type": "code",
      "metadata": {
        "id": "mUIsYb_KhWYl"
      },
      "source": [
        "#path = '/content/drive/MyDrive/Colab Notebooks/Tobacco_LSTM/layout/'\n",
        "df_test = pd.read_csv(path + 'test_tags.csv', delimiter=',', error_bad_lines=False)"
      ],
      "execution_count": 8,
      "outputs": []
    },
    {
      "cell_type": "code",
      "metadata": {
        "id": "VJt7fbOrkXqu",
        "colab": {
          "base_uri": "https://localhost:8080/",
          "height": 1000
        },
        "outputId": "b5c370e9-f373-4138-cc2a-c39588bd6d93"
      },
      "source": [
        "df_test"
      ],
      "execution_count": 9,
      "outputs": [
        {
          "output_type": "execute_result",
          "data": {
            "text/html": [
              "<div>\n",
              "<style scoped>\n",
              "    .dataframe tbody tr th:only-of-type {\n",
              "        vertical-align: middle;\n",
              "    }\n",
              "\n",
              "    .dataframe tbody tr th {\n",
              "        vertical-align: top;\n",
              "    }\n",
              "\n",
              "    .dataframe thead th {\n",
              "        text-align: right;\n",
              "    }\n",
              "</style>\n",
              "<table border=\"1\" class=\"dataframe\">\n",
              "  <thead>\n",
              "    <tr style=\"text-align: right;\">\n",
              "      <th></th>\n",
              "      <th>binder</th>\n",
              "      <th>docid</th>\n",
              "      <th>class</th>\n",
              "      <th>text</th>\n",
              "      <th>text_tags</th>\n",
              "    </tr>\n",
              "  </thead>\n",
              "  <tbody>\n",
              "    <tr>\n",
              "      <th>0</th>\n",
              "      <td>Tobacco800</td>\n",
              "      <td>tkj51f00_1</td>\n",
              "      <td>FirstPage</td>\n",
              "      <td>rii.E ^litl'                                                            karg;; , 1980                                                             ■'!?.!r- ■ !T |Sf: .'■■ J -1 p '■Mr'\" trr*. my MAILLARD REACTION \"A\" FLAVOR COMPONENTS./ A ] 5 6             *!               •• f         -----------------------------------------                                                                      ! i f i wii'.ii ■. , . j i i                                                         F; tp...' t/ t-■ l. ■i. v.' i -!* .i■ uill .,0'; [o,.' ' ’. Identification of flavor components in the ütjiieous la...</td>\n",
              "      <td>['\\n', 'xxQ00_01 xxbob      \\n', 'xxeob xxQ00_02\\n', '\\n', 'xxQ00_01 xxbob h Department\\n', 'xxeob xxQ00_02\\n', '\\n', 'xxQ00_00 xxbob MARCH 26, 1986\\n', 'FILE NOTL\\n', 'xxeob xxQ00_03\\n', '\\n', 'xxQ00_02 xxbob    \\n', 'xxeob xxQ00_03\\n', '\\n', 'xxQ00_02 xxbob Pare}\\n', 'xxeob xxQ00_02\\n', '\\n', 'xxQ00_00 xxbob COMPONERTS/415_&amp; St\\n', 'MATLLARD REACTION “Al! FLAVOR\\n', 'xxeob xxQ00_02\\n', '\\n', 'xxQ00_02 xxbob Fisgert, af Grove AG GALLON Toe lo. 1\\n', 'xxeob xxQ00_03\\n', '\\n', 'xxQ00_00 xxbob the layer of the Mailiare\\n', 'Jdentification of flavor components in aqueous\\n', 'this communicati...</td>\n",
              "    </tr>\n",
              "    <tr>\n",
              "      <th>1</th>\n",
              "      <td>Tobacco800</td>\n",
              "      <td>tkj51f00_2</td>\n",
              "      <td>NextPage</td>\n",
              "      <td>FIGURE I GAS CHROMATOGRAF!</td>\n",
              "      <td>['\\n', 'xxQ01_02 xxbob  \\n', 'xxeob xxQ01_02\\n', '\\n', 'xxQ01_01 xxbob  \\n', 'xxeob xxQ01_03\\n', '\\n', 'xxQ02_01 xxbob  \\n', 'xxeob xxQ02_02\\n', '\\n', 'xxQ01_01 xxbob  \\n', 'xxeob xxQ01_03\\n', '\\n', 'xxQ01_01 xxbob  \\n', 'xxeob xxQ01_03\\n', '\\n', 'xxQ01_01 xxbob  \\n', 'xxeob xxQ01_03\\n', '\\n', 'xxQ00_01 xxbob  \\n', 'xxeob xxQ01_02\\n', '\\n', 'xxQ01_01 xxbob  \\n', 'xxeob xxQ01_02\\n', '\\n', 'xxQ00_00 xxbob  \\n', 'xxeob xxQ01_00\\n', '\\n', 'xxQ02_02 xxbob  \\n', 'xxeob xxQ03_02\\n', '\\n', 'xxQ02_01 xxbob xxbcet  \\n', 'xxecet\\n', 'xxeob xxQ03_03\\n', '\\n', 'xxQ02_01 xxbob  \\n', 'xxeob xxQ02_03\\n', ...</td>\n",
              "    </tr>\n",
              "    <tr>\n",
              "      <th>2</th>\n",
              "      <td>Tobacco800</td>\n",
              "      <td>tkj51f00_3</td>\n",
              "      <td>NextPage</td>\n",
              "      <td>TABLE 1 Subfraction Ho.                                Gdc]~ T r a n s i t i o n During H_lnt j_wn        1               Floral        2               Mi.lk chocolate,    sweet        3               Cocoa, floral        4               ChocoJatc , weak   cocoa.  strong cocoa        5               Sweet   cocoa, sweet fruity,     cooked  fruity, green itasty        6               Green   and chocolate, faint     cocoa,  sweet, sharp green,                        green bell pepper, sweet nutty, burnt bready nutty, bready sweet, sweet green        7               Green pepper, sharp ranci...</td>\n",
              "      <td>['\\n', 'xxQ00_00 xxbob  \\n', 'xxeob xxQ01_00\\n', '\\n', 'xxQ00_00 xxbob Subfraction No.\\n', 'xxeob xxQ00_00\\n', '\\n', 'xxQ00_00 xxbob Dw wn\\n', 'fF\\n', 'xxeob xxQ01_00\\n', '\\n', 'xxQ02_00 xxbob xxbcet 10\\n', 'xxecet\\n', 'xxbcet ll\\n', 'xxecet\\n', 'xxbcet 12\\n', 'xxecet\\n', 'xxeob xxQ02_00\\n', '\\n', 'xxQ02_00 xxbob xxbcet 13\\n', 'xxecet\\n', 'xxbcet 14\\n', 'xxecet\\n', 'xxbcet 45\\n', 'xxecet\\n', 'xxeob xxQ03_00\\n', '\\n', 'xxQ03_00 xxbob xxbcet 16\\n', 'xxecet\\n', 'xxeob xxQ03_00\\n', '\\n', 'xxQ00_01 xxbob xxbcet TABLE 1\\n', 'xxecet\\n', 'xxeob xxQ00_01\\n', '\\n', 'xxQ00_01 xxbob Floral\\n', 'Milk c...</td>\n",
              "    </tr>\n",
              "    <tr>\n",
              "      <th>3</th>\n",
              "      <td>Tobacco800</td>\n",
              "      <td>tkj51f00_4</td>\n",
              "      <td>NextPage</td>\n",
              "      <td>Tab u 1 J Subfraction // 3 8  Components Identified  Re 1 . Abnndai 2-mettiy 1 pro p anal 3-methylbutanal 2-methylbutanal 2-hexero 1-isocyanatopropane 2,5-dimethylfuran 2-methyl-N - (2-methylpropylidcne)-1-propanainine cyclohexane 2,3-pentandione pyrazine 3-penten-2-one pyridine phenol cyclopentanone 4-me thyl-2-hexene methyIcyclobexane 2-jmethylpy r idine cyclohexanone meLhylphenol 2-methyl-N-(2-methy1propylidene)-1-propanamine ethylbenzene  2-piperidine methatieamine  1-hydroxy-2-propancne  2-methyl-l-pentcne methylpyrazine ethenylbenzem-  2,5-dimethyl pyrazine 2-imitlo-cy c lnpentane o...</td>\n",
              "      <td>['\\n', 'xxQ00_01 xxbob Tabie 1]\\n', 'xxeob xxQ00_01\\n', '\\n', 'xxQ00_00 xxbob i! Identified Rel, Abundance\\n', 'Subfraction Components\\n', '4 2-methylpropana!\\n', '! 3-methylbutanal\\n', '| 2-mwethylbutanal\\n', ': 2-hexenc\\n', 'l-isocyanatopropane\\n', '2,5-dimethylfuran\\n', '2-methy1-N-(2-methylpropylidene)-1-propanamine\\n', '5 cyclohexane\\n', '2, 3-pentandione\\n', 'pyrazine\\n', '3-penten-2-one\\n', 'pyridine\\n', 'phenol\\n', 'cyclopentanone\\n', '4-methyl-2-hexcne\\n', 'methyleyclohexane\\n', '2omethylpyridine\\n', 'cyclohexanone\\n', 'methylphenol\\n', '2-methy1-N-(2-methy lpropylidene) -1-propan...</td>\n",
              "    </tr>\n",
              "    <tr>\n",
              "      <th>4</th>\n",
              "      <td>Tobacco800</td>\n",
              "      <td>tkj51f00_5</td>\n",
              "      <td>NextPage</td>\n",
              "      <td>Talj.lt’ IT Subfraction ii        Components Identified                               Re] . Abundance 7                 tyclohexane                                               ++                   2.2-dinethyl-hexanf'                                      +                   oxi ran eite thanol                                       +                  *cyclopentene                                              ++                   2-methy1-2-cycT openten-l-onc                             +                   l-(2-furanyl)-ethanone                                    ++                   furan...</td>\n",
              "      <td>['\\n', 'xxQ00_00 xxbob Subfraction #\\n', 'xxeob xxQ00_00\\n', '\\n', 'xxQ00_01 xxbob Table 17\\n', 'xxeob xxQ00_01\\n', '\\n', 'xxQ00_01 xxbob Components Identified\\n', 'xxeob xxQ00_01\\n', '\\n', 'xxQ00_00 xxbob  \\n', 'xxeob xxQ00_01\\n', '\\n', 'xxQ00_00 xxbob 7\\n', 'xxeob xxQ00_00\\n', '\\n', 'xxQ00_01 xxbob cyclohexane\\n', '2,2-dimethyl-hexane\\n', 'oxiranemethanol\\n', 'Xcyclopentene\\n', '2-methyl-2-cyclopenten~l-one\\n', '1-(2-furanyl )-ethanone\\n', 'furan\\n', '2,5-dimethy1-3-propylpyrazine\\n', '2, 5~dimethyl-3-isobutylpyrazine\\n', '2-methyl-1H-pyrrole\\n', '*2-propyl-oxetane\\n', 'ethenylbenzene\\n'...</td>\n",
              "    </tr>\n",
              "    <tr>\n",
              "      <th>...</th>\n",
              "      <td>...</td>\n",
              "      <td>...</td>\n",
              "      <td>...</td>\n",
              "      <td>...</td>\n",
              "      <td>...</td>\n",
              "    </tr>\n",
              "    <tr>\n",
              "      <th>254</th>\n",
              "      <td>Tobacco800</td>\n",
              "      <td>zrz94a00-page02_2</td>\n",
              "      <td>NextPage</td>\n",
              "      <td>Hr. Patrick Leathem Page Two November 14, 1990 When corresponding with this office, please include your claim number and the claimant*s ziame. Very truly yours PHILIP MORRIS MANAGEMENT CORP. Ellen Dimech Claims Coordinator cc:    David   Curie       Sue Strausser Colleen Flinn Cläre Pureeil 2063270105</td>\n",
              "      <td>['\\n', 'xxQ01_00 xxbob Mr. Patrick Leathem\\n', 'Page Two\\n', 'xxeob xxQ01_01\\n', '\\n', 'xxQ01_00 xxbob November 14, 1990\\n', 'xxeob xxQ01_01\\n', '\\n', 'xxQ02_00 xxbob When corresponding with this office, please include your claim number\\n', \"and the claimant's name.\\n\", 'xxeob xxQ02_03\\n', '\\n', 'xxQ02_01 xxbob Very truly yours,\\n', 'xxeob xxQ02_02\\n', '\\n', 'xxQ02_01 xxbob PHILIP MORRIS MANAGEMENT CORP.\\n', 'xxeob xxQ02_03\\n', '\\n', 'xxQ03_01 xxbob Mi humick\\n', 'xxeob xxQ03_02\\n', '\\n', 'xxQ03_01 xxbob Ellen Dimech\\n', 'Glaims Coordinator\\n', 'xxeob xxQ03_02\\n', '\\n', 'xxQ03_00 xxbob ee:...</td>\n",
              "    </tr>\n",
              "    <tr>\n",
              "      <th>255</th>\n",
              "      <td>Tobacco800</td>\n",
              "      <td>zss86d00</td>\n",
              "      <td>FirstPage</td>\n",
              "      <td>LAW OFFICES OF                   NIELSEN, MERKSAMER, HODGSON, PARRINELLO &amp; MUELLER                                              770 L STREET, SUITE 800 SACRAMENTO, CALIFORNIA 05814 TELEPHONE (916) 4*6-6752                                                    SACRAMENTO                                                 A PARTNERSHIP INCLUD1NG A PROFESSIONAL CORPORATION 591 REDWOOD HIGHWAY, #4000 MILL VALLEY, CALIFORNIA 94941 TELEPHONE (413) 369-6S00                                                  650 CALIFORNIA STREET SUITE 2650 SAN FRANCI5CO, CALIFORNIA 94108 TELEPHONE (415) 989-6800         ...</td>\n",
              "      <td>['\\n', 'xxQ00_01 xxbob xxbcet LAW OFFICES OF\\n', 'xxecet\\n', 'xxeob xxQ00_02\\n', '\\n', 'xxQ00_01 xxbob xxbcet NIELSEN, MERKSAMER,\\n', 'xxecet\\n', 'xxbcet HODGSON, PARRINELLO &amp; MUELLER\\n', 'xxecet\\n', 'xxeob xxQ00_02\\n', '\\n', 'xxQ00_00 xxbob xxbcet ‘PARTNERSHIP INCLUDING A PROFESSIONAL CORPORATION\\n', 'xxecet\\n', 'xxbcet SACRAMENTO 591 REDWOOD HIGHWAY, #4900 FRANCISCO SAN\\n', 'xxecet\\n', 'xxeob xxQ01_03\\n', '\\n', 'xxQ01_00 xxbob 770 L STREET, SUITE 800 MILL VALLEY, CALIFORNIA 94941 650 CALIFORNIA STREET, SUITE 2630\\n', 'SACRAMENTO, CALIFORNIA 95614 SAN FRANCISCO, CALIFORNIA 94108\\n', 'TELE...</td>\n",
              "    </tr>\n",
              "    <tr>\n",
              "      <th>256</th>\n",
              "      <td>Tobacco800</td>\n",
              "      <td>ztz52d00-page02_1</td>\n",
              "      <td>FirstPage</td>\n",
              "      <td>/  Wachtell, Ljpton, Rosen &amp; Katz WABTIN UFTON HERBERT M. WACMTCU TH£OBOR£ BEWERT* S£ft*t*3?G W. NUSSBAUM RiCHA.RD O- .HAT CH ER UGUGtAS S, UEBHAF5XY STEVEN M. 0ARWA CH AI« J, FORTGANG PETEJ5 C, GANELLÜS MiCHA^L W. SCHWAftTZ AiLAM A, MABT)H ÖARfly A*BRTEH LAW” EM CE B» FEÜOWITZ ROBERT e. MAZÜR PAUL VtZCARRONOB, JR, PETER C- HEt*S HAROLD 3~ «OVJKCfF DAVID ti, SENHOR» KENNETH B&gt; DORREST MEYER KOPLÜW THEODORE ävL MIRVIS EOWAR3 i*. HCSUHY RICHARD Q- FEINTUCH A&gt; «EFF ERtO M. ROTH WARRCN Rc STER« ANQREW R. flflOWNSTEi« MICHAEL H- BTOWIT1 RAUL #4. ROWE MICHAS B. BECHER MARC WOimSÄY OAVJO &lt;5 RU E...</td>\n",
              "      <td>['\\n', 'xxQ00_00 xxbob MARTIN LISTON\\n', 'HREABERT 6. WACHTEL\\n', 'TREGDORE GEWERTZ\\n', 'BERNARD W, NUSSBAUM\\n', 'RICHARD 0. KaTCHER\\n', 'DOUGLAS S. LIEBHAFSKY\\n', 'STEVEN M. BARNA\\n', 'CHAIM J. FORTGANG\\n', 'PETLR S CANELLOS\\n', 'MICHAEL W. SCHWARTE\\n', 'ALLAN A. MARTIN\\n', 'BARRY A. BRIER\\n', 'LAWRENCE B, PEDOWITE,\\n', 'ROSERT &amp; MAZUR\\n', 'PAUL WIECARRONGS, Jf,\\n', 'PETER ©. HEHE\\n', 'HARQLO S. ROWKOFF\\n', 'DAVIO 1, EINHORN\\n', 'KENNETH &amp; FORREST\\n', 'MEYER G. ROPLONW\\n', 'THEODORE M,. MIRNIS\\n', 'EDWARD &amp; HERLIHY\\n', 'RICHARD G. FEINTUCH\\n', 'BANIEL A, EFF\\n', 'ERc ¥. ROTH\\n', 'WARREN R...</td>\n",
              "    </tr>\n",
              "    <tr>\n",
              "      <th>257</th>\n",
              "      <td>Tobacco800</td>\n",
              "      <td>ztz52d00-page02_2</td>\n",
              "      <td>NextPage</td>\n",
              "      <td>Wachtell, Ufton, Rosen                                                          •§ Steve Berman, Esq. February 16,1999 Page 2                As we have an executed fee payment for the State of Nevada, and in view of the fact that Hägens Berman is the only firm listed for the State of Nevada on Exhibit S, we will review that Submission at this time.                 If you have any questions about the foregoing, please feel free to give me a calL Very truly yours?</td>\n",
              "      <td>['\\n', 'xxQ00_00 xxbob « rosen@istz = @\\n', '¥ °° WAGHTELL, LIPTON,\\n', 'xxeob xxQ00_02\\n', '\\n', 'xxQ00_00 xxbob Steve Berman, Esq.\\n', \"'\\n\", 'February 16, 1999\\n', 'Page 2\\n', 'xxeob xxQ00_01\\n', '\\n', 'xxQ01_00 xxbob As we have an executed fee payment for the State of Nevada, and in view of the\\n', 'fact that Hagens Berman is the only firm listed for the State of Nevada on Exhibit 5, we will re-\\n', 'xxeob xxQ01_03\\n', '\\n', 'xxQ01_00 xxbob view that submission at this time.\\n', 'xxeob xxQ01_01\\n', '\\n', 'xxQ01_00 xxbob Ifyou have any questions about the foregoing, please feel free to ...</td>\n",
              "    </tr>\n",
              "    <tr>\n",
              "      <th>258</th>\n",
              "      <td>Tobacco800</td>\n",
              "      <td>zvs17e00</td>\n",
              "      <td>FirstPage</td>\n",
              "      <td>L                                                     John T. Landry                                                 •*OUP VtCC MCSIDCMT DIRCCTOft Or MAItftCT INC‘TOBACCO PHILIP MORRIS                USA. 100 PARK AVENUE,NEW YORK,N.Y. 10017                             November 19, 1970 Dear Mr. Gilmovsky: Your letter to Mr. George Weissman of November 9 has been forwarded to this Office. We would certainly be interested in dis-cussing your proposai on advertising to ethnic groups. In this connection, I suggest you contact Mr. James Thompson, Media Manager and Mr. Clifford Wilmot, Director ...</td>\n",
              "      <td>['\\n', 'xxQ00_00 xxbob ee\\n', 'oer\\n', 'xxeob xxQ00_00\\n', '\\n', 'xxQ00_01 xxbob PHILIP MORRIS\\n', 'xxeob xxQ00_02\\n', '\\n', 'xxQ00_01 xxbob UB.A,\\n', '100 PARK AVENUE,NEW YORK,N.Y, 10017\\n', 'xxeob xxQ00_02\\n', '\\n', 'xxQ01_00 xxbob xxbcet Joxun T. LANDRY\\n', 'xxecet\\n', 'xxbcet GROUP VICE PRESIDENT\\n', 'xxecet\\n', 'DIRECTOR OF MARKETING-TOBACCO\\n', 'xxeob xxQ01_01\\n', '\\n', 'xxQ01_02 xxbob November 19, 1970\\n', 'xxeob xxQ01_03\\n', '\\n', 'xxQ02_01 xxbob Dear Mr. Gilmovsky:\\n', 'xxeob xxQ02_02\\n', '\\n', 'xxQ02_01 xxbob Your letter to Mr. George Weissman of\\n', 'November 9 has been forwarde...</td>\n",
              "    </tr>\n",
              "  </tbody>\n",
              "</table>\n",
              "<p>259 rows × 5 columns</p>\n",
              "</div>"
            ],
            "text/plain": [
              "         binder              docid      class  \\\n",
              "0    Tobacco800         tkj51f00_1  FirstPage   \n",
              "1    Tobacco800         tkj51f00_2   NextPage   \n",
              "2    Tobacco800         tkj51f00_3   NextPage   \n",
              "3    Tobacco800         tkj51f00_4   NextPage   \n",
              "4    Tobacco800         tkj51f00_5   NextPage   \n",
              "..          ...                ...        ...   \n",
              "254  Tobacco800  zrz94a00-page02_2   NextPage   \n",
              "255  Tobacco800           zss86d00  FirstPage   \n",
              "256  Tobacco800  ztz52d00-page02_1  FirstPage   \n",
              "257  Tobacco800  ztz52d00-page02_2   NextPage   \n",
              "258  Tobacco800           zvs17e00  FirstPage   \n",
              "\n",
              "                                                                                                                                                                                                                                                                                                                                                                                                                                                                                                                                                                                                                        text  \\\n",
              "0    rii.E ^litl'                                                            karg;; , 1980                                                             ■'!?.!r- ■ !T |Sf: .'■■ J -1 p '■Mr'\" trr*. my MAILLARD REACTION \"A\" FLAVOR COMPONENTS./ A ] 5 6             *!               •• f         -----------------------------------------                                                                      ! i f i wii'.ii ■. , . j i i                                                         F; tp...' t/ t-■ l. ■i. v.' i -!* .i■ uill .,0'; [o,.' ' ’. Identification of flavor components in the ütjiieous la...   \n",
              "1                                                                                                                                                                                                                                                                                                                                                                                                                                                                                                                                                                                                 FIGURE I GAS CHROMATOGRAF!   \n",
              "2    TABLE 1 Subfraction Ho.                                Gdc]~ T r a n s i t i o n During H_lnt j_wn        1               Floral        2               Mi.lk chocolate,    sweet        3               Cocoa, floral        4               ChocoJatc , weak   cocoa.  strong cocoa        5               Sweet   cocoa, sweet fruity,     cooked  fruity, green itasty        6               Green   and chocolate, faint     cocoa,  sweet, sharp green,                        green bell pepper, sweet nutty, burnt bready nutty, bready sweet, sweet green        7               Green pepper, sharp ranci...   \n",
              "3     Tab u 1 J Subfraction // 3 8  Components Identified  Re 1 . Abnndai 2-mettiy 1 pro p anal 3-methylbutanal 2-methylbutanal 2-hexero 1-isocyanatopropane 2,5-dimethylfuran 2-methyl-N - (2-methylpropylidcne)-1-propanainine cyclohexane 2,3-pentandione pyrazine 3-penten-2-one pyridine phenol cyclopentanone 4-me thyl-2-hexene methyIcyclobexane 2-jmethylpy r idine cyclohexanone meLhylphenol 2-methyl-N-(2-methy1propylidene)-1-propanamine ethylbenzene  2-piperidine methatieamine  1-hydroxy-2-propancne  2-methyl-l-pentcne methylpyrazine ethenylbenzem-  2,5-dimethyl pyrazine 2-imitlo-cy c lnpentane o...   \n",
              "4    Talj.lt’ IT Subfraction ii        Components Identified                               Re] . Abundance 7                 tyclohexane                                               ++                   2.2-dinethyl-hexanf'                                      +                   oxi ran eite thanol                                       +                  *cyclopentene                                              ++                   2-methy1-2-cycT openten-l-onc                             +                   l-(2-furanyl)-ethanone                                    ++                   furan...   \n",
              "..                                                                                                                                                                                                                                                                                                                                                                                                                                                                                                                                                                                                                       ...   \n",
              "254                                                                                                                                                                                                                                                                                                           Hr. Patrick Leathem Page Two November 14, 1990 When corresponding with this office, please include your claim number and the claimant*s ziame. Very truly yours PHILIP MORRIS MANAGEMENT CORP. Ellen Dimech Claims Coordinator cc:    David   Curie       Sue Strausser Colleen Flinn Cläre Pureeil 2063270105   \n",
              "255  LAW OFFICES OF                   NIELSEN, MERKSAMER, HODGSON, PARRINELLO & MUELLER                                              770 L STREET, SUITE 800 SACRAMENTO, CALIFORNIA 05814 TELEPHONE (916) 4*6-6752                                                    SACRAMENTO                                                 A PARTNERSHIP INCLUD1NG A PROFESSIONAL CORPORATION 591 REDWOOD HIGHWAY, #4000 MILL VALLEY, CALIFORNIA 94941 TELEPHONE (413) 369-6S00                                                  650 CALIFORNIA STREET SUITE 2650 SAN FRANCI5CO, CALIFORNIA 94108 TELEPHONE (415) 989-6800         ...   \n",
              "256   /  Wachtell, Ljpton, Rosen & Katz WABTIN UFTON HERBERT M. WACMTCU TH£OBOR£ BEWERT* S£ft*t*3?G W. NUSSBAUM RiCHA.RD O- .HAT CH ER UGUGtAS S, UEBHAF5XY STEVEN M. 0ARWA CH AI« J, FORTGANG PETEJ5 C, GANELLÜS MiCHA^L W. SCHWAftTZ AiLAM A, MABT)H ÖARfly A*BRTEH LAW” EM CE B» FEÜOWITZ ROBERT e. MAZÜR PAUL VtZCARRONOB, JR, PETER C- HEt*S HAROLD 3~ «OVJKCfF DAVID ti, SENHOR» KENNETH B> DORREST MEYER KOPLÜW THEODORE ävL MIRVIS EOWAR3 i*. HCSUHY RICHARD Q- FEINTUCH A> «EFF ERtO M. ROTH WARRCN Rc STER« ANQREW R. flflOWNSTEi« MICHAEL H- BTOWIT1 RAUL #4. ROWE MICHAS B. BECHER MARC WOimSÄY OAVJO <5 RU E...   \n",
              "257                                                                                                                                       Wachtell, Ufton, Rosen                                                          •§ Steve Berman, Esq. February 16,1999 Page 2                As we have an executed fee payment for the State of Nevada, and in view of the fact that Hägens Berman is the only firm listed for the State of Nevada on Exhibit S, we will review that Submission at this time.                 If you have any questions about the foregoing, please feel free to give me a calL Very truly yours?   \n",
              "258  L                                                     John T. Landry                                                 •*OUP VtCC MCSIDCMT DIRCCTOft Or MAItftCT INC‘TOBACCO PHILIP MORRIS                USA. 100 PARK AVENUE,NEW YORK,N.Y. 10017                             November 19, 1970 Dear Mr. Gilmovsky: Your letter to Mr. George Weissman of November 9 has been forwarded to this Office. We would certainly be interested in dis-cussing your proposai on advertising to ethnic groups. In this connection, I suggest you contact Mr. James Thompson, Media Manager and Mr. Clifford Wilmot, Director ...   \n",
              "\n",
              "                                                                                                                                                                                                                                                                                                                                                                                                                                                                                                                                                                                                                   text_tags  \n",
              "0    ['\\n', 'xxQ00_01 xxbob      \\n', 'xxeob xxQ00_02\\n', '\\n', 'xxQ00_01 xxbob h Department\\n', 'xxeob xxQ00_02\\n', '\\n', 'xxQ00_00 xxbob MARCH 26, 1986\\n', 'FILE NOTL\\n', 'xxeob xxQ00_03\\n', '\\n', 'xxQ00_02 xxbob    \\n', 'xxeob xxQ00_03\\n', '\\n', 'xxQ00_02 xxbob Pare}\\n', 'xxeob xxQ00_02\\n', '\\n', 'xxQ00_00 xxbob COMPONERTS/415_& St\\n', 'MATLLARD REACTION “Al! FLAVOR\\n', 'xxeob xxQ00_02\\n', '\\n', 'xxQ00_02 xxbob Fisgert, af Grove AG GALLON Toe lo. 1\\n', 'xxeob xxQ00_03\\n', '\\n', 'xxQ00_00 xxbob the layer of the Mailiare\\n', 'Jdentification of flavor components in aqueous\\n', 'this communicati...  \n",
              "1    ['\\n', 'xxQ01_02 xxbob  \\n', 'xxeob xxQ01_02\\n', '\\n', 'xxQ01_01 xxbob  \\n', 'xxeob xxQ01_03\\n', '\\n', 'xxQ02_01 xxbob  \\n', 'xxeob xxQ02_02\\n', '\\n', 'xxQ01_01 xxbob  \\n', 'xxeob xxQ01_03\\n', '\\n', 'xxQ01_01 xxbob  \\n', 'xxeob xxQ01_03\\n', '\\n', 'xxQ01_01 xxbob  \\n', 'xxeob xxQ01_03\\n', '\\n', 'xxQ00_01 xxbob  \\n', 'xxeob xxQ01_02\\n', '\\n', 'xxQ01_01 xxbob  \\n', 'xxeob xxQ01_02\\n', '\\n', 'xxQ00_00 xxbob  \\n', 'xxeob xxQ01_00\\n', '\\n', 'xxQ02_02 xxbob  \\n', 'xxeob xxQ03_02\\n', '\\n', 'xxQ02_01 xxbob xxbcet  \\n', 'xxecet\\n', 'xxeob xxQ03_03\\n', '\\n', 'xxQ02_01 xxbob  \\n', 'xxeob xxQ02_03\\n', ...  \n",
              "2    ['\\n', 'xxQ00_00 xxbob  \\n', 'xxeob xxQ01_00\\n', '\\n', 'xxQ00_00 xxbob Subfraction No.\\n', 'xxeob xxQ00_00\\n', '\\n', 'xxQ00_00 xxbob Dw wn\\n', 'fF\\n', 'xxeob xxQ01_00\\n', '\\n', 'xxQ02_00 xxbob xxbcet 10\\n', 'xxecet\\n', 'xxbcet ll\\n', 'xxecet\\n', 'xxbcet 12\\n', 'xxecet\\n', 'xxeob xxQ02_00\\n', '\\n', 'xxQ02_00 xxbob xxbcet 13\\n', 'xxecet\\n', 'xxbcet 14\\n', 'xxecet\\n', 'xxbcet 45\\n', 'xxecet\\n', 'xxeob xxQ03_00\\n', '\\n', 'xxQ03_00 xxbob xxbcet 16\\n', 'xxecet\\n', 'xxeob xxQ03_00\\n', '\\n', 'xxQ00_01 xxbob xxbcet TABLE 1\\n', 'xxecet\\n', 'xxeob xxQ00_01\\n', '\\n', 'xxQ00_01 xxbob Floral\\n', 'Milk c...  \n",
              "3    ['\\n', 'xxQ00_01 xxbob Tabie 1]\\n', 'xxeob xxQ00_01\\n', '\\n', 'xxQ00_00 xxbob i! Identified Rel, Abundance\\n', 'Subfraction Components\\n', '4 2-methylpropana!\\n', '! 3-methylbutanal\\n', '| 2-mwethylbutanal\\n', ': 2-hexenc\\n', 'l-isocyanatopropane\\n', '2,5-dimethylfuran\\n', '2-methy1-N-(2-methylpropylidene)-1-propanamine\\n', '5 cyclohexane\\n', '2, 3-pentandione\\n', 'pyrazine\\n', '3-penten-2-one\\n', 'pyridine\\n', 'phenol\\n', 'cyclopentanone\\n', '4-methyl-2-hexcne\\n', 'methyleyclohexane\\n', '2omethylpyridine\\n', 'cyclohexanone\\n', 'methylphenol\\n', '2-methy1-N-(2-methy lpropylidene) -1-propan...  \n",
              "4    ['\\n', 'xxQ00_00 xxbob Subfraction #\\n', 'xxeob xxQ00_00\\n', '\\n', 'xxQ00_01 xxbob Table 17\\n', 'xxeob xxQ00_01\\n', '\\n', 'xxQ00_01 xxbob Components Identified\\n', 'xxeob xxQ00_01\\n', '\\n', 'xxQ00_00 xxbob  \\n', 'xxeob xxQ00_01\\n', '\\n', 'xxQ00_00 xxbob 7\\n', 'xxeob xxQ00_00\\n', '\\n', 'xxQ00_01 xxbob cyclohexane\\n', '2,2-dimethyl-hexane\\n', 'oxiranemethanol\\n', 'Xcyclopentene\\n', '2-methyl-2-cyclopenten~l-one\\n', '1-(2-furanyl )-ethanone\\n', 'furan\\n', '2,5-dimethy1-3-propylpyrazine\\n', '2, 5~dimethyl-3-isobutylpyrazine\\n', '2-methyl-1H-pyrrole\\n', '*2-propyl-oxetane\\n', 'ethenylbenzene\\n'...  \n",
              "..                                                                                                                                                                                                                                                                                                                                                                                                                                                                                                                                                                                                                       ...  \n",
              "254  ['\\n', 'xxQ01_00 xxbob Mr. Patrick Leathem\\n', 'Page Two\\n', 'xxeob xxQ01_01\\n', '\\n', 'xxQ01_00 xxbob November 14, 1990\\n', 'xxeob xxQ01_01\\n', '\\n', 'xxQ02_00 xxbob When corresponding with this office, please include your claim number\\n', \"and the claimant's name.\\n\", 'xxeob xxQ02_03\\n', '\\n', 'xxQ02_01 xxbob Very truly yours,\\n', 'xxeob xxQ02_02\\n', '\\n', 'xxQ02_01 xxbob PHILIP MORRIS MANAGEMENT CORP.\\n', 'xxeob xxQ02_03\\n', '\\n', 'xxQ03_01 xxbob Mi humick\\n', 'xxeob xxQ03_02\\n', '\\n', 'xxQ03_01 xxbob Ellen Dimech\\n', 'Glaims Coordinator\\n', 'xxeob xxQ03_02\\n', '\\n', 'xxQ03_00 xxbob ee:...  \n",
              "255  ['\\n', 'xxQ00_01 xxbob xxbcet LAW OFFICES OF\\n', 'xxecet\\n', 'xxeob xxQ00_02\\n', '\\n', 'xxQ00_01 xxbob xxbcet NIELSEN, MERKSAMER,\\n', 'xxecet\\n', 'xxbcet HODGSON, PARRINELLO & MUELLER\\n', 'xxecet\\n', 'xxeob xxQ00_02\\n', '\\n', 'xxQ00_00 xxbob xxbcet ‘PARTNERSHIP INCLUDING A PROFESSIONAL CORPORATION\\n', 'xxecet\\n', 'xxbcet SACRAMENTO 591 REDWOOD HIGHWAY, #4900 FRANCISCO SAN\\n', 'xxecet\\n', 'xxeob xxQ01_03\\n', '\\n', 'xxQ01_00 xxbob 770 L STREET, SUITE 800 MILL VALLEY, CALIFORNIA 94941 650 CALIFORNIA STREET, SUITE 2630\\n', 'SACRAMENTO, CALIFORNIA 95614 SAN FRANCISCO, CALIFORNIA 94108\\n', 'TELE...  \n",
              "256  ['\\n', 'xxQ00_00 xxbob MARTIN LISTON\\n', 'HREABERT 6. WACHTEL\\n', 'TREGDORE GEWERTZ\\n', 'BERNARD W, NUSSBAUM\\n', 'RICHARD 0. KaTCHER\\n', 'DOUGLAS S. LIEBHAFSKY\\n', 'STEVEN M. BARNA\\n', 'CHAIM J. FORTGANG\\n', 'PETLR S CANELLOS\\n', 'MICHAEL W. SCHWARTE\\n', 'ALLAN A. MARTIN\\n', 'BARRY A. BRIER\\n', 'LAWRENCE B, PEDOWITE,\\n', 'ROSERT & MAZUR\\n', 'PAUL WIECARRONGS, Jf,\\n', 'PETER ©. HEHE\\n', 'HARQLO S. ROWKOFF\\n', 'DAVIO 1, EINHORN\\n', 'KENNETH & FORREST\\n', 'MEYER G. ROPLONW\\n', 'THEODORE M,. MIRNIS\\n', 'EDWARD & HERLIHY\\n', 'RICHARD G. FEINTUCH\\n', 'BANIEL A, EFF\\n', 'ERc ¥. ROTH\\n', 'WARREN R...  \n",
              "257  ['\\n', 'xxQ00_00 xxbob « rosen@istz = @\\n', '¥ °° WAGHTELL, LIPTON,\\n', 'xxeob xxQ00_02\\n', '\\n', 'xxQ00_00 xxbob Steve Berman, Esq.\\n', \"'\\n\", 'February 16, 1999\\n', 'Page 2\\n', 'xxeob xxQ00_01\\n', '\\n', 'xxQ01_00 xxbob As we have an executed fee payment for the State of Nevada, and in view of the\\n', 'fact that Hagens Berman is the only firm listed for the State of Nevada on Exhibit 5, we will re-\\n', 'xxeob xxQ01_03\\n', '\\n', 'xxQ01_00 xxbob view that submission at this time.\\n', 'xxeob xxQ01_01\\n', '\\n', 'xxQ01_00 xxbob Ifyou have any questions about the foregoing, please feel free to ...  \n",
              "258  ['\\n', 'xxQ00_00 xxbob ee\\n', 'oer\\n', 'xxeob xxQ00_00\\n', '\\n', 'xxQ00_01 xxbob PHILIP MORRIS\\n', 'xxeob xxQ00_02\\n', '\\n', 'xxQ00_01 xxbob UB.A,\\n', '100 PARK AVENUE,NEW YORK,N.Y, 10017\\n', 'xxeob xxQ00_02\\n', '\\n', 'xxQ01_00 xxbob xxbcet Joxun T. LANDRY\\n', 'xxecet\\n', 'xxbcet GROUP VICE PRESIDENT\\n', 'xxecet\\n', 'DIRECTOR OF MARKETING-TOBACCO\\n', 'xxeob xxQ01_01\\n', '\\n', 'xxQ01_02 xxbob November 19, 1970\\n', 'xxeob xxQ01_03\\n', '\\n', 'xxQ02_01 xxbob Dear Mr. Gilmovsky:\\n', 'xxeob xxQ02_02\\n', '\\n', 'xxQ02_01 xxbob Your letter to Mr. George Weissman of\\n', 'November 9 has been forwarde...  \n",
              "\n",
              "[259 rows x 5 columns]"
            ]
          },
          "metadata": {},
          "execution_count": 9
        }
      ]
    },
    {
      "cell_type": "code",
      "metadata": {
        "id": "enwscOSONRol",
        "colab": {
          "base_uri": "https://localhost:8080/"
        },
        "outputId": "4f5f39e2-208c-44e5-c181-6819685db6c3"
      },
      "source": [
        "df_test.shape"
      ],
      "execution_count": 10,
      "outputs": [
        {
          "output_type": "execute_result",
          "data": {
            "text/plain": [
              "(259, 5)"
            ]
          },
          "metadata": {},
          "execution_count": 10
        }
      ]
    },
    {
      "cell_type": "code",
      "metadata": {
        "id": "dahU9BCbcJBi"
      },
      "source": [
        "data = df_test.drop(columns='docid')"
      ],
      "execution_count": 11,
      "outputs": []
    },
    {
      "cell_type": "code",
      "metadata": {
        "id": "yzuuFGk9fD8Q"
      },
      "source": [
        "df_test = data.drop(columns='binder')"
      ],
      "execution_count": 12,
      "outputs": []
    },
    {
      "cell_type": "code",
      "metadata": {
        "id": "wpErBy-tD5jc"
      },
      "source": [
        "unsup_tags = df_test.drop(columns='class')"
      ],
      "execution_count": 15,
      "outputs": []
    },
    {
      "cell_type": "code",
      "metadata": {
        "id": "Q1WIKAAihyCo",
        "colab": {
          "base_uri": "https://localhost:8080/",
          "height": 727
        },
        "outputId": "a645611a-d34d-4332-a01b-543cd4689a5d"
      },
      "source": [
        "unsup_tags.head()"
      ],
      "execution_count": 16,
      "outputs": [
        {
          "output_type": "execute_result",
          "data": {
            "text/html": [
              "<div>\n",
              "<style scoped>\n",
              "    .dataframe tbody tr th:only-of-type {\n",
              "        vertical-align: middle;\n",
              "    }\n",
              "\n",
              "    .dataframe tbody tr th {\n",
              "        vertical-align: top;\n",
              "    }\n",
              "\n",
              "    .dataframe thead th {\n",
              "        text-align: right;\n",
              "    }\n",
              "</style>\n",
              "<table border=\"1\" class=\"dataframe\">\n",
              "  <thead>\n",
              "    <tr style=\"text-align: right;\">\n",
              "      <th></th>\n",
              "      <th>text</th>\n",
              "      <th>text_tags</th>\n",
              "    </tr>\n",
              "  </thead>\n",
              "  <tbody>\n",
              "    <tr>\n",
              "      <th>0</th>\n",
              "      <td>rii.E ^litl'                                                            karg;; , 1980                                                             ■'!?.!r- ■ !T |Sf: .'■■ J -1 p '■Mr'\" trr*. my MAILLARD REACTION \"A\" FLAVOR COMPONENTS./ A ] 5 6             *!               •• f         -----------------------------------------                                                                      ! i f i wii'.ii ■. , . j i i                                                         F; tp...' t/ t-■ l. ■i. v.' i -!* .i■ uill .,0'; [o,.' ' ’. Identification of flavor components in the ütjiieous la...</td>\n",
              "      <td>['\\n', 'xxQ00_01 xxbob      \\n', 'xxeob xxQ00_02\\n', '\\n', 'xxQ00_01 xxbob h Department\\n', 'xxeob xxQ00_02\\n', '\\n', 'xxQ00_00 xxbob MARCH 26, 1986\\n', 'FILE NOTL\\n', 'xxeob xxQ00_03\\n', '\\n', 'xxQ00_02 xxbob    \\n', 'xxeob xxQ00_03\\n', '\\n', 'xxQ00_02 xxbob Pare}\\n', 'xxeob xxQ00_02\\n', '\\n', 'xxQ00_00 xxbob COMPONERTS/415_&amp; St\\n', 'MATLLARD REACTION “Al! FLAVOR\\n', 'xxeob xxQ00_02\\n', '\\n', 'xxQ00_02 xxbob Fisgert, af Grove AG GALLON Toe lo. 1\\n', 'xxeob xxQ00_03\\n', '\\n', 'xxQ00_00 xxbob the layer of the Mailiare\\n', 'Jdentification of flavor components in aqueous\\n', 'this communicati...</td>\n",
              "    </tr>\n",
              "    <tr>\n",
              "      <th>1</th>\n",
              "      <td>FIGURE I GAS CHROMATOGRAF!</td>\n",
              "      <td>['\\n', 'xxQ01_02 xxbob  \\n', 'xxeob xxQ01_02\\n', '\\n', 'xxQ01_01 xxbob  \\n', 'xxeob xxQ01_03\\n', '\\n', 'xxQ02_01 xxbob  \\n', 'xxeob xxQ02_02\\n', '\\n', 'xxQ01_01 xxbob  \\n', 'xxeob xxQ01_03\\n', '\\n', 'xxQ01_01 xxbob  \\n', 'xxeob xxQ01_03\\n', '\\n', 'xxQ01_01 xxbob  \\n', 'xxeob xxQ01_03\\n', '\\n', 'xxQ00_01 xxbob  \\n', 'xxeob xxQ01_02\\n', '\\n', 'xxQ01_01 xxbob  \\n', 'xxeob xxQ01_02\\n', '\\n', 'xxQ00_00 xxbob  \\n', 'xxeob xxQ01_00\\n', '\\n', 'xxQ02_02 xxbob  \\n', 'xxeob xxQ03_02\\n', '\\n', 'xxQ02_01 xxbob xxbcet  \\n', 'xxecet\\n', 'xxeob xxQ03_03\\n', '\\n', 'xxQ02_01 xxbob  \\n', 'xxeob xxQ02_03\\n', ...</td>\n",
              "    </tr>\n",
              "    <tr>\n",
              "      <th>2</th>\n",
              "      <td>TABLE 1 Subfraction Ho.                                Gdc]~ T r a n s i t i o n During H_lnt j_wn        1               Floral        2               Mi.lk chocolate,    sweet        3               Cocoa, floral        4               ChocoJatc , weak   cocoa.  strong cocoa        5               Sweet   cocoa, sweet fruity,     cooked  fruity, green itasty        6               Green   and chocolate, faint     cocoa,  sweet, sharp green,                        green bell pepper, sweet nutty, burnt bready nutty, bready sweet, sweet green        7               Green pepper, sharp ranci...</td>\n",
              "      <td>['\\n', 'xxQ00_00 xxbob  \\n', 'xxeob xxQ01_00\\n', '\\n', 'xxQ00_00 xxbob Subfraction No.\\n', 'xxeob xxQ00_00\\n', '\\n', 'xxQ00_00 xxbob Dw wn\\n', 'fF\\n', 'xxeob xxQ01_00\\n', '\\n', 'xxQ02_00 xxbob xxbcet 10\\n', 'xxecet\\n', 'xxbcet ll\\n', 'xxecet\\n', 'xxbcet 12\\n', 'xxecet\\n', 'xxeob xxQ02_00\\n', '\\n', 'xxQ02_00 xxbob xxbcet 13\\n', 'xxecet\\n', 'xxbcet 14\\n', 'xxecet\\n', 'xxbcet 45\\n', 'xxecet\\n', 'xxeob xxQ03_00\\n', '\\n', 'xxQ03_00 xxbob xxbcet 16\\n', 'xxecet\\n', 'xxeob xxQ03_00\\n', '\\n', 'xxQ00_01 xxbob xxbcet TABLE 1\\n', 'xxecet\\n', 'xxeob xxQ00_01\\n', '\\n', 'xxQ00_01 xxbob Floral\\n', 'Milk c...</td>\n",
              "    </tr>\n",
              "    <tr>\n",
              "      <th>3</th>\n",
              "      <td>Tab u 1 J Subfraction // 3 8  Components Identified  Re 1 . Abnndai 2-mettiy 1 pro p anal 3-methylbutanal 2-methylbutanal 2-hexero 1-isocyanatopropane 2,5-dimethylfuran 2-methyl-N - (2-methylpropylidcne)-1-propanainine cyclohexane 2,3-pentandione pyrazine 3-penten-2-one pyridine phenol cyclopentanone 4-me thyl-2-hexene methyIcyclobexane 2-jmethylpy r idine cyclohexanone meLhylphenol 2-methyl-N-(2-methy1propylidene)-1-propanamine ethylbenzene  2-piperidine methatieamine  1-hydroxy-2-propancne  2-methyl-l-pentcne methylpyrazine ethenylbenzem-  2,5-dimethyl pyrazine 2-imitlo-cy c lnpentane o...</td>\n",
              "      <td>['\\n', 'xxQ00_01 xxbob Tabie 1]\\n', 'xxeob xxQ00_01\\n', '\\n', 'xxQ00_00 xxbob i! Identified Rel, Abundance\\n', 'Subfraction Components\\n', '4 2-methylpropana!\\n', '! 3-methylbutanal\\n', '| 2-mwethylbutanal\\n', ': 2-hexenc\\n', 'l-isocyanatopropane\\n', '2,5-dimethylfuran\\n', '2-methy1-N-(2-methylpropylidene)-1-propanamine\\n', '5 cyclohexane\\n', '2, 3-pentandione\\n', 'pyrazine\\n', '3-penten-2-one\\n', 'pyridine\\n', 'phenol\\n', 'cyclopentanone\\n', '4-methyl-2-hexcne\\n', 'methyleyclohexane\\n', '2omethylpyridine\\n', 'cyclohexanone\\n', 'methylphenol\\n', '2-methy1-N-(2-methy lpropylidene) -1-propan...</td>\n",
              "    </tr>\n",
              "    <tr>\n",
              "      <th>4</th>\n",
              "      <td>Talj.lt’ IT Subfraction ii        Components Identified                               Re] . Abundance 7                 tyclohexane                                               ++                   2.2-dinethyl-hexanf'                                      +                   oxi ran eite thanol                                       +                  *cyclopentene                                              ++                   2-methy1-2-cycT openten-l-onc                             +                   l-(2-furanyl)-ethanone                                    ++                   furan...</td>\n",
              "      <td>['\\n', 'xxQ00_00 xxbob Subfraction #\\n', 'xxeob xxQ00_00\\n', '\\n', 'xxQ00_01 xxbob Table 17\\n', 'xxeob xxQ00_01\\n', '\\n', 'xxQ00_01 xxbob Components Identified\\n', 'xxeob xxQ00_01\\n', '\\n', 'xxQ00_00 xxbob  \\n', 'xxeob xxQ00_01\\n', '\\n', 'xxQ00_00 xxbob 7\\n', 'xxeob xxQ00_00\\n', '\\n', 'xxQ00_01 xxbob cyclohexane\\n', '2,2-dimethyl-hexane\\n', 'oxiranemethanol\\n', 'Xcyclopentene\\n', '2-methyl-2-cyclopenten~l-one\\n', '1-(2-furanyl )-ethanone\\n', 'furan\\n', '2,5-dimethy1-3-propylpyrazine\\n', '2, 5~dimethyl-3-isobutylpyrazine\\n', '2-methyl-1H-pyrrole\\n', '*2-propyl-oxetane\\n', 'ethenylbenzene\\n'...</td>\n",
              "    </tr>\n",
              "  </tbody>\n",
              "</table>\n",
              "</div>"
            ],
            "text/plain": [
              "                                                                                                                                                                                                                                                                                                                                                                                                                                                                                                                                                                                                                      text  \\\n",
              "0  rii.E ^litl'                                                            karg;; , 1980                                                             ■'!?.!r- ■ !T |Sf: .'■■ J -1 p '■Mr'\" trr*. my MAILLARD REACTION \"A\" FLAVOR COMPONENTS./ A ] 5 6             *!               •• f         -----------------------------------------                                                                      ! i f i wii'.ii ■. , . j i i                                                         F; tp...' t/ t-■ l. ■i. v.' i -!* .i■ uill .,0'; [o,.' ' ’. Identification of flavor components in the ütjiieous la...   \n",
              "1                                                                                                                                                                                                                                                                                                                                                                                                                                                                                                                                                                                               FIGURE I GAS CHROMATOGRAF!   \n",
              "2  TABLE 1 Subfraction Ho.                                Gdc]~ T r a n s i t i o n During H_lnt j_wn        1               Floral        2               Mi.lk chocolate,    sweet        3               Cocoa, floral        4               ChocoJatc , weak   cocoa.  strong cocoa        5               Sweet   cocoa, sweet fruity,     cooked  fruity, green itasty        6               Green   and chocolate, faint     cocoa,  sweet, sharp green,                        green bell pepper, sweet nutty, burnt bready nutty, bready sweet, sweet green        7               Green pepper, sharp ranci...   \n",
              "3   Tab u 1 J Subfraction // 3 8  Components Identified  Re 1 . Abnndai 2-mettiy 1 pro p anal 3-methylbutanal 2-methylbutanal 2-hexero 1-isocyanatopropane 2,5-dimethylfuran 2-methyl-N - (2-methylpropylidcne)-1-propanainine cyclohexane 2,3-pentandione pyrazine 3-penten-2-one pyridine phenol cyclopentanone 4-me thyl-2-hexene methyIcyclobexane 2-jmethylpy r idine cyclohexanone meLhylphenol 2-methyl-N-(2-methy1propylidene)-1-propanamine ethylbenzene  2-piperidine methatieamine  1-hydroxy-2-propancne  2-methyl-l-pentcne methylpyrazine ethenylbenzem-  2,5-dimethyl pyrazine 2-imitlo-cy c lnpentane o...   \n",
              "4  Talj.lt’ IT Subfraction ii        Components Identified                               Re] . Abundance 7                 tyclohexane                                               ++                   2.2-dinethyl-hexanf'                                      +                   oxi ran eite thanol                                       +                  *cyclopentene                                              ++                   2-methy1-2-cycT openten-l-onc                             +                   l-(2-furanyl)-ethanone                                    ++                   furan...   \n",
              "\n",
              "                                                                                                                                                                                                                                                                                                                                                                                                                                                                                                                                                                                                                 text_tags  \n",
              "0  ['\\n', 'xxQ00_01 xxbob      \\n', 'xxeob xxQ00_02\\n', '\\n', 'xxQ00_01 xxbob h Department\\n', 'xxeob xxQ00_02\\n', '\\n', 'xxQ00_00 xxbob MARCH 26, 1986\\n', 'FILE NOTL\\n', 'xxeob xxQ00_03\\n', '\\n', 'xxQ00_02 xxbob    \\n', 'xxeob xxQ00_03\\n', '\\n', 'xxQ00_02 xxbob Pare}\\n', 'xxeob xxQ00_02\\n', '\\n', 'xxQ00_00 xxbob COMPONERTS/415_& St\\n', 'MATLLARD REACTION “Al! FLAVOR\\n', 'xxeob xxQ00_02\\n', '\\n', 'xxQ00_02 xxbob Fisgert, af Grove AG GALLON Toe lo. 1\\n', 'xxeob xxQ00_03\\n', '\\n', 'xxQ00_00 xxbob the layer of the Mailiare\\n', 'Jdentification of flavor components in aqueous\\n', 'this communicati...  \n",
              "1  ['\\n', 'xxQ01_02 xxbob  \\n', 'xxeob xxQ01_02\\n', '\\n', 'xxQ01_01 xxbob  \\n', 'xxeob xxQ01_03\\n', '\\n', 'xxQ02_01 xxbob  \\n', 'xxeob xxQ02_02\\n', '\\n', 'xxQ01_01 xxbob  \\n', 'xxeob xxQ01_03\\n', '\\n', 'xxQ01_01 xxbob  \\n', 'xxeob xxQ01_03\\n', '\\n', 'xxQ01_01 xxbob  \\n', 'xxeob xxQ01_03\\n', '\\n', 'xxQ00_01 xxbob  \\n', 'xxeob xxQ01_02\\n', '\\n', 'xxQ01_01 xxbob  \\n', 'xxeob xxQ01_02\\n', '\\n', 'xxQ00_00 xxbob  \\n', 'xxeob xxQ01_00\\n', '\\n', 'xxQ02_02 xxbob  \\n', 'xxeob xxQ03_02\\n', '\\n', 'xxQ02_01 xxbob xxbcet  \\n', 'xxecet\\n', 'xxeob xxQ03_03\\n', '\\n', 'xxQ02_01 xxbob  \\n', 'xxeob xxQ02_03\\n', ...  \n",
              "2  ['\\n', 'xxQ00_00 xxbob  \\n', 'xxeob xxQ01_00\\n', '\\n', 'xxQ00_00 xxbob Subfraction No.\\n', 'xxeob xxQ00_00\\n', '\\n', 'xxQ00_00 xxbob Dw wn\\n', 'fF\\n', 'xxeob xxQ01_00\\n', '\\n', 'xxQ02_00 xxbob xxbcet 10\\n', 'xxecet\\n', 'xxbcet ll\\n', 'xxecet\\n', 'xxbcet 12\\n', 'xxecet\\n', 'xxeob xxQ02_00\\n', '\\n', 'xxQ02_00 xxbob xxbcet 13\\n', 'xxecet\\n', 'xxbcet 14\\n', 'xxecet\\n', 'xxbcet 45\\n', 'xxecet\\n', 'xxeob xxQ03_00\\n', '\\n', 'xxQ03_00 xxbob xxbcet 16\\n', 'xxecet\\n', 'xxeob xxQ03_00\\n', '\\n', 'xxQ00_01 xxbob xxbcet TABLE 1\\n', 'xxecet\\n', 'xxeob xxQ00_01\\n', '\\n', 'xxQ00_01 xxbob Floral\\n', 'Milk c...  \n",
              "3  ['\\n', 'xxQ00_01 xxbob Tabie 1]\\n', 'xxeob xxQ00_01\\n', '\\n', 'xxQ00_00 xxbob i! Identified Rel, Abundance\\n', 'Subfraction Components\\n', '4 2-methylpropana!\\n', '! 3-methylbutanal\\n', '| 2-mwethylbutanal\\n', ': 2-hexenc\\n', 'l-isocyanatopropane\\n', '2,5-dimethylfuran\\n', '2-methy1-N-(2-methylpropylidene)-1-propanamine\\n', '5 cyclohexane\\n', '2, 3-pentandione\\n', 'pyrazine\\n', '3-penten-2-one\\n', 'pyridine\\n', 'phenol\\n', 'cyclopentanone\\n', '4-methyl-2-hexcne\\n', 'methyleyclohexane\\n', '2omethylpyridine\\n', 'cyclohexanone\\n', 'methylphenol\\n', '2-methy1-N-(2-methy lpropylidene) -1-propan...  \n",
              "4  ['\\n', 'xxQ00_00 xxbob Subfraction #\\n', 'xxeob xxQ00_00\\n', '\\n', 'xxQ00_01 xxbob Table 17\\n', 'xxeob xxQ00_01\\n', '\\n', 'xxQ00_01 xxbob Components Identified\\n', 'xxeob xxQ00_01\\n', '\\n', 'xxQ00_00 xxbob  \\n', 'xxeob xxQ00_01\\n', '\\n', 'xxQ00_00 xxbob 7\\n', 'xxeob xxQ00_00\\n', '\\n', 'xxQ00_01 xxbob cyclohexane\\n', '2,2-dimethyl-hexane\\n', 'oxiranemethanol\\n', 'Xcyclopentene\\n', '2-methyl-2-cyclopenten~l-one\\n', '1-(2-furanyl )-ethanone\\n', 'furan\\n', '2,5-dimethy1-3-propylpyrazine\\n', '2, 5~dimethyl-3-isobutylpyrazine\\n', '2-methyl-1H-pyrrole\\n', '*2-propyl-oxetane\\n', 'ethenylbenzene\\n'...  "
            ]
          },
          "metadata": {},
          "execution_count": 16
        }
      ]
    },
    {
      "cell_type": "code",
      "metadata": {
        "id": "d2wlUbRGiPbq"
      },
      "source": [
        "unsup_tags.to_csv('unsup_tags.csv',encoding='utf-8', index=False)"
      ],
      "execution_count": 17,
      "outputs": []
    },
    {
      "cell_type": "code",
      "metadata": {
        "id": "ydjr8R8Xl8Qj"
      },
      "source": [
        "unsup_tags = pd.read_csv(path + 'unsup_tags.csv', delimiter=',', error_bad_lines=False)"
      ],
      "execution_count": 18,
      "outputs": []
    },
    {
      "cell_type": "code",
      "metadata": {
        "id": "VGa3dDfUjIUR",
        "colab": {
          "base_uri": "https://localhost:8080/",
          "height": 1000
        },
        "outputId": "5cc442e7-be0f-498a-8a08-0c46ef0d3817"
      },
      "source": [
        "unsup_tags"
      ],
      "execution_count": 19,
      "outputs": [
        {
          "output_type": "execute_result",
          "data": {
            "text/html": [
              "<div>\n",
              "<style scoped>\n",
              "    .dataframe tbody tr th:only-of-type {\n",
              "        vertical-align: middle;\n",
              "    }\n",
              "\n",
              "    .dataframe tbody tr th {\n",
              "        vertical-align: top;\n",
              "    }\n",
              "\n",
              "    .dataframe thead th {\n",
              "        text-align: right;\n",
              "    }\n",
              "</style>\n",
              "<table border=\"1\" class=\"dataframe\">\n",
              "  <thead>\n",
              "    <tr style=\"text-align: right;\">\n",
              "      <th></th>\n",
              "      <th>text</th>\n",
              "      <th>text_tags</th>\n",
              "    </tr>\n",
              "  </thead>\n",
              "  <tbody>\n",
              "    <tr>\n",
              "      <th>0</th>\n",
              "      <td>rii.E ^litl'                                                            karg;; , 1980                                                             ■'!?.!r- ■ !T |Sf: .'■■ J -1 p '■Mr'\" trr*. my MAILLARD REACTION \"A\" FLAVOR COMPONENTS./ A ] 5 6             *!               •• f         -----------------------------------------                                                                      ! i f i wii'.ii ■. , . j i i                                                         F; tp...' t/ t-■ l. ■i. v.' i -!* .i■ uill .,0'; [o,.' ' ’. Identification of flavor components in the ütjiieous la...</td>\n",
              "      <td>['\\n', 'xxQ00_01 xxbob      \\n', 'xxeob xxQ00_02\\n', '\\n', 'xxQ00_01 xxbob h Department\\n', 'xxeob xxQ00_02\\n', '\\n', 'xxQ00_00 xxbob MARCH 26, 1986\\n', 'FILE NOTL\\n', 'xxeob xxQ00_03\\n', '\\n', 'xxQ00_02 xxbob    \\n', 'xxeob xxQ00_03\\n', '\\n', 'xxQ00_02 xxbob Pare}\\n', 'xxeob xxQ00_02\\n', '\\n', 'xxQ00_00 xxbob COMPONERTS/415_&amp; St\\n', 'MATLLARD REACTION “Al! FLAVOR\\n', 'xxeob xxQ00_02\\n', '\\n', 'xxQ00_02 xxbob Fisgert, af Grove AG GALLON Toe lo. 1\\n', 'xxeob xxQ00_03\\n', '\\n', 'xxQ00_00 xxbob the layer of the Mailiare\\n', 'Jdentification of flavor components in aqueous\\n', 'this communicati...</td>\n",
              "    </tr>\n",
              "    <tr>\n",
              "      <th>1</th>\n",
              "      <td>FIGURE I GAS CHROMATOGRAF!</td>\n",
              "      <td>['\\n', 'xxQ01_02 xxbob  \\n', 'xxeob xxQ01_02\\n', '\\n', 'xxQ01_01 xxbob  \\n', 'xxeob xxQ01_03\\n', '\\n', 'xxQ02_01 xxbob  \\n', 'xxeob xxQ02_02\\n', '\\n', 'xxQ01_01 xxbob  \\n', 'xxeob xxQ01_03\\n', '\\n', 'xxQ01_01 xxbob  \\n', 'xxeob xxQ01_03\\n', '\\n', 'xxQ01_01 xxbob  \\n', 'xxeob xxQ01_03\\n', '\\n', 'xxQ00_01 xxbob  \\n', 'xxeob xxQ01_02\\n', '\\n', 'xxQ01_01 xxbob  \\n', 'xxeob xxQ01_02\\n', '\\n', 'xxQ00_00 xxbob  \\n', 'xxeob xxQ01_00\\n', '\\n', 'xxQ02_02 xxbob  \\n', 'xxeob xxQ03_02\\n', '\\n', 'xxQ02_01 xxbob xxbcet  \\n', 'xxecet\\n', 'xxeob xxQ03_03\\n', '\\n', 'xxQ02_01 xxbob  \\n', 'xxeob xxQ02_03\\n', ...</td>\n",
              "    </tr>\n",
              "    <tr>\n",
              "      <th>2</th>\n",
              "      <td>TABLE 1 Subfraction Ho.                                Gdc]~ T r a n s i t i o n During H_lnt j_wn        1               Floral        2               Mi.lk chocolate,    sweet        3               Cocoa, floral        4               ChocoJatc , weak   cocoa.  strong cocoa        5               Sweet   cocoa, sweet fruity,     cooked  fruity, green itasty        6               Green   and chocolate, faint     cocoa,  sweet, sharp green,                        green bell pepper, sweet nutty, burnt bready nutty, bready sweet, sweet green        7               Green pepper, sharp ranci...</td>\n",
              "      <td>['\\n', 'xxQ00_00 xxbob  \\n', 'xxeob xxQ01_00\\n', '\\n', 'xxQ00_00 xxbob Subfraction No.\\n', 'xxeob xxQ00_00\\n', '\\n', 'xxQ00_00 xxbob Dw wn\\n', 'fF\\n', 'xxeob xxQ01_00\\n', '\\n', 'xxQ02_00 xxbob xxbcet 10\\n', 'xxecet\\n', 'xxbcet ll\\n', 'xxecet\\n', 'xxbcet 12\\n', 'xxecet\\n', 'xxeob xxQ02_00\\n', '\\n', 'xxQ02_00 xxbob xxbcet 13\\n', 'xxecet\\n', 'xxbcet 14\\n', 'xxecet\\n', 'xxbcet 45\\n', 'xxecet\\n', 'xxeob xxQ03_00\\n', '\\n', 'xxQ03_00 xxbob xxbcet 16\\n', 'xxecet\\n', 'xxeob xxQ03_00\\n', '\\n', 'xxQ00_01 xxbob xxbcet TABLE 1\\n', 'xxecet\\n', 'xxeob xxQ00_01\\n', '\\n', 'xxQ00_01 xxbob Floral\\n', 'Milk c...</td>\n",
              "    </tr>\n",
              "    <tr>\n",
              "      <th>3</th>\n",
              "      <td>Tab u 1 J Subfraction // 3 8  Components Identified  Re 1 . Abnndai 2-mettiy 1 pro p anal 3-methylbutanal 2-methylbutanal 2-hexero 1-isocyanatopropane 2,5-dimethylfuran 2-methyl-N - (2-methylpropylidcne)-1-propanainine cyclohexane 2,3-pentandione pyrazine 3-penten-2-one pyridine phenol cyclopentanone 4-me thyl-2-hexene methyIcyclobexane 2-jmethylpy r idine cyclohexanone meLhylphenol 2-methyl-N-(2-methy1propylidene)-1-propanamine ethylbenzene  2-piperidine methatieamine  1-hydroxy-2-propancne  2-methyl-l-pentcne methylpyrazine ethenylbenzem-  2,5-dimethyl pyrazine 2-imitlo-cy c lnpentane o...</td>\n",
              "      <td>['\\n', 'xxQ00_01 xxbob Tabie 1]\\n', 'xxeob xxQ00_01\\n', '\\n', 'xxQ00_00 xxbob i! Identified Rel, Abundance\\n', 'Subfraction Components\\n', '4 2-methylpropana!\\n', '! 3-methylbutanal\\n', '| 2-mwethylbutanal\\n', ': 2-hexenc\\n', 'l-isocyanatopropane\\n', '2,5-dimethylfuran\\n', '2-methy1-N-(2-methylpropylidene)-1-propanamine\\n', '5 cyclohexane\\n', '2, 3-pentandione\\n', 'pyrazine\\n', '3-penten-2-one\\n', 'pyridine\\n', 'phenol\\n', 'cyclopentanone\\n', '4-methyl-2-hexcne\\n', 'methyleyclohexane\\n', '2omethylpyridine\\n', 'cyclohexanone\\n', 'methylphenol\\n', '2-methy1-N-(2-methy lpropylidene) -1-propan...</td>\n",
              "    </tr>\n",
              "    <tr>\n",
              "      <th>4</th>\n",
              "      <td>Talj.lt’ IT Subfraction ii        Components Identified                               Re] . Abundance 7                 tyclohexane                                               ++                   2.2-dinethyl-hexanf'                                      +                   oxi ran eite thanol                                       +                  *cyclopentene                                              ++                   2-methy1-2-cycT openten-l-onc                             +                   l-(2-furanyl)-ethanone                                    ++                   furan...</td>\n",
              "      <td>['\\n', 'xxQ00_00 xxbob Subfraction #\\n', 'xxeob xxQ00_00\\n', '\\n', 'xxQ00_01 xxbob Table 17\\n', 'xxeob xxQ00_01\\n', '\\n', 'xxQ00_01 xxbob Components Identified\\n', 'xxeob xxQ00_01\\n', '\\n', 'xxQ00_00 xxbob  \\n', 'xxeob xxQ00_01\\n', '\\n', 'xxQ00_00 xxbob 7\\n', 'xxeob xxQ00_00\\n', '\\n', 'xxQ00_01 xxbob cyclohexane\\n', '2,2-dimethyl-hexane\\n', 'oxiranemethanol\\n', 'Xcyclopentene\\n', '2-methyl-2-cyclopenten~l-one\\n', '1-(2-furanyl )-ethanone\\n', 'furan\\n', '2,5-dimethy1-3-propylpyrazine\\n', '2, 5~dimethyl-3-isobutylpyrazine\\n', '2-methyl-1H-pyrrole\\n', '*2-propyl-oxetane\\n', 'ethenylbenzene\\n'...</td>\n",
              "    </tr>\n",
              "    <tr>\n",
              "      <th>...</th>\n",
              "      <td>...</td>\n",
              "      <td>...</td>\n",
              "    </tr>\n",
              "    <tr>\n",
              "      <th>254</th>\n",
              "      <td>Hr. Patrick Leathem Page Two November 14, 1990 When corresponding with this office, please include your claim number and the claimant*s ziame. Very truly yours PHILIP MORRIS MANAGEMENT CORP. Ellen Dimech Claims Coordinator cc:    David   Curie       Sue Strausser Colleen Flinn Cläre Pureeil 2063270105</td>\n",
              "      <td>['\\n', 'xxQ01_00 xxbob Mr. Patrick Leathem\\n', 'Page Two\\n', 'xxeob xxQ01_01\\n', '\\n', 'xxQ01_00 xxbob November 14, 1990\\n', 'xxeob xxQ01_01\\n', '\\n', 'xxQ02_00 xxbob When corresponding with this office, please include your claim number\\n', \"and the claimant's name.\\n\", 'xxeob xxQ02_03\\n', '\\n', 'xxQ02_01 xxbob Very truly yours,\\n', 'xxeob xxQ02_02\\n', '\\n', 'xxQ02_01 xxbob PHILIP MORRIS MANAGEMENT CORP.\\n', 'xxeob xxQ02_03\\n', '\\n', 'xxQ03_01 xxbob Mi humick\\n', 'xxeob xxQ03_02\\n', '\\n', 'xxQ03_01 xxbob Ellen Dimech\\n', 'Glaims Coordinator\\n', 'xxeob xxQ03_02\\n', '\\n', 'xxQ03_00 xxbob ee:...</td>\n",
              "    </tr>\n",
              "    <tr>\n",
              "      <th>255</th>\n",
              "      <td>LAW OFFICES OF                   NIELSEN, MERKSAMER, HODGSON, PARRINELLO &amp; MUELLER                                              770 L STREET, SUITE 800 SACRAMENTO, CALIFORNIA 05814 TELEPHONE (916) 4*6-6752                                                    SACRAMENTO                                                 A PARTNERSHIP INCLUD1NG A PROFESSIONAL CORPORATION 591 REDWOOD HIGHWAY, #4000 MILL VALLEY, CALIFORNIA 94941 TELEPHONE (413) 369-6S00                                                  650 CALIFORNIA STREET SUITE 2650 SAN FRANCI5CO, CALIFORNIA 94108 TELEPHONE (415) 989-6800         ...</td>\n",
              "      <td>['\\n', 'xxQ00_01 xxbob xxbcet LAW OFFICES OF\\n', 'xxecet\\n', 'xxeob xxQ00_02\\n', '\\n', 'xxQ00_01 xxbob xxbcet NIELSEN, MERKSAMER,\\n', 'xxecet\\n', 'xxbcet HODGSON, PARRINELLO &amp; MUELLER\\n', 'xxecet\\n', 'xxeob xxQ00_02\\n', '\\n', 'xxQ00_00 xxbob xxbcet ‘PARTNERSHIP INCLUDING A PROFESSIONAL CORPORATION\\n', 'xxecet\\n', 'xxbcet SACRAMENTO 591 REDWOOD HIGHWAY, #4900 FRANCISCO SAN\\n', 'xxecet\\n', 'xxeob xxQ01_03\\n', '\\n', 'xxQ01_00 xxbob 770 L STREET, SUITE 800 MILL VALLEY, CALIFORNIA 94941 650 CALIFORNIA STREET, SUITE 2630\\n', 'SACRAMENTO, CALIFORNIA 95614 SAN FRANCISCO, CALIFORNIA 94108\\n', 'TELE...</td>\n",
              "    </tr>\n",
              "    <tr>\n",
              "      <th>256</th>\n",
              "      <td>/  Wachtell, Ljpton, Rosen &amp; Katz WABTIN UFTON HERBERT M. WACMTCU TH£OBOR£ BEWERT* S£ft*t*3?G W. NUSSBAUM RiCHA.RD O- .HAT CH ER UGUGtAS S, UEBHAF5XY STEVEN M. 0ARWA CH AI« J, FORTGANG PETEJ5 C, GANELLÜS MiCHA^L W. SCHWAftTZ AiLAM A, MABT)H ÖARfly A*BRTEH LAW” EM CE B» FEÜOWITZ ROBERT e. MAZÜR PAUL VtZCARRONOB, JR, PETER C- HEt*S HAROLD 3~ «OVJKCfF DAVID ti, SENHOR» KENNETH B&gt; DORREST MEYER KOPLÜW THEODORE ävL MIRVIS EOWAR3 i*. HCSUHY RICHARD Q- FEINTUCH A&gt; «EFF ERtO M. ROTH WARRCN Rc STER« ANQREW R. flflOWNSTEi« MICHAEL H- BTOWIT1 RAUL #4. ROWE MICHAS B. BECHER MARC WOimSÄY OAVJO &lt;5 RU E...</td>\n",
              "      <td>['\\n', 'xxQ00_00 xxbob MARTIN LISTON\\n', 'HREABERT 6. WACHTEL\\n', 'TREGDORE GEWERTZ\\n', 'BERNARD W, NUSSBAUM\\n', 'RICHARD 0. KaTCHER\\n', 'DOUGLAS S. LIEBHAFSKY\\n', 'STEVEN M. BARNA\\n', 'CHAIM J. FORTGANG\\n', 'PETLR S CANELLOS\\n', 'MICHAEL W. SCHWARTE\\n', 'ALLAN A. MARTIN\\n', 'BARRY A. BRIER\\n', 'LAWRENCE B, PEDOWITE,\\n', 'ROSERT &amp; MAZUR\\n', 'PAUL WIECARRONGS, Jf,\\n', 'PETER ©. HEHE\\n', 'HARQLO S. ROWKOFF\\n', 'DAVIO 1, EINHORN\\n', 'KENNETH &amp; FORREST\\n', 'MEYER G. ROPLONW\\n', 'THEODORE M,. MIRNIS\\n', 'EDWARD &amp; HERLIHY\\n', 'RICHARD G. FEINTUCH\\n', 'BANIEL A, EFF\\n', 'ERc ¥. ROTH\\n', 'WARREN R...</td>\n",
              "    </tr>\n",
              "    <tr>\n",
              "      <th>257</th>\n",
              "      <td>Wachtell, Ufton, Rosen                                                          •§ Steve Berman, Esq. February 16,1999 Page 2                As we have an executed fee payment for the State of Nevada, and in view of the fact that Hägens Berman is the only firm listed for the State of Nevada on Exhibit S, we will review that Submission at this time.                 If you have any questions about the foregoing, please feel free to give me a calL Very truly yours?</td>\n",
              "      <td>['\\n', 'xxQ00_00 xxbob « rosen@istz = @\\n', '¥ °° WAGHTELL, LIPTON,\\n', 'xxeob xxQ00_02\\n', '\\n', 'xxQ00_00 xxbob Steve Berman, Esq.\\n', \"'\\n\", 'February 16, 1999\\n', 'Page 2\\n', 'xxeob xxQ00_01\\n', '\\n', 'xxQ01_00 xxbob As we have an executed fee payment for the State of Nevada, and in view of the\\n', 'fact that Hagens Berman is the only firm listed for the State of Nevada on Exhibit 5, we will re-\\n', 'xxeob xxQ01_03\\n', '\\n', 'xxQ01_00 xxbob view that submission at this time.\\n', 'xxeob xxQ01_01\\n', '\\n', 'xxQ01_00 xxbob Ifyou have any questions about the foregoing, please feel free to ...</td>\n",
              "    </tr>\n",
              "    <tr>\n",
              "      <th>258</th>\n",
              "      <td>L                                                     John T. Landry                                                 •*OUP VtCC MCSIDCMT DIRCCTOft Or MAItftCT INC‘TOBACCO PHILIP MORRIS                USA. 100 PARK AVENUE,NEW YORK,N.Y. 10017                             November 19, 1970 Dear Mr. Gilmovsky: Your letter to Mr. George Weissman of November 9 has been forwarded to this Office. We would certainly be interested in dis-cussing your proposai on advertising to ethnic groups. In this connection, I suggest you contact Mr. James Thompson, Media Manager and Mr. Clifford Wilmot, Director ...</td>\n",
              "      <td>['\\n', 'xxQ00_00 xxbob ee\\n', 'oer\\n', 'xxeob xxQ00_00\\n', '\\n', 'xxQ00_01 xxbob PHILIP MORRIS\\n', 'xxeob xxQ00_02\\n', '\\n', 'xxQ00_01 xxbob UB.A,\\n', '100 PARK AVENUE,NEW YORK,N.Y, 10017\\n', 'xxeob xxQ00_02\\n', '\\n', 'xxQ01_00 xxbob xxbcet Joxun T. LANDRY\\n', 'xxecet\\n', 'xxbcet GROUP VICE PRESIDENT\\n', 'xxecet\\n', 'DIRECTOR OF MARKETING-TOBACCO\\n', 'xxeob xxQ01_01\\n', '\\n', 'xxQ01_02 xxbob November 19, 1970\\n', 'xxeob xxQ01_03\\n', '\\n', 'xxQ02_01 xxbob Dear Mr. Gilmovsky:\\n', 'xxeob xxQ02_02\\n', '\\n', 'xxQ02_01 xxbob Your letter to Mr. George Weissman of\\n', 'November 9 has been forwarde...</td>\n",
              "    </tr>\n",
              "  </tbody>\n",
              "</table>\n",
              "<p>259 rows × 2 columns</p>\n",
              "</div>"
            ],
            "text/plain": [
              "                                                                                                                                                                                                                                                                                                                                                                                                                                                                                                                                                                                                                        text  \\\n",
              "0    rii.E ^litl'                                                            karg;; , 1980                                                             ■'!?.!r- ■ !T |Sf: .'■■ J -1 p '■Mr'\" trr*. my MAILLARD REACTION \"A\" FLAVOR COMPONENTS./ A ] 5 6             *!               •• f         -----------------------------------------                                                                      ! i f i wii'.ii ■. , . j i i                                                         F; tp...' t/ t-■ l. ■i. v.' i -!* .i■ uill .,0'; [o,.' ' ’. Identification of flavor components in the ütjiieous la...   \n",
              "1                                                                                                                                                                                                                                                                                                                                                                                                                                                                                                                                                                                                 FIGURE I GAS CHROMATOGRAF!   \n",
              "2    TABLE 1 Subfraction Ho.                                Gdc]~ T r a n s i t i o n During H_lnt j_wn        1               Floral        2               Mi.lk chocolate,    sweet        3               Cocoa, floral        4               ChocoJatc , weak   cocoa.  strong cocoa        5               Sweet   cocoa, sweet fruity,     cooked  fruity, green itasty        6               Green   and chocolate, faint     cocoa,  sweet, sharp green,                        green bell pepper, sweet nutty, burnt bready nutty, bready sweet, sweet green        7               Green pepper, sharp ranci...   \n",
              "3     Tab u 1 J Subfraction // 3 8  Components Identified  Re 1 . Abnndai 2-mettiy 1 pro p anal 3-methylbutanal 2-methylbutanal 2-hexero 1-isocyanatopropane 2,5-dimethylfuran 2-methyl-N - (2-methylpropylidcne)-1-propanainine cyclohexane 2,3-pentandione pyrazine 3-penten-2-one pyridine phenol cyclopentanone 4-me thyl-2-hexene methyIcyclobexane 2-jmethylpy r idine cyclohexanone meLhylphenol 2-methyl-N-(2-methy1propylidene)-1-propanamine ethylbenzene  2-piperidine methatieamine  1-hydroxy-2-propancne  2-methyl-l-pentcne methylpyrazine ethenylbenzem-  2,5-dimethyl pyrazine 2-imitlo-cy c lnpentane o...   \n",
              "4    Talj.lt’ IT Subfraction ii        Components Identified                               Re] . Abundance 7                 tyclohexane                                               ++                   2.2-dinethyl-hexanf'                                      +                   oxi ran eite thanol                                       +                  *cyclopentene                                              ++                   2-methy1-2-cycT openten-l-onc                             +                   l-(2-furanyl)-ethanone                                    ++                   furan...   \n",
              "..                                                                                                                                                                                                                                                                                                                                                                                                                                                                                                                                                                                                                       ...   \n",
              "254                                                                                                                                                                                                                                                                                                           Hr. Patrick Leathem Page Two November 14, 1990 When corresponding with this office, please include your claim number and the claimant*s ziame. Very truly yours PHILIP MORRIS MANAGEMENT CORP. Ellen Dimech Claims Coordinator cc:    David   Curie       Sue Strausser Colleen Flinn Cläre Pureeil 2063270105   \n",
              "255  LAW OFFICES OF                   NIELSEN, MERKSAMER, HODGSON, PARRINELLO & MUELLER                                              770 L STREET, SUITE 800 SACRAMENTO, CALIFORNIA 05814 TELEPHONE (916) 4*6-6752                                                    SACRAMENTO                                                 A PARTNERSHIP INCLUD1NG A PROFESSIONAL CORPORATION 591 REDWOOD HIGHWAY, #4000 MILL VALLEY, CALIFORNIA 94941 TELEPHONE (413) 369-6S00                                                  650 CALIFORNIA STREET SUITE 2650 SAN FRANCI5CO, CALIFORNIA 94108 TELEPHONE (415) 989-6800         ...   \n",
              "256   /  Wachtell, Ljpton, Rosen & Katz WABTIN UFTON HERBERT M. WACMTCU TH£OBOR£ BEWERT* S£ft*t*3?G W. NUSSBAUM RiCHA.RD O- .HAT CH ER UGUGtAS S, UEBHAF5XY STEVEN M. 0ARWA CH AI« J, FORTGANG PETEJ5 C, GANELLÜS MiCHA^L W. SCHWAftTZ AiLAM A, MABT)H ÖARfly A*BRTEH LAW” EM CE B» FEÜOWITZ ROBERT e. MAZÜR PAUL VtZCARRONOB, JR, PETER C- HEt*S HAROLD 3~ «OVJKCfF DAVID ti, SENHOR» KENNETH B> DORREST MEYER KOPLÜW THEODORE ävL MIRVIS EOWAR3 i*. HCSUHY RICHARD Q- FEINTUCH A> «EFF ERtO M. ROTH WARRCN Rc STER« ANQREW R. flflOWNSTEi« MICHAEL H- BTOWIT1 RAUL #4. ROWE MICHAS B. BECHER MARC WOimSÄY OAVJO <5 RU E...   \n",
              "257                                                                                                                                       Wachtell, Ufton, Rosen                                                          •§ Steve Berman, Esq. February 16,1999 Page 2                As we have an executed fee payment for the State of Nevada, and in view of the fact that Hägens Berman is the only firm listed for the State of Nevada on Exhibit S, we will review that Submission at this time.                 If you have any questions about the foregoing, please feel free to give me a calL Very truly yours?   \n",
              "258  L                                                     John T. Landry                                                 •*OUP VtCC MCSIDCMT DIRCCTOft Or MAItftCT INC‘TOBACCO PHILIP MORRIS                USA. 100 PARK AVENUE,NEW YORK,N.Y. 10017                             November 19, 1970 Dear Mr. Gilmovsky: Your letter to Mr. George Weissman of November 9 has been forwarded to this Office. We would certainly be interested in dis-cussing your proposai on advertising to ethnic groups. In this connection, I suggest you contact Mr. James Thompson, Media Manager and Mr. Clifford Wilmot, Director ...   \n",
              "\n",
              "                                                                                                                                                                                                                                                                                                                                                                                                                                                                                                                                                                                                                   text_tags  \n",
              "0    ['\\n', 'xxQ00_01 xxbob      \\n', 'xxeob xxQ00_02\\n', '\\n', 'xxQ00_01 xxbob h Department\\n', 'xxeob xxQ00_02\\n', '\\n', 'xxQ00_00 xxbob MARCH 26, 1986\\n', 'FILE NOTL\\n', 'xxeob xxQ00_03\\n', '\\n', 'xxQ00_02 xxbob    \\n', 'xxeob xxQ00_03\\n', '\\n', 'xxQ00_02 xxbob Pare}\\n', 'xxeob xxQ00_02\\n', '\\n', 'xxQ00_00 xxbob COMPONERTS/415_& St\\n', 'MATLLARD REACTION “Al! FLAVOR\\n', 'xxeob xxQ00_02\\n', '\\n', 'xxQ00_02 xxbob Fisgert, af Grove AG GALLON Toe lo. 1\\n', 'xxeob xxQ00_03\\n', '\\n', 'xxQ00_00 xxbob the layer of the Mailiare\\n', 'Jdentification of flavor components in aqueous\\n', 'this communicati...  \n",
              "1    ['\\n', 'xxQ01_02 xxbob  \\n', 'xxeob xxQ01_02\\n', '\\n', 'xxQ01_01 xxbob  \\n', 'xxeob xxQ01_03\\n', '\\n', 'xxQ02_01 xxbob  \\n', 'xxeob xxQ02_02\\n', '\\n', 'xxQ01_01 xxbob  \\n', 'xxeob xxQ01_03\\n', '\\n', 'xxQ01_01 xxbob  \\n', 'xxeob xxQ01_03\\n', '\\n', 'xxQ01_01 xxbob  \\n', 'xxeob xxQ01_03\\n', '\\n', 'xxQ00_01 xxbob  \\n', 'xxeob xxQ01_02\\n', '\\n', 'xxQ01_01 xxbob  \\n', 'xxeob xxQ01_02\\n', '\\n', 'xxQ00_00 xxbob  \\n', 'xxeob xxQ01_00\\n', '\\n', 'xxQ02_02 xxbob  \\n', 'xxeob xxQ03_02\\n', '\\n', 'xxQ02_01 xxbob xxbcet  \\n', 'xxecet\\n', 'xxeob xxQ03_03\\n', '\\n', 'xxQ02_01 xxbob  \\n', 'xxeob xxQ02_03\\n', ...  \n",
              "2    ['\\n', 'xxQ00_00 xxbob  \\n', 'xxeob xxQ01_00\\n', '\\n', 'xxQ00_00 xxbob Subfraction No.\\n', 'xxeob xxQ00_00\\n', '\\n', 'xxQ00_00 xxbob Dw wn\\n', 'fF\\n', 'xxeob xxQ01_00\\n', '\\n', 'xxQ02_00 xxbob xxbcet 10\\n', 'xxecet\\n', 'xxbcet ll\\n', 'xxecet\\n', 'xxbcet 12\\n', 'xxecet\\n', 'xxeob xxQ02_00\\n', '\\n', 'xxQ02_00 xxbob xxbcet 13\\n', 'xxecet\\n', 'xxbcet 14\\n', 'xxecet\\n', 'xxbcet 45\\n', 'xxecet\\n', 'xxeob xxQ03_00\\n', '\\n', 'xxQ03_00 xxbob xxbcet 16\\n', 'xxecet\\n', 'xxeob xxQ03_00\\n', '\\n', 'xxQ00_01 xxbob xxbcet TABLE 1\\n', 'xxecet\\n', 'xxeob xxQ00_01\\n', '\\n', 'xxQ00_01 xxbob Floral\\n', 'Milk c...  \n",
              "3    ['\\n', 'xxQ00_01 xxbob Tabie 1]\\n', 'xxeob xxQ00_01\\n', '\\n', 'xxQ00_00 xxbob i! Identified Rel, Abundance\\n', 'Subfraction Components\\n', '4 2-methylpropana!\\n', '! 3-methylbutanal\\n', '| 2-mwethylbutanal\\n', ': 2-hexenc\\n', 'l-isocyanatopropane\\n', '2,5-dimethylfuran\\n', '2-methy1-N-(2-methylpropylidene)-1-propanamine\\n', '5 cyclohexane\\n', '2, 3-pentandione\\n', 'pyrazine\\n', '3-penten-2-one\\n', 'pyridine\\n', 'phenol\\n', 'cyclopentanone\\n', '4-methyl-2-hexcne\\n', 'methyleyclohexane\\n', '2omethylpyridine\\n', 'cyclohexanone\\n', 'methylphenol\\n', '2-methy1-N-(2-methy lpropylidene) -1-propan...  \n",
              "4    ['\\n', 'xxQ00_00 xxbob Subfraction #\\n', 'xxeob xxQ00_00\\n', '\\n', 'xxQ00_01 xxbob Table 17\\n', 'xxeob xxQ00_01\\n', '\\n', 'xxQ00_01 xxbob Components Identified\\n', 'xxeob xxQ00_01\\n', '\\n', 'xxQ00_00 xxbob  \\n', 'xxeob xxQ00_01\\n', '\\n', 'xxQ00_00 xxbob 7\\n', 'xxeob xxQ00_00\\n', '\\n', 'xxQ00_01 xxbob cyclohexane\\n', '2,2-dimethyl-hexane\\n', 'oxiranemethanol\\n', 'Xcyclopentene\\n', '2-methyl-2-cyclopenten~l-one\\n', '1-(2-furanyl )-ethanone\\n', 'furan\\n', '2,5-dimethy1-3-propylpyrazine\\n', '2, 5~dimethyl-3-isobutylpyrazine\\n', '2-methyl-1H-pyrrole\\n', '*2-propyl-oxetane\\n', 'ethenylbenzene\\n'...  \n",
              "..                                                                                                                                                                                                                                                                                                                                                                                                                                                                                                                                                                                                                       ...  \n",
              "254  ['\\n', 'xxQ01_00 xxbob Mr. Patrick Leathem\\n', 'Page Two\\n', 'xxeob xxQ01_01\\n', '\\n', 'xxQ01_00 xxbob November 14, 1990\\n', 'xxeob xxQ01_01\\n', '\\n', 'xxQ02_00 xxbob When corresponding with this office, please include your claim number\\n', \"and the claimant's name.\\n\", 'xxeob xxQ02_03\\n', '\\n', 'xxQ02_01 xxbob Very truly yours,\\n', 'xxeob xxQ02_02\\n', '\\n', 'xxQ02_01 xxbob PHILIP MORRIS MANAGEMENT CORP.\\n', 'xxeob xxQ02_03\\n', '\\n', 'xxQ03_01 xxbob Mi humick\\n', 'xxeob xxQ03_02\\n', '\\n', 'xxQ03_01 xxbob Ellen Dimech\\n', 'Glaims Coordinator\\n', 'xxeob xxQ03_02\\n', '\\n', 'xxQ03_00 xxbob ee:...  \n",
              "255  ['\\n', 'xxQ00_01 xxbob xxbcet LAW OFFICES OF\\n', 'xxecet\\n', 'xxeob xxQ00_02\\n', '\\n', 'xxQ00_01 xxbob xxbcet NIELSEN, MERKSAMER,\\n', 'xxecet\\n', 'xxbcet HODGSON, PARRINELLO & MUELLER\\n', 'xxecet\\n', 'xxeob xxQ00_02\\n', '\\n', 'xxQ00_00 xxbob xxbcet ‘PARTNERSHIP INCLUDING A PROFESSIONAL CORPORATION\\n', 'xxecet\\n', 'xxbcet SACRAMENTO 591 REDWOOD HIGHWAY, #4900 FRANCISCO SAN\\n', 'xxecet\\n', 'xxeob xxQ01_03\\n', '\\n', 'xxQ01_00 xxbob 770 L STREET, SUITE 800 MILL VALLEY, CALIFORNIA 94941 650 CALIFORNIA STREET, SUITE 2630\\n', 'SACRAMENTO, CALIFORNIA 95614 SAN FRANCISCO, CALIFORNIA 94108\\n', 'TELE...  \n",
              "256  ['\\n', 'xxQ00_00 xxbob MARTIN LISTON\\n', 'HREABERT 6. WACHTEL\\n', 'TREGDORE GEWERTZ\\n', 'BERNARD W, NUSSBAUM\\n', 'RICHARD 0. KaTCHER\\n', 'DOUGLAS S. LIEBHAFSKY\\n', 'STEVEN M. BARNA\\n', 'CHAIM J. FORTGANG\\n', 'PETLR S CANELLOS\\n', 'MICHAEL W. SCHWARTE\\n', 'ALLAN A. MARTIN\\n', 'BARRY A. BRIER\\n', 'LAWRENCE B, PEDOWITE,\\n', 'ROSERT & MAZUR\\n', 'PAUL WIECARRONGS, Jf,\\n', 'PETER ©. HEHE\\n', 'HARQLO S. ROWKOFF\\n', 'DAVIO 1, EINHORN\\n', 'KENNETH & FORREST\\n', 'MEYER G. ROPLONW\\n', 'THEODORE M,. MIRNIS\\n', 'EDWARD & HERLIHY\\n', 'RICHARD G. FEINTUCH\\n', 'BANIEL A, EFF\\n', 'ERc ¥. ROTH\\n', 'WARREN R...  \n",
              "257  ['\\n', 'xxQ00_00 xxbob « rosen@istz = @\\n', '¥ °° WAGHTELL, LIPTON,\\n', 'xxeob xxQ00_02\\n', '\\n', 'xxQ00_00 xxbob Steve Berman, Esq.\\n', \"'\\n\", 'February 16, 1999\\n', 'Page 2\\n', 'xxeob xxQ00_01\\n', '\\n', 'xxQ01_00 xxbob As we have an executed fee payment for the State of Nevada, and in view of the\\n', 'fact that Hagens Berman is the only firm listed for the State of Nevada on Exhibit 5, we will re-\\n', 'xxeob xxQ01_03\\n', '\\n', 'xxQ01_00 xxbob view that submission at this time.\\n', 'xxeob xxQ01_01\\n', '\\n', 'xxQ01_00 xxbob Ifyou have any questions about the foregoing, please feel free to ...  \n",
              "258  ['\\n', 'xxQ00_00 xxbob ee\\n', 'oer\\n', 'xxeob xxQ00_00\\n', '\\n', 'xxQ00_01 xxbob PHILIP MORRIS\\n', 'xxeob xxQ00_02\\n', '\\n', 'xxQ00_01 xxbob UB.A,\\n', '100 PARK AVENUE,NEW YORK,N.Y, 10017\\n', 'xxeob xxQ00_02\\n', '\\n', 'xxQ01_00 xxbob xxbcet Joxun T. LANDRY\\n', 'xxecet\\n', 'xxbcet GROUP VICE PRESIDENT\\n', 'xxecet\\n', 'DIRECTOR OF MARKETING-TOBACCO\\n', 'xxeob xxQ01_01\\n', '\\n', 'xxQ01_02 xxbob November 19, 1970\\n', 'xxeob xxQ01_03\\n', '\\n', 'xxQ02_01 xxbob Dear Mr. Gilmovsky:\\n', 'xxeob xxQ02_02\\n', '\\n', 'xxQ02_01 xxbob Your letter to Mr. George Weissman of\\n', 'November 9 has been forwarde...  \n",
              "\n",
              "[259 rows x 2 columns]"
            ]
          },
          "metadata": {},
          "execution_count": 19
        }
      ]
    },
    {
      "cell_type": "markdown",
      "metadata": {
        "id": "bY4v5mjtPfun"
      },
      "source": [
        "## Create DataLoader"
      ]
    },
    {
      "cell_type": "code",
      "metadata": {
        "id": "vOx33LAtQKY1"
      },
      "source": [
        "def get_features(r):\n",
        "\n",
        "  return r['text']\n",
        "\n",
        "def get_labels(r):\n",
        "\n",
        "  return r['class']"
      ],
      "execution_count": 11,
      "outputs": []
    },
    {
      "cell_type": "code",
      "metadata": {
        "id": "v9uaiqMalx0x",
        "colab": {
          "base_uri": "https://localhost:8080/",
          "height": 254
        },
        "outputId": "4752e9ab-fcba-4dae-8227-a03c07563fae"
      },
      "source": [
        "tobacco_clas = DataBlock(\n",
        "    blocks=(TextBlock.from_df('text', seq_len=72), CategoryBlock),\n",
        "            get_x=get_features, \n",
        "            get_y=get_labels)\n",
        "\n",
        "dls = tobacco_clas.dataloaders(df_train, bs=64)\n",
        "dls.show_batch(max_n=2)"
      ],
      "execution_count": 12,
      "outputs": [
        {
          "output_type": "display_data",
          "data": {
            "text/html": [
              ""
            ],
            "text/plain": [
              "<IPython.core.display.HTML object>"
            ]
          },
          "metadata": {}
        },
        {
          "output_type": "stream",
          "name": "stderr",
          "text": [
            "/usr/local/lib/python3.7/dist-packages/numpy/core/_asarray.py:83: VisibleDeprecationWarning: Creating an ndarray from ragged nested sequences (which is a list-or-tuple of lists-or-tuples-or ndarrays with different lengths or shapes) is deprecated. If you meant to do this, you must specify 'dtype=object' when creating the ndarray\n",
            "  return array(a, dtype, copy=False, order=order)\n"
          ]
        },
        {
          "output_type": "display_data",
          "data": {
            "text/html": [
              "<table border=\"1\" class=\"dataframe\">\n",
              "  <thead>\n",
              "    <tr style=\"text-align: right;\">\n",
              "      <th></th>\n",
              "      <th>text</th>\n",
              "      <th>category</th>\n",
              "    </tr>\n",
              "  </thead>\n",
              "  <tbody>\n",
              "    <tr>\n",
              "      <th>0</th>\n",
              "      <td>xxbos xxup u ) ö tn t ; ( fi a « o ri o o u xxmaj lj o ü - ] ■ xxup vd ( ji rl xxunk &lt; u o p cj o i m i y 4j o ■ h f i xxmaj hl &lt; ; &lt; h o 4 &gt; si tu o m xxup xxunk , | &gt; xxunk fl tj * xxmaj xxunk o o n fi xxup xxunk ri tj o fl to ö » * * o to * fi « 1 &lt; l &gt; -h &gt; « 3 e &gt; p xxunk rh ft 4j xxmaj fh m | &gt; o / ■ &gt; 0 xxunk rj 0 &lt; 9 , ri xxup hj &lt; i &gt; o xxup cd &lt; il it . 5 xxunk xxup cj xxmaj pi fh j • tn d xxmaj vi * ■ .</td>\n",
              "      <td>NextPage</td>\n",
              "    </tr>\n",
              "    <tr>\n",
              "      <th>1</th>\n",
              "      <td>xxbos xxunk xxmaj federal xxmaj register / xxmaj vol . 45 . xxmaj no . 7 l xxmaj xxunk . xxmaj xxunk 10 , xxunk / xxmaj xxunk xxmaj tb 1 ml xxunk 1 xxmaj xxunk xxunk - xxunk xxup xxunk ) , « ! ( xxunk xxmaj xxunk » sf xxmaj xxunk xxunk xxmaj xxunk l c ta xxmaj xxunk # tm xxup mh « far .. . ti 10 xxmaj xxunk xxunk » - « or … … .. ■ . xxrep 3 - * * \" 3 w * . » xxunk . 1 0 « xxmaj xxunk . xxrep 4 - - xxmaj xxunk xxunk xxmaj mt * … … .. » 0 « xxunk … xxunk : f 01 ■ mt xxmaj xxunk i 04 xxunk - - xxmaj xxunk xxmaj al ! » * 5 04 xxunk xxup ta » xxunk xxrep 3 -</td>\n",
              "      <td>NextPage</td>\n",
              "    </tr>\n",
              "  </tbody>\n",
              "</table>"
            ],
            "text/plain": [
              "<IPython.core.display.HTML object>"
            ]
          },
          "metadata": {}
        }
      ]
    },
    {
      "cell_type": "markdown",
      "metadata": {
        "id": "MClnyCFIRQsS"
      },
      "source": [
        "## Classification Model"
      ]
    },
    {
      "cell_type": "code",
      "metadata": {
        "id": "RLDNSEnSXZLf"
      },
      "source": [
        "from fastai.text.all import *"
      ],
      "execution_count": 13,
      "outputs": []
    },
    {
      "cell_type": "code",
      "metadata": {
        "id": "yFi9cVezirz9",
        "colab": {
          "base_uri": "https://localhost:8080/",
          "height": 37
        },
        "outputId": "5d4a35ea-1950-4ffe-e57d-88a79db9b818"
      },
      "source": [
        "learn = text_classifier_learner(dls, AWD_LSTM, drop_mult=0.5,metrics=[error_rate, accuracy, Perplexity()]).to_fp16()"
      ],
      "execution_count": 14,
      "outputs": [
        {
          "output_type": "display_data",
          "data": {
            "text/html": [
              "\n",
              "    <div>\n",
              "        <style>\n",
              "            /* Turns off some styling */\n",
              "            progress {\n",
              "                /* gets rid of default border in Firefox and Opera. */\n",
              "                border: none;\n",
              "                /* Needs to be in here for Safari polyfill so background images work as expected. */\n",
              "                background-size: auto;\n",
              "            }\n",
              "            .progress-bar-interrupted, .progress-bar-interrupted::-webkit-progress-bar {\n",
              "                background: #F44336;\n",
              "            }\n",
              "        </style>\n",
              "      <progress value='105070592' class='' max='105067061' style='width:300px; height:20px; vertical-align: middle;'></progress>\n",
              "      100.00% [105070592/105067061 00:08<00:00]\n",
              "    </div>\n",
              "    "
            ],
            "text/plain": [
              "<IPython.core.display.HTML object>"
            ]
          },
          "metadata": {}
        }
      ]
    },
    {
      "cell_type": "code",
      "metadata": {
        "id": "Zo2DlMlnirz-",
        "colab": {
          "base_uri": "https://localhost:8080/",
          "height": 239
        },
        "outputId": "8966aa6a-5051-450a-dcbf-080b9052178b"
      },
      "source": [
        "learn.fine_tune(4, 1e-2)"
      ],
      "execution_count": 15,
      "outputs": [
        {
          "output_type": "display_data",
          "data": {
            "text/html": [
              "<table border=\"1\" class=\"dataframe\">\n",
              "  <thead>\n",
              "    <tr style=\"text-align: left;\">\n",
              "      <th>epoch</th>\n",
              "      <th>train_loss</th>\n",
              "      <th>valid_loss</th>\n",
              "      <th>error_rate</th>\n",
              "      <th>accuracy</th>\n",
              "      <th>perplexity</th>\n",
              "      <th>time</th>\n",
              "    </tr>\n",
              "  </thead>\n",
              "  <tbody>\n",
              "    <tr>\n",
              "      <td>0</td>\n",
              "      <td>0.723099</td>\n",
              "      <td>0.613903</td>\n",
              "      <td>0.334951</td>\n",
              "      <td>0.665049</td>\n",
              "      <td>1.847628</td>\n",
              "      <td>00:04</td>\n",
              "    </tr>\n",
              "  </tbody>\n",
              "</table>"
            ],
            "text/plain": [
              "<IPython.core.display.HTML object>"
            ]
          },
          "metadata": {}
        },
        {
          "output_type": "display_data",
          "data": {
            "text/html": [
              "<table border=\"1\" class=\"dataframe\">\n",
              "  <thead>\n",
              "    <tr style=\"text-align: left;\">\n",
              "      <th>epoch</th>\n",
              "      <th>train_loss</th>\n",
              "      <th>valid_loss</th>\n",
              "      <th>error_rate</th>\n",
              "      <th>accuracy</th>\n",
              "      <th>perplexity</th>\n",
              "      <th>time</th>\n",
              "    </tr>\n",
              "  </thead>\n",
              "  <tbody>\n",
              "    <tr>\n",
              "      <td>0</td>\n",
              "      <td>0.539105</td>\n",
              "      <td>0.452773</td>\n",
              "      <td>0.213592</td>\n",
              "      <td>0.786408</td>\n",
              "      <td>1.572666</td>\n",
              "      <td>00:07</td>\n",
              "    </tr>\n",
              "    <tr>\n",
              "      <td>1</td>\n",
              "      <td>0.479857</td>\n",
              "      <td>0.362132</td>\n",
              "      <td>0.160194</td>\n",
              "      <td>0.839806</td>\n",
              "      <td>1.436388</td>\n",
              "      <td>00:07</td>\n",
              "    </tr>\n",
              "    <tr>\n",
              "      <td>2</td>\n",
              "      <td>0.422178</td>\n",
              "      <td>0.309559</td>\n",
              "      <td>0.106796</td>\n",
              "      <td>0.893204</td>\n",
              "      <td>1.362824</td>\n",
              "      <td>00:07</td>\n",
              "    </tr>\n",
              "    <tr>\n",
              "      <td>3</td>\n",
              "      <td>0.367210</td>\n",
              "      <td>0.282122</td>\n",
              "      <td>0.092233</td>\n",
              "      <td>0.907767</td>\n",
              "      <td>1.325940</td>\n",
              "      <td>00:07</td>\n",
              "    </tr>\n",
              "  </tbody>\n",
              "</table>"
            ],
            "text/plain": [
              "<IPython.core.display.HTML object>"
            ]
          },
          "metadata": {}
        }
      ]
    },
    {
      "cell_type": "code",
      "metadata": {
        "id": "AnxroDcpirz-",
        "colab": {
          "base_uri": "https://localhost:8080/",
          "height": 427
        },
        "outputId": "1a409618-bdbc-403d-ae1c-cdf2a0f0d7c5"
      },
      "source": [
        "learn.fine_tune(10, 1e-2)"
      ],
      "execution_count": 16,
      "outputs": [
        {
          "output_type": "display_data",
          "data": {
            "text/html": [
              "<table border=\"1\" class=\"dataframe\">\n",
              "  <thead>\n",
              "    <tr style=\"text-align: left;\">\n",
              "      <th>epoch</th>\n",
              "      <th>train_loss</th>\n",
              "      <th>valid_loss</th>\n",
              "      <th>error_rate</th>\n",
              "      <th>accuracy</th>\n",
              "      <th>perplexity</th>\n",
              "      <th>time</th>\n",
              "    </tr>\n",
              "  </thead>\n",
              "  <tbody>\n",
              "    <tr>\n",
              "      <td>0</td>\n",
              "      <td>0.249913</td>\n",
              "      <td>0.280177</td>\n",
              "      <td>0.092233</td>\n",
              "      <td>0.907767</td>\n",
              "      <td>1.323364</td>\n",
              "      <td>00:03</td>\n",
              "    </tr>\n",
              "  </tbody>\n",
              "</table>"
            ],
            "text/plain": [
              "<IPython.core.display.HTML object>"
            ]
          },
          "metadata": {}
        },
        {
          "output_type": "display_data",
          "data": {
            "text/html": [
              "<table border=\"1\" class=\"dataframe\">\n",
              "  <thead>\n",
              "    <tr style=\"text-align: left;\">\n",
              "      <th>epoch</th>\n",
              "      <th>train_loss</th>\n",
              "      <th>valid_loss</th>\n",
              "      <th>error_rate</th>\n",
              "      <th>accuracy</th>\n",
              "      <th>perplexity</th>\n",
              "      <th>time</th>\n",
              "    </tr>\n",
              "  </thead>\n",
              "  <tbody>\n",
              "    <tr>\n",
              "      <td>0</td>\n",
              "      <td>0.231828</td>\n",
              "      <td>0.329774</td>\n",
              "      <td>0.106796</td>\n",
              "      <td>0.893204</td>\n",
              "      <td>1.390654</td>\n",
              "      <td>00:07</td>\n",
              "    </tr>\n",
              "    <tr>\n",
              "      <td>1</td>\n",
              "      <td>0.243157</td>\n",
              "      <td>0.299737</td>\n",
              "      <td>0.087379</td>\n",
              "      <td>0.912621</td>\n",
              "      <td>1.349504</td>\n",
              "      <td>00:07</td>\n",
              "    </tr>\n",
              "    <tr>\n",
              "      <td>2</td>\n",
              "      <td>0.229297</td>\n",
              "      <td>0.354965</td>\n",
              "      <td>0.101942</td>\n",
              "      <td>0.898058</td>\n",
              "      <td>1.426131</td>\n",
              "      <td>00:07</td>\n",
              "    </tr>\n",
              "    <tr>\n",
              "      <td>3</td>\n",
              "      <td>0.238149</td>\n",
              "      <td>0.374746</td>\n",
              "      <td>0.126214</td>\n",
              "      <td>0.873786</td>\n",
              "      <td>1.454622</td>\n",
              "      <td>00:07</td>\n",
              "    </tr>\n",
              "    <tr>\n",
              "      <td>4</td>\n",
              "      <td>0.223446</td>\n",
              "      <td>0.363652</td>\n",
              "      <td>0.131068</td>\n",
              "      <td>0.868932</td>\n",
              "      <td>1.438574</td>\n",
              "      <td>00:07</td>\n",
              "    </tr>\n",
              "    <tr>\n",
              "      <td>5</td>\n",
              "      <td>0.206856</td>\n",
              "      <td>0.450040</td>\n",
              "      <td>0.135922</td>\n",
              "      <td>0.864078</td>\n",
              "      <td>1.568375</td>\n",
              "      <td>00:07</td>\n",
              "    </tr>\n",
              "    <tr>\n",
              "      <td>6</td>\n",
              "      <td>0.181786</td>\n",
              "      <td>0.376431</td>\n",
              "      <td>0.101942</td>\n",
              "      <td>0.898058</td>\n",
              "      <td>1.457075</td>\n",
              "      <td>00:07</td>\n",
              "    </tr>\n",
              "    <tr>\n",
              "      <td>7</td>\n",
              "      <td>0.160518</td>\n",
              "      <td>0.379261</td>\n",
              "      <td>0.092233</td>\n",
              "      <td>0.907767</td>\n",
              "      <td>1.461204</td>\n",
              "      <td>00:07</td>\n",
              "    </tr>\n",
              "    <tr>\n",
              "      <td>8</td>\n",
              "      <td>0.142129</td>\n",
              "      <td>0.376900</td>\n",
              "      <td>0.097087</td>\n",
              "      <td>0.902913</td>\n",
              "      <td>1.457759</td>\n",
              "      <td>00:07</td>\n",
              "    </tr>\n",
              "    <tr>\n",
              "      <td>9</td>\n",
              "      <td>0.127008</td>\n",
              "      <td>0.371812</td>\n",
              "      <td>0.087379</td>\n",
              "      <td>0.912621</td>\n",
              "      <td>1.450361</td>\n",
              "      <td>00:07</td>\n",
              "    </tr>\n",
              "  </tbody>\n",
              "</table>"
            ],
            "text/plain": [
              "<IPython.core.display.HTML object>"
            ]
          },
          "metadata": {}
        }
      ]
    },
    {
      "cell_type": "code",
      "metadata": {
        "id": "OuPTd5rbirz_",
        "colab": {
          "base_uri": "https://localhost:8080/",
          "height": 957
        },
        "outputId": "fced29a6-d1b3-46db-8997-51c64b1fa9d9"
      },
      "source": [
        "learn.show_results()"
      ],
      "execution_count": 17,
      "outputs": [
        {
          "output_type": "display_data",
          "data": {
            "text/html": [
              ""
            ],
            "text/plain": [
              "<IPython.core.display.HTML object>"
            ]
          },
          "metadata": {}
        },
        {
          "output_type": "display_data",
          "data": {
            "text/html": [
              "<table border=\"1\" class=\"dataframe\">\n",
              "  <thead>\n",
              "    <tr style=\"text-align: right;\">\n",
              "      <th></th>\n",
              "      <th>text</th>\n",
              "      <th>category</th>\n",
              "      <th>category_</th>\n",
              "    </tr>\n",
              "  </thead>\n",
              "  <tbody>\n",
              "    <tr>\n",
              "      <th>0</th>\n",
              "      <td>xxbos xxunk xxmaj federal xxmaj register i xxmaj vol . &lt; 5 . xxmaj no . 7 / xxmaj xxunk . xxmaj xxunk 10 , xxunk / xxmaj xxunk ( b ) xxmaj whether each » xxunk bat xxunk xxunk of xxunk group . 2 . xxmaj to xxunk xxunk xxunk to the • xxunk of xxup po ) to xxunk the needs of xxunk proposed xxunk area : ( a ) xxmaj whether the xxunk ! xxunk xxunk of agriculture and labor in xxunk - xxunk « . xxmaj xxunk ; ( b ] xxmaj whether the xxunk xxunk xxunk xxmaj problems xxunk of xxmaj ms xxmaj community of xxunk . j xxmaj to determine « xxunk xxmaj xxunk xxmaj xxunk - xxunk xxmaj is xxunk xxunk lo xxunk and xxmaj operate the proposed xxunk , 4- xxmaj to determine whether xxunk xxmaj broadcasting xxmaj inc . is financial</td>\n",
              "      <td>NextPage</td>\n",
              "      <td>NextPage</td>\n",
              "    </tr>\n",
              "    <tr>\n",
              "      <th>1</th>\n",
              "      <td>xxbos xxunk rightfax xxup xxunk xxup company : xxup martin lipton xxunk xxup m. xxup xxunk xxup xxunk ti - xxunk xxunk xxunk xxup w - xxunk xxmaj richard u , xxunk xxup douglas xxup s. t , xxunk xxup m. xxup xxunk xxup xxunk xxup j. xxup fortgang xxunk , ff xxup c. xxup xxunk xxup michael xxup w. xxunk xxup xxunk xxup a. xxup martin xxunk xxup a. xxunk xxup lawrence 0- xxup xxunk xxunk - f rt , xxunk xxup paul xxup xxunk . xxup jr . xxunk xxup c. xxup xxunk xxup harold xxup s. xxunk xxup david xxup m. xxup einhorn xxunk xxup c. xxup xxunk t xxunk ö. xxup kqplow xxup theodore xxup n &gt; xxup xxunk 's £ pw xxup aro □ . xxup xxunk xxup xxunk xxup o , xxup feintuch xxunk a. xxunk xxunk &gt; c xxup m. » xxunk xxunk</td>\n",
              "      <td>FirstPage</td>\n",
              "      <td>FirstPage</td>\n",
              "    </tr>\n",
              "    <tr>\n",
              "      <th>2</th>\n",
              "      <td>xxbos i xxunk xxunk xxup herbert xxup m. xxup wachtell xxup theodore xxup gewertz xxup bernard xxup w. xxup nussbaum xxup richard xxup o. xxup xxunk xxup douglas xxup s. xxup xxunk xxup steven xxup m * xxup bar xxup na xxup chaim xxup j * xxup fortgang xxup peter xxup c * xxup canellos xxup michael xxup w * xxunk xxup allan xxup a. xxup martin xxup barry xxup a. xxunk xxup lawrence xxup b- xxup xxunk xxup robert xxup b. xxup mazur xxup paul xxunk , xxmaj jfl . xxup peter xxup c. xxup hein xxup harold 5 . xxup xxunk xxup david xxup m * xxup einhorn xxup xxunk xxup b , xxup forrest xxup meyer xxup g. xxup koplow xxup theodore xxup n * xxup xxunk xxup edward xxup d * xxup xxunk xxup richard xxup d. xxunk xxup daniel xxup a. xxup neff xxup eric</td>\n",
              "      <td>FirstPage</td>\n",
              "      <td>FirstPage</td>\n",
              "    </tr>\n",
              "    <tr>\n",
              "      <th>3</th>\n",
              "      <td>xxbos 02 / 24 / 99 11:29 xxunk xxup lipton xxunk xxup xxunk xxup in xxup lipton xxup herbert xxup m. xxup wachte . xxup ll xxunk xxunk * xxup bernard w , xxup xxunk « xxup richard xxup d. xxup kat xxup cmc n xxup xxunk xxup e , xxunk xxup steven xxup m , « ar xxup na xxup xxunk xxup j. xxunk xxunk xxup c. canellos xxup michael w. xxup xxunk xxup allah xxup a- xxup martin » xxunk xxup a. xxunk » xxmaj lawrence b. xxunk xxup robert 8 , xxup xxunk » aul xxup xxunk xxup xxunk , xxup jr . xxup peter xxup c. xxup hein xxup xxunk xxup s. xxup xxunk xxup oaviq xxup m. xxup einhorn xxup xxunk * ■ xxup xxunk t xxunk xxup o * xxunk xxup xxunk » xxup n. xxup mi « vi 's xxup edward xxup d-</td>\n",
              "      <td>FirstPage</td>\n",
              "      <td>FirstPage</td>\n",
              "    </tr>\n",
              "    <tr>\n",
              "      <th>4</th>\n",
              "      <td>xxbos xxup wlrk rightfax xxmaj server 5 / 28 / 99 5:12 : xxup page xxunk / 6 xxmaj xxunk xxmaj wilson company : lorillard xxmaj tobacco xxmaj company rightfax xxup xxunk tl &gt; ton xxup m. xxup xxunk xxup xxunk xxunk xxunk w * xxunk xxunk xxup d. xxunk xxup xxunk 5 . xxup xxunk xxup steven xxup m * . xxup bar xxup na xxunk £ xxup fortgang xxup pe xxup ter xxup c , xxunk xxunk . w » xxunk xxmaj allah a « xxunk xxunk a ! xxunk xxunk ■ - xxunk xxunk # xxunk xxup hai xxunk xxup paul xxunk , xxup jr . xxup peter xxunk xxup xxunk xxunk david % xxup einhorn xxunk . xxunk xxunk xxunk xxup xxunk xxrep 3 o xxup xxunk xxup n. xxup xxunk xxup edward □ . xxunk xxmaj richard o- xxunk xxunk xxup a. xxup xxunk xxup</td>\n",
              "      <td>FirstPage</td>\n",
              "      <td>FirstPage</td>\n",
              "    </tr>\n",
              "    <tr>\n",
              "      <th>5</th>\n",
              "      <td>xxbos xxunk xxmaj sudol , xxmaj marius 129 - 68 - 8626 9 . xxup supporting xxup data , xxup research xxup plan . xxmaj do not attach more than six additional pages ( xxunk ) . xxmaj please note that this page limit includes xxup figures and xxup references . xxup background xxmaj the first identification of transforming genes came from studies of xxup rna tumor viruses ( 1,2 ) . xxmaj these viral genes , called oncogenes ( v - onc ) , were later shown to be xxunk xxunk of normal cellular genes , called proto - oncogenes ( c - onc ) ( xxunk ) . xxmaj the common xxunk of all oncogenes is their ability to induce transformation of normal cells . xxmaj in contrast , no common functional xxunk has been found for the proto - oncogenes identified to date , but it is</td>\n",
              "      <td>NextPage</td>\n",
              "      <td>NextPage</td>\n",
              "    </tr>\n",
              "    <tr>\n",
              "      <th>6</th>\n",
              "      <td>xxbos xxup the xxup american xxup tobacco xxup company xxup closed xxup capital xxup xxunk xxup report xxup as xxup of xxup september 30 , 1990 xxup year - xxunk xxup capital xxunk ; . xxup xxunk e . xxup car . xxup job xxup xxunk xxup auth xxup prior xxup urren xxup du xxup xxunk : xxunk ; urren : quarter xxup location xxup job xxunk : : : xxunk : xxunk xxunk : mönth : ; to date total : xxunk xxup xxunk : ; xxup to xxup date • xxup total xxup balance xxunk xxup xxunk xxup xxunk xxunk xxup monitor 1520 320 313 313 a 0 7 02 / 90 6 xxup admin xxup ctr xxup purchase xxup printer xxunk xxunk xxunk 35 545 0 0 ( 56 ) 05 / 90 5 xxup reidsville xxup xxunk xxup xxunk 8 xxrep 3 0 xxup process xxup</td>\n",
              "      <td>NextPage</td>\n",
              "      <td>NextPage</td>\n",
              "    </tr>\n",
              "    <tr>\n",
              "      <th>7</th>\n",
              "      <td>xxbos xxup the xxup american xxup tobacco xxup company xxup closed xxup xxunk xxup projects xxup report xxup as xxup of xxup september 30,1990 xxup year - to - date xxup capital xxup expense : xxunk xxup xxunk xxup job ' xxup xxunk \" xxup auth xxup prior xxup urren xxup quarter xxup prior : | ; xxup xxunk xxup quarter • : ^ : xxunk xxup location xxup job xxup xxunk : # ■ # ■ ■ xxup capital xxup xxunk xxup period xxup month xxup to xxup date xxup total xxup period xxup mönth xxup to xxup date xxup total xxup balance : xxup date xxup scope xxup reidsville xxunk xxup xxunk xxup unit xxunk 625 xxunk xxup xxunk 0 0 xxunk 09 / 90 5 xxup r&amp;qa xxup balance xxup mettler xxup top - xxunk 1559 2 , xxrep 3 0 2 , xxrep 3 0 2</td>\n",
              "      <td>NextPage</td>\n",
              "      <td>NextPage</td>\n",
              "    </tr>\n",
              "    <tr>\n",
              "      <th>8</th>\n",
              "      <td>xxbos xxup the xxup american xxup tobacco xxup company xxup closed xxup capital xxup projects xxup report xxup a3 xxup of xxup september 30 , 1990 xxup year - to - oate xxup capital xxunk xxup mech xxup job xxup auth xxup auth xxup prior xxup urren xxup quarter xxup prior . xxunk xxup quarter • ; : xxunk xxup location xxmaj xxunk : xxup xxunk xxup xxunk ? # xxup capital xxup exfense xxup period month xxup to date total ; periöd month ; tö xxunk : xxup total xxup balance xxup date xxup hanmer xxup wh xxup xxunk xxup xxunk &amp; xxup xxunk xxup et xxunk xxunk xxunk xxunk 0 0 xxunk 51 / 90 xxup reidsville xxup ventilation xxup pressure xxup drop xxup inst xxunk xxunk xxunk xxunk 0 0 xxunk 03 / 90 xxup reidsville 2 xxunk &amp; 2 xxup xxunk xxup xxunk xxunk xxunk xxunk</td>\n",
              "      <td>NextPage</td>\n",
              "      <td>FirstPage</td>\n",
              "    </tr>\n",
              "  </tbody>\n",
              "</table>"
            ],
            "text/plain": [
              "<IPython.core.display.HTML object>"
            ]
          },
          "metadata": {}
        }
      ]
    },
    {
      "cell_type": "code",
      "metadata": {
        "id": "Rw8c5QKzir0E",
        "colab": {
          "base_uri": "https://localhost:8080/"
        },
        "outputId": "7934aca2-3711-4f64-c6e1-ad22ae1a9def"
      },
      "source": [
        "learn.save('text_classification')"
      ],
      "execution_count": 18,
      "outputs": [
        {
          "output_type": "execute_result",
          "data": {
            "text/plain": [
              "Path('models/text_classification.pth')"
            ]
          },
          "metadata": {},
          "execution_count": 18
        }
      ]
    },
    {
      "cell_type": "code",
      "metadata": {
        "id": "ITlc1bIjir0E"
      },
      "source": [
        "# load model\n",
        "learn = learn.load('text_classification')"
      ],
      "execution_count": 19,
      "outputs": []
    },
    {
      "cell_type": "code",
      "metadata": {
        "id": "jtMn6zPzDua6",
        "colab": {
          "base_uri": "https://localhost:8080/",
          "height": 363
        },
        "outputId": "79552a19-8566-477c-b740-219b5e88edc6"
      },
      "source": [
        "learn.unfreeze()\n",
        "learn.fit_one_cycle(10, 1e-2)"
      ],
      "execution_count": 20,
      "outputs": [
        {
          "output_type": "display_data",
          "data": {
            "text/html": [
              "<table border=\"1\" class=\"dataframe\">\n",
              "  <thead>\n",
              "    <tr style=\"text-align: left;\">\n",
              "      <th>epoch</th>\n",
              "      <th>train_loss</th>\n",
              "      <th>valid_loss</th>\n",
              "      <th>error_rate</th>\n",
              "      <th>accuracy</th>\n",
              "      <th>perplexity</th>\n",
              "      <th>time</th>\n",
              "    </tr>\n",
              "  </thead>\n",
              "  <tbody>\n",
              "    <tr>\n",
              "      <td>0</td>\n",
              "      <td>0.137159</td>\n",
              "      <td>0.962178</td>\n",
              "      <td>0.194175</td>\n",
              "      <td>0.805825</td>\n",
              "      <td>2.617390</td>\n",
              "      <td>00:07</td>\n",
              "    </tr>\n",
              "    <tr>\n",
              "      <td>1</td>\n",
              "      <td>0.393026</td>\n",
              "      <td>3.592500</td>\n",
              "      <td>0.577670</td>\n",
              "      <td>0.422330</td>\n",
              "      <td>36.324783</td>\n",
              "      <td>00:07</td>\n",
              "    </tr>\n",
              "    <tr>\n",
              "      <td>2</td>\n",
              "      <td>0.421683</td>\n",
              "      <td>4.578479</td>\n",
              "      <td>0.577670</td>\n",
              "      <td>0.422330</td>\n",
              "      <td>97.366219</td>\n",
              "      <td>00:07</td>\n",
              "    </tr>\n",
              "    <tr>\n",
              "      <td>3</td>\n",
              "      <td>0.440784</td>\n",
              "      <td>0.518535</td>\n",
              "      <td>0.203883</td>\n",
              "      <td>0.796117</td>\n",
              "      <td>1.679566</td>\n",
              "      <td>00:07</td>\n",
              "    </tr>\n",
              "    <tr>\n",
              "      <td>4</td>\n",
              "      <td>0.420451</td>\n",
              "      <td>0.523034</td>\n",
              "      <td>0.208738</td>\n",
              "      <td>0.791262</td>\n",
              "      <td>1.687139</td>\n",
              "      <td>00:07</td>\n",
              "    </tr>\n",
              "    <tr>\n",
              "      <td>5</td>\n",
              "      <td>0.381705</td>\n",
              "      <td>0.270029</td>\n",
              "      <td>0.092233</td>\n",
              "      <td>0.907767</td>\n",
              "      <td>1.310002</td>\n",
              "      <td>00:07</td>\n",
              "    </tr>\n",
              "    <tr>\n",
              "      <td>6</td>\n",
              "      <td>0.332552</td>\n",
              "      <td>0.251605</td>\n",
              "      <td>0.082524</td>\n",
              "      <td>0.917476</td>\n",
              "      <td>1.286088</td>\n",
              "      <td>00:07</td>\n",
              "    </tr>\n",
              "    <tr>\n",
              "      <td>7</td>\n",
              "      <td>0.282052</td>\n",
              "      <td>0.279588</td>\n",
              "      <td>0.121359</td>\n",
              "      <td>0.878641</td>\n",
              "      <td>1.322585</td>\n",
              "      <td>00:07</td>\n",
              "    </tr>\n",
              "    <tr>\n",
              "      <td>8</td>\n",
              "      <td>0.233598</td>\n",
              "      <td>0.355365</td>\n",
              "      <td>0.126214</td>\n",
              "      <td>0.873786</td>\n",
              "      <td>1.426702</td>\n",
              "      <td>00:07</td>\n",
              "    </tr>\n",
              "    <tr>\n",
              "      <td>9</td>\n",
              "      <td>0.193962</td>\n",
              "      <td>0.297523</td>\n",
              "      <td>0.101942</td>\n",
              "      <td>0.898058</td>\n",
              "      <td>1.346519</td>\n",
              "      <td>00:07</td>\n",
              "    </tr>\n",
              "  </tbody>\n",
              "</table>"
            ],
            "text/plain": [
              "<IPython.core.display.HTML object>"
            ]
          },
          "metadata": {}
        }
      ]
    },
    {
      "cell_type": "code",
      "metadata": {
        "id": "uke_9kj5Ef-j",
        "colab": {
          "base_uri": "https://localhost:8080/",
          "height": 306
        },
        "outputId": "067a2f2f-91d6-4895-ab97-addf6d92dbbb"
      },
      "source": [
        "learn.unfreeze()\n",
        "learn.lr_find()"
      ],
      "execution_count": 21,
      "outputs": [
        {
          "output_type": "display_data",
          "data": {
            "text/html": [
              ""
            ],
            "text/plain": [
              "<IPython.core.display.HTML object>"
            ]
          },
          "metadata": {}
        },
        {
          "output_type": "execute_result",
          "data": {
            "text/plain": [
              "SuggestedLRs(valley=4.365158383734524e-05)"
            ]
          },
          "metadata": {},
          "execution_count": 21
        },
        {
          "output_type": "display_data",
          "data": {
            "image/png": "[encoded data removed]",
            "text/plain": [
              "<Figure size 432x288 with 1 Axes>"
            ]
          },
          "metadata": {
            "needs_background": "light"
          }
        }
      ]
    },
    {
      "cell_type": "code",
      "metadata": {
        "id": "BKcBxTsjOCVH"
      },
      "source": [
        "learn_lm = text_classifier_learner(dls, AWD_LSTM, drop_mult=0.5,metrics=[error_rate, accuracy, Perplexity()]).to_fp16()"
      ],
      "execution_count": 23,
      "outputs": []
    },
    {
      "cell_type": "code",
      "metadata": {
        "id": "bXw6ULBgOTB_",
        "colab": {
          "base_uri": "https://localhost:8080/",
          "height": 427
        },
        "outputId": "2ee08e22-c593-4c69-ec84-7551a437451c"
      },
      "source": [
        "learn_lm.fine_tune(10, 1e-2)"
      ],
      "execution_count": 24,
      "outputs": [
        {
          "output_type": "display_data",
          "data": {
            "text/html": [
              "<table border=\"1\" class=\"dataframe\">\n",
              "  <thead>\n",
              "    <tr style=\"text-align: left;\">\n",
              "      <th>epoch</th>\n",
              "      <th>train_loss</th>\n",
              "      <th>valid_loss</th>\n",
              "      <th>error_rate</th>\n",
              "      <th>accuracy</th>\n",
              "      <th>perplexity</th>\n",
              "      <th>time</th>\n",
              "    </tr>\n",
              "  </thead>\n",
              "  <tbody>\n",
              "    <tr>\n",
              "      <td>0</td>\n",
              "      <td>0.668345</td>\n",
              "      <td>0.610115</td>\n",
              "      <td>0.310680</td>\n",
              "      <td>0.689320</td>\n",
              "      <td>1.840642</td>\n",
              "      <td>00:03</td>\n",
              "    </tr>\n",
              "  </tbody>\n",
              "</table>"
            ],
            "text/plain": [
              "<IPython.core.display.HTML object>"
            ]
          },
          "metadata": {}
        },
        {
          "output_type": "display_data",
          "data": {
            "text/html": [
              "<table border=\"1\" class=\"dataframe\">\n",
              "  <thead>\n",
              "    <tr style=\"text-align: left;\">\n",
              "      <th>epoch</th>\n",
              "      <th>train_loss</th>\n",
              "      <th>valid_loss</th>\n",
              "      <th>error_rate</th>\n",
              "      <th>accuracy</th>\n",
              "      <th>perplexity</th>\n",
              "      <th>time</th>\n",
              "    </tr>\n",
              "  </thead>\n",
              "  <tbody>\n",
              "    <tr>\n",
              "      <td>0</td>\n",
              "      <td>0.498244</td>\n",
              "      <td>0.480989</td>\n",
              "      <td>0.237864</td>\n",
              "      <td>0.762136</td>\n",
              "      <td>1.617673</td>\n",
              "      <td>00:07</td>\n",
              "    </tr>\n",
              "    <tr>\n",
              "      <td>1</td>\n",
              "      <td>0.459076</td>\n",
              "      <td>0.384980</td>\n",
              "      <td>0.150485</td>\n",
              "      <td>0.849515</td>\n",
              "      <td>1.469586</td>\n",
              "      <td>00:07</td>\n",
              "    </tr>\n",
              "    <tr>\n",
              "      <td>2</td>\n",
              "      <td>0.439477</td>\n",
              "      <td>0.294448</td>\n",
              "      <td>0.097087</td>\n",
              "      <td>0.902913</td>\n",
              "      <td>1.342385</td>\n",
              "      <td>00:07</td>\n",
              "    </tr>\n",
              "    <tr>\n",
              "      <td>3</td>\n",
              "      <td>0.399046</td>\n",
              "      <td>0.314989</td>\n",
              "      <td>0.106796</td>\n",
              "      <td>0.893204</td>\n",
              "      <td>1.370244</td>\n",
              "      <td>00:07</td>\n",
              "    </tr>\n",
              "    <tr>\n",
              "      <td>4</td>\n",
              "      <td>0.360197</td>\n",
              "      <td>0.314229</td>\n",
              "      <td>0.101942</td>\n",
              "      <td>0.898058</td>\n",
              "      <td>1.369204</td>\n",
              "      <td>00:07</td>\n",
              "    </tr>\n",
              "    <tr>\n",
              "      <td>5</td>\n",
              "      <td>0.317154</td>\n",
              "      <td>0.304595</td>\n",
              "      <td>0.131068</td>\n",
              "      <td>0.868932</td>\n",
              "      <td>1.356076</td>\n",
              "      <td>00:07</td>\n",
              "    </tr>\n",
              "    <tr>\n",
              "      <td>6</td>\n",
              "      <td>0.283195</td>\n",
              "      <td>0.235173</td>\n",
              "      <td>0.067961</td>\n",
              "      <td>0.932039</td>\n",
              "      <td>1.265128</td>\n",
              "      <td>00:07</td>\n",
              "    </tr>\n",
              "    <tr>\n",
              "      <td>7</td>\n",
              "      <td>0.244936</td>\n",
              "      <td>0.303340</td>\n",
              "      <td>0.111650</td>\n",
              "      <td>0.888350</td>\n",
              "      <td>1.354375</td>\n",
              "      <td>00:07</td>\n",
              "    </tr>\n",
              "    <tr>\n",
              "      <td>8</td>\n",
              "      <td>0.215768</td>\n",
              "      <td>0.286909</td>\n",
              "      <td>0.097087</td>\n",
              "      <td>0.902913</td>\n",
              "      <td>1.332303</td>\n",
              "      <td>00:07</td>\n",
              "    </tr>\n",
              "    <tr>\n",
              "      <td>9</td>\n",
              "      <td>0.193435</td>\n",
              "      <td>0.283553</td>\n",
              "      <td>0.101942</td>\n",
              "      <td>0.898058</td>\n",
              "      <td>1.327839</td>\n",
              "      <td>00:07</td>\n",
              "    </tr>\n",
              "  </tbody>\n",
              "</table>"
            ],
            "text/plain": [
              "<IPython.core.display.HTML object>"
            ]
          },
          "metadata": {}
        }
      ]
    },
    {
      "cell_type": "code",
      "metadata": {
        "id": "PDKUp3_xOeF9"
      },
      "source": [
        "df_val = pd.concat([df_train, df_test])"
      ],
      "execution_count": 25,
      "outputs": []
    },
    {
      "cell_type": "code",
      "metadata": {
        "id": "OHx_4h_GO0_6",
        "colab": {
          "base_uri": "https://localhost:8080/",
          "height": 1000
        },
        "outputId": "38c95591-52d8-4b4a-8009-3365c406c309"
      },
      "source": [
        "df_val"
      ],
      "execution_count": 26,
      "outputs": [
        {
          "output_type": "execute_result",
          "data": {
            "text/html": [
              "<div>\n",
              "<style scoped>\n",
              "    .dataframe tbody tr th:only-of-type {\n",
              "        vertical-align: middle;\n",
              "    }\n",
              "\n",
              "    .dataframe tbody tr th {\n",
              "        vertical-align: top;\n",
              "    }\n",
              "\n",
              "    .dataframe thead th {\n",
              "        text-align: right;\n",
              "    }\n",
              "</style>\n",
              "<table border=\"1\" class=\"dataframe\">\n",
              "  <thead>\n",
              "    <tr style=\"text-align: right;\">\n",
              "      <th></th>\n",
              "      <th>class</th>\n",
              "      <th>text</th>\n",
              "      <th>text_tags</th>\n",
              "      <th>binder</th>\n",
              "      <th>docid</th>\n",
              "    </tr>\n",
              "  </thead>\n",
              "  <tbody>\n",
              "    <tr>\n",
              "      <th>0</th>\n",
              "      <td>FirstPage</td>\n",
              "      <td>Dr. M.A. Manzelli, PHILIP MORRIS INC., Research Center, P.O. Box 3 D Richmond, Va. 23206 U.S.A. Dear Art, Please find enclosed a proposed program for your visit in Europe. As you will see, this program contains two major points:  a)    A two-days meeting in Neuchätel with all people in Europe involved in infestation control (proposed program included).  b)    Visit of all PM Europe production centers with the purpose of:        - training people in Charge of the insect indenti-fication        - inspection of the sanitary conditions One of our main problems is the insect Identification and ...</td>\n",
              "      <td>['\\n', 'xxQ00_01 xxbob  \\n', 'xxeob xxQ00_02\\n', '\\n', 'xxQ00_01 xxbob PHILIP MORRIS\\n', 'xxeob xxQ00_02\\n', '\\n', 'xxQ00_01 xxbob EUROPE MIDDLE EAST AFRICA\\n', 'xxeob xxQ00_02\\n', '\\n', 'xxQ00_01 xxbob RESEARCH AND DEVELOPMENT\\n', 'xxeob xxQ01_02\\n', '\\n', 'xxQ01_02 xxbob Neuchatel, duly 14, 1977\\n', 'xxeob xxQ01_03\\n', '\\n', 'xxQ01_01 xxbob Dr. M.A. Manzelli,\\n', 'PHILIP MORRIS INC.,\\n', 'Research Center,\\n', 'P.O. Box 3 D\\n', 'Richmond, Va. 23206\\n', 'U.S.A. .\\n', 'xxeob xxQ02_01\\n', '\\n', 'xxQ02_01 xxbob Dear Art,\\n', 'xxeob xxQ02_01\\n', '\\n', 'xxQ03_01 xxbob xxbcet Please proposed pro...</td>\n",
              "      <td>NaN</td>\n",
              "      <td>NaN</td>\n",
              "    </tr>\n",
              "    <tr>\n",
              "      <th>1</th>\n",
              "      <td>NextPage</td>\n",
              "      <td>- 2 - Please let me krow if you have any changes for the proposed program. Looking forward to seeing you again, cc:    Messrs.  B.  Kuhn                 E. Stoop Encl.: mentioned 1000035625</td>\n",
              "      <td>['\\n', 'xxQ00_00 xxbob Please let krow if you have any changes for the proposed\\n', 'me\\n', 'program.\\n', 'xxeob xxQ01_03\\n', '\\n', 'xxQ01_00 xxbob Looking forward to seeing you again,\\n', 'xxeob xxQ01_02\\n', '\\n', 'xxQ01_02 xxbob Yours very truly,\\n', '_.\\n', 'xxeob xxQ01_03\\n', '\\n', 'xxQ01_02 xxbob xxbcet    \\n', 'xxecet\\n', 'xxeob xxQ02_03\\n', '\\n', 'xxQ02_02 xxbob .B. Boder\\n', 'xxeob xxQ02_03\\n', '\\n', 'xxQ02_00 xxbob cc: Messrs. B. Kuhn\\n', 'xxbcet E. Stoop\\n', 'xxecet\\n', 'xxeob xxQ02_01\\n', '\\n', 'xxQ02_00 xxbob Encl.: mentioned\\n', 'xxeob xxQ03_01\\n', '\\n', 'xxQ04_01 xxbob we\\n',...</td>\n",
              "      <td>NaN</td>\n",
              "      <td>NaN</td>\n",
              "    </tr>\n",
              "    <tr>\n",
              "      <th>2</th>\n",
              "      <td>FirstPage</td>\n",
              "      <td>I NOIJ-04-97    13 = 25 FROM = I D : PAGE 10/17 Wachtell, Lipton, Rosen &amp; Katz MARTIN L1PTON HERBERT M. WaCHYCLL THEODORE GEWSRTZ »ERNA*» W, NUSSBAUM RICHARD O- HATCHER DOUGLAS Sr LieBKAfSKV STEVEN M. SAR NA CMARt.CS T. MEPCRR'GK CHAIN J. FOPTCANG pBTRR C. 1AMCLLDS MICHAEL w. SCHWÄRT* Al.LAR A- MARTIN BARRV A. BRrCR IAWREHCE □. PEDQrWITZ ROBERT 0. MAZUR PAUL VIZGARRÖMSCK JR. PCTCR G- HCIM hAROlD s. «OViKOFF DAVID M. EINHORN KENNET« B. FQRREST METER C. KOPLOW THEODORE M- MIRVIS EDWARD D. MERL1HT RICHARD D. FEINTUCH DANIEL A. NEPP ERIC M. ROTR WAHREN R. STERN ANDREW R. BROWN ST EIN MICHAEL H...</td>\n",
              "      <td>['\\n', 'xxQ00_00 xxbob NOU-04-87 15:26 FROM:\\n', 'e\\n', 'xxeob xxQ00_01\\n', '\\n', 'xxQ00_00 xxbob MARTIN LIPTON\\n', 'MERBERY ot waAcHTELL\\n', 'TNROPORE GGWERTZ\\n', 'BEAWARD W. NUSSRAUM\\n', 'RIGMARD D. KATOKER\\n', 'COUCLAT Fr MERHAPEKY\\n', 'STEVEN M. GARNA\\n', 'CMARLES T. MEDERRICK\\n', 'SAIN y. FORTEANG\\n', 'PeveR &amp;. CANCLLOS\\n', 'HIGMASR We SCRWARTE\\n', 'ALLAN A. MARTIN\\n', 'BARRY 4. BRYER\\n', 'LAWRENCE 5. PEDOWITZ\\n', 'ROBERT ©. haZUR\\n', 'PAUL VIZGARRONDG, J.\\n', 'PRIGR G. MEIN\\n', 'MARGLD &amp; HOVIKOFF\\n', 'DAVID H. EERHORK\\n', 'KENNETH B. PORREST\\n', 'KEYER ¢. KOPLOW\\n', 'THEODORE N. MIRV...</td>\n",
              "      <td>NaN</td>\n",
              "      <td>NaN</td>\n",
              "    </tr>\n",
              "    <tr>\n",
              "      <th>3</th>\n",
              "      <td>FirstPage</td>\n",
              "      <td>i PHILIP .MORRIS         INCORPORATED 120 PARK AVENUE, N EW YORK. N. Y. 10017 John T.-Landhy SENIOR VICC PRESIDENT                                                         _ ,                    r     . n n - . oirector of Marketing                                                         February 15, 19 83 Dear Ms. Ober: Your letter of February 3 was received by this Office yesterday. We attempted to reach you by telephone iinmediately but were unable to find a listed number in New Haven. I had hoped to arrange an appointment for one of our executives to discuss with you and your concerned ...</td>\n",
              "      <td>['\\n', 'xxQ00_00 xxbob ee\\n', 'xxeob xxQ00_00\\n', '\\n', 'xxQ00_01 xxbob PHILIP MORRIS\\n', 'xxeob xxQ00_02\\n', '\\n', 'xxQ00_01 xxbob INCORPORATED\\n', '120 PARK AVENUE, NEW YORK.N. ¥. 10017\\n', 'xxeob xxQ00_02\\n', '\\n', 'xxQ00_00 xxbob Joun T.-Lanpry\\n', 'xxbcet ee or ne February 15, 1983~\\n', 'xxecet\\n', 'xxeob xxQ01_03\\n', '\\n', 'xxQ01_00 xxbob DIRECTOR OF MARKETING\\n', 'xxeob xxQ01_01\\n', '\\n', 'xxQ01_00 xxbob Dear Ms. Ober:\\n', 'xxeob xxQ01_01\\n', '\\n', 'xxQ01_00 xxbob Your letter of February 3 was received by this\\n', 'office yesterday. We attempted to reach you by\\n', 'telephone immedi...</td>\n",
              "      <td>NaN</td>\n",
              "      <td>NaN</td>\n",
              "    </tr>\n",
              "    <tr>\n",
              "      <th>4</th>\n",
              "      <td>NextPage</td>\n",
              "      <td>In the meantime, I hope you and your friends are continuing to enjoy your Marlboro Lights ciga-rettes. We don't think you can find a better\" cigarette on the market. ■Thank you. Ms. Angela Ober 221 Farnham Avenue New Haven, Connecticut 06515</td>\n",
              "      <td>['\\n', 'xxQ00_00 xxbob lo Snes\\n', 'xxeob xxQ00_00\\n', '\\n', 'xxQ05_00 xxbob  \\n', 'xxeob xxQ06_01\\n', '\\n', 'xxQ00_01 xxbob In. the meantime,\\n', 'I hope your\\n', 'Continuing you and friends\\n', 'to enjoy Marlboro are\\n', 'rettes. your Lights:\\n', \"We don't think ciga-\\n\", 'cigarette you can find better:\\n', 'xxbcet on the market, a\\n', 'xxecet\\n', '‘Thank you.\\n', 'xxeob xxQ01_03\\n', '\\n', 'xxQ01_02 xxbob Sincerely,\\n', 'xxeob xxQ01_02\\n', '\\n', 'xxQ01_02 xxbob  \\n', 'xxeob xxQ01_03\\n', '\\n', 'xxQ01_00 xxbob Ms. Angela Ober\\n', \"' _ 222. Farnham Avenue\\n\", 'xxeob xxQ02_01\\n', '\\n', 'xxQ0...</td>\n",
              "      <td>NaN</td>\n",
              "      <td>NaN</td>\n",
              "    </tr>\n",
              "    <tr>\n",
              "      <th>...</th>\n",
              "      <td>...</td>\n",
              "      <td>...</td>\n",
              "      <td>...</td>\n",
              "      <td>...</td>\n",
              "      <td>...</td>\n",
              "    </tr>\n",
              "    <tr>\n",
              "      <th>254</th>\n",
              "      <td>NextPage</td>\n",
              "      <td>Hr. Patrick Leathem Page Two November 14, 1990 When corresponding with this office, please include your claim number and the claimant*s ziame. Very truly yours PHILIP MORRIS MANAGEMENT CORP. Ellen Dimech Claims Coordinator cc:    David   Curie       Sue Strausser Colleen Flinn Cläre Pureeil 2063270105</td>\n",
              "      <td>['\\n', 'xxQ01_00 xxbob Mr. Patrick Leathem\\n', 'Page Two\\n', 'xxeob xxQ01_01\\n', '\\n', 'xxQ01_00 xxbob November 14, 1990\\n', 'xxeob xxQ01_01\\n', '\\n', 'xxQ02_00 xxbob When corresponding with this office, please include your claim number\\n', \"and the claimant's name.\\n\", 'xxeob xxQ02_03\\n', '\\n', 'xxQ02_01 xxbob Very truly yours,\\n', 'xxeob xxQ02_02\\n', '\\n', 'xxQ02_01 xxbob PHILIP MORRIS MANAGEMENT CORP.\\n', 'xxeob xxQ02_03\\n', '\\n', 'xxQ03_01 xxbob Mi humick\\n', 'xxeob xxQ03_02\\n', '\\n', 'xxQ03_01 xxbob Ellen Dimech\\n', 'Glaims Coordinator\\n', 'xxeob xxQ03_02\\n', '\\n', 'xxQ03_00 xxbob ee:...</td>\n",
              "      <td>Tobacco800</td>\n",
              "      <td>zrz94a00-page02_2</td>\n",
              "    </tr>\n",
              "    <tr>\n",
              "      <th>255</th>\n",
              "      <td>FirstPage</td>\n",
              "      <td>LAW OFFICES OF                   NIELSEN, MERKSAMER, HODGSON, PARRINELLO &amp; MUELLER                                              770 L STREET, SUITE 800 SACRAMENTO, CALIFORNIA 05814 TELEPHONE (916) 4*6-6752                                                    SACRAMENTO                                                 A PARTNERSHIP INCLUD1NG A PROFESSIONAL CORPORATION 591 REDWOOD HIGHWAY, #4000 MILL VALLEY, CALIFORNIA 94941 TELEPHONE (413) 369-6S00                                                  650 CALIFORNIA STREET SUITE 2650 SAN FRANCI5CO, CALIFORNIA 94108 TELEPHONE (415) 989-6800         ...</td>\n",
              "      <td>['\\n', 'xxQ00_01 xxbob xxbcet LAW OFFICES OF\\n', 'xxecet\\n', 'xxeob xxQ00_02\\n', '\\n', 'xxQ00_01 xxbob xxbcet NIELSEN, MERKSAMER,\\n', 'xxecet\\n', 'xxbcet HODGSON, PARRINELLO &amp; MUELLER\\n', 'xxecet\\n', 'xxeob xxQ00_02\\n', '\\n', 'xxQ00_00 xxbob xxbcet ‘PARTNERSHIP INCLUDING A PROFESSIONAL CORPORATION\\n', 'xxecet\\n', 'xxbcet SACRAMENTO 591 REDWOOD HIGHWAY, #4900 FRANCISCO SAN\\n', 'xxecet\\n', 'xxeob xxQ01_03\\n', '\\n', 'xxQ01_00 xxbob 770 L STREET, SUITE 800 MILL VALLEY, CALIFORNIA 94941 650 CALIFORNIA STREET, SUITE 2630\\n', 'SACRAMENTO, CALIFORNIA 95614 SAN FRANCISCO, CALIFORNIA 94108\\n', 'TELE...</td>\n",
              "      <td>Tobacco800</td>\n",
              "      <td>zss86d00</td>\n",
              "    </tr>\n",
              "    <tr>\n",
              "      <th>256</th>\n",
              "      <td>FirstPage</td>\n",
              "      <td>/  Wachtell, Ljpton, Rosen &amp; Katz WABTIN UFTON HERBERT M. WACMTCU TH£OBOR£ BEWERT* S£ft*t*3?G W. NUSSBAUM RiCHA.RD O- .HAT CH ER UGUGtAS S, UEBHAF5XY STEVEN M. 0ARWA CH AI« J, FORTGANG PETEJ5 C, GANELLÜS MiCHA^L W. SCHWAftTZ AiLAM A, MABT)H ÖARfly A*BRTEH LAW” EM CE B» FEÜOWITZ ROBERT e. MAZÜR PAUL VtZCARRONOB, JR, PETER C- HEt*S HAROLD 3~ «OVJKCfF DAVID ti, SENHOR» KENNETH B&gt; DORREST MEYER KOPLÜW THEODORE ävL MIRVIS EOWAR3 i*. HCSUHY RICHARD Q- FEINTUCH A&gt; «EFF ERtO M. ROTH WARRCN Rc STER« ANQREW R. flflOWNSTEi« MICHAEL H- BTOWIT1 RAUL #4. ROWE MICHAS B. BECHER MARC WOimSÄY OAVJO &lt;5 RU E...</td>\n",
              "      <td>['\\n', 'xxQ00_00 xxbob MARTIN LISTON\\n', 'HREABERT 6. WACHTEL\\n', 'TREGDORE GEWERTZ\\n', 'BERNARD W, NUSSBAUM\\n', 'RICHARD 0. KaTCHER\\n', 'DOUGLAS S. LIEBHAFSKY\\n', 'STEVEN M. BARNA\\n', 'CHAIM J. FORTGANG\\n', 'PETLR S CANELLOS\\n', 'MICHAEL W. SCHWARTE\\n', 'ALLAN A. MARTIN\\n', 'BARRY A. BRIER\\n', 'LAWRENCE B, PEDOWITE,\\n', 'ROSERT &amp; MAZUR\\n', 'PAUL WIECARRONGS, Jf,\\n', 'PETER ©. HEHE\\n', 'HARQLO S. ROWKOFF\\n', 'DAVIO 1, EINHORN\\n', 'KENNETH &amp; FORREST\\n', 'MEYER G. ROPLONW\\n', 'THEODORE M,. MIRNIS\\n', 'EDWARD &amp; HERLIHY\\n', 'RICHARD G. FEINTUCH\\n', 'BANIEL A, EFF\\n', 'ERc ¥. ROTH\\n', 'WARREN R...</td>\n",
              "      <td>Tobacco800</td>\n",
              "      <td>ztz52d00-page02_1</td>\n",
              "    </tr>\n",
              "    <tr>\n",
              "      <th>257</th>\n",
              "      <td>NextPage</td>\n",
              "      <td>Wachtell, Ufton, Rosen                                                          •§ Steve Berman, Esq. February 16,1999 Page 2                As we have an executed fee payment for the State of Nevada, and in view of the fact that Hägens Berman is the only firm listed for the State of Nevada on Exhibit S, we will review that Submission at this time.                 If you have any questions about the foregoing, please feel free to give me a calL Very truly yours?</td>\n",
              "      <td>['\\n', 'xxQ00_00 xxbob « rosen@istz = @\\n', '¥ °° WAGHTELL, LIPTON,\\n', 'xxeob xxQ00_02\\n', '\\n', 'xxQ00_00 xxbob Steve Berman, Esq.\\n', \"'\\n\", 'February 16, 1999\\n', 'Page 2\\n', 'xxeob xxQ00_01\\n', '\\n', 'xxQ01_00 xxbob As we have an executed fee payment for the State of Nevada, and in view of the\\n', 'fact that Hagens Berman is the only firm listed for the State of Nevada on Exhibit 5, we will re-\\n', 'xxeob xxQ01_03\\n', '\\n', 'xxQ01_00 xxbob view that submission at this time.\\n', 'xxeob xxQ01_01\\n', '\\n', 'xxQ01_00 xxbob Ifyou have any questions about the foregoing, please feel free to ...</td>\n",
              "      <td>Tobacco800</td>\n",
              "      <td>ztz52d00-page02_2</td>\n",
              "    </tr>\n",
              "    <tr>\n",
              "      <th>258</th>\n",
              "      <td>FirstPage</td>\n",
              "      <td>L                                                     John T. Landry                                                 •*OUP VtCC MCSIDCMT DIRCCTOft Or MAItftCT INC‘TOBACCO PHILIP MORRIS                USA. 100 PARK AVENUE,NEW YORK,N.Y. 10017                             November 19, 1970 Dear Mr. Gilmovsky: Your letter to Mr. George Weissman of November 9 has been forwarded to this Office. We would certainly be interested in dis-cussing your proposai on advertising to ethnic groups. In this connection, I suggest you contact Mr. James Thompson, Media Manager and Mr. Clifford Wilmot, Director ...</td>\n",
              "      <td>['\\n', 'xxQ00_00 xxbob ee\\n', 'oer\\n', 'xxeob xxQ00_00\\n', '\\n', 'xxQ00_01 xxbob PHILIP MORRIS\\n', 'xxeob xxQ00_02\\n', '\\n', 'xxQ00_01 xxbob UB.A,\\n', '100 PARK AVENUE,NEW YORK,N.Y, 10017\\n', 'xxeob xxQ00_02\\n', '\\n', 'xxQ01_00 xxbob xxbcet Joxun T. LANDRY\\n', 'xxecet\\n', 'xxbcet GROUP VICE PRESIDENT\\n', 'xxecet\\n', 'DIRECTOR OF MARKETING-TOBACCO\\n', 'xxeob xxQ01_01\\n', '\\n', 'xxQ01_02 xxbob November 19, 1970\\n', 'xxeob xxQ01_03\\n', '\\n', 'xxQ02_01 xxbob Dear Mr. Gilmovsky:\\n', 'xxeob xxQ02_02\\n', '\\n', 'xxQ02_01 xxbob Your letter to Mr. George Weissman of\\n', 'November 9 has been forwarde...</td>\n",
              "      <td>Tobacco800</td>\n",
              "      <td>zvs17e00</td>\n",
              "    </tr>\n",
              "  </tbody>\n",
              "</table>\n",
              "<p>1290 rows × 5 columns</p>\n",
              "</div>"
            ],
            "text/plain": [
              "         class  \\\n",
              "0    FirstPage   \n",
              "1     NextPage   \n",
              "2    FirstPage   \n",
              "3    FirstPage   \n",
              "4     NextPage   \n",
              "..         ...   \n",
              "254   NextPage   \n",
              "255  FirstPage   \n",
              "256  FirstPage   \n",
              "257   NextPage   \n",
              "258  FirstPage   \n",
              "\n",
              "                                                                                                                                                                                                                                                                                                                                                                                                                                                                                                                                                                                                                        text  \\\n",
              "0    Dr. M.A. Manzelli, PHILIP MORRIS INC., Research Center, P.O. Box 3 D Richmond, Va. 23206 U.S.A. Dear Art, Please find enclosed a proposed program for your visit in Europe. As you will see, this program contains two major points:  a)    A two-days meeting in Neuchätel with all people in Europe involved in infestation control (proposed program included).  b)    Visit of all PM Europe production centers with the purpose of:        - training people in Charge of the insect indenti-fication        - inspection of the sanitary conditions One of our main problems is the insect Identification and ...   \n",
              "1                                                                                                                                                                                                                                                                                                                                                                                                                              - 2 - Please let me krow if you have any changes for the proposed program. Looking forward to seeing you again, cc:    Messrs.  B.  Kuhn                 E. Stoop Encl.: mentioned 1000035625   \n",
              "2    I NOIJ-04-97    13 = 25 FROM = I D : PAGE 10/17 Wachtell, Lipton, Rosen & Katz MARTIN L1PTON HERBERT M. WaCHYCLL THEODORE GEWSRTZ »ERNA*» W, NUSSBAUM RICHARD O- HATCHER DOUGLAS Sr LieBKAfSKV STEVEN M. SAR NA CMARt.CS T. MEPCRR'GK CHAIN J. FOPTCANG pBTRR C. 1AMCLLDS MICHAEL w. SCHWÄRT* Al.LAR A- MARTIN BARRV A. BRrCR IAWREHCE □. PEDQrWITZ ROBERT 0. MAZUR PAUL VIZGARRÖMSCK JR. PCTCR G- HCIM hAROlD s. «OViKOFF DAVID M. EINHORN KENNET« B. FQRREST METER C. KOPLOW THEODORE M- MIRVIS EDWARD D. MERL1HT RICHARD D. FEINTUCH DANIEL A. NEPP ERIC M. ROTR WAHREN R. STERN ANDREW R. BROWN ST EIN MICHAEL H...   \n",
              "3    i PHILIP .MORRIS         INCORPORATED 120 PARK AVENUE, N EW YORK. N. Y. 10017 John T.-Landhy SENIOR VICC PRESIDENT                                                         _ ,                    r     . n n - . oirector of Marketing                                                         February 15, 19 83 Dear Ms. Ober: Your letter of February 3 was received by this Office yesterday. We attempted to reach you by telephone iinmediately but were unable to find a listed number in New Haven. I had hoped to arrange an appointment for one of our executives to discuss with you and your concerned ...   \n",
              "4                                                                                                                                                                                                                                                                                                                                                                          In the meantime, I hope you and your friends are continuing to enjoy your Marlboro Lights ciga-rettes. We don't think you can find a better\" cigarette on the market. ■Thank you. Ms. Angela Ober 221 Farnham Avenue New Haven, Connecticut 06515   \n",
              "..                                                                                                                                                                                                                                                                                                                                                                                                                                                                                                                                                                                                                       ...   \n",
              "254                                                                                                                                                                                                                                                                                                           Hr. Patrick Leathem Page Two November 14, 1990 When corresponding with this office, please include your claim number and the claimant*s ziame. Very truly yours PHILIP MORRIS MANAGEMENT CORP. Ellen Dimech Claims Coordinator cc:    David   Curie       Sue Strausser Colleen Flinn Cläre Pureeil 2063270105   \n",
              "255  LAW OFFICES OF                   NIELSEN, MERKSAMER, HODGSON, PARRINELLO & MUELLER                                              770 L STREET, SUITE 800 SACRAMENTO, CALIFORNIA 05814 TELEPHONE (916) 4*6-6752                                                    SACRAMENTO                                                 A PARTNERSHIP INCLUD1NG A PROFESSIONAL CORPORATION 591 REDWOOD HIGHWAY, #4000 MILL VALLEY, CALIFORNIA 94941 TELEPHONE (413) 369-6S00                                                  650 CALIFORNIA STREET SUITE 2650 SAN FRANCI5CO, CALIFORNIA 94108 TELEPHONE (415) 989-6800         ...   \n",
              "256   /  Wachtell, Ljpton, Rosen & Katz WABTIN UFTON HERBERT M. WACMTCU TH£OBOR£ BEWERT* S£ft*t*3?G W. NUSSBAUM RiCHA.RD O- .HAT CH ER UGUGtAS S, UEBHAF5XY STEVEN M. 0ARWA CH AI« J, FORTGANG PETEJ5 C, GANELLÜS MiCHA^L W. SCHWAftTZ AiLAM A, MABT)H ÖARfly A*BRTEH LAW” EM CE B» FEÜOWITZ ROBERT e. MAZÜR PAUL VtZCARRONOB, JR, PETER C- HEt*S HAROLD 3~ «OVJKCfF DAVID ti, SENHOR» KENNETH B> DORREST MEYER KOPLÜW THEODORE ävL MIRVIS EOWAR3 i*. HCSUHY RICHARD Q- FEINTUCH A> «EFF ERtO M. ROTH WARRCN Rc STER« ANQREW R. flflOWNSTEi« MICHAEL H- BTOWIT1 RAUL #4. ROWE MICHAS B. BECHER MARC WOimSÄY OAVJO <5 RU E...   \n",
              "257                                                                                                                                       Wachtell, Ufton, Rosen                                                          •§ Steve Berman, Esq. February 16,1999 Page 2                As we have an executed fee payment for the State of Nevada, and in view of the fact that Hägens Berman is the only firm listed for the State of Nevada on Exhibit S, we will review that Submission at this time.                 If you have any questions about the foregoing, please feel free to give me a calL Very truly yours?   \n",
              "258  L                                                     John T. Landry                                                 •*OUP VtCC MCSIDCMT DIRCCTOft Or MAItftCT INC‘TOBACCO PHILIP MORRIS                USA. 100 PARK AVENUE,NEW YORK,N.Y. 10017                             November 19, 1970 Dear Mr. Gilmovsky: Your letter to Mr. George Weissman of November 9 has been forwarded to this Office. We would certainly be interested in dis-cussing your proposai on advertising to ethnic groups. In this connection, I suggest you contact Mr. James Thompson, Media Manager and Mr. Clifford Wilmot, Director ...   \n",
              "\n",
              "                                                                                                                                                                                                                                                                                                                                                                                                                                                                                                                                                                                                                   text_tags  \\\n",
              "0    ['\\n', 'xxQ00_01 xxbob  \\n', 'xxeob xxQ00_02\\n', '\\n', 'xxQ00_01 xxbob PHILIP MORRIS\\n', 'xxeob xxQ00_02\\n', '\\n', 'xxQ00_01 xxbob EUROPE MIDDLE EAST AFRICA\\n', 'xxeob xxQ00_02\\n', '\\n', 'xxQ00_01 xxbob RESEARCH AND DEVELOPMENT\\n', 'xxeob xxQ01_02\\n', '\\n', 'xxQ01_02 xxbob Neuchatel, duly 14, 1977\\n', 'xxeob xxQ01_03\\n', '\\n', 'xxQ01_01 xxbob Dr. M.A. Manzelli,\\n', 'PHILIP MORRIS INC.,\\n', 'Research Center,\\n', 'P.O. Box 3 D\\n', 'Richmond, Va. 23206\\n', 'U.S.A. .\\n', 'xxeob xxQ02_01\\n', '\\n', 'xxQ02_01 xxbob Dear Art,\\n', 'xxeob xxQ02_01\\n', '\\n', 'xxQ03_01 xxbob xxbcet Please proposed pro...   \n",
              "1    ['\\n', 'xxQ00_00 xxbob Please let krow if you have any changes for the proposed\\n', 'me\\n', 'program.\\n', 'xxeob xxQ01_03\\n', '\\n', 'xxQ01_00 xxbob Looking forward to seeing you again,\\n', 'xxeob xxQ01_02\\n', '\\n', 'xxQ01_02 xxbob Yours very truly,\\n', '_.\\n', 'xxeob xxQ01_03\\n', '\\n', 'xxQ01_02 xxbob xxbcet    \\n', 'xxecet\\n', 'xxeob xxQ02_03\\n', '\\n', 'xxQ02_02 xxbob .B. Boder\\n', 'xxeob xxQ02_03\\n', '\\n', 'xxQ02_00 xxbob cc: Messrs. B. Kuhn\\n', 'xxbcet E. Stoop\\n', 'xxecet\\n', 'xxeob xxQ02_01\\n', '\\n', 'xxQ02_00 xxbob Encl.: mentioned\\n', 'xxeob xxQ03_01\\n', '\\n', 'xxQ04_01 xxbob we\\n',...   \n",
              "2    ['\\n', 'xxQ00_00 xxbob NOU-04-87 15:26 FROM:\\n', 'e\\n', 'xxeob xxQ00_01\\n', '\\n', 'xxQ00_00 xxbob MARTIN LIPTON\\n', 'MERBERY ot waAcHTELL\\n', 'TNROPORE GGWERTZ\\n', 'BEAWARD W. NUSSRAUM\\n', 'RIGMARD D. KATOKER\\n', 'COUCLAT Fr MERHAPEKY\\n', 'STEVEN M. GARNA\\n', 'CMARLES T. MEDERRICK\\n', 'SAIN y. FORTEANG\\n', 'PeveR &. CANCLLOS\\n', 'HIGMASR We SCRWARTE\\n', 'ALLAN A. MARTIN\\n', 'BARRY 4. BRYER\\n', 'LAWRENCE 5. PEDOWITZ\\n', 'ROBERT ©. haZUR\\n', 'PAUL VIZGARRONDG, J.\\n', 'PRIGR G. MEIN\\n', 'MARGLD & HOVIKOFF\\n', 'DAVID H. EERHORK\\n', 'KENNETH B. PORREST\\n', 'KEYER ¢. KOPLOW\\n', 'THEODORE N. MIRV...   \n",
              "3    ['\\n', 'xxQ00_00 xxbob ee\\n', 'xxeob xxQ00_00\\n', '\\n', 'xxQ00_01 xxbob PHILIP MORRIS\\n', 'xxeob xxQ00_02\\n', '\\n', 'xxQ00_01 xxbob INCORPORATED\\n', '120 PARK AVENUE, NEW YORK.N. ¥. 10017\\n', 'xxeob xxQ00_02\\n', '\\n', 'xxQ00_00 xxbob Joun T.-Lanpry\\n', 'xxbcet ee or ne February 15, 1983~\\n', 'xxecet\\n', 'xxeob xxQ01_03\\n', '\\n', 'xxQ01_00 xxbob DIRECTOR OF MARKETING\\n', 'xxeob xxQ01_01\\n', '\\n', 'xxQ01_00 xxbob Dear Ms. Ober:\\n', 'xxeob xxQ01_01\\n', '\\n', 'xxQ01_00 xxbob Your letter of February 3 was received by this\\n', 'office yesterday. We attempted to reach you by\\n', 'telephone immedi...   \n",
              "4    ['\\n', 'xxQ00_00 xxbob lo Snes\\n', 'xxeob xxQ00_00\\n', '\\n', 'xxQ05_00 xxbob  \\n', 'xxeob xxQ06_01\\n', '\\n', 'xxQ00_01 xxbob In. the meantime,\\n', 'I hope your\\n', 'Continuing you and friends\\n', 'to enjoy Marlboro are\\n', 'rettes. your Lights:\\n', \"We don't think ciga-\\n\", 'cigarette you can find better:\\n', 'xxbcet on the market, a\\n', 'xxecet\\n', '‘Thank you.\\n', 'xxeob xxQ01_03\\n', '\\n', 'xxQ01_02 xxbob Sincerely,\\n', 'xxeob xxQ01_02\\n', '\\n', 'xxQ01_02 xxbob  \\n', 'xxeob xxQ01_03\\n', '\\n', 'xxQ01_00 xxbob Ms. Angela Ober\\n', \"' _ 222. Farnham Avenue\\n\", 'xxeob xxQ02_01\\n', '\\n', 'xxQ0...   \n",
              "..                                                                                                                                                                                                                                                                                                                                                                                                                                                                                                                                                                                                                       ...   \n",
              "254  ['\\n', 'xxQ01_00 xxbob Mr. Patrick Leathem\\n', 'Page Two\\n', 'xxeob xxQ01_01\\n', '\\n', 'xxQ01_00 xxbob November 14, 1990\\n', 'xxeob xxQ01_01\\n', '\\n', 'xxQ02_00 xxbob When corresponding with this office, please include your claim number\\n', \"and the claimant's name.\\n\", 'xxeob xxQ02_03\\n', '\\n', 'xxQ02_01 xxbob Very truly yours,\\n', 'xxeob xxQ02_02\\n', '\\n', 'xxQ02_01 xxbob PHILIP MORRIS MANAGEMENT CORP.\\n', 'xxeob xxQ02_03\\n', '\\n', 'xxQ03_01 xxbob Mi humick\\n', 'xxeob xxQ03_02\\n', '\\n', 'xxQ03_01 xxbob Ellen Dimech\\n', 'Glaims Coordinator\\n', 'xxeob xxQ03_02\\n', '\\n', 'xxQ03_00 xxbob ee:...   \n",
              "255  ['\\n', 'xxQ00_01 xxbob xxbcet LAW OFFICES OF\\n', 'xxecet\\n', 'xxeob xxQ00_02\\n', '\\n', 'xxQ00_01 xxbob xxbcet NIELSEN, MERKSAMER,\\n', 'xxecet\\n', 'xxbcet HODGSON, PARRINELLO & MUELLER\\n', 'xxecet\\n', 'xxeob xxQ00_02\\n', '\\n', 'xxQ00_00 xxbob xxbcet ‘PARTNERSHIP INCLUDING A PROFESSIONAL CORPORATION\\n', 'xxecet\\n', 'xxbcet SACRAMENTO 591 REDWOOD HIGHWAY, #4900 FRANCISCO SAN\\n', 'xxecet\\n', 'xxeob xxQ01_03\\n', '\\n', 'xxQ01_00 xxbob 770 L STREET, SUITE 800 MILL VALLEY, CALIFORNIA 94941 650 CALIFORNIA STREET, SUITE 2630\\n', 'SACRAMENTO, CALIFORNIA 95614 SAN FRANCISCO, CALIFORNIA 94108\\n', 'TELE...   \n",
              "256  ['\\n', 'xxQ00_00 xxbob MARTIN LISTON\\n', 'HREABERT 6. WACHTEL\\n', 'TREGDORE GEWERTZ\\n', 'BERNARD W, NUSSBAUM\\n', 'RICHARD 0. KaTCHER\\n', 'DOUGLAS S. LIEBHAFSKY\\n', 'STEVEN M. BARNA\\n', 'CHAIM J. FORTGANG\\n', 'PETLR S CANELLOS\\n', 'MICHAEL W. SCHWARTE\\n', 'ALLAN A. MARTIN\\n', 'BARRY A. BRIER\\n', 'LAWRENCE B, PEDOWITE,\\n', 'ROSERT & MAZUR\\n', 'PAUL WIECARRONGS, Jf,\\n', 'PETER ©. HEHE\\n', 'HARQLO S. ROWKOFF\\n', 'DAVIO 1, EINHORN\\n', 'KENNETH & FORREST\\n', 'MEYER G. ROPLONW\\n', 'THEODORE M,. MIRNIS\\n', 'EDWARD & HERLIHY\\n', 'RICHARD G. FEINTUCH\\n', 'BANIEL A, EFF\\n', 'ERc ¥. ROTH\\n', 'WARREN R...   \n",
              "257  ['\\n', 'xxQ00_00 xxbob « rosen@istz = @\\n', '¥ °° WAGHTELL, LIPTON,\\n', 'xxeob xxQ00_02\\n', '\\n', 'xxQ00_00 xxbob Steve Berman, Esq.\\n', \"'\\n\", 'February 16, 1999\\n', 'Page 2\\n', 'xxeob xxQ00_01\\n', '\\n', 'xxQ01_00 xxbob As we have an executed fee payment for the State of Nevada, and in view of the\\n', 'fact that Hagens Berman is the only firm listed for the State of Nevada on Exhibit 5, we will re-\\n', 'xxeob xxQ01_03\\n', '\\n', 'xxQ01_00 xxbob view that submission at this time.\\n', 'xxeob xxQ01_01\\n', '\\n', 'xxQ01_00 xxbob Ifyou have any questions about the foregoing, please feel free to ...   \n",
              "258  ['\\n', 'xxQ00_00 xxbob ee\\n', 'oer\\n', 'xxeob xxQ00_00\\n', '\\n', 'xxQ00_01 xxbob PHILIP MORRIS\\n', 'xxeob xxQ00_02\\n', '\\n', 'xxQ00_01 xxbob UB.A,\\n', '100 PARK AVENUE,NEW YORK,N.Y, 10017\\n', 'xxeob xxQ00_02\\n', '\\n', 'xxQ01_00 xxbob xxbcet Joxun T. LANDRY\\n', 'xxecet\\n', 'xxbcet GROUP VICE PRESIDENT\\n', 'xxecet\\n', 'DIRECTOR OF MARKETING-TOBACCO\\n', 'xxeob xxQ01_01\\n', '\\n', 'xxQ01_02 xxbob November 19, 1970\\n', 'xxeob xxQ01_03\\n', '\\n', 'xxQ02_01 xxbob Dear Mr. Gilmovsky:\\n', 'xxeob xxQ02_02\\n', '\\n', 'xxQ02_01 xxbob Your letter to Mr. George Weissman of\\n', 'November 9 has been forwarde...   \n",
              "\n",
              "         binder              docid  \n",
              "0           NaN                NaN  \n",
              "1           NaN                NaN  \n",
              "2           NaN                NaN  \n",
              "3           NaN                NaN  \n",
              "4           NaN                NaN  \n",
              "..          ...                ...  \n",
              "254  Tobacco800  zrz94a00-page02_2  \n",
              "255  Tobacco800           zss86d00  \n",
              "256  Tobacco800  ztz52d00-page02_1  \n",
              "257  Tobacco800  ztz52d00-page02_2  \n",
              "258  Tobacco800           zvs17e00  \n",
              "\n",
              "[1290 rows x 5 columns]"
            ]
          },
          "metadata": {},
          "execution_count": 26
        }
      ]
    },
    {
      "cell_type": "markdown",
      "metadata": {
        "id": "ZeBPsp4qwGGO"
      },
      "source": [
        "##Validation"
      ]
    },
    {
      "cell_type": "code",
      "metadata": {
        "id": "waKIAp-xE3c7",
        "colab": {
          "base_uri": "https://localhost:8080/",
          "height": 72
        },
        "outputId": "b3319245-1ce0-43bc-b4b1-ee3054297e6d"
      },
      "source": [
        "# create dataloader of test\n",
        "dblock_test = DataBlock(\n",
        "    blocks=(TextBlock.from_df('text', seq_len=72), CategoryBlock),\n",
        "            get_x=get_features, \n",
        "            get_y=get_labels)\n",
        "\n",
        "dloader_test = dblock_test.dataloaders(df_test, bs=64)"
      ],
      "execution_count": 27,
      "outputs": [
        {
          "output_type": "display_data",
          "data": {
            "text/html": [
              ""
            ],
            "text/plain": [
              "<IPython.core.display.HTML object>"
            ]
          },
          "metadata": {}
        },
        {
          "output_type": "stream",
          "name": "stderr",
          "text": [
            "/usr/local/lib/python3.7/dist-packages/numpy/core/_asarray.py:83: VisibleDeprecationWarning: Creating an ndarray from ragged nested sequences (which is a list-or-tuple of lists-or-tuples-or ndarrays with different lengths or shapes) is deprecated. If you meant to do this, you must specify 'dtype=object' when creating the ndarray\n",
            "  return array(a, dtype, copy=False, order=order)\n"
          ]
        }
      ]
    },
    {
      "cell_type": "code",
      "metadata": {
        "colab": {
          "base_uri": "https://localhost:8080/",
          "height": 17
        },
        "id": "wBzoH7EXwKAs",
        "outputId": "7342df6a-3827-42cd-df5d-3af85489b747"
      },
      "source": [
        "test_dl = dloader_test.test_dl(df_test['text'])\n",
        "preds = learn.get_preds(dl=test_dl, with_decoded=True)"
      ],
      "execution_count": 28,
      "outputs": [
        {
          "output_type": "display_data",
          "data": {
            "text/html": [
              ""
            ],
            "text/plain": [
              "<IPython.core.display.HTML object>"
            ]
          },
          "metadata": {}
        }
      ]
    },
    {
      "cell_type": "code",
      "metadata": {
        "colab": {
          "base_uri": "https://localhost:8080/"
        },
        "id": "fkQfP9UMxldD",
        "outputId": "56205f9a-4437-4c0b-eadf-48eb9d11b0a9"
      },
      "source": [
        "len(preds)"
      ],
      "execution_count": 29,
      "outputs": [
        {
          "output_type": "execute_result",
          "data": {
            "text/plain": [
              "3"
            ]
          },
          "metadata": {},
          "execution_count": 29
        }
      ]
    },
    {
      "cell_type": "code",
      "metadata": {
        "colab": {
          "base_uri": "https://localhost:8080/",
          "height": 34
        },
        "id": "OgzX13eIxtBx",
        "outputId": "da5ab851-d761-4d09-dead-d3a3355da139"
      },
      "source": [
        "learn.validate()"
      ],
      "execution_count": 30,
      "outputs": [
        {
          "output_type": "display_data",
          "data": {
            "text/html": [
              ""
            ],
            "text/plain": [
              "<IPython.core.display.HTML object>"
            ]
          },
          "metadata": {}
        },
        {
          "output_type": "execute_result",
          "data": {
            "text/plain": [
              "(#4) [0.29752275347709656,0.10194174945354462,0.8980582356452942,1.3465189933776855]"
            ]
          },
          "metadata": {},
          "execution_count": 30
        }
      ]
    },
    {
      "cell_type": "code",
      "metadata": {
        "colab": {
          "base_uri": "https://localhost:8080/",
          "height": 310
        },
        "id": "bHesn7ECz5Zk",
        "outputId": "c4f71cb4-d66e-4c1e-fac0-7f328b3e9dde"
      },
      "source": [
        "interp = ClassificationInterpretation.from_learner(learn)\n",
        "interp.plot_confusion_matrix()"
      ],
      "execution_count": 31,
      "outputs": [
        {
          "output_type": "display_data",
          "data": {
            "text/html": [
              ""
            ],
            "text/plain": [
              "<IPython.core.display.HTML object>"
            ]
          },
          "metadata": {}
        },
        {
          "output_type": "display_data",
          "data": {
            "image/png": "[encoded data removed]",
            "text/plain": [
              "<Figure size 432x288 with 1 Axes>"
            ]
          },
          "metadata": {
            "needs_background": "light"
          }
        }
      ]
    }
  ]
}